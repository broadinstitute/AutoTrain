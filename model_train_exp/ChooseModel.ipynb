{
 "cells": [
  {
   "cell_type": "code",
   "execution_count": 49,
   "metadata": {},
   "outputs": [],
   "source": [
    "import torch\n",
    "import torchvision\n",
    "import torchvision.transforms as T\n",
    "import torchvision.models as models\n",
    "\n",
    "\n",
    "import torch.nn as nn\n",
    "import torch.nn.functional as F\n",
    "import torch.optim as optim\n",
    "from torch.distributions.laplace import Laplace\n",
    "import numpy as np\n",
    "import matplotlib.pyplot as plt\n",
    "\n",
    "from tqdm.notebook import  tqdm\n",
    "import seaborn as sns\n",
    "import pickle as pkl\n",
    "from pathlib import Path\n",
    "from functools import partial"
   ]
  },
  {
   "cell_type": "code",
   "execution_count": 50,
   "metadata": {},
   "outputs": [],
   "source": [
    "DATA_ROOT = Path('../data')\n",
    "DATA_SPLIT = 0.6\n",
    "DEVICE = torch.device(\"cuda:3\")\n",
    "BATCH_SIZE = 12\n",
    "\n",
    "def ARCH():\n",
    "    m = models.resnet18(pretrained=False)\n",
    "    m.fc = nn.Linear(512, len(CLASSES))\n",
    "    return m"
   ]
  },
  {
   "cell_type": "code",
   "execution_count": 8,
   "metadata": {},
   "outputs": [
    {
     "data": {
      "text/plain": [
       "True"
      ]
     },
     "execution_count": 8,
     "metadata": {},
     "output_type": "execute_result"
    }
   ],
   "source": [
    "torch.cuda.is_available()"
   ]
  },
  {
   "cell_type": "markdown",
   "metadata": {},
   "source": [
    "# DATA & MODEL"
   ]
  },
  {
   "cell_type": "markdown",
   "metadata": {},
   "source": [
    "## Data Prep"
   ]
  },
  {
   "cell_type": "code",
   "execution_count": 5,
   "metadata": {},
   "outputs": [],
   "source": [
    "CLASSES = ('plane', 'car', 'bird', 'cat',\n",
    "           'deer', 'dog', 'frog', 'horse', 'ship', 'truck')"
   ]
  },
  {
   "cell_type": "code",
   "execution_count": 18,
   "metadata": {},
   "outputs": [],
   "source": [
    "def splitds(train, test):\n",
    "    X = np.concatenate((train.data,test.data), axis=0)\n",
    "    Y = train.targets + test.targets\n",
    "    \n",
    "    split_id = int(len(X) * DATA_SPLIT)\n",
    "    train.data, train.targets = X[:split_id], Y[:split_id]\n",
    "    test.data, test.targets = X[split_id:], Y[split_id:]\n"
   ]
  },
  {
   "cell_type": "code",
   "execution_count": 19,
   "metadata": {},
   "outputs": [],
   "source": [
    "def get_dataset(tfms):\n",
    "    trainset = torchvision.datasets.CIFAR10(root=DATA_ROOT / 'cifar-10-data', train=True,\n",
    "                                        download=True, transform=tfms)\n",
    "\n",
    "    testset = torchvision.datasets.CIFAR10(root=DATA_ROOT / 'cifar-10-data', train=False,\n",
    "                                           download=True, transform=tfms)\n",
    "    \n",
    "    splitds(trainset, testset)\n",
    "    \n",
    "    trainloader = torch.utils.data.DataLoader(trainset, batch_size=BATCH_SIZE,\n",
    "                                              shuffle=True, num_workers=2)\n",
    "\n",
    "    holdoutloader = torch.utils.data.DataLoader(testset, batch_size=BATCH_SIZE,\n",
    "                                             shuffle=False, num_workers=2)\n",
    "    \n",
    "    \n",
    "    return trainloader, holdoutloader "
   ]
  },
  {
   "cell_type": "code",
   "execution_count": 20,
   "metadata": {},
   "outputs": [
    {
     "name": "stdout",
     "output_type": "stream",
     "text": [
      "Files already downloaded and verified\n",
      "Files already downloaded and verified\n"
     ]
    }
   ],
   "source": [
    "normalize = T.Normalize(mean=[0.485, 0.456, 0.406],\n",
    "                                 std=[0.229, 0.224, 0.225])\n",
    "TFMS = T.Compose([T.Resize(256), T.CenterCrop(224), T.ToTensor(), normalize])\n",
    "\n",
    "train, holdout = get_dataset(TFMS)"
   ]
  },
  {
   "cell_type": "code",
   "execution_count": 24,
   "metadata": {},
   "outputs": [
    {
     "data": {
      "text/plain": [
       "(36000, 24000)"
      ]
     },
     "execution_count": 24,
     "metadata": {},
     "output_type": "execute_result"
    }
   ],
   "source": [
    "len(train)*BATCH_SIZE,len(holdout)*BATCH_SIZE"
   ]
  },
  {
   "cell_type": "markdown",
   "metadata": {},
   "source": [
    "## MODEL"
   ]
  },
  {
   "cell_type": "code",
   "execution_count": 46,
   "metadata": {},
   "outputs": [],
   "source": [
    "INIT_METHODS = [nn.init.xavier_uniform_, nn.init.xavier_normal_, \\\n",
    "                nn.init.kaiming_uniform_, nn.init.kaiming_normal_]\n",
    "\n",
    "def init_weights(m, init=nn.init.xavier_uniform):\n",
    "    if type(m) == nn.Linear:\n",
    "        init(m.weight)\n",
    "        m.bias.data.fill_(0.01)\n",
    "        \n",
    "def init_model(model):\n",
    "    func = np.random.choice(INIT_METHODS)\n",
    "    model.apply(partial(init_weights, init=func))"
   ]
  },
  {
   "cell_type": "code",
   "execution_count": 95,
   "metadata": {},
   "outputs": [],
   "source": [
    "class WeightHistory:\n",
    "    \"\"\"\n",
    "    the idea is to create a folder and keep wieghts there as opposed to memory\n",
    "    \"\"\"\n",
    "\n",
    "    \n",
    "    def __init__(self, length, savedir):\n",
    "        self.len = length\n",
    "        self.savedir = savedir\n",
    "        \n",
    "        if not savedir.exists():\n",
    "            savedir.mkdir()\n",
    "            \n",
    "    \n",
    "    def save_weights(self, individual, glob_step):\n",
    "        path = self.savedir / f'model_checkpoint_{idx}.cpt'\n",
    "        torch.save({\n",
    "            'glob_step': glob_step,\n",
    "            'model_state_dict': individual.model.state_dict(),\n",
    "            'opt_state_dict': individual.opt.state_dict(),\n",
    "        }, path) \n",
    "        \n",
    "    def restore_weights(self, individual, idx):\n",
    "        path = self.savedir / f'model_checkpoint_{idx}.cpt'\n",
    "        checkpoint = torch.load(path)\n",
    "        \n",
    "        individual.model.load_state_dict(checkpoint['model_state_dict'])\n",
    "        individual.opt.load_state_dict(checkpoint['opt_state_dict'])\n",
    "    \n",
    "    \n",
    "\n"
   ]
  },
  {
   "cell_type": "markdown",
   "metadata": {},
   "source": [
    "## THRESHOLDOUT"
   ]
  },
  {
   "cell_type": "code",
   "execution_count": 39,
   "metadata": {},
   "outputs": [],
   "source": [
    "class Thresholdout:\n",
    "    def __init__(self, train, holdout, tolerance=0.01/4, scale_factor=4, keep_log=True):\n",
    "        self.tolerance = tolerance\n",
    "        self.T = 4*tolerance\n",
    "        \n",
    "        self.eps = lambda: np.random.normal(0, 2*self.tolerance, 1)\n",
    "        self.gamma = lambda: np.random.normal(0, 4*self.tolerance, 1)\n",
    "        self.eta = lambda: np.random.normal(0, 8*self.tolerance, 1)\n",
    "\n",
    "        self.train = train\n",
    "        self.holdout = holdout\n",
    "        \n",
    "        \n",
    "    def verify(self, phi):\n",
    "        train_val = phi(self.train)\n",
    "        holdout_val = phi(self.holdout)\n",
    "                \n",
    "        delta = abs(train_val - holdout_val)\n",
    "        \n",
    "        if delta > self.T + self.eta():\n",
    "            return holdout_val + self.eps(), False\n",
    "        else:\n",
    "            return train_val, False\n",
    "        "
   ]
  },
  {
   "cell_type": "markdown",
   "metadata": {},
   "source": [
    "# EXP. ALGORITHM"
   ]
  },
  {
   "cell_type": "code",
   "execution_count": null,
   "metadata": {},
   "outputs": [],
   "source": [
    "WEIGHTS_ROOT = Path('./weightsh/')"
   ]
  },
  {
   "cell_type": "code",
   "execution_count": 91,
   "metadata": {},
   "outputs": [],
   "source": [
    "class individual:\n",
    "    def __init__(self, idx, K, T, savedir, lr=3e-4):\n",
    "        self.idx = idx\n",
    "        \n",
    "        self.model = ARCH()\n",
    "        init_model(self.model)\n",
    "        self.model.to(DEVICE)\n",
    "        \n",
    "        self.criterion = nn.CrossEntropyLoss()\n",
    "        self.opt = optim.Adam(self.model.parameters(), lr=lr)\n",
    "        self.history = WeightHistory(length=K, savedir=savedir)\n",
    "        \n",
    "        self.interval = T // K\n",
    "        \n",
    "    def train(self, data)\n",
    "        \n",
    "        self.model.train()\n",
    "        step = 0\n",
    "        while step < steps:\n",
    "            for i, batch in enumerate(data):\n",
    "\n",
    "                inputs, labels = batch[0].to(DEVICE), batch[1].to(DEVICE)\n",
    "                self.opt.zero_grad()\n",
    "\n",
    "                outputs = self.model(inputs)\n",
    "                loss = self.criterion(outputs, labels)\n",
    "                loss.backward()\n",
    "                self.opt.step()\n",
    "                \n",
    "                step += (i+1) * BATCH_SIZE\n",
    "                if step % self.interval == 0: # bug\n",
    "                    self.history.save_weights(self, step)\n",
    "                "
   ]
  },
  {
   "cell_type": "code",
   "execution_count": 92,
   "metadata": {},
   "outputs": [],
   "source": [
    "class TrainExperiment:\n",
    "    def __init__(self, train, holdout, weights_root, K=10, T=20_000):\n",
    "        \n",
    "        self.K = K\n",
    "        self.T = T\n",
    "        self.weights_root = weights_root\n",
    "        self.weights_root.mkdir(exist_ok=True)\n",
    "        \n",
    "        self.train = train\n",
    "        self.holdout = holdout\n",
    "        \n",
    "        self.tout = Thresholdout(self.train, self.holdout)\n",
    "\n",
    "        self.population = [individual(i, k=self.K, savedir=weights_root) for i in range(self.K)]\n",
    "        \n",
    "    def do_one_cycle(self):\n",
    "        \n",
    "        pass"
   ]
  },
  {
   "cell_type": "code",
   "execution_count": 93,
   "metadata": {},
   "outputs": [],
   "source": [
    "exp = TrainExperiment(train, holdout, weights_root=WEIGHTS_ROOT)"
   ]
  },
  {
   "cell_type": "code",
   "execution_count": null,
   "metadata": {},
   "outputs": [],
   "source": []
  }
 ],
 "metadata": {
  "kernelspec": {
   "display_name": "Python 3",
   "language": "python",
   "name": "python3"
  },
  "language_info": {
   "codemirror_mode": {
    "name": "ipython",
    "version": 3
   },
   "file_extension": ".py",
   "mimetype": "text/x-python",
   "name": "python",
   "nbconvert_exporter": "python",
   "pygments_lexer": "ipython3",
   "version": "3.7.3"
  }
 },
 "nbformat": 4,
 "nbformat_minor": 4
}

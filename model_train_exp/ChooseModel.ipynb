{
 "cells": [
  {
   "cell_type": "code",
   "execution_count": 1,
   "metadata": {},
   "outputs": [],
   "source": [
    "import torch\n",
    "import torchvision\n",
    "import torchvision.transforms as T\n",
    "import torchvision.models as models\n",
    "\n",
    "\n",
    "import torch.nn as nn\n",
    "import torch.nn.functional as F\n",
    "import torch.optim as optim\n",
    "from torch.distributions.laplace import Laplace\n",
    "import numpy as np\n",
    "import matplotlib.pyplot as plt\n",
    "\n",
    "from tqdm.notebook import  tqdm\n",
    "import seaborn as sns\n",
    "import pickle as pkl\n",
    "from pathlib import Path\n",
    "from functools import partial\n",
    "import pandas as pd"
   ]
  },
  {
   "cell_type": "code",
   "execution_count": 2,
   "metadata": {},
   "outputs": [],
   "source": [
    "DATA_ROOT = Path('../data')\n",
    "DATA_SPLIT = 0.6\n",
    "DEVICE = torch.device(\"cuda:3\")\n",
    "BATCH_SIZE = 12\n",
    "\n",
    "def ARCH():\n",
    "    m = models.resnet18(pretrained=False)\n",
    "    m.fc = nn.Linear(512, len(CLASSES))\n",
    "    return m"
   ]
  },
  {
   "cell_type": "code",
   "execution_count": 3,
   "metadata": {},
   "outputs": [
    {
     "data": {
      "text/plain": [
       "True"
      ]
     },
     "execution_count": 3,
     "metadata": {},
     "output_type": "execute_result"
    }
   ],
   "source": [
    "torch.cuda.is_available()"
   ]
  },
  {
   "cell_type": "markdown",
   "metadata": {},
   "source": [
    "# DATA & MODEL"
   ]
  },
  {
   "cell_type": "markdown",
   "metadata": {},
   "source": [
    "## Data Prep"
   ]
  },
  {
   "cell_type": "code",
   "execution_count": 4,
   "metadata": {},
   "outputs": [],
   "source": [
    "CLASSES = ('plane', 'car', 'bird', 'cat',\n",
    "           'deer', 'dog', 'frog', 'horse', 'ship', 'truck')"
   ]
  },
  {
   "cell_type": "code",
   "execution_count": 5,
   "metadata": {},
   "outputs": [],
   "source": [
    "def splitds(train, test):\n",
    "    X = np.concatenate((train.data,test.data), axis=0)\n",
    "    Y = train.targets + test.targets\n",
    "    \n",
    "    split_id = int(len(X) * DATA_SPLIT)\n",
    "    train.data, train.targets = X[:split_id], Y[:split_id]\n",
    "    test.data, test.targets = X[split_id:], Y[split_id:]\n"
   ]
  },
  {
   "cell_type": "code",
   "execution_count": 6,
   "metadata": {},
   "outputs": [],
   "source": [
    "def get_dataset(tfms):\n",
    "    trainset = torchvision.datasets.CIFAR10(root=DATA_ROOT / 'cifar-10-data', train=True,\n",
    "                                        download=True, transform=tfms)\n",
    "\n",
    "    testset = torchvision.datasets.CIFAR10(root=DATA_ROOT / 'cifar-10-data', train=False,\n",
    "                                           download=True, transform=tfms)\n",
    "    \n",
    "    splitds(trainset, testset)\n",
    "    \n",
    "    trainloader = torch.utils.data.DataLoader(trainset, batch_size=BATCH_SIZE,\n",
    "                                              shuffle=True, num_workers=2)\n",
    "\n",
    "    holdoutloader = torch.utils.data.DataLoader(testset, batch_size=BATCH_SIZE,\n",
    "                                             shuffle=False, num_workers=2)\n",
    "    \n",
    "    \n",
    "    return trainloader, holdoutloader "
   ]
  },
  {
   "cell_type": "code",
   "execution_count": 7,
   "metadata": {},
   "outputs": [
    {
     "name": "stdout",
     "output_type": "stream",
     "text": [
      "Files already downloaded and verified\n",
      "Files already downloaded and verified\n"
     ]
    }
   ],
   "source": [
    "normalize = T.Normalize(mean=[0.485, 0.456, 0.406],\n",
    "                                 std=[0.229, 0.224, 0.225])\n",
    "TFMS = T.Compose([T.Resize(256), T.CenterCrop(224), T.ToTensor(), normalize])\n",
    "\n",
    "train, holdout = get_dataset(TFMS)"
   ]
  },
  {
   "cell_type": "code",
   "execution_count": 8,
   "metadata": {},
   "outputs": [
    {
     "data": {
      "text/plain": [
       "(36000, 24000)"
      ]
     },
     "execution_count": 8,
     "metadata": {},
     "output_type": "execute_result"
    }
   ],
   "source": [
    "len(train)*BATCH_SIZE,len(holdout)*BATCH_SIZE"
   ]
  },
  {
   "cell_type": "markdown",
   "metadata": {},
   "source": [
    "## MODEL"
   ]
  },
  {
   "cell_type": "code",
   "execution_count": 9,
   "metadata": {},
   "outputs": [],
   "source": [
    "INIT_METHODS = [nn.init.xavier_uniform_, nn.init.xavier_normal_, \\\n",
    "                nn.init.kaiming_uniform_, nn.init.kaiming_normal_]\n",
    "\n",
    "def init_weights(m, init=nn.init.xavier_uniform):\n",
    "    if type(m) == nn.Linear:\n",
    "        init(m.weight)\n",
    "        m.bias.data.fill_(0.01)\n",
    "        \n",
    "def init_model(model):\n",
    "    func = np.random.choice(INIT_METHODS)\n",
    "    model.apply(partial(init_weights, init=func))"
   ]
  },
  {
   "cell_type": "code",
   "execution_count": 10,
   "metadata": {},
   "outputs": [],
   "source": [
    "class WeightHistory:\n",
    "    \"\"\"\n",
    "    the idea is to create a folder and keep wieghts there as opposed to memory\n",
    "    \"\"\"\n",
    "\n",
    "    \n",
    "    def __init__(self, length, savedir):\n",
    "        self.len = length\n",
    "        self.savedir = savedir\n",
    "        \n",
    "        if not savedir.exists():\n",
    "            savedir.mkdir()\n",
    "            \n",
    "    \n",
    "    def save_weights(self, individual, glob_step, kidx):\n",
    "        path = self.savedir / f'model_checkpoint_{kidx}.cpt'\n",
    "        torch.save({\n",
    "            'glob_step': glob_step,\n",
    "            'model_state_dict': individual.model.state_dict(),\n",
    "            'opt_state_dict': individual.opt.state_dict(),\n",
    "        }, path) \n",
    "        \n",
    "    def load_weights(self, kidx):\n",
    "        path = self.savedir / f'model_checkpoint_{kidx}.cpt'\n",
    "        checkpoint = torch.load(path)\n",
    "        \n",
    "        return checkpoint\n",
    "\n"
   ]
  },
  {
   "cell_type": "markdown",
   "metadata": {},
   "source": [
    "## THRESHOLDOUT"
   ]
  },
  {
   "cell_type": "code",
   "execution_count": 11,
   "metadata": {},
   "outputs": [],
   "source": [
    "class Thresholdout:\n",
    "    def __init__(self, train, holdout, tolerance=0.01/4, scale_factor=4, keep_log=True):\n",
    "        self.tolerance = tolerance\n",
    "        self.T = 4*tolerance\n",
    "        \n",
    "        self.eps = lambda: np.random.normal(0, 2*self.tolerance, 1)[0]\n",
    "        self.gamma = lambda: np.random.normal(0, 4*self.tolerance, 1)[0]\n",
    "        self.eta = lambda: np.random.normal(0, 8*self.tolerance, 1)[0]\n",
    "\n",
    "        self.train = train\n",
    "        self.holdout = holdout\n",
    "        \n",
    "        \n",
    "    def verify(self, phi):\n",
    "        train_val = phi(self.train)\n",
    "        holdout_val = phi(self.holdout)\n",
    "                \n",
    "        delta = abs(train_val - holdout_val)\n",
    "        \n",
    "        if delta > self.T + self.eta():\n",
    "            return holdout_val + self.eps(), True\n",
    "        else:\n",
    "            return train_val, False\n",
    "        "
   ]
  },
  {
   "cell_type": "code",
   "execution_count": 12,
   "metadata": {},
   "outputs": [],
   "source": [
    "def accuracy(model, data): # phi\n",
    "    model.eval()\n",
    "    \n",
    "    correct = 0\n",
    "    total = 0\n",
    "    \n",
    "    with torch.no_grad():\n",
    "        for data in tqdm(data,total=len(data)):\n",
    "            images, labels = data[0].to(DEVICE), data[1]\n",
    "            outputs = model(images).cpu()\n",
    "            _, predicted = torch.max(outputs.data, 1)\n",
    "            total += labels.size(0)\n",
    "            correct += (predicted == labels).sum().item()\n",
    "            \n",
    "    return correct / total"
   ]
  },
  {
   "cell_type": "markdown",
   "metadata": {},
   "source": [
    "# EXP. ALGORITHM"
   ]
  },
  {
   "cell_type": "code",
   "execution_count": 13,
   "metadata": {},
   "outputs": [],
   "source": [
    "WEIGHTS_ROOT = Path('./weightsH/')\n",
    "WEIGHTS_ROOT.mkdir(exist_ok=True)"
   ]
  },
  {
   "cell_type": "code",
   "execution_count": 14,
   "metadata": {},
   "outputs": [],
   "source": [
    "class individual:\n",
    "    def __init__(self, idx, K, T, savedir, lr=3e-4):\n",
    "        self.idx = idx\n",
    "        self.T = T\n",
    "        self.K = K\n",
    "        self.lr = lr\n",
    "        self.model = ARCH() \n",
    "        self.init()\n",
    "        \n",
    "        self.criterion = nn.CrossEntropyLoss()\n",
    "        self.history = WeightHistory(length=K, savedir=savedir)\n",
    "        \n",
    "        self.interval = T // K\n",
    "        self.hidx = [0]\n",
    "        \n",
    "    def init(self):\n",
    "        init_model(self.model)\n",
    "        self.model.to(DEVICE)\n",
    "        self.opt = optim.Adam(self.model.parameters(), lr=self.lr)\n",
    "        \n",
    "    def assign_weights(self, history, kidx):\n",
    "        ckpt = history.load_weights(kidx)\n",
    "        \n",
    "        self.model.load_state_dict(ckpt['model_state_dict'])\n",
    "        self.opt.load_state_dict(ckpt['opt_state_dict'])\n",
    "        \n",
    "        self.hidx += [kidx]\n",
    "\n",
    "\n",
    "    def train(self, data, step=0):\n",
    "        \n",
    "        self.model.train()\n",
    "\n",
    "        for i, batch in enumerate(data):\n",
    "\n",
    "            inputs, labels = batch[0].to(DEVICE), batch[1].to(DEVICE)\n",
    "            self.opt.zero_grad()\n",
    "\n",
    "            outputs = self.model(inputs)\n",
    "            loss = self.criterion(outputs, labels)\n",
    "            loss.backward()\n",
    "            self.opt.step()\n",
    "\n",
    "            step += 1\n",
    "            \n",
    "            if step % self.interval == 0:\n",
    "                self.history.save_weights(self, step, step // self.interval)\n",
    "                    \n",
    "            if step >= self.T:\n",
    "                return\n",
    "            \n",
    "        self.train(data, step=step)\n",
    "                "
   ]
  },
  {
   "cell_type": "code",
   "execution_count": 15,
   "metadata": {},
   "outputs": [],
   "source": [
    "class TrainExperiment:\n",
    "    def __init__(self, train, holdout, weights_root, K=10, T=20_000):\n",
    "        \n",
    "        self.K = K\n",
    "        self.T = T\n",
    "        \n",
    "        self.weights_root = weights_root\n",
    "        self.weights_root.mkdir(exist_ok=True)\n",
    "        \n",
    "        self.train = train\n",
    "        self.holdout = holdout\n",
    "        \n",
    "        self.tout = Thresholdout(self.train, self.holdout)\n",
    "\n",
    "        self.population = [individual(i, T=self.T, K=self.K, savedir=weights_root / f'indv_{i}') for i in range(self.K)]\n",
    "        \n",
    "        self.cycleid = 0\n",
    "        self.log = pd.DataFrame(columns=['CycleNum','individualID', 'score', 'overfit', 'hidx'])\n",
    "        \n",
    "        \n",
    "    def do_one_cycle(self):\n",
    "        scores = [None] * self.K\n",
    "        overfit = [None] * self.K\n",
    "        \n",
    "        for indv in tqdm(self.population):\n",
    "            indv.train(self.train)\n",
    "            scores[indv.idx], overfit[indv.idx] = self.tout.verify(partial(accuracy, indv.model))\n",
    "        \n",
    "        top = max(scores)\n",
    "        print(f'[CYCLE::{self.cycleid}] top performer: [{top:.3f}]')\n",
    "        topidx = scores.index(top)\n",
    "        self.topindv = self.population[topidx].history\n",
    "        \n",
    "        hs = [np.random.choice(range(self.K+1)) for _ in range(self.K)]\n",
    "        print(f'[CYCLE::{self.cycleid}] hs: {hs}')\n",
    "\n",
    "        \n",
    "        for idx, h in enumerate(hs):\n",
    "            self.population[idx].init()\n",
    "            if h != 0:\n",
    "                self.population[idx].assign_weights(self.topindv, h)\n",
    "        \n",
    "        for indv in self.population:\n",
    "            self.log.loc[len(self.log)] = [self.cycleid, indv.idx, scores[indv.idx], overfit[indv.idx], indv.hidx[-1]]\n",
    "            \n",
    "        self.cycleid += 1\n",
    "            \n",
    "        \n",
    "        \n",
    "        "
   ]
  },
  {
   "cell_type": "code",
   "execution_count": 16,
   "metadata": {},
   "outputs": [],
   "source": [
    "exp = TrainExperiment(train, holdout, weights_root=WEIGHTS_ROOT, K=10, T=9_000) # T=9_000"
   ]
  },
  {
   "cell_type": "code",
   "execution_count": null,
   "metadata": {},
   "outputs": [
    {
     "data": {
      "application/vnd.jupyter.widget-view+json": {
       "model_id": "9d68f08eb28c4e55b089937a80328d45",
       "version_major": 2,
       "version_minor": 0
      },
      "text/plain": [
       "HBox(children=(FloatProgress(value=0.0, max=10.0), HTML(value='')))"
      ]
     },
     "metadata": {},
     "output_type": "display_data"
    }
   ],
   "source": [
    "for _ in range(10):\n",
    "    exp.do_one_cycle()\n",
    "    exp.log.to_csv(f'./logs/cycle_{exp.cycleid}.csv')"
   ]
  },
  {
   "cell_type": "code",
   "execution_count": null,
   "metadata": {},
   "outputs": [],
   "source": []
  }
 ],
 "metadata": {
  "kernelspec": {
   "display_name": "Python 3",
   "language": "python",
   "name": "python3"
  },
  "language_info": {
   "codemirror_mode": {
    "name": "ipython",
    "version": 3
   },
   "file_extension": ".py",
   "mimetype": "text/x-python",
   "name": "python",
   "nbconvert_exporter": "python",
   "pygments_lexer": "ipython3",
   "version": "3.7.3"
  }
 },
 "nbformat": 4,
 "nbformat_minor": 4
}

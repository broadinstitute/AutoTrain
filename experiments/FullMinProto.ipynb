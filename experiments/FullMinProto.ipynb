{
 "cells": [
  {
   "cell_type": "code",
   "execution_count": 1,
   "metadata": {},
   "outputs": [],
   "source": [
    "import sys, time"
   ]
  },
  {
   "cell_type": "code",
   "execution_count": 2,
   "metadata": {},
   "outputs": [],
   "source": [
    "sys.path.append('..')"
   ]
  },
  {
   "cell_type": "code",
   "execution_count": 3,
   "metadata": {},
   "outputs": [],
   "source": [
    "import matplotlib\n",
    "import matplotlib.pyplot as plt\n",
    "\n",
    "import torch\n",
    "\n",
    "import numpy as np\n",
    "import pandas as pd\n",
    "\n",
    "import gym\n",
    "\n",
    "import autotrain\n",
    "import autotrain.gym_env \n",
    "import autotrain.agent.replay_memory as replay_memory\n",
    "\n",
    "# if gpu is to be used\n",
    "DEVICE = torch.device(\"cuda:3\")"
   ]
  },
  {
   "cell_type": "code",
   "execution_count": 4,
   "metadata": {},
   "outputs": [],
   "source": [
    "# agent import\n",
    "import random\n",
    "import math\n",
    "from itertools import count\n",
    "from pathlib import Path\n",
    "\n",
    "import torch\n",
    "import torch.nn as nn\n",
    "import torch.optim as optim\n",
    "import torch.nn.functional as F\n",
    "\n",
    "import torchvision\n",
    "import torchvision.transforms as transforms\n",
    "\n",
    "import autotrain.agent.dqn as dqn\n",
    "import autotrain.agent.replay_memory as replay_memory\n",
    "\n",
    "from tqdm.notebook import tqdm"
   ]
  },
  {
   "cell_type": "markdown",
   "metadata": {},
   "source": [
    "# Agent Definitions"
   ]
  },
  {
   "cell_type": "code",
   "execution_count": 5,
   "metadata": {},
   "outputs": [],
   "source": [
    "class DQN_MLP(nn.Module):\n",
    "    def __init__(self, inputs, outputs):\n",
    "        super().__init__()\n",
    "        self.net = nn.Sequential(\n",
    "            nn.Linear(inputs, 512),\n",
    "            nn.ReLU(),\n",
    "            nn.Linear(512, 256),\n",
    "            nn.ReLU(),\n",
    "            nn.Linear(256, outputs),\n",
    "            nn.Softmax(),\n",
    "        )\n",
    "\n",
    "    def forward(self, x):\n",
    "        return self.net(x)"
   ]
  },
  {
   "cell_type": "code",
   "execution_count": 6,
   "metadata": {},
   "outputs": [],
   "source": [
    "BATCH_SIZE = 16\n",
    "GAMMA = 0.999\n",
    "\n",
    "EPS_START = 0.9\n",
    "EPS_END = 0.05\n",
    "EPS_DECAY = 200\n",
    "\n",
    "TARGET_UPDATE = 20 \n",
    "\n",
    "\n",
    "\n",
    "class AutoTrainAgent: \n",
    "\n",
    "    def __init__(self, env, device):\n",
    "        \n",
    "        self.env = env\n",
    "        self.device = device\n",
    "\n",
    "        self.observation_dim = env.observation_space_dim\n",
    "        \n",
    "        # Get number of actions from gym action space\n",
    "        self.n_actions = env.action_space_dim\n",
    "\n",
    "        self.policy_net = dqn.DQN_MLP(self.observation_dim, self.n_actions).to(device)\n",
    "        self.target_net = dqn.DQN_MLP(self.observation_dim, self.n_actions).to(device)\n",
    "        self.target_net.load_state_dict(self.policy_net.state_dict())\n",
    "        self.target_net.eval()\n",
    "\n",
    "        self.optimizer = optim.RMSprop(self.policy_net.parameters())\n",
    "        self.memory = replay_memory.ReplayMemory(10_000)\n",
    "\n",
    "        self.steps_done = 0\n",
    "\n",
    "\n",
    "    def select_action(self, state):\n",
    "        sample = random.random()\n",
    "        eps_threshold = EPS_END + (EPS_START - EPS_END) * \\\n",
    "            math.exp(-1. * self.steps_done / EPS_DECAY)\n",
    "        if sample > eps_threshold:\n",
    "            with torch.no_grad():\n",
    "                # t.max(1) will return largest column value of each row.\n",
    "                # second column on max result is index of where max element was\n",
    "                # found, so we pick action with the larger expected reward.\n",
    "                \n",
    "                if len(state.shape) == 1:\n",
    "                    state = state.view(1, -1)\n",
    "                print(f'[ATA] state dimensions: ', state.shape)\n",
    "                actions = self.policy_net(state)\n",
    "                \n",
    "                return actions.max(-1)[1].view(-1, 1)\n",
    "        else:\n",
    "            print('[ATA] exploration policy enacted')\n",
    "            return torch.tensor([[random.randrange(self.n_actions)]], device=self.device, dtype=torch.long)\n",
    "        \n",
    "        \n",
    "    def optimize_model(self):\n",
    "        if len(self.memory) < BATCH_SIZE:\n",
    "            return\n",
    "        transitions = self.memory.sample(BATCH_SIZE)\n",
    "        # Transpose the batch (see https://stackoverflow.com/a/19343/3343043 for\n",
    "        # detailed explanation). This converts batch-array of Transitions\n",
    "        # to Transition of batch-arrays.\n",
    "        batch = replay_memory.Transition(*zip(*transitions))\n",
    "\n",
    "        # Compute a mask of non-final states and concatenate the batch elements\n",
    "        # (a final state would've been the one after which simulation ended)\n",
    "        non_final_mask = torch.tensor(tuple(map(lambda s: s is not None,\n",
    "                                              batch.next_state)), device=self.device, dtype=torch.bool)\n",
    "        non_final_next_states = torch.stack([s for s in batch.next_state\n",
    "                                                    if s is not None])\n",
    "\n",
    "        state_batch = torch.stack(batch.state)\n",
    "        action_batch = torch.cat(batch.action).view(BATCH_SIZE, 1)\n",
    "        reward_batch = torch.cat(batch.reward)\n",
    "        print(f'[ATA] batch shapes: [{state_batch.shape} {action_batch.shape} {reward_batch.shape}]')\n",
    "\n",
    "        # Compute Q(s_t, a) - the model computes Q(s_t), then we select the\n",
    "        # columns of actions taken. These are the actions which would've been taken\n",
    "        # for each batch state according to policy_net\n",
    "        state_action_values = self.policy_net(state_batch).gather(1, action_batch)\n",
    "\n",
    "        # Compute V(s_{t+1}) for all next states.\n",
    "        # Expected values of actions for non_final_next_states are computed based\n",
    "        # on the \"older\" target_net; selecting their best reward with max(1)[0].\n",
    "        # This is merged based on the mask, such that we'll have either the expected\n",
    "        # state value or 0 in case the state was final.\n",
    "        next_state_values = torch.zeros(BATCH_SIZE, device=self.device)\n",
    "        next_state_values[non_final_mask] = self.target_net(non_final_next_states).max(1)[0].detach()\n",
    "        # Compute the expected Q values\n",
    "        expected_state_action_values = (next_state_values * GAMMA) + reward_batch\n",
    "\n",
    "        # Compute Huber loss\n",
    "        loss = F.smooth_l1_loss(state_action_values, expected_state_action_values.unsqueeze(1))\n",
    "\n",
    "        # Optimize the model\n",
    "        self.optimizer.zero_grad()\n",
    "        loss.backward()\n",
    "        for param in self.policy_net.parameters():\n",
    "            param.grad.data.clamp_(-1, 1)\n",
    "        self.optimizer.step()\n",
    "        print('[ATA] DQN optimisation step complete ')\n",
    "        \n",
    "    def _preproc_state(self, state):\n",
    "        return torch.FloatTensor(np.concatenate(state, axis=0)).to(self.device)\n",
    "        \n",
    "    def episode(self, i_episode):\n",
    "        # Initialize the environment and state\n",
    "        global RL_PROGRESS_PATH\n",
    "\n",
    "        state = self._preproc_state(self.env.reset())\n",
    "\n",
    "        for t in count():\n",
    "            start_time = time.time()\n",
    "            \n",
    "            # Select and perform an action\n",
    "            action = self.select_action(state)\n",
    "            next_state, reward, done, _ = self.env.step(action.item())\n",
    "            next_state = self._preproc_state(next_state) if not done else next_state  # for MLP, only one dim\n",
    "            \n",
    "            reward = torch.FloatTensor([reward]).to(self.device)\n",
    "\n",
    "            # Store the transition in memory\n",
    "            self.memory.push(state, action, next_state, reward)\n",
    "\n",
    "            # Move to the next state\n",
    "            state = next_state\n",
    "\n",
    "            # Perform one step of the optimization (on the target network)\n",
    "            self.optimize_model()\n",
    "            print(f'[ATA episode {i_episode}]: took [{time.time() - start_time:.1f}] seconds for one full step')\n",
    "            if done:\n",
    "                break\n",
    "                \n",
    "        self.steps_done += 1\n",
    "\n",
    "        # Update the target network, copying all weights and biases in DQN\n",
    "        if i_episode % TARGET_UPDATE == 0:\n",
    "            self.target_net.load_state_dict(self.policy_net.state_dict())\n",
    "            \n",
    "        print(f'[ATA] replay buffer length: [{len(self.memory)}]')\n",
    "        savepath = RL_PROGRESS_PATH / f'{i_episode}_episode'\n",
    "        savepath.mkdir()\n",
    "        \n",
    "        env.save_env(savepath)\n",
    "        torch.save(self.policy_net.state_dict(), savepath / 'policy_net.ckpt')\n",
    "        torch.save(self.target_net.state_dict(), savepath / 'target_net.ckpt')\n",
    "        self.memory.save(savepath / 'replay_buffer.pkl')\n",
    "\n",
    "        return t\n",
    "            "
   ]
  },
  {
   "cell_type": "markdown",
   "metadata": {},
   "source": [
    "# Environment"
   ]
  },
  {
   "cell_type": "markdown",
   "metadata": {},
   "source": [
    "## Classifier Data Prep - MNIST"
   ]
  },
  {
   "cell_type": "code",
   "execution_count": 7,
   "metadata": {},
   "outputs": [],
   "source": [
    "# !rm -rf ./results/full_min_proto_0/*"
   ]
  },
  {
   "cell_type": "code",
   "execution_count": 8,
   "metadata": {},
   "outputs": [],
   "source": [
    "DATA_ROOT = Path('../data')\n",
    "DATA_SPLIT = 0.6\n",
    "\n",
    "ENV_PATH = Path('./results/autotrain-run')\n",
    "ENV_PATH.mkdir(exist_ok=True)\n",
    "\n",
    "RL_PROGRESS_PATH = Path('./results/') \n",
    "RL_PROGRESS_PATH.mkdir(exist_ok=True)\n",
    "RL_PROGRESS_PATH /= 'full_min_proto_1_phi_changes'\n",
    "RL_PROGRESS_PATH.mkdir(exist_ok=True)"
   ]
  },
  {
   "cell_type": "code",
   "execution_count": 9,
   "metadata": {},
   "outputs": [],
   "source": [
    "if any(RL_PROGRESS_PATH.iterdir()):\n",
    "    print('[WARNING!!]: save dir is not empty; agent will not save if folder exists')"
   ]
  },
  {
   "cell_type": "code",
   "execution_count": 10,
   "metadata": {},
   "outputs": [],
   "source": [
    "CLASSES = range(10)\n",
    "\n",
    "def reduceds(ds, pct_cap, no_signal=False):\n",
    "    X, Y = ds.data, ds.targets\n",
    "    \n",
    "    if pct_cap:\n",
    "        cap = int(pct_cap*len(X))\n",
    "        X, Y = X[:cap], Y[:cap]\n",
    "        \n",
    "    \n",
    "    if no_signal:\n",
    "        print('suffling labels')\n",
    "        np.random.shuffle(Y)\n",
    "    \n",
    "    ds.data, ds.targets = X, Y\n",
    "\n",
    "def get_dataset(tfms, no_signal=False, pct_cap=None):\n",
    "    train = torchvision.datasets.MNIST(root=DATA_ROOT / 'mnist-data', train=True,\n",
    "                                        download=True, transform=tfms)\n",
    "\n",
    "    holdout = torchvision.datasets.MNIST(root=DATA_ROOT / 'mnist-data', train=False,\n",
    "                                           download=True, transform=tfms)\n",
    "        \n",
    "    # train.data, train.targets = train.data.numpy(),train.targets.numpy()\n",
    "    # holdout.data, holdout.targets = holdout.data.numpy(),  holdout.targets.numpy()\n",
    "    \n",
    "    reduceds(train, pct_cap, no_signal)\n",
    "    \n",
    "    print(f'length of trainset: [{len(train)}]; len of holdout: [{len(holdout)}]')\n",
    "    \n",
    "    return train, holdout"
   ]
  },
  {
   "cell_type": "code",
   "execution_count": 11,
   "metadata": {},
   "outputs": [],
   "source": [
    "# make ds\n",
    "# pytorch datasets\n",
    "# n_train = n_holdout"
   ]
  },
  {
   "cell_type": "code",
   "execution_count": 12,
   "metadata": {},
   "outputs": [
    {
     "name": "stdout",
     "output_type": "stream",
     "text": [
      "length of trainset: [12000]; len of holdout: [10000]\n"
     ]
    }
   ],
   "source": [
    "TFMS = transforms.Compose([\n",
    "        transforms.ToTensor(),\n",
    "        transforms.Normalize((0.1307,), (0.3081,))\n",
    "    ])\n",
    "\n",
    "train, holdout = get_dataset(TFMS, pct_cap=0.2)"
   ]
  },
  {
   "cell_type": "code",
   "execution_count": 13,
   "metadata": {},
   "outputs": [],
   "source": [
    "def accuracy(data: torch.utils.data.DataLoader, model: nn.Module): # phi\n",
    "    model.eval()\n",
    "    correct = 0\n",
    "    total = 0\n",
    "    \n",
    "    with torch.no_grad():\n",
    "        for batch in tqdm(data,total=len(data)):\n",
    "            images, labels = batch[0].to(DEVICE), batch[1]\n",
    "            outputs = model(images).cpu()\n",
    "            _, predicted = torch.max(outputs.data, 1)\n",
    "            total += labels.size(0)\n",
    "            correct += (predicted == labels).sum().item()\n",
    "            \n",
    "    return correct / total"
   ]
  },
  {
   "cell_type": "markdown",
   "metadata": {},
   "source": [
    "## Classifier Network Definition - SimpleConvNet"
   ]
  },
  {
   "cell_type": "code",
   "execution_count": 14,
   "metadata": {},
   "outputs": [],
   "source": [
    "class Classifier(nn.Module):\n",
    "    def __init__(self):\n",
    "        super().__init__()\n",
    "        self.conv1 = nn.Conv2d(1, 32, 3, 1)\n",
    "        self.conv2 = nn.Conv2d(32, 64, 3, 1)\n",
    "        self.dropout1 = nn.Dropout2d(0.25)\n",
    "        self.dropout2 = nn.Dropout2d(0.5)\n",
    "        self.fc1 = nn.Linear(9216, 128)\n",
    "        self.fc2 = nn.Linear(128, 10)\n",
    "\n",
    "    def forward(self, x):\n",
    "        x = self.conv1(x)\n",
    "        x = F.relu(x)\n",
    "        x = self.conv2(x)\n",
    "        x = F.relu(x)\n",
    "        x = F.max_pool2d(x, 2)\n",
    "        x = self.dropout1(x)\n",
    "        x = torch.flatten(x, 1)\n",
    "        x = self.fc1(x)\n",
    "        x = F.relu(x)\n",
    "        x = self.dropout2(x)\n",
    "        x = self.fc2(x)\n",
    "        output = F.log_softmax(x, dim=1)\n",
    "        return output"
   ]
  },
  {
   "cell_type": "code",
   "execution_count": 15,
   "metadata": {},
   "outputs": [],
   "source": [
    "clf = Classifier()"
   ]
  },
  {
   "cell_type": "markdown",
   "metadata": {},
   "source": [
    "## AutoTrain Environment"
   ]
  },
  {
   "cell_type": "code",
   "execution_count": 16,
   "metadata": {},
   "outputs": [
    {
     "data": {
      "text/plain": [
       "45"
      ]
     },
     "execution_count": 16,
     "metadata": {},
     "output_type": "execute_result"
    }
   ],
   "source": [
    "REWIND_DIM = 3\n",
    "CLF_BS = 16\n",
    "SAMPLE = 50 # sampling interval\n",
    "BATCH_UPDATES = int(len(train) // CLF_BS * 0.5) # half an epoch\n",
    "LOSS_DIM = BATCH_UPDATES // SAMPLE\n",
    "(LOSS_DIM + 2 )* 5"
   ]
  },
  {
   "cell_type": "code",
   "execution_count": 17,
   "metadata": {},
   "outputs": [
    {
     "name": "stdout",
     "output_type": "stream",
     "text": [
      "[time_step:0]  initialised backbone parameters & optimizer\n",
      "[time_step:0]  initialised phi value: started ...\n"
     ]
    },
    {
     "data": {
      "application/vnd.jupyter.widget-view+json": {
       "model_id": "bf016392d89f4439bc379152e1dd6382",
       "version_major": 2,
       "version_minor": 0
      },
      "text/plain": [
       "HBox(children=(FloatProgress(value=0.0, max=750.0), HTML(value='')))"
      ]
     },
     "metadata": {},
     "output_type": "display_data"
    },
    {
     "name": "stdout",
     "output_type": "stream",
     "text": [
      "\n"
     ]
    },
    {
     "data": {
      "application/vnd.jupyter.widget-view+json": {
       "model_id": "e5b39f2b597649b688d572f1ad6b94c5",
       "version_major": 2,
       "version_minor": 0
      },
      "text/plain": [
       "HBox(children=(FloatProgress(value=0.0, max=625.0), HTML(value='')))"
      ]
     },
     "metadata": {},
     "output_type": "display_data"
    },
    {
     "name": "stdout",
     "output_type": "stream",
     "text": [
      "\n",
      "[time_step:0]  initialised phi value: done\n",
      "[time_step:0]  added observation\n",
      "[time_step:0]  environment initialised : AutoTrainEnvironment with the following parameters:\n",
      "                        lr_init=0.0003, inter_reward=1, \n",
      "                        H=3, K=7, T=375\n"
     ]
    }
   ],
   "source": [
    "env = gym.make('AutoTrain-v0') # TODO loss func nll_loss\n",
    "\n",
    "ob = env.init(backbone=clf,  phi=accuracy, savedir=ENV_PATH,\n",
    "         trnds=train, valds=holdout,\n",
    "         T=BATCH_UPDATES, H=REWIND_DIM, S=SAMPLE, lr_init=3e-4, \n",
    "         inter_reward=1, final_reward_scale=100,\n",
    "         horizon=50, criterion=F.nll_loss,\n",
    "         num_workers=4, bs=CLF_BS, v=True, device=DEVICE)"
   ]
  },
  {
   "cell_type": "code",
   "execution_count": 18,
   "metadata": {},
   "outputs": [
    {
     "data": {
      "text/plain": [
       "27"
      ]
     },
     "execution_count": 18,
     "metadata": {},
     "output_type": "execute_result"
    }
   ],
   "source": [
    "env.observation_space_dim"
   ]
  },
  {
   "cell_type": "code",
   "execution_count": 19,
   "metadata": {},
   "outputs": [
    {
     "data": {
      "text/plain": [
       "11"
      ]
     },
     "execution_count": 19,
     "metadata": {},
     "output_type": "execute_result"
    }
   ],
   "source": [
    "env.action_space_dim"
   ]
  },
  {
   "cell_type": "markdown",
   "metadata": {},
   "source": [
    "# Agent"
   ]
  },
  {
   "cell_type": "markdown",
   "metadata": {},
   "source": [
    "## Agent Training"
   ]
  },
  {
   "cell_type": "code",
   "execution_count": 20,
   "metadata": {},
   "outputs": [],
   "source": [
    "# Set up matplotlib\n",
    "\n",
    "is_ipython = 'inline' in matplotlib.get_backend()\n",
    "if is_ipython:\n",
    "    from IPython import display\n",
    "\n",
    "plt.ion()\n",
    "\n",
    "episode_durations = []\n",
    "\n",
    "def plot_durations():\n",
    "    plt.figure(2, figsize=(12,6))\n",
    "    plt.clf()\n",
    "    durations_t = torch.tensor(episode_durations, dtype=torch.float)\n",
    "    plt.title('Training...')\n",
    "    plt.xlabel('Episode')\n",
    "    plt.ylabel('Duration')\n",
    "    plt.plot(durations_t.numpy())\n",
    "    # Take 100 episode averages and plot them too\n",
    "    if len(durations_t) >= 100:\n",
    "        means = durations_t.unfold(0, 100, 1).mean(1).view(-1)\n",
    "        means = torch.cat((torch.zeros(99), means))\n",
    "        plt.plot(means.numpy())\n",
    "    if is_ipython:\n",
    "        display.clear_output(wait=True)\n",
    "        display.display(plt.gcf())"
   ]
  },
  {
   "cell_type": "code",
   "execution_count": null,
   "metadata": {},
   "outputs": [
    {
     "data": {
      "image/png": "[encoded data removed]",
      "text/plain": [
       "<Figure size 864x432 with 1 Axes>"
      ]
     },
     "metadata": {},
     "output_type": "display_data"
    },
    {
     "name": "stdout",
     "output_type": "stream",
     "text": [
      "[time_step:0]  initialised backbone parameters & optimizer\n",
      "[time_step:0]  initialised phi value: started ...\n"
     ]
    },
    {
     "data": {
      "application/vnd.jupyter.widget-view+json": {
       "model_id": "f02f56e6522d42ca9684fddec792241e",
       "version_major": 2,
       "version_minor": 0
      },
      "text/plain": [
       "HBox(children=(FloatProgress(value=0.0, max=750.0), HTML(value='')))"
      ]
     },
     "metadata": {},
     "output_type": "display_data"
    },
    {
     "name": "stdout",
     "output_type": "stream",
     "text": [
      "\n"
     ]
    },
    {
     "data": {
      "application/vnd.jupyter.widget-view+json": {
       "model_id": "03830ba187584f5bb506b76ea05519f9",
       "version_major": 2,
       "version_minor": 0
      },
      "text/plain": [
       "HBox(children=(FloatProgress(value=0.0, max=625.0), HTML(value='')))"
      ]
     },
     "metadata": {},
     "output_type": "display_data"
    },
    {
     "name": "stdout",
     "output_type": "stream",
     "text": [
      "\n",
      "[time_step:0]  initialised phi value: done\n",
      "[time_step:0]  added observation\n",
      "[time_step:0]  environment initialised : AutoTrainEnvironment with the following parameters:\n",
      "                        lr_init=0.0003, inter_reward=1, \n",
      "                        H=3, K=7, T=375\n",
      "[ATA] state dimensions:  torch.Size([1, 27])\n",
      "[time_step:0]  action [7] recieved\n",
      "[time_step:0]  received RE-INIT signal or rewind_steps[2] > len(ll)\n",
      "[time_step:0]  initialised backbone parameters & optimizer\n",
      "[time_step:0]  training loop started ...\n"
     ]
    },
    {
     "name": "stderr",
     "output_type": "stream",
     "text": [
      "/opt/tljh/user/lib/python3.7/site-packages/torch/nn/modules/container.py:100: UserWarning: Implicit dimension choice for softmax has been deprecated. Change the call to include dim=X as an argument.\n",
      "  input = module(input)\n"
     ]
    },
    {
     "name": "stdout",
     "output_type": "stream",
     "text": [
      "[time_step:1]  training loop done!\n"
     ]
    },
    {
     "data": {
      "application/vnd.jupyter.widget-view+json": {
       "model_id": "968479e0b90f47d3b8e0ed7b215e7423",
       "version_major": 2,
       "version_minor": 0
      },
      "text/plain": [
       "HBox(children=(FloatProgress(value=0.0, max=750.0), HTML(value='')))"
      ]
     },
     "metadata": {},
     "output_type": "display_data"
    },
    {
     "name": "stdout",
     "output_type": "stream",
     "text": [
      "\n"
     ]
    },
    {
     "data": {
      "application/vnd.jupyter.widget-view+json": {
       "model_id": "823267bcb66a4311b42b0d50014e9e19",
       "version_major": 2,
       "version_minor": 0
      },
      "text/plain": [
       "HBox(children=(FloatProgress(value=0.0, max=625.0), HTML(value='')))"
      ]
     },
     "metadata": {},
     "output_type": "display_data"
    },
    {
     "name": "stdout",
     "output_type": "stream",
     "text": [
      "\n",
      "[time_step:1]  added observation\n",
      "[time_step:1]  reward at the end of time step is [1]\n",
      "[ATA] batch shapes: [torch.Size([16, 27]) torch.Size([16, 1]) torch.Size([16])]\n",
      "[ATA] DQN optimisation step complete \n",
      "[ATA episode 73]: took [6.6] seconds for one full step\n",
      "[ATA] exploration policy enacted\n",
      "[time_step:1]  action [0] recieved\n",
      "[time_step:1]  decreased lr by 10% -> [lr:0.00027]\n",
      "[time_step:1]  training loop started ...\n",
      "[time_step:2]  training loop done!\n"
     ]
    },
    {
     "data": {
      "application/vnd.jupyter.widget-view+json": {
       "model_id": "695f20e45e824d31a63be96a8101198e",
       "version_major": 2,
       "version_minor": 0
      },
      "text/plain": [
       "HBox(children=(FloatProgress(value=0.0, max=750.0), HTML(value='')))"
      ]
     },
     "metadata": {},
     "output_type": "display_data"
    },
    {
     "name": "stdout",
     "output_type": "stream",
     "text": [
      "\n"
     ]
    },
    {
     "data": {
      "application/vnd.jupyter.widget-view+json": {
       "model_id": "d9c23a010f694752bff0506d9c85c37d",
       "version_major": 2,
       "version_minor": 0
      },
      "text/plain": [
       "HBox(children=(FloatProgress(value=0.0, max=625.0), HTML(value='')))"
      ]
     },
     "metadata": {},
     "output_type": "display_data"
    },
    {
     "name": "stdout",
     "output_type": "stream",
     "text": [
      "\n",
      "[time_step:2]  added observation\n",
      "[time_step:2]  reward at the end of time step is [-1]\n",
      "[ATA] batch shapes: [torch.Size([16, 27]) torch.Size([16, 1]) torch.Size([16])]\n",
      "[ATA] DQN optimisation step complete \n",
      "[ATA episode 73]: took [6.9] seconds for one full step\n",
      "[ATA] exploration policy enacted\n",
      "[time_step:2]  action [5] recieved\n",
      "[time_step:2]  training loop started ...\n",
      "[time_step:3]  training loop done!\n"
     ]
    },
    {
     "data": {
      "application/vnd.jupyter.widget-view+json": {
       "model_id": "b0a204556e244783855f25d46cf9fb08",
       "version_major": 2,
       "version_minor": 0
      },
      "text/plain": [
       "HBox(children=(FloatProgress(value=0.0, max=750.0), HTML(value='')))"
      ]
     },
     "metadata": {},
     "output_type": "display_data"
    },
    {
     "name": "stdout",
     "output_type": "stream",
     "text": [
      "\n"
     ]
    },
    {
     "data": {
      "application/vnd.jupyter.widget-view+json": {
       "model_id": "aacaccbeebf84156beef820b2e3948a2",
       "version_major": 2,
       "version_minor": 0
      },
      "text/plain": [
       "HBox(children=(FloatProgress(value=0.0, max=625.0), HTML(value='')))"
      ]
     },
     "metadata": {},
     "output_type": "display_data"
    },
    {
     "name": "stdout",
     "output_type": "stream",
     "text": [
      "\n",
      "[time_step:3]  added observation\n",
      "[time_step:3]  reward at the end of time step is [-1]\n",
      "[ATA] batch shapes: [torch.Size([16, 27]) torch.Size([16, 1]) torch.Size([16])]\n",
      "[ATA] DQN optimisation step complete \n",
      "[ATA episode 73]: took [6.7] seconds for one full step\n",
      "[ATA] exploration policy enacted\n",
      "[time_step:3]  action [6] recieved\n",
      "[time_step:3]  rewind weights [1] steps back\n",
      "[time_step:3]  training loop started ...\n",
      "[time_step:4]  training loop done!\n"
     ]
    },
    {
     "data": {
      "application/vnd.jupyter.widget-view+json": {
       "model_id": "ba25280b713443d7a5ff7c932743b0d9",
       "version_major": 2,
       "version_minor": 0
      },
      "text/plain": [
       "HBox(children=(FloatProgress(value=0.0, max=750.0), HTML(value='')))"
      ]
     },
     "metadata": {},
     "output_type": "display_data"
    },
    {
     "name": "stdout",
     "output_type": "stream",
     "text": [
      "\n"
     ]
    },
    {
     "data": {
      "application/vnd.jupyter.widget-view+json": {
       "model_id": "ce114a05b46a4c1c8da6b83d79f0f8c4",
       "version_major": 2,
       "version_minor": 0
      },
      "text/plain": [
       "HBox(children=(FloatProgress(value=0.0, max=625.0), HTML(value='')))"
      ]
     },
     "metadata": {},
     "output_type": "display_data"
    },
    {
     "name": "stdout",
     "output_type": "stream",
     "text": [
      "\n",
      "[time_step:4]  added observation\n",
      "[time_step:4]  reward at the end of time step is [1]\n",
      "[ATA] batch shapes: [torch.Size([16, 27]) torch.Size([16, 1]) torch.Size([16])]\n",
      "[ATA] DQN optimisation step complete \n",
      "[ATA episode 73]: took [7.5] seconds for one full step\n",
      "[ATA] state dimensions:  torch.Size([1, 27])\n",
      "[time_step:4]  action [7] recieved\n",
      "[time_step:4]  rewind weights [2] steps back\n",
      "[time_step:4]  training loop started ...\n",
      "[time_step:5]  training loop done!\n"
     ]
    },
    {
     "data": {
      "application/vnd.jupyter.widget-view+json": {
       "model_id": "195c55efab2f48dbb6ad2969ba5f6db3",
       "version_major": 2,
       "version_minor": 0
      },
      "text/plain": [
       "HBox(children=(FloatProgress(value=0.0, max=750.0), HTML(value='')))"
      ]
     },
     "metadata": {},
     "output_type": "display_data"
    },
    {
     "name": "stdout",
     "output_type": "stream",
     "text": [
      "\n"
     ]
    },
    {
     "data": {
      "application/vnd.jupyter.widget-view+json": {
       "model_id": "f25ed990832245b39d0e6aae35d28bfe",
       "version_major": 2,
       "version_minor": 0
      },
      "text/plain": [
       "HBox(children=(FloatProgress(value=0.0, max=625.0), HTML(value='')))"
      ]
     },
     "metadata": {},
     "output_type": "display_data"
    },
    {
     "name": "stdout",
     "output_type": "stream",
     "text": [
      "\n",
      "[time_step:5]  added observation\n",
      "[time_step:5]  reward at the end of time step is [-1]\n",
      "[ATA] batch shapes: [torch.Size([16, 27]) torch.Size([16, 1]) torch.Size([16])]\n",
      "[ATA] DQN optimisation step complete \n",
      "[ATA episode 73]: took [6.6] seconds for one full step\n",
      "[ATA] state dimensions:  torch.Size([1, 27])\n",
      "[time_step:5]  action [7] recieved\n",
      "[time_step:5]  received RE-INIT signal or rewind_steps[2] > len(ll)\n",
      "[time_step:5]  initialised backbone parameters & optimizer\n",
      "[time_step:5]  training loop started ...\n",
      "[time_step:6]  training loop done!\n"
     ]
    },
    {
     "data": {
      "application/vnd.jupyter.widget-view+json": {
       "model_id": "1e613f20cc934b0f8b85de711728deda",
       "version_major": 2,
       "version_minor": 0
      },
      "text/plain": [
       "HBox(children=(FloatProgress(value=0.0, max=750.0), HTML(value='')))"
      ]
     },
     "metadata": {},
     "output_type": "display_data"
    },
    {
     "name": "stdout",
     "output_type": "stream",
     "text": [
      "\n"
     ]
    },
    {
     "data": {
      "application/vnd.jupyter.widget-view+json": {
       "model_id": "ef94b13dd0c847bf97fbca8e997b0fb3",
       "version_major": 2,
       "version_minor": 0
      },
      "text/plain": [
       "HBox(children=(FloatProgress(value=0.0, max=625.0), HTML(value='')))"
      ]
     },
     "metadata": {},
     "output_type": "display_data"
    },
    {
     "name": "stdout",
     "output_type": "stream",
     "text": [
      "\n",
      "[time_step:6]  added observation\n",
      "[time_step:6]  reward at the end of time step is [1]\n",
      "[ATA] batch shapes: [torch.Size([16, 27]) torch.Size([16, 1]) torch.Size([16])]\n",
      "[ATA] DQN optimisation step complete \n",
      "[ATA episode 73]: took [6.6] seconds for one full step\n",
      "[ATA] exploration policy enacted\n",
      "[time_step:6]  action [8] recieved\n",
      "[time_step:6]  received RE-INIT signal or rewind_steps[3] > len(ll)\n",
      "[time_step:6]  initialised backbone parameters & optimizer\n",
      "[time_step:6]  training loop started ...\n",
      "[time_step:7]  training loop done!\n"
     ]
    },
    {
     "data": {
      "application/vnd.jupyter.widget-view+json": {
       "model_id": "2e2ceb81e7c54179a9ea52bfee255a61",
       "version_major": 2,
       "version_minor": 0
      },
      "text/plain": [
       "HBox(children=(FloatProgress(value=0.0, max=750.0), HTML(value='')))"
      ]
     },
     "metadata": {},
     "output_type": "display_data"
    },
    {
     "name": "stdout",
     "output_type": "stream",
     "text": [
      "\n"
     ]
    },
    {
     "data": {
      "application/vnd.jupyter.widget-view+json": {
       "model_id": "a725e11fa44043ababafcd45d163ee44",
       "version_major": 2,
       "version_minor": 0
      },
      "text/plain": [
       "HBox(children=(FloatProgress(value=0.0, max=625.0), HTML(value='')))"
      ]
     },
     "metadata": {},
     "output_type": "display_data"
    },
    {
     "name": "stdout",
     "output_type": "stream",
     "text": [
      "\n",
      "[time_step:7]  added observation\n",
      "[time_step:7]  reward at the end of time step is [-1]\n",
      "[ATA] batch shapes: [torch.Size([16, 27]) torch.Size([16, 1]) torch.Size([16])]\n",
      "[ATA] DQN optimisation step complete \n",
      "[ATA episode 73]: took [6.7] seconds for one full step\n",
      "[ATA] exploration policy enacted\n",
      "[time_step:7]  action [2] recieved\n",
      "[time_step:7]  decreased lr by 10% -> [lr:0.000243]\n",
      "[time_step:7]  received RE-INIT signal or rewind_steps[2] > len(ll)\n",
      "[time_step:7]  initialised backbone parameters & optimizer\n",
      "[time_step:7]  training loop started ...\n",
      "[time_step:8]  training loop done!\n"
     ]
    },
    {
     "data": {
      "application/vnd.jupyter.widget-view+json": {
       "model_id": "4564e5fbc8a34cad9f56bc7314c5bf2d",
       "version_major": 2,
       "version_minor": 0
      },
      "text/plain": [
       "HBox(children=(FloatProgress(value=0.0, max=750.0), HTML(value='')))"
      ]
     },
     "metadata": {},
     "output_type": "display_data"
    },
    {
     "name": "stdout",
     "output_type": "stream",
     "text": [
      "\n"
     ]
    },
    {
     "data": {
      "application/vnd.jupyter.widget-view+json": {
       "model_id": "002ba734fc82451ab24ddf3747717c34",
       "version_major": 2,
       "version_minor": 0
      },
      "text/plain": [
       "HBox(children=(FloatProgress(value=0.0, max=625.0), HTML(value='')))"
      ]
     },
     "metadata": {},
     "output_type": "display_data"
    },
    {
     "name": "stdout",
     "output_type": "stream",
     "text": [
      "\n",
      "[time_step:8]  added observation\n",
      "[time_step:8]  reward at the end of time step is [-1]\n",
      "[ATA] batch shapes: [torch.Size([16, 27]) torch.Size([16, 1]) torch.Size([16])]\n",
      "[ATA] DQN optimisation step complete \n",
      "[ATA episode 73]: took [6.8] seconds for one full step\n",
      "[ATA] state dimensions:  torch.Size([1, 27])\n",
      "[time_step:8]  action [7] recieved\n",
      "[time_step:8]  received RE-INIT signal or rewind_steps[2] > len(ll)\n",
      "[time_step:8]  initialised backbone parameters & optimizer\n",
      "[time_step:8]  training loop started ...\n"
     ]
    }
   ],
   "source": [
    "# Train an agent\n",
    "\n",
    "agent = AutoTrainAgent(env, DEVICE)\n",
    "\n",
    "num_episodes = 300\n",
    "for i_episode in range(num_episodes):\n",
    "    t = agent.episode(i_episode)\n",
    "    episode_durations.append(t + 1)\n",
    "    plot_durations()\n",
    "\n",
    "display.clear_output(wait=True)\n",
    "print('Complete')\n",
    "cpenv.env.render()\n",
    "cpenv.env.close()\n",
    "plt.ioff()"
   ]
  },
  {
   "cell_type": "code",
   "execution_count": null,
   "metadata": {},
   "outputs": [],
   "source": [
    "env.logmdp"
   ]
  },
  {
   "cell_type": "code",
   "execution_count": null,
   "metadata": {},
   "outputs": [],
   "source": [
    "env.observation_space_dim"
   ]
  },
  {
   "cell_type": "code",
   "execution_count": null,
   "metadata": {},
   "outputs": [],
   "source": []
  }
 ],
 "metadata": {
  "kernelspec": {
   "display_name": "Python 3",
   "language": "python",
   "name": "python3"
  },
  "language_info": {
   "codemirror_mode": {
    "name": "ipython",
    "version": 3
   },
   "file_extension": ".py",
   "mimetype": "text/x-python",
   "name": "python",
   "nbconvert_exporter": "python",
   "pygments_lexer": "ipython3",
   "version": "3.7.3"
  }
 },
 "nbformat": 4,
 "nbformat_minor": 4
}

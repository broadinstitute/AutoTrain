{
 "cells": [
  {
   "cell_type": "markdown",
   "metadata": {},
   "source": [
    "# Experiment Meta"
   ]
  },
  {
   "cell_type": "code",
   "execution_count": 1,
   "metadata": {},
   "outputs": [],
   "source": [
    "import sys, time\n",
    "from pathlib import Path"
   ]
  },
  {
   "cell_type": "code",
   "execution_count": 2,
   "metadata": {},
   "outputs": [],
   "source": [
    "sys.path.append('..')"
   ]
  },
  {
   "cell_type": "code",
   "execution_count": 3,
   "metadata": {},
   "outputs": [],
   "source": [
    "DATA_ROOT = Path('../data')\n",
    "RESULTS_ROOT = Path('./results')\n",
    "EXP_DIR = RESULTS_ROOT / 'self_play_proto_0_control'\n",
    "EXP_DIR.mkdir(exist_ok=True)\n",
    "assert not len(list(EXP_DIR.iterdir()))"
   ]
  },
  {
   "cell_type": "markdown",
   "metadata": {},
   "source": [
    "# Experiment Setup"
   ]
  },
  {
   "cell_type": "code",
   "execution_count": 4,
   "metadata": {},
   "outputs": [],
   "source": [
    "import matplotlib\n",
    "import matplotlib.pyplot as plt\n",
    "\n",
    "import torch\n",
    "import torch.nn as nn\n",
    "import torch.optim as optim\n",
    "import torch.nn.functional as F\n",
    "\n",
    "import torchvision\n",
    "import torchvision.transforms as transforms\n",
    "\n",
    "import numpy as np\n",
    "import pandas as pd\n",
    "import seaborn as sns; sns.set(rc={'figure.figsize':(7,7)})\n",
    "from IPython import display\n",
    "\n",
    "import gym\n",
    "\n",
    "from tqdm.notebook import tqdm\n",
    "\n",
    "import autotrain\n",
    "\n",
    "import autotrain.envs.utils as utils\n",
    "from autotrain.envs import AutoTrainEnvironment, Clf, ClfEngine\n",
    "from autotrain.envs.thresholdout import Thresholdout\n",
    "\n",
    "import autotrain.agent.A2C.train as train\n",
    "import autotrain.agent.A2C.buffer as buffer"
   ]
  },
  {
   "cell_type": "code",
   "execution_count": 5,
   "metadata": {},
   "outputs": [],
   "source": [
    "from functools import partial"
   ]
  },
  {
   "cell_type": "code",
   "execution_count": 6,
   "metadata": {},
   "outputs": [],
   "source": [
    "DEVICE = torch.device(\"cuda:4\")"
   ]
  },
  {
   "cell_type": "code",
   "execution_count": 7,
   "metadata": {},
   "outputs": [],
   "source": [
    "CLASSES = ('plane', 'car', 'bird', 'cat',\n",
    "           'deer', 'dog', 'frog', 'horse', 'ship', 'truck')\n",
    "\n",
    "def reduceds(ds, pct_cap, no_signal=False):\n",
    "    X, Y = ds.data, ds.targets\n",
    "    \n",
    "    if pct_cap:\n",
    "        cap = int(pct_cap*len(X))\n",
    "        X, Y = X[:cap], Y[:cap]\n",
    "        \n",
    "    \n",
    "    if no_signal:\n",
    "        print('suffling labels')\n",
    "        np.random.shuffle(Y)\n",
    "    \n",
    "    ds.data, ds.targets = X, Y\n",
    "\n",
    "def get_dataset(tfms, no_signal=False, pct_cap=None):\n",
    "    train = torchvision.datasets.CIFAR10(root=DATA_ROOT / 'cifar-10-data', train=True,\n",
    "                                        download=True, transform=tfms)\n",
    "\n",
    "    holdout = torchvision.datasets.CIFAR10(root=DATA_ROOT / 'cifar-10-data', train=False,\n",
    "                                           download=True, transform=tfms)\n",
    "        \n",
    "    # train.data, train.targets = train.data.numpy(),train.targets.numpy()\n",
    "    # holdout.data, holdout.targets = holdout.data.numpy(),  holdout.targets.numpy()\n",
    "    \n",
    "    reduceds(train, pct_cap, no_signal)\n",
    "    \n",
    "    print(f'length of trainset: [{len(train)}]; len of holdout: [{len(holdout)}]')\n",
    "    \n",
    "    return train, holdout\n"
   ]
  },
  {
   "cell_type": "code",
   "execution_count": 8,
   "metadata": {},
   "outputs": [
    {
     "name": "stdout",
     "output_type": "stream",
     "text": [
      "Files already downloaded and verified\n",
      "Files already downloaded and verified\n",
      "length of trainset: [25000]; len of holdout: [10000]\n"
     ]
    }
   ],
   "source": [
    "TFMS = transforms.Compose(\n",
    "    [transforms.ToTensor(),\n",
    "     transforms.Normalize((0.5, 0.5, 0.5), (0.5, 0.5, 0.5))])\n",
    "\n",
    "trnds, valds = get_dataset(TFMS, pct_cap=0.5)"
   ]
  },
  {
   "cell_type": "code",
   "execution_count": 9,
   "metadata": {},
   "outputs": [],
   "source": [
    "def accuracy(data: torch.utils.data.DataLoader, model: nn.Module): # phi\n",
    "    model.eval()\n",
    "    correct = 0\n",
    "    total = 0\n",
    "    \n",
    "    with torch.no_grad():\n",
    "        for batch in tqdm(data,total=len(data)):\n",
    "            images, labels = batch[0].to(DEVICE), batch[1]\n",
    "            outputs = model(images).cpu()\n",
    "            _, predicted = torch.max(outputs.data, 1)\n",
    "            total += labels.size(0)\n",
    "            correct += (predicted == labels).sum().item()\n",
    "            \n",
    "    return correct / total"
   ]
  },
  {
   "cell_type": "markdown",
   "metadata": {},
   "source": [
    "## Model"
   ]
  },
  {
   "cell_type": "code",
   "execution_count": 10,
   "metadata": {},
   "outputs": [],
   "source": [
    "class Classifier(nn.Module):\n",
    "    def __init__(self):\n",
    "        super().__init__()\n",
    "        self.conv1 = nn.Conv2d(3, 32, 3, 1) # 1->3 for CIFAR\n",
    "        self.conv2 = nn.Conv2d(32, 64, 3, 1)\n",
    "        self.dropout1 = nn.Dropout2d(0.25)\n",
    "        self.dropout2 = nn.Dropout2d(0.5)\n",
    "        self.fc1 = nn.Linear(12544, 128)\n",
    "        self.fc2 = nn.Linear(128, len(CLASSES))\n",
    "\n",
    "    def forward(self, x):\n",
    "        x = self.conv1(x)\n",
    "        x = F.relu(x)\n",
    "        x = self.conv2(x)\n",
    "        x = F.relu(x)\n",
    "        x = F.max_pool2d(x, 2)\n",
    "        x = self.dropout1(x)\n",
    "        x = torch.flatten(x, 1)\n",
    "        x = self.fc1(x)\n",
    "        x = F.relu(x)\n",
    "        x = self.dropout2(x)\n",
    "        x = self.fc2(x)\n",
    "        output = F.log_softmax(x, dim=1)\n",
    "        return output"
   ]
  },
  {
   "cell_type": "code",
   "execution_count": 11,
   "metadata": {},
   "outputs": [],
   "source": [
    "model = Classifier()"
   ]
  },
  {
   "cell_type": "markdown",
   "metadata": {},
   "source": [
    "## Baseline"
   ]
  },
  {
   "cell_type": "code",
   "execution_count": 12,
   "metadata": {},
   "outputs": [],
   "source": [
    "\"\"\"\n",
    "model, trnds, valds, phi: callable,\n",
    "criterion: callable = nn.CrossEntropyLoss(), opt: callable = optim.SGD,\n",
    "lr_init=3e-4, bs_init=16, max_lr=3, dev=None, v=False\n",
    "\"\"\"\n",
    "\n",
    "baseline = ClfEngine(Classifier(), trnds, valds, accuracy, dev=DEVICE, v=True, opt=optim.SGD)"
   ]
  },
  {
   "cell_type": "code",
   "execution_count": 13,
   "metadata": {},
   "outputs": [
    {
     "data": {
      "text/plain": [
       "Clf(history=array([], shape=(3, 0), dtype=float64), result=array([], dtype=float64))"
      ]
     },
     "execution_count": 13,
     "metadata": {},
     "output_type": "execute_result"
    }
   ],
   "source": [
    "baseline.clf()"
   ]
  },
  {
   "cell_type": "code",
   "execution_count": 14,
   "metadata": {},
   "outputs": [
    {
     "name": "stdout",
     "output_type": "stream",
     "text": [
      "[clf_engine]  training loop: started for [15630] updates; BS=[16] LR=[0.0003]!\n"
     ]
    },
    {
     "data": {
      "application/vnd.jupyter.widget-view+json": {
       "model_id": "516db7e309194729a36d5426044d99b4",
       "version_major": 2,
       "version_minor": 0
      },
      "text/plain": [
       "HBox(children=(FloatProgress(value=0.0, max=1563.0), HTML(value='')))"
      ]
     },
     "metadata": {},
     "output_type": "display_data"
    },
    {
     "name": "stdout",
     "output_type": "stream",
     "text": [
      "\n",
      "[clf_engine]  training loop: started for [14067] updates; BS=[16] LR=[0.0003]!\n"
     ]
    },
    {
     "data": {
      "application/vnd.jupyter.widget-view+json": {
       "model_id": "edee065cb12842a6aeb99cc5a373ffc5",
       "version_major": 2,
       "version_minor": 0
      },
      "text/plain": [
       "HBox(children=(FloatProgress(value=0.0, max=1563.0), HTML(value='')))"
      ]
     },
     "metadata": {},
     "output_type": "display_data"
    },
    {
     "name": "stdout",
     "output_type": "stream",
     "text": [
      "\n",
      "[clf_engine]  training loop: started for [12504] updates; BS=[16] LR=[0.0003]!\n"
     ]
    },
    {
     "data": {
      "application/vnd.jupyter.widget-view+json": {
       "model_id": "071109fca19d43c9a589d3801bb35cd8",
       "version_major": 2,
       "version_minor": 0
      },
      "text/plain": [
       "HBox(children=(FloatProgress(value=0.0, max=1563.0), HTML(value='')))"
      ]
     },
     "metadata": {},
     "output_type": "display_data"
    },
    {
     "name": "stdout",
     "output_type": "stream",
     "text": [
      "\n",
      "[clf_engine]  training loop: started for [10941] updates; BS=[16] LR=[0.0003]!\n"
     ]
    },
    {
     "data": {
      "application/vnd.jupyter.widget-view+json": {
       "model_id": "937844cb845c43ec962ca33c0be50317",
       "version_major": 2,
       "version_minor": 0
      },
      "text/plain": [
       "HBox(children=(FloatProgress(value=0.0, max=1563.0), HTML(value='')))"
      ]
     },
     "metadata": {},
     "output_type": "display_data"
    },
    {
     "name": "stdout",
     "output_type": "stream",
     "text": [
      "\n",
      "[clf_engine]  training loop: started for [9378] updates; BS=[16] LR=[0.0003]!\n"
     ]
    },
    {
     "data": {
      "application/vnd.jupyter.widget-view+json": {
       "model_id": "3b0925c4b86e4e2fac26d07b15e90b8d",
       "version_major": 2,
       "version_minor": 0
      },
      "text/plain": [
       "HBox(children=(FloatProgress(value=0.0, max=1563.0), HTML(value='')))"
      ]
     },
     "metadata": {},
     "output_type": "display_data"
    },
    {
     "name": "stdout",
     "output_type": "stream",
     "text": [
      "\n",
      "[clf_engine]  training loop: started for [7815] updates; BS=[16] LR=[0.0003]!\n"
     ]
    },
    {
     "data": {
      "application/vnd.jupyter.widget-view+json": {
       "model_id": "6376e3d9306449d0974c9ec37af4c935",
       "version_major": 2,
       "version_minor": 0
      },
      "text/plain": [
       "HBox(children=(FloatProgress(value=0.0, max=1563.0), HTML(value='')))"
      ]
     },
     "metadata": {},
     "output_type": "display_data"
    },
    {
     "name": "stdout",
     "output_type": "stream",
     "text": [
      "\n",
      "[clf_engine]  training loop: started for [6252] updates; BS=[16] LR=[0.0003]!\n"
     ]
    },
    {
     "data": {
      "application/vnd.jupyter.widget-view+json": {
       "model_id": "6ac348e42e57498ca89ff99228f31e76",
       "version_major": 2,
       "version_minor": 0
      },
      "text/plain": [
       "HBox(children=(FloatProgress(value=0.0, max=1563.0), HTML(value='')))"
      ]
     },
     "metadata": {},
     "output_type": "display_data"
    },
    {
     "name": "stdout",
     "output_type": "stream",
     "text": [
      "\n",
      "[clf_engine]  training loop: started for [4689] updates; BS=[16] LR=[0.0003]!\n"
     ]
    },
    {
     "data": {
      "application/vnd.jupyter.widget-view+json": {
       "model_id": "4edd320c0ebe473daba5739334c15921",
       "version_major": 2,
       "version_minor": 0
      },
      "text/plain": [
       "HBox(children=(FloatProgress(value=0.0, max=1563.0), HTML(value='')))"
      ]
     },
     "metadata": {},
     "output_type": "display_data"
    },
    {
     "name": "stdout",
     "output_type": "stream",
     "text": [
      "\n",
      "[clf_engine]  training loop: started for [3126] updates; BS=[16] LR=[0.0003]!\n"
     ]
    },
    {
     "data": {
      "application/vnd.jupyter.widget-view+json": {
       "model_id": "2a5f282f7a0146389b1ddc4fbf05180d",
       "version_major": 2,
       "version_minor": 0
      },
      "text/plain": [
       "HBox(children=(FloatProgress(value=0.0, max=1563.0), HTML(value='')))"
      ]
     },
     "metadata": {},
     "output_type": "display_data"
    },
    {
     "name": "stdout",
     "output_type": "stream",
     "text": [
      "\n",
      "[clf_engine]  training loop: started for [1563] updates; BS=[16] LR=[0.0003]!\n"
     ]
    },
    {
     "data": {
      "application/vnd.jupyter.widget-view+json": {
       "model_id": "a362f070faf4434c839a3489142ffa51",
       "version_major": 2,
       "version_minor": 0
      },
      "text/plain": [
       "HBox(children=(FloatProgress(value=0.0, max=1563.0), HTML(value='')))"
      ]
     },
     "metadata": {},
     "output_type": "display_data"
    },
    {
     "name": "stdout",
     "output_type": "stream",
     "text": [
      "\n",
      "[clf_engine]  training loop: done!\n"
     ]
    }
   ],
   "source": [
    "baseline.do_updates(len(baseline.trndl) * 10)"
   ]
  },
  {
   "cell_type": "code",
   "execution_count": 15,
   "metadata": {},
   "outputs": [
    {
     "data": {
      "text/plain": [
       "15630"
      ]
     },
     "execution_count": 15,
     "metadata": {},
     "output_type": "execute_result"
    }
   ],
   "source": [
    "baseline.optim_step"
   ]
  },
  {
   "cell_type": "code",
   "execution_count": 16,
   "metadata": {},
   "outputs": [
    {
     "data": {
      "application/vnd.jupyter.widget-view+json": {
       "model_id": "cd3688cfc5eb4e56ada92459661aae12",
       "version_major": 2,
       "version_minor": 0
      },
      "text/plain": [
       "HBox(children=(FloatProgress(value=0.0, max=1563.0), HTML(value='')))"
      ]
     },
     "metadata": {},
     "output_type": "display_data"
    },
    {
     "name": "stdout",
     "output_type": "stream",
     "text": [
      "\n"
     ]
    },
    {
     "data": {
      "application/vnd.jupyter.widget-view+json": {
       "model_id": "75d60d8bf7d743d49b2478957ec9191c",
       "version_major": 2,
       "version_minor": 0
      },
      "text/plain": [
       "HBox(children=(FloatProgress(value=0.0, max=625.0), HTML(value='')))"
      ]
     },
     "metadata": {},
     "output_type": "display_data"
    },
    {
     "name": "stdout",
     "output_type": "stream",
     "text": [
      "\n"
     ]
    }
   ],
   "source": [
    "baseline.result += [baseline.test()]"
   ]
  },
  {
   "cell_type": "code",
   "execution_count": 17,
   "metadata": {},
   "outputs": [],
   "source": [
    "baseline_clf=baseline.clf()"
   ]
  },
  {
   "cell_type": "code",
   "execution_count": 18,
   "metadata": {},
   "outputs": [
    {
     "data": {
      "text/plain": [
       "((3, 15630), array([0.35528]))"
      ]
     },
     "execution_count": 18,
     "metadata": {},
     "output_type": "execute_result"
    }
   ],
   "source": [
    "baseline_clf.history.shape, baseline_clf.result"
   ]
  },
  {
   "cell_type": "code",
   "execution_count": 19,
   "metadata": {},
   "outputs": [
    {
     "data": {
      "text/plain": [
       "<matplotlib.axes._subplots.AxesSubplot at 0x7efe88e9cf60>"
      ]
     },
     "execution_count": 19,
     "metadata": {},
     "output_type": "execute_result"
    },
    {
     "data": {
      "image/png": "[encoded data removed]",
      "text/plain": [
       "<Figure size 504x504 with 1 Axes>"
      ]
     },
     "metadata": {},
     "output_type": "display_data"
    }
   ],
   "source": [
    "sns.lineplot(x=range(len(baseline_clf.history[0])), y=baseline_clf.history[0])"
   ]
  },
  {
   "cell_type": "markdown",
   "metadata": {},
   "source": [
    "## Env"
   ]
  },
  {
   "cell_type": "code",
   "execution_count": 20,
   "metadata": {},
   "outputs": [],
   "source": [
    "U = 30\n",
    "horizon = 500\n",
    "\n",
    "BPE = len(trnds) // 16"
   ]
  },
  {
   "cell_type": "code",
   "execution_count": 21,
   "metadata": {},
   "outputs": [
    {
     "data": {
      "text/plain": [
       "9"
      ]
     },
     "execution_count": 21,
     "metadata": {},
     "output_type": "execute_result"
    }
   ],
   "source": [
    "(U*horizon )// BPE"
   ]
  },
  {
   "cell_type": "code",
   "execution_count": 22,
   "metadata": {},
   "outputs": [],
   "source": [
    "ate = gym.make('AutoTrain-v0')\n",
    "ate.set_config()\n",
    "ate.seed()"
   ]
  },
  {
   "cell_type": "code",
   "execution_count": 23,
   "metadata": {},
   "outputs": [
    {
     "name": "stderr",
     "output_type": "stream",
     "text": [
      "/home/jupyter-skenjeye@broadinst-05974/.local/lib/python3.7/site-packages/gym/logger.py:30: UserWarning: \u001b[33mWARN: Box bound precision lowered by casting to float32\u001b[0m\n",
      "  warnings.warn(colorize('%s: %s'%('WARN', msg % args), 'yellow'))\n"
     ]
    },
    {
     "name": "stdout",
     "output_type": "stream",
     "text": [
      "[ATE:0]  environment initialised : <autotrain.envs.autotrain_env.AutoTrainEnvironment object at 0x7efe88df1208>\n"
     ]
    }
   ],
   "source": [
    "\"\"\"\n",
    "baseline: Clf, competitor: ClfEngine, savedir: Path,\n",
    "U=30, horizon=50, step_reward=0.1, terminal_reward=10, update_penalty=0.1,\n",
    "num_workers=4, v=False, device=None\n",
    "\"\"\"\n",
    "_ = ate.init(baseline=baseline_clf,  \n",
    "         competitor=ClfEngine(Classifier(),trnds, valds, accuracy, dev=DEVICE, v=True, opt=optim.SGD), \n",
    "         savedir=EXP_DIR, U=30, horizon=500, device=DEVICE, v=True, o_dim=(256, 256))"
   ]
  },
  {
   "cell_type": "code",
   "execution_count": 24,
   "metadata": {},
   "outputs": [
    {
     "data": {
      "image/png": "[encoded data removed]",
      "text/plain": [
       "<Figure size 648x648 with 6 Axes>"
      ]
     },
     "metadata": {},
     "output_type": "display_data"
    }
   ],
   "source": [
    "fg = ate.render()"
   ]
  },
  {
   "cell_type": "markdown",
   "metadata": {},
   "source": [
    "## Agent"
   ]
  },
  {
   "cell_type": "markdown",
   "metadata": {},
   "source": [
    "env: AutoTrainEnvironment, state_shape: np.array, action_dim: int,\n",
    "action_lim: np.array, ram, savedir: Path, bs=32, lr=3e-4, dev=None"
   ]
  },
  {
   "cell_type": "code",
   "execution_count": 25,
   "metadata": {},
   "outputs": [],
   "source": [
    "MAX_EPISODES = 1_000\n",
    "MAX_BUFFER = 1_000_000\n",
    "\n",
    "S_DIM = ate.observation_space.shape\n",
    "A_DIM = ate.action_space.shape[0]\n",
    "A_MAX = ate.action_space.high\n",
    "\n",
    "ram = buffer.MemoryBuffer(MAX_BUFFER)\n",
    "trainer = train.Trainer(ate, S_DIM, A_DIM, A_MAX, ram, savedir=EXP_DIR, dev=DEVICE)"
   ]
  },
  {
   "cell_type": "markdown",
   "metadata": {},
   "source": [
    "# Experiment Execution"
   ]
  },
  {
   "cell_type": "markdown",
   "metadata": {},
   "source": [
    "## Agent Training Loop"
   ]
  },
  {
   "cell_type": "code",
   "execution_count": null,
   "metadata": {},
   "outputs": [
    {
     "name": "stdout",
     "output_type": "stream",
     "text": [
      "[EP:0] starting ...\n",
      "[clf_engine]  re-init complete\n"
     ]
    },
    {
     "name": "stderr",
     "output_type": "stream",
     "text": [
      "/home/jupyter-skenjeye@broadinst-05974/.local/lib/python3.7/site-packages/gym/logger.py:30: UserWarning: \u001b[33mWARN: Box bound precision lowered by casting to float32\u001b[0m\n",
      "  warnings.warn(colorize('%s: %s'%('WARN', msg % args), 'yellow'))\n"
     ]
    },
    {
     "name": "stdout",
     "output_type": "stream",
     "text": [
      "[ATE:0]  environment initialised : <autotrain.envs.autotrain_env.AutoTrainEnvironment object at 0x7efe88df1208>\n",
      "[ATE:0]  action [[1.09308879 0.89319987 0.48093207 0.46074847]] recieved\n",
      "[clf_engine]  scaled BS by [1.0930887872957937]; BS=[17]\n",
      "[clf_engine]  scaled LR by [0.8931998713987693]; LR=[0.0003]\n",
      "[clf_engine]  training loop: started for [30] updates; BS=[17] LR=[0.00026795996141963077]!\n"
     ]
    },
    {
     "data": {
      "application/vnd.jupyter.widget-view+json": {
       "model_id": "69c72a774bba4f308c61bc83f6ad646e",
       "version_major": 2,
       "version_minor": 0
      },
      "text/plain": [
       "HBox(children=(FloatProgress(value=0.0, max=1471.0), HTML(value='')))"
      ]
     },
     "metadata": {},
     "output_type": "display_data"
    },
    {
     "name": "stdout",
     "output_type": "stream",
     "text": [
      "\n",
      "[clf_engine]  training loop: done!\n",
      "[ATE:1]  delta is: [0.0092]; scaled delta is [0.0009]\n",
      "[ATE:1]  [2.3464272022247314, 2.3204803466796875, 2.311323881149292, 2.354248046875, 2.2811219692230225, 2.3160667419433594, 2.2888412475585938, 2.3721065521240234, 2.268167495727539, 2.3176398277282715]\n",
      "[ATE:1]  [2.30199552 2.28984737 2.30422854 2.30679798 2.31086946 2.28675294\n",
      " 2.31137419 2.32247281 2.33111858 2.31946421]\n",
      "[ATE:1]  reward at the end of time step is [0.0009150171279907138]\n",
      "[ATA episode 0]: took [4.3] seconds for one full step\n",
      "[ATE:1]  action [[1.250785   0.8858862  0.45830127 0.46908915]] recieved\n",
      "[clf_engine]  scaled BS by [1.250784996654421]; BS=[21]\n",
      "[clf_engine]  scaled LR by [0.8858862004058673]; LR=[0.00026795996141963077]\n",
      "[clf_engine]  training loop: started for [30] updates; BS=[21] LR=[0.0002373820320829395]!\n"
     ]
    },
    {
     "data": {
      "application/vnd.jupyter.widget-view+json": {
       "model_id": "08f2ee63100843248e415a770a698e15",
       "version_major": 2,
       "version_minor": 0
      },
      "text/plain": [
       "HBox(children=(FloatProgress(value=0.0, max=1191.0), HTML(value='')))"
      ]
     },
     "metadata": {},
     "output_type": "display_data"
    },
    {
     "name": "stdout",
     "output_type": "stream",
     "text": [
      "\n",
      "[clf_engine]  training loop: done!\n",
      "[ATE:2]  delta is: [0.0281]; scaled delta is [0.0028]\n",
      "[ATE:2]  [2.3558998107910156, 2.314642906188965, 2.3474764823913574, 2.3556246757507324, 2.309558391571045, 2.26275372505188, 2.3205573558807373, 2.3172175884246826, 2.3243439197540283, 2.341383695602417]\n",
      "[ATE:2]  [2.28584123 2.30329084 2.28398776 2.29987979 2.30531788 2.27243328\n",
      " 2.29202318 2.30917263 2.30914831 2.30753446]\n",
      "[ATE:2]  reward at the end of time step is [0.002808291912078831]\n",
      "[ATA episode 0]: took [4.1] seconds for one full step\n",
      "[ATE:2]  action [[1.19418077 1.08100845 0.44479625 0.47418785]] recieved\n",
      "[clf_engine]  scaled BS by [1.1941807717522008]; BS=[25]\n",
      "[clf_engine]  scaled LR by [1.0810084466526144]; LR=[0.0002373820320829395]\n",
      "[clf_engine]  training loop: started for [30] updates; BS=[25] LR=[0.00025661198176521954]!\n"
     ]
    },
    {
     "data": {
      "application/vnd.jupyter.widget-view+json": {
       "model_id": "7e9d56ee63864becae9162611f847542",
       "version_major": 2,
       "version_minor": 0
      },
      "text/plain": [
       "HBox(children=(FloatProgress(value=0.0, max=1000.0), HTML(value='')))"
      ]
     },
     "metadata": {},
     "output_type": "display_data"
    },
    {
     "name": "stdout",
     "output_type": "stream",
     "text": [
      "\n",
      "[clf_engine]  training loop: done!\n",
      "[ATE:3]  delta is: [0.0171]; scaled delta is [0.0017]\n",
      "[ATE:3]  [2.3234124183654785, 2.335244655609131, 2.3246963024139404, 2.351278781890869, 2.31013560295105, 2.2843050956726074, 2.2975525856018066, 2.319615125656128, 2.3374392986297607, 2.322500705718994]\n",
      "[ATE:3]  [2.3072474  2.29463959 2.29429102 2.30367351 2.30659676 2.30786061\n",
      " 2.30676365 2.3033843  2.30733657 2.30314207]\n",
      "[ATE:3]  reward at the end of time step is [0.0017124509811401456]\n",
      "[ATA episode 0]: took [4.1] seconds for one full step\n",
      "[ATE:3]  action [[1.17422685 0.80466478 0.3919065  0.40302019]] recieved\n",
      "[clf_engine]  scaled BS by [1.174226853032136]; BS=[29]\n",
      "[clf_engine]  scaled LR by [0.8046647848021733]; LR=[0.00025661198176521954]\n",
      "[clf_engine]  training loop: started for [30] updates; BS=[29] LR=[0.0002064866250847696]!\n"
     ]
    },
    {
     "data": {
      "application/vnd.jupyter.widget-view+json": {
       "model_id": "7b9227f4889f4efa9cfcd76f22d87f90",
       "version_major": 2,
       "version_minor": 0
      },
      "text/plain": [
       "HBox(children=(FloatProgress(value=0.0, max=863.0), HTML(value='')))"
      ]
     },
     "metadata": {},
     "output_type": "display_data"
    },
    {
     "name": "stdout",
     "output_type": "stream",
     "text": [
      "\n",
      "[clf_engine]  training loop: done!\n",
      "[ATE:4]  delta is: [0.0072]; scaled delta is [0.0007]\n",
      "[ATE:4]  [2.2853286266326904, 2.3159945011138916, 2.3111205101013184, 2.3052332401275635, 2.2793779373168945, 2.3202438354492188, 2.316025733947754, 2.2916946411132812, 2.3093972206115723, 2.327239751815796]\n",
      "[ATE:4]  [2.28428745 2.29990554 2.28221464 2.29666901 2.29554105 2.31435394\n",
      " 2.30810571 2.30499911 2.2959733  2.30761337]\n",
      "[ATE:4]  reward at the end of time step is [0.0007199287414550782]\n",
      "[ATA episode 0]: took [4.1] seconds for one full step\n",
      "[ATE:4]  action [[1.12092962 0.72365427 0.44587659 0.39090407]] recieved\n",
      "[clf_engine]  scaled BS by [1.1209296203837207]; BS=[32]\n",
      "[clf_engine]  scaled LR by [0.723654271166891]; LR=[0.0002064866250847696]\n",
      "[clf_engine]  training loop: started for [30] updates; BS=[32] LR=[0.00014942492818143002]!\n"
     ]
    },
    {
     "data": {
      "application/vnd.jupyter.widget-view+json": {
       "model_id": "bbb14032f1024467953ae727763afe88",
       "version_major": 2,
       "version_minor": 0
      },
      "text/plain": [
       "HBox(children=(FloatProgress(value=0.0, max=782.0), HTML(value='')))"
      ]
     },
     "metadata": {},
     "output_type": "display_data"
    },
    {
     "name": "stdout",
     "output_type": "stream",
     "text": [
      "\n",
      "[clf_engine]  training loop: done!\n",
      "[ATE:5]  delta is: [0.0021]; scaled delta is [0.0002]\n",
      "[ATE:5]  [2.3225350379943848, 2.303816795349121, 2.3518900871276855, 2.305267333984375, 2.279387950897217, 2.2836196422576904, 2.283853530883789, 2.319946765899658, 2.3205068111419678, 2.2867283821105957]\n",
      "[ATE:5]  [2.28204823 2.31153131 2.30815029 2.28892922 2.32862663 2.31832361\n",
      " 2.31053257 2.29837179 2.2960093  2.29381442]\n",
      "[ATE:5]  reward at the end of time step is [0.000212149620056179]\n",
      "[ATA episode 0]: took [4.0] seconds for one full step\n",
      "[ATE:5]  action [[1.16376125 0.84879199 0.50330337 0.4538173 ]] recieved\n",
      "[clf_engine]  scaled BS by [1.1637612471872798]; BS=[37]\n",
      "[clf_engine]  scaled LR by [0.8487919855042808]; LR=[0.00014942492818143002]\n",
      "[clf_engine]  training loop: started for [30] updates; BS=[37] LR=[0.00012683068147495056]!\n"
     ]
    },
    {
     "data": {
      "application/vnd.jupyter.widget-view+json": {
       "model_id": "d116121ec676486a8afbc8a052c26c22",
       "version_major": 2,
       "version_minor": 0
      },
      "text/plain": [
       "HBox(children=(FloatProgress(value=0.0, max=676.0), HTML(value='')))"
      ]
     },
     "metadata": {},
     "output_type": "display_data"
    },
    {
     "name": "stdout",
     "output_type": "stream",
     "text": [
      "\n",
      "[clf_engine]  training loop: done!\n",
      "[ATE:6]  delta is: [-0.0006]; scaled delta is [-0.0001]\n",
      "[ATE:6]  [2.316702127456665, 2.2737081050872803, 2.3032097816467285, 2.35142183303833, 2.309154510498047, 2.2989988327026367, 2.2843329906463623, 2.3016014099121094, 2.289759874343872, 2.2987918853759766]\n",
      "[ATE:6]  [2.32058907 2.29318213 2.30235839 2.3159039  2.27655387 2.28889799\n",
      " 2.30539966 2.30133367 2.31542587 2.31364417]\n",
      "[ATE:6]  reward at the end of time step is [-5.607366561890537e-05]\n",
      "[ATA episode 0]: took [3.8] seconds for one full step\n",
      "[ATE:6]  action [[1.12644004 1.00623203 0.5277173  0.45397432]] recieved\n",
      "[clf_engine]  scaled BS by [1.1264400416827165]; BS=[41]\n",
      "[clf_engine]  scaled LR by [1.0062320251951777]; LR=[0.00012683068147495056]\n",
      "[clf_engine]  training loop: started for [30] updates; BS=[41] LR=[0.000127621093477424]!\n"
     ]
    },
    {
     "data": {
      "application/vnd.jupyter.widget-view+json": {
       "model_id": "308b96ebf55e40329f64f332f7bb91a4",
       "version_major": 2,
       "version_minor": 0
      },
      "text/plain": [
       "HBox(children=(FloatProgress(value=0.0, max=610.0), HTML(value='')))"
      ]
     },
     "metadata": {},
     "output_type": "display_data"
    },
    {
     "name": "stdout",
     "output_type": "stream",
     "text": [
      "\n",
      "[clf_engine]  training loop: done!\n",
      "[ATE:7]  delta is: [0.0045]; scaled delta is [0.0004]\n",
      "[ATE:7]  [2.2861545085906982, 2.27554988861084, 2.3129642009735107, 2.315737009048462, 2.254826307296753, 2.3510348796844482, 2.325249195098877, 2.323451519012451, 2.300008535385132, 2.360085964202881]\n",
      "[ATE:7]  [2.30478883 2.30483818 2.31082201 2.31126761 2.29985523 2.30050683\n",
      " 2.30060196 2.32353139 2.2971549  2.30712008]\n",
      "[ATE:7]  reward at the end of time step is [0.0004457497596740634]\n",
      "[ATA episode 0]: took [3.7] seconds for one full step\n",
      "[ATE:7]  action [[1.01442667 0.98900118 0.42362227 0.48368458]] recieved\n",
      "[clf_engine]  scaled BS by [1.014426671780438]; BS=[41]\n",
      "[clf_engine]  scaled LR by [0.989001177629162]; LR=[0.000127621093477424]\n",
      "[clf_engine]  training loop: started for [30] updates; BS=[41] LR=[0.0001262174117394937]!\n"
     ]
    },
    {
     "data": {
      "application/vnd.jupyter.widget-view+json": {
       "model_id": "a56c6d1f9de04e2c967a31715a13d58e",
       "version_major": 2,
       "version_minor": 0
      },
      "text/plain": [
       "HBox(children=(FloatProgress(value=0.0, max=610.0), HTML(value='')))"
      ]
     },
     "metadata": {},
     "output_type": "display_data"
    },
    {
     "name": "stdout",
     "output_type": "stream",
     "text": [
      "\n",
      "[clf_engine]  training loop: done!\n",
      "[ATE:8]  delta is: [0.0035]; scaled delta is [0.0003]\n",
      "[ATE:8]  [2.304049253463745, 2.2624974250793457, 2.3189680576324463, 2.327057361602783, 2.300825834274292, 2.272042751312256, 2.3302228450775146, 2.311699867248535, 2.3068535327911377, 2.3450119495391846]\n",
      "[ATE:8]  [2.31254029 2.31075454 2.30015373 2.30537319 2.31734538 2.32222009\n",
      " 2.29688072 2.28965497 2.30121541 2.28856373]\n",
      "[ATE:8]  reward at the end of time step is [0.0003452682495117099]\n",
      "[ATA episode 0]: took [3.7] seconds for one full step\n",
      "[ATE:8]  action [[0.9908737  1.0522752  0.42836791 0.46367812]] recieved\n",
      "[clf_engine]  scaled BS by [0.990873697102616]; BS=[40]\n",
      "[clf_engine]  scaled LR by [1.0522752015248955]; LR=[0.0001262174117394937]\n",
      "[clf_engine]  training loop: started for [30] updates; BS=[40] LR=[0.00013281545237412646]!\n"
     ]
    },
    {
     "data": {
      "application/vnd.jupyter.widget-view+json": {
       "model_id": "eb3de2be90764eb78591196f58ef2b19",
       "version_major": 2,
       "version_minor": 0
      },
      "text/plain": [
       "HBox(children=(FloatProgress(value=0.0, max=625.0), HTML(value='')))"
      ]
     },
     "metadata": {},
     "output_type": "display_data"
    },
    {
     "name": "stdout",
     "output_type": "stream",
     "text": [
      "\n",
      "[clf_engine]  training loop: done!\n",
      "[ATE:9]  delta is: [0.0038]; scaled delta is [0.0004]\n",
      "[ATE:9]  [2.2925310134887695, 2.293628454208374, 2.298353672027588, 2.3264670372009277, 2.3140170574188232, 2.350358724594116, 2.301158905029297, 2.298518180847168, 2.3323514461517334, 2.3194634914398193]\n",
      "[ATE:9]  [2.2783494  2.33228898 2.31510139 2.32026076 2.30188751 2.30479717\n",
      " 2.30317307 2.30162382 2.3109262  2.32023501]\n",
      "[ATE:9]  reward at the end of time step is [0.000382046699523908]\n",
      "[ATA episode 0]: took [3.5] seconds for one full step\n",
      "[ATE:9]  action [[1.05010716 1.16419384 0.44520862 0.54034285]] recieved\n",
      "[clf_engine]  scaled BS by [1.0501071607138663]; BS=[42]\n",
      "[clf_engine]  scaled LR by [1.164193840496749]; LR=[0.00013281545237412646]\n",
      "[clf_engine]  training loop: started for [30] updates; BS=[42] LR=[0.00015462293157674734]!\n"
     ]
    },
    {
     "data": {
      "application/vnd.jupyter.widget-view+json": {
       "model_id": "e6c8bdcfd8d4474d9e42284600277e7c",
       "version_major": 2,
       "version_minor": 0
      },
      "text/plain": [
       "HBox(children=(FloatProgress(value=0.0, max=596.0), HTML(value='')))"
      ]
     },
     "metadata": {},
     "output_type": "display_data"
    },
    {
     "name": "stdout",
     "output_type": "stream",
     "text": [
      "\n",
      "[clf_engine]  training loop: done!\n"
     ]
    },
    {
     "data": {
      "application/vnd.jupyter.widget-view+json": {
       "model_id": "93319a1d6e97444d9c0608e310bda4d0",
       "version_major": 2,
       "version_minor": 0
      },
      "text/plain": [
       "HBox(children=(FloatProgress(value=0.0, max=1563.0), HTML(value='')))"
      ]
     },
     "metadata": {},
     "output_type": "display_data"
    },
    {
     "name": "stdout",
     "output_type": "stream",
     "text": [
      "\n"
     ]
    },
    {
     "data": {
      "application/vnd.jupyter.widget-view+json": {
       "model_id": "a8ec69f66c0644f087d2658d0976efb3",
       "version_major": 2,
       "version_minor": 0
      },
      "text/plain": [
       "HBox(children=(FloatProgress(value=0.0, max=625.0), HTML(value='')))"
      ]
     },
     "metadata": {},
     "output_type": "display_data"
    },
    {
     "name": "stdout",
     "output_type": "stream",
     "text": [
      "\n",
      "[ATE:10]  delta is: [-0.0003]; scaled delta is [-0.0000]\n",
      "[ATE:10]  [2.2992007732391357, 2.3124091625213623, 2.2893383502960205, 2.2976622581481934, 2.2537684440612793, 2.3269221782684326, 2.3108654022216797, 2.283564805984497, 2.3263754844665527, 2.300130844116211]\n",
      "[ATE:10]  [2.2938199  2.27571893 2.30302763 2.30292368 2.30571461 2.30162477\n",
      " 2.30547309 2.29226065 2.30736136 2.31487107]\n",
      "[ATE:10]  reward at the end of time step is [-2.5579929351815522e-05]\n",
      "[ATA episode 0]: took [8.6] seconds for one full step\n",
      "[ATE:10]  action [[1.08738456 1.31094436 0.42824881 0.57864598]] recieved\n",
      "[clf_engine]  scaled BS by [1.087384563497577]; BS=[45]\n",
      "[clf_engine]  scaled LR by [1.3109443565932364]; LR=[0.00015462293157674734]\n",
      "[clf_engine]  training loop: started for [30] updates; BS=[45] LR=[0.00020270205955043907]!\n"
     ]
    },
    {
     "data": {
      "application/vnd.jupyter.widget-view+json": {
       "model_id": "1b71e451b73b4416927ad443006946f0",
       "version_major": 2,
       "version_minor": 0
      },
      "text/plain": [
       "HBox(children=(FloatProgress(value=0.0, max=556.0), HTML(value='')))"
      ]
     },
     "metadata": {},
     "output_type": "display_data"
    },
    {
     "name": "stdout",
     "output_type": "stream",
     "text": [
      "\n",
      "[clf_engine]  training loop: done!\n",
      "[ATE:11]  delta is: [-0.0112]; scaled delta is [-0.0011]\n",
      "[ATE:11]  [2.2880618572235107, 2.312483787536621, 2.2503318786621094, 2.2995822429656982, 2.3066842555999756, 2.2851622104644775, 2.3069534301757812, 2.299922227859497, 2.291231393814087, 2.2925190925598145]\n",
      "[ATE:11]  [2.2918334  2.31127381 2.31289935 2.29878759 2.30510402 2.30379891\n",
      " 2.30384874 2.30253839 2.31143713 2.30325603]\n",
      "[ATE:11]  reward at the end of time step is [-0.001118450164794904]\n",
      "[ATA episode 0]: took [3.7] seconds for one full step\n",
      "[ATE:11]  action [[1.11408358 1.23044082 0.36385175 0.52430045]] recieved\n",
      "[clf_engine]  scaled BS by [1.1140835763502992]; BS=[50]\n",
      "[clf_engine]  scaled LR by [1.2304408186490718]; LR=[0.00020270205955043907]\n",
      "[clf_engine]  training loop: started for [30] updates; BS=[50] LR=[0.00024941288809509515]!\n"
     ]
    },
    {
     "data": {
      "application/vnd.jupyter.widget-view+json": {
       "model_id": "46f4abd04c57431eb590ab8dd4fec22e",
       "version_major": 2,
       "version_minor": 0
      },
      "text/plain": [
       "HBox(children=(FloatProgress(value=0.0, max=500.0), HTML(value='')))"
      ]
     },
     "metadata": {},
     "output_type": "display_data"
    },
    {
     "name": "stdout",
     "output_type": "stream",
     "text": [
      "\n",
      "[clf_engine]  training loop: done!\n",
      "[ATE:12]  delta is: [0.0023]; scaled delta is [0.0002]\n",
      "[ATE:12]  [2.3092422485351562, 2.2798562049865723, 2.3250656127929688, 2.2861413955688477, 2.3072876930236816, 2.333500623703003, 2.3143868446350098, 2.2906224727630615, 2.32260799407959, 2.291497230529785]\n",
      "[ATE:12]  [2.30783415 2.3142941  2.28605223 2.31712723 2.30322552 2.31472874\n",
      " 2.28978562 2.29286718 2.30827546 2.30340385]\n",
      "[ATE:12]  reward at the end of time step is [0.00022614240646361418]\n",
      "[ATA episode 0]: took [3.8] seconds for one full step\n",
      "[ATE:12]  action [[1.1590055  1.16683694 0.37918274 0.55925605]] recieved\n",
      "[clf_engine]  scaled BS by [1.1590055005025046]; BS=[57]\n",
      "[clf_engine]  scaled LR by [1.1668369428616472]; LR=[0.00024941288809509515]\n",
      "[clf_engine]  training loop: started for [30] updates; BS=[57] LR=[0.0002910241718551749]!\n"
     ]
    },
    {
     "data": {
      "application/vnd.jupyter.widget-view+json": {
       "model_id": "d0eedea0372b4a4893cf19cd9a9f9564",
       "version_major": 2,
       "version_minor": 0
      },
      "text/plain": [
       "HBox(children=(FloatProgress(value=0.0, max=439.0), HTML(value='')))"
      ]
     },
     "metadata": {},
     "output_type": "display_data"
    },
    {
     "name": "stdout",
     "output_type": "stream",
     "text": [
      "\n",
      "[clf_engine]  training loop: done!\n",
      "[ATE:13]  delta is: [-0.0020]; scaled delta is [-0.0002]\n",
      "[ATE:13]  [2.3048031330108643, 2.3240420818328857, 2.270122766494751, 2.2957379817962646, 2.2869081497192383, 2.301520824432373, 2.2955379486083984, 2.2832517623901367, 2.3091657161712646, 2.3021998405456543]\n",
      "[ATE:13]  [2.30549812 2.29493761 2.28944302 2.30335546 2.29356122 2.27998328\n",
      " 2.32695913 2.29733515 2.30905151 2.29349613]\n",
      "[ATE:13]  reward at the end of time step is [-0.00020330429077146663]\n",
      "[ATA episode 0]: took [3.9] seconds for one full step\n",
      "[ATE:13]  action [[1.05723624 1.20349588 0.44707971 0.60126344]] recieved\n",
      "[clf_engine]  scaled BS by [1.0572362448501078]; BS=[60]\n",
      "[clf_engine]  scaled LR by [1.2034958750701832]; LR=[0.0002910241718551749]\n",
      "[clf_engine]  training loop: started for [30] updates; BS=[60] LR=[0.0003502463903734191]!\n"
     ]
    },
    {
     "data": {
      "application/vnd.jupyter.widget-view+json": {
       "model_id": "ba992c2af267404e85fc3786ace797ce",
       "version_major": 2,
       "version_minor": 0
      },
      "text/plain": [
       "HBox(children=(FloatProgress(value=0.0, max=417.0), HTML(value='')))"
      ]
     },
     "metadata": {},
     "output_type": "display_data"
    },
    {
     "name": "stdout",
     "output_type": "stream",
     "text": [
      "\n",
      "[clf_engine]  training loop: done!\n",
      "[ATE:14]  delta is: [-0.0064]; scaled delta is [-0.0006]\n",
      "[ATE:14]  [2.291973829269409, 2.2745823860168457, 2.2921643257141113, 2.269657611846924, 2.2974090576171875, 2.2922863960266113, 2.3065907955169678, 2.2622358798980713, 2.3039426803588867, 2.3267292976379395]\n",
      "[ATE:14]  [2.27710724 2.28156996 2.27520227 2.30164766 2.30955935 2.30116844\n",
      " 2.30940747 2.32399058 2.28931379 2.31286812]\n",
      "[ATE:14]  reward at the end of time step is [-0.0006426262855529608]\n",
      "[ATA episode 0]: took [4.0] seconds for one full step\n",
      "[ATE:14]  action [[1.13540891 1.08987086 0.34537204 0.53921769]] recieved\n",
      "[clf_engine]  scaled BS by [1.13540891433629]; BS=[68]\n",
      "[clf_engine]  scaled LR by [1.0898708606947063]; LR=[0.0003502463903734191]\n",
      "[clf_engine]  training loop: started for [30] updates; BS=[68] LR=[0.00038172333493149236]!\n"
     ]
    },
    {
     "data": {
      "application/vnd.jupyter.widget-view+json": {
       "model_id": "71723b64d94f4473a776b543250c9542",
       "version_major": 2,
       "version_minor": 0
      },
      "text/plain": [
       "HBox(children=(FloatProgress(value=0.0, max=368.0), HTML(value='')))"
      ]
     },
     "metadata": {},
     "output_type": "display_data"
    },
    {
     "name": "stdout",
     "output_type": "stream",
     "text": [
      "\n",
      "[clf_engine]  training loop: done!\n",
      "[ATE:15]  delta is: [-0.0173]; scaled delta is [-0.0017]\n",
      "[ATE:15]  [2.3055005073547363, 2.3159737586975098, 2.3029565811157227, 2.282726526260376, 2.300333023071289, 2.319664716720581, 2.2709829807281494, 2.292283296585083, 2.2931623458862305, 2.2829394340515137]\n",
      "[ATE:15]  [2.32045102 2.30720282 2.3190372  2.30763149 2.29926729 2.31523657\n",
      " 2.31363702 2.33242917 2.31001043 2.31413913]\n",
      "[ATE:15]  reward at the end of time step is [-0.0017251896858215155]\n",
      "[ATA episode 0]: took [3.7] seconds for one full step\n",
      "[ATE:15]  action [[1.07088449 1.02203259 0.37573087 0.49589976]] recieved\n",
      "[clf_engine]  scaled BS by [1.070884491365099]; BS=[72]\n",
      "[clf_engine]  scaled LR by [1.022032593718129]; LR=[0.00038172333493149236]\n",
      "[clf_engine]  training loop: started for [30] updates; BS=[72] LR=[0.00039013369008276716]!\n"
     ]
    },
    {
     "data": {
      "application/vnd.jupyter.widget-view+json": {
       "model_id": "b66051de26434d9ab5bc1af057d2f05e",
       "version_major": 2,
       "version_minor": 0
      },
      "text/plain": [
       "HBox(children=(FloatProgress(value=0.0, max=348.0), HTML(value='')))"
      ]
     },
     "metadata": {},
     "output_type": "display_data"
    },
    {
     "name": "stdout",
     "output_type": "stream",
     "text": [
      "\n",
      "[clf_engine]  training loop: done!\n",
      "[ATE:16]  delta is: [-0.0083]; scaled delta is [-0.0008]\n",
      "[ATE:16]  [2.2979040145874023, 2.2972676753997803, 2.2705793380737305, 2.2915141582489014, 2.268921375274658, 2.2924928665161133, 2.2740821838378906, 2.345395565032959, 2.2967710494995117, 2.2781896591186523]\n",
      "[ATE:16]  [2.31396103 2.30621862 2.28684139 2.3013103  2.28745389 2.28715754\n",
      " 2.29248786 2.32221007 2.31282759 2.28562903]\n",
      "[ATE:16]  reward at the end of time step is [-0.0008297944068909047]\n",
      "[ATA episode 0]: took [3.9] seconds for one full step\n",
      "[ATE:16]  action [[0.97616657 1.03850982 0.47510932 0.51921851]] recieved\n",
      "[clf_engine]  scaled BS by [0.9761665740170857]; BS=[70]\n",
      "[clf_engine]  scaled LR by [1.0385098223493696]; LR=[0.00039013369008276716]\n",
      "[clf_engine]  training loop: started for [30] updates; BS=[70] LR=[0.00040515766918035854]!\n"
     ]
    },
    {
     "data": {
      "application/vnd.jupyter.widget-view+json": {
       "model_id": "df34daef11c74f4a9cca125b5338dfc4",
       "version_major": 2,
       "version_minor": 0
      },
      "text/plain": [
       "HBox(children=(FloatProgress(value=0.0, max=358.0), HTML(value='')))"
      ]
     },
     "metadata": {},
     "output_type": "display_data"
    },
    {
     "name": "stdout",
     "output_type": "stream",
     "text": [
      "\n",
      "[clf_engine]  training loop: done!\n",
      "[ATE:17]  delta is: [-0.0144]; scaled delta is [-0.0014]\n",
      "[ATE:17]  [2.290569305419922, 2.2499313354492188, 2.2770957946777344, 2.2608084678649902, 2.2878212928771973, 2.2938969135284424, 2.296334981918335, 2.3092949390411377, 2.2952897548675537, 2.2799062728881836]\n",
      "[ATE:17]  [2.28447437 2.30227566 2.32364178 2.31177974 2.29977703 2.28772926\n",
      " 2.29441524 2.29901028 2.27959991 2.30220008]\n",
      "[ATE:17]  reward at the end of time step is [-0.0014395427703857155]\n",
      "[ATA episode 0]: took [3.8] seconds for one full step\n",
      "[ATE:17]  action [[0.74836704 1.32692385 0.49580188 0.50664064]] recieved\n",
      "[clf_engine]  scaled BS by [0.7483670395909165]; BS=[52]\n",
      "[clf_engine]  scaled LR by [1.3269238498062434]; LR=[0.00040515766918035854]\n",
      "[clf_engine]  training loop: started for [30] updates; BS=[52] LR=[0.0005376133741673257]!\n"
     ]
    },
    {
     "data": {
      "application/vnd.jupyter.widget-view+json": {
       "model_id": "7bc9358d73934ddaabadce8e50c03f52",
       "version_major": 2,
       "version_minor": 0
      },
      "text/plain": [
       "HBox(children=(FloatProgress(value=0.0, max=481.0), HTML(value='')))"
      ]
     },
     "metadata": {},
     "output_type": "display_data"
    },
    {
     "name": "stdout",
     "output_type": "stream",
     "text": [
      "\n",
      "[clf_engine]  training loop: done!\n",
      "[ATE:18]  delta is: [-0.0205]; scaled delta is [-0.0020]\n",
      "[ATE:18]  [2.29024338722229, 2.2666337490081787, 2.2590131759643555, 2.252777338027954, 2.2531309127807617, 2.268754243850708, 2.2630608081817627, 2.2835302352905273, 2.296475887298584, 2.317365884780884]\n",
      "[ATE:18]  [2.28311396 2.28429127 2.30438471 2.29052234 2.30562353 2.27935457\n",
      " 2.29909182 2.28762674 2.31417632 2.3077631 ]\n",
      "[ATE:18]  reward at the end of time step is [-0.00204962730407714]\n",
      "[ATA episode 0]: took [3.9] seconds for one full step\n",
      "[ATE:18]  action [[0.68915533 1.21829843 0.56017314 0.50898804]] recieved\n",
      "[clf_engine]  scaled BS by [0.6891553255770484]; BS=[35]\n",
      "[clf_engine]  scaled LR by [1.2182984288417127]; LR=[0.0005376133741673257]\n",
      "[clf_engine]  training loop: started for [30] updates; BS=[35] LR=[0.0006549735290723447]!\n"
     ]
    },
    {
     "data": {
      "application/vnd.jupyter.widget-view+json": {
       "model_id": "86bb5b9023794758a0f42d49e01855cf",
       "version_major": 2,
       "version_minor": 0
      },
      "text/plain": [
       "HBox(children=(FloatProgress(value=0.0, max=715.0), HTML(value='')))"
      ]
     },
     "metadata": {},
     "output_type": "display_data"
    },
    {
     "name": "stdout",
     "output_type": "stream",
     "text": [
      "\n",
      "[clf_engine]  training loop: done!\n",
      "[ATE:19]  delta is: [-0.0062]; scaled delta is [-0.0006]\n",
      "[ATE:19]  [2.2769203186035156, 2.2531275749206543, 2.320435047149658, 2.2626700401306152, 2.2961370944976807, 2.3113505840301514, 2.305438995361328, 2.2879269123077393, 2.296304941177368, 2.2950570583343506]\n",
      "[ATE:19]  [2.2937181  2.29832029 2.28047895 2.28456068 2.29751086 2.31887007\n",
      " 2.30630732 2.29805017 2.30647779 2.28300953]\n",
      "[ATE:19]  reward at the end of time step is [-0.000619351863861084]\n",
      "[ATA episode 0]: took [4.2] seconds for one full step\n",
      "[ATE:19]  action [[0.81177269 1.247393   0.57277815 0.57692662]] recieved\n",
      "[clf_engine]  scaled BS by [0.8117726862786316]; BS=[28]\n",
      "[clf_engine]  scaled LR by [1.247392996087923]; LR=[0.0006549735290723447]\n",
      "[clf_engine]  training loop: started for [30] updates; BS=[28] LR=[0.0008170093927878325]!\n"
     ]
    },
    {
     "data": {
      "application/vnd.jupyter.widget-view+json": {
       "model_id": "048ec82256af4ea388b3b6c863512569",
       "version_major": 2,
       "version_minor": 0
      },
      "text/plain": [
       "HBox(children=(FloatProgress(value=0.0, max=893.0), HTML(value='')))"
      ]
     },
     "metadata": {},
     "output_type": "display_data"
    },
    {
     "name": "stdout",
     "output_type": "stream",
     "text": [
      "\n",
      "[clf_engine]  training loop: done!\n"
     ]
    },
    {
     "data": {
      "application/vnd.jupyter.widget-view+json": {
       "model_id": "d51fc6b45c494edeb62b68e2b314bd15",
       "version_major": 2,
       "version_minor": 0
      },
      "text/plain": [
       "HBox(children=(FloatProgress(value=0.0, max=1563.0), HTML(value='')))"
      ]
     },
     "metadata": {},
     "output_type": "display_data"
    },
    {
     "name": "stdout",
     "output_type": "stream",
     "text": [
      "\n"
     ]
    },
    {
     "data": {
      "application/vnd.jupyter.widget-view+json": {
       "model_id": "a5f537fb6d984f0db1cb70aa0ed71af7",
       "version_major": 2,
       "version_minor": 0
      },
      "text/plain": [
       "HBox(children=(FloatProgress(value=0.0, max=625.0), HTML(value='')))"
      ]
     },
     "metadata": {},
     "output_type": "display_data"
    },
    {
     "name": "stdout",
     "output_type": "stream",
     "text": [
      "\n",
      "[ATE:20]  delta is: [-0.0332]; scaled delta is [-0.0033]\n",
      "[ATE:20]  [2.305366039276123, 2.286311388015747, 2.273179054260254, 2.3267321586608887, 2.2994790077209473, 2.256743907928467, 2.217287302017212, 2.2040202617645264, 2.292869806289673, 2.2791268825531006]\n",
      "[ATE:20]  [2.33117628 2.30600929 2.30730915 2.30758953 2.30572176 2.29736161\n",
      " 2.31564021 2.31634927 2.28661156 2.29957724]\n",
      "[ATE:20]  reward at the end of time step is [-0.003322300910949672]\n",
      "[ATA episode 0]: took [8.7] seconds for one full step\n",
      "[ATE:20]  action [[0.96516876 1.32340393 0.60095351 0.61909059]] recieved\n",
      "[clf_engine]  scaled BS by [0.9651687551271686]; BS=[27]\n",
      "[clf_engine]  scaled LR by [1.3234039307309275]; LR=[0.0008170093927878325]\n",
      "[clf_engine]  training loop: started for [30] updates; BS=[27] LR=[0.0010812334418595058]!\n"
     ]
    },
    {
     "data": {
      "application/vnd.jupyter.widget-view+json": {
       "model_id": "1b4ed41c751745509ccd00187b437f48",
       "version_major": 2,
       "version_minor": 0
      },
      "text/plain": [
       "HBox(children=(FloatProgress(value=0.0, max=926.0), HTML(value='')))"
      ]
     },
     "metadata": {},
     "output_type": "display_data"
    },
    {
     "name": "stdout",
     "output_type": "stream",
     "text": [
      "\n",
      "[clf_engine]  training loop: done!\n",
      "[ATE:21]  delta is: [-0.0145]; scaled delta is [-0.0015]\n",
      "[ATE:21]  [2.2698397636413574, 2.27388858795166, 2.252955913543701, 2.305680513381958, 2.2665598392486572, 2.287440061569214, 2.27475905418396, 2.2692935466766357, 2.3104114532470703, 2.2873411178588867]\n",
      "[ATE:21]  [2.29174113 2.28599787 2.31766915 2.32613611 2.27021122 2.29358315\n",
      " 2.29660749 2.28533745 2.28699636 2.28904724]\n",
      "[ATE:21]  reward at the end of time step is [-0.001451573371887216]\n",
      "[ATA episode 0]: took [4.1] seconds for one full step\n",
      "[ATE:21]  action [[1.03975609 1.33131473 0.56064037 0.67750444]] recieved\n",
      "[clf_engine]  scaled BS by [1.0397560900317504]; BS=[28]\n",
      "[clf_engine]  scaled LR by [1.3313147260909506]; LR=[0.0010812334418595058]\n",
      "[clf_engine]  training loop: started for [30] updates; BS=[28] LR=[0.0014394620034895637]!\n"
     ]
    },
    {
     "data": {
      "application/vnd.jupyter.widget-view+json": {
       "model_id": "0a3406eea0d644a3a9683ebd03192a34",
       "version_major": 2,
       "version_minor": 0
      },
      "text/plain": [
       "HBox(children=(FloatProgress(value=0.0, max=893.0), HTML(value='')))"
      ]
     },
     "metadata": {},
     "output_type": "display_data"
    },
    {
     "name": "stdout",
     "output_type": "stream",
     "text": [
      "\n",
      "[clf_engine]  training loop: done!\n",
      "[ATE:22]  delta is: [-0.0158]; scaled delta is [-0.0016]\n",
      "[ATE:22]  [2.2931787967681885, 2.2731873989105225, 2.253962755203247, 2.290024518966675, 2.3519606590270996, 2.3073184490203857, 2.291348934173584, 2.262511968612671, 2.297028064727783, 2.2369320392608643]\n",
      "[ATE:22]  [2.30013299 2.29152393 2.30217528 2.3026998  2.3015027  2.31557918\n",
      " 2.30023432 2.2975359  2.29419661 2.30955696]\n",
      "[ATE:22]  reward at the end of time step is [-0.001576840877532959]\n",
      "[ATA episode 0]: took [4.2] seconds for one full step\n",
      "[ATE:22]  action [[1.09189296 1.32699033 0.56689794 0.65346035]] recieved\n",
      "[clf_engine]  scaled BS by [1.0918929598954557]; BS=[30]\n",
      "[clf_engine]  scaled LR by [1.3269903305324022]; LR=[0.0014394620034895637]\n",
      "[clf_engine]  training loop: started for [30] updates; BS=[30] LR=[0.0019101521597994502]!\n"
     ]
    },
    {
     "data": {
      "application/vnd.jupyter.widget-view+json": {
       "model_id": "c812c8a61d274d37b22a9079b10d625e",
       "version_major": 2,
       "version_minor": 0
      },
      "text/plain": [
       "HBox(children=(FloatProgress(value=0.0, max=834.0), HTML(value='')))"
      ]
     },
     "metadata": {},
     "output_type": "display_data"
    },
    {
     "name": "stdout",
     "output_type": "stream",
     "text": [
      "\n",
      "[clf_engine]  training loop: done!\n",
      "[ATE:23]  delta is: [-0.0411]; scaled delta is [-0.0041]\n",
      "[ATE:23]  [2.2934203147888184, 2.2896499633789062, 2.2413580417633057, 2.286641836166382, 2.289405107498169, 2.2102482318878174, 2.2323644161224365, 2.263613700866699, 2.222573757171631, 2.3091835975646973]\n",
      "[ATE:23]  [2.32317448 2.32193327 2.28623557 2.28600526 2.29964614 2.29251385\n",
      " 2.31826091 2.29795408 2.31056976 2.31275988]\n",
      "[ATE:23]  reward at the end of time step is [-0.004105942249298078]\n",
      "[ATA episode 0]: took [4.2] seconds for one full step\n",
      "[ATE:23]  action [[0.98042569 1.23312425 0.54524552 0.54841428]] recieved\n",
      "[clf_engine]  scaled BS by [0.9804256942475593]; BS=[29]\n",
      "[clf_engine]  scaled LR by [1.2331242540022247]; LR=[0.0019101521597994502]\n",
      "[clf_engine]  training loop: started for [30] updates; BS=[29] LR=[0.0023554549570834354]!\n"
     ]
    },
    {
     "data": {
      "application/vnd.jupyter.widget-view+json": {
       "model_id": "e37812b159664fa2806dce6da2a8faf3",
       "version_major": 2,
       "version_minor": 0
      },
      "text/plain": [
       "HBox(children=(FloatProgress(value=0.0, max=863.0), HTML(value='')))"
      ]
     },
     "metadata": {},
     "output_type": "display_data"
    },
    {
     "name": "stdout",
     "output_type": "stream",
     "text": [
      "\n",
      "[clf_engine]  training loop: done!\n",
      "[ATE:24]  delta is: [-0.0569]; scaled delta is [-0.0057]\n",
      "[ATE:24]  [2.291757106781006, 2.302037477493286, 2.2634682655334473, 2.2230353355407715, 2.2315514087677, 2.229377508163452, 2.1822726726531982, 2.2265632152557373, 2.2560477256774902, 2.24212908744812]\n",
      "[ATE:24]  [2.29530573 2.29557228 2.31950903 2.30917168 2.30222321 2.3061657\n",
      " 2.28992128 2.29130793 2.3205421  2.28781223]\n",
      "[ATE:24]  reward at the end of time step is [-0.005692913532257116]\n",
      "[ATA episode 0]: took [4.1] seconds for one full step\n",
      "[ATE:24]  action [[1.29176138 0.95535889 0.58853473 0.54436071]] recieved\n",
      "[clf_engine]  scaled BS by [1.2917613791864837]; BS=[37]\n",
      "[clf_engine]  scaled LR by [0.9553588874211355]; LR=[0.0023554549570834354]\n",
      "[clf_engine]  training loop: started for [30] updates; BS=[37] LR=[0.0022503048271698294]!\n"
     ]
    },
    {
     "data": {
      "application/vnd.jupyter.widget-view+json": {
       "model_id": "00ebe3a6d32e419aa3346018dbe91469",
       "version_major": 2,
       "version_minor": 0
      },
      "text/plain": [
       "HBox(children=(FloatProgress(value=0.0, max=676.0), HTML(value='')))"
      ]
     },
     "metadata": {},
     "output_type": "display_data"
    },
    {
     "name": "stdout",
     "output_type": "stream",
     "text": [
      "\n",
      "[clf_engine]  training loop: done!\n",
      "[ATE:25]  delta is: [-0.0612]; scaled delta is [-0.0061]\n",
      "[ATE:25]  [2.2544281482696533, 2.2445521354675293, 2.2837562561035156, 2.2142014503479004, 2.2041923999786377, 2.2194974422454834, 2.2629895210266113, 2.266146183013916, 2.1450114250183105, 2.2890701293945312]\n",
      "[ATE:25]  [2.30275297 2.30757189 2.28179812 2.29482841 2.29758024 2.31894422\n",
      " 2.27852535 2.30065775 2.29244232 2.32065773]\n",
      "[ATE:25]  reward at the end of time step is [-0.006119139194488543]\n",
      "[ATA episode 0]: took [4.1] seconds for one full step\n",
      "[ATE:25]  action [[1.14143455 1.16692061 0.60148096 0.60299959]] recieved\n",
      "[clf_engine]  scaled BS by [1.1414345492254172]; BS=[42]\n",
      "[clf_engine]  scaled LR by [1.1669206072671447]; LR=[0.0022503048271698294]\n",
      "[clf_engine]  training loop: started for [30] updates; BS=[42] LR=[0.0026259270754572044]!\n"
     ]
    },
    {
     "data": {
      "application/vnd.jupyter.widget-view+json": {
       "model_id": "0d8d5ebf92114d83a2f38027e0766c29",
       "version_major": 2,
       "version_minor": 0
      },
      "text/plain": [
       "HBox(children=(FloatProgress(value=0.0, max=596.0), HTML(value='')))"
      ]
     },
     "metadata": {},
     "output_type": "display_data"
    },
    {
     "name": "stdout",
     "output_type": "stream",
     "text": [
      "\n",
      "[clf_engine]  training loop: done!\n",
      "[ATE:26]  delta is: [-0.0668]; scaled delta is [-0.0067]\n",
      "[ATE:26]  [2.243652820587158, 2.213874101638794, 2.2675235271453857, 2.18676495552063, 2.2242541313171387, 2.2646572589874268, 2.260341167449951, 2.192704200744629, 2.279303789138794, 2.1760129928588867]\n",
      "[ATE:26]  [2.30771136 2.2924571  2.30867696 2.30617118 2.28422546 2.27807736\n",
      " 2.30200148 2.30067658 2.29494429 2.3017683 ]\n",
      "[ATE:26]  reward at the end of time step is [-0.006676211357116691]\n",
      "[ATA episode 0]: took [4.1] seconds for one full step\n",
      "[ATE:26]  action [[1.33393446 1.29447304 0.64747329 0.64619726]] recieved\n",
      "[clf_engine]  scaled BS by [1.3339344557320474]; BS=[56]\n",
      "[clf_engine]  scaled LR by [1.2944730357030414]; LR=[0.0026259270754572044]\n",
      "[clf_engine]  training loop: started for [30] updates; BS=[56] LR=[0.0033991917929018967]!\n"
     ]
    },
    {
     "data": {
      "application/vnd.jupyter.widget-view+json": {
       "model_id": "a9510efdb7e841e7a0f5a3107b169997",
       "version_major": 2,
       "version_minor": 0
      },
      "text/plain": [
       "HBox(children=(FloatProgress(value=0.0, max=447.0), HTML(value='')))"
      ]
     },
     "metadata": {},
     "output_type": "display_data"
    },
    {
     "name": "stdout",
     "output_type": "stream",
     "text": [
      "\n",
      "[clf_engine]  training loop: done!\n",
      "[ATE:27]  delta is: [-0.0971]; scaled delta is [-0.0097]\n",
      "[ATE:27]  [2.0671515464782715, 2.2645208835601807, 2.24286150932312, 2.219999074935913, 2.1572320461273193, 2.210559129714966, 2.1887147426605225, 2.2527267932891846, 2.221824884414673, 2.17918062210083]\n",
      "[ATE:27]  [2.28267026 2.31059217 2.29655409 2.29332256 2.30729795 2.29624796\n",
      " 2.29302692 2.2934761  2.31139803 2.2910862 ]\n",
      "[ATE:27]  reward at the end of time step is [-0.009709010124206552]\n",
      "[ATA episode 0]: took [3.7] seconds for one full step\n",
      "[ATE:27]  action [[1.23547293 1.21437625 0.62438901 0.64562676]] recieved\n",
      "[clf_engine]  scaled BS by [1.2354729301964849]; BS=[69]\n",
      "[clf_engine]  scaled LR by [1.2143762532335638]; LR=[0.0033991917929018967]\n",
      "[clf_engine]  training loop: started for [30] updates; BS=[69] LR=[0.004127897793486485]!\n"
     ]
    },
    {
     "data": {
      "application/vnd.jupyter.widget-view+json": {
       "model_id": "9250dbd4636b4d96b5d32f2cedf19cba",
       "version_major": 2,
       "version_minor": 0
      },
      "text/plain": [
       "HBox(children=(FloatProgress(value=0.0, max=363.0), HTML(value='')))"
      ]
     },
     "metadata": {},
     "output_type": "display_data"
    },
    {
     "name": "stdout",
     "output_type": "stream",
     "text": [
      "\n",
      "[clf_engine]  training loop: done!\n",
      "[ATE:28]  delta is: [-0.0924]; scaled delta is [-0.0092]\n",
      "[ATE:28]  [2.1691386699676514, 2.228214740753174, 2.1989095211029053, 2.197179079055786, 2.1715195178985596, 2.2019357681274414, 2.226262092590332, 2.2200417518615723, 2.204780340194702, 2.212343692779541]\n",
      "[ATE:28]  [2.30950761 2.26807833 2.29412556 2.28684497 2.31215787 2.31509447\n",
      " 2.29365301 2.28110361 2.30488229 2.28863716]\n",
      "[ATE:28]  reward at the end of time step is [-0.009237596988677987]\n",
      "[ATA episode 0]: took [3.8] seconds for one full step\n",
      "[ATE:28]  action [[1.2130897  1.28872532 0.60472793 0.66091767]] recieved\n",
      "[clf_engine]  scaled BS by [1.2130896992268325]; BS=[83]\n",
      "[clf_engine]  scaled LR by [1.288725317536655]; LR=[0.004127897793486485]\n",
      "[clf_engine]  training loop: started for [30] updates; BS=[83] LR=[0.005319726394669729]!\n"
     ]
    },
    {
     "data": {
      "application/vnd.jupyter.widget-view+json": {
       "model_id": "4545ca97ae8d4a8b86449e06a134e80e",
       "version_major": 2,
       "version_minor": 0
      },
      "text/plain": [
       "HBox(children=(FloatProgress(value=0.0, max=302.0), HTML(value='')))"
      ]
     },
     "metadata": {},
     "output_type": "display_data"
    },
    {
     "name": "stdout",
     "output_type": "stream",
     "text": [
      "\n",
      "[clf_engine]  training loop: done!\n",
      "[ATE:29]  delta is: [-0.1470]; scaled delta is [-0.0147]\n",
      "[ATE:29]  [2.1707069873809814, 2.180145740509033, 2.131619691848755, 2.1451914310455322, 2.1735446453094482, 2.1373813152313232, 2.13010573387146, 2.1012914180755615, 2.132561206817627, 2.174053430557251]\n",
      "[ATE:29]  [2.29884124 2.2873373  2.28077555 2.29067707 2.28768921 2.28506613\n",
      " 2.30762172 2.30808592 2.29541254 2.30554962]\n",
      "[ATE:29]  reward at the end of time step is [-0.014704546928405771]\n",
      "[ATA episode 0]: took [4.1] seconds for one full step\n",
      "[ATE:29]  action [[1.11326162 1.24402897 0.61905588 0.59150918]] recieved\n",
      "[clf_engine]  scaled BS by [1.1132616244144788]; BS=[92]\n",
      "[clf_engine]  scaled LR by [1.2440289680107357]; LR=[0.005319726394669729]\n",
      "[clf_engine]  training loop: started for [30] updates; BS=[92] LR=[0.006617893736860454]!\n"
     ]
    },
    {
     "data": {
      "application/vnd.jupyter.widget-view+json": {
       "model_id": "28b01bf2276148f2b75730230831991c",
       "version_major": 2,
       "version_minor": 0
      },
      "text/plain": [
       "HBox(children=(FloatProgress(value=0.0, max=272.0), HTML(value='')))"
      ]
     },
     "metadata": {},
     "output_type": "display_data"
    },
    {
     "name": "stdout",
     "output_type": "stream",
     "text": [
      "\n",
      "[clf_engine]  training loop: done!\n"
     ]
    },
    {
     "data": {
      "application/vnd.jupyter.widget-view+json": {
       "model_id": "65cc926e48cf4893935d49f897a63a3c",
       "version_major": 2,
       "version_minor": 0
      },
      "text/plain": [
       "HBox(children=(FloatProgress(value=0.0, max=1563.0), HTML(value='')))"
      ]
     },
     "metadata": {},
     "output_type": "display_data"
    },
    {
     "name": "stdout",
     "output_type": "stream",
     "text": [
      "\n"
     ]
    },
    {
     "data": {
      "application/vnd.jupyter.widget-view+json": {
       "model_id": "1bf731f08862472ba16efa000513965c",
       "version_major": 2,
       "version_minor": 0
      },
      "text/plain": [
       "HBox(children=(FloatProgress(value=0.0, max=625.0), HTML(value='')))"
      ]
     },
     "metadata": {},
     "output_type": "display_data"
    },
    {
     "name": "stdout",
     "output_type": "stream",
     "text": [
      "\n",
      "[ATE:30]  delta is: [-0.1604]; scaled delta is [-0.0160]\n",
      "[ATE:30]  [2.0870838165283203, 2.1057209968566895, 2.2372379302978516, 2.2022364139556885, 2.087364912033081, 2.0989668369293213, 2.1052658557891846, 2.1789560317993164, 2.1041665077209473, 2.171816349029541]\n",
      "[ATE:30]  [2.31143785 2.27548265 2.29906249 2.31635523 2.31300163 2.31112456\n",
      " 2.28605938 2.29386616 2.29820871 2.27804327]\n",
      "[ATE:30]  reward at the end of time step is [-0.016038262844085695]\n",
      "[ATA episode 0]: took [8.6] seconds for one full step\n",
      "[ATE:30]  action [[1.23546601 1.2243668  0.60715288 0.5119641 ]] recieved\n",
      "[clf_engine]  scaled BS by [1.235466014009814]; BS=[113]\n",
      "[clf_engine]  scaled LR by [1.224366797654995]; LR=[0.006617893736860454]\n",
      "[clf_engine]  training loop: started for [30] updates; BS=[113] LR=[0.008102729361820882]!\n"
     ]
    },
    {
     "data": {
      "application/vnd.jupyter.widget-view+json": {
       "model_id": "c31a8971f2b041349a8cc036c16e921d",
       "version_major": 2,
       "version_minor": 0
      },
      "text/plain": [
       "HBox(children=(FloatProgress(value=0.0, max=222.0), HTML(value='')))"
      ]
     },
     "metadata": {},
     "output_type": "display_data"
    },
    {
     "name": "stdout",
     "output_type": "stream",
     "text": [
      "\n",
      "[clf_engine]  training loop: done!\n",
      "[ATE:31]  delta is: [-0.2028]; scaled delta is [-0.0203]\n",
      "[ATE:31]  [2.076198101043701, 2.0839779376983643, 2.0882415771484375, 2.08916974067688, 2.0904722213745117, 2.0517287254333496, 2.152468204498291, 2.1217007637023926, 2.0960183143615723, 2.0407326221466064]\n",
      "[ATE:31]  [2.30779552 2.30945015 2.27469134 2.29126763 2.31847954 2.29864907\n",
      " 2.30159235 2.26916599 2.28699851 2.26041579]\n",
      "[ATE:31]  reward at the end of time step is [-0.020277976989746094]\n",
      "[ATA episode 0]: took [4.0] seconds for one full step\n",
      "[ATE:31]  action [[1.28504938 1.28656099 0.62571742 0.51887852]] recieved\n",
      "[clf_engine]  scaled BS by [1.285049381849953]; BS=[145]\n",
      "[clf_engine]  scaled LR by [1.2865609928677844]; LR=[0.008102729361820882]\n",
      "[clf_engine]  training loop: started for [30] updates; BS=[145] LR=[0.010424655532683222]!\n"
     ]
    },
    {
     "data": {
      "application/vnd.jupyter.widget-view+json": {
       "model_id": "a437b7a8bb7d42f585739f42c94209d4",
       "version_major": 2,
       "version_minor": 0
      },
      "text/plain": [
       "HBox(children=(FloatProgress(value=0.0, max=173.0), HTML(value='')))"
      ]
     },
     "metadata": {},
     "output_type": "display_data"
    },
    {
     "name": "stdout",
     "output_type": "stream",
     "text": [
      "\n",
      "[clf_engine]  training loop: done!\n",
      "[ATE:32]  delta is: [-0.2267]; scaled delta is [-0.0227]\n",
      "[ATE:32]  [2.1682097911834717, 2.110947608947754, 2.1078929901123047, 2.002596378326416, 2.062870740890503, 2.0431859493255615, 2.0293850898742676, 2.0661418437957764, 2.092941999435425, 2.022714376449585]\n",
      "[ATE:32]  [2.28846097 2.31593895 2.2817452  2.30143261 2.29134655 2.31470942\n",
      " 2.29274035 2.31536412 2.28545952 2.28708363]\n",
      "[ATE:32]  reward at the end of time step is [-0.0226739454269409]\n",
      "[ATA] optimization step performed\n",
      "[ATA episode 0]: took [4.1] seconds for one full step\n",
      "[ATE:32]  action [[1.49792574 1.10458949 0.61071127 0.55798739]] recieved\n",
      "[clf_engine]  scaled BS by [1.4979257418296248]; BS=[217]\n",
      "[clf_engine]  scaled LR by [1.1045894860543866]; LR=[0.010424655532683222]\n",
      "[clf_engine]  training loop: started for [30] updates; BS=[217] LR=[0.011514964897140578]!\n"
     ]
    },
    {
     "data": {
      "application/vnd.jupyter.widget-view+json": {
       "model_id": "6f74e06dd4524ed2bf209cec7271ef7e",
       "version_major": 2,
       "version_minor": 0
      },
      "text/plain": [
       "HBox(children=(FloatProgress(value=0.0, max=116.0), HTML(value='')))"
      ]
     },
     "metadata": {},
     "output_type": "display_data"
    },
    {
     "name": "stdout",
     "output_type": "stream",
     "text": [
      "\n",
      "[clf_engine]  training loop: done!\n",
      "[ATE:33]  delta is: [-0.2801]; scaled delta is [-0.0280]\n",
      "[ATE:33]  [2.078368902206421, 2.0674402713775635, 1.9913170337677002, 1.969503402709961, 2.0145483016967773, 2.072801113128662, 2.0401625633239746, 1.9416478872299194, 1.9910862445831299, 2.0094311237335205]\n",
      "[ATE:33]  [2.29773521 2.30038023 2.28813577 2.32220697 2.29626417 2.31595826\n",
      " 2.29712224 2.28378463 2.29292679 2.28272319]\n",
      "[ATE:33]  reward at the end of time step is [-0.0280093061923981]\n",
      "[ATA] optimization step performed\n",
      "[ATA episode 0]: took [4.1] seconds for one full step\n",
      "[ATE:33]  action [[1.50363845 0.90725567 0.64646579 0.49112076]] recieved\n",
      "[clf_engine]  scaled BS by [1.5036384538480896]; BS=[326]\n",
      "[clf_engine]  scaled LR by [0.9072556678738104]; LR=[0.011514964897140578]\n",
      "[clf_engine]  training loop: started for [30] updates; BS=[326] LR=[0.010447017168298758]!\n"
     ]
    },
    {
     "data": {
      "application/vnd.jupyter.widget-view+json": {
       "model_id": "a2da4d6330bb430ba0a0774e50fd806f",
       "version_major": 2,
       "version_minor": 0
      },
      "text/plain": [
       "HBox(children=(FloatProgress(value=0.0, max=77.0), HTML(value='')))"
      ]
     },
     "metadata": {},
     "output_type": "display_data"
    },
    {
     "name": "stdout",
     "output_type": "stream",
     "text": [
      "\n",
      "[clf_engine]  training loop: done!\n",
      "[ATE:34]  delta is: [-0.2672]; scaled delta is [-0.0267]\n",
      "[ATE:34]  [2.0387840270996094, 2.041919469833374, 2.0105490684509277, 2.07613468170166, 2.029135227203369, 2.038132667541504, 2.055280923843384, 1.9880965948104858, 1.9672225713729858, 2.0077946186065674]\n",
      "[ATE:34]  [2.30525517 2.30467606 2.27874374 2.2752583  2.28242993 2.30172896\n",
      " 2.30529714 2.29435921 2.29674459 2.28092718]\n",
      "[ATE:34]  reward at the end of time step is [-0.026723704338073695]\n",
      "[ATA] optimization step performed\n",
      "[ATA episode 0]: took [3.9] seconds for one full step\n",
      "[ATE:34]  action [[1.49583321 0.84497019 0.54276422 0.35932991]] recieved\n",
      "[clf_engine]  scaled BS by [1.4958332125924063]; BS=[487]\n",
      "[clf_engine]  scaled LR by [0.8449701945703828]; LR=[0.010447017168298758]\n",
      "[clf_engine]  training loop: started for [30] updates; BS=[487] LR=[0.008827418129377531]!\n"
     ]
    },
    {
     "data": {
      "application/vnd.jupyter.widget-view+json": {
       "model_id": "a0cdfb7bb7174d688c54afb5e439dad7",
       "version_major": 2,
       "version_minor": 0
      },
      "text/plain": [
       "HBox(children=(FloatProgress(value=0.0, max=52.0), HTML(value='')))"
      ]
     },
     "metadata": {},
     "output_type": "display_data"
    },
    {
     "name": "stdout",
     "output_type": "stream",
     "text": [
      "\n",
      "[clf_engine]  training loop: done!\n",
      "[ATE:35]  delta is: [-0.3289]; scaled delta is [-0.0329]\n",
      "[ATE:35]  [1.957008719444275, 1.9518804550170898, 1.9884183406829834, 1.9640129804611206, 1.9579838514328003, 1.9740233421325684, 1.9566497802734375, 1.9477750062942505, 2.0108320713043213, 1.972058892250061]\n",
      "[ATE:35]  [2.28146505 2.30365181 2.3116188  2.29072666 2.31630778 2.28486896\n",
      " 2.3008914  2.29885387 2.28742194 2.29364419]\n",
      "[ATE:35]  reward at the end of time step is [-0.032888070344924934]\n",
      "[ATA] optimization step performed\n",
      "[ATA episode 0]: took [4.0] seconds for one full step\n",
      "[ATE:35]  action [[1.36506348 0.93281604 0.62194233 0.2927767 ]] recieved\n",
      "[clf_engine]  scaled BS by [1.36506348102273]; BS=[664]\n",
      "[clf_engine]  scaled LR by [0.9328160436743264]; LR=[0.008827418129377531]\n",
      "[clf_engine]  training loop: started for [30] updates; BS=[664] LR=[0.008234357255304971]!\n"
     ]
    },
    {
     "data": {
      "application/vnd.jupyter.widget-view+json": {
       "model_id": "adf88636080549179efe769f87bec83c",
       "version_major": 2,
       "version_minor": 0
      },
      "text/plain": [
       "HBox(children=(FloatProgress(value=0.0, max=38.0), HTML(value='')))"
      ]
     },
     "metadata": {},
     "output_type": "display_data"
    },
    {
     "name": "stdout",
     "output_type": "stream",
     "text": [
      "\n",
      "[clf_engine]  training loop: done!\n",
      "[ATE:36]  delta is: [-0.3415]; scaled delta is [-0.0342]\n",
      "[ATE:36]  [1.9580329656600952, 1.9428805112838745, 1.9458119869232178, 1.98743736743927, 1.920339584350586, 1.9907352924346924, 1.9786735773086548, 1.9670031070709229, 1.917340874671936, 1.9489880800247192]\n",
      "[ATE:36]  [2.28597474 2.30277848 2.29886222 2.28571725 2.2883513  2.30577207\n",
      " 2.28829527 2.32137561 2.28464985 2.31091833]\n",
      "[ATE:36]  reward at the end of time step is [-0.034154517650604226]\n",
      "[ATA] optimization step performed\n",
      "[ATA episode 0]: took [4.1] seconds for one full step\n",
      "[ATE:36]  action [[1.33039322 0.84309515 0.58759685 0.26348367]] recieved\n",
      "[clf_engine]  scaled BS by [1.3303932232497986]; BS=[883]\n",
      "[clf_engine]  scaled LR by [0.8430951543329017]; LR=[0.008234357255304971]\n",
      "[clf_engine]  training loop: started for [30] updates; BS=[883] LR=[0.006942346700993593]!\n"
     ]
    },
    {
     "data": {
      "application/vnd.jupyter.widget-view+json": {
       "model_id": "9127e36df7b3465d926a8f794bb285ea",
       "version_major": 2,
       "version_minor": 0
      },
      "text/plain": [
       "HBox(children=(FloatProgress(value=0.0, max=29.0), HTML(value='')))"
      ]
     },
     "metadata": {},
     "output_type": "display_data"
    },
    {
     "name": "stdout",
     "output_type": "stream",
     "text": [
      "\n",
      "[clf_engine]  training loop: started for [1] updates; BS=[883] LR=[0.006942346700993593]!\n"
     ]
    },
    {
     "data": {
      "application/vnd.jupyter.widget-view+json": {
       "model_id": "acc2e510c1aa46258459dbb38ff64ab1",
       "version_major": 2,
       "version_minor": 0
      },
      "text/plain": [
       "HBox(children=(FloatProgress(value=0.0, max=29.0), HTML(value='')))"
      ]
     },
     "metadata": {},
     "output_type": "display_data"
    },
    {
     "name": "stdout",
     "output_type": "stream",
     "text": [
      "\n",
      "[clf_engine]  training loop: done!\n",
      "[ATE:37]  delta is: [-0.3637]; scaled delta is [-0.0364]\n",
      "[ATE:37]  [1.9533720016479492, 1.9674850702285767, 1.9608733654022217, 1.9246357679367065, 1.92435622215271, 1.924136996269226, 1.9293192625045776, 1.9461504220962524, 1.8515772819519043, 1.9343942403793335]\n",
      "[ATE:37]  [2.29843163 2.30310869 2.29107952 2.30081701 2.31779146 2.30495095\n",
      " 2.29226351 2.28363395 2.28147173 2.2801044 ]\n",
      "[ATE:37]  reward at the end of time step is [-0.036373522281646746]\n",
      "[ATA] optimization step performed\n",
      "[ATA episode 0]: took [5.7] seconds for one full step\n",
      "[ATE:37]  action [[1.52820413 0.80466443 0.61913669 0.24344028]] recieved\n",
      "[clf_engine]  scaled BS by [1.52820412781377]; BS=[1349]\n",
      "[clf_engine]  scaled LR by [0.8046644278630856]; LR=[0.006942346700993593]\n",
      "[clf_engine]  training loop: started for [30] updates; BS=[1349] LR=[0.005586259436182189]!\n"
     ]
    },
    {
     "data": {
      "application/vnd.jupyter.widget-view+json": {
       "model_id": "27ef0170931b4d3e8097fe0d8da138df",
       "version_major": 2,
       "version_minor": 0
      },
      "text/plain": [
       "HBox(children=(FloatProgress(value=0.0, max=19.0), HTML(value='')))"
      ]
     },
     "metadata": {},
     "output_type": "display_data"
    },
    {
     "name": "stdout",
     "output_type": "stream",
     "text": [
      "\n",
      "[clf_engine]  training loop: started for [11] updates; BS=[1349] LR=[0.005586259436182189]!\n"
     ]
    },
    {
     "data": {
      "application/vnd.jupyter.widget-view+json": {
       "model_id": "ba407a6502b04d8bae9069956e2dea56",
       "version_major": 2,
       "version_minor": 0
      },
      "text/plain": [
       "HBox(children=(FloatProgress(value=0.0, max=19.0), HTML(value='')))"
      ]
     },
     "metadata": {},
     "output_type": "display_data"
    },
    {
     "name": "stdout",
     "output_type": "stream",
     "text": [
      "\n",
      "[clf_engine]  training loop: done!\n",
      "[ATE:38]  delta is: [-0.3575]; scaled delta is [-0.0358]\n",
      "[ATE:38]  [1.945767879486084, 1.9269863367080688, 1.9576208591461182, 1.9195562601089478, 1.9627485275268555, 1.956916093826294, 1.9239842891693115, 1.9041411876678467, 1.968826174736023, 1.9111841917037964]\n",
      "[ATE:38]  [2.29007721 2.3014369  2.30070615 2.29585648 2.30665088 2.2650249\n",
      " 2.29961753 2.27386522 2.32220054 2.29735732]\n",
      "[ATE:38]  reward at the end of time step is [-0.035750613212585436]\n",
      "[ATA] optimization step performed\n",
      "[ATA episode 0]: took [6.1] seconds for one full step\n",
      "[ATE:38]  action [[1.64125198 0.79128182 0.50029886 0.1487552 ]] recieved\n",
      "[clf_engine]  scaled BS by [1.641251978537796]; BS=[2214]\n",
      "[clf_engine]  scaled LR by [0.7912818232175066]; LR=[0.005586259436182189]\n",
      "[clf_engine]  training loop: started for [30] updates; BS=[2214] LR=[0.004420305551628243]!\n"
     ]
    },
    {
     "data": {
      "application/vnd.jupyter.widget-view+json": {
       "model_id": "adf5d6c796ce4691b64ca1c8c8d4ca29",
       "version_major": 2,
       "version_minor": 0
      },
      "text/plain": [
       "HBox(children=(FloatProgress(value=0.0, max=12.0), HTML(value='')))"
      ]
     },
     "metadata": {},
     "output_type": "display_data"
    },
    {
     "name": "stdout",
     "output_type": "stream",
     "text": [
      "\n",
      "[clf_engine]  training loop: started for [18] updates; BS=[2214] LR=[0.004420305551628243]!\n"
     ]
    },
    {
     "data": {
      "application/vnd.jupyter.widget-view+json": {
       "model_id": "a7248c4e201f4404b862f1e85566c1d5",
       "version_major": 2,
       "version_minor": 0
      },
      "text/plain": [
       "HBox(children=(FloatProgress(value=0.0, max=12.0), HTML(value='')))"
      ]
     },
     "metadata": {},
     "output_type": "display_data"
    },
    {
     "name": "stdout",
     "output_type": "stream",
     "text": [
      "\n",
      "[clf_engine]  training loop: started for [6] updates; BS=[2214] LR=[0.004420305551628243]!\n"
     ]
    },
    {
     "data": {
      "application/vnd.jupyter.widget-view+json": {
       "model_id": "37ea4d3288f847a0954936223bbc0d3c",
       "version_major": 2,
       "version_minor": 0
      },
      "text/plain": [
       "HBox(children=(FloatProgress(value=0.0, max=12.0), HTML(value='')))"
      ]
     },
     "metadata": {},
     "output_type": "display_data"
    },
    {
     "name": "stdout",
     "output_type": "stream",
     "text": [
      "\n",
      "[clf_engine]  training loop: done!\n",
      "[ATE:39]  delta is: [-0.3547]; scaled delta is [-0.0355]\n",
      "[ATE:39]  [1.935387372970581, 1.9467592239379883, 1.9309966564178467, 1.9727505445480347, 1.9452110528945923, 1.9223500490188599, 1.9150258302688599, 1.9491108655929565, 1.922082781791687, 1.940334677696228]\n",
      "[ATE:39]  [2.30804467 2.30375075 2.28660274 2.2810061  2.28767848 2.28562093\n",
      " 2.29311728 2.28985691 2.29516554 2.29567719]\n",
      "[ATE:39]  reward at the end of time step is [-0.03546511530876158]\n",
      "[ATA] optimization step performed\n",
      "[ATA episode 0]: took [8.3] seconds for one full step\n",
      "[ATE:39]  action [[1.59214393 0.61952399 0.46108692 0.13420808]] recieved\n",
      "[clf_engine]  scaled BS by [1.592143925254227]; BS=[2500]\n",
      "[clf_engine]  scaled LR by [0.6195239876636613]; LR=[0.004420305551628243]\n",
      "[clf_engine]  training loop: started for [30] updates; BS=[2500] LR=[0.0027384853220365495]!\n"
     ]
    },
    {
     "data": {
      "application/vnd.jupyter.widget-view+json": {
       "model_id": "799e6ed383ac4055b187e71ffa19751c",
       "version_major": 2,
       "version_minor": 0
      },
      "text/plain": [
       "HBox(children=(FloatProgress(value=0.0, max=10.0), HTML(value='')))"
      ]
     },
     "metadata": {},
     "output_type": "display_data"
    },
    {
     "name": "stdout",
     "output_type": "stream",
     "text": [
      "\n",
      "[clf_engine]  training loop: started for [20] updates; BS=[2500] LR=[0.0027384853220365495]!\n"
     ]
    },
    {
     "data": {
      "application/vnd.jupyter.widget-view+json": {
       "model_id": "96e134b3dac84f848c3b9ecd50ebe40f",
       "version_major": 2,
       "version_minor": 0
      },
      "text/plain": [
       "HBox(children=(FloatProgress(value=0.0, max=10.0), HTML(value='')))"
      ]
     },
     "metadata": {},
     "output_type": "display_data"
    },
    {
     "name": "stdout",
     "output_type": "stream",
     "text": [
      "\n",
      "[clf_engine]  training loop: started for [10] updates; BS=[2500] LR=[0.0027384853220365495]!\n"
     ]
    },
    {
     "data": {
      "application/vnd.jupyter.widget-view+json": {
       "model_id": "948f55b569b4442bb0b502c603c7bf3a",
       "version_major": 2,
       "version_minor": 0
      },
      "text/plain": [
       "HBox(children=(FloatProgress(value=0.0, max=10.0), HTML(value='')))"
      ]
     },
     "metadata": {},
     "output_type": "display_data"
    },
    {
     "name": "stdout",
     "output_type": "stream",
     "text": [
      "\n",
      "[clf_engine]  training loop: done!\n"
     ]
    },
    {
     "data": {
      "application/vnd.jupyter.widget-view+json": {
       "model_id": "fcad31c5bb05419b8d9dd60fa7da4361",
       "version_major": 2,
       "version_minor": 0
      },
      "text/plain": [
       "HBox(children=(FloatProgress(value=0.0, max=1563.0), HTML(value='')))"
      ]
     },
     "metadata": {},
     "output_type": "display_data"
    },
    {
     "name": "stdout",
     "output_type": "stream",
     "text": [
      "\n"
     ]
    },
    {
     "data": {
      "application/vnd.jupyter.widget-view+json": {
       "model_id": "6a62a4e1bf4e4b0580fb7f186362509a",
       "version_major": 2,
       "version_minor": 0
      },
      "text/plain": [
       "HBox(children=(FloatProgress(value=0.0, max=625.0), HTML(value='')))"
      ]
     },
     "metadata": {},
     "output_type": "display_data"
    },
    {
     "name": "stdout",
     "output_type": "stream",
     "text": [
      "\n",
      "[ATE:40]  delta is: [-0.3682]; scaled delta is [-0.0368]\n",
      "[ATE:40]  [1.9340060949325562, 1.9265328645706177, 1.9447752237319946, 1.9393597841262817, 1.9035744667053223, 1.9255973100662231, 1.9187474250793457, 1.925569772720337, 1.9352765083312988, 1.919950008392334]\n",
      "[ATE:40]  [2.29579544 2.3154695  2.30416059 2.28820252 2.27096295 2.28635168\n",
      " 2.28309965 2.30401158 2.30792952 2.29981565]\n",
      "[ATE:40]  reward at the end of time step is [-0.03682409644126892]\n",
      "[ATA] optimization step performed\n",
      "[ATA episode 0]: took [13.4] seconds for one full step\n",
      "[ATE:40]  action [[1.52582681 0.65881316 0.41800277 0.14529497]] recieved\n",
      "[clf_engine]  scaled BS by [1.5258268145721245]; BS=[2500]\n",
      "[clf_engine]  scaled LR by [0.6588131636685817]; LR=[0.0027384853220365495]\n",
      "[clf_engine]  training loop: started for [30] updates; BS=[2500] LR=[0.001804150178670874]!\n"
     ]
    },
    {
     "data": {
      "application/vnd.jupyter.widget-view+json": {
       "model_id": "8ddc5a2d52174397b8a74b6473ac5c58",
       "version_major": 2,
       "version_minor": 0
      },
      "text/plain": [
       "HBox(children=(FloatProgress(value=0.0, max=10.0), HTML(value='')))"
      ]
     },
     "metadata": {},
     "output_type": "display_data"
    },
    {
     "name": "stdout",
     "output_type": "stream",
     "text": [
      "\n",
      "[clf_engine]  training loop: started for [20] updates; BS=[2500] LR=[0.001804150178670874]!\n"
     ]
    },
    {
     "data": {
      "application/vnd.jupyter.widget-view+json": {
       "model_id": "1063c9b0bcb9403e9ce994a9a2bf52c3",
       "version_major": 2,
       "version_minor": 0
      },
      "text/plain": [
       "HBox(children=(FloatProgress(value=0.0, max=10.0), HTML(value='')))"
      ]
     },
     "metadata": {},
     "output_type": "display_data"
    },
    {
     "name": "stdout",
     "output_type": "stream",
     "text": [
      "\n",
      "[clf_engine]  training loop: started for [10] updates; BS=[2500] LR=[0.001804150178670874]!\n"
     ]
    },
    {
     "data": {
      "application/vnd.jupyter.widget-view+json": {
       "model_id": "aa021d45f39c41d8b17ae66739698ef2",
       "version_major": 2,
       "version_minor": 0
      },
      "text/plain": [
       "HBox(children=(FloatProgress(value=0.0, max=10.0), HTML(value='')))"
      ]
     },
     "metadata": {},
     "output_type": "display_data"
    },
    {
     "name": "stdout",
     "output_type": "stream",
     "text": [
      "\n",
      "[clf_engine]  training loop: done!\n",
      "[ATE:41]  delta is: [-0.3715]; scaled delta is [-0.0371]\n",
      "[ATE:41]  [1.9221175909042358, 1.9315766096115112, 1.908029317855835, 1.9037036895751953, 1.9100013971328735, 1.9285386800765991, 1.9240325689315796, 1.9228453636169434, 1.9509060382843018, 1.924548864364624]\n",
      "[ATE:41]  [2.29902196 2.30358267 2.27128386 2.28425145 2.31967497 2.30598164\n",
      " 2.28579521 2.31165028 2.26732016 2.29266405]\n",
      "[ATE:41]  reward at the end of time step is [-0.03714926123619078]\n",
      "[ATA] optimization step performed\n",
      "[ATA episode 0]: took [8.6] seconds for one full step\n",
      "[ATE:41]  action [[1.48482504 0.97591498 0.37623865 0.18871791]] recieved\n",
      "[clf_engine]  scaled BS by [1.4848250401730094]; BS=[2500]\n",
      "[clf_engine]  scaled LR by [0.9759149757112259]; LR=[0.001804150178670874]\n",
      "[clf_engine]  training loop: started for [30] updates; BS=[2500] LR=[0.0017606971777969897]!\n"
     ]
    },
    {
     "data": {
      "application/vnd.jupyter.widget-view+json": {
       "model_id": "5f22300ae9bf4741bb3d81c269c73f7b",
       "version_major": 2,
       "version_minor": 0
      },
      "text/plain": [
       "HBox(children=(FloatProgress(value=0.0, max=10.0), HTML(value='')))"
      ]
     },
     "metadata": {},
     "output_type": "display_data"
    },
    {
     "name": "stdout",
     "output_type": "stream",
     "text": [
      "\n",
      "[clf_engine]  training loop: started for [20] updates; BS=[2500] LR=[0.0017606971777969897]!\n"
     ]
    },
    {
     "data": {
      "application/vnd.jupyter.widget-view+json": {
       "model_id": "08e5234434564b81b02d3cbad775ac49",
       "version_major": 2,
       "version_minor": 0
      },
      "text/plain": [
       "HBox(children=(FloatProgress(value=0.0, max=10.0), HTML(value='')))"
      ]
     },
     "metadata": {},
     "output_type": "display_data"
    },
    {
     "name": "stdout",
     "output_type": "stream",
     "text": [
      "\n",
      "[clf_engine]  training loop: started for [10] updates; BS=[2500] LR=[0.0017606971777969897]!\n"
     ]
    },
    {
     "data": {
      "application/vnd.jupyter.widget-view+json": {
       "model_id": "02ddda94223f4f2ab8b8c4b40353d8a2",
       "version_major": 2,
       "version_minor": 0
      },
      "text/plain": [
       "HBox(children=(FloatProgress(value=0.0, max=10.0), HTML(value='')))"
      ]
     },
     "metadata": {},
     "output_type": "display_data"
    },
    {
     "name": "stdout",
     "output_type": "stream",
     "text": [
      "\n",
      "[clf_engine]  training loop: done!\n",
      "[ATE:42]  delta is: [-0.3764]; scaled delta is [-0.0376]\n",
      "[ATE:42]  [1.9097741842269897, 1.9343550205230713, 1.9265469312667847, 1.924010157585144, 1.9098851680755615, 1.9237470626831055, 1.9060105085372925, 1.9337007999420166, 1.9313347339630127, 1.920804500579834]\n",
      "[ATE:42]  [2.2715807  2.2891202  2.29133582 2.32996583 2.30434942 2.30922365\n",
      " 2.29303765 2.30737424 2.29683709 2.29092479]\n",
      "[ATE:42]  reward at the end of time step is [-0.03763580322265623]\n",
      "[ATA] optimization step performed\n",
      "[ATA episode 0]: took [8.6] seconds for one full step\n",
      "[ATE:42]  action [[1.3931169  0.83711119 0.30288153 0.18896944]] recieved\n",
      "[clf_engine]  scaled BS by [1.3931169015724538]; BS=[2500]\n",
      "[clf_engine]  scaled LR by [0.8371111944576639]; LR=[0.0017606971777969897]\n",
      "[clf_engine]  training loop: started for [30] updates; BS=[2500] LR=[0.001473899317583876]!\n"
     ]
    },
    {
     "data": {
      "application/vnd.jupyter.widget-view+json": {
       "model_id": "4141485a329646be8fd47d70be1ca5e6",
       "version_major": 2,
       "version_minor": 0
      },
      "text/plain": [
       "HBox(children=(FloatProgress(value=0.0, max=10.0), HTML(value='')))"
      ]
     },
     "metadata": {},
     "output_type": "display_data"
    },
    {
     "name": "stdout",
     "output_type": "stream",
     "text": [
      "\n",
      "[clf_engine]  training loop: started for [20] updates; BS=[2500] LR=[0.001473899317583876]!\n"
     ]
    },
    {
     "data": {
      "application/vnd.jupyter.widget-view+json": {
       "model_id": "9b1304db580742bdb7fdd7f4e1d94c13",
       "version_major": 2,
       "version_minor": 0
      },
      "text/plain": [
       "HBox(children=(FloatProgress(value=0.0, max=10.0), HTML(value='')))"
      ]
     },
     "metadata": {},
     "output_type": "display_data"
    },
    {
     "name": "stdout",
     "output_type": "stream",
     "text": [
      "\n",
      "[clf_engine]  training loop: started for [10] updates; BS=[2500] LR=[0.001473899317583876]!\n"
     ]
    },
    {
     "data": {
      "application/vnd.jupyter.widget-view+json": {
       "model_id": "b029b853071346cbb68133b9130a03fd",
       "version_major": 2,
       "version_minor": 0
      },
      "text/plain": [
       "HBox(children=(FloatProgress(value=0.0, max=10.0), HTML(value='')))"
      ]
     },
     "metadata": {},
     "output_type": "display_data"
    },
    {
     "name": "stdout",
     "output_type": "stream",
     "text": [
      "\n",
      "[clf_engine]  training loop: done!\n",
      "[ATE:43]  delta is: [-0.3793]; scaled delta is [-0.0379]\n",
      "[ATE:43]  [1.907806634902954, 1.8924027681350708, 1.9385833740234375, 1.912357211112976, 1.8967806100845337, 1.8965452909469604, 1.9345899820327759, 1.9060077667236328, 1.9260222911834717, 1.9288511276245117]\n",
      "[ATE:43]  [2.28702402 2.28137851 2.30944753 2.29174161 2.29841185 2.30390954\n",
      " 2.2937417  2.30075431 2.27587366 2.29078007]\n",
      "[ATE:43]  reward at the end of time step is [-0.03793115735054014]\n",
      "[ATA] optimization step performed\n",
      "[ATA episode 0]: took [8.9] seconds for one full step\n",
      "[ATE:43]  action [[1.34681746 0.71693615 0.31520393 0.18411252]] recieved\n",
      "[clf_engine]  scaled BS by [1.3468174630524405]; BS=[2500]\n",
      "[clf_engine]  scaled LR by [0.7169361480763276]; LR=[0.001473899317583876]\n",
      "[clf_engine]  training loop: started for [30] updates; BS=[2500] LR=[0.0010566916994009118]!\n"
     ]
    },
    {
     "data": {
      "application/vnd.jupyter.widget-view+json": {
       "model_id": "4f3cbf5de1fa442ab7caa19e6d5e5537",
       "version_major": 2,
       "version_minor": 0
      },
      "text/plain": [
       "HBox(children=(FloatProgress(value=0.0, max=10.0), HTML(value='')))"
      ]
     },
     "metadata": {},
     "output_type": "display_data"
    },
    {
     "name": "stdout",
     "output_type": "stream",
     "text": [
      "\n",
      "[clf_engine]  training loop: started for [20] updates; BS=[2500] LR=[0.0010566916994009118]!\n"
     ]
    },
    {
     "data": {
      "application/vnd.jupyter.widget-view+json": {
       "model_id": "028056668ba345fbb3bcaccd0cab3e0d",
       "version_major": 2,
       "version_minor": 0
      },
      "text/plain": [
       "HBox(children=(FloatProgress(value=0.0, max=10.0), HTML(value='')))"
      ]
     },
     "metadata": {},
     "output_type": "display_data"
    },
    {
     "name": "stdout",
     "output_type": "stream",
     "text": [
      "\n",
      "[clf_engine]  training loop: started for [10] updates; BS=[2500] LR=[0.0010566916994009118]!\n"
     ]
    },
    {
     "data": {
      "application/vnd.jupyter.widget-view+json": {
       "model_id": "ffd90df1178940e292ae93d2a264bbcd",
       "version_major": 2,
       "version_minor": 0
      },
      "text/plain": [
       "HBox(children=(FloatProgress(value=0.0, max=10.0), HTML(value='')))"
      ]
     },
     "metadata": {},
     "output_type": "display_data"
    },
    {
     "name": "stdout",
     "output_type": "stream",
     "text": [
      "\n",
      "[clf_engine]  training loop: done!\n",
      "[ATE:44]  delta is: [-0.3826]; scaled delta is [-0.0383]\n",
      "[ATE:44]  [1.9134178161621094, 1.9150145053863525, 1.934505820274353, 1.924237847328186, 1.9233824014663696, 1.9213933944702148, 1.9265996217727661, 1.9102230072021484, 1.9068725109100342, 1.9054830074310303]\n",
      "[ATE:44]  [2.29692721 2.29891968 2.29652214 2.31443691 2.30210304 2.30587482\n",
      " 2.30976534 2.28499675 2.28146243 2.31618023]\n",
      "[ATE:44]  reward at the end of time step is [-0.03826058626174929]\n",
      "[ATA] optimization step performed\n",
      "[ATA episode 0]: took [8.9] seconds for one full step\n",
      "[ATE:44]  action [[1.4072311  0.70253865 0.37203985 0.24881145]] recieved\n",
      "[clf_engine]  scaled BS by [1.4072311031798403]; BS=[2500]\n",
      "[clf_engine]  scaled LR by [0.7025386490190523]; LR=[0.0010566916994009118]\n",
      "[clf_engine]  training loop: started for [30] updates; BS=[2500] LR=[0.0007423667589267631]!\n"
     ]
    },
    {
     "data": {
      "application/vnd.jupyter.widget-view+json": {
       "model_id": "5f6b38ecade3437ba9767b71689e0f41",
       "version_major": 2,
       "version_minor": 0
      },
      "text/plain": [
       "HBox(children=(FloatProgress(value=0.0, max=10.0), HTML(value='')))"
      ]
     },
     "metadata": {},
     "output_type": "display_data"
    },
    {
     "name": "stdout",
     "output_type": "stream",
     "text": [
      "\n",
      "[clf_engine]  training loop: started for [20] updates; BS=[2500] LR=[0.0007423667589267631]!\n"
     ]
    },
    {
     "data": {
      "application/vnd.jupyter.widget-view+json": {
       "model_id": "c4ecfdf149a04e50b99219b13d65467a",
       "version_major": 2,
       "version_minor": 0
      },
      "text/plain": [
       "HBox(children=(FloatProgress(value=0.0, max=10.0), HTML(value='')))"
      ]
     },
     "metadata": {},
     "output_type": "display_data"
    },
    {
     "name": "stdout",
     "output_type": "stream",
     "text": [
      "\n",
      "[clf_engine]  training loop: started for [10] updates; BS=[2500] LR=[0.0007423667589267631]!\n"
     ]
    },
    {
     "data": {
      "application/vnd.jupyter.widget-view+json": {
       "model_id": "494ec6991f504ed0b9646760e3135d88",
       "version_major": 2,
       "version_minor": 0
      },
      "text/plain": [
       "HBox(children=(FloatProgress(value=0.0, max=10.0), HTML(value='')))"
      ]
     },
     "metadata": {},
     "output_type": "display_data"
    },
    {
     "name": "stdout",
     "output_type": "stream",
     "text": [
      "\n",
      "[clf_engine]  training loop: done!\n",
      "[ATE:45]  delta is: [-0.3728]; scaled delta is [-0.0373]\n",
      "[ATE:45]  [1.8951269388198853, 1.9240976572036743, 1.9240853786468506, 1.9257216453552246, 1.9005032777786255, 1.9118958711624146, 1.9256778955459595, 1.9417158365249634, 1.9257787466049194, 1.9121289253234863]\n",
      "[ATE:45]  [2.28389192 2.29760432 2.30056405 2.28264856 2.2816968  2.28533483\n",
      " 2.31173992 2.2943356  2.29446745 2.28293347]\n",
      "[ATE:45]  reward at the end of time step is [-0.03728484749794005]\n",
      "[ATA] optimization step performed\n",
      "[ATA episode 0]: took [8.3] seconds for one full step\n",
      "[ATE:45]  action [[1.4331667  0.70424951 0.36343663 0.24570599]] recieved\n",
      "[clf_engine]  scaled BS by [1.433166703135752]; BS=[2500]\n",
      "[clf_engine]  scaled LR by [0.7042495056879313]; LR=[0.0007423667589267631]\n",
      "[clf_engine]  training loop: started for [30] updates; BS=[2500] LR=[0.0005228114230133245]!\n"
     ]
    },
    {
     "data": {
      "application/vnd.jupyter.widget-view+json": {
       "model_id": "711b86878f884f649a86fef7c96d357e",
       "version_major": 2,
       "version_minor": 0
      },
      "text/plain": [
       "HBox(children=(FloatProgress(value=0.0, max=10.0), HTML(value='')))"
      ]
     },
     "metadata": {},
     "output_type": "display_data"
    },
    {
     "name": "stdout",
     "output_type": "stream",
     "text": [
      "\n",
      "[clf_engine]  training loop: started for [20] updates; BS=[2500] LR=[0.0005228114230133245]!\n"
     ]
    },
    {
     "data": {
      "application/vnd.jupyter.widget-view+json": {
       "model_id": "4166bdb72ab6486dba9fe5c245391766",
       "version_major": 2,
       "version_minor": 0
      },
      "text/plain": [
       "HBox(children=(FloatProgress(value=0.0, max=10.0), HTML(value='')))"
      ]
     },
     "metadata": {},
     "output_type": "display_data"
    },
    {
     "name": "stdout",
     "output_type": "stream",
     "text": [
      "\n",
      "[clf_engine]  training loop: started for [10] updates; BS=[2500] LR=[0.0005228114230133245]!\n"
     ]
    },
    {
     "data": {
      "application/vnd.jupyter.widget-view+json": {
       "model_id": "c581a5c3fc2e43369b172f91a44fab21",
       "version_major": 2,
       "version_minor": 0
      },
      "text/plain": [
       "HBox(children=(FloatProgress(value=0.0, max=10.0), HTML(value='')))"
      ]
     },
     "metadata": {},
     "output_type": "display_data"
    },
    {
     "name": "stdout",
     "output_type": "stream",
     "text": [
      "\n",
      "[clf_engine]  training loop: done!\n",
      "[ATE:46]  delta is: [-0.3734]; scaled delta is [-0.0373]\n",
      "[ATE:46]  [1.929633617401123, 1.9081493616104126, 1.891039252281189, 1.9329414367675781, 1.9065005779266357, 1.90671968460083, 1.917965054512024, 1.908233404159546, 1.8925487995147705, 1.9323164224624634]\n",
      "[ATE:46]  [2.31720638 2.28115559 2.2954607  2.28223419 2.27638245 2.27979279\n",
      " 2.26739478 2.29634809 2.2797277  2.28480649]\n",
      "[ATE:46]  reward at the end of time step is [-0.03734461545944214]\n",
      "[ATA] optimization step performed\n",
      "[ATA episode 0]: took [9.8] seconds for one full step\n",
      "[ATE:46]  action [[1.4590458  0.76365815 0.3091496  0.33376352]] recieved\n",
      "[clf_engine]  scaled BS by [1.4590457974456366]; BS=[2500]\n",
      "[clf_engine]  scaled LR by [0.7636581490160621]; LR=[0.0005228114230133245]\n",
      "[clf_engine]  training loop: started for [30] updates; BS=[2500] LR=[0.0003992492035828089]!\n"
     ]
    },
    {
     "data": {
      "application/vnd.jupyter.widget-view+json": {
       "model_id": "94e21dd8cfe34087a105d2702a01dfc8",
       "version_major": 2,
       "version_minor": 0
      },
      "text/plain": [
       "HBox(children=(FloatProgress(value=0.0, max=10.0), HTML(value='')))"
      ]
     },
     "metadata": {},
     "output_type": "display_data"
    },
    {
     "name": "stdout",
     "output_type": "stream",
     "text": [
      "\n",
      "[clf_engine]  training loop: started for [20] updates; BS=[2500] LR=[0.0003992492035828089]!\n"
     ]
    },
    {
     "data": {
      "application/vnd.jupyter.widget-view+json": {
       "model_id": "410b2cfff4db4de4ba35144357dfe896",
       "version_major": 2,
       "version_minor": 0
      },
      "text/plain": [
       "HBox(children=(FloatProgress(value=0.0, max=10.0), HTML(value='')))"
      ]
     },
     "metadata": {},
     "output_type": "display_data"
    },
    {
     "name": "stdout",
     "output_type": "stream",
     "text": [
      "\n",
      "[clf_engine]  training loop: started for [10] updates; BS=[2500] LR=[0.0003992492035828089]!\n"
     ]
    },
    {
     "data": {
      "application/vnd.jupyter.widget-view+json": {
       "model_id": "4f920b99192248ae9732b0e5c670c059",
       "version_major": 2,
       "version_minor": 0
      },
      "text/plain": [
       "HBox(children=(FloatProgress(value=0.0, max=10.0), HTML(value='')))"
      ]
     },
     "metadata": {},
     "output_type": "display_data"
    },
    {
     "name": "stdout",
     "output_type": "stream",
     "text": [
      "\n",
      "[clf_engine]  training loop: done!\n",
      "[ATE:47]  delta is: [-0.3735]; scaled delta is [-0.0374]\n",
      "[ATE:47]  [1.930481195449829, 1.9026882648468018, 1.9254428148269653, 1.9088501930236816, 1.9291719198226929, 1.9231082201004028, 1.9217067956924438, 1.9141974449157715, 1.9097187519073486, 1.9071654081344604]\n",
      "[ATE:47]  [2.28698492 2.29379463 2.27609324 2.29761434 2.29128098 2.28851509\n",
      " 2.29852915 2.27883267 2.30476832 2.29146099]\n",
      "[ATE:47]  reward at the end of time step is [-0.03735343337059023]\n",
      "[ATA] optimization step performed\n",
      "[ATA episode 0]: took [9.0] seconds for one full step\n",
      "[ATE:47]  action [[1.38533746 0.67070603 0.24412216 0.35819955]] recieved\n",
      "[clf_engine]  scaled BS by [1.3853374583512905]; BS=[2500]\n",
      "[clf_engine]  scaled LR by [0.6707060297804471]; LR=[0.0003992492035828089]\n",
      "[clf_engine]  training loop: started for [30] updates; BS=[2500] LR=[0.0002677788482280312]!\n"
     ]
    },
    {
     "data": {
      "application/vnd.jupyter.widget-view+json": {
       "model_id": "657d886fd4a54f7e8bd036f865f04aa4",
       "version_major": 2,
       "version_minor": 0
      },
      "text/plain": [
       "HBox(children=(FloatProgress(value=0.0, max=10.0), HTML(value='')))"
      ]
     },
     "metadata": {},
     "output_type": "display_data"
    },
    {
     "name": "stdout",
     "output_type": "stream",
     "text": [
      "\n",
      "[clf_engine]  training loop: started for [20] updates; BS=[2500] LR=[0.0002677788482280312]!\n"
     ]
    },
    {
     "data": {
      "application/vnd.jupyter.widget-view+json": {
       "model_id": "6696d050cf094daf902ec29c1950a403",
       "version_major": 2,
       "version_minor": 0
      },
      "text/plain": [
       "HBox(children=(FloatProgress(value=0.0, max=10.0), HTML(value='')))"
      ]
     },
     "metadata": {},
     "output_type": "display_data"
    },
    {
     "name": "stdout",
     "output_type": "stream",
     "text": [
      "\n",
      "[clf_engine]  training loop: started for [10] updates; BS=[2500] LR=[0.0002677788482280312]!\n"
     ]
    },
    {
     "data": {
      "application/vnd.jupyter.widget-view+json": {
       "model_id": "3f8bebdbb94b4c65ae041c5f00fcda89",
       "version_major": 2,
       "version_minor": 0
      },
      "text/plain": [
       "HBox(children=(FloatProgress(value=0.0, max=10.0), HTML(value='')))"
      ]
     },
     "metadata": {},
     "output_type": "display_data"
    },
    {
     "name": "stdout",
     "output_type": "stream",
     "text": [
      "\n",
      "[clf_engine]  training loop: done!\n",
      "[ATE:48]  delta is: [-0.3733]; scaled delta is [-0.0373]\n",
      "[ATE:48]  [1.9243345260620117, 1.9171724319458008, 1.9083701372146606, 1.9077091217041016, 1.923885703086853, 1.9068082571029663, 1.9104169607162476, 1.9091472625732422, 1.922480821609497, 1.9211385250091553]\n",
      "[ATE:48]  [2.29998493 2.29248619 2.30315518 2.27034068 2.29303646 2.29908514\n",
      " 2.26737761 2.28380823 2.30358672 2.27190161]\n",
      "[ATE:48]  reward at the end of time step is [-0.03733299016952514]\n",
      "[ATA] optimization step performed\n",
      "[ATA episode 0]: took [8.9] seconds for one full step\n",
      "[ATE:48]  action [[1.34801242 0.49337726 0.19359122 0.27206843]] recieved\n",
      "[clf_engine]  scaled BS by [1.3480124201747625]; BS=[2500]\n",
      "[clf_engine]  scaled LR by [0.4933772565943018]; LR=[0.0002677788482280312]\n",
      "[clf_engine]  training loop: started for [30] updates; BS=[2500] LR=[0.00013211599351272796]!\n"
     ]
    },
    {
     "data": {
      "application/vnd.jupyter.widget-view+json": {
       "model_id": "2b2664e1751f4e8085a6a81583a8f899",
       "version_major": 2,
       "version_minor": 0
      },
      "text/plain": [
       "HBox(children=(FloatProgress(value=0.0, max=10.0), HTML(value='')))"
      ]
     },
     "metadata": {},
     "output_type": "display_data"
    },
    {
     "name": "stdout",
     "output_type": "stream",
     "text": [
      "\n",
      "[clf_engine]  training loop: started for [20] updates; BS=[2500] LR=[0.00013211599351272796]!\n"
     ]
    },
    {
     "data": {
      "application/vnd.jupyter.widget-view+json": {
       "model_id": "c1dd434f12b84c8ca145837769301dbe",
       "version_major": 2,
       "version_minor": 0
      },
      "text/plain": [
       "HBox(children=(FloatProgress(value=0.0, max=10.0), HTML(value='')))"
      ]
     },
     "metadata": {},
     "output_type": "display_data"
    },
    {
     "name": "stdout",
     "output_type": "stream",
     "text": [
      "\n",
      "[clf_engine]  training loop: started for [10] updates; BS=[2500] LR=[0.00013211599351272796]!\n"
     ]
    },
    {
     "data": {
      "application/vnd.jupyter.widget-view+json": {
       "model_id": "fbabe99e036a42fd8ce8d25e528100ef",
       "version_major": 2,
       "version_minor": 0
      },
      "text/plain": [
       "HBox(children=(FloatProgress(value=0.0, max=10.0), HTML(value='')))"
      ]
     },
     "metadata": {},
     "output_type": "display_data"
    },
    {
     "name": "stdout",
     "output_type": "stream",
     "text": [
      "\n",
      "[clf_engine]  training loop: done!\n",
      "[ATE:49]  delta is: [-0.3723]; scaled delta is [-0.0372]\n",
      "[ATE:49]  [1.9239882230758667, 1.9269371032714844, 1.930860996246338, 1.9050371646881104, 1.90769624710083, 1.9195753335952759, 1.9158079624176025, 1.9037774801254272, 1.9174147844314575, 1.9039826393127441]\n",
      "[ATE:49]  [2.29018283 2.29131699 2.28550124 2.30522323 2.30661201 2.27866125\n",
      " 2.27066326 2.26639509 2.30519605 2.27826381]\n",
      "[ATE:49]  reward at the end of time step is [-0.03722937822341921]\n",
      "[ATA] optimization step performed\n",
      "[ATA episode 0]: took [8.9] seconds for one full step\n",
      "[ATE:49]  action [[1.47919715 0.47093636 0.20532335 0.29841177]] recieved\n",
      "[clf_engine]  scaled BS by [1.479197150489932]; BS=[2500]\n",
      "[clf_engine]  scaled LR by [0.47093635542038004]; LR=[0.00013211599351272796]\n",
      "[clf_engine]  training loop: started for [30] updates; BS=[2500] LR=[6.221822447762668e-05]!\n"
     ]
    },
    {
     "data": {
      "application/vnd.jupyter.widget-view+json": {
       "model_id": "bf4e44980d3f4262b3c2f3f0d9b5e229",
       "version_major": 2,
       "version_minor": 0
      },
      "text/plain": [
       "HBox(children=(FloatProgress(value=0.0, max=10.0), HTML(value='')))"
      ]
     },
     "metadata": {},
     "output_type": "display_data"
    },
    {
     "name": "stdout",
     "output_type": "stream",
     "text": [
      "\n",
      "[clf_engine]  training loop: started for [20] updates; BS=[2500] LR=[6.221822447762668e-05]!\n"
     ]
    },
    {
     "data": {
      "application/vnd.jupyter.widget-view+json": {
       "model_id": "d0a9b31853a14cd19b54c78264447511",
       "version_major": 2,
       "version_minor": 0
      },
      "text/plain": [
       "HBox(children=(FloatProgress(value=0.0, max=10.0), HTML(value='')))"
      ]
     },
     "metadata": {},
     "output_type": "display_data"
    },
    {
     "name": "stdout",
     "output_type": "stream",
     "text": [
      "\n",
      "[clf_engine]  training loop: started for [10] updates; BS=[2500] LR=[6.221822447762668e-05]!\n"
     ]
    },
    {
     "data": {
      "application/vnd.jupyter.widget-view+json": {
       "model_id": "1d520034f3c94052a5668501eccc5385",
       "version_major": 2,
       "version_minor": 0
      },
      "text/plain": [
       "HBox(children=(FloatProgress(value=0.0, max=10.0), HTML(value='')))"
      ]
     },
     "metadata": {},
     "output_type": "display_data"
    },
    {
     "name": "stdout",
     "output_type": "stream",
     "text": [
      "\n",
      "[clf_engine]  training loop: done!\n"
     ]
    },
    {
     "data": {
      "application/vnd.jupyter.widget-view+json": {
       "model_id": "7ac61dc8d069430890ecbf9d7edcd42e",
       "version_major": 2,
       "version_minor": 0
      },
      "text/plain": [
       "HBox(children=(FloatProgress(value=0.0, max=1563.0), HTML(value='')))"
      ]
     },
     "metadata": {},
     "output_type": "display_data"
    },
    {
     "name": "stdout",
     "output_type": "stream",
     "text": [
      "\n"
     ]
    },
    {
     "data": {
      "application/vnd.jupyter.widget-view+json": {
       "model_id": "25bb6cad0bcb497aafb18aabff6dd3fe",
       "version_major": 2,
       "version_minor": 0
      },
      "text/plain": [
       "HBox(children=(FloatProgress(value=0.0, max=625.0), HTML(value='')))"
      ]
     },
     "metadata": {},
     "output_type": "display_data"
    },
    {
     "name": "stdout",
     "output_type": "stream",
     "text": [
      "\n",
      "[ATE:50]  delta is: [-0.3762]; scaled delta is [-0.0376]\n",
      "[ATE:50]  [1.9263907670974731, 1.9120814800262451, 1.908185362815857, 1.8918341398239136, 1.913091778755188, 1.8902499675750732, 1.9277249574661255, 1.9231219291687012, 1.9264777898788452, 1.9251888990402222]\n",
      "[ATE:50]  [2.28953528 2.27378058 2.28034878 2.28466535 2.31001258 2.29170632\n",
      " 2.29282689 2.29490519 2.29626727 2.29276013]\n",
      "[ATE:50]  reward at the end of time step is [-0.03762461304664613]\n",
      "[ATA] optimization step performed\n",
      "[ATA episode 0]: took [13.9] seconds for one full step\n",
      "[ATE:50]  action [[1.49177305 0.5645504  0.18106322 0.23121798]] recieved\n",
      "[clf_engine]  scaled BS by [1.4917730503458124]; BS=[2500]\n",
      "[clf_engine]  scaled LR by [0.5645503964923881]; LR=[6.221822447762668e-05]\n",
      "[clf_engine]  training loop: started for [30] updates; BS=[2500] LR=[3.512532329789655e-05]!\n"
     ]
    },
    {
     "data": {
      "application/vnd.jupyter.widget-view+json": {
       "model_id": "58d728de55634afb99da8c4daeb78df0",
       "version_major": 2,
       "version_minor": 0
      },
      "text/plain": [
       "HBox(children=(FloatProgress(value=0.0, max=10.0), HTML(value='')))"
      ]
     },
     "metadata": {},
     "output_type": "display_data"
    },
    {
     "name": "stdout",
     "output_type": "stream",
     "text": [
      "\n",
      "[clf_engine]  training loop: started for [20] updates; BS=[2500] LR=[3.512532329789655e-05]!\n"
     ]
    },
    {
     "data": {
      "application/vnd.jupyter.widget-view+json": {
       "model_id": "9b192b7169f0489e81c168fbb502fe40",
       "version_major": 2,
       "version_minor": 0
      },
      "text/plain": [
       "HBox(children=(FloatProgress(value=0.0, max=10.0), HTML(value='')))"
      ]
     },
     "metadata": {},
     "output_type": "display_data"
    },
    {
     "name": "stdout",
     "output_type": "stream",
     "text": [
      "\n",
      "[clf_engine]  training loop: started for [10] updates; BS=[2500] LR=[3.512532329789655e-05]!\n"
     ]
    },
    {
     "data": {
      "application/vnd.jupyter.widget-view+json": {
       "model_id": "dfb8009c30c04dc991e44dc7e5325050",
       "version_major": 2,
       "version_minor": 0
      },
      "text/plain": [
       "HBox(children=(FloatProgress(value=0.0, max=10.0), HTML(value='')))"
      ]
     },
     "metadata": {},
     "output_type": "display_data"
    },
    {
     "name": "stdout",
     "output_type": "stream",
     "text": [
      "\n",
      "[clf_engine]  training loop: done!\n",
      "[ATE:51]  delta is: [-0.3764]; scaled delta is [-0.0376]\n",
      "[ATE:51]  [1.9055310487747192, 1.9144474267959595, 1.874772071838379, 1.9046648740768433, 1.9068447351455688, 1.9409794807434082, 1.9248151779174805, 1.9194791316986084, 1.9089781045913696, 1.9101208448410034]\n",
      "[ATE:51]  [2.30987096 2.28637552 2.27538109 2.30013585 2.27308583 2.29550362\n",
      " 2.28767753 2.28364563 2.28326154 2.27923632]\n",
      "[ATE:51]  reward at the end of time step is [-0.037635409832000734]\n",
      "[ATA] optimization step performed\n",
      "[ATA episode 0]: took [8.8] seconds for one full step\n",
      "[ATE:51]  action [[1.53485135 0.74572595 0.17511185 0.19919608]] recieved\n",
      "[clf_engine]  scaled BS by [1.5348513520731495]; BS=[2500]\n",
      "[clf_engine]  scaled LR by [0.7457259512291283]; LR=[3.512532329789655e-05]\n",
      "[clf_engine]  training loop: started for [30] updates; BS=[2500] LR=[2.6193865128554567e-05]!\n"
     ]
    },
    {
     "data": {
      "application/vnd.jupyter.widget-view+json": {
       "model_id": "3f18b0325ecb48098bb994522e8bd074",
       "version_major": 2,
       "version_minor": 0
      },
      "text/plain": [
       "HBox(children=(FloatProgress(value=0.0, max=10.0), HTML(value='')))"
      ]
     },
     "metadata": {},
     "output_type": "display_data"
    },
    {
     "name": "stdout",
     "output_type": "stream",
     "text": [
      "\n",
      "[clf_engine]  training loop: started for [20] updates; BS=[2500] LR=[2.6193865128554567e-05]!\n"
     ]
    },
    {
     "data": {
      "application/vnd.jupyter.widget-view+json": {
       "model_id": "1a46bae1c9c54840b80d00a679dc3644",
       "version_major": 2,
       "version_minor": 0
      },
      "text/plain": [
       "HBox(children=(FloatProgress(value=0.0, max=10.0), HTML(value='')))"
      ]
     },
     "metadata": {},
     "output_type": "display_data"
    },
    {
     "name": "stdout",
     "output_type": "stream",
     "text": [
      "\n",
      "[clf_engine]  training loop: started for [10] updates; BS=[2500] LR=[2.6193865128554567e-05]!\n"
     ]
    },
    {
     "data": {
      "application/vnd.jupyter.widget-view+json": {
       "model_id": "c986346471424f42ae8280da6167288a",
       "version_major": 2,
       "version_minor": 0
      },
      "text/plain": [
       "HBox(children=(FloatProgress(value=0.0, max=10.0), HTML(value='')))"
      ]
     },
     "metadata": {},
     "output_type": "display_data"
    },
    {
     "name": "stdout",
     "output_type": "stream",
     "text": [
      "\n",
      "[clf_engine]  training loop: done!\n",
      "[ATE:52]  delta is: [-0.3825]; scaled delta is [-0.0382]\n",
      "[ATE:52]  [1.9439140558242798, 1.8925023078918457, 1.912245273590088, 1.9019410610198975, 1.9052248001098633, 1.8967037200927734, 1.8934687376022339, 1.9006706476211548, 1.9074920415878296, 1.925642728805542]\n",
      "[ATE:52]  [2.29661918 2.28379607 2.30312586 2.27760482 2.29547524 2.3200016\n",
      " 2.28251076 2.29366922 2.27960539 2.27200365]\n",
      "[ATE:52]  reward at the end of time step is [-0.038246064186096176]\n",
      "[ATA] optimization step performed\n",
      "[ATA episode 0]: took [8.7] seconds for one full step\n",
      "[ATE:52]  action [[1.59679448 0.68676162 0.20336767 0.22360349]] recieved\n",
      "[clf_engine]  scaled BS by [1.5967944794467344]; BS=[2500]\n",
      "[clf_engine]  scaled LR by [0.6867616249205106]; LR=[2.6193865128554567e-05]\n",
      "[clf_engine]  training loop: started for [30] updates; BS=[2500] LR=[1.7988941378634836e-05]!\n"
     ]
    },
    {
     "data": {
      "application/vnd.jupyter.widget-view+json": {
       "model_id": "eb9cc15e48d547c9ba3b81aab916ab45",
       "version_major": 2,
       "version_minor": 0
      },
      "text/plain": [
       "HBox(children=(FloatProgress(value=0.0, max=10.0), HTML(value='')))"
      ]
     },
     "metadata": {},
     "output_type": "display_data"
    },
    {
     "name": "stdout",
     "output_type": "stream",
     "text": [
      "\n",
      "[clf_engine]  training loop: started for [20] updates; BS=[2500] LR=[1.7988941378634836e-05]!\n"
     ]
    },
    {
     "data": {
      "application/vnd.jupyter.widget-view+json": {
       "model_id": "de9345e3208e4dacba68753b24009609",
       "version_major": 2,
       "version_minor": 0
      },
      "text/plain": [
       "HBox(children=(FloatProgress(value=0.0, max=10.0), HTML(value='')))"
      ]
     },
     "metadata": {},
     "output_type": "display_data"
    },
    {
     "name": "stdout",
     "output_type": "stream",
     "text": [
      "\n",
      "[clf_engine]  training loop: started for [10] updates; BS=[2500] LR=[1.7988941378634836e-05]!\n"
     ]
    },
    {
     "data": {
      "application/vnd.jupyter.widget-view+json": {
       "model_id": "2f2f7750af9944f7b5056b96ef2d0147",
       "version_major": 2,
       "version_minor": 0
      },
      "text/plain": [
       "HBox(children=(FloatProgress(value=0.0, max=10.0), HTML(value='')))"
      ]
     },
     "metadata": {},
     "output_type": "display_data"
    },
    {
     "name": "stdout",
     "output_type": "stream",
     "text": [
      "\n",
      "[clf_engine]  training loop: done!\n",
      "[ATE:53]  delta is: [-0.3788]; scaled delta is [-0.0379]\n",
      "[ATE:53]  [1.9110839366912842, 1.8846741914749146, 1.8934822082519531, 1.9135591983795166, 1.9125312566757202, 1.8992849588394165, 1.932497262954712, 1.9225496053695679, 1.9221863746643066, 1.9428411722183228]\n",
      "[ATE:53]  [2.27436137 2.29919434 2.28173804 2.29191041 2.29686284 2.3335371\n",
      " 2.28886724 2.27760983 2.27641678 2.30193448]\n",
      "[ATE:53]  reward at the end of time step is [-0.037877422571182255]\n",
      "[ATA] optimization step performed\n",
      "[ATA episode 0]: took [8.4] seconds for one full step\n",
      "[ATE:53]  action [[1.68387274 0.72031566 0.21171257 0.15973451]] recieved\n",
      "[clf_engine]  scaled BS by [1.6838727414036825]; BS=[2500]\n",
      "[clf_engine]  scaled LR by [0.7203156573906985]; LR=[1.7988941378634836e-05]\n",
      "[clf_engine]  training loop: started for [30] updates; BS=[2500] LR=[1.295771613491409e-05]!\n"
     ]
    },
    {
     "data": {
      "application/vnd.jupyter.widget-view+json": {
       "model_id": "c8b1bf65c4314d31a70e7d1d7ae0b31d",
       "version_major": 2,
       "version_minor": 0
      },
      "text/plain": [
       "HBox(children=(FloatProgress(value=0.0, max=10.0), HTML(value='')))"
      ]
     },
     "metadata": {},
     "output_type": "display_data"
    },
    {
     "name": "stdout",
     "output_type": "stream",
     "text": [
      "\n",
      "[clf_engine]  training loop: started for [20] updates; BS=[2500] LR=[1.295771613491409e-05]!\n"
     ]
    },
    {
     "data": {
      "application/vnd.jupyter.widget-view+json": {
       "model_id": "dcf50ade186546a0b62d765a2ef18065",
       "version_major": 2,
       "version_minor": 0
      },
      "text/plain": [
       "HBox(children=(FloatProgress(value=0.0, max=10.0), HTML(value='')))"
      ]
     },
     "metadata": {},
     "output_type": "display_data"
    },
    {
     "name": "stdout",
     "output_type": "stream",
     "text": [
      "\n",
      "[clf_engine]  training loop: started for [10] updates; BS=[2500] LR=[1.295771613491409e-05]!\n"
     ]
    },
    {
     "data": {
      "application/vnd.jupyter.widget-view+json": {
       "model_id": "b5b79eb140ad4624ba1b2d6c1e44e37d",
       "version_major": 2,
       "version_minor": 0
      },
      "text/plain": [
       "HBox(children=(FloatProgress(value=0.0, max=10.0), HTML(value='')))"
      ]
     },
     "metadata": {},
     "output_type": "display_data"
    },
    {
     "name": "stdout",
     "output_type": "stream",
     "text": [
      "\n",
      "[clf_engine]  training loop: done!\n",
      "[ATE:54]  delta is: [-0.3831]; scaled delta is [-0.0383]\n",
      "[ATE:54]  [1.908915638923645, 1.9131431579589844, 1.9291232824325562, 1.9110000133514404, 1.9279286861419678, 1.9217156171798706, 1.882336139678955, 1.9144506454467773, 1.8912849426269531, 1.9074513912200928]\n",
      "[ATE:54]  [2.29799271 2.29526544 2.29565573 2.29603052 2.29632974 2.28280568\n",
      " 2.28404641 2.28814316 2.29863095 2.30329132]\n",
      "[ATE:54]  reward at the end of time step is [-0.03830842137336732]\n",
      "[ATA] optimization step performed\n",
      "[ATA episode 0]: took [9.3] seconds for one full step\n",
      "[ATE:54]  action [[1.66275159 0.76444333 0.18623504 0.14421317]] recieved\n",
      "[clf_engine]  scaled BS by [1.6627515856012862]; BS=[2500]\n",
      "[clf_engine]  scaled LR by [0.764443329869529]; LR=[1.295771613491409e-05]\n",
      "[clf_engine]  training loop: started for [30] updates; BS=[2500] LR=[9.90543966967785e-06]!\n"
     ]
    },
    {
     "data": {
      "application/vnd.jupyter.widget-view+json": {
       "model_id": "afb0d5c78c244b7e8a89867d8e220966",
       "version_major": 2,
       "version_minor": 0
      },
      "text/plain": [
       "HBox(children=(FloatProgress(value=0.0, max=10.0), HTML(value='')))"
      ]
     },
     "metadata": {},
     "output_type": "display_data"
    },
    {
     "name": "stdout",
     "output_type": "stream",
     "text": [
      "\n",
      "[clf_engine]  training loop: started for [20] updates; BS=[2500] LR=[9.90543966967785e-06]!\n"
     ]
    },
    {
     "data": {
      "application/vnd.jupyter.widget-view+json": {
       "model_id": "a9cef330aa794fb7afd2978397c250c8",
       "version_major": 2,
       "version_minor": 0
      },
      "text/plain": [
       "HBox(children=(FloatProgress(value=0.0, max=10.0), HTML(value='')))"
      ]
     },
     "metadata": {},
     "output_type": "display_data"
    },
    {
     "name": "stdout",
     "output_type": "stream",
     "text": [
      "\n",
      "[clf_engine]  training loop: started for [10] updates; BS=[2500] LR=[9.90543966967785e-06]!\n"
     ]
    },
    {
     "data": {
      "application/vnd.jupyter.widget-view+json": {
       "model_id": "fbef744abbab47d6bdc73bc818178c36",
       "version_major": 2,
       "version_minor": 0
      },
      "text/plain": [
       "HBox(children=(FloatProgress(value=0.0, max=10.0), HTML(value='')))"
      ]
     },
     "metadata": {},
     "output_type": "display_data"
    },
    {
     "name": "stdout",
     "output_type": "stream",
     "text": [
      "\n",
      "[clf_engine]  training loop: done!\n",
      "[ATE:55]  delta is: [-0.3792]; scaled delta is [-0.0379]\n",
      "[ATE:55]  [1.913389801979065, 1.8907406330108643, 1.9113185405731201, 1.9299589395523071, 1.9063998460769653, 1.9101054668426514, 1.9003154039382935, 1.917891025543213, 1.9305362701416016, 1.8926537036895752]\n",
      "[ATE:55]  [2.26863718 2.28002286 2.30093169 2.27192283 2.31121945 2.30240417\n",
      " 2.28336501 2.27413583 2.2976613  2.30466366]\n",
      "[ATE:55]  reward at the end of time step is [-0.03791654348373415]\n",
      "[ATA] optimization step performed\n",
      "[ATA episode 0]: took [9.2] seconds for one full step\n",
      "[ATE:55]  action [[1.72254449 0.78603295 0.22852331 0.16260912]] recieved\n",
      "[clf_engine]  scaled BS by [1.722544485735161]; BS=[2500]\n",
      "[clf_engine]  scaled LR by [0.7860329451658281]; LR=[9.90543966967785e-06]\n",
      "[clf_engine]  training loop: started for [30] updates; BS=[2500] LR=[7.786001916719307e-06]!\n"
     ]
    },
    {
     "data": {
      "application/vnd.jupyter.widget-view+json": {
       "model_id": "4b89e594ab2c402bacbe0f3af78f59cb",
       "version_major": 2,
       "version_minor": 0
      },
      "text/plain": [
       "HBox(children=(FloatProgress(value=0.0, max=10.0), HTML(value='')))"
      ]
     },
     "metadata": {},
     "output_type": "display_data"
    },
    {
     "name": "stdout",
     "output_type": "stream",
     "text": [
      "\n",
      "[clf_engine]  training loop: started for [20] updates; BS=[2500] LR=[7.786001916719307e-06]!\n"
     ]
    },
    {
     "data": {
      "application/vnd.jupyter.widget-view+json": {
       "model_id": "8b75778568a84e408154519bf86c680c",
       "version_major": 2,
       "version_minor": 0
      },
      "text/plain": [
       "HBox(children=(FloatProgress(value=0.0, max=10.0), HTML(value='')))"
      ]
     },
     "metadata": {},
     "output_type": "display_data"
    },
    {
     "name": "stdout",
     "output_type": "stream",
     "text": [
      "\n",
      "[clf_engine]  training loop: started for [10] updates; BS=[2500] LR=[7.786001916719307e-06]!\n"
     ]
    },
    {
     "data": {
      "application/vnd.jupyter.widget-view+json": {
       "model_id": "1d18f97224d44244926f53c6cea8b3e6",
       "version_major": 2,
       "version_minor": 0
      },
      "text/plain": [
       "HBox(children=(FloatProgress(value=0.0, max=10.0), HTML(value='')))"
      ]
     },
     "metadata": {},
     "output_type": "display_data"
    },
    {
     "name": "stdout",
     "output_type": "stream",
     "text": [
      "\n",
      "[clf_engine]  training loop: done!\n",
      "[ATE:56]  delta is: [-0.3804]; scaled delta is [-0.0380]\n",
      "[ATE:56]  [1.9412429332733154, 1.9281195402145386, 1.8964284658432007, 1.9008564949035645, 1.9036602973937988, 1.9341989755630493, 1.911251187324524, 1.9050965309143066, 1.8988761901855469, 1.9115238189697266]\n",
      "[ATE:56]  [2.28801918 2.28339767 2.27973461 2.30502844 2.28439999 2.2914474\n",
      " 2.28441024 2.30455613 2.28500867 2.32894754]\n",
      "[ATE:56]  reward at the end of time step is [-0.03803695440292357]\n",
      "[ATA] optimization step performed\n",
      "[ATA episode 0]: took [9.4] seconds for one full step\n",
      "[ATE:56]  action [[1.66511705 0.88469047 0.257189   0.16596259]] recieved\n",
      "[clf_engine]  scaled BS by [1.66511704900782]; BS=[2500]\n",
      "[clf_engine]  scaled LR by [0.8846904688753061]; LR=[7.786001916719307e-06]\n",
      "[clf_engine]  training loop: started for [30] updates; BS=[2500] LR=[6.8882016863664366e-06]!\n"
     ]
    },
    {
     "data": {
      "application/vnd.jupyter.widget-view+json": {
       "model_id": "92f062bada504fd489f80e92f37b794d",
       "version_major": 2,
       "version_minor": 0
      },
      "text/plain": [
       "HBox(children=(FloatProgress(value=0.0, max=10.0), HTML(value='')))"
      ]
     },
     "metadata": {},
     "output_type": "display_data"
    },
    {
     "name": "stdout",
     "output_type": "stream",
     "text": [
      "\n",
      "[clf_engine]  training loop: started for [20] updates; BS=[2500] LR=[6.8882016863664366e-06]!\n"
     ]
    },
    {
     "data": {
      "application/vnd.jupyter.widget-view+json": {
       "model_id": "265ce281aba046388b37658c2a79c9e3",
       "version_major": 2,
       "version_minor": 0
      },
      "text/plain": [
       "HBox(children=(FloatProgress(value=0.0, max=10.0), HTML(value='')))"
      ]
     },
     "metadata": {},
     "output_type": "display_data"
    },
    {
     "name": "stdout",
     "output_type": "stream",
     "text": [
      "\n",
      "[clf_engine]  training loop: started for [10] updates; BS=[2500] LR=[6.8882016863664366e-06]!\n"
     ]
    },
    {
     "data": {
      "application/vnd.jupyter.widget-view+json": {
       "model_id": "53a11b130a5544dc94a38717f1c8933c",
       "version_major": 2,
       "version_minor": 0
      },
      "text/plain": [
       "HBox(children=(FloatProgress(value=0.0, max=10.0), HTML(value='')))"
      ]
     },
     "metadata": {},
     "output_type": "display_data"
    },
    {
     "name": "stdout",
     "output_type": "stream",
     "text": [
      "\n",
      "[clf_engine]  training loop: done!\n",
      "[ATE:57]  delta is: [-0.3699]; scaled delta is [-0.0370]\n",
      "[ATE:57]  [1.920697808265686, 1.8962736129760742, 1.9342976808547974, 1.913910150527954, 1.9282461404800415, 1.9153648614883423, 1.9247982501983643, 1.923356294631958, 1.9188477993011475, 1.9172090291976929]\n",
      "[ATE:57]  [2.29969573 2.28837347 2.29637432 2.33232117 2.28120184 2.28445554\n",
      " 2.28312135 2.2698245  2.29451895 2.26219487]\n",
      "[ATE:57]  reward at the end of time step is [-0.03699080109596253]\n",
      "[ATA] optimization step performed\n",
      "[ATA episode 0]: took [9.0] seconds for one full step\n",
      "[ATE:57]  action [[1.63782198 0.94285863 0.26416904 0.12983613]] recieved\n",
      "[clf_engine]  scaled BS by [1.637821977687785]; BS=[2500]\n",
      "[clf_engine]  scaled LR by [0.9428586277417849]; LR=[6.8882016863664366e-06]\n",
      "[clf_engine]  training loop: started for [30] updates; BS=[2500] LR=[6.4946003896161064e-06]!\n"
     ]
    },
    {
     "data": {
      "application/vnd.jupyter.widget-view+json": {
       "model_id": "367dd47604494383959ac07931d312fa",
       "version_major": 2,
       "version_minor": 0
      },
      "text/plain": [
       "HBox(children=(FloatProgress(value=0.0, max=10.0), HTML(value='')))"
      ]
     },
     "metadata": {},
     "output_type": "display_data"
    },
    {
     "name": "stdout",
     "output_type": "stream",
     "text": [
      "\n",
      "[clf_engine]  training loop: started for [20] updates; BS=[2500] LR=[6.4946003896161064e-06]!\n"
     ]
    },
    {
     "data": {
      "application/vnd.jupyter.widget-view+json": {
       "model_id": "e26a973acc2048b7b6f30c458cc28f80",
       "version_major": 2,
       "version_minor": 0
      },
      "text/plain": [
       "HBox(children=(FloatProgress(value=0.0, max=10.0), HTML(value='')))"
      ]
     },
     "metadata": {},
     "output_type": "display_data"
    },
    {
     "name": "stdout",
     "output_type": "stream",
     "text": [
      "\n",
      "[clf_engine]  training loop: started for [10] updates; BS=[2500] LR=[6.4946003896161064e-06]!\n"
     ]
    },
    {
     "data": {
      "application/vnd.jupyter.widget-view+json": {
       "model_id": "a2cdf439aec6436b8d854026dd295c49",
       "version_major": 2,
       "version_minor": 0
      },
      "text/plain": [
       "HBox(children=(FloatProgress(value=0.0, max=10.0), HTML(value='')))"
      ]
     },
     "metadata": {},
     "output_type": "display_data"
    },
    {
     "name": "stdout",
     "output_type": "stream",
     "text": [
      "\n",
      "[clf_engine]  training loop: done!\n",
      "[ATE:58]  delta is: [-0.3866]; scaled delta is [-0.0387]\n",
      "[ATE:58]  [1.9108716249465942, 1.9092880487442017, 1.9484527111053467, 1.896578311920166, 1.9319480657577515, 1.8894888162612915, 1.9171427488327026, 1.8928786516189575, 1.8898577690124512, 1.9017091989517212]\n",
      "[ATE:58]  [2.28645253 2.29557562 2.31088519 2.30591488 2.28025723 2.29559684\n",
      " 2.30980587 2.28657675 2.318012   2.26512337]\n",
      "[ATE:58]  reward at the end of time step is [-0.038659843206405656]\n",
      "[ATA] optimization step performed\n",
      "[ATA episode 0]: took [9.0] seconds for one full step\n",
      "[ATE:58]  action [[1.64036954 0.77809172 0.27410277 0.1128166 ]] recieved\n",
      "[clf_engine]  scaled BS by [1.6403695369412425]; BS=[2500]\n",
      "[clf_engine]  scaled LR by [0.7780917172876641]; LR=[6.4946003896161064e-06]\n",
      "[clf_engine]  training loop: started for [30] updates; BS=[2500] LR=[5.053394770253529e-06]!\n"
     ]
    },
    {
     "data": {
      "application/vnd.jupyter.widget-view+json": {
       "model_id": "99cb0aedde1048e9a683905a35d7fd63",
       "version_major": 2,
       "version_minor": 0
      },
      "text/plain": [
       "HBox(children=(FloatProgress(value=0.0, max=10.0), HTML(value='')))"
      ]
     },
     "metadata": {},
     "output_type": "display_data"
    },
    {
     "name": "stdout",
     "output_type": "stream",
     "text": [
      "\n",
      "[clf_engine]  training loop: started for [20] updates; BS=[2500] LR=[5.053394770253529e-06]!\n"
     ]
    },
    {
     "data": {
      "application/vnd.jupyter.widget-view+json": {
       "model_id": "8a0f6145c1df4ba29f961537e659da13",
       "version_major": 2,
       "version_minor": 0
      },
      "text/plain": [
       "HBox(children=(FloatProgress(value=0.0, max=10.0), HTML(value='')))"
      ]
     },
     "metadata": {},
     "output_type": "display_data"
    },
    {
     "name": "stdout",
     "output_type": "stream",
     "text": [
      "\n",
      "[clf_engine]  training loop: started for [10] updates; BS=[2500] LR=[5.053394770253529e-06]!\n"
     ]
    },
    {
     "data": {
      "application/vnd.jupyter.widget-view+json": {
       "model_id": "7bb0751928d140a28bb5535655d6ba5a",
       "version_major": 2,
       "version_minor": 0
      },
      "text/plain": [
       "HBox(children=(FloatProgress(value=0.0, max=10.0), HTML(value='')))"
      ]
     },
     "metadata": {},
     "output_type": "display_data"
    },
    {
     "name": "stdout",
     "output_type": "stream",
     "text": [
      "\n",
      "[clf_engine]  training loop: done!\n",
      "[ATE:59]  delta is: [-0.3734]; scaled delta is [-0.0373]\n",
      "[ATE:59]  [1.9278199672698975, 1.9169589281082153, 1.9133636951446533, 1.9259648323059082, 1.9082728624343872, 1.912952184677124, 1.947762131690979, 1.8994523286819458, 1.893194556236267, 1.9005372524261475]\n",
      "[ATE:59]  [2.30104518 2.29541564 2.28533411 2.25147629 2.27885723 2.30102968\n",
      " 2.30273771 2.27471185 2.30636215 2.28298187]\n",
      "[ATE:59]  reward at the end of time step is [-0.03733672976493838]\n",
      "[ATA] optimization step performed\n",
      "[ATA episode 0]: took [9.0] seconds for one full step\n",
      "[ATE:59]  action [[1.68461812 0.60356341 0.34096734 0.15506719]] recieved\n",
      "[clf_engine]  scaled BS by [1.6846181246432146]; BS=[2500]\n",
      "[clf_engine]  scaled LR by [0.603563406401772]; LR=[5.053394770253529e-06]\n",
      "[clf_engine]  training loop: started for [30] updates; BS=[2500] LR=[3.0500441614271198e-06]!\n"
     ]
    },
    {
     "data": {
      "application/vnd.jupyter.widget-view+json": {
       "model_id": "609f9ba374c0437eae833498a784b092",
       "version_major": 2,
       "version_minor": 0
      },
      "text/plain": [
       "HBox(children=(FloatProgress(value=0.0, max=10.0), HTML(value='')))"
      ]
     },
     "metadata": {},
     "output_type": "display_data"
    },
    {
     "name": "stdout",
     "output_type": "stream",
     "text": [
      "\n",
      "[clf_engine]  training loop: started for [20] updates; BS=[2500] LR=[3.0500441614271198e-06]!\n"
     ]
    },
    {
     "data": {
      "application/vnd.jupyter.widget-view+json": {
       "model_id": "b5b68f1c78b041dfa119953724d751e1",
       "version_major": 2,
       "version_minor": 0
      },
      "text/plain": [
       "HBox(children=(FloatProgress(value=0.0, max=10.0), HTML(value='')))"
      ]
     },
     "metadata": {},
     "output_type": "display_data"
    },
    {
     "name": "stdout",
     "output_type": "stream",
     "text": [
      "\n",
      "[clf_engine]  training loop: started for [10] updates; BS=[2500] LR=[3.0500441614271198e-06]!\n"
     ]
    },
    {
     "data": {
      "application/vnd.jupyter.widget-view+json": {
       "model_id": "88515d4940d24779bc5f051058c2b408",
       "version_major": 2,
       "version_minor": 0
      },
      "text/plain": [
       "HBox(children=(FloatProgress(value=0.0, max=10.0), HTML(value='')))"
      ]
     },
     "metadata": {},
     "output_type": "display_data"
    },
    {
     "name": "stdout",
     "output_type": "stream",
     "text": [
      "\n",
      "[clf_engine]  training loop: done!\n"
     ]
    },
    {
     "data": {
      "application/vnd.jupyter.widget-view+json": {
       "model_id": "f3b0cff528644d06b6458b5f585c2638",
       "version_major": 2,
       "version_minor": 0
      },
      "text/plain": [
       "HBox(children=(FloatProgress(value=0.0, max=1563.0), HTML(value='')))"
      ]
     },
     "metadata": {},
     "output_type": "display_data"
    },
    {
     "name": "stdout",
     "output_type": "stream",
     "text": [
      "\n"
     ]
    },
    {
     "data": {
      "application/vnd.jupyter.widget-view+json": {
       "model_id": "40ac7bb4469b4fba87d840e4ac59e20b",
       "version_major": 2,
       "version_minor": 0
      },
      "text/plain": [
       "HBox(children=(FloatProgress(value=0.0, max=625.0), HTML(value='')))"
      ]
     },
     "metadata": {},
     "output_type": "display_data"
    },
    {
     "name": "stdout",
     "output_type": "stream",
     "text": [
      "\n",
      "[ATE:60]  delta is: [-0.3749]; scaled delta is [-0.0375]\n",
      "[ATE:60]  [1.9122084379196167, 1.8794918060302734, 1.9358081817626953, 1.895159125328064, 1.9478864669799805, 1.9072868824005127, 1.8824787139892578, 1.9202097654342651, 1.9174623489379883, 1.9134513139724731]\n",
      "[ATE:60]  [2.30105662 2.28169203 2.28698516 2.28590941 2.29233527 2.2886982\n",
      " 2.2751565  2.28488612 2.27787614 2.28597546]\n",
      "[ATE:60]  reward at the end of time step is [-0.03749127864837647]\n",
      "[ATA] optimization step performed\n",
      "[ATA episode 0]: took [13.5] seconds for one full step\n",
      "[ATE:60]  action [[1.65453788 0.55754052 0.29142846 0.19264056]] recieved\n",
      "[clf_engine]  scaled BS by [1.6545378808943914]; BS=[2500]\n",
      "[clf_engine]  scaled LR by [0.5575405171332625]; LR=[3.0500441614271198e-06]\n",
      "[clf_engine]  training loop: started for [30] updates; BS=[2500] LR=[1.7005231990413643e-06]!\n"
     ]
    },
    {
     "data": {
      "application/vnd.jupyter.widget-view+json": {
       "model_id": "05dd1aec4a534ca6a0a58cfb7a3d8ae6",
       "version_major": 2,
       "version_minor": 0
      },
      "text/plain": [
       "HBox(children=(FloatProgress(value=0.0, max=10.0), HTML(value='')))"
      ]
     },
     "metadata": {},
     "output_type": "display_data"
    },
    {
     "name": "stdout",
     "output_type": "stream",
     "text": [
      "\n",
      "[clf_engine]  training loop: started for [20] updates; BS=[2500] LR=[1.7005231990413643e-06]!\n"
     ]
    },
    {
     "data": {
      "application/vnd.jupyter.widget-view+json": {
       "model_id": "380bc867ca2c491fb1f12cf56ae63328",
       "version_major": 2,
       "version_minor": 0
      },
      "text/plain": [
       "HBox(children=(FloatProgress(value=0.0, max=10.0), HTML(value='')))"
      ]
     },
     "metadata": {},
     "output_type": "display_data"
    },
    {
     "name": "stdout",
     "output_type": "stream",
     "text": [
      "\n",
      "[clf_engine]  training loop: started for [10] updates; BS=[2500] LR=[1.7005231990413643e-06]!\n"
     ]
    },
    {
     "data": {
      "application/vnd.jupyter.widget-view+json": {
       "model_id": "833e99d0ee6d4349855e58bbab52c1ca",
       "version_major": 2,
       "version_minor": 0
      },
      "text/plain": [
       "HBox(children=(FloatProgress(value=0.0, max=10.0), HTML(value='')))"
      ]
     },
     "metadata": {},
     "output_type": "display_data"
    },
    {
     "name": "stdout",
     "output_type": "stream",
     "text": [
      "\n",
      "[clf_engine]  training loop: done!\n",
      "[ATE:61]  delta is: [-0.3731]; scaled delta is [-0.0373]\n",
      "[ATE:61]  [1.913144588470459, 1.9201810359954834, 1.9235130548477173, 1.9311021566390991, 1.9225034713745117, 1.9104578495025635, 1.9010429382324219, 1.925707221031189, 1.929748296737671, 1.8888951539993286]\n",
      "[ATE:61]  [2.26217103 2.28162575 2.30112171 2.27956605 2.32742453 2.30527806\n",
      " 2.27527428 2.27194023 2.28370786 2.30914521]\n",
      "[ATE:61]  reward at the end of time step is [-0.03730958938598632]\n",
      "[ATA] optimization step performed\n",
      "[ATA episode 0]: took [10.4] seconds for one full step\n",
      "[ATE:61]  action [[1.62006751 0.55618241 0.29665226 0.21865183]] recieved\n",
      "[clf_engine]  scaled BS by [1.6200675110163623]; BS=[2500]\n",
      "[clf_engine]  scaled LR by [0.5561824138767454]; LR=[1.7005231990413643e-06]\n",
      "[clf_engine]  training loop: started for [30] updates; BS=[2500] LR=[9.458010976962311e-07]!\n"
     ]
    },
    {
     "data": {
      "application/vnd.jupyter.widget-view+json": {
       "model_id": "92aee3f18edf4813ad902e2e9153b2d8",
       "version_major": 2,
       "version_minor": 0
      },
      "text/plain": [
       "HBox(children=(FloatProgress(value=0.0, max=10.0), HTML(value='')))"
      ]
     },
     "metadata": {},
     "output_type": "display_data"
    },
    {
     "name": "stdout",
     "output_type": "stream",
     "text": [
      "\n",
      "[clf_engine]  training loop: started for [20] updates; BS=[2500] LR=[9.458010976962311e-07]!\n"
     ]
    },
    {
     "data": {
      "application/vnd.jupyter.widget-view+json": {
       "model_id": "9c8f64d0c7494ab2a77912f456551348",
       "version_major": 2,
       "version_minor": 0
      },
      "text/plain": [
       "HBox(children=(FloatProgress(value=0.0, max=10.0), HTML(value='')))"
      ]
     },
     "metadata": {},
     "output_type": "display_data"
    },
    {
     "name": "stdout",
     "output_type": "stream",
     "text": [
      "\n",
      "[clf_engine]  training loop: started for [10] updates; BS=[2500] LR=[9.458010976962311e-07]!\n"
     ]
    },
    {
     "data": {
      "application/vnd.jupyter.widget-view+json": {
       "model_id": "44748a6b07e3478aa3b8f0ff47154008",
       "version_major": 2,
       "version_minor": 0
      },
      "text/plain": [
       "HBox(children=(FloatProgress(value=0.0, max=10.0), HTML(value='')))"
      ]
     },
     "metadata": {},
     "output_type": "display_data"
    },
    {
     "name": "stdout",
     "output_type": "stream",
     "text": [
      "\n",
      "[clf_engine]  training loop: done!\n",
      "[ATE:62]  delta is: [-0.3770]; scaled delta is [-0.0377]\n",
      "[ATE:62]  [1.9378148317337036, 1.8842521905899048, 1.9034831523895264, 1.946393370628357, 1.8982759714126587, 1.9089876413345337, 1.9038220643997192, 1.9448180198669434, 1.9039961099624634, 1.9151794910430908]\n",
      "[ATE:62]  [2.30489516 2.30739689 2.2812233  2.28355932 2.29488802 2.29629302\n",
      " 2.29854727 2.27923751 2.26800632 2.30313802]\n",
      "[ATE:62]  reward at the end of time step is [-0.03770161986351013]\n",
      "[ATA] optimization step performed\n",
      "[ATA episode 0]: took [8.5] seconds for one full step\n",
      "[ATE:62]  action [[1.60027493 0.64112669 0.27498249 0.28889664]] recieved\n",
      "[clf_engine]  scaled BS by [1.6002749290953422]; BS=[2500]\n",
      "[clf_engine]  scaled LR by [0.6411266870324338]; LR=[9.458010976962311e-07]\n",
      "[clf_engine]  training loop: started for [30] updates; BS=[2500] LR=[6.063783243576239e-07]!\n"
     ]
    },
    {
     "data": {
      "application/vnd.jupyter.widget-view+json": {
       "model_id": "810d21af3e61456c809374011d451c58",
       "version_major": 2,
       "version_minor": 0
      },
      "text/plain": [
       "HBox(children=(FloatProgress(value=0.0, max=10.0), HTML(value='')))"
      ]
     },
     "metadata": {},
     "output_type": "display_data"
    },
    {
     "name": "stdout",
     "output_type": "stream",
     "text": [
      "\n",
      "[clf_engine]  training loop: started for [20] updates; BS=[2500] LR=[6.063783243576239e-07]!\n"
     ]
    },
    {
     "data": {
      "application/vnd.jupyter.widget-view+json": {
       "model_id": "ab8bcf574cd74d8484758c36e7fbaa6f",
       "version_major": 2,
       "version_minor": 0
      },
      "text/plain": [
       "HBox(children=(FloatProgress(value=0.0, max=10.0), HTML(value='')))"
      ]
     },
     "metadata": {},
     "output_type": "display_data"
    },
    {
     "name": "stdout",
     "output_type": "stream",
     "text": [
      "\n",
      "[clf_engine]  training loop: started for [10] updates; BS=[2500] LR=[6.063783243576239e-07]!\n"
     ]
    },
    {
     "data": {
      "application/vnd.jupyter.widget-view+json": {
       "model_id": "06fcc8092c5e4a6a9e392b33f0250ee7",
       "version_major": 2,
       "version_minor": 0
      },
      "text/plain": [
       "HBox(children=(FloatProgress(value=0.0, max=10.0), HTML(value='')))"
      ]
     },
     "metadata": {},
     "output_type": "display_data"
    },
    {
     "name": "stdout",
     "output_type": "stream",
     "text": [
      "\n",
      "[clf_engine]  training loop: done!\n",
      "[ATE:63]  delta is: [-0.3650]; scaled delta is [-0.0365]\n",
      "[ATE:63]  [1.943285584449768, 1.8949601650238037, 1.9358458518981934, 1.9031802415847778, 1.9097388982772827, 1.9296159744262695, 1.9118386507034302, 1.8991724252700806, 1.9122544527053833, 1.9065290689468384]\n",
      "[ATE:63]  [2.25755477 2.26806951 2.26315475 2.28578877 2.28036666 2.32229304\n",
      " 2.30462098 2.26391029 2.27830076 2.27252316]\n",
      "[ATE:63]  reward at the end of time step is [-0.03650161385536195]\n",
      "[ATA] optimization step performed\n",
      "[ATA episode 0]: took [8.7] seconds for one full step\n",
      "[ATE:63]  action [[1.54400209 0.64229354 0.30308617 0.23125653]] recieved\n",
      "[clf_engine]  scaled BS by [1.5440020937590826]; BS=[2500]\n",
      "[clf_engine]  scaled LR by [0.6422935362236946]; LR=[6.063783243576239e-07]\n",
      "[clf_engine]  training loop: started for [30] updates; BS=[2500] LR=[3.8947287824105675e-07]!\n"
     ]
    },
    {
     "data": {
      "application/vnd.jupyter.widget-view+json": {
       "model_id": "a3b1004e988b45e09e04f05529758934",
       "version_major": 2,
       "version_minor": 0
      },
      "text/plain": [
       "HBox(children=(FloatProgress(value=0.0, max=10.0), HTML(value='')))"
      ]
     },
     "metadata": {},
     "output_type": "display_data"
    },
    {
     "name": "stdout",
     "output_type": "stream",
     "text": [
      "\n",
      "[clf_engine]  training loop: started for [20] updates; BS=[2500] LR=[3.8947287824105675e-07]!\n"
     ]
    },
    {
     "data": {
      "application/vnd.jupyter.widget-view+json": {
       "model_id": "8bd98e863833499ab341a89d9871842b",
       "version_major": 2,
       "version_minor": 0
      },
      "text/plain": [
       "HBox(children=(FloatProgress(value=0.0, max=10.0), HTML(value='')))"
      ]
     },
     "metadata": {},
     "output_type": "display_data"
    },
    {
     "name": "stdout",
     "output_type": "stream",
     "text": [
      "\n",
      "[clf_engine]  training loop: started for [10] updates; BS=[2500] LR=[3.8947287824105675e-07]!\n"
     ]
    },
    {
     "data": {
      "application/vnd.jupyter.widget-view+json": {
       "model_id": "9acdfac83e7c4211a187efbbe9cddda6",
       "version_major": 2,
       "version_minor": 0
      },
      "text/plain": [
       "HBox(children=(FloatProgress(value=0.0, max=10.0), HTML(value='')))"
      ]
     },
     "metadata": {},
     "output_type": "display_data"
    },
    {
     "name": "stdout",
     "output_type": "stream",
     "text": [
      "\n",
      "[clf_engine]  training loop: done!\n",
      "[ATE:64]  delta is: [-0.3719]; scaled delta is [-0.0372]\n",
      "[ATE:64]  [1.9120851755142212, 1.8910330533981323, 1.9205704927444458, 1.9369040727615356, 1.9080122709274292, 1.924136757850647, 1.9091638326644897, 1.9261304140090942, 1.8987926244735718, 1.9126472473144531]\n",
      "[ATE:64]  [2.27387595 2.29627633 2.26512456 2.2879715  2.30547452 2.2745862\n",
      " 2.27900982 2.27907419 2.29734874 2.29991961]\n",
      "[ATE:64]  reward at the end of time step is [-0.0371918547153473]\n",
      "[ATA] optimization step performed\n",
      "[ATA episode 0]: took [9.1] seconds for one full step\n",
      "[ATE:64]  action [[1.51734302 0.52158104 0.35757267 0.20216401]] recieved\n",
      "[clf_engine]  scaled BS by [1.5173430213024188]; BS=[2500]\n",
      "[clf_engine]  scaled LR by [0.521581035273665]; LR=[3.8947287824105675e-07]\n",
      "[clf_engine]  training loop: started for [30] updates; BS=[2500] LR=[2.0314166704398443e-07]!\n"
     ]
    },
    {
     "data": {
      "application/vnd.jupyter.widget-view+json": {
       "model_id": "af8a6c12a7324bc5bc5f774859fe4b1e",
       "version_major": 2,
       "version_minor": 0
      },
      "text/plain": [
       "HBox(children=(FloatProgress(value=0.0, max=10.0), HTML(value='')))"
      ]
     },
     "metadata": {},
     "output_type": "display_data"
    },
    {
     "name": "stdout",
     "output_type": "stream",
     "text": [
      "\n",
      "[clf_engine]  training loop: started for [20] updates; BS=[2500] LR=[2.0314166704398443e-07]!\n"
     ]
    },
    {
     "data": {
      "application/vnd.jupyter.widget-view+json": {
       "model_id": "2ca5e0007db94b94a897be7c55d6932c",
       "version_major": 2,
       "version_minor": 0
      },
      "text/plain": [
       "HBox(children=(FloatProgress(value=0.0, max=10.0), HTML(value='')))"
      ]
     },
     "metadata": {},
     "output_type": "display_data"
    },
    {
     "name": "stdout",
     "output_type": "stream",
     "text": [
      "\n",
      "[clf_engine]  training loop: started for [10] updates; BS=[2500] LR=[2.0314166704398443e-07]!\n"
     ]
    },
    {
     "data": {
      "application/vnd.jupyter.widget-view+json": {
       "model_id": "581f0f6f19ad4ed5b47a444b1a63cebb",
       "version_major": 2,
       "version_minor": 0
      },
      "text/plain": [
       "HBox(children=(FloatProgress(value=0.0, max=10.0), HTML(value='')))"
      ]
     },
     "metadata": {},
     "output_type": "display_data"
    },
    {
     "name": "stdout",
     "output_type": "stream",
     "text": [
      "\n",
      "[clf_engine]  training loop: done!\n",
      "[ATE:65]  delta is: [-0.3760]; scaled delta is [-0.0376]\n",
      "[ATE:65]  [1.9194060564041138, 1.8812819719314575, 1.9334683418273926, 1.9369144439697266, 1.9082896709442139, 1.8883922100067139, 1.9133450984954834, 1.9165935516357422, 1.900033950805664, 1.9051523208618164]\n",
      "[ATE:65]  [2.29132318 2.29556417 2.27168059 2.29743505 2.30492878 2.28152013\n",
      " 2.29230404 2.27455616 2.2811451  2.27209997]\n",
      "[ATE:65]  reward at the end of time step is [-0.037596795558929454]\n",
      "[ATA] optimization step performed\n",
      "[ATA episode 0]: took [9.3] seconds for one full step\n",
      "[ATE:65]  action [[1.61062173 0.49264317 0.38742075 0.21336223]] recieved\n",
      "[clf_engine]  scaled BS by [1.610621731378421]; BS=[2500]\n",
      "[clf_engine]  scaled LR by [0.4926431653564749]; LR=[2.0314166704398443e-07]\n",
      "[clf_engine]  training loop: started for [30] updates; BS=[2500] LR=[1.0007635386833958e-07]!\n"
     ]
    },
    {
     "data": {
      "application/vnd.jupyter.widget-view+json": {
       "model_id": "f91c854422b84ed094ef0796f735654c",
       "version_major": 2,
       "version_minor": 0
      },
      "text/plain": [
       "HBox(children=(FloatProgress(value=0.0, max=10.0), HTML(value='')))"
      ]
     },
     "metadata": {},
     "output_type": "display_data"
    },
    {
     "name": "stdout",
     "output_type": "stream",
     "text": [
      "\n",
      "[clf_engine]  training loop: started for [20] updates; BS=[2500] LR=[1.0007635386833958e-07]!\n"
     ]
    },
    {
     "data": {
      "application/vnd.jupyter.widget-view+json": {
       "model_id": "791fcfcb44074d189da6f4cbce241efd",
       "version_major": 2,
       "version_minor": 0
      },
      "text/plain": [
       "HBox(children=(FloatProgress(value=0.0, max=10.0), HTML(value='')))"
      ]
     },
     "metadata": {},
     "output_type": "display_data"
    },
    {
     "name": "stdout",
     "output_type": "stream",
     "text": [
      "\n",
      "[clf_engine]  training loop: started for [10] updates; BS=[2500] LR=[1.0007635386833958e-07]!\n"
     ]
    },
    {
     "data": {
      "application/vnd.jupyter.widget-view+json": {
       "model_id": "08751cd737534c05b6199ecc3b812f2b",
       "version_major": 2,
       "version_minor": 0
      },
      "text/plain": [
       "HBox(children=(FloatProgress(value=0.0, max=10.0), HTML(value='')))"
      ]
     },
     "metadata": {},
     "output_type": "display_data"
    },
    {
     "name": "stdout",
     "output_type": "stream",
     "text": [
      "\n",
      "[clf_engine]  training loop: done!\n",
      "[ATE:66]  delta is: [-0.3725]; scaled delta is [-0.0372]\n",
      "[ATE:66]  [1.8983255624771118, 1.9109467267990112, 1.9074406623840332, 1.9122868776321411, 1.9094467163085938, 1.9193933010101318, 1.916664481163025, 1.9115052223205566, 1.9198484420776367, 1.9126912355422974]\n",
      "[ATE:66]  [2.26238322 2.29726219 2.28553772 2.31162    2.28676987 2.27897406\n",
      " 2.28906226 2.28028941 2.2690165  2.28246713]\n",
      "[ATE:66]  reward at the end of time step is [-0.03724833130836487]\n",
      "[ATA] optimization step performed\n",
      "[ATA episode 0]: took [9.1] seconds for one full step\n",
      "[ATE:66]  action [[1.67893176 0.47725354 0.47120159 0.2477234 ]] recieved\n",
      "[clf_engine]  scaled BS by [1.678931758190784]; BS=[2500]\n",
      "[clf_engine]  scaled LR by [0.4772535360946816]; LR=[1.0007635386833958e-07]\n",
      "[clf_engine]  training loop: started for [30] updates; BS=[2500] LR=[4.7761793763127734e-08]!\n"
     ]
    },
    {
     "data": {
      "application/vnd.jupyter.widget-view+json": {
       "model_id": "7e15ebe43dc34d91ac936f1f07d8c721",
       "version_major": 2,
       "version_minor": 0
      },
      "text/plain": [
       "HBox(children=(FloatProgress(value=0.0, max=10.0), HTML(value='')))"
      ]
     },
     "metadata": {},
     "output_type": "display_data"
    },
    {
     "name": "stdout",
     "output_type": "stream",
     "text": [
      "\n",
      "[clf_engine]  training loop: started for [20] updates; BS=[2500] LR=[4.7761793763127734e-08]!\n"
     ]
    },
    {
     "data": {
      "application/vnd.jupyter.widget-view+json": {
       "model_id": "6c1500cc7832491e8372fb11c29a4e13",
       "version_major": 2,
       "version_minor": 0
      },
      "text/plain": [
       "HBox(children=(FloatProgress(value=0.0, max=10.0), HTML(value='')))"
      ]
     },
     "metadata": {},
     "output_type": "display_data"
    },
    {
     "name": "stdout",
     "output_type": "stream",
     "text": [
      "\n",
      "[clf_engine]  training loop: started for [10] updates; BS=[2500] LR=[4.7761793763127734e-08]!\n"
     ]
    },
    {
     "data": {
      "application/vnd.jupyter.widget-view+json": {
       "model_id": "eb936a18df03419581d971823147443f",
       "version_major": 2,
       "version_minor": 0
      },
      "text/plain": [
       "HBox(children=(FloatProgress(value=0.0, max=10.0), HTML(value='')))"
      ]
     },
     "metadata": {},
     "output_type": "display_data"
    },
    {
     "name": "stdout",
     "output_type": "stream",
     "text": [
      "\n",
      "[clf_engine]  training loop: done!\n",
      "[ATE:67]  delta is: [-0.3743]; scaled delta is [-0.0374]\n",
      "[ATE:67]  [1.9169179201126099, 1.9219740629196167, 1.9185463190078735, 1.9137324094772339, 1.9130113124847412, 1.9032435417175293, 1.939146876335144, 1.911006212234497, 1.9272648096084595, 1.9018503427505493]\n",
      "[ATE:67]  [2.28009415 2.29540944 2.3416853  2.28578448 2.2653265  2.27676678\n",
      " 2.26877403 2.29408455 2.29943132 2.30235887]\n",
      "[ATE:67]  reward at the end of time step is [-0.037430216073989865]\n",
      "[ATA] optimization step performed\n",
      "[ATA episode 0]: took [9.3] seconds for one full step\n",
      "[ATE:67]  action [[1.71747081 0.55671655 0.41459927 0.22763415]] recieved\n",
      "[clf_engine]  scaled BS by [1.7174708128154894]; BS=[2500]\n",
      "[clf_engine]  scaled LR by [0.5567165481066373]; LR=[4.7761793763127734e-08]\n",
      "[clf_engine]  training loop: started for [30] updates; BS=[2500] LR=[2.658978095518959e-08]!\n"
     ]
    },
    {
     "data": {
      "application/vnd.jupyter.widget-view+json": {
       "model_id": "32e028b1940b452fb959d8101354dd84",
       "version_major": 2,
       "version_minor": 0
      },
      "text/plain": [
       "HBox(children=(FloatProgress(value=0.0, max=10.0), HTML(value='')))"
      ]
     },
     "metadata": {},
     "output_type": "display_data"
    },
    {
     "name": "stdout",
     "output_type": "stream",
     "text": [
      "\n",
      "[clf_engine]  training loop: started for [20] updates; BS=[2500] LR=[2.658978095518959e-08]!\n"
     ]
    },
    {
     "data": {
      "application/vnd.jupyter.widget-view+json": {
       "model_id": "77b3b04a37e84a67873586146d0b2899",
       "version_major": 2,
       "version_minor": 0
      },
      "text/plain": [
       "HBox(children=(FloatProgress(value=0.0, max=10.0), HTML(value='')))"
      ]
     },
     "metadata": {},
     "output_type": "display_data"
    },
    {
     "name": "stdout",
     "output_type": "stream",
     "text": [
      "\n",
      "[clf_engine]  training loop: started for [10] updates; BS=[2500] LR=[2.658978095518959e-08]!\n"
     ]
    },
    {
     "data": {
      "application/vnd.jupyter.widget-view+json": {
       "model_id": "3eb03452786841d6aba72a133553b606",
       "version_major": 2,
       "version_minor": 0
      },
      "text/plain": [
       "HBox(children=(FloatProgress(value=0.0, max=10.0), HTML(value='')))"
      ]
     },
     "metadata": {},
     "output_type": "display_data"
    },
    {
     "name": "stdout",
     "output_type": "stream",
     "text": [
      "\n",
      "[clf_engine]  training loop: done!\n",
      "[ATE:68]  delta is: [-0.3772]; scaled delta is [-0.0377]\n",
      "[ATE:68]  [1.9231035709381104, 1.9124023914337158, 1.9214286804199219, 1.925657868385315, 1.91123628616333, 1.916890025138855, 1.8795009851455688, 1.9298820495605469, 1.886715054512024, 1.929903507232666]\n",
      "[ATE:68]  [2.2789588  2.29905033 2.25223446 2.30518842 2.29013515 2.29512525\n",
      " 2.31138611 2.28364611 2.28944397 2.30373669]\n",
      "[ATE:68]  reward at the end of time step is [-0.03772184848785403]\n",
      "[ATA] optimization step performed\n",
      "[ATA episode 0]: took [8.9] seconds for one full step\n",
      "[ATE:68]  action [[1.56782397 0.61352125 0.35098055 0.18208884]] recieved\n",
      "[clf_engine]  scaled BS by [1.5678239664558302]; BS=[2500]\n",
      "[clf_engine]  scaled LR by [0.6135212496679668]; LR=[2.658978095518959e-08]\n",
      "[clf_engine]  training loop: started for [30] updates; BS=[2500] LR=[1.6313395640025423e-08]!\n"
     ]
    },
    {
     "data": {
      "application/vnd.jupyter.widget-view+json": {
       "model_id": "4b11b7652e3f4af3a16f45e59a0278f0",
       "version_major": 2,
       "version_minor": 0
      },
      "text/plain": [
       "HBox(children=(FloatProgress(value=0.0, max=10.0), HTML(value='')))"
      ]
     },
     "metadata": {},
     "output_type": "display_data"
    },
    {
     "name": "stdout",
     "output_type": "stream",
     "text": [
      "\n",
      "[clf_engine]  training loop: started for [20] updates; BS=[2500] LR=[1.6313395640025423e-08]!\n"
     ]
    },
    {
     "data": {
      "application/vnd.jupyter.widget-view+json": {
       "model_id": "73ba9f089fd2477d88845e26ca195a0c",
       "version_major": 2,
       "version_minor": 0
      },
      "text/plain": [
       "HBox(children=(FloatProgress(value=0.0, max=10.0), HTML(value='')))"
      ]
     },
     "metadata": {},
     "output_type": "display_data"
    },
    {
     "name": "stdout",
     "output_type": "stream",
     "text": [
      "\n",
      "[clf_engine]  training loop: started for [10] updates; BS=[2500] LR=[1.6313395640025423e-08]!\n"
     ]
    },
    {
     "data": {
      "application/vnd.jupyter.widget-view+json": {
       "model_id": "4a9a62099f6a4fec9a78a6ce1a66e399",
       "version_major": 2,
       "version_minor": 0
      },
      "text/plain": [
       "HBox(children=(FloatProgress(value=0.0, max=10.0), HTML(value='')))"
      ]
     },
     "metadata": {},
     "output_type": "display_data"
    },
    {
     "name": "stdout",
     "output_type": "stream",
     "text": [
      "\n",
      "[clf_engine]  training loop: done!\n",
      "[ATE:69]  delta is: [-0.3764]; scaled delta is [-0.0376]\n",
      "[ATE:69]  [1.9314097166061401, 1.914414644241333, 1.9191685914993286, 1.9117175340652466, 1.9314802885055542, 1.9093244075775146, 1.8899565935134888, 1.8874763250350952, 1.9094734191894531, 1.9134912490844727]\n",
      "[ATE:69]  [2.27070427 2.2996974  2.29524016 2.25483274 2.30782151 2.29592133\n",
      " 2.29398298 2.27540946 2.28651261 2.30209017]\n",
      "[ATE:69]  reward at the end of time step is [-0.037642998695373533]\n",
      "[ATA] optimization step performed\n",
      "[ATA episode 0]: took [8.8] seconds for one full step\n",
      "[ATE:69]  action [[1.59478252 0.5817188  0.32375038 0.1740488 ]] recieved\n",
      "[clf_engine]  scaled BS by [1.5947825241741183]; BS=[2500]\n",
      "[clf_engine]  scaled LR by [0.581718799272033]; LR=[1.6313395640025423e-08]\n",
      "[clf_engine]  training loop: started for [30] updates; BS=[2500] LR=[9.489808923765206e-09]!\n"
     ]
    },
    {
     "data": {
      "application/vnd.jupyter.widget-view+json": {
       "model_id": "b509cdb79194496b884838d484c5bde4",
       "version_major": 2,
       "version_minor": 0
      },
      "text/plain": [
       "HBox(children=(FloatProgress(value=0.0, max=10.0), HTML(value='')))"
      ]
     },
     "metadata": {},
     "output_type": "display_data"
    },
    {
     "name": "stdout",
     "output_type": "stream",
     "text": [
      "\n",
      "[clf_engine]  training loop: started for [20] updates; BS=[2500] LR=[9.489808923765206e-09]!\n"
     ]
    },
    {
     "data": {
      "application/vnd.jupyter.widget-view+json": {
       "model_id": "4f7b6310b6ee4b18b3f3f59c630dd8e6",
       "version_major": 2,
       "version_minor": 0
      },
      "text/plain": [
       "HBox(children=(FloatProgress(value=0.0, max=10.0), HTML(value='')))"
      ]
     },
     "metadata": {},
     "output_type": "display_data"
    },
    {
     "name": "stdout",
     "output_type": "stream",
     "text": [
      "\n",
      "[clf_engine]  training loop: started for [10] updates; BS=[2500] LR=[9.489808923765206e-09]!\n"
     ]
    },
    {
     "data": {
      "application/vnd.jupyter.widget-view+json": {
       "model_id": "9702dbf07000424fa25e4572230935ba",
       "version_major": 2,
       "version_minor": 0
      },
      "text/plain": [
       "HBox(children=(FloatProgress(value=0.0, max=10.0), HTML(value='')))"
      ]
     },
     "metadata": {},
     "output_type": "display_data"
    },
    {
     "name": "stdout",
     "output_type": "stream",
     "text": [
      "\n",
      "[clf_engine]  training loop: done!\n"
     ]
    },
    {
     "data": {
      "application/vnd.jupyter.widget-view+json": {
       "model_id": "156b60dcfede4838a7eb7ce6ff8e6153",
       "version_major": 2,
       "version_minor": 0
      },
      "text/plain": [
       "HBox(children=(FloatProgress(value=0.0, max=1563.0), HTML(value='')))"
      ]
     },
     "metadata": {},
     "output_type": "display_data"
    },
    {
     "name": "stdout",
     "output_type": "stream",
     "text": [
      "\n"
     ]
    },
    {
     "data": {
      "application/vnd.jupyter.widget-view+json": {
       "model_id": "ac640ec620f842ba93954477f03acf12",
       "version_major": 2,
       "version_minor": 0
      },
      "text/plain": [
       "HBox(children=(FloatProgress(value=0.0, max=625.0), HTML(value='')))"
      ]
     },
     "metadata": {},
     "output_type": "display_data"
    },
    {
     "name": "stdout",
     "output_type": "stream",
     "text": [
      "\n",
      "[ATE:70]  delta is: [-0.3701]; scaled delta is [-0.0370]\n",
      "[ATE:70]  [1.945816159248352, 1.937516450881958, 1.915254831314087, 1.920334815979004, 1.9198286533355713, 1.9013464450836182, 1.915986180305481, 1.9127181768417358, 1.9141499996185303, 1.8956023454666138]\n",
      "[ATE:70]  [2.29262495 2.28511786 2.28857207 2.29623938 2.29413247 2.2875793\n",
      " 2.28426266 2.30275106 2.26490927 2.28330088]\n",
      "[ATE:70]  reward at the end of time step is [-0.037009358406066895]\n",
      "[ATA] optimization step performed\n",
      "[ATA episode 0]: took [13.7] seconds for one full step\n",
      "[ATE:70]  action [[1.61513297 0.54571704 0.33343503 0.20191428]] recieved\n",
      "[clf_engine]  scaled BS by [1.6151329743827514]; BS=[2500]\n",
      "[clf_engine]  scaled LR by [0.5457170410742308]; LR=[9.489808923765206e-09]\n",
      "[clf_engine]  training loop: started for [30] updates; BS=[2500] LR=[5.1787504462369795e-09]!\n"
     ]
    },
    {
     "data": {
      "application/vnd.jupyter.widget-view+json": {
       "model_id": "6dda25ddf6be48bda51c54f029540bbc",
       "version_major": 2,
       "version_minor": 0
      },
      "text/plain": [
       "HBox(children=(FloatProgress(value=0.0, max=10.0), HTML(value='')))"
      ]
     },
     "metadata": {},
     "output_type": "display_data"
    },
    {
     "name": "stdout",
     "output_type": "stream",
     "text": [
      "\n",
      "[clf_engine]  training loop: started for [20] updates; BS=[2500] LR=[5.1787504462369795e-09]!\n"
     ]
    },
    {
     "data": {
      "application/vnd.jupyter.widget-view+json": {
       "model_id": "8111455dac0c4457ae2b951a3b47464e",
       "version_major": 2,
       "version_minor": 0
      },
      "text/plain": [
       "HBox(children=(FloatProgress(value=0.0, max=10.0), HTML(value='')))"
      ]
     },
     "metadata": {},
     "output_type": "display_data"
    },
    {
     "name": "stdout",
     "output_type": "stream",
     "text": [
      "\n",
      "[clf_engine]  training loop: started for [10] updates; BS=[2500] LR=[5.1787504462369795e-09]!\n"
     ]
    },
    {
     "data": {
      "application/vnd.jupyter.widget-view+json": {
       "model_id": "34d4ade5463a4530ad44a03ab6c00328",
       "version_major": 2,
       "version_minor": 0
      },
      "text/plain": [
       "HBox(children=(FloatProgress(value=0.0, max=10.0), HTML(value='')))"
      ]
     },
     "metadata": {},
     "output_type": "display_data"
    },
    {
     "name": "stdout",
     "output_type": "stream",
     "text": [
      "\n",
      "[clf_engine]  training loop: done!\n",
      "[ATE:71]  delta is: [-0.3633]; scaled delta is [-0.0363]\n",
      "[ATE:71]  [1.9156380891799927, 1.9083763360977173, 1.9439868927001953, 1.9169023036956787, 1.9251255989074707, 1.8923863172531128, 1.9023786783218384, 1.927228331565857, 1.911965012550354, 1.8815168142318726]\n",
      "[ATE:71]  [2.27577782 2.29103303 2.27855659 2.26502991 2.25906539 2.2806778\n",
      " 2.27554321 2.30473137 2.26894045 2.25880861]\n",
      "[ATE:71]  reward at the end of time step is [-0.03632659792900086]\n",
      "[ATA] optimization step performed\n",
      "[ATA episode 0]: took [8.6] seconds for one full step\n",
      "[ATE:71]  action [[1.57696848 0.50040002 0.31213167 0.17084623]] recieved\n",
      "[clf_engine]  scaled BS by [1.5769684785459552]; BS=[2500]\n",
      "[clf_engine]  scaled LR by [0.500400024607989]; LR=[5.1787504462369795e-09]\n",
      "[clf_engine]  training loop: started for [30] updates; BS=[2500] LR=[2.5914468507356188e-09]!\n"
     ]
    },
    {
     "data": {
      "application/vnd.jupyter.widget-view+json": {
       "model_id": "bfe974f6bda94823b0b7004b993d6bc1",
       "version_major": 2,
       "version_minor": 0
      },
      "text/plain": [
       "HBox(children=(FloatProgress(value=0.0, max=10.0), HTML(value='')))"
      ]
     },
     "metadata": {},
     "output_type": "display_data"
    },
    {
     "name": "stdout",
     "output_type": "stream",
     "text": [
      "\n",
      "[clf_engine]  training loop: started for [20] updates; BS=[2500] LR=[2.5914468507356188e-09]!\n"
     ]
    },
    {
     "data": {
      "application/vnd.jupyter.widget-view+json": {
       "model_id": "0bda30d88b754e6585dafdda2506159d",
       "version_major": 2,
       "version_minor": 0
      },
      "text/plain": [
       "HBox(children=(FloatProgress(value=0.0, max=10.0), HTML(value='')))"
      ]
     },
     "metadata": {},
     "output_type": "display_data"
    },
    {
     "name": "stdout",
     "output_type": "stream",
     "text": [
      "\n",
      "[clf_engine]  training loop: started for [10] updates; BS=[2500] LR=[2.5914468507356188e-09]!\n"
     ]
    },
    {
     "data": {
      "application/vnd.jupyter.widget-view+json": {
       "model_id": "647f2b96b42f40768dcb31cd772be2f4",
       "version_major": 2,
       "version_minor": 0
      },
      "text/plain": [
       "HBox(children=(FloatProgress(value=0.0, max=10.0), HTML(value='')))"
      ]
     },
     "metadata": {},
     "output_type": "display_data"
    },
    {
     "name": "stdout",
     "output_type": "stream",
     "text": [
      "\n",
      "[clf_engine]  training loop: done!\n",
      "[ATE:72]  delta is: [-0.3671]; scaled delta is [-0.0367]\n",
      "[ATE:72]  [1.8765357732772827, 1.9192399978637695, 1.9020448923110962, 1.9002732038497925, 1.8973294496536255, 1.9245710372924805, 1.9192891120910645, 1.914913296699524, 1.9264289140701294, 1.9292184114456177]\n",
      "[ATE:72]  [2.28100419 2.23331618 2.26171541 2.27438498 2.31931877 2.29519224\n",
      " 2.26674056 2.30275488 2.26891375 2.27789116]\n",
      "[ATE:72]  reward at the end of time step is [-0.036713880300521876]\n",
      "[ATA] optimization step performed\n",
      "[ATA episode 0]: took [8.8] seconds for one full step\n",
      "[ATE:72]  action [[1.67000423 0.52827857 0.31690567 0.16910969]] recieved\n",
      "[clf_engine]  scaled BS by [1.6700042263078259]; BS=[2500]\n",
      "[clf_engine]  scaled LR by [0.5282785656314481]; LR=[2.5914468507356188e-09]\n",
      "[clf_engine]  training loop: started for [30] updates; BS=[2500] LR=[1.3690058252167463e-09]!\n"
     ]
    },
    {
     "data": {
      "application/vnd.jupyter.widget-view+json": {
       "model_id": "20b1847d082042ed805ee92a3f39de90",
       "version_major": 2,
       "version_minor": 0
      },
      "text/plain": [
       "HBox(children=(FloatProgress(value=0.0, max=10.0), HTML(value='')))"
      ]
     },
     "metadata": {},
     "output_type": "display_data"
    },
    {
     "name": "stdout",
     "output_type": "stream",
     "text": [
      "\n",
      "[clf_engine]  training loop: started for [20] updates; BS=[2500] LR=[1.3690058252167463e-09]!\n"
     ]
    },
    {
     "data": {
      "application/vnd.jupyter.widget-view+json": {
       "model_id": "7d74020f1ca14da899c743975929e4ad",
       "version_major": 2,
       "version_minor": 0
      },
      "text/plain": [
       "HBox(children=(FloatProgress(value=0.0, max=10.0), HTML(value='')))"
      ]
     },
     "metadata": {},
     "output_type": "display_data"
    },
    {
     "name": "stdout",
     "output_type": "stream",
     "text": [
      "\n",
      "[clf_engine]  training loop: started for [10] updates; BS=[2500] LR=[1.3690058252167463e-09]!\n"
     ]
    },
    {
     "data": {
      "application/vnd.jupyter.widget-view+json": {
       "model_id": "105727b4fa5e4520829c613f4511a6fc",
       "version_major": 2,
       "version_minor": 0
      },
      "text/plain": [
       "HBox(children=(FloatProgress(value=0.0, max=10.0), HTML(value='')))"
      ]
     },
     "metadata": {},
     "output_type": "display_data"
    },
    {
     "name": "stdout",
     "output_type": "stream",
     "text": [
      "\n",
      "[clf_engine]  training loop: done!\n",
      "[ATE:73]  delta is: [-0.3725]; scaled delta is [-0.0373]\n",
      "[ATE:73]  [1.9193607568740845, 1.8991093635559082, 1.9372961521148682, 1.895513653755188, 1.8937526941299438, 1.929017424583435, 1.9188294410705566, 1.9352800846099854, 1.8964513540267944, 1.9218082427978516]\n",
      "[ATE:73]  [2.24670959 2.32539749 2.29690838 2.28273129 2.31249261 2.27464914\n",
      " 2.26587677 2.28864098 2.29041767 2.28762484]\n",
      "[ATE:73]  reward at the end of time step is [-0.03725029587745667]\n",
      "[ATA] optimization step performed\n",
      "[ATA episode 0]: took [8.9] seconds for one full step\n",
      "[ATE:73]  action [[1.75661843 0.53817671 0.33765292 0.20540046]] recieved\n",
      "[clf_engine]  scaled BS by [1.7566184345478804]; BS=[2500]\n",
      "[clf_engine]  scaled LR by [0.5381767106057604]; LR=[1.3690058252167463e-09]\n",
      "[clf_engine]  training loop: started for [30] updates; BS=[2500] LR=[7.367670518152731e-10]!\n"
     ]
    },
    {
     "data": {
      "application/vnd.jupyter.widget-view+json": {
       "model_id": "510c023a0ab54929a9f337a3d4050a03",
       "version_major": 2,
       "version_minor": 0
      },
      "text/plain": [
       "HBox(children=(FloatProgress(value=0.0, max=10.0), HTML(value='')))"
      ]
     },
     "metadata": {},
     "output_type": "display_data"
    },
    {
     "name": "stdout",
     "output_type": "stream",
     "text": [
      "\n",
      "[clf_engine]  training loop: started for [20] updates; BS=[2500] LR=[7.367670518152731e-10]!\n"
     ]
    },
    {
     "data": {
      "application/vnd.jupyter.widget-view+json": {
       "model_id": "f7296f1c380244fd920953360c85f106",
       "version_major": 2,
       "version_minor": 0
      },
      "text/plain": [
       "HBox(children=(FloatProgress(value=0.0, max=10.0), HTML(value='')))"
      ]
     },
     "metadata": {},
     "output_type": "display_data"
    },
    {
     "name": "stdout",
     "output_type": "stream",
     "text": [
      "\n",
      "[clf_engine]  training loop: started for [10] updates; BS=[2500] LR=[7.367670518152731e-10]!\n"
     ]
    },
    {
     "data": {
      "application/vnd.jupyter.widget-view+json": {
       "model_id": "1876b8d0cb73414cb6d79b3e2b2bf31b",
       "version_major": 2,
       "version_minor": 0
      },
      "text/plain": [
       "HBox(children=(FloatProgress(value=0.0, max=10.0), HTML(value='')))"
      ]
     },
     "metadata": {},
     "output_type": "display_data"
    },
    {
     "name": "stdout",
     "output_type": "stream",
     "text": [
      "\n",
      "[clf_engine]  training loop: done!\n",
      "[ATE:74]  delta is: [-0.3732]; scaled delta is [-0.0373]\n",
      "[ATE:74]  [1.8911007642745972, 1.9012809991836548, 1.9259905815124512, 1.9083783626556396, 1.9371337890625, 1.9020968675613403, 1.914581298828125, 1.8929544687271118, 1.9232234954833984, 1.906592607498169]\n",
      "[ATE:74]  [2.2935214  2.28785419 2.2897079  2.2585237  2.28585148 2.31445956\n",
      " 2.27499437 2.28436255 2.27092075 2.27547908]\n",
      "[ATE:74]  reward at the end of time step is [-0.037323417663574235]\n",
      "[ATA] optimization step performed\n",
      "[ATA episode 0]: took [9.3] seconds for one full step\n",
      "[ATE:74]  action [[1.74613758 0.54685981 0.39153585 0.16377125]] recieved\n",
      "[clf_engine]  scaled BS by [1.7461375783232742]; BS=[2500]\n",
      "[clf_engine]  scaled LR by [0.5468598143408029]; LR=[7.367670518152731e-10]\n",
      "[clf_engine]  training loop: started for [30] updates; BS=[2500] LR=[4.0290829316812097e-10]!\n"
     ]
    },
    {
     "data": {
      "application/vnd.jupyter.widget-view+json": {
       "model_id": "cb0303b80e9248cb8ddba3d2a044fe2d",
       "version_major": 2,
       "version_minor": 0
      },
      "text/plain": [
       "HBox(children=(FloatProgress(value=0.0, max=10.0), HTML(value='')))"
      ]
     },
     "metadata": {},
     "output_type": "display_data"
    },
    {
     "name": "stdout",
     "output_type": "stream",
     "text": [
      "\n",
      "[clf_engine]  training loop: started for [20] updates; BS=[2500] LR=[4.0290829316812097e-10]!\n"
     ]
    },
    {
     "data": {
      "application/vnd.jupyter.widget-view+json": {
       "model_id": "84f7a5441df44016a1b722c5667be63f",
       "version_major": 2,
       "version_minor": 0
      },
      "text/plain": [
       "HBox(children=(FloatProgress(value=0.0, max=10.0), HTML(value='')))"
      ]
     },
     "metadata": {},
     "output_type": "display_data"
    },
    {
     "name": "stdout",
     "output_type": "stream",
     "text": [
      "\n",
      "[clf_engine]  training loop: started for [10] updates; BS=[2500] LR=[4.0290829316812097e-10]!\n"
     ]
    },
    {
     "data": {
      "application/vnd.jupyter.widget-view+json": {
       "model_id": "9827501bd49941c58d9f242938448f23",
       "version_major": 2,
       "version_minor": 0
      },
      "text/plain": [
       "HBox(children=(FloatProgress(value=0.0, max=10.0), HTML(value='')))"
      ]
     },
     "metadata": {},
     "output_type": "display_data"
    },
    {
     "name": "stdout",
     "output_type": "stream",
     "text": [
      "\n",
      "[clf_engine]  training loop: done!\n",
      "[ATE:75]  delta is: [-0.3637]; scaled delta is [-0.0364]\n",
      "[ATE:75]  [1.9153728485107422, 1.919649362564087, 1.9278805255889893, 1.9341460466384888, 1.892387866973877, 1.9270216226577759, 1.9082478284835815, 1.9033735990524292, 1.8948484659194946, 1.9021148681640625]\n",
      "[ATE:75]  [2.27157378 2.25588536 2.29517817 2.26978397 2.27626514 2.25966668\n",
      " 2.26926255 2.27908754 2.27726674 2.30792212]\n",
      "[ATE:75]  reward at the end of time step is [-0.036368490457534784]\n",
      "[ATA] optimization step performed\n",
      "[ATA episode 0]: took [9.8] seconds for one full step\n",
      "[ATE:75]  action [[1.71546554 0.46274328 0.38164369 0.15911702]] recieved\n",
      "[clf_engine]  scaled BS by [1.7154655434684363]; BS=[2500]\n",
      "[clf_engine]  scaled LR by [0.4627432794308805]; LR=[4.0290829316812097e-10]\n",
      "[clf_engine]  training loop: started for [30] updates; BS=[2500] LR=[1.8644310489051492e-10]!\n"
     ]
    },
    {
     "data": {
      "application/vnd.jupyter.widget-view+json": {
       "model_id": "b7d8c29a753e46a5add4c69a2fd75f36",
       "version_major": 2,
       "version_minor": 0
      },
      "text/plain": [
       "HBox(children=(FloatProgress(value=0.0, max=10.0), HTML(value='')))"
      ]
     },
     "metadata": {},
     "output_type": "display_data"
    },
    {
     "name": "stdout",
     "output_type": "stream",
     "text": [
      "\n",
      "[clf_engine]  training loop: started for [20] updates; BS=[2500] LR=[1.8644310489051492e-10]!\n"
     ]
    },
    {
     "data": {
      "application/vnd.jupyter.widget-view+json": {
       "model_id": "7ec89b020cbd4ed8b4ffd2665c6f32a4",
       "version_major": 2,
       "version_minor": 0
      },
      "text/plain": [
       "HBox(children=(FloatProgress(value=0.0, max=10.0), HTML(value='')))"
      ]
     },
     "metadata": {},
     "output_type": "display_data"
    },
    {
     "name": "stdout",
     "output_type": "stream",
     "text": [
      "\n",
      "[clf_engine]  training loop: started for [10] updates; BS=[2500] LR=[1.8644310489051492e-10]!\n"
     ]
    },
    {
     "data": {
      "application/vnd.jupyter.widget-view+json": {
       "model_id": "ff9d56a5219b40799e5f2da0ed8615ff",
       "version_major": 2,
       "version_minor": 0
      },
      "text/plain": [
       "HBox(children=(FloatProgress(value=0.0, max=10.0), HTML(value='')))"
      ]
     },
     "metadata": {},
     "output_type": "display_data"
    },
    {
     "name": "stdout",
     "output_type": "stream",
     "text": [
      "\n",
      "[clf_engine]  training loop: done!\n",
      "[ATE:76]  delta is: [-0.3703]; scaled delta is [-0.0370]\n",
      "[ATE:76]  [1.9073764085769653, 1.9260095357894897, 1.922943353652954, 1.9013267755508423, 1.9062849283218384, 1.8809318542480469, 1.9356679916381836, 1.926729679107666, 1.9005918502807617, 1.908669352531433]\n",
      "[ATE:76]  [2.2913425  2.2933836  2.2792902  2.28337502 2.28257227 2.27288747\n",
      " 2.27728939 2.2785964  2.29574347 2.26474214]\n",
      "[ATE:76]  reward at the end of time step is [-0.03702690720558166]\n",
      "[ATA] optimization step performed\n",
      "[ATA episode 0]: took [9.4] seconds for one full step\n",
      "[ATE:76]  action [[1.76096347 0.42082411 0.35030114 0.19677909]] recieved\n",
      "[clf_engine]  scaled BS by [1.7609634724946204]; BS=[2500]\n",
      "[clf_engine]  scaled LR by [0.4208241076141264]; LR=[1.8644310489051492e-10]\n",
      "[clf_engine]  training loop: started for [30] updates; BS=[2500] LR=[7.845975323635792e-11]!\n"
     ]
    },
    {
     "data": {
      "application/vnd.jupyter.widget-view+json": {
       "model_id": "78cbf784b2aa4e9b8480934d8e7ca83d",
       "version_major": 2,
       "version_minor": 0
      },
      "text/plain": [
       "HBox(children=(FloatProgress(value=0.0, max=10.0), HTML(value='')))"
      ]
     },
     "metadata": {},
     "output_type": "display_data"
    },
    {
     "name": "stdout",
     "output_type": "stream",
     "text": [
      "\n",
      "[clf_engine]  training loop: started for [20] updates; BS=[2500] LR=[7.845975323635792e-11]!\n"
     ]
    },
    {
     "data": {
      "application/vnd.jupyter.widget-view+json": {
       "model_id": "a4cabd17f92c47beb066ef30e064568f",
       "version_major": 2,
       "version_minor": 0
      },
      "text/plain": [
       "HBox(children=(FloatProgress(value=0.0, max=10.0), HTML(value='')))"
      ]
     },
     "metadata": {},
     "output_type": "display_data"
    },
    {
     "name": "stdout",
     "output_type": "stream",
     "text": [
      "\n",
      "[clf_engine]  training loop: started for [10] updates; BS=[2500] LR=[7.845975323635792e-11]!\n"
     ]
    },
    {
     "data": {
      "application/vnd.jupyter.widget-view+json": {
       "model_id": "5dbd5ff135be452fb461c9c3812d9a8a",
       "version_major": 2,
       "version_minor": 0
      },
      "text/plain": [
       "HBox(children=(FloatProgress(value=0.0, max=10.0), HTML(value='')))"
      ]
     },
     "metadata": {},
     "output_type": "display_data"
    },
    {
     "name": "stdout",
     "output_type": "stream",
     "text": [
      "\n",
      "[clf_engine]  training loop: done!\n",
      "[ATE:77]  delta is: [-0.3726]; scaled delta is [-0.0373]\n",
      "[ATE:77]  [1.8941677808761597, 1.8950976133346558, 1.9058960676193237, 1.9128490686416626, 1.9123761653900146, 1.919953465461731, 1.9268254041671753, 1.8983490467071533, 1.9238626956939697, 1.9101159572601318]\n",
      "[ATE:77]  [2.28988504 2.28438258 2.29618835 2.25814629 2.31450701 2.28970885\n",
      " 2.2862761  2.29077125 2.25061321 2.264884  ]\n",
      "[ATE:77]  reward at the end of time step is [-0.037258694171905526]\n",
      "[ATA] optimization step performed\n",
      "[ATA episode 0]: took [9.2] seconds for one full step\n",
      "[ATE:77]  action [[1.75380082 0.44565117 0.31485642 0.15159521]] recieved\n",
      "[clf_engine]  scaled BS by [1.7538008207378883]; BS=[2500]\n",
      "[clf_engine]  scaled LR by [0.4456511662218902]; LR=[7.845975323635792e-11]\n",
      "[clf_engine]  training loop: started for [30] updates; BS=[2500] LR=[3.496568053126463e-11]!\n"
     ]
    },
    {
     "data": {
      "application/vnd.jupyter.widget-view+json": {
       "model_id": "b1e0c71680b54fdcb6446e45c36ceed2",
       "version_major": 2,
       "version_minor": 0
      },
      "text/plain": [
       "HBox(children=(FloatProgress(value=0.0, max=10.0), HTML(value='')))"
      ]
     },
     "metadata": {},
     "output_type": "display_data"
    },
    {
     "name": "stdout",
     "output_type": "stream",
     "text": [
      "\n",
      "[clf_engine]  training loop: started for [20] updates; BS=[2500] LR=[3.496568053126463e-11]!\n"
     ]
    },
    {
     "data": {
      "application/vnd.jupyter.widget-view+json": {
       "model_id": "bc6f78d23bbf44a0b10589e7167b134c",
       "version_major": 2,
       "version_minor": 0
      },
      "text/plain": [
       "HBox(children=(FloatProgress(value=0.0, max=10.0), HTML(value='')))"
      ]
     },
     "metadata": {},
     "output_type": "display_data"
    },
    {
     "name": "stdout",
     "output_type": "stream",
     "text": [
      "\n",
      "[clf_engine]  training loop: started for [10] updates; BS=[2500] LR=[3.496568053126463e-11]!\n"
     ]
    },
    {
     "data": {
      "application/vnd.jupyter.widget-view+json": {
       "model_id": "69bda61e748045448ffc655e3bc24211",
       "version_major": 2,
       "version_minor": 0
      },
      "text/plain": [
       "HBox(children=(FloatProgress(value=0.0, max=10.0), HTML(value='')))"
      ]
     },
     "metadata": {},
     "output_type": "display_data"
    },
    {
     "name": "stdout",
     "output_type": "stream",
     "text": [
      "\n",
      "[clf_engine]  training loop: done!\n",
      "[ATE:78]  delta is: [-0.3757]; scaled delta is [-0.0376]\n",
      "[ATE:78]  [1.9098573923110962, 1.9158296585083008, 1.9071943759918213, 1.9073560237884521, 1.8914376497268677, 1.931945562362671, 1.922782063484192, 1.9287359714508057, 1.9036198854446411, 1.9172794818878174]\n",
      "[ATE:78]  [2.29688239 2.29439425 2.28387141 2.28576446 2.32269144 2.28585958\n",
      " 2.2763741  2.27957296 2.28649306 2.28106356]\n",
      "[ATE:78]  reward at the end of time step is [-0.03756929159164431]\n",
      "[ATA] optimization step performed\n",
      "[ATA episode 0]: took [9.0] seconds for one full step\n",
      "[ATE:78]  action [[1.77139595 0.50047354 0.26726486 0.18989394]] recieved\n",
      "[clf_engine]  scaled BS by [1.7713959508431842]; BS=[2500]\n",
      "[clf_engine]  scaled LR by [0.5004735350787628]; LR=[3.496568053126463e-11]\n",
      "[clf_engine]  training loop: started for [30] updates; BS=[2500] LR=[1.7499397741916682e-11]!\n"
     ]
    },
    {
     "data": {
      "application/vnd.jupyter.widget-view+json": {
       "model_id": "50274c2e9e444b1291a0c4ed91d7537b",
       "version_major": 2,
       "version_minor": 0
      },
      "text/plain": [
       "HBox(children=(FloatProgress(value=0.0, max=10.0), HTML(value='')))"
      ]
     },
     "metadata": {},
     "output_type": "display_data"
    },
    {
     "name": "stdout",
     "output_type": "stream",
     "text": [
      "\n",
      "[clf_engine]  training loop: started for [20] updates; BS=[2500] LR=[1.7499397741916682e-11]!\n"
     ]
    },
    {
     "data": {
      "application/vnd.jupyter.widget-view+json": {
       "model_id": "a1339ce724cd4ade9f415ac7a8266656",
       "version_major": 2,
       "version_minor": 0
      },
      "text/plain": [
       "HBox(children=(FloatProgress(value=0.0, max=10.0), HTML(value='')))"
      ]
     },
     "metadata": {},
     "output_type": "display_data"
    },
    {
     "name": "stdout",
     "output_type": "stream",
     "text": [
      "\n",
      "[clf_engine]  training loop: started for [10] updates; BS=[2500] LR=[1.7499397741916682e-11]!\n"
     ]
    },
    {
     "data": {
      "application/vnd.jupyter.widget-view+json": {
       "model_id": "2783be717a8c418fb7c8eba765120d0a",
       "version_major": 2,
       "version_minor": 0
      },
      "text/plain": [
       "HBox(children=(FloatProgress(value=0.0, max=10.0), HTML(value='')))"
      ]
     },
     "metadata": {},
     "output_type": "display_data"
    },
    {
     "name": "stdout",
     "output_type": "stream",
     "text": [
      "\n",
      "[clf_engine]  training loop: done!\n",
      "[ATE:79]  delta is: [-0.3642]; scaled delta is [-0.0364]\n",
      "[ATE:79]  [1.9007641077041626, 1.9421052932739258, 1.9350515604019165, 1.9221210479736328, 1.9233849048614502, 1.9159618616104126, 1.9073413610458374, 1.8901293277740479, 1.9269386529922485, 1.8993109464645386]\n",
      "[ATE:79]  [2.2896874  2.28285384 2.28330588 2.23871279 2.29255247 2.28125143\n",
      " 2.26311493 2.27303553 2.29268646 2.3076818 ]\n",
      "[ATE:79]  reward at the end of time step is [-0.036417734622955326]\n",
      "[ATA] optimization step performed\n",
      "[ATA episode 0]: took [9.0] seconds for one full step\n",
      "[ATE:79]  action [[1.69409827 0.52390269 0.26398993 0.19323904]] recieved\n",
      "[clf_engine]  scaled BS by [1.6940982651401073]; BS=[2500]\n",
      "[clf_engine]  scaled LR by [0.5239026875596269]; LR=[1.7499397741916682e-11]\n",
      "[clf_engine]  training loop: started for [30] updates; BS=[2500] LR=[9.167981507665016e-12]!\n"
     ]
    },
    {
     "data": {
      "application/vnd.jupyter.widget-view+json": {
       "model_id": "84b84d5195f841e1b51e30dcd9763cd8",
       "version_major": 2,
       "version_minor": 0
      },
      "text/plain": [
       "HBox(children=(FloatProgress(value=0.0, max=10.0), HTML(value='')))"
      ]
     },
     "metadata": {},
     "output_type": "display_data"
    },
    {
     "name": "stdout",
     "output_type": "stream",
     "text": [
      "\n",
      "[clf_engine]  training loop: started for [20] updates; BS=[2500] LR=[9.167981507665016e-12]!\n"
     ]
    },
    {
     "data": {
      "application/vnd.jupyter.widget-view+json": {
       "model_id": "7bf36d15681e4298a1ef086547e7be6f",
       "version_major": 2,
       "version_minor": 0
      },
      "text/plain": [
       "HBox(children=(FloatProgress(value=0.0, max=10.0), HTML(value='')))"
      ]
     },
     "metadata": {},
     "output_type": "display_data"
    },
    {
     "name": "stdout",
     "output_type": "stream",
     "text": [
      "\n",
      "[clf_engine]  training loop: started for [10] updates; BS=[2500] LR=[9.167981507665016e-12]!\n"
     ]
    },
    {
     "data": {
      "application/vnd.jupyter.widget-view+json": {
       "model_id": "7c02efdeeb6c428b8168f8b76ff5f55e",
       "version_major": 2,
       "version_minor": 0
      },
      "text/plain": [
       "HBox(children=(FloatProgress(value=0.0, max=10.0), HTML(value='')))"
      ]
     },
     "metadata": {},
     "output_type": "display_data"
    },
    {
     "name": "stdout",
     "output_type": "stream",
     "text": [
      "\n",
      "[clf_engine]  training loop: done!\n"
     ]
    },
    {
     "data": {
      "application/vnd.jupyter.widget-view+json": {
       "model_id": "27206a1abf87451ab099ce896ca34f36",
       "version_major": 2,
       "version_minor": 0
      },
      "text/plain": [
       "HBox(children=(FloatProgress(value=0.0, max=1563.0), HTML(value='')))"
      ]
     },
     "metadata": {},
     "output_type": "display_data"
    },
    {
     "name": "stdout",
     "output_type": "stream",
     "text": [
      "\n"
     ]
    },
    {
     "data": {
      "application/vnd.jupyter.widget-view+json": {
       "model_id": "d59bb2fd469648cd996e1c49d1b511de",
       "version_major": 2,
       "version_minor": 0
      },
      "text/plain": [
       "HBox(children=(FloatProgress(value=0.0, max=625.0), HTML(value='')))"
      ]
     },
     "metadata": {},
     "output_type": "display_data"
    },
    {
     "name": "stdout",
     "output_type": "stream",
     "text": [
      "\n",
      "[ATE:80]  delta is: [-0.3756]; scaled delta is [-0.0376]\n",
      "[ATE:80]  [1.914792537689209, 1.925904631614685, 1.9041961431503296, 1.904240608215332, 1.8953310251235962, 1.8888367414474487, 1.9073666334152222, 1.9270129203796387, 1.896432638168335, 1.9213083982467651]\n",
      "[ATE:80]  [2.30790877 2.27628398 2.25862575 2.31276584 2.28370094 2.26655531\n",
      " 2.26868153 2.30874634 2.27143884 2.28681922]\n",
      "[ATE:80]  reward at the end of time step is [-0.03756104230880737]\n",
      "[ATA] optimization step performed\n",
      "[ATA episode 0]: took [14.4] seconds for one full step\n",
      "[ATE:80]  action [[1.73508817 0.56014535 0.28307349 0.24020641]] recieved\n",
      "[clf_engine]  scaled BS by [1.7350881730870105]; BS=[2500]\n",
      "[clf_engine]  scaled LR by [0.5601453528324034]; LR=[9.167981507665016e-12]\n",
      "[clf_engine]  training loop: started for [30] updates; BS=[2500] LR=[5.1354022363719706e-12]!\n"
     ]
    },
    {
     "data": {
      "application/vnd.jupyter.widget-view+json": {
       "model_id": "0baaa936b4834733bcc5f277ec3f7cfd",
       "version_major": 2,
       "version_minor": 0
      },
      "text/plain": [
       "HBox(children=(FloatProgress(value=0.0, max=10.0), HTML(value='')))"
      ]
     },
     "metadata": {},
     "output_type": "display_data"
    },
    {
     "name": "stdout",
     "output_type": "stream",
     "text": [
      "\n",
      "[clf_engine]  training loop: started for [20] updates; BS=[2500] LR=[5.1354022363719706e-12]!\n"
     ]
    },
    {
     "data": {
      "application/vnd.jupyter.widget-view+json": {
       "model_id": "6173f2193a9243749b60932a708a6cb9",
       "version_major": 2,
       "version_minor": 0
      },
      "text/plain": [
       "HBox(children=(FloatProgress(value=0.0, max=10.0), HTML(value='')))"
      ]
     },
     "metadata": {},
     "output_type": "display_data"
    },
    {
     "name": "stdout",
     "output_type": "stream",
     "text": [
      "\n",
      "[clf_engine]  training loop: started for [10] updates; BS=[2500] LR=[5.1354022363719706e-12]!\n"
     ]
    },
    {
     "data": {
      "application/vnd.jupyter.widget-view+json": {
       "model_id": "e469859e22c84778a1ed71f8b6aaca95",
       "version_major": 2,
       "version_minor": 0
      },
      "text/plain": [
       "HBox(children=(FloatProgress(value=0.0, max=10.0), HTML(value='')))"
      ]
     },
     "metadata": {},
     "output_type": "display_data"
    },
    {
     "name": "stdout",
     "output_type": "stream",
     "text": [
      "\n",
      "[clf_engine]  training loop: done!\n",
      "[ATE:81]  delta is: [-0.3639]; scaled delta is [-0.0364]\n",
      "[ATE:81]  [1.912310004234314, 1.8933519124984741, 1.922909140586853, 1.9235166311264038, 1.9323111772537231, 1.9138379096984863, 1.9117056131362915, 1.9169249534606934, 1.909423828125, 1.9200693368911743]\n",
      "[ATE:81]  [2.29856515 2.28598213 2.24755979 2.27193856 2.29223204 2.29698181\n",
      " 2.26029444 2.29645538 2.2335186  2.31218719]\n",
      "[ATE:81]  reward at the end of time step is [-0.03639354586601258]\n",
      "[ATA] optimization step performed\n",
      "[ATA episode 0]: took [11.7] seconds for one full step\n",
      "[ATE:81]  action [[1.68850129 0.63124212 0.33489446 0.16904717]] recieved\n",
      "[clf_engine]  scaled BS by [1.688501286067743]; BS=[2500]\n",
      "[clf_engine]  scaled LR by [0.6312421197327902]; LR=[5.1354022363719706e-12]\n",
      "[clf_engine]  training loop: started for [30] updates; BS=[2500] LR=[3.241682193367954e-12]!\n"
     ]
    },
    {
     "data": {
      "application/vnd.jupyter.widget-view+json": {
       "model_id": "9df2126e550f4790857781036bb92a37",
       "version_major": 2,
       "version_minor": 0
      },
      "text/plain": [
       "HBox(children=(FloatProgress(value=0.0, max=10.0), HTML(value='')))"
      ]
     },
     "metadata": {},
     "output_type": "display_data"
    },
    {
     "name": "stdout",
     "output_type": "stream",
     "text": [
      "\n",
      "[clf_engine]  training loop: started for [20] updates; BS=[2500] LR=[3.241682193367954e-12]!\n"
     ]
    },
    {
     "data": {
      "application/vnd.jupyter.widget-view+json": {
       "model_id": "47f283f9a3e7457aa7f61f9e3bb33efc",
       "version_major": 2,
       "version_minor": 0
      },
      "text/plain": [
       "HBox(children=(FloatProgress(value=0.0, max=10.0), HTML(value='')))"
      ]
     },
     "metadata": {},
     "output_type": "display_data"
    },
    {
     "name": "stdout",
     "output_type": "stream",
     "text": [
      "\n",
      "[clf_engine]  training loop: started for [10] updates; BS=[2500] LR=[3.241682193367954e-12]!\n"
     ]
    },
    {
     "data": {
      "application/vnd.jupyter.widget-view+json": {
       "model_id": "a423f1337d56453a90f02cf56f77a154",
       "version_major": 2,
       "version_minor": 0
      },
      "text/plain": [
       "HBox(children=(FloatProgress(value=0.0, max=10.0), HTML(value='')))"
      ]
     },
     "metadata": {},
     "output_type": "display_data"
    },
    {
     "name": "stdout",
     "output_type": "stream",
     "text": [
      "\n",
      "[clf_engine]  training loop: done!\n",
      "[ATE:82]  delta is: [-0.3727]; scaled delta is [-0.0373]\n",
      "[ATE:82]  [1.8838093280792236, 1.905985951423645, 1.9086415767669678, 1.9267311096191406, 1.9042004346847534, 1.9216856956481934, 1.9131510257720947, 1.916858196258545, 1.9266598224639893, 1.9242863655090332]\n",
      "[ATE:82]  [2.30003142 2.26667142 2.27934504 2.27468729 2.31203246 2.29994631\n",
      " 2.2874887  2.27332354 2.28794885 2.27718782]\n",
      "[ATE:82]  reward at the end of time step is [-0.03726653337478636]\n",
      "[ATA] optimization step performed\n",
      "[ATA episode 0]: took [9.6] seconds for one full step\n",
      "[ATE:82]  action [[1.7283045  0.67344815 0.31346974 0.18893434]] recieved\n",
      "[clf_engine]  scaled BS by [1.7283045033649367]; BS=[2500]\n",
      "[clf_engine]  scaled LR by [0.6734481537726034]; LR=[3.241682193367954e-12]\n",
      "[clf_engine]  training loop: started for [30] updates; BS=[2500] LR=[2.183104888241172e-12]!\n"
     ]
    },
    {
     "data": {
      "application/vnd.jupyter.widget-view+json": {
       "model_id": "faf88c2814c4449e8658b95af47a28b8",
       "version_major": 2,
       "version_minor": 0
      },
      "text/plain": [
       "HBox(children=(FloatProgress(value=0.0, max=10.0), HTML(value='')))"
      ]
     },
     "metadata": {},
     "output_type": "display_data"
    },
    {
     "name": "stdout",
     "output_type": "stream",
     "text": [
      "\n",
      "[clf_engine]  training loop: started for [20] updates; BS=[2500] LR=[2.183104888241172e-12]!\n"
     ]
    },
    {
     "data": {
      "application/vnd.jupyter.widget-view+json": {
       "model_id": "b63eb5c0fb75484db961d30025047e46",
       "version_major": 2,
       "version_minor": 0
      },
      "text/plain": [
       "HBox(children=(FloatProgress(value=0.0, max=10.0), HTML(value='')))"
      ]
     },
     "metadata": {},
     "output_type": "display_data"
    },
    {
     "name": "stdout",
     "output_type": "stream",
     "text": [
      "\n",
      "[clf_engine]  training loop: started for [10] updates; BS=[2500] LR=[2.183104888241172e-12]!\n"
     ]
    },
    {
     "data": {
      "application/vnd.jupyter.widget-view+json": {
       "model_id": "cc583480886f444b81464c05982b41f2",
       "version_major": 2,
       "version_minor": 0
      },
      "text/plain": [
       "HBox(children=(FloatProgress(value=0.0, max=10.0), HTML(value='')))"
      ]
     },
     "metadata": {},
     "output_type": "display_data"
    },
    {
     "name": "stdout",
     "output_type": "stream",
     "text": [
      "\n",
      "[clf_engine]  training loop: done!\n",
      "[ATE:83]  delta is: [-0.3602]; scaled delta is [-0.0360]\n",
      "[ATE:83]  [1.9127074480056763, 1.9325515031814575, 1.9105650186538696, 1.9484792947769165, 1.9403091669082642, 1.9168689250946045, 1.9218082427978516, 1.9020274877548218, 1.9183472394943237, 1.8967968225479126]\n",
      "[ATE:83]  [2.28444862 2.25644374 2.24524617 2.29036117 2.28443432 2.29788756\n",
      " 2.29328465 2.28036356 2.27525783 2.29471397]\n",
      "[ATE:83]  reward at the end of time step is [-0.036019804477691646]\n",
      "[ATA] optimization step performed\n",
      "[ATA episode 0]: took [9.3] seconds for one full step\n",
      "[ATE:83]  action [[1.64513045 0.63008303 0.33582917 0.24988271]] recieved\n",
      "[clf_engine]  scaled BS by [1.6451304474006243]; BS=[2500]\n",
      "[clf_engine]  scaled LR by [0.63008302894472]; LR=[2.183104888241172e-12]\n",
      "[clf_engine]  training loop: started for [30] updates; BS=[2500] LR=[1.375537340487022e-12]!\n"
     ]
    },
    {
     "data": {
      "application/vnd.jupyter.widget-view+json": {
       "model_id": "77e3069beced4b8daa9e620b9ec74bed",
       "version_major": 2,
       "version_minor": 0
      },
      "text/plain": [
       "HBox(children=(FloatProgress(value=0.0, max=10.0), HTML(value='')))"
      ]
     },
     "metadata": {},
     "output_type": "display_data"
    },
    {
     "name": "stdout",
     "output_type": "stream",
     "text": [
      "\n",
      "[clf_engine]  training loop: started for [20] updates; BS=[2500] LR=[1.375537340487022e-12]!\n"
     ]
    },
    {
     "data": {
      "application/vnd.jupyter.widget-view+json": {
       "model_id": "7d33880c7e174dc9bc2a617a90468e8e",
       "version_major": 2,
       "version_minor": 0
      },
      "text/plain": [
       "HBox(children=(FloatProgress(value=0.0, max=10.0), HTML(value='')))"
      ]
     },
     "metadata": {},
     "output_type": "display_data"
    },
    {
     "name": "stdout",
     "output_type": "stream",
     "text": [
      "\n",
      "[clf_engine]  training loop: started for [10] updates; BS=[2500] LR=[1.375537340487022e-12]!\n"
     ]
    },
    {
     "data": {
      "application/vnd.jupyter.widget-view+json": {
       "model_id": "700202c459ca4f48b803c6ad16d214a4",
       "version_major": 2,
       "version_minor": 0
      },
      "text/plain": [
       "HBox(children=(FloatProgress(value=0.0, max=10.0), HTML(value='')))"
      ]
     },
     "metadata": {},
     "output_type": "display_data"
    },
    {
     "name": "stdout",
     "output_type": "stream",
     "text": [
      "\n",
      "[clf_engine]  training loop: done!\n",
      "[ATE:84]  delta is: [-0.3652]; scaled delta is [-0.0365]\n",
      "[ATE:84]  [1.9298973083496094, 1.9172388315200806, 1.9274663925170898, 1.9056675434112549, 1.8972667455673218, 1.9163910150527954, 1.900418758392334, 1.8949363231658936, 1.916966438293457, 1.9328722953796387]\n",
      "[ATE:84]  [2.28771734 2.24233317 2.27175617 2.30340815 2.28740597 2.29212523\n",
      " 2.28513241 2.29095626 2.25379181 2.276088  ]\n",
      "[ATE:84]  reward at the end of time step is [-0.036515928506851196]\n",
      "[ATA] optimization step performed\n",
      "[ATA episode 0]: took [9.1] seconds for one full step\n",
      "[ATE:84]  action [[1.65464223 0.65440511 0.35320748 0.19967112]] recieved\n",
      "[clf_engine]  scaled BS by [1.6546422299274564]; BS=[2500]\n",
      "[clf_engine]  scaled LR by [0.6544051073329477]; LR=[1.375537340487022e-12]\n",
      "[clf_engine]  training loop: started for [30] updates; BS=[2500] LR=[9.00158660941887e-13]!\n"
     ]
    },
    {
     "data": {
      "application/vnd.jupyter.widget-view+json": {
       "model_id": "d16718f2d4dc4420b7994cacc0b0da83",
       "version_major": 2,
       "version_minor": 0
      },
      "text/plain": [
       "HBox(children=(FloatProgress(value=0.0, max=10.0), HTML(value='')))"
      ]
     },
     "metadata": {},
     "output_type": "display_data"
    },
    {
     "name": "stdout",
     "output_type": "stream",
     "text": [
      "\n",
      "[clf_engine]  training loop: started for [20] updates; BS=[2500] LR=[9.00158660941887e-13]!\n"
     ]
    },
    {
     "data": {
      "application/vnd.jupyter.widget-view+json": {
       "model_id": "8fc89df3a49f4d7ca64d9d852573a133",
       "version_major": 2,
       "version_minor": 0
      },
      "text/plain": [
       "HBox(children=(FloatProgress(value=0.0, max=10.0), HTML(value='')))"
      ]
     },
     "metadata": {},
     "output_type": "display_data"
    },
    {
     "name": "stdout",
     "output_type": "stream",
     "text": [
      "\n",
      "[clf_engine]  training loop: started for [10] updates; BS=[2500] LR=[9.00158660941887e-13]!\n"
     ]
    },
    {
     "data": {
      "application/vnd.jupyter.widget-view+json": {
       "model_id": "d418b3766faf479baf85db3d24d857e4",
       "version_major": 2,
       "version_minor": 0
      },
      "text/plain": [
       "HBox(children=(FloatProgress(value=0.0, max=10.0), HTML(value='')))"
      ]
     },
     "metadata": {},
     "output_type": "display_data"
    },
    {
     "name": "stdout",
     "output_type": "stream",
     "text": [
      "\n",
      "[clf_engine]  training loop: done!\n",
      "[ATE:85]  delta is: [-0.3594]; scaled delta is [-0.0359]\n",
      "[ATE:85]  [1.914655089378357, 1.9221019744873047, 1.9202216863632202, 1.9188131093978882, 1.9181017875671387, 1.9223051071166992, 1.925584316253662, 1.9084722995758057, 1.8991730213165283, 1.9065818786621094]\n",
      "[ATE:85]  [2.27571726 2.2902503  2.27428055 2.25545859 2.25929832 2.27276731\n",
      " 2.26944423 2.2770524  2.28947186 2.28626966]\n",
      "[ATE:85]  reward at the end of time step is [-0.035940002202987674]\n",
      "[ATA] optimization step performed\n",
      "[ATA episode 0]: took [9.4] seconds for one full step\n",
      "[ATE:85]  action [[1.54219329 0.61984732 0.37564724 0.26774052]] recieved\n",
      "[clf_engine]  scaled BS by [1.5421932886960645]; BS=[2500]\n",
      "[clf_engine]  scaled LR by [0.619847317946675]; LR=[9.00158660941887e-13]\n",
      "[clf_engine]  training loop: started for [30] updates; BS=[2500] LR=[5.579609317112991e-13]!\n"
     ]
    },
    {
     "data": {
      "application/vnd.jupyter.widget-view+json": {
       "model_id": "418f1446755143e0bca3974ce0dfc9f1",
       "version_major": 2,
       "version_minor": 0
      },
      "text/plain": [
       "HBox(children=(FloatProgress(value=0.0, max=10.0), HTML(value='')))"
      ]
     },
     "metadata": {},
     "output_type": "display_data"
    },
    {
     "name": "stdout",
     "output_type": "stream",
     "text": [
      "\n",
      "[clf_engine]  training loop: started for [20] updates; BS=[2500] LR=[5.579609317112991e-13]!\n"
     ]
    },
    {
     "data": {
      "application/vnd.jupyter.widget-view+json": {
       "model_id": "db1d587a2d4c4ae2831673094df68788",
       "version_major": 2,
       "version_minor": 0
      },
      "text/plain": [
       "HBox(children=(FloatProgress(value=0.0, max=10.0), HTML(value='')))"
      ]
     },
     "metadata": {},
     "output_type": "display_data"
    },
    {
     "name": "stdout",
     "output_type": "stream",
     "text": [
      "\n",
      "[clf_engine]  training loop: started for [10] updates; BS=[2500] LR=[5.579609317112991e-13]!\n"
     ]
    },
    {
     "data": {
      "application/vnd.jupyter.widget-view+json": {
       "model_id": "c162ee1206d44735a84d6d43758542aa",
       "version_major": 2,
       "version_minor": 0
      },
      "text/plain": [
       "HBox(children=(FloatProgress(value=0.0, max=10.0), HTML(value='')))"
      ]
     },
     "metadata": {},
     "output_type": "display_data"
    },
    {
     "name": "stdout",
     "output_type": "stream",
     "text": [
      "\n",
      "[clf_engine]  training loop: done!\n",
      "[ATE:86]  delta is: [-0.3721]; scaled delta is [-0.0372]\n",
      "[ATE:86]  [1.8990784883499146, 1.9263999462127686, 1.9344491958618164, 1.9227429628372192, 1.9122623205184937, 1.9138191938400269, 1.9169492721557617, 1.918975591659546, 1.9020531177520752, 1.8885644674301147]\n",
      "[ATE:86]  [2.292377   2.27108574 2.30006289 2.29789472 2.28086996 2.2669034\n",
      " 2.28136802 2.29817748 2.28464556 2.28263378]\n",
      "[ATE:86]  reward at the end of time step is [-0.037207239866256715]\n",
      "[ATA] optimization step performed\n",
      "[ATA episode 0]: took [8.9] seconds for one full step\n",
      "[ATE:86]  action [[1.58106392 0.50824867 0.30063632 0.25103398]] recieved\n",
      "[clf_engine]  scaled BS by [1.581063922673308]; BS=[2500]\n",
      "[clf_engine]  scaled LR by [0.5082486684668083]; LR=[5.579609317112991e-13]\n",
      "[clf_engine]  training loop: started for [30] updates; BS=[2500] LR=[2.835829005987675e-13]!\n"
     ]
    },
    {
     "data": {
      "application/vnd.jupyter.widget-view+json": {
       "model_id": "c40caafd7c9e48b99903d29b76994f12",
       "version_major": 2,
       "version_minor": 0
      },
      "text/plain": [
       "HBox(children=(FloatProgress(value=0.0, max=10.0), HTML(value='')))"
      ]
     },
     "metadata": {},
     "output_type": "display_data"
    },
    {
     "name": "stdout",
     "output_type": "stream",
     "text": [
      "\n",
      "[clf_engine]  training loop: started for [20] updates; BS=[2500] LR=[2.835829005987675e-13]!\n"
     ]
    },
    {
     "data": {
      "application/vnd.jupyter.widget-view+json": {
       "model_id": "57657c06a0e54068a4fad74bd098485a",
       "version_major": 2,
       "version_minor": 0
      },
      "text/plain": [
       "HBox(children=(FloatProgress(value=0.0, max=10.0), HTML(value='')))"
      ]
     },
     "metadata": {},
     "output_type": "display_data"
    },
    {
     "name": "stdout",
     "output_type": "stream",
     "text": [
      "\n",
      "[clf_engine]  training loop: started for [10] updates; BS=[2500] LR=[2.835829005987675e-13]!\n"
     ]
    },
    {
     "data": {
      "application/vnd.jupyter.widget-view+json": {
       "model_id": "e9d4123281314014883b436978e49994",
       "version_major": 2,
       "version_minor": 0
      },
      "text/plain": [
       "HBox(children=(FloatProgress(value=0.0, max=10.0), HTML(value='')))"
      ]
     },
     "metadata": {},
     "output_type": "display_data"
    },
    {
     "name": "stdout",
     "output_type": "stream",
     "text": [
      "\n",
      "[clf_engine]  training loop: done!\n",
      "[ATE:87]  delta is: [-0.3609]; scaled delta is [-0.0361]\n",
      "[ATE:87]  [1.9080119132995605, 1.936333179473877, 1.914750576019287, 1.924704670906067, 1.9288302659988403, 1.9045591354370117, 1.9175349473953247, 1.8998363018035889, 1.9140160083770752, 1.9182871580123901]\n",
      "[ATE:87]  [2.29742122 2.25074863 2.28083491 2.24876595 2.28980422 2.3015821\n",
      " 2.28828216 2.26900315 2.27942109 2.26997447]\n",
      "[ATE:87]  reward at the end of time step is [-0.03608973741531374]\n",
      "[ATA] optimization step performed\n",
      "[ATA episode 0]: took [9.1] seconds for one full step\n",
      "[ATE:87]  action [[1.60905517 0.43013049 0.31518158 0.25122014]] recieved\n",
      "[clf_engine]  scaled BS by [1.6090551683978682]; BS=[2500]\n",
      "[clf_engine]  scaled LR by [0.4301304899153435]; LR=[2.835829005987675e-13]\n",
      "[clf_engine]  training loop: started for [30] updates; BS=[2500] LR=[1.21977651966162e-13]!\n"
     ]
    },
    {
     "data": {
      "application/vnd.jupyter.widget-view+json": {
       "model_id": "8406806a2cef4e16a0d9a5b0ce1b1293",
       "version_major": 2,
       "version_minor": 0
      },
      "text/plain": [
       "HBox(children=(FloatProgress(value=0.0, max=10.0), HTML(value='')))"
      ]
     },
     "metadata": {},
     "output_type": "display_data"
    },
    {
     "name": "stdout",
     "output_type": "stream",
     "text": [
      "\n",
      "[clf_engine]  training loop: started for [20] updates; BS=[2500] LR=[1.21977651966162e-13]!\n"
     ]
    },
    {
     "data": {
      "application/vnd.jupyter.widget-view+json": {
       "model_id": "c7cce51b88da4265a65c93ba6d984100",
       "version_major": 2,
       "version_minor": 0
      },
      "text/plain": [
       "HBox(children=(FloatProgress(value=0.0, max=10.0), HTML(value='')))"
      ]
     },
     "metadata": {},
     "output_type": "display_data"
    },
    {
     "name": "stdout",
     "output_type": "stream",
     "text": [
      "\n",
      "[clf_engine]  training loop: started for [10] updates; BS=[2500] LR=[1.21977651966162e-13]!\n"
     ]
    },
    {
     "data": {
      "application/vnd.jupyter.widget-view+json": {
       "model_id": "1d7463a350424bb59c9c8bba7026cb05",
       "version_major": 2,
       "version_minor": 0
      },
      "text/plain": [
       "HBox(children=(FloatProgress(value=0.0, max=10.0), HTML(value='')))"
      ]
     },
     "metadata": {},
     "output_type": "display_data"
    },
    {
     "name": "stdout",
     "output_type": "stream",
     "text": [
      "\n",
      "[clf_engine]  training loop: done!\n",
      "[ATE:88]  delta is: [-0.3692]; scaled delta is [-0.0369]\n",
      "[ATE:88]  [1.9166712760925293, 1.8993730545043945, 1.9024689197540283, 1.916580080986023, 1.9023021459579468, 1.911744475364685, 1.9014943838119507, 1.9219970703125, 1.9416015148162842, 1.913551926612854]\n",
      "[ATE:88]  [2.29382324 2.28318167 2.27386427 2.31074142 2.24439096 2.2753613\n",
      " 2.28928137 2.28258085 2.27320671 2.29352832]\n",
      "[ATE:88]  reward at the end of time step is [-0.03692175269126892]\n",
      "[ATA] optimization step performed\n",
      "[ATA episode 0]: took [9.0] seconds for one full step\n",
      "[ATE:88]  action [[1.67931761 0.43313149 0.33068468 0.21482532]] recieved\n",
      "[clf_engine]  scaled BS by [1.6793176096103068]; BS=[2500]\n",
      "[clf_engine]  scaled LR by [0.4331314915891652]; LR=[1.21977651966162e-13]\n",
      "[clf_engine]  training loop: started for [30] updates; BS=[2500] LR=[5.2832362336647816e-14]!\n"
     ]
    },
    {
     "data": {
      "application/vnd.jupyter.widget-view+json": {
       "model_id": "5d63632a712540c88f55d7fff6987a3e",
       "version_major": 2,
       "version_minor": 0
      },
      "text/plain": [
       "HBox(children=(FloatProgress(value=0.0, max=10.0), HTML(value='')))"
      ]
     },
     "metadata": {},
     "output_type": "display_data"
    },
    {
     "name": "stdout",
     "output_type": "stream",
     "text": [
      "\n",
      "[clf_engine]  training loop: started for [20] updates; BS=[2500] LR=[5.2832362336647816e-14]!\n"
     ]
    },
    {
     "data": {
      "application/vnd.jupyter.widget-view+json": {
       "model_id": "55ec64a1c25045cba0ddf0523502cf88",
       "version_major": 2,
       "version_minor": 0
      },
      "text/plain": [
       "HBox(children=(FloatProgress(value=0.0, max=10.0), HTML(value='')))"
      ]
     },
     "metadata": {},
     "output_type": "display_data"
    },
    {
     "name": "stdout",
     "output_type": "stream",
     "text": [
      "\n",
      "[clf_engine]  training loop: started for [10] updates; BS=[2500] LR=[5.2832362336647816e-14]!\n"
     ]
    },
    {
     "data": {
      "application/vnd.jupyter.widget-view+json": {
       "model_id": "daa52dac2148426ab6b768de1a038c46",
       "version_major": 2,
       "version_minor": 0
      },
      "text/plain": [
       "HBox(children=(FloatProgress(value=0.0, max=10.0), HTML(value='')))"
      ]
     },
     "metadata": {},
     "output_type": "display_data"
    },
    {
     "name": "stdout",
     "output_type": "stream",
     "text": [
      "\n",
      "[clf_engine]  training loop: done!\n",
      "[ATE:89]  delta is: [-0.3748]; scaled delta is [-0.0375]\n",
      "[ATE:89]  [1.934224247932434, 1.9155924320220947, 1.912537693977356, 1.9340771436691284, 1.904078483581543, 1.8995239734649658, 1.8981866836547852, 1.919400930404663, 1.910082221031189, 1.8843382596969604]\n",
      "[ATE:89]  [2.28645086 2.28026128 2.2966404  2.29046655 2.26928639 2.29166102\n",
      " 2.28883696 2.28672695 2.27931643 2.29025388]\n",
      "[ATE:89]  reward at the end of time step is [-0.037478586435318005]\n",
      "[ATA] optimization step performed\n",
      "[ATA episode 0]: took [9.3] seconds for one full step\n",
      "[ATE:89]  action [[1.65336102 0.41346484 0.32630931 0.25285721]] recieved\n",
      "[clf_engine]  scaled BS by [1.653361017352627]; BS=[2500]\n",
      "[clf_engine]  scaled LR by [0.41346484214356777]; LR=[5.2832362336647816e-14]\n",
      "[clf_engine]  training loop: started for [30] updates; BS=[2500] LR=[2.1844324353593865e-14]!\n"
     ]
    },
    {
     "data": {
      "application/vnd.jupyter.widget-view+json": {
       "model_id": "0d6fd384cb944f3dbb42a06d467debf9",
       "version_major": 2,
       "version_minor": 0
      },
      "text/plain": [
       "HBox(children=(FloatProgress(value=0.0, max=10.0), HTML(value='')))"
      ]
     },
     "metadata": {},
     "output_type": "display_data"
    },
    {
     "name": "stdout",
     "output_type": "stream",
     "text": [
      "\n",
      "[clf_engine]  training loop: started for [20] updates; BS=[2500] LR=[2.1844324353593865e-14]!\n"
     ]
    },
    {
     "data": {
      "application/vnd.jupyter.widget-view+json": {
       "model_id": "376588cf5ecb422bbca28e9c34147da7",
       "version_major": 2,
       "version_minor": 0
      },
      "text/plain": [
       "HBox(children=(FloatProgress(value=0.0, max=10.0), HTML(value='')))"
      ]
     },
     "metadata": {},
     "output_type": "display_data"
    },
    {
     "name": "stdout",
     "output_type": "stream",
     "text": [
      "\n",
      "[clf_engine]  training loop: started for [10] updates; BS=[2500] LR=[2.1844324353593865e-14]!\n"
     ]
    },
    {
     "data": {
      "application/vnd.jupyter.widget-view+json": {
       "model_id": "735a9947f8444515a4d70ef72fd1e62d",
       "version_major": 2,
       "version_minor": 0
      },
      "text/plain": [
       "HBox(children=(FloatProgress(value=0.0, max=10.0), HTML(value='')))"
      ]
     },
     "metadata": {},
     "output_type": "display_data"
    },
    {
     "name": "stdout",
     "output_type": "stream",
     "text": [
      "\n",
      "[clf_engine]  training loop: done!\n"
     ]
    },
    {
     "data": {
      "application/vnd.jupyter.widget-view+json": {
       "model_id": "87b1163f41ba42e291ab17f22fd5a10e",
       "version_major": 2,
       "version_minor": 0
      },
      "text/plain": [
       "HBox(children=(FloatProgress(value=0.0, max=1563.0), HTML(value='')))"
      ]
     },
     "metadata": {},
     "output_type": "display_data"
    },
    {
     "name": "stdout",
     "output_type": "stream",
     "text": [
      "\n"
     ]
    },
    {
     "data": {
      "application/vnd.jupyter.widget-view+json": {
       "model_id": "ad1a68e14e3241d799ea7b2eff243b68",
       "version_major": 2,
       "version_minor": 0
      },
      "text/plain": [
       "HBox(children=(FloatProgress(value=0.0, max=625.0), HTML(value='')))"
      ]
     },
     "metadata": {},
     "output_type": "display_data"
    },
    {
     "name": "stdout",
     "output_type": "stream",
     "text": [
      "\n",
      "[ATE:90]  delta is: [-0.3747]; scaled delta is [-0.0375]\n",
      "[ATE:90]  [1.887689232826233, 1.911148190498352, 1.931992769241333, 1.910340428352356, 1.9141978025436401, 1.9034053087234497, 1.9132859706878662, 1.924220085144043, 1.9138715267181396, 1.9016706943511963]\n",
      "[ATE:90]  [2.28307176 2.29266667 2.27490234 2.29650569 2.25189972 2.28636885\n",
      " 2.30349994 2.29271436 2.28540397 2.29158139]\n",
      "[ATE:90]  reward at the end of time step is [-0.03746792674064636]\n",
      "[ATA] optimization step performed\n",
      "[ATA episode 0]: took [14.8] seconds for one full step\n",
      "[ATE:90]  action [[1.66412718 0.39466541 0.36178544 0.23771373]] recieved\n",
      "[clf_engine]  scaled BS by [1.6641271782190223]; BS=[2500]\n",
      "[clf_engine]  scaled LR by [0.3946654126782484]; LR=[2.1844324353593865e-14]\n",
      "[clf_engine]  training loop: started for [30] updates; BS=[2500] LR=[8.621199285688634e-15]!\n"
     ]
    },
    {
     "data": {
      "application/vnd.jupyter.widget-view+json": {
       "model_id": "267250e84caf43b99dafe9fb87d50ed1",
       "version_major": 2,
       "version_minor": 0
      },
      "text/plain": [
       "HBox(children=(FloatProgress(value=0.0, max=10.0), HTML(value='')))"
      ]
     },
     "metadata": {},
     "output_type": "display_data"
    },
    {
     "name": "stdout",
     "output_type": "stream",
     "text": [
      "\n",
      "[clf_engine]  training loop: started for [20] updates; BS=[2500] LR=[8.621199285688634e-15]!\n"
     ]
    },
    {
     "data": {
      "application/vnd.jupyter.widget-view+json": {
       "model_id": "d546f0afa252490d82d84dd71bad7bb8",
       "version_major": 2,
       "version_minor": 0
      },
      "text/plain": [
       "HBox(children=(FloatProgress(value=0.0, max=10.0), HTML(value='')))"
      ]
     },
     "metadata": {},
     "output_type": "display_data"
    },
    {
     "name": "stdout",
     "output_type": "stream",
     "text": [
      "\n",
      "[clf_engine]  training loop: started for [10] updates; BS=[2500] LR=[8.621199285688634e-15]!\n"
     ]
    },
    {
     "data": {
      "application/vnd.jupyter.widget-view+json": {
       "model_id": "14e95893f9194916a6328960b17003da",
       "version_major": 2,
       "version_minor": 0
      },
      "text/plain": [
       "HBox(children=(FloatProgress(value=0.0, max=10.0), HTML(value='')))"
      ]
     },
     "metadata": {},
     "output_type": "display_data"
    },
    {
     "name": "stdout",
     "output_type": "stream",
     "text": [
      "\n",
      "[clf_engine]  training loop: done!\n",
      "[ATE:91]  delta is: [-0.3732]; scaled delta is [-0.0373]\n",
      "[ATE:91]  [1.8974416255950928, 1.9025384187698364, 1.9333670139312744, 1.8971601724624634, 1.9124034643173218, 1.8923239707946777, 1.9154205322265625, 1.9235705137252808, 1.9115384817123413, 1.928092360496521]\n",
      "[ATE:91]  [2.25758028 2.30874753 2.29654288 2.29864883 2.26047993 2.28905845\n",
      " 2.32563019 2.27595019 2.26640463 2.2670145 ]\n",
      "[ATE:91]  reward at the end of time step is [-0.03732200860977173]\n",
      "[ATA] optimization step performed\n",
      "[ATA episode 0]: took [9.3] seconds for one full step\n",
      "[ATE:91]  action [[1.71559094 0.39736682 0.35569425 0.20048902]] recieved\n",
      "[clf_engine]  scaled BS by [1.7155909366095075]; BS=[2500]\n",
      "[clf_engine]  scaled LR by [0.39736681701848736]; LR=[8.621199285688634e-15]\n",
      "[clf_engine]  training loop: started for [30] updates; BS=[2500] LR=[3.4257785190361497e-15]!\n"
     ]
    },
    {
     "data": {
      "application/vnd.jupyter.widget-view+json": {
       "model_id": "a266c14917bd4006b7565dd087de9015",
       "version_major": 2,
       "version_minor": 0
      },
      "text/plain": [
       "HBox(children=(FloatProgress(value=0.0, max=10.0), HTML(value='')))"
      ]
     },
     "metadata": {},
     "output_type": "display_data"
    },
    {
     "name": "stdout",
     "output_type": "stream",
     "text": [
      "\n",
      "[clf_engine]  training loop: started for [20] updates; BS=[2500] LR=[3.4257785190361497e-15]!\n"
     ]
    },
    {
     "data": {
      "application/vnd.jupyter.widget-view+json": {
       "model_id": "c5859238400842a7b7c3076b4e759b00",
       "version_major": 2,
       "version_minor": 0
      },
      "text/plain": [
       "HBox(children=(FloatProgress(value=0.0, max=10.0), HTML(value='')))"
      ]
     },
     "metadata": {},
     "output_type": "display_data"
    },
    {
     "name": "stdout",
     "output_type": "stream",
     "text": [
      "\n",
      "[clf_engine]  training loop: started for [10] updates; BS=[2500] LR=[3.4257785190361497e-15]!\n"
     ]
    },
    {
     "data": {
      "application/vnd.jupyter.widget-view+json": {
       "model_id": "27052ce8256f4cb0b1b046c50ff01555",
       "version_major": 2,
       "version_minor": 0
      },
      "text/plain": [
       "HBox(children=(FloatProgress(value=0.0, max=10.0), HTML(value='')))"
      ]
     },
     "metadata": {},
     "output_type": "display_data"
    },
    {
     "name": "stdout",
     "output_type": "stream",
     "text": [
      "\n",
      "[clf_engine]  training loop: done!\n",
      "[ATE:92]  delta is: [-0.3626]; scaled delta is [-0.0363]\n",
      "[ATE:92]  [1.897631049156189, 1.897891640663147, 1.8905258178710938, 1.8971341848373413, 1.9044146537780762, 1.9275630712509155, 1.914204478263855, 1.897261142730713, 1.934587836265564, 1.9148805141448975]\n",
      "[ATE:92]  [2.26884365 2.27868629 2.25722003 2.31767941 2.24875212 2.24941397\n",
      " 2.259516   2.28482509 2.2882576  2.24920774]\n",
      "[ATE:92]  reward at the end of time step is [-0.03626307487487792]\n",
      "[ATA] optimization step performed\n",
      "[ATA episode 0]: took [9.4] seconds for one full step\n",
      "[ATE:92]  action [[1.69662152 0.37174073 0.30280887 0.18631747]] recieved\n",
      "[clf_engine]  scaled BS by [1.6966215182912103]; BS=[2500]\n",
      "[clf_engine]  scaled LR by [0.37174072500850674]; LR=[3.4257785190361497e-15]\n",
      "[clf_engine]  training loop: started for [30] updates; BS=[2500] LR=[1.273501390385067e-15]!\n"
     ]
    },
    {
     "data": {
      "application/vnd.jupyter.widget-view+json": {
       "model_id": "8c77f59ca36b446096f2ede5b0902715",
       "version_major": 2,
       "version_minor": 0
      },
      "text/plain": [
       "HBox(children=(FloatProgress(value=0.0, max=10.0), HTML(value='')))"
      ]
     },
     "metadata": {},
     "output_type": "display_data"
    },
    {
     "name": "stdout",
     "output_type": "stream",
     "text": [
      "\n",
      "[clf_engine]  training loop: started for [20] updates; BS=[2500] LR=[1.273501390385067e-15]!\n"
     ]
    },
    {
     "data": {
      "application/vnd.jupyter.widget-view+json": {
       "model_id": "773dd0a329e040d781e61d363a98c203",
       "version_major": 2,
       "version_minor": 0
      },
      "text/plain": [
       "HBox(children=(FloatProgress(value=0.0, max=10.0), HTML(value='')))"
      ]
     },
     "metadata": {},
     "output_type": "display_data"
    },
    {
     "name": "stdout",
     "output_type": "stream",
     "text": [
      "\n",
      "[clf_engine]  training loop: started for [10] updates; BS=[2500] LR=[1.273501390385067e-15]!\n"
     ]
    },
    {
     "data": {
      "application/vnd.jupyter.widget-view+json": {
       "model_id": "814becf0337a48b2a4b6c18d73b425f4",
       "version_major": 2,
       "version_minor": 0
      },
      "text/plain": [
       "HBox(children=(FloatProgress(value=0.0, max=10.0), HTML(value='')))"
      ]
     },
     "metadata": {},
     "output_type": "display_data"
    },
    {
     "name": "stdout",
     "output_type": "stream",
     "text": [
      "\n",
      "[clf_engine]  training loop: done!\n",
      "[ATE:93]  delta is: [-0.3572]; scaled delta is [-0.0357]\n",
      "[ATE:93]  [1.927944302558899, 1.909231424331665, 1.9320183992385864, 1.9085708856582642, 1.922919750213623, 1.9130786657333374, 1.8993529081344604, 1.913204312324524, 1.9287418127059937, 1.901179313659668]\n",
      "[ATE:93]  [2.2775681  2.28349996 2.27527022 2.23964524 2.26677871 2.2660675\n",
      " 2.29824042 2.2499249  2.27939844 2.29232001]\n",
      "[ATE:93]  reward at the end of time step is [-0.035724717378616336]\n",
      "[ATA] optimization step performed\n",
      "[ATA episode 0]: took [9.1] seconds for one full step\n",
      "[ATE:93]  action [[1.658672   0.46177494 0.30806766 0.18433008]] recieved\n",
      "[clf_engine]  scaled BS by [1.6586719955698397]; BS=[2500]\n",
      "[clf_engine]  scaled LR by [0.46177494077648357]; LR=[1.273501390385067e-15]\n",
      "[clf_engine]  training loop: started for [30] updates; BS=[2500] LR=[5.880710291238337e-16]!\n"
     ]
    },
    {
     "data": {
      "application/vnd.jupyter.widget-view+json": {
       "model_id": "117e7d9f724346e98b52e2d494dd9b33",
       "version_major": 2,
       "version_minor": 0
      },
      "text/plain": [
       "HBox(children=(FloatProgress(value=0.0, max=10.0), HTML(value='')))"
      ]
     },
     "metadata": {},
     "output_type": "display_data"
    },
    {
     "name": "stdout",
     "output_type": "stream",
     "text": [
      "\n",
      "[clf_engine]  training loop: started for [20] updates; BS=[2500] LR=[5.880710291238337e-16]!\n"
     ]
    },
    {
     "data": {
      "application/vnd.jupyter.widget-view+json": {
       "model_id": "97a061116de3459981e42d9e0122e102",
       "version_major": 2,
       "version_minor": 0
      },
      "text/plain": [
       "HBox(children=(FloatProgress(value=0.0, max=10.0), HTML(value='')))"
      ]
     },
     "metadata": {},
     "output_type": "display_data"
    },
    {
     "name": "stdout",
     "output_type": "stream",
     "text": [
      "\n",
      "[clf_engine]  training loop: started for [10] updates; BS=[2500] LR=[5.880710291238337e-16]!\n"
     ]
    },
    {
     "data": {
      "application/vnd.jupyter.widget-view+json": {
       "model_id": "6739b02ac23a4224b04a63b3676d91e9",
       "version_major": 2,
       "version_minor": 0
      },
      "text/plain": [
       "HBox(children=(FloatProgress(value=0.0, max=10.0), HTML(value='')))"
      ]
     },
     "metadata": {},
     "output_type": "display_data"
    },
    {
     "name": "stdout",
     "output_type": "stream",
     "text": [
      "\n",
      "[clf_engine]  training loop: done!\n",
      "[ATE:94]  delta is: [-0.3687]; scaled delta is [-0.0369]\n",
      "[ATE:94]  [1.9032667875289917, 1.9565941095352173, 1.8942599296569824, 1.9031322002410889, 1.914765477180481, 1.9176148176193237, 1.9154798984527588, 1.905288815498352, 1.9122767448425293, 1.9211759567260742]\n",
      "[ATE:94]  [2.27419925 2.28673053 2.30819416 2.27074909 2.28877974 2.28815985\n",
      " 2.29094744 2.29498577 2.27671409 2.25172949]\n",
      "[ATE:94]  reward at the end of time step is [-0.03687334656715393]\n",
      "[ATA] optimization step performed\n",
      "[ATA episode 0]: took [9.7] seconds for one full step\n",
      "[ATE:94]  action [[1.52069148 0.58749856 0.35714525 0.20068279]] recieved\n",
      "[clf_engine]  scaled BS by [1.5206914805637022]; BS=[2500]\n",
      "[clf_engine]  scaled LR by [0.5874985579504074]; LR=[5.880710291238337e-16]\n",
      "[clf_engine]  training loop: started for [30] updates; BS=[2500] LR=[3.4549088158266433e-16]!\n"
     ]
    },
    {
     "data": {
      "application/vnd.jupyter.widget-view+json": {
       "model_id": "5c2c265e8a45432491018001fb2475d8",
       "version_major": 2,
       "version_minor": 0
      },
      "text/plain": [
       "HBox(children=(FloatProgress(value=0.0, max=10.0), HTML(value='')))"
      ]
     },
     "metadata": {},
     "output_type": "display_data"
    },
    {
     "name": "stdout",
     "output_type": "stream",
     "text": [
      "\n",
      "[clf_engine]  training loop: started for [20] updates; BS=[2500] LR=[3.4549088158266433e-16]!\n"
     ]
    },
    {
     "data": {
      "application/vnd.jupyter.widget-view+json": {
       "model_id": "a4a7444bf56943d9bd0821e3bdd05040",
       "version_major": 2,
       "version_minor": 0
      },
      "text/plain": [
       "HBox(children=(FloatProgress(value=0.0, max=10.0), HTML(value='')))"
      ]
     },
     "metadata": {},
     "output_type": "display_data"
    },
    {
     "name": "stdout",
     "output_type": "stream",
     "text": [
      "\n",
      "[clf_engine]  training loop: started for [10] updates; BS=[2500] LR=[3.4549088158266433e-16]!\n"
     ]
    },
    {
     "data": {
      "application/vnd.jupyter.widget-view+json": {
       "model_id": "71a5fb55fb5b493c8f9d9e7e32009756",
       "version_major": 2,
       "version_minor": 0
      },
      "text/plain": [
       "HBox(children=(FloatProgress(value=0.0, max=10.0), HTML(value='')))"
      ]
     },
     "metadata": {},
     "output_type": "display_data"
    },
    {
     "name": "stdout",
     "output_type": "stream",
     "text": [
      "\n",
      "[clf_engine]  training loop: done!\n",
      "[ATE:95]  delta is: [-0.3637]; scaled delta is [-0.0364]\n",
      "[ATE:95]  [1.910036563873291, 1.9333816766738892, 1.9231832027435303, 1.8893494606018066, 1.9166440963745117, 1.8904114961624146, 1.9161890745162964, 1.9082894325256348, 1.9324654340744019, 1.928146481513977]\n",
      "[ATE:95]  [2.28768945 2.25830674 2.25349402 2.27283144 2.28528523 2.290416\n",
      " 2.28490138 2.31389427 2.2410903  2.29692936]\n",
      "[ATE:95]  reward at the end of time step is [-0.03636741280555727]\n",
      "[ATA] optimization step performed\n",
      "[ATA episode 0]: took [10.1] seconds for one full step\n",
      "[ATE:95]  action [[1.51213273 0.55731477 0.3033518  0.20120986]] recieved\n",
      "[clf_engine]  scaled BS by [1.5121327318556321]; BS=[2500]\n",
      "[clf_engine]  scaled LR by [0.5573147684164469]; LR=[3.4549088158266433e-16]\n",
      "[clf_engine]  training loop: started for [30] updates; BS=[2500] LR=[1.9254717065923665e-16]!\n"
     ]
    },
    {
     "data": {
      "application/vnd.jupyter.widget-view+json": {
       "model_id": "ab3b5dd43bae4e248c2752ee1c214753",
       "version_major": 2,
       "version_minor": 0
      },
      "text/plain": [
       "HBox(children=(FloatProgress(value=0.0, max=10.0), HTML(value='')))"
      ]
     },
     "metadata": {},
     "output_type": "display_data"
    },
    {
     "name": "stdout",
     "output_type": "stream",
     "text": [
      "\n",
      "[clf_engine]  training loop: started for [20] updates; BS=[2500] LR=[1.9254717065923665e-16]!\n"
     ]
    },
    {
     "data": {
      "application/vnd.jupyter.widget-view+json": {
       "model_id": "54c2ae56dcff4c698fa9d131f1bd721d",
       "version_major": 2,
       "version_minor": 0
      },
      "text/plain": [
       "HBox(children=(FloatProgress(value=0.0, max=10.0), HTML(value='')))"
      ]
     },
     "metadata": {},
     "output_type": "display_data"
    },
    {
     "name": "stdout",
     "output_type": "stream",
     "text": [
      "\n",
      "[clf_engine]  training loop: started for [10] updates; BS=[2500] LR=[1.9254717065923665e-16]!\n"
     ]
    },
    {
     "data": {
      "application/vnd.jupyter.widget-view+json": {
       "model_id": "a57dfdd63fb84fe1ae787e08b2d1f38d",
       "version_major": 2,
       "version_minor": 0
      },
      "text/plain": [
       "HBox(children=(FloatProgress(value=0.0, max=10.0), HTML(value='')))"
      ]
     },
     "metadata": {},
     "output_type": "display_data"
    },
    {
     "name": "stdout",
     "output_type": "stream",
     "text": [
      "\n",
      "[clf_engine]  training loop: done!\n",
      "[ATE:96]  delta is: [-0.3572]; scaled delta is [-0.0357]\n",
      "[ATE:96]  [1.9034044742584229, 1.9274898767471313, 1.9097551107406616, 1.8971617221832275, 1.909693717956543, 1.9256058931350708, 1.9229506254196167, 1.9016532897949219, 1.9266791343688965, 1.9089044332504272]\n",
      "[ATE:96]  [2.26099443 2.28913522 2.26307034 2.26413178 2.2511611  2.26573372\n",
      " 2.2788341  2.2720685  2.25899649 2.30160856]\n",
      "[ATE:96]  reward at the end of time step is [-0.03572435975074766]\n",
      "[ATA] optimization step performed\n",
      "[ATA episode 0]: took [9.7] seconds for one full step\n",
      "[ATE:96]  action [[1.66890145 0.61182603 0.31817441 0.19784217]] recieved\n",
      "[clf_engine]  scaled BS by [1.6689014496610795]; BS=[2500]\n",
      "[clf_engine]  scaled LR by [0.6118260312780683]; LR=[1.9254717065923665e-16]\n",
      "[clf_engine]  training loop: started for [30] updates; BS=[2500] LR=[1.1780537125826167e-16]!\n"
     ]
    },
    {
     "data": {
      "application/vnd.jupyter.widget-view+json": {
       "model_id": "caf0762fbcf0418390c22f04866f8f36",
       "version_major": 2,
       "version_minor": 0
      },
      "text/plain": [
       "HBox(children=(FloatProgress(value=0.0, max=10.0), HTML(value='')))"
      ]
     },
     "metadata": {},
     "output_type": "display_data"
    },
    {
     "name": "stdout",
     "output_type": "stream",
     "text": [
      "\n",
      "[clf_engine]  training loop: started for [20] updates; BS=[2500] LR=[1.1780537125826167e-16]!\n"
     ]
    },
    {
     "data": {
      "application/vnd.jupyter.widget-view+json": {
       "model_id": "a151e517db3647ea92aa054cff263c05",
       "version_major": 2,
       "version_minor": 0
      },
      "text/plain": [
       "HBox(children=(FloatProgress(value=0.0, max=10.0), HTML(value='')))"
      ]
     },
     "metadata": {},
     "output_type": "display_data"
    },
    {
     "name": "stdout",
     "output_type": "stream",
     "text": [
      "\n",
      "[clf_engine]  training loop: started for [10] updates; BS=[2500] LR=[1.1780537125826167e-16]!\n"
     ]
    },
    {
     "data": {
      "application/vnd.jupyter.widget-view+json": {
       "model_id": "a6288f2751ce45478172c6d8a3a15967",
       "version_major": 2,
       "version_minor": 0
      },
      "text/plain": [
       "HBox(children=(FloatProgress(value=0.0, max=10.0), HTML(value='')))"
      ]
     },
     "metadata": {},
     "output_type": "display_data"
    },
    {
     "name": "stdout",
     "output_type": "stream",
     "text": [
      "\n",
      "[clf_engine]  training loop: done!\n",
      "[ATE:97]  delta is: [-0.3565]; scaled delta is [-0.0357]\n",
      "[ATE:97]  [1.9314576387405396, 1.9144489765167236, 1.91871976852417, 1.9045566320419312, 1.9147273302078247, 1.9134429693222046, 1.906912088394165, 1.9050877094268799, 1.917528510093689, 1.9033291339874268]\n",
      "[ATE:97]  [2.23996234 2.3074162  2.29298997 2.28625727 2.2429018  2.282583\n",
      " 2.26724792 2.25393271 2.29619241 2.22618961]\n",
      "[ATE:97]  reward at the end of time step is [-0.03565462470054628]\n",
      "[ATA] optimization step performed\n",
      "[ATA episode 0]: took [9.6] seconds for one full step\n",
      "[ATE:97]  action [[1.5704463  0.53963578 0.28146747 0.17234923]] recieved\n",
      "[clf_engine]  scaled BS by [1.5704463034512373]; BS=[2500]\n",
      "[clf_engine]  scaled LR by [0.5396357785797788]; LR=[1.1780537125826167e-16]\n",
      "[clf_engine]  training loop: started for [30] updates; BS=[2500] LR=[6.357199323983194e-17]!\n"
     ]
    },
    {
     "data": {
      "application/vnd.jupyter.widget-view+json": {
       "model_id": "80c5cbc855224a8f87b505230fa776c5",
       "version_major": 2,
       "version_minor": 0
      },
      "text/plain": [
       "HBox(children=(FloatProgress(value=0.0, max=10.0), HTML(value='')))"
      ]
     },
     "metadata": {},
     "output_type": "display_data"
    },
    {
     "name": "stdout",
     "output_type": "stream",
     "text": [
      "\n",
      "[clf_engine]  training loop: started for [20] updates; BS=[2500] LR=[6.357199323983194e-17]!\n"
     ]
    },
    {
     "data": {
      "application/vnd.jupyter.widget-view+json": {
       "model_id": "ccf0faa06d12453997f17115c88a7f0b",
       "version_major": 2,
       "version_minor": 0
      },
      "text/plain": [
       "HBox(children=(FloatProgress(value=0.0, max=10.0), HTML(value='')))"
      ]
     },
     "metadata": {},
     "output_type": "display_data"
    },
    {
     "name": "stdout",
     "output_type": "stream",
     "text": [
      "\n",
      "[clf_engine]  training loop: started for [10] updates; BS=[2500] LR=[6.357199323983194e-17]!\n"
     ]
    },
    {
     "data": {
      "application/vnd.jupyter.widget-view+json": {
       "model_id": "7224e0f6f5464a989c48e411b23b05d9",
       "version_major": 2,
       "version_minor": 0
      },
      "text/plain": [
       "HBox(children=(FloatProgress(value=0.0, max=10.0), HTML(value='')))"
      ]
     },
     "metadata": {},
     "output_type": "display_data"
    },
    {
     "name": "stdout",
     "output_type": "stream",
     "text": [
      "\n",
      "[clf_engine]  training loop: done!\n",
      "[ATE:98]  delta is: [-0.3641]; scaled delta is [-0.0364]\n",
      "[ATE:98]  [1.9127683639526367, 1.9306697845458984, 1.931475043296814, 1.9010175466537476, 1.9061814546585083, 1.9307734966278076, 1.909501314163208, 1.9021259546279907, 1.9318550825119019, 1.9217498302459717]\n",
      "[ATE:98]  [2.28743911 2.2643342  2.2865088  2.27407789 2.2704041  2.33878899\n",
      " 2.29788661 2.26699328 2.26840258 2.26396275]\n",
      "[ATE:98]  reward at the end of time step is [-0.03640680432319639]\n",
      "[ATA] optimization step performed\n",
      "[ATA episode 0]: took [9.5] seconds for one full step\n",
      "[ATE:98]  action [[1.63641755 0.57690588 0.24878597 0.15877521]] recieved\n",
      "[clf_engine]  scaled BS by [1.6364175451836562]; BS=[2500]\n",
      "[clf_engine]  scaled LR by [0.5769058768465426]; LR=[6.357199323983194e-17]\n",
      "[clf_engine]  training loop: started for [30] updates; BS=[2500] LR=[3.667505650290773e-17]!\n"
     ]
    },
    {
     "data": {
      "application/vnd.jupyter.widget-view+json": {
       "model_id": "f06ee6d85bea4e2c92859d2262fa5f4a",
       "version_major": 2,
       "version_minor": 0
      },
      "text/plain": [
       "HBox(children=(FloatProgress(value=0.0, max=10.0), HTML(value='')))"
      ]
     },
     "metadata": {},
     "output_type": "display_data"
    },
    {
     "name": "stdout",
     "output_type": "stream",
     "text": [
      "\n",
      "[clf_engine]  training loop: started for [20] updates; BS=[2500] LR=[3.667505650290773e-17]!\n"
     ]
    },
    {
     "data": {
      "application/vnd.jupyter.widget-view+json": {
       "model_id": "8fff049a07b34c918e85c36e0aa1e0ec",
       "version_major": 2,
       "version_minor": 0
      },
      "text/plain": [
       "HBox(children=(FloatProgress(value=0.0, max=10.0), HTML(value='')))"
      ]
     },
     "metadata": {},
     "output_type": "display_data"
    },
    {
     "name": "stdout",
     "output_type": "stream",
     "text": [
      "\n",
      "[clf_engine]  training loop: started for [10] updates; BS=[2500] LR=[3.667505650290773e-17]!\n"
     ]
    },
    {
     "data": {
      "application/vnd.jupyter.widget-view+json": {
       "model_id": "3ff20b8ee41b43f4a1c72d88cc1b03b5",
       "version_major": 2,
       "version_minor": 0
      },
      "text/plain": [
       "HBox(children=(FloatProgress(value=0.0, max=10.0), HTML(value='')))"
      ]
     },
     "metadata": {},
     "output_type": "display_data"
    },
    {
     "name": "stdout",
     "output_type": "stream",
     "text": [
      "\n",
      "[clf_engine]  training loop: done!\n",
      "[ATE:99]  delta is: [-0.3590]; scaled delta is [-0.0359]\n",
      "[ATE:99]  [1.8998353481292725, 1.8995740413665771, 1.9098626375198364, 1.9283826351165771, 1.9403105974197388, 1.9157640933990479, 1.907502293586731, 1.9168195724487305, 1.9165555238723755, 1.922364592552185]\n",
      "[ATE:99]  [2.23472667 2.27929735 2.29133677 2.27380896 2.25930262 2.28580832\n",
      " 2.31762409 2.25433588 2.25001025 2.3008256 ]\n",
      "[ATE:99]  reward at the end of time step is [-0.03590105175971985]\n",
      "[ATA] optimization step performed\n",
      "[ATA episode 0]: took [10.1] seconds for one full step\n",
      "[ATE:99]  action [[1.59711836 0.46732549 0.20141341 0.17762033]] recieved\n",
      "[clf_engine]  scaled BS by [1.5971183553475568]; BS=[2500]\n",
      "[clf_engine]  scaled LR by [0.46732549266642465]; LR=[3.667505650290773e-17]\n",
      "[clf_engine]  training loop: started for [30] updates; BS=[2500] LR=[1.7139188848790316e-17]!\n"
     ]
    },
    {
     "data": {
      "application/vnd.jupyter.widget-view+json": {
       "model_id": "41bd16bbb4c341c399f76a57842722cb",
       "version_major": 2,
       "version_minor": 0
      },
      "text/plain": [
       "HBox(children=(FloatProgress(value=0.0, max=10.0), HTML(value='')))"
      ]
     },
     "metadata": {},
     "output_type": "display_data"
    },
    {
     "name": "stdout",
     "output_type": "stream",
     "text": [
      "\n",
      "[clf_engine]  training loop: started for [20] updates; BS=[2500] LR=[1.7139188848790316e-17]!\n"
     ]
    },
    {
     "data": {
      "application/vnd.jupyter.widget-view+json": {
       "model_id": "4abca32fc3b44c46a22250c0a4b620fa",
       "version_major": 2,
       "version_minor": 0
      },
      "text/plain": [
       "HBox(children=(FloatProgress(value=0.0, max=10.0), HTML(value='')))"
      ]
     },
     "metadata": {},
     "output_type": "display_data"
    },
    {
     "name": "stdout",
     "output_type": "stream",
     "text": [
      "\n",
      "[clf_engine]  training loop: started for [10] updates; BS=[2500] LR=[1.7139188848790316e-17]!\n"
     ]
    },
    {
     "data": {
      "application/vnd.jupyter.widget-view+json": {
       "model_id": "7b3a88233af84033b44b7116ee3b15f0",
       "version_major": 2,
       "version_minor": 0
      },
      "text/plain": [
       "HBox(children=(FloatProgress(value=0.0, max=10.0), HTML(value='')))"
      ]
     },
     "metadata": {},
     "output_type": "display_data"
    },
    {
     "name": "stdout",
     "output_type": "stream",
     "text": [
      "\n",
      "[clf_engine]  training loop: done!\n"
     ]
    },
    {
     "data": {
      "application/vnd.jupyter.widget-view+json": {
       "model_id": "bde8df8c400c43a3a2feacde93d3cddd",
       "version_major": 2,
       "version_minor": 0
      },
      "text/plain": [
       "HBox(children=(FloatProgress(value=0.0, max=1563.0), HTML(value='')))"
      ]
     },
     "metadata": {},
     "output_type": "display_data"
    },
    {
     "name": "stdout",
     "output_type": "stream",
     "text": [
      "\n"
     ]
    },
    {
     "data": {
      "application/vnd.jupyter.widget-view+json": {
       "model_id": "2d9c7e1a4c504c4aae91fd4072a2cfeb",
       "version_major": 2,
       "version_minor": 0
      },
      "text/plain": [
       "HBox(children=(FloatProgress(value=0.0, max=625.0), HTML(value='')))"
      ]
     },
     "metadata": {},
     "output_type": "display_data"
    },
    {
     "name": "stdout",
     "output_type": "stream",
     "text": [
      "\n",
      "[ATE:100]  delta is: [-0.3519]; scaled delta is [-0.0352]\n",
      "[ATE:100]  [1.9230464696884155, 1.9030370712280273, 1.9076218605041504, 1.904659628868103, 1.8945322036743164, 1.9435451030731201, 1.9176267385482788, 1.9455459117889404, 1.9088290929794312, 1.9178332090377808]\n",
      "[ATE:100]  [2.27203512 2.27715278 2.26390886 2.27562547 2.24908543 2.28125381\n",
      " 2.22009587 2.3073175  2.21926594 2.31954408]\n",
      "[ATE:100]  reward at the end of time step is [-0.035190075635910034]\n",
      "[ATA] optimization step performed\n",
      "[ATA episode 0]: took [14.5] seconds for one full step\n",
      "[ATE:100]  action [[1.64917011 0.60082817 0.18457541 0.19672471]] recieved\n",
      "[clf_engine]  scaled BS by [1.6491701053002445]; BS=[2500]\n",
      "[clf_engine]  scaled LR by [0.6008281658252589]; LR=[1.7139188848790316e-17]\n",
      "[clf_engine]  training loop: started for [30] updates; BS=[2500] LR=[1.0297707399751415e-17]!\n"
     ]
    },
    {
     "data": {
      "application/vnd.jupyter.widget-view+json": {
       "model_id": "24da6570346b454084f0577732df57be",
       "version_major": 2,
       "version_minor": 0
      },
      "text/plain": [
       "HBox(children=(FloatProgress(value=0.0, max=10.0), HTML(value='')))"
      ]
     },
     "metadata": {},
     "output_type": "display_data"
    },
    {
     "name": "stdout",
     "output_type": "stream",
     "text": [
      "\n",
      "[clf_engine]  training loop: started for [20] updates; BS=[2500] LR=[1.0297707399751415e-17]!\n"
     ]
    },
    {
     "data": {
      "application/vnd.jupyter.widget-view+json": {
       "model_id": "df734d4e09a04cecb6f0291552e510ca",
       "version_major": 2,
       "version_minor": 0
      },
      "text/plain": [
       "HBox(children=(FloatProgress(value=0.0, max=10.0), HTML(value='')))"
      ]
     },
     "metadata": {},
     "output_type": "display_data"
    },
    {
     "name": "stdout",
     "output_type": "stream",
     "text": [
      "\n",
      "[clf_engine]  training loop: started for [10] updates; BS=[2500] LR=[1.0297707399751415e-17]!\n"
     ]
    },
    {
     "data": {
      "application/vnd.jupyter.widget-view+json": {
       "model_id": "587334edd3d049a39aba371c9940380e",
       "version_major": 2,
       "version_minor": 0
      },
      "text/plain": [
       "HBox(children=(FloatProgress(value=0.0, max=10.0), HTML(value='')))"
      ]
     },
     "metadata": {},
     "output_type": "display_data"
    },
    {
     "name": "stdout",
     "output_type": "stream",
     "text": [
      "\n",
      "[clf_engine]  training loop: done!\n",
      "[ATE:101]  delta is: [-0.3619]; scaled delta is [-0.0362]\n",
      "[ATE:101]  [1.8929523229599, 1.9130792617797852, 1.9193776845932007, 1.9181984663009644, 1.9103949069976807, 1.936937689781189, 1.9115976095199585, 1.9031126499176025, 1.9019486904144287, 1.9094945192337036]\n",
      "[ATE:101]  [2.25232077 2.28777742 2.2767055  2.2732935  2.30741596 2.29215431\n",
      " 2.2217145  2.26697445 2.27308106 2.28450441]\n",
      "[ATE:101]  reward at the end of time step is [-0.036188480854034415]\n",
      "[ATA] optimization step performed\n",
      "[ATA episode 0]: took [9.7] seconds for one full step\n",
      "[ATE:101]  action [[1.65194348 0.58423906 0.1814028  0.2118356 ]] recieved\n",
      "[clf_engine]  scaled BS by [1.651943478938757]; BS=[2500]\n",
      "[clf_engine]  scaled LR by [0.5842390601412687]; LR=[1.0297707399751415e-17]\n",
      "[clf_engine]  training loop: started for [30] updates; BS=[2500] LR=[6.016322892840554e-18]!\n"
     ]
    },
    {
     "data": {
      "application/vnd.jupyter.widget-view+json": {
       "model_id": "4a0ffe2f62c947b19192801ce3254a36",
       "version_major": 2,
       "version_minor": 0
      },
      "text/plain": [
       "HBox(children=(FloatProgress(value=0.0, max=10.0), HTML(value='')))"
      ]
     },
     "metadata": {},
     "output_type": "display_data"
    },
    {
     "name": "stdout",
     "output_type": "stream",
     "text": [
      "\n",
      "[clf_engine]  training loop: started for [20] updates; BS=[2500] LR=[6.016322892840554e-18]!\n"
     ]
    },
    {
     "data": {
      "application/vnd.jupyter.widget-view+json": {
       "model_id": "afc3629ead514874a33b66a63dcb1d73",
       "version_major": 2,
       "version_minor": 0
      },
      "text/plain": [
       "HBox(children=(FloatProgress(value=0.0, max=10.0), HTML(value='')))"
      ]
     },
     "metadata": {},
     "output_type": "display_data"
    },
    {
     "name": "stdout",
     "output_type": "stream",
     "text": [
      "\n",
      "[clf_engine]  training loop: started for [10] updates; BS=[2500] LR=[6.016322892840554e-18]!\n"
     ]
    },
    {
     "data": {
      "application/vnd.jupyter.widget-view+json": {
       "model_id": "fa7e9a23aeed4d519422f6813f2bfcf5",
       "version_major": 2,
       "version_minor": 0
      },
      "text/plain": [
       "HBox(children=(FloatProgress(value=0.0, max=10.0), HTML(value='')))"
      ]
     },
     "metadata": {},
     "output_type": "display_data"
    },
    {
     "name": "stdout",
     "output_type": "stream",
     "text": [
      "\n",
      "[clf_engine]  training loop: done!\n",
      "[ATE:102]  delta is: [-0.3711]; scaled delta is [-0.0371]\n",
      "[ATE:102]  [1.9006139039993286, 1.9066932201385498, 1.9247444868087769, 1.9136766195297241, 1.898643970489502, 1.924440860748291, 1.9213998317718506, 1.91120445728302, 1.9104621410369873, 1.904955506324768]\n",
      "[ATE:102]  [2.29721689 2.3012774  2.30145216 2.29692817 2.28178668 2.25819206\n",
      " 2.26129842 2.26559711 2.27011943 2.29382467]\n",
      "[ATE:102]  reward at the end of time step is [-0.037108579874038705]\n",
      "[ATA] optimization step performed\n",
      "[ATA episode 0]: took [9.8] seconds for one full step\n",
      "[ATE:102]  action [[1.72212255 0.83750084 0.18168146 0.22730577]] recieved\n",
      "[clf_engine]  scaled BS by [1.722122552580483]; BS=[2500]\n",
      "[clf_engine]  scaled LR by [0.8375008353495736]; LR=[6.016322892840554e-18]\n",
      "[clf_engine]  training loop: started for [30] updates; BS=[2500] LR=[5.038675448486728e-18]!\n"
     ]
    },
    {
     "data": {
      "application/vnd.jupyter.widget-view+json": {
       "model_id": "7807e3fd37f14e55971bef01a704c2ca",
       "version_major": 2,
       "version_minor": 0
      },
      "text/plain": [
       "HBox(children=(FloatProgress(value=0.0, max=10.0), HTML(value='')))"
      ]
     },
     "metadata": {},
     "output_type": "display_data"
    },
    {
     "name": "stdout",
     "output_type": "stream",
     "text": [
      "\n",
      "[clf_engine]  training loop: started for [20] updates; BS=[2500] LR=[5.038675448486728e-18]!\n"
     ]
    },
    {
     "data": {
      "application/vnd.jupyter.widget-view+json": {
       "model_id": "89942278d29b4dd6b6a9eab1f969ef1d",
       "version_major": 2,
       "version_minor": 0
      },
      "text/plain": [
       "HBox(children=(FloatProgress(value=0.0, max=10.0), HTML(value='')))"
      ]
     },
     "metadata": {},
     "output_type": "display_data"
    },
    {
     "name": "stdout",
     "output_type": "stream",
     "text": [
      "\n",
      "[clf_engine]  training loop: started for [10] updates; BS=[2500] LR=[5.038675448486728e-18]!\n"
     ]
    },
    {
     "data": {
      "application/vnd.jupyter.widget-view+json": {
       "model_id": "24a1777fc3aa42aa89793a7c3b17e99d",
       "version_major": 2,
       "version_minor": 0
      },
      "text/plain": [
       "HBox(children=(FloatProgress(value=0.0, max=10.0), HTML(value='')))"
      ]
     },
     "metadata": {},
     "output_type": "display_data"
    },
    {
     "name": "stdout",
     "output_type": "stream",
     "text": [
      "\n",
      "[clf_engine]  training loop: done!\n",
      "[ATE:103]  delta is: [-0.3602]; scaled delta is [-0.0360]\n",
      "[ATE:103]  [1.925047516822815, 1.9116122722625732, 1.9070279598236084, 1.9334821701049805, 1.8928515911102295, 1.9074429273605347, 1.8893531560897827, 1.9364711046218872, 1.9112000465393066, 1.9282187223434448]\n",
      "[ATE:103]  [2.24887037 2.26530504 2.28378725 2.30038786 2.27439213 2.28265977\n",
      " 2.26386666 2.29432249 2.26130581 2.26983142]\n",
      "[ATE:103]  reward at the end of time step is [-0.03602021336555479]\n",
      "[ATA] optimization step performed\n",
      "[ATA episode 0]: took [9.3] seconds for one full step\n",
      "[ATE:103]  action [[1.61407034 0.96111071 0.16232217 0.2177291 ]] recieved\n",
      "[clf_engine]  scaled BS by [1.614070343589512]; BS=[2500]\n",
      "[clf_engine]  scaled LR by [0.9611107080272604]; LR=[5.038675448486728e-18]\n",
      "[clf_engine]  training loop: started for [30] updates; BS=[2500] LR=[4.8427249278146525e-18]!\n"
     ]
    },
    {
     "data": {
      "application/vnd.jupyter.widget-view+json": {
       "model_id": "e4b923f0ac10444396b2c875989b73e8",
       "version_major": 2,
       "version_minor": 0
      },
      "text/plain": [
       "HBox(children=(FloatProgress(value=0.0, max=10.0), HTML(value='')))"
      ]
     },
     "metadata": {},
     "output_type": "display_data"
    },
    {
     "name": "stdout",
     "output_type": "stream",
     "text": [
      "\n",
      "[clf_engine]  training loop: started for [20] updates; BS=[2500] LR=[4.8427249278146525e-18]!\n"
     ]
    },
    {
     "data": {
      "application/vnd.jupyter.widget-view+json": {
       "model_id": "01609e98551e4857aba82bf48a670959",
       "version_major": 2,
       "version_minor": 0
      },
      "text/plain": [
       "HBox(children=(FloatProgress(value=0.0, max=10.0), HTML(value='')))"
      ]
     },
     "metadata": {},
     "output_type": "display_data"
    },
    {
     "name": "stdout",
     "output_type": "stream",
     "text": [
      "\n",
      "[clf_engine]  training loop: started for [10] updates; BS=[2500] LR=[4.8427249278146525e-18]!\n"
     ]
    },
    {
     "data": {
      "application/vnd.jupyter.widget-view+json": {
       "model_id": "33bf17bf53284546a9d7dea63c1ec679",
       "version_major": 2,
       "version_minor": 0
      },
      "text/plain": [
       "HBox(children=(FloatProgress(value=0.0, max=10.0), HTML(value='')))"
      ]
     },
     "metadata": {},
     "output_type": "display_data"
    },
    {
     "name": "stdout",
     "output_type": "stream",
     "text": [
      "\n",
      "[clf_engine]  training loop: done!\n",
      "[ATE:104]  delta is: [-0.3741]; scaled delta is [-0.0374]\n",
      "[ATE:104]  [1.9230554103851318, 1.911195158958435, 1.9309134483337402, 1.9066609144210815, 1.8910351991653442, 1.9193031787872314, 1.8935014009475708, 1.9400261640548706, 1.9006177186965942, 1.924012541770935]\n",
      "[ATE:104]  [2.30060863 2.26715922 2.25575328 2.2969625  2.30266047 2.30098557\n",
      " 2.27987385 2.30534601 2.26829457 2.3032515 ]\n",
      "[ATE:104]  reward at the end of time step is [-0.03740574479103087]\n",
      "[ATA] optimization step performed\n",
      "[ATA episode 0]: took [12.1] seconds for one full step\n",
      "[ATE:104]  action [[1.64429279 0.97805284 0.19326982 0.256234  ]] recieved\n",
      "[clf_engine]  scaled BS by [1.644292788488289]; BS=[2500]\n",
      "[clf_engine]  scaled LR by [0.9780528399029595]; LR=[4.8427249278146525e-18]\n",
      "[clf_engine]  training loop: started for [30] updates; BS=[2500] LR=[4.736440868517976e-18]!\n"
     ]
    },
    {
     "data": {
      "application/vnd.jupyter.widget-view+json": {
       "model_id": "b67eb090bf5348b78994193d42b1d9b2",
       "version_major": 2,
       "version_minor": 0
      },
      "text/plain": [
       "HBox(children=(FloatProgress(value=0.0, max=10.0), HTML(value='')))"
      ]
     },
     "metadata": {},
     "output_type": "display_data"
    },
    {
     "name": "stdout",
     "output_type": "stream",
     "text": [
      "\n",
      "[clf_engine]  training loop: started for [20] updates; BS=[2500] LR=[4.736440868517976e-18]!\n"
     ]
    },
    {
     "data": {
      "application/vnd.jupyter.widget-view+json": {
       "model_id": "4c5b8df6117046bf89738b18a6e071cd",
       "version_major": 2,
       "version_minor": 0
      },
      "text/plain": [
       "HBox(children=(FloatProgress(value=0.0, max=10.0), HTML(value='')))"
      ]
     },
     "metadata": {},
     "output_type": "display_data"
    },
    {
     "name": "stdout",
     "output_type": "stream",
     "text": [
      "\n",
      "[clf_engine]  training loop: started for [10] updates; BS=[2500] LR=[4.736440868517976e-18]!\n"
     ]
    },
    {
     "data": {
      "application/vnd.jupyter.widget-view+json": {
       "model_id": "684034822b9b4728822d5f95705c3e7c",
       "version_major": 2,
       "version_minor": 0
      },
      "text/plain": [
       "HBox(children=(FloatProgress(value=0.0, max=10.0), HTML(value='')))"
      ]
     },
     "metadata": {},
     "output_type": "display_data"
    },
    {
     "name": "stdout",
     "output_type": "stream",
     "text": [
      "\n",
      "[clf_engine]  training loop: done!\n",
      "[ATE:105]  delta is: [-0.3555]; scaled delta is [-0.0356]\n",
      "[ATE:105]  [1.9330840110778809, 1.9094734191894531, 1.9253896474838257, 1.9253900051116943, 1.894453763961792, 1.8936283588409424, 1.903574824333191, 1.9415005445480347, 1.9081560373306274, 1.9184767007827759]\n",
      "[ATE:105]  [2.27033234 2.29656267 2.27110124 2.26686549 2.28240323 2.25650764\n",
      " 2.29052711 2.22702432 2.26512313 2.28212833]\n",
      "[ATE:105]  reward at the end of time step is [-0.035554481744766255]\n",
      "[ATA] optimization step performed\n",
      "[ATA episode 0]: took [9.3] seconds for one full step\n",
      "[ATE:105]  action [[1.59757079 0.68987454 0.20585679 0.30779114]] recieved\n",
      "[clf_engine]  scaled BS by [1.597570788879633]; BS=[2500]\n",
      "[clf_engine]  scaled LR by [0.6898745382631588]; LR=[4.736440868517976e-18]\n",
      "[clf_engine]  training loop: started for [30] updates; BS=[2500] LR=[3.2675499571795935e-18]!\n"
     ]
    },
    {
     "data": {
      "application/vnd.jupyter.widget-view+json": {
       "model_id": "5ec9f6779cb7466ea5a3e9f52eac9c4e",
       "version_major": 2,
       "version_minor": 0
      },
      "text/plain": [
       "HBox(children=(FloatProgress(value=0.0, max=10.0), HTML(value='')))"
      ]
     },
     "metadata": {},
     "output_type": "display_data"
    },
    {
     "name": "stdout",
     "output_type": "stream",
     "text": [
      "\n",
      "[clf_engine]  training loop: started for [20] updates; BS=[2500] LR=[3.2675499571795935e-18]!\n"
     ]
    },
    {
     "data": {
      "application/vnd.jupyter.widget-view+json": {
       "model_id": "da94590b51704475aac3e793c0af2e40",
       "version_major": 2,
       "version_minor": 0
      },
      "text/plain": [
       "HBox(children=(FloatProgress(value=0.0, max=10.0), HTML(value='')))"
      ]
     },
     "metadata": {},
     "output_type": "display_data"
    },
    {
     "name": "stdout",
     "output_type": "stream",
     "text": [
      "\n",
      "[clf_engine]  training loop: started for [10] updates; BS=[2500] LR=[3.2675499571795935e-18]!\n"
     ]
    },
    {
     "data": {
      "application/vnd.jupyter.widget-view+json": {
       "model_id": "af0f272e0a22470ba2f385197e56cb8e",
       "version_major": 2,
       "version_minor": 0
      },
      "text/plain": [
       "HBox(children=(FloatProgress(value=0.0, max=10.0), HTML(value='')))"
      ]
     },
     "metadata": {},
     "output_type": "display_data"
    },
    {
     "name": "stdout",
     "output_type": "stream",
     "text": [
      "\n",
      "[clf_engine]  training loop: done!\n",
      "[ATE:106]  delta is: [-0.3389]; scaled delta is [-0.0339]\n",
      "[ATE:106]  [1.9224883317947388, 1.9112650156021118, 1.8960784673690796, 1.900832176208496, 1.8950624465942383, 1.9346179962158203, 1.9216119050979614, 1.8917484283447266, 1.9268097877502441, 1.926507830619812]\n",
      "[ATE:106]  [2.2495091  2.2183075  2.27576399 2.27444363 2.19430184 2.23339772\n",
      " 2.25944042 2.24683285 2.26437664 2.29919624]\n",
      "[ATE:106]  reward at the end of time step is [-0.033885475397109975]\n",
      "[ATA] optimization step performed\n",
      "[ATA episode 0]: took [9.4] seconds for one full step\n",
      "[ATE:106]  action [[1.54005825 0.65193695 0.23810726 0.23479924]] recieved\n",
      "[clf_engine]  scaled BS by [1.5400582521177628]; BS=[2500]\n",
      "[clf_engine]  scaled LR by [0.6519369450449588]; LR=[3.2675499571795935e-18]\n",
      "[clf_engine]  training loop: started for [30] updates; BS=[2500] LR=[2.1302365368654503e-18]!\n"
     ]
    },
    {
     "data": {
      "application/vnd.jupyter.widget-view+json": {
       "model_id": "bd9cac80a50f474b9d4fe7e8596073f2",
       "version_major": 2,
       "version_minor": 0
      },
      "text/plain": [
       "HBox(children=(FloatProgress(value=0.0, max=10.0), HTML(value='')))"
      ]
     },
     "metadata": {},
     "output_type": "display_data"
    },
    {
     "name": "stdout",
     "output_type": "stream",
     "text": [
      "\n",
      "[clf_engine]  training loop: started for [20] updates; BS=[2500] LR=[2.1302365368654503e-18]!\n"
     ]
    },
    {
     "data": {
      "application/vnd.jupyter.widget-view+json": {
       "model_id": "fe463af9ce56478fbcb56c3df0371a4e",
       "version_major": 2,
       "version_minor": 0
      },
      "text/plain": [
       "HBox(children=(FloatProgress(value=0.0, max=10.0), HTML(value='')))"
      ]
     },
     "metadata": {},
     "output_type": "display_data"
    },
    {
     "name": "stdout",
     "output_type": "stream",
     "text": [
      "\n",
      "[clf_engine]  training loop: started for [10] updates; BS=[2500] LR=[2.1302365368654503e-18]!\n"
     ]
    },
    {
     "data": {
      "application/vnd.jupyter.widget-view+json": {
       "model_id": "c5c7e51abfe64bb49932cb14672d42e9",
       "version_major": 2,
       "version_minor": 0
      },
      "text/plain": [
       "HBox(children=(FloatProgress(value=0.0, max=10.0), HTML(value='')))"
      ]
     },
     "metadata": {},
     "output_type": "display_data"
    },
    {
     "name": "stdout",
     "output_type": "stream",
     "text": [
      "\n",
      "[clf_engine]  training loop: done!\n",
      "[ATE:107]  delta is: [-0.3722]; scaled delta is [-0.0372]\n",
      "[ATE:107]  [1.9312034845352173, 1.9094964265823364, 1.9082000255584717, 1.9234539270401, 1.9328292608261108, 1.8964203596115112, 1.9244105815887451, 1.8880568742752075, 1.9011300802230835, 1.9177120923995972]\n",
      "[ATE:107]  [2.28973532 2.28094363 2.29951429 2.27241659 2.27386904 2.31665254\n",
      " 2.27222919 2.30603838 2.27241445 2.27153134]\n",
      "[ATE:107]  reward at the end of time step is [-0.037224316596984865]\n",
      "[ATA] optimization step performed\n",
      "[ATA episode 0]: took [10.0] seconds for one full step\n",
      "[ATE:107]  action [[1.54678509 0.58899806 0.22439539 0.26254506]] recieved\n",
      "[clf_engine]  scaled BS by [1.5467850947542325]; BS=[2500]\n",
      "[clf_engine]  scaled LR by [0.5889980639122994]; LR=[2.1302365368654503e-18]\n",
      "[clf_engine]  training loop: started for [30] updates; BS=[2500] LR=[1.2547051958889917e-18]!\n"
     ]
    },
    {
     "data": {
      "application/vnd.jupyter.widget-view+json": {
       "model_id": "3c856eaff91e40ffaa31cc51847546e2",
       "version_major": 2,
       "version_minor": 0
      },
      "text/plain": [
       "HBox(children=(FloatProgress(value=0.0, max=10.0), HTML(value='')))"
      ]
     },
     "metadata": {},
     "output_type": "display_data"
    },
    {
     "name": "stdout",
     "output_type": "stream",
     "text": [
      "\n",
      "[clf_engine]  training loop: started for [20] updates; BS=[2500] LR=[1.2547051958889917e-18]!\n"
     ]
    },
    {
     "data": {
      "application/vnd.jupyter.widget-view+json": {
       "model_id": "9ad0b7b09dc54951afb2d0c62c9abe24",
       "version_major": 2,
       "version_minor": 0
      },
      "text/plain": [
       "HBox(children=(FloatProgress(value=0.0, max=10.0), HTML(value='')))"
      ]
     },
     "metadata": {},
     "output_type": "display_data"
    },
    {
     "name": "stdout",
     "output_type": "stream",
     "text": [
      "\n",
      "[clf_engine]  training loop: started for [10] updates; BS=[2500] LR=[1.2547051958889917e-18]!\n"
     ]
    },
    {
     "data": {
      "application/vnd.jupyter.widget-view+json": {
       "model_id": "689578319e0f4c74a140feda0593756c",
       "version_major": 2,
       "version_minor": 0
      },
      "text/plain": [
       "HBox(children=(FloatProgress(value=0.0, max=10.0), HTML(value='')))"
      ]
     },
     "metadata": {},
     "output_type": "display_data"
    },
    {
     "name": "stdout",
     "output_type": "stream",
     "text": [
      "\n",
      "[clf_engine]  training loop: done!\n",
      "[ATE:108]  delta is: [-0.3581]; scaled delta is [-0.0358]\n",
      "[ATE:108]  [1.9098892211914062, 1.9374343156814575, 1.936071515083313, 1.906581997871399, 1.8919769525527954, 1.9059380292892456, 1.9300118684768677, 1.9367324113845825, 1.9338933229446411, 1.8946853876113892]\n",
      "[ATE:108]  [2.28312874 2.26693511 2.28956985 2.28925538 2.26782155 2.2532866\n",
      " 2.27380681 2.27254152 2.31192732 2.25557756]\n",
      "[ATE:108]  reward at the end of time step is [-0.035806354284286517]\n",
      "[ATA] optimization step performed\n",
      "[ATA episode 0]: took [9.8] seconds for one full step\n",
      "[ATE:108]  action [[1.56043484 0.70267439 0.16774195 0.26298963]] recieved\n",
      "[clf_engine]  scaled BS by [1.560434837022035]; BS=[2500]\n",
      "[clf_engine]  scaled LR by [0.7026743946841748]; LR=[1.2547051958889917e-18]\n",
      "[clf_engine]  training loop: started for [30] updates; BS=[2500] LR=[8.816492140283863e-19]!\n"
     ]
    },
    {
     "data": {
      "application/vnd.jupyter.widget-view+json": {
       "model_id": "1e3c8ccf05494c85a3c553333e6d72fb",
       "version_major": 2,
       "version_minor": 0
      },
      "text/plain": [
       "HBox(children=(FloatProgress(value=0.0, max=10.0), HTML(value='')))"
      ]
     },
     "metadata": {},
     "output_type": "display_data"
    },
    {
     "name": "stdout",
     "output_type": "stream",
     "text": [
      "\n",
      "[clf_engine]  training loop: started for [20] updates; BS=[2500] LR=[8.816492140283863e-19]!\n"
     ]
    },
    {
     "data": {
      "application/vnd.jupyter.widget-view+json": {
       "model_id": "1a52896f3b6d4c0389984c84691cfd73",
       "version_major": 2,
       "version_minor": 0
      },
      "text/plain": [
       "HBox(children=(FloatProgress(value=0.0, max=10.0), HTML(value='')))"
      ]
     },
     "metadata": {},
     "output_type": "display_data"
    },
    {
     "name": "stdout",
     "output_type": "stream",
     "text": [
      "\n",
      "[clf_engine]  training loop: started for [10] updates; BS=[2500] LR=[8.816492140283863e-19]!\n"
     ]
    },
    {
     "data": {
      "application/vnd.jupyter.widget-view+json": {
       "model_id": "79e171dcd8a242a180c80701730fdcb7",
       "version_major": 2,
       "version_minor": 0
      },
      "text/plain": [
       "HBox(children=(FloatProgress(value=0.0, max=10.0), HTML(value='')))"
      ]
     },
     "metadata": {},
     "output_type": "display_data"
    },
    {
     "name": "stdout",
     "output_type": "stream",
     "text": [
      "\n",
      "[clf_engine]  training loop: done!\n",
      "[ATE:109]  delta is: [-0.3384]; scaled delta is [-0.0338]\n",
      "[ATE:109]  [1.942263126373291, 1.9176597595214844, 1.8987985849380493, 1.8836513757705688, 1.8901115655899048, 1.921282410621643, 1.9138410091400146, 1.9315414428710938, 1.9231339693069458, 1.9202208518981934]\n",
      "[ATE:109]  [2.28329968 2.25935984 2.26703453 2.21329689 2.26714373 2.25381422\n",
      " 2.25235701 2.25177932 2.23613572 2.24207282]\n",
      "[ATE:109]  reward at the end of time step is [-0.03383789658546448]\n",
      "[ATA] optimization step performed\n",
      "[ATA episode 0]: took [9.9] seconds for one full step\n",
      "[ATE:109]  action [[1.63185565 0.91470103 0.16792063 0.23428249]] recieved\n",
      "[clf_engine]  scaled BS by [1.631855645393258]; BS=[2500]\n",
      "[clf_engine]  scaled LR by [0.9147010312386532]; LR=[8.816492140283863e-19]\n",
      "[clf_engine]  training loop: started for [30] updates; BS=[2500] LR=[8.06445445262513e-19]!\n"
     ]
    },
    {
     "data": {
      "application/vnd.jupyter.widget-view+json": {
       "model_id": "ff11a0ce0665483e95a45f541922d3cd",
       "version_major": 2,
       "version_minor": 0
      },
      "text/plain": [
       "HBox(children=(FloatProgress(value=0.0, max=10.0), HTML(value='')))"
      ]
     },
     "metadata": {},
     "output_type": "display_data"
    },
    {
     "name": "stdout",
     "output_type": "stream",
     "text": [
      "\n",
      "[clf_engine]  training loop: started for [20] updates; BS=[2500] LR=[8.06445445262513e-19]!\n"
     ]
    },
    {
     "data": {
      "application/vnd.jupyter.widget-view+json": {
       "model_id": "d7219416f928490591b4ee9657b14951",
       "version_major": 2,
       "version_minor": 0
      },
      "text/plain": [
       "HBox(children=(FloatProgress(value=0.0, max=10.0), HTML(value='')))"
      ]
     },
     "metadata": {},
     "output_type": "display_data"
    },
    {
     "name": "stdout",
     "output_type": "stream",
     "text": [
      "\n",
      "[clf_engine]  training loop: started for [10] updates; BS=[2500] LR=[8.06445445262513e-19]!\n"
     ]
    },
    {
     "data": {
      "application/vnd.jupyter.widget-view+json": {
       "model_id": "2d1591edd3994d54bd906737e1c988cf",
       "version_major": 2,
       "version_minor": 0
      },
      "text/plain": [
       "HBox(children=(FloatProgress(value=0.0, max=10.0), HTML(value='')))"
      ]
     },
     "metadata": {},
     "output_type": "display_data"
    },
    {
     "name": "stdout",
     "output_type": "stream",
     "text": [
      "\n",
      "[clf_engine]  training loop: done!\n"
     ]
    },
    {
     "data": {
      "application/vnd.jupyter.widget-view+json": {
       "model_id": "0ea650e3ef18445abdc03043dff069d7",
       "version_major": 2,
       "version_minor": 0
      },
      "text/plain": [
       "HBox(children=(FloatProgress(value=0.0, max=1563.0), HTML(value='')))"
      ]
     },
     "metadata": {},
     "output_type": "display_data"
    },
    {
     "name": "stdout",
     "output_type": "stream",
     "text": [
      "\n"
     ]
    },
    {
     "data": {
      "application/vnd.jupyter.widget-view+json": {
       "model_id": "df495c79cc0e4d6db0744b25729309e4",
       "version_major": 2,
       "version_minor": 0
      },
      "text/plain": [
       "HBox(children=(FloatProgress(value=0.0, max=625.0), HTML(value='')))"
      ]
     },
     "metadata": {},
     "output_type": "display_data"
    },
    {
     "name": "stdout",
     "output_type": "stream",
     "text": [
      "\n",
      "[ATE:110]  delta is: [-0.3577]; scaled delta is [-0.0358]\n",
      "[ATE:110]  [1.9242351055145264, 1.9043056964874268, 1.9307172298431396, 1.9013653993606567, 1.9052612781524658, 1.9080473184585571, 1.8817275762557983, 1.9271763563156128, 1.929051399230957, 1.9112193584442139]\n",
      "[ATE:110]  [2.26636457 2.27510166 2.2814436  2.26416898 2.26865149 2.28248692\n",
      " 2.25272775 2.31119227 2.27929425 2.21842718]\n",
      "[ATE:110]  reward at the end of time step is [-0.03576751947402956]\n",
      "[ATA] optimization step performed\n",
      "[ATA episode 0]: took [14.8] seconds for one full step\n",
      "[ATE:110]  action [[1.59708338 1.03783675 0.21426849 0.22818104]] recieved\n",
      "[clf_engine]  scaled BS by [1.5970833849826518]; BS=[2500]\n",
      "[clf_engine]  scaled LR by [1.0378367483683495]; LR=[8.06445445262513e-19]\n",
      "[clf_engine]  training loop: started for [30] updates; BS=[2500] LR=[8.369587186477123e-19]!\n"
     ]
    },
    {
     "data": {
      "application/vnd.jupyter.widget-view+json": {
       "model_id": "71e77e25b23141bca5244b16f7c2c33b",
       "version_major": 2,
       "version_minor": 0
      },
      "text/plain": [
       "HBox(children=(FloatProgress(value=0.0, max=10.0), HTML(value='')))"
      ]
     },
     "metadata": {},
     "output_type": "display_data"
    },
    {
     "name": "stdout",
     "output_type": "stream",
     "text": [
      "\n",
      "[clf_engine]  training loop: started for [20] updates; BS=[2500] LR=[8.369587186477123e-19]!\n"
     ]
    },
    {
     "data": {
      "application/vnd.jupyter.widget-view+json": {
       "model_id": "17417bb1c5c24c3688936a4c98f36423",
       "version_major": 2,
       "version_minor": 0
      },
      "text/plain": [
       "HBox(children=(FloatProgress(value=0.0, max=10.0), HTML(value='')))"
      ]
     },
     "metadata": {},
     "output_type": "display_data"
    },
    {
     "name": "stdout",
     "output_type": "stream",
     "text": [
      "\n",
      "[clf_engine]  training loop: started for [10] updates; BS=[2500] LR=[8.369587186477123e-19]!\n"
     ]
    },
    {
     "data": {
      "application/vnd.jupyter.widget-view+json": {
       "model_id": "dec856f163304ba895c78894492a1ba5",
       "version_major": 2,
       "version_minor": 0
      },
      "text/plain": [
       "HBox(children=(FloatProgress(value=0.0, max=10.0), HTML(value='')))"
      ]
     },
     "metadata": {},
     "output_type": "display_data"
    },
    {
     "name": "stdout",
     "output_type": "stream",
     "text": [
      "\n",
      "[clf_engine]  training loop: done!\n",
      "[ATE:111]  delta is: [-0.3404]; scaled delta is [-0.0340]\n",
      "[ATE:111]  [1.902499794960022, 1.9275898933410645, 1.934387445449829, 1.9054759740829468, 1.8781148195266724, 1.9057048559188843, 1.8931007385253906, 1.935438871383667, 1.9115852117538452, 1.9224488735198975]\n",
      "[ATE:111]  [2.24056864 2.26176715 2.24708128 2.22030377 2.26902175 2.27573442\n",
      " 2.28092313 2.23945403 2.24528193 2.24052262]\n",
      "[ATE:111]  reward at the end of time step is [-0.03404312252998354]\n",
      "[ATA] optimization step performed\n",
      "[ATA episode 0]: took [10.0] seconds for one full step\n",
      "[ATE:111]  action [[1.61700463 1.0745033  0.21522968 0.20108329]] recieved\n",
      "[clf_engine]  scaled BS by [1.6170046300533176]; BS=[2500]\n",
      "[clf_engine]  scaled LR by [1.0745032964291852]; LR=[8.369587186477123e-19]\n",
      "[clf_engine]  training loop: started for [30] updates; BS=[2500] LR=[8.993149021621137e-19]!\n"
     ]
    },
    {
     "data": {
      "application/vnd.jupyter.widget-view+json": {
       "model_id": "5d0e3cd8ada74e3f8338fecb0002ceb5",
       "version_major": 2,
       "version_minor": 0
      },
      "text/plain": [
       "HBox(children=(FloatProgress(value=0.0, max=10.0), HTML(value='')))"
      ]
     },
     "metadata": {},
     "output_type": "display_data"
    },
    {
     "name": "stdout",
     "output_type": "stream",
     "text": [
      "\n",
      "[clf_engine]  training loop: started for [20] updates; BS=[2500] LR=[8.993149021621137e-19]!\n"
     ]
    },
    {
     "data": {
      "application/vnd.jupyter.widget-view+json": {
       "model_id": "5b84c31ed9bf46cb84f22813079106c5",
       "version_major": 2,
       "version_minor": 0
      },
      "text/plain": [
       "HBox(children=(FloatProgress(value=0.0, max=10.0), HTML(value='')))"
      ]
     },
     "metadata": {},
     "output_type": "display_data"
    },
    {
     "name": "stdout",
     "output_type": "stream",
     "text": [
      "\n",
      "[clf_engine]  training loop: started for [10] updates; BS=[2500] LR=[8.993149021621137e-19]!\n"
     ]
    },
    {
     "data": {
      "application/vnd.jupyter.widget-view+json": {
       "model_id": "804e2e5e978542008126e2b800d60af5",
       "version_major": 2,
       "version_minor": 0
      },
      "text/plain": [
       "HBox(children=(FloatProgress(value=0.0, max=10.0), HTML(value='')))"
      ]
     },
     "metadata": {},
     "output_type": "display_data"
    },
    {
     "name": "stdout",
     "output_type": "stream",
     "text": [
      "\n",
      "[clf_engine]  training loop: done!\n",
      "[ATE:112]  delta is: [-0.3485]; scaled delta is [-0.0349]\n",
      "[ATE:112]  [1.9357717037200928, 1.9207017421722412, 1.9246764183044434, 1.9191328287124634, 1.8983486890792847, 1.9116283655166626, 1.9083564281463623, 1.8965904712677002, 1.9217159748077393, 1.9019029140472412]\n",
      "[ATE:112]  [2.29325223 2.27300596 2.27152228 2.20279455 2.24233961 2.25810719\n",
      " 2.27049923 2.24497175 2.28930473 2.27804041]\n",
      "[ATE:112]  reward at the end of time step is [-0.03485012412071229]\n",
      "[ATA] optimization step performed\n",
      "[ATA episode 0]: took [9.9] seconds for one full step\n",
      "[ATE:112]  action [[1.68022453 1.01288449 0.22674104 0.29412093]] recieved\n",
      "[clf_engine]  scaled BS by [1.6802245321444573]; BS=[2500]\n",
      "[clf_engine]  scaled LR by [1.012884488870536]; LR=[8.993149021621137e-19]\n",
      "[clf_engine]  training loop: started for [30] updates; BS=[2500] LR=[9.109021150101286e-19]!\n"
     ]
    },
    {
     "data": {
      "application/vnd.jupyter.widget-view+json": {
       "model_id": "e8d8948cb89a4d23b5cf3d161c9ef000",
       "version_major": 2,
       "version_minor": 0
      },
      "text/plain": [
       "HBox(children=(FloatProgress(value=0.0, max=10.0), HTML(value='')))"
      ]
     },
     "metadata": {},
     "output_type": "display_data"
    },
    {
     "name": "stdout",
     "output_type": "stream",
     "text": [
      "\n",
      "[clf_engine]  training loop: started for [20] updates; BS=[2500] LR=[9.109021150101286e-19]!\n"
     ]
    },
    {
     "data": {
      "application/vnd.jupyter.widget-view+json": {
       "model_id": "8c5a8cc74aab47f68b6c23a1e9856ba9",
       "version_major": 2,
       "version_minor": 0
      },
      "text/plain": [
       "HBox(children=(FloatProgress(value=0.0, max=10.0), HTML(value='')))"
      ]
     },
     "metadata": {},
     "output_type": "display_data"
    },
    {
     "name": "stdout",
     "output_type": "stream",
     "text": [
      "\n",
      "[clf_engine]  training loop: started for [10] updates; BS=[2500] LR=[9.109021150101286e-19]!\n"
     ]
    },
    {
     "data": {
      "application/vnd.jupyter.widget-view+json": {
       "model_id": "67d428abd08a45bb969912eebaf44680",
       "version_major": 2,
       "version_minor": 0
      },
      "text/plain": [
       "HBox(children=(FloatProgress(value=0.0, max=10.0), HTML(value='')))"
      ]
     },
     "metadata": {},
     "output_type": "display_data"
    },
    {
     "name": "stdout",
     "output_type": "stream",
     "text": [
      "\n",
      "[clf_engine]  training loop: done!\n",
      "[ATE:113]  delta is: [-0.3544]; scaled delta is [-0.0354]\n",
      "[ATE:113]  [1.9111921787261963, 1.9141719341278076, 1.8917346000671387, 1.8907140493392944, 1.9259099960327148, 1.927371859550476, 1.8921984434127808, 1.924376130104065, 1.9150993824005127, 1.8958373069763184]\n",
      "[ATE:113]  [2.22842789 2.30103064 2.2595973  2.25206542 2.29581738 2.23655963\n",
      " 2.25587559 2.29529691 2.26028585 2.24789548]\n",
      "[ATE:113]  reward at the end of time step is [-0.03544246196746825]\n",
      "[ATA] optimization step performed\n",
      "[ATA episode 0]: took [9.9] seconds for one full step\n",
      "[ATE:113]  action [[1.71530941 0.90707117 0.20559155 0.28783211]] recieved\n",
      "[clf_engine]  scaled BS by [1.7153094055315026]; BS=[2500]\n",
      "[clf_engine]  scaled LR by [0.907071170355323]; LR=[9.109021150101286e-19]\n",
      "[clf_engine]  training loop: started for [30] updates; BS=[2500] LR=[8.262530475413764e-19]!\n"
     ]
    },
    {
     "data": {
      "application/vnd.jupyter.widget-view+json": {
       "model_id": "a456edc9803747fc9db285a5a58578ca",
       "version_major": 2,
       "version_minor": 0
      },
      "text/plain": [
       "HBox(children=(FloatProgress(value=0.0, max=10.0), HTML(value='')))"
      ]
     },
     "metadata": {},
     "output_type": "display_data"
    },
    {
     "name": "stdout",
     "output_type": "stream",
     "text": [
      "\n",
      "[clf_engine]  training loop: started for [20] updates; BS=[2500] LR=[8.262530475413764e-19]!\n"
     ]
    },
    {
     "data": {
      "application/vnd.jupyter.widget-view+json": {
       "model_id": "2b2b699167c04fceb1dc2f65e188395a",
       "version_major": 2,
       "version_minor": 0
      },
      "text/plain": [
       "HBox(children=(FloatProgress(value=0.0, max=10.0), HTML(value='')))"
      ]
     },
     "metadata": {},
     "output_type": "display_data"
    },
    {
     "name": "stdout",
     "output_type": "stream",
     "text": [
      "\n",
      "[clf_engine]  training loop: started for [10] updates; BS=[2500] LR=[8.262530475413764e-19]!\n"
     ]
    },
    {
     "data": {
      "application/vnd.jupyter.widget-view+json": {
       "model_id": "7fa1a4afbee74e518bd5956614e50a19",
       "version_major": 2,
       "version_minor": 0
      },
      "text/plain": [
       "HBox(children=(FloatProgress(value=0.0, max=10.0), HTML(value='')))"
      ]
     },
     "metadata": {},
     "output_type": "display_data"
    },
    {
     "name": "stdout",
     "output_type": "stream",
     "text": [
      "\n",
      "[clf_engine]  training loop: done!\n",
      "[ATE:114]  delta is: [-0.3506]; scaled delta is [-0.0351]\n",
      "[ATE:114]  [1.919455647468567, 1.913957953453064, 1.9164632558822632, 1.9053847789764404, 1.9004472494125366, 1.9115263223648071, 1.9148340225219727, 1.8941599130630493, 1.9165828227996826, 1.9394527673721313]\n",
      "[ATE:114]  [2.27927899 2.24689031 2.22197366 2.26745176 2.28914332 2.23846984\n",
      " 2.24152398 2.24449921 2.3147788  2.29430842]\n",
      "[ATE:114]  reward at the end of time step is [-0.035060535669326785]\n",
      "[ATA] optimization step performed\n",
      "[ATA episode 0]: took [10.0] seconds for one full step\n",
      "[ATE:114]  action [[1.67548795 0.87878723 0.20851473 0.25360536]] recieved\n",
      "[clf_engine]  scaled BS by [1.6754879473362796]; BS=[2500]\n",
      "[clf_engine]  scaled LR by [0.8787872295011466]; LR=[8.262530475413764e-19]\n",
      "[clf_engine]  training loop: started for [30] updates; BS=[2500] LR=[7.261006265157654e-19]!\n"
     ]
    },
    {
     "data": {
      "application/vnd.jupyter.widget-view+json": {
       "model_id": "f0e7f7740a3a42cea139a9294c4e7d16",
       "version_major": 2,
       "version_minor": 0
      },
      "text/plain": [
       "HBox(children=(FloatProgress(value=0.0, max=10.0), HTML(value='')))"
      ]
     },
     "metadata": {},
     "output_type": "display_data"
    },
    {
     "name": "stdout",
     "output_type": "stream",
     "text": [
      "\n",
      "[clf_engine]  training loop: started for [20] updates; BS=[2500] LR=[7.261006265157654e-19]!\n"
     ]
    },
    {
     "data": {
      "application/vnd.jupyter.widget-view+json": {
       "model_id": "bc47e6d23fa54e02a1ce7d8aea2ba8cb",
       "version_major": 2,
       "version_minor": 0
      },
      "text/plain": [
       "HBox(children=(FloatProgress(value=0.0, max=10.0), HTML(value='')))"
      ]
     },
     "metadata": {},
     "output_type": "display_data"
    },
    {
     "name": "stdout",
     "output_type": "stream",
     "text": [
      "\n",
      "[clf_engine]  training loop: started for [10] updates; BS=[2500] LR=[7.261006265157654e-19]!\n"
     ]
    },
    {
     "data": {
      "application/vnd.jupyter.widget-view+json": {
       "model_id": "ac7ffc5fe8f9453dac202ffc65dc4f54",
       "version_major": 2,
       "version_minor": 0
      },
      "text/plain": [
       "HBox(children=(FloatProgress(value=0.0, max=10.0), HTML(value='')))"
      ]
     },
     "metadata": {},
     "output_type": "display_data"
    },
    {
     "name": "stdout",
     "output_type": "stream",
     "text": [
      "\n",
      "[clf_engine]  training loop: done!\n",
      "[ATE:115]  delta is: [-0.3585]; scaled delta is [-0.0358]\n",
      "[ATE:115]  [1.9245171546936035, 1.9242750406265259, 1.9284383058547974, 1.8975355625152588, 1.8899149894714355, 1.8940123319625854, 1.9226465225219727, 1.9027833938598633, 1.916235327720642, 1.916703701019287]\n",
      "[ATE:115]  [2.22821164 2.23885369 2.30416918 2.26454544 2.29695702 2.28154349\n",
      " 2.22757983 2.29249477 2.27317333 2.29428673]\n",
      "[ATE:115]  reward at the end of time step is [-0.03584752798080446]\n",
      "[ATA] optimization step performed\n",
      "[ATA episode 0]: took [10.3] seconds for one full step\n",
      "[ATE:115]  action [[1.68000902 0.80660731 0.18010858 0.27533215]] recieved\n",
      "[clf_engine]  scaled BS by [1.6800090194104622]; BS=[2500]\n",
      "[clf_engine]  scaled LR by [0.8066073145414984]; LR=[7.261006265157654e-19]\n",
      "[clf_engine]  training loop: started for [30] updates; BS=[2500] LR=[5.85678076440781e-19]!\n"
     ]
    },
    {
     "data": {
      "application/vnd.jupyter.widget-view+json": {
       "model_id": "ab86c664011b4835ba9aaa83bddaf3ef",
       "version_major": 2,
       "version_minor": 0
      },
      "text/plain": [
       "HBox(children=(FloatProgress(value=0.0, max=10.0), HTML(value='')))"
      ]
     },
     "metadata": {},
     "output_type": "display_data"
    },
    {
     "name": "stdout",
     "output_type": "stream",
     "text": [
      "\n",
      "[clf_engine]  training loop: started for [20] updates; BS=[2500] LR=[5.85678076440781e-19]!\n"
     ]
    },
    {
     "data": {
      "application/vnd.jupyter.widget-view+json": {
       "model_id": "738743ce35234eb7bbecc1f9278a4b1a",
       "version_major": 2,
       "version_minor": 0
      },
      "text/plain": [
       "HBox(children=(FloatProgress(value=0.0, max=10.0), HTML(value='')))"
      ]
     },
     "metadata": {},
     "output_type": "display_data"
    },
    {
     "name": "stdout",
     "output_type": "stream",
     "text": [
      "\n",
      "[clf_engine]  training loop: started for [10] updates; BS=[2500] LR=[5.85678076440781e-19]!\n"
     ]
    },
    {
     "data": {
      "application/vnd.jupyter.widget-view+json": {
       "model_id": "d55929d603dd4e5d8eb9fdbb83361f2c",
       "version_major": 2,
       "version_minor": 0
      },
      "text/plain": [
       "HBox(children=(FloatProgress(value=0.0, max=10.0), HTML(value='')))"
      ]
     },
     "metadata": {},
     "output_type": "display_data"
    },
    {
     "name": "stdout",
     "output_type": "stream",
     "text": [
      "\n",
      "[clf_engine]  training loop: done!\n",
      "[ATE:116]  delta is: [-0.3450]; scaled delta is [-0.0345]\n",
      "[ATE:116]  [1.948098063468933, 1.9131972789764404, 1.901955246925354, 1.9045355319976807, 1.8854472637176514, 1.9239214658737183, 1.9226714372634888, 1.914792776107788, 1.9248087406158447, 1.9176722764968872]\n",
      "[ATE:116]  [2.24365187 2.27652574 2.26874042 2.22561932 2.23794746 2.29579639\n",
      " 2.27587914 2.24684405 2.25792432 2.2779243 ]\n",
      "[ATE:116]  reward at the end of time step is [-0.03449752926826477]\n",
      "[ATA] optimization step performed\n",
      "[ATA episode 0]: took [9.4] seconds for one full step\n",
      "[ATE:116]  action [[1.68736982 0.69944936 0.23811893 0.25235519]] recieved\n",
      "[clf_engine]  scaled BS by [1.6873698225242315]; BS=[2500]\n",
      "[clf_engine]  scaled LR by [0.6994493592693171]; LR=[5.85678076440781e-19]\n",
      "[clf_engine]  training loop: started for [30] updates; BS=[2500] LR=[4.096521553045904e-19]!\n"
     ]
    },
    {
     "data": {
      "application/vnd.jupyter.widget-view+json": {
       "model_id": "5455382a0f864fa1a2a13a8f2395c19b",
       "version_major": 2,
       "version_minor": 0
      },
      "text/plain": [
       "HBox(children=(FloatProgress(value=0.0, max=10.0), HTML(value='')))"
      ]
     },
     "metadata": {},
     "output_type": "display_data"
    },
    {
     "name": "stdout",
     "output_type": "stream",
     "text": [
      "\n",
      "[clf_engine]  training loop: started for [20] updates; BS=[2500] LR=[4.096521553045904e-19]!\n"
     ]
    },
    {
     "data": {
      "application/vnd.jupyter.widget-view+json": {
       "model_id": "6dea64910f4040f0a07808a4e524a9de",
       "version_major": 2,
       "version_minor": 0
      },
      "text/plain": [
       "HBox(children=(FloatProgress(value=0.0, max=10.0), HTML(value='')))"
      ]
     },
     "metadata": {},
     "output_type": "display_data"
    },
    {
     "name": "stdout",
     "output_type": "stream",
     "text": [
      "\n",
      "[clf_engine]  training loop: started for [10] updates; BS=[2500] LR=[4.096521553045904e-19]!\n"
     ]
    },
    {
     "data": {
      "application/vnd.jupyter.widget-view+json": {
       "model_id": "2ad4db879e56482992efcd80c67e462e",
       "version_major": 2,
       "version_minor": 0
      },
      "text/plain": [
       "HBox(children=(FloatProgress(value=0.0, max=10.0), HTML(value='')))"
      ]
     },
     "metadata": {},
     "output_type": "display_data"
    },
    {
     "name": "stdout",
     "output_type": "stream",
     "text": [
      "\n",
      "[clf_engine]  training loop: done!\n",
      "[ATE:117]  delta is: [-0.3689]; scaled delta is [-0.0369]\n",
      "[ATE:117]  [1.925034761428833, 1.9090023040771484, 1.9067318439483643, 1.9246838092803955, 1.8831199407577515, 1.902125358581543, 1.9317394495010376, 1.9126732349395752, 1.9005146026611328, 1.9099730253219604]\n",
      "[ATE:117]  [2.30817723 2.2301054  2.27740598 2.23317099 2.29418635 2.27540207\n",
      " 2.28782177 2.31729817 2.29381227 2.27727556]\n",
      "[ATE:117]  reward at the end of time step is [-0.0368905746936798]\n",
      "[ATA] optimization step performed\n",
      "[ATA episode 0]: took [9.6] seconds for one full step\n",
      "[ATE:117]  action [[1.55875989 0.68496571 0.27971533 0.2205169 ]] recieved\n",
      "[clf_engine]  scaled BS by [1.5587598902769504]; BS=[2500]\n",
      "[clf_engine]  scaled LR by [0.6849657089399851]; LR=[4.096521553045904e-19]\n",
      "[clf_engine]  training loop: started for [30] updates; BS=[2500] LR=[2.805976789770016e-19]!\n"
     ]
    },
    {
     "data": {
      "application/vnd.jupyter.widget-view+json": {
       "model_id": "e3de703d40204676bab1e1ca49d2d11a",
       "version_major": 2,
       "version_minor": 0
      },
      "text/plain": [
       "HBox(children=(FloatProgress(value=0.0, max=10.0), HTML(value='')))"
      ]
     },
     "metadata": {},
     "output_type": "display_data"
    },
    {
     "name": "stdout",
     "output_type": "stream",
     "text": [
      "\n",
      "[clf_engine]  training loop: started for [20] updates; BS=[2500] LR=[2.805976789770016e-19]!\n"
     ]
    },
    {
     "data": {
      "application/vnd.jupyter.widget-view+json": {
       "model_id": "78810f7a0682476a9a4a1284dd592fff",
       "version_major": 2,
       "version_minor": 0
      },
      "text/plain": [
       "HBox(children=(FloatProgress(value=0.0, max=10.0), HTML(value='')))"
      ]
     },
     "metadata": {},
     "output_type": "display_data"
    },
    {
     "name": "stdout",
     "output_type": "stream",
     "text": [
      "\n",
      "[clf_engine]  training loop: started for [10] updates; BS=[2500] LR=[2.805976789770016e-19]!\n"
     ]
    },
    {
     "data": {
      "application/vnd.jupyter.widget-view+json": {
       "model_id": "de82d24677194812b75358aaf9f6eee0",
       "version_major": 2,
       "version_minor": 0
      },
      "text/plain": [
       "HBox(children=(FloatProgress(value=0.0, max=10.0), HTML(value='')))"
      ]
     },
     "metadata": {},
     "output_type": "display_data"
    },
    {
     "name": "stdout",
     "output_type": "stream",
     "text": [
      "\n",
      "[clf_engine]  training loop: done!\n",
      "[ATE:118]  delta is: [-0.3528]; scaled delta is [-0.0353]\n",
      "[ATE:118]  [1.9251058101654053, 1.913576602935791, 1.9116826057434082, 1.935498833656311, 1.894275188446045, 1.930635929107666, 1.9186592102050781, 1.9138439893722534, 1.887723684310913, 1.8927085399627686]\n",
      "[ATE:118]  [2.23933315 2.23698044 2.30689549 2.27127314 2.2930119  2.26713824\n",
      " 2.29406691 2.25856543 2.20670557 2.27810478]\n",
      "[ATE:118]  reward at the end of time step is [-0.03528364658355714]\n",
      "[ATA] optimization step performed\n",
      "[ATA episode 0]: took [9.7] seconds for one full step\n",
      "[ATE:118]  action [[1.39189816 0.67497146 0.41252217 0.23355868]] recieved\n",
      "[clf_engine]  scaled BS by [1.3918981571916766]; BS=[2500]\n",
      "[clf_engine]  scaled LR by [0.6749714605399867]; LR=[2.805976789770016e-19]\n",
      "[clf_engine]  training loop: started for [30] updates; BS=[2500] LR=[1.893954252032371e-19]!\n"
     ]
    },
    {
     "data": {
      "application/vnd.jupyter.widget-view+json": {
       "model_id": "ca452c1c51db499c9bda037db933899a",
       "version_major": 2,
       "version_minor": 0
      },
      "text/plain": [
       "HBox(children=(FloatProgress(value=0.0, max=10.0), HTML(value='')))"
      ]
     },
     "metadata": {},
     "output_type": "display_data"
    },
    {
     "name": "stdout",
     "output_type": "stream",
     "text": [
      "\n",
      "[clf_engine]  training loop: started for [20] updates; BS=[2500] LR=[1.893954252032371e-19]!\n"
     ]
    },
    {
     "data": {
      "application/vnd.jupyter.widget-view+json": {
       "model_id": "a170eee7d5d0476b86a9e4da029807bc",
       "version_major": 2,
       "version_minor": 0
      },
      "text/plain": [
       "HBox(children=(FloatProgress(value=0.0, max=10.0), HTML(value='')))"
      ]
     },
     "metadata": {},
     "output_type": "display_data"
    },
    {
     "name": "stdout",
     "output_type": "stream",
     "text": [
      "\n",
      "[clf_engine]  training loop: started for [10] updates; BS=[2500] LR=[1.893954252032371e-19]!\n"
     ]
    },
    {
     "data": {
      "application/vnd.jupyter.widget-view+json": {
       "model_id": "7fd63fa6c88244e89f14b30548cc9757",
       "version_major": 2,
       "version_minor": 0
      },
      "text/plain": [
       "HBox(children=(FloatProgress(value=0.0, max=10.0), HTML(value='')))"
      ]
     },
     "metadata": {},
     "output_type": "display_data"
    },
    {
     "name": "stdout",
     "output_type": "stream",
     "text": [
      "\n",
      "[clf_engine]  training loop: done!\n",
      "[ATE:119]  delta is: [-0.3462]; scaled delta is [-0.0346]\n",
      "[ATE:119]  [1.9200736284255981, 1.8983240127563477, 1.900064468383789, 1.9262131452560425, 1.912827968597412, 1.9268991947174072, 1.9204050302505493, 1.9057576656341553, 1.9033019542694092, 1.925807237625122]\n",
      "[ATE:119]  [2.25926304 2.2573967  2.22692132 2.24273276 2.29204202 2.24978137\n",
      " 2.21436334 2.25613952 2.27996707 2.322932  ]\n",
      "[ATE:119]  reward at the end of time step is [-0.03461864829063415]\n",
      "[ATA] optimization step performed\n",
      "[ATA episode 0]: took [10.0] seconds for one full step\n",
      "[ATE:119]  action [[1.31959526 0.67170302 0.36206783 0.23770052]] recieved\n",
      "[clf_engine]  scaled BS by [1.319595264200432]; BS=[2500]\n",
      "[clf_engine]  scaled LR by [0.6717030242317991]; LR=[1.893954252032371e-19]\n",
      "[clf_engine]  training loop: started for [30] updates; BS=[2500] LR=[1.2721747988468186e-19]!\n"
     ]
    },
    {
     "data": {
      "application/vnd.jupyter.widget-view+json": {
       "model_id": "319ccc9e4e8d4043b4968ab3f43fb3cb",
       "version_major": 2,
       "version_minor": 0
      },
      "text/plain": [
       "HBox(children=(FloatProgress(value=0.0, max=10.0), HTML(value='')))"
      ]
     },
     "metadata": {},
     "output_type": "display_data"
    },
    {
     "name": "stdout",
     "output_type": "stream",
     "text": [
      "\n",
      "[clf_engine]  training loop: started for [20] updates; BS=[2500] LR=[1.2721747988468186e-19]!\n"
     ]
    },
    {
     "data": {
      "application/vnd.jupyter.widget-view+json": {
       "model_id": "60fe1ec9173d4a3897121a0bbed83812",
       "version_major": 2,
       "version_minor": 0
      },
      "text/plain": [
       "HBox(children=(FloatProgress(value=0.0, max=10.0), HTML(value='')))"
      ]
     },
     "metadata": {},
     "output_type": "display_data"
    },
    {
     "name": "stdout",
     "output_type": "stream",
     "text": [
      "\n",
      "[clf_engine]  training loop: started for [10] updates; BS=[2500] LR=[1.2721747988468186e-19]!\n"
     ]
    },
    {
     "data": {
      "application/vnd.jupyter.widget-view+json": {
       "model_id": "57c6858880314ba68e9a050a127c13a5",
       "version_major": 2,
       "version_minor": 0
      },
      "text/plain": [
       "HBox(children=(FloatProgress(value=0.0, max=10.0), HTML(value='')))"
      ]
     },
     "metadata": {},
     "output_type": "display_data"
    },
    {
     "name": "stdout",
     "output_type": "stream",
     "text": [
      "\n",
      "[clf_engine]  training loop: done!\n"
     ]
    },
    {
     "data": {
      "application/vnd.jupyter.widget-view+json": {
       "model_id": "95574dfed8c24a62bd8e8a313d940832",
       "version_major": 2,
       "version_minor": 0
      },
      "text/plain": [
       "HBox(children=(FloatProgress(value=0.0, max=1563.0), HTML(value='')))"
      ]
     },
     "metadata": {},
     "output_type": "display_data"
    },
    {
     "name": "stdout",
     "output_type": "stream",
     "text": [
      "\n"
     ]
    },
    {
     "data": {
      "application/vnd.jupyter.widget-view+json": {
       "model_id": "28f7cd54da804889afe2853ee47bc774",
       "version_major": 2,
       "version_minor": 0
      },
      "text/plain": [
       "HBox(children=(FloatProgress(value=0.0, max=625.0), HTML(value='')))"
      ]
     },
     "metadata": {},
     "output_type": "display_data"
    },
    {
     "name": "stdout",
     "output_type": "stream",
     "text": [
      "\n",
      "[ATE:120]  delta is: [-0.3603]; scaled delta is [-0.0360]\n",
      "[ATE:120]  [1.8971052169799805, 1.9136916399002075, 1.9187783002853394, 1.906081199645996, 1.919389009475708, 1.8847228288650513, 1.9082568883895874, 1.924833059310913, 1.9076977968215942, 1.9212689399719238]\n",
      "[ATE:120]  [2.28880024 2.29866815 2.24348474 2.25052977 2.29500961 2.25233078\n",
      " 2.27764916 2.25038004 2.28574347 2.26208258]\n",
      "[ATE:120]  reward at the end of time step is [-0.03602853655815126]\n",
      "[ATA] optimization step performed\n",
      "[ATA episode 0]: took [14.9] seconds for one full step\n",
      "[ATE:120]  action [[1.36158089 0.86607038 0.32947103 0.26801206]] recieved\n",
      "[clf_engine]  scaled BS by [1.3615808862565166]; BS=[2500]\n",
      "[clf_engine]  scaled LR by [0.8660703777939468]; LR=[1.2721747988468186e-19]\n",
      "[clf_engine]  training loop: started for [30] updates; BS=[2500] LR=[1.1017929086572024e-19]!\n"
     ]
    },
    {
     "data": {
      "application/vnd.jupyter.widget-view+json": {
       "model_id": "20ad7bb11c454f9aa2f5f0dd34fc5371",
       "version_major": 2,
       "version_minor": 0
      },
      "text/plain": [
       "HBox(children=(FloatProgress(value=0.0, max=10.0), HTML(value='')))"
      ]
     },
     "metadata": {},
     "output_type": "display_data"
    },
    {
     "name": "stdout",
     "output_type": "stream",
     "text": [
      "\n",
      "[clf_engine]  training loop: started for [20] updates; BS=[2500] LR=[1.1017929086572024e-19]!\n"
     ]
    },
    {
     "data": {
      "application/vnd.jupyter.widget-view+json": {
       "model_id": "bd517c4a06a240eb9111d4872327aa29",
       "version_major": 2,
       "version_minor": 0
      },
      "text/plain": [
       "HBox(children=(FloatProgress(value=0.0, max=10.0), HTML(value='')))"
      ]
     },
     "metadata": {},
     "output_type": "display_data"
    },
    {
     "name": "stdout",
     "output_type": "stream",
     "text": [
      "\n",
      "[clf_engine]  training loop: started for [10] updates; BS=[2500] LR=[1.1017929086572024e-19]!\n"
     ]
    },
    {
     "data": {
      "application/vnd.jupyter.widget-view+json": {
       "model_id": "c9c8c047a8764ada93acdf1ac99ced15",
       "version_major": 2,
       "version_minor": 0
      },
      "text/plain": [
       "HBox(children=(FloatProgress(value=0.0, max=10.0), HTML(value='')))"
      ]
     },
     "metadata": {},
     "output_type": "display_data"
    },
    {
     "name": "stdout",
     "output_type": "stream",
     "text": [
      "\n",
      "[clf_engine]  training loop: done!\n",
      "[ATE:121]  delta is: [-0.3530]; scaled delta is [-0.0353]\n",
      "[ATE:121]  [1.9078588485717773, 1.9304039478302002, 1.9215189218521118, 1.9213306903839111, 1.9036027193069458, 1.9052743911743164, 1.9280275106430054, 1.913964033126831, 1.9022570848464966, 1.9009281396865845]\n",
      "[ATE:121]  [2.23510242 2.24174595 2.26698375 2.2827816  2.25351691 2.27851534\n",
      " 2.25519228 2.28642321 2.27255964 2.292629  ]\n",
      "[ATE:121]  reward at the end of time step is [-0.03530283808708192]\n",
      "[ATA] optimization step performed\n",
      "[ATA episode 0]: took [9.9] seconds for one full step\n",
      "[ATE:121]  action [[1.35357946 0.8556197  0.34725122 0.29067985]] recieved\n",
      "[clf_engine]  scaled BS by [1.3535794649458246]; BS=[2500]\n",
      "[clf_engine]  scaled LR by [0.8556196973911786]; LR=[1.1017929086572024e-19]\n",
      "[clf_engine]  training loop: started for [30] updates; BS=[2500] LR=[9.42715715093022e-20]!\n"
     ]
    },
    {
     "data": {
      "application/vnd.jupyter.widget-view+json": {
       "model_id": "4a45b82a974c47a19fd48b549f1d9c95",
       "version_major": 2,
       "version_minor": 0
      },
      "text/plain": [
       "HBox(children=(FloatProgress(value=0.0, max=10.0), HTML(value='')))"
      ]
     },
     "metadata": {},
     "output_type": "display_data"
    },
    {
     "name": "stdout",
     "output_type": "stream",
     "text": [
      "\n",
      "[clf_engine]  training loop: started for [20] updates; BS=[2500] LR=[9.42715715093022e-20]!\n"
     ]
    },
    {
     "data": {
      "application/vnd.jupyter.widget-view+json": {
       "model_id": "8850eca2419f4d93be3e0ceb1b0c0194",
       "version_major": 2,
       "version_minor": 0
      },
      "text/plain": [
       "HBox(children=(FloatProgress(value=0.0, max=10.0), HTML(value='')))"
      ]
     },
     "metadata": {},
     "output_type": "display_data"
    },
    {
     "name": "stdout",
     "output_type": "stream",
     "text": [
      "\n",
      "[clf_engine]  training loop: started for [10] updates; BS=[2500] LR=[9.42715715093022e-20]!\n"
     ]
    },
    {
     "data": {
      "application/vnd.jupyter.widget-view+json": {
       "model_id": "2718a264382d4a0da7da01f277a650e4",
       "version_major": 2,
       "version_minor": 0
      },
      "text/plain": [
       "HBox(children=(FloatProgress(value=0.0, max=10.0), HTML(value='')))"
      ]
     },
     "metadata": {},
     "output_type": "display_data"
    },
    {
     "name": "stdout",
     "output_type": "stream",
     "text": [
      "\n",
      "[clf_engine]  training loop: done!\n",
      "[ATE:122]  delta is: [-0.3520]; scaled delta is [-0.0352]\n",
      "[ATE:122]  [1.919379711151123, 1.9207929372787476, 1.8930131196975708, 1.8965167999267578, 1.9074933528900146, 1.9163998365402222, 1.9367045164108276, 1.923950433731079, 1.9286566972732544, 1.911228895187378]\n",
      "[ATE:122]  [2.22466898 2.26686835 2.26228428 2.31807518 2.32015085 2.26705647\n",
      " 2.22715735 2.27565598 2.24751639 2.26500607]\n",
      "[ATE:122]  reward at the end of time step is [-0.03520303606987001]\n",
      "[ATA] optimization step performed\n",
      "[ATA episode 0]: took [9.9] seconds for one full step\n",
      "[ATE:122]  action [[1.39592739 0.77543482 0.31361957 0.35349928]] recieved\n",
      "[clf_engine]  scaled BS by [1.3959273939456565]; BS=[2500]\n",
      "[clf_engine]  scaled LR by [0.7754348183593421]; LR=[9.42715715093022e-20]\n",
      "[clf_engine]  training loop: started for [30] updates; BS=[2500] LR=[7.310145892976549e-20]!\n"
     ]
    },
    {
     "data": {
      "application/vnd.jupyter.widget-view+json": {
       "model_id": "4bc9561454224864b33a2f35918753be",
       "version_major": 2,
       "version_minor": 0
      },
      "text/plain": [
       "HBox(children=(FloatProgress(value=0.0, max=10.0), HTML(value='')))"
      ]
     },
     "metadata": {},
     "output_type": "display_data"
    },
    {
     "name": "stdout",
     "output_type": "stream",
     "text": [
      "\n",
      "[clf_engine]  training loop: started for [20] updates; BS=[2500] LR=[7.310145892976549e-20]!\n"
     ]
    },
    {
     "data": {
      "application/vnd.jupyter.widget-view+json": {
       "model_id": "2bdf8cd6b1154e5db8c98c57e2d50cf7",
       "version_major": 2,
       "version_minor": 0
      },
      "text/plain": [
       "HBox(children=(FloatProgress(value=0.0, max=10.0), HTML(value='')))"
      ]
     },
     "metadata": {},
     "output_type": "display_data"
    },
    {
     "name": "stdout",
     "output_type": "stream",
     "text": [
      "\n",
      "[clf_engine]  training loop: started for [10] updates; BS=[2500] LR=[7.310145892976549e-20]!\n"
     ]
    },
    {
     "data": {
      "application/vnd.jupyter.widget-view+json": {
       "model_id": "ab93abab328e44b1b96da626de5e6810",
       "version_major": 2,
       "version_minor": 0
      },
      "text/plain": [
       "HBox(children=(FloatProgress(value=0.0, max=10.0), HTML(value='')))"
      ]
     },
     "metadata": {},
     "output_type": "display_data"
    },
    {
     "name": "stdout",
     "output_type": "stream",
     "text": [
      "\n",
      "[clf_engine]  training loop: done!\n",
      "[ATE:123]  delta is: [-0.3418]; scaled delta is [-0.0342]\n",
      "[ATE:123]  [1.9064273834228516, 1.923310399055481, 1.8982601165771484, 1.913900375366211, 1.9005069732666016, 1.9018505811691284, 1.9149081707000732, 1.9053618907928467, 1.9236605167388916, 1.9201265573501587]\n",
      "[ATE:123]  [2.29496884 2.28125143 2.25406027 2.28291893 2.1875453  2.19300985\n",
      " 2.25727844 2.25879335 2.25447345 2.26179004]\n",
      "[ATE:123]  reward at the end of time step is [-0.034177769422531146]\n",
      "[ATA] optimization step performed\n",
      "[ATA episode 0]: took [10.0] seconds for one full step\n",
      "[ATE:123]  action [[1.36090211 0.87262151 0.24895084 0.281683  ]] recieved\n",
      "[clf_engine]  scaled BS by [1.3609021131884966]; BS=[2500]\n",
      "[clf_engine]  scaled LR by [0.8726215119284151]; LR=[7.310145892976549e-20]\n",
      "[clf_engine]  training loop: started for [30] updates; BS=[2500] LR=[6.37899056154649e-20]!\n"
     ]
    },
    {
     "data": {
      "application/vnd.jupyter.widget-view+json": {
       "model_id": "bf2b6b9a3c434c02a77f3bd2493e1fef",
       "version_major": 2,
       "version_minor": 0
      },
      "text/plain": [
       "HBox(children=(FloatProgress(value=0.0, max=10.0), HTML(value='')))"
      ]
     },
     "metadata": {},
     "output_type": "display_data"
    },
    {
     "name": "stdout",
     "output_type": "stream",
     "text": [
      "\n",
      "[clf_engine]  training loop: started for [20] updates; BS=[2500] LR=[6.37899056154649e-20]!\n"
     ]
    },
    {
     "data": {
      "application/vnd.jupyter.widget-view+json": {
       "model_id": "a03c3966666a4b41b1cd5c33461d5ff2",
       "version_major": 2,
       "version_minor": 0
      },
      "text/plain": [
       "HBox(children=(FloatProgress(value=0.0, max=10.0), HTML(value='')))"
      ]
     },
     "metadata": {},
     "output_type": "display_data"
    },
    {
     "name": "stdout",
     "output_type": "stream",
     "text": [
      "\n",
      "[clf_engine]  training loop: started for [10] updates; BS=[2500] LR=[6.37899056154649e-20]!\n"
     ]
    },
    {
     "data": {
      "application/vnd.jupyter.widget-view+json": {
       "model_id": "2d4390aa5e01402b93ffec06f8d954df",
       "version_major": 2,
       "version_minor": 0
      },
      "text/plain": [
       "HBox(children=(FloatProgress(value=0.0, max=10.0), HTML(value='')))"
      ]
     },
     "metadata": {},
     "output_type": "display_data"
    },
    {
     "name": "stdout",
     "output_type": "stream",
     "text": [
      "\n",
      "[clf_engine]  training loop: done!\n",
      "[ATE:124]  delta is: [-0.3345]; scaled delta is [-0.0334]\n",
      "[ATE:124]  [1.9183191061019897, 1.8887591361999512, 1.9167437553405762, 1.9018601179122925, 1.9234533309936523, 1.9329566955566406, 1.9250658750534058, 1.9006842374801636, 1.9276385307312012, 1.9168872833251953]\n",
      "[ATE:124]  [2.19119835 2.20522833 2.26748729 2.31374025 2.30902696 2.24184442\n",
      " 2.2398448  2.29517961 2.17990041 2.25379491]\n",
      "[ATE:124]  reward at the end of time step is [-0.0334487724304199]\n",
      "[ATA] optimization step performed\n",
      "[ATA episode 0]: took [9.4] seconds for one full step\n",
      "[ATE:124]  action [[1.47639574 0.85131518 0.2673943  0.26177942]] recieved\n",
      "[clf_engine]  scaled BS by [1.476395737260476]; BS=[2500]\n",
      "[clf_engine]  scaled LR by [0.8513151816465118]; LR=[6.37899056154649e-20]\n",
      "[clf_engine]  training loop: started for [30] updates; BS=[2500] LR=[5.430531508624335e-20]!\n"
     ]
    },
    {
     "data": {
      "application/vnd.jupyter.widget-view+json": {
       "model_id": "9e0f93458f6b431a82315670e3e82191",
       "version_major": 2,
       "version_minor": 0
      },
      "text/plain": [
       "HBox(children=(FloatProgress(value=0.0, max=10.0), HTML(value='')))"
      ]
     },
     "metadata": {},
     "output_type": "display_data"
    },
    {
     "name": "stdout",
     "output_type": "stream",
     "text": [
      "\n",
      "[clf_engine]  training loop: started for [20] updates; BS=[2500] LR=[5.430531508624335e-20]!\n"
     ]
    },
    {
     "data": {
      "application/vnd.jupyter.widget-view+json": {
       "model_id": "e45b5e41c746446ea712f59b69d1e190",
       "version_major": 2,
       "version_minor": 0
      },
      "text/plain": [
       "HBox(children=(FloatProgress(value=0.0, max=10.0), HTML(value='')))"
      ]
     },
     "metadata": {},
     "output_type": "display_data"
    },
    {
     "name": "stdout",
     "output_type": "stream",
     "text": [
      "\n",
      "[clf_engine]  training loop: started for [10] updates; BS=[2500] LR=[5.430531508624335e-20]!\n"
     ]
    },
    {
     "data": {
      "application/vnd.jupyter.widget-view+json": {
       "model_id": "054a4a560f6b4063a5e7ea1fc519f74e",
       "version_major": 2,
       "version_minor": 0
      },
      "text/plain": [
       "HBox(children=(FloatProgress(value=0.0, max=10.0), HTML(value='')))"
      ]
     },
     "metadata": {},
     "output_type": "display_data"
    },
    {
     "name": "stdout",
     "output_type": "stream",
     "text": [
      "\n",
      "[clf_engine]  training loop: done!\n",
      "[ATE:125]  delta is: [-0.3455]; scaled delta is [-0.0346]\n",
      "[ATE:125]  [1.9254738092422485, 1.8990787267684937, 1.9204833507537842, 1.9052066802978516, 1.9199506044387817, 1.9164522886276245, 1.9430010318756104, 1.9032433032989502, 1.8992218971252441, 1.9223970174789429]\n",
      "[ATE:125]  [2.30561829 2.21999431 2.25448775 2.24790072 2.277457   2.25435877\n",
      " 2.23116064 2.2538476  2.277174   2.28785324]\n",
      "[ATE:125]  reward at the end of time step is [-0.03455343604087831]\n",
      "[ATA] optimization step performed\n",
      "[ATA episode 0]: took [10.0] seconds for one full step\n",
      "[ATE:125]  action [[1.5355166  0.7444878  0.22818356 0.21054882]] recieved\n",
      "[clf_engine]  scaled BS by [1.5355165998826652]; BS=[2500]\n",
      "[clf_engine]  scaled LR by [0.7444878028693359]; LR=[5.430531508624335e-20]\n",
      "[clf_engine]  training loop: started for [30] updates; BS=[2500] LR=[4.042964471268431e-20]!\n"
     ]
    },
    {
     "data": {
      "application/vnd.jupyter.widget-view+json": {
       "model_id": "c0b3150befd8436fb484b61c921153cb",
       "version_major": 2,
       "version_minor": 0
      },
      "text/plain": [
       "HBox(children=(FloatProgress(value=0.0, max=10.0), HTML(value='')))"
      ]
     },
     "metadata": {},
     "output_type": "display_data"
    },
    {
     "name": "stdout",
     "output_type": "stream",
     "text": [
      "\n",
      "[clf_engine]  training loop: started for [20] updates; BS=[2500] LR=[4.042964471268431e-20]!\n"
     ]
    },
    {
     "data": {
      "application/vnd.jupyter.widget-view+json": {
       "model_id": "e497d8f94e5c4b9a901c88514ea4f9ff",
       "version_major": 2,
       "version_minor": 0
      },
      "text/plain": [
       "HBox(children=(FloatProgress(value=0.0, max=10.0), HTML(value='')))"
      ]
     },
     "metadata": {},
     "output_type": "display_data"
    },
    {
     "name": "stdout",
     "output_type": "stream",
     "text": [
      "\n",
      "[clf_engine]  training loop: started for [10] updates; BS=[2500] LR=[4.042964471268431e-20]!\n"
     ]
    },
    {
     "data": {
      "application/vnd.jupyter.widget-view+json": {
       "model_id": "03a60ad1200e4e65a057049a9264a543",
       "version_major": 2,
       "version_minor": 0
      },
      "text/plain": [
       "HBox(children=(FloatProgress(value=0.0, max=10.0), HTML(value='')))"
      ]
     },
     "metadata": {},
     "output_type": "display_data"
    },
    {
     "name": "stdout",
     "output_type": "stream",
     "text": [
      "\n",
      "[clf_engine]  training loop: done!\n",
      "[ATE:126]  delta is: [-0.3428]; scaled delta is [-0.0343]\n",
      "[ATE:126]  [1.9219282865524292, 1.9015960693359375, 1.920956015586853, 1.8954827785491943, 1.896528959274292, 1.9152467250823975, 1.9271023273468018, 1.907590627670288, 1.8942005634307861, 1.9230602979660034]\n",
      "[ATE:126]  [2.26260567 2.29595542 2.27031016 2.22627687 2.27738857 2.22727752\n",
      " 2.24899745 2.2102797  2.22134471 2.2911818 ]\n",
      "[ATE:126]  reward at the end of time step is [-0.034279252290725704]\n",
      "[ATA] optimization step performed\n",
      "[ATA episode 0]: took [10.3] seconds for one full step\n",
      "[ATE:126]  action [[1.38998724 0.86829817 0.27860128 0.21162733]] recieved\n",
      "[clf_engine]  scaled BS by [1.389987243336441]; BS=[2500]\n",
      "[clf_engine]  scaled LR by [0.868298173671663]; LR=[4.042964471268431e-20]\n",
      "[clf_engine]  training loop: started for [30] updates; BS=[2500] LR=[3.510498666621799e-20]!\n"
     ]
    },
    {
     "data": {
      "application/vnd.jupyter.widget-view+json": {
       "model_id": "b5b0994eba7947d5a0d100757e7cdc4b",
       "version_major": 2,
       "version_minor": 0
      },
      "text/plain": [
       "HBox(children=(FloatProgress(value=0.0, max=10.0), HTML(value='')))"
      ]
     },
     "metadata": {},
     "output_type": "display_data"
    },
    {
     "name": "stdout",
     "output_type": "stream",
     "text": [
      "\n",
      "[clf_engine]  training loop: started for [20] updates; BS=[2500] LR=[3.510498666621799e-20]!\n"
     ]
    },
    {
     "data": {
      "application/vnd.jupyter.widget-view+json": {
       "model_id": "eb24d35e41ec497a90eae423d262b85b",
       "version_major": 2,
       "version_minor": 0
      },
      "text/plain": [
       "HBox(children=(FloatProgress(value=0.0, max=10.0), HTML(value='')))"
      ]
     },
     "metadata": {},
     "output_type": "display_data"
    },
    {
     "name": "stdout",
     "output_type": "stream",
     "text": [
      "\n",
      "[clf_engine]  training loop: started for [10] updates; BS=[2500] LR=[3.510498666621799e-20]!\n"
     ]
    },
    {
     "data": {
      "application/vnd.jupyter.widget-view+json": {
       "model_id": "0b65390e73404e8b9c00b61f737326c2",
       "version_major": 2,
       "version_minor": 0
      },
      "text/plain": [
       "HBox(children=(FloatProgress(value=0.0, max=10.0), HTML(value='')))"
      ]
     },
     "metadata": {},
     "output_type": "display_data"
    },
    {
     "name": "stdout",
     "output_type": "stream",
     "text": [
      "\n",
      "[clf_engine]  training loop: done!\n",
      "[ATE:127]  delta is: [-0.3439]; scaled delta is [-0.0344]\n",
      "[ATE:127]  [1.9063690900802612, 1.916256070137024, 1.9208179712295532, 1.944218397140503, 1.9046927690505981, 1.9002817869186401, 1.9322463274002075, 1.9132074117660522, 1.9108142852783203, 1.9124152660369873]\n",
      "[ATE:127]  [2.29661393 2.26447129 2.27043104 2.18678141 2.27535391 2.2162292\n",
      " 2.27242637 2.28087211 2.26744723 2.2698741 ]\n",
      "[ATE:127]  reward at the end of time step is [-0.03439181208610536]\n",
      "[ATA] optimization step performed\n",
      "[ATA episode 0]: took [9.8] seconds for one full step\n",
      "[ATE:127]  action [[1.40916331 0.7166883  0.21964045 0.22992862]] recieved\n",
      "[clf_engine]  scaled BS by [1.4091633091048361]; BS=[2500]\n",
      "[clf_engine]  scaled LR by [0.716688301920194]; LR=[3.510498666621799e-20]\n",
      "[clf_engine]  training loop: started for [30] updates; BS=[2500] LR=[2.5159333282742824e-20]!\n"
     ]
    },
    {
     "data": {
      "application/vnd.jupyter.widget-view+json": {
       "model_id": "1a92f1b6df784508819c7e74794921db",
       "version_major": 2,
       "version_minor": 0
      },
      "text/plain": [
       "HBox(children=(FloatProgress(value=0.0, max=10.0), HTML(value='')))"
      ]
     },
     "metadata": {},
     "output_type": "display_data"
    },
    {
     "name": "stdout",
     "output_type": "stream",
     "text": [
      "\n",
      "[clf_engine]  training loop: started for [20] updates; BS=[2500] LR=[2.5159333282742824e-20]!\n"
     ]
    },
    {
     "data": {
      "application/vnd.jupyter.widget-view+json": {
       "model_id": "a3e644a6fcab46ddad891b383304d38f",
       "version_major": 2,
       "version_minor": 0
      },
      "text/plain": [
       "HBox(children=(FloatProgress(value=0.0, max=10.0), HTML(value='')))"
      ]
     },
     "metadata": {},
     "output_type": "display_data"
    },
    {
     "name": "stdout",
     "output_type": "stream",
     "text": [
      "\n",
      "[clf_engine]  training loop: started for [10] updates; BS=[2500] LR=[2.5159333282742824e-20]!\n"
     ]
    },
    {
     "data": {
      "application/vnd.jupyter.widget-view+json": {
       "model_id": "6d40aa534bd348f3993601aab6cfda96",
       "version_major": 2,
       "version_minor": 0
      },
      "text/plain": [
       "HBox(children=(FloatProgress(value=0.0, max=10.0), HTML(value='')))"
      ]
     },
     "metadata": {},
     "output_type": "display_data"
    },
    {
     "name": "stdout",
     "output_type": "stream",
     "text": [
      "\n",
      "[clf_engine]  training loop: done!\n",
      "[ATE:128]  delta is: [-0.3395]; scaled delta is [-0.0340]\n",
      "[ATE:128]  [1.8880914449691772, 1.9172945022583008, 1.9186674356460571, 1.9272687435150146, 1.9133979082107544, 1.8905316591262817, 1.9150152206420898, 1.9410306215286255, 1.9212732315063477, 1.9034415483474731]\n",
      "[ATE:128]  [2.24914932 2.22798228 2.23217201 2.29334879 2.23437214 2.25879765\n",
      " 2.25376511 2.27414083 2.24841046 2.25933838]\n",
      "[ATE:128]  reward at the end of time step is [-0.033954646587371844]\n",
      "[ATA] optimization step performed\n",
      "[ATA episode 0]: took [10.5] seconds for one full step\n",
      "[ATE:128]  action [[1.36511453 0.56481845 0.2352247  0.24557351]] recieved\n",
      "[clf_engine]  scaled BS by [1.3651145309164272]; BS=[2500]\n",
      "[clf_engine]  scaled LR by [0.5648184523446825]; LR=[2.5159333282742824e-20]\n",
      "[clf_engine]  training loop: started for [30] updates; BS=[2500] LR=[1.4210455686782862e-20]!\n"
     ]
    },
    {
     "data": {
      "application/vnd.jupyter.widget-view+json": {
       "model_id": "5b920fcf3b5b4531af385d1f140c5821",
       "version_major": 2,
       "version_minor": 0
      },
      "text/plain": [
       "HBox(children=(FloatProgress(value=0.0, max=10.0), HTML(value='')))"
      ]
     },
     "metadata": {},
     "output_type": "display_data"
    },
    {
     "name": "stdout",
     "output_type": "stream",
     "text": [
      "\n",
      "[clf_engine]  training loop: started for [20] updates; BS=[2500] LR=[1.4210455686782862e-20]!\n"
     ]
    },
    {
     "data": {
      "application/vnd.jupyter.widget-view+json": {
       "model_id": "c2338c5bfa9c44d5a01a06436995c7ef",
       "version_major": 2,
       "version_minor": 0
      },
      "text/plain": [
       "HBox(children=(FloatProgress(value=0.0, max=10.0), HTML(value='')))"
      ]
     },
     "metadata": {},
     "output_type": "display_data"
    },
    {
     "name": "stdout",
     "output_type": "stream",
     "text": [
      "\n",
      "[clf_engine]  training loop: started for [10] updates; BS=[2500] LR=[1.4210455686782862e-20]!\n"
     ]
    },
    {
     "data": {
      "application/vnd.jupyter.widget-view+json": {
       "model_id": "cee039aad5554467af5df72cd0a5bfd2",
       "version_major": 2,
       "version_minor": 0
      },
      "text/plain": [
       "HBox(children=(FloatProgress(value=0.0, max=10.0), HTML(value='')))"
      ]
     },
     "metadata": {},
     "output_type": "display_data"
    },
    {
     "name": "stdout",
     "output_type": "stream",
     "text": [
      "\n",
      "[clf_engine]  training loop: done!\n",
      "[ATE:129]  delta is: [-0.3342]; scaled delta is [-0.0334]\n",
      "[ATE:129]  [1.9060814380645752, 1.9303394556045532, 1.893702745437622, 1.912356972694397, 1.9406174421310425, 1.9082627296447754, 1.9124798774719238, 1.8977437019348145, 1.8814847469329834, 1.9315258264541626]\n",
      "[ATE:129]  [2.26526046 2.24100852 2.24203229 2.23766708 2.22508287 2.30202675\n",
      " 2.23889208 2.23959899 2.2409699  2.22423482]\n",
      "[ATE:129]  reward at the end of time step is [-0.033421788215637196]\n",
      "[ATA] optimization step performed\n",
      "[ATA episode 0]: took [9.7] seconds for one full step\n",
      "[ATE:129]  action [[1.29400585 0.61710921 0.22703269 0.24703279]] recieved\n",
      "[clf_engine]  scaled BS by [1.2940058506292351]; BS=[2500]\n",
      "[clf_engine]  scaled LR by [0.6171092125216455]; LR=[1.4210455686782862e-20]\n",
      "[clf_engine]  training loop: started for [30] updates; BS=[2500] LR=[8.769403118444312e-21]!\n"
     ]
    },
    {
     "data": {
      "application/vnd.jupyter.widget-view+json": {
       "model_id": "086fe89e24fd41bc9d12825c950c5e95",
       "version_major": 2,
       "version_minor": 0
      },
      "text/plain": [
       "HBox(children=(FloatProgress(value=0.0, max=10.0), HTML(value='')))"
      ]
     },
     "metadata": {},
     "output_type": "display_data"
    },
    {
     "name": "stdout",
     "output_type": "stream",
     "text": [
      "\n",
      "[clf_engine]  training loop: started for [20] updates; BS=[2500] LR=[8.769403118444312e-21]!\n"
     ]
    },
    {
     "data": {
      "application/vnd.jupyter.widget-view+json": {
       "model_id": "a58c399465ec450991409fc45e346a7f",
       "version_major": 2,
       "version_minor": 0
      },
      "text/plain": [
       "HBox(children=(FloatProgress(value=0.0, max=10.0), HTML(value='')))"
      ]
     },
     "metadata": {},
     "output_type": "display_data"
    },
    {
     "name": "stdout",
     "output_type": "stream",
     "text": [
      "\n",
      "[clf_engine]  training loop: started for [10] updates; BS=[2500] LR=[8.769403118444312e-21]!\n"
     ]
    },
    {
     "data": {
      "application/vnd.jupyter.widget-view+json": {
       "model_id": "61510a5a27e14f878617ed3bea2a069b",
       "version_major": 2,
       "version_minor": 0
      },
      "text/plain": [
       "HBox(children=(FloatProgress(value=0.0, max=10.0), HTML(value='')))"
      ]
     },
     "metadata": {},
     "output_type": "display_data"
    },
    {
     "name": "stdout",
     "output_type": "stream",
     "text": [
      "\n",
      "[clf_engine]  training loop: done!\n"
     ]
    },
    {
     "data": {
      "application/vnd.jupyter.widget-view+json": {
       "model_id": "6bc365ae07cb4ca0aa97513baf728211",
       "version_major": 2,
       "version_minor": 0
      },
      "text/plain": [
       "HBox(children=(FloatProgress(value=0.0, max=1563.0), HTML(value='')))"
      ]
     },
     "metadata": {},
     "output_type": "display_data"
    },
    {
     "name": "stdout",
     "output_type": "stream",
     "text": [
      "\n"
     ]
    },
    {
     "data": {
      "application/vnd.jupyter.widget-view+json": {
       "model_id": "79679bf976ef4fc0a738f9ccd8057c5a",
       "version_major": 2,
       "version_minor": 0
      },
      "text/plain": [
       "HBox(children=(FloatProgress(value=0.0, max=625.0), HTML(value='')))"
      ]
     },
     "metadata": {},
     "output_type": "display_data"
    },
    {
     "name": "stdout",
     "output_type": "stream",
     "text": [
      "\n",
      "[ATE:130]  delta is: [-0.3359]; scaled delta is [-0.0336]\n",
      "[ATE:130]  [1.936379075050354, 1.9063355922698975, 1.8887882232666016, 1.9139572381973267, 1.904268741607666, 1.9145125150680542, 1.9105218648910522, 1.9217305183410645, 1.9404726028442383, 1.9096899032592773]\n",
      "[ATE:130]  [2.25901651 2.21316648 2.26078057 2.24369311 2.22984004 2.29339194\n",
      " 2.26584458 2.23193049 2.24296927 2.26481485]\n",
      "[ATE:130]  reward at the end of time step is [-0.03358791589736938]\n",
      "[ATA] optimization step performed\n",
      "[ATA episode 0]: took [14.6] seconds for one full step\n",
      "[ATE:130]  action [[1.39904743 0.57449276 0.20235754 0.27071902]] recieved\n",
      "[clf_engine]  scaled BS by [1.399047428258892]; BS=[2500]\n",
      "[clf_engine]  scaled LR by [0.574492755313838]; LR=[8.769403118444312e-21]\n",
      "[clf_engine]  training loop: started for [30] updates; BS=[2500] LR=[5.037958559972836e-21]!\n"
     ]
    },
    {
     "data": {
      "application/vnd.jupyter.widget-view+json": {
       "model_id": "86ae8776e6a24adfb098bdd1ac18485f",
       "version_major": 2,
       "version_minor": 0
      },
      "text/plain": [
       "HBox(children=(FloatProgress(value=0.0, max=10.0), HTML(value='')))"
      ]
     },
     "metadata": {},
     "output_type": "display_data"
    },
    {
     "name": "stdout",
     "output_type": "stream",
     "text": [
      "\n",
      "[clf_engine]  training loop: started for [20] updates; BS=[2500] LR=[5.037958559972836e-21]!\n"
     ]
    },
    {
     "data": {
      "application/vnd.jupyter.widget-view+json": {
       "model_id": "c90084eaf0984b57a975eb08b82d3b8e",
       "version_major": 2,
       "version_minor": 0
      },
      "text/plain": [
       "HBox(children=(FloatProgress(value=0.0, max=10.0), HTML(value='')))"
      ]
     },
     "metadata": {},
     "output_type": "display_data"
    },
    {
     "name": "stdout",
     "output_type": "stream",
     "text": [
      "\n",
      "[clf_engine]  training loop: started for [10] updates; BS=[2500] LR=[5.037958559972836e-21]!\n"
     ]
    },
    {
     "data": {
      "application/vnd.jupyter.widget-view+json": {
       "model_id": "b9ccd28f46694f44998fe25c85222b7f",
       "version_major": 2,
       "version_minor": 0
      },
      "text/plain": [
       "HBox(children=(FloatProgress(value=0.0, max=10.0), HTML(value='')))"
      ]
     },
     "metadata": {},
     "output_type": "display_data"
    },
    {
     "name": "stdout",
     "output_type": "stream",
     "text": [
      "\n",
      "[clf_engine]  training loop: done!\n",
      "[ATE:131]  delta is: [-0.3532]; scaled delta is [-0.0353]\n",
      "[ATE:131]  [1.904209017753601, 1.890773057937622, 1.910904049873352, 1.9017958641052246, 1.9045294523239136, 1.9290238618850708, 1.9065039157867432, 1.9308427572250366, 1.9390480518341064, 1.9296612739562988]\n",
      "[ATE:131]  [2.24758387 2.30411577 2.27339602 2.28217816 2.23438048 2.29323387\n",
      " 2.26339579 2.24053907 2.21794844 2.32233334]\n",
      "[ATE:131]  reward at the end of time step is [-0.03531813502311707]\n",
      "[ATA] optimization step performed\n",
      "[ATA episode 0]: took [10.1] seconds for one full step\n",
      "[ATE:131]  action [[1.42089583 0.41526906 0.20264364 0.26079275]] recieved\n",
      "[clf_engine]  scaled BS by [1.4208958270613583]; BS=[2500]\n",
      "[clf_engine]  scaled LR by [0.4152690612810111]; LR=[5.037958559972836e-21]\n",
      "[clf_engine]  training loop: started for [30] updates; BS=[2500] LR=[2.092108321972554e-21]!\n"
     ]
    },
    {
     "data": {
      "application/vnd.jupyter.widget-view+json": {
       "model_id": "eef9c632afeb4bf29f55ecf2803eec4c",
       "version_major": 2,
       "version_minor": 0
      },
      "text/plain": [
       "HBox(children=(FloatProgress(value=0.0, max=10.0), HTML(value='')))"
      ]
     },
     "metadata": {},
     "output_type": "display_data"
    },
    {
     "name": "stdout",
     "output_type": "stream",
     "text": [
      "\n",
      "[clf_engine]  training loop: started for [20] updates; BS=[2500] LR=[2.092108321972554e-21]!\n"
     ]
    },
    {
     "data": {
      "application/vnd.jupyter.widget-view+json": {
       "model_id": "a76597c1fb4143afade5a1e985daaa62",
       "version_major": 2,
       "version_minor": 0
      },
      "text/plain": [
       "HBox(children=(FloatProgress(value=0.0, max=10.0), HTML(value='')))"
      ]
     },
     "metadata": {},
     "output_type": "display_data"
    },
    {
     "name": "stdout",
     "output_type": "stream",
     "text": [
      "\n",
      "[clf_engine]  training loop: started for [10] updates; BS=[2500] LR=[2.092108321972554e-21]!\n"
     ]
    },
    {
     "data": {
      "application/vnd.jupyter.widget-view+json": {
       "model_id": "ff3a6a7f378d4c0e950276c61a2dfdcf",
       "version_major": 2,
       "version_minor": 0
      },
      "text/plain": [
       "HBox(children=(FloatProgress(value=0.0, max=10.0), HTML(value='')))"
      ]
     },
     "metadata": {},
     "output_type": "display_data"
    },
    {
     "name": "stdout",
     "output_type": "stream",
     "text": [
      "\n",
      "[clf_engine]  training loop: done!\n",
      "[ATE:132]  delta is: [-0.3326]; scaled delta is [-0.0333]\n",
      "[ATE:132]  [1.9217554330825806, 1.9420520067214966, 1.8886510133743286, 1.9061686992645264, 1.9068949222564697, 1.9303008317947388, 1.9093931913375854, 1.9001994132995605, 1.9247034788131714, 1.9158154726028442]\n",
      "[ATE:132]  [2.22267818 2.22326469 2.29873395 2.20349431 2.26479912 2.24647284\n",
      " 2.29412794 2.24683094 2.21604156 2.25526094]\n",
      "[ATE:132]  reward at the end of time step is [-0.03325770020484924]\n",
      "[ATA] optimization step performed\n",
      "[ATA episode 0]: took [9.4] seconds for one full step\n",
      "[ATE:132]  action [[1.42410176 0.56778275 0.22878662 0.24265266]] recieved\n",
      "[clf_engine]  scaled BS by [1.4241017647364091]; BS=[2500]\n",
      "[clf_engine]  scaled LR by [0.5677827471518062]; LR=[2.092108321972554e-21]\n",
      "[clf_engine]  training loop: started for [30] updates; BS=[2500] LR=[1.1878630103887322e-21]!\n"
     ]
    },
    {
     "data": {
      "application/vnd.jupyter.widget-view+json": {
       "model_id": "e364bcc1bebc4d9b8383e16341476dc9",
       "version_major": 2,
       "version_minor": 0
      },
      "text/plain": [
       "HBox(children=(FloatProgress(value=0.0, max=10.0), HTML(value='')))"
      ]
     },
     "metadata": {},
     "output_type": "display_data"
    },
    {
     "name": "stdout",
     "output_type": "stream",
     "text": [
      "\n",
      "[clf_engine]  training loop: started for [20] updates; BS=[2500] LR=[1.1878630103887322e-21]!\n"
     ]
    },
    {
     "data": {
      "application/vnd.jupyter.widget-view+json": {
       "model_id": "b06ee1c99c5e4332a1b4b4379c1dffd0",
       "version_major": 2,
       "version_minor": 0
      },
      "text/plain": [
       "HBox(children=(FloatProgress(value=0.0, max=10.0), HTML(value='')))"
      ]
     },
     "metadata": {},
     "output_type": "display_data"
    },
    {
     "name": "stdout",
     "output_type": "stream",
     "text": [
      "\n",
      "[clf_engine]  training loop: started for [10] updates; BS=[2500] LR=[1.1878630103887322e-21]!\n"
     ]
    },
    {
     "data": {
      "application/vnd.jupyter.widget-view+json": {
       "model_id": "12583cf3540444e68551d91e2cc0bc68",
       "version_major": 2,
       "version_minor": 0
      },
      "text/plain": [
       "HBox(children=(FloatProgress(value=0.0, max=10.0), HTML(value='')))"
      ]
     },
     "metadata": {},
     "output_type": "display_data"
    },
    {
     "name": "stdout",
     "output_type": "stream",
     "text": [
      "\n",
      "[clf_engine]  training loop: done!\n",
      "[ATE:133]  delta is: [-0.3363]; scaled delta is [-0.0336]\n",
      "[ATE:133]  [1.9112615585327148, 1.9194835424423218, 1.9119211435317993, 1.9135478734970093, 1.8918108940124512, 1.8935096263885498, 1.9127662181854248, 1.9132695198059082, 1.9297391176223755, 1.9196386337280273]\n",
      "[ATE:133]  [2.23598576 2.2673192  2.25720644 2.20406222 2.24555659 2.25214577\n",
      " 2.26047301 2.23052812 2.27040124 2.25675964]\n",
      "[ATE:133]  reward at the end of time step is [-0.03363489866256713]\n",
      "[ATA] optimization step performed\n",
      "[ATA episode 0]: took [10.2] seconds for one full step\n",
      "[ATE:133]  action [[1.40022813 0.60483331 0.2268101  0.30120048]] recieved\n",
      "[clf_engine]  scaled BS by [1.4002281269746737]; BS=[2500]\n",
      "[clf_engine]  scaled LR by [0.6048333139320452]; LR=[1.1878630103887322e-21]\n",
      "[clf_engine]  training loop: started for [30] updates; BS=[2500] LR=[7.184591210707124e-22]!\n"
     ]
    },
    {
     "data": {
      "application/vnd.jupyter.widget-view+json": {
       "model_id": "b836eb2a8bdf4bcfa3929a2181a95331",
       "version_major": 2,
       "version_minor": 0
      },
      "text/plain": [
       "HBox(children=(FloatProgress(value=0.0, max=10.0), HTML(value='')))"
      ]
     },
     "metadata": {},
     "output_type": "display_data"
    },
    {
     "name": "stdout",
     "output_type": "stream",
     "text": [
      "\n",
      "[clf_engine]  training loop: started for [20] updates; BS=[2500] LR=[7.184591210707124e-22]!\n"
     ]
    },
    {
     "data": {
      "application/vnd.jupyter.widget-view+json": {
       "model_id": "9bfdc1fcaa1b42108df7fa7db8193b5a",
       "version_major": 2,
       "version_minor": 0
      },
      "text/plain": [
       "HBox(children=(FloatProgress(value=0.0, max=10.0), HTML(value='')))"
      ]
     },
     "metadata": {},
     "output_type": "display_data"
    },
    {
     "name": "stdout",
     "output_type": "stream",
     "text": [
      "\n",
      "[clf_engine]  training loop: started for [10] updates; BS=[2500] LR=[7.184591210707124e-22]!\n"
     ]
    },
    {
     "data": {
      "application/vnd.jupyter.widget-view+json": {
       "model_id": "02ec7e299c8a4e6882ab7572731872dd",
       "version_major": 2,
       "version_minor": 0
      },
      "text/plain": [
       "HBox(children=(FloatProgress(value=0.0, max=10.0), HTML(value='')))"
      ]
     },
     "metadata": {},
     "output_type": "display_data"
    },
    {
     "name": "stdout",
     "output_type": "stream",
     "text": [
      "\n",
      "[clf_engine]  training loop: done!\n",
      "[ATE:134]  delta is: [-0.3572]; scaled delta is [-0.0357]\n",
      "[ATE:134]  [1.9163109064102173, 1.8983322381973267, 1.9319945573806763, 1.920892596244812, 1.903348445892334, 1.9045764207839966, 1.915405511856079, 1.9077732563018799, 1.9193365573883057, 1.9069491624832153]\n",
      "[ATE:134]  [2.32111001 2.28369665 2.21586514 2.24663949 2.28823733 2.27579832\n",
      " 2.25219369 2.26513958 2.29104185 2.25730181]\n",
      "[ATE:134]  reward at the end of time step is [-0.0357210421562195]\n",
      "[ATA] optimization step performed\n",
      "[ATA episode 0]: took [13.9] seconds for one full step\n",
      "[ATE:134]  action [[1.41786154 0.61812093 0.19089223 0.28281609]] recieved\n",
      "[clf_engine]  scaled BS by [1.4178615423664453]; BS=[2500]\n",
      "[clf_engine]  scaled LR by [0.6181209298122269]; LR=[7.184591210707124e-22]\n",
      "[clf_engine]  training loop: started for [30] updates; BS=[2500] LR=[4.440946199483041e-22]!\n"
     ]
    },
    {
     "data": {
      "application/vnd.jupyter.widget-view+json": {
       "model_id": "759badcf856e42cb86d9d3f7dbf2e822",
       "version_major": 2,
       "version_minor": 0
      },
      "text/plain": [
       "HBox(children=(FloatProgress(value=0.0, max=10.0), HTML(value='')))"
      ]
     },
     "metadata": {},
     "output_type": "display_data"
    },
    {
     "name": "stdout",
     "output_type": "stream",
     "text": [
      "\n",
      "[clf_engine]  training loop: started for [20] updates; BS=[2500] LR=[4.440946199483041e-22]!\n"
     ]
    },
    {
     "data": {
      "application/vnd.jupyter.widget-view+json": {
       "model_id": "a88d8badc2174d0c8f6c53b0b6e1b6cf",
       "version_major": 2,
       "version_minor": 0
      },
      "text/plain": [
       "HBox(children=(FloatProgress(value=0.0, max=10.0), HTML(value='')))"
      ]
     },
     "metadata": {},
     "output_type": "display_data"
    },
    {
     "name": "stdout",
     "output_type": "stream",
     "text": [
      "\n",
      "[clf_engine]  training loop: started for [10] updates; BS=[2500] LR=[4.440946199483041e-22]!\n"
     ]
    },
    {
     "data": {
      "application/vnd.jupyter.widget-view+json": {
       "model_id": "c18b1fed0b8a42deb24b03ee95ea63cc",
       "version_major": 2,
       "version_minor": 0
      },
      "text/plain": [
       "HBox(children=(FloatProgress(value=0.0, max=10.0), HTML(value='')))"
      ]
     },
     "metadata": {},
     "output_type": "display_data"
    },
    {
     "name": "stdout",
     "output_type": "stream",
     "text": [
      "\n",
      "[clf_engine]  training loop: done!\n",
      "[ATE:135]  delta is: [-0.3172]; scaled delta is [-0.0317]\n",
      "[ATE:135]  [1.918869137763977, 1.9221078157424927, 1.8901236057281494, 1.9158341884613037, 1.932239294052124, 1.9035308361053467, 1.90706467628479, 1.9405021667480469, 1.9071693420410156, 1.91226327419281]\n",
      "[ATE:135]  [2.20167756 2.29611611 2.25538492 2.23893785 2.22205496 2.21169662\n",
      " 2.20173192 2.2393806  2.26904511 2.18569684]\n",
      "[ATE:135]  reward at the end of time step is [-0.031720181703567496]\n",
      "[ATA] optimization step performed\n",
      "[ATA episode 0]: took [10.2] seconds for one full step\n",
      "[ATE:135]  action [[1.37837947 0.83046438 0.16695731 0.24849901]] recieved\n",
      "[clf_engine]  scaled BS by [1.378379474673455]; BS=[2500]\n",
      "[clf_engine]  scaled LR by [0.8304643823967076]; LR=[4.440946199483041e-22]\n",
      "[clf_engine]  training loop: started for [30] updates; BS=[2500] LR=[3.688047642810689e-22]!\n"
     ]
    },
    {
     "data": {
      "application/vnd.jupyter.widget-view+json": {
       "model_id": "d279773ce05a4a41957070229b2975a7",
       "version_major": 2,
       "version_minor": 0
      },
      "text/plain": [
       "HBox(children=(FloatProgress(value=0.0, max=10.0), HTML(value='')))"
      ]
     },
     "metadata": {},
     "output_type": "display_data"
    },
    {
     "name": "stdout",
     "output_type": "stream",
     "text": [
      "\n",
      "[clf_engine]  training loop: started for [20] updates; BS=[2500] LR=[3.688047642810689e-22]!\n"
     ]
    },
    {
     "data": {
      "application/vnd.jupyter.widget-view+json": {
       "model_id": "56969c45f7904a59a8b93275f3f6a33d",
       "version_major": 2,
       "version_minor": 0
      },
      "text/plain": [
       "HBox(children=(FloatProgress(value=0.0, max=10.0), HTML(value='')))"
      ]
     },
     "metadata": {},
     "output_type": "display_data"
    },
    {
     "name": "stdout",
     "output_type": "stream",
     "text": [
      "\n",
      "[clf_engine]  training loop: started for [10] updates; BS=[2500] LR=[3.688047642810689e-22]!\n"
     ]
    },
    {
     "data": {
      "application/vnd.jupyter.widget-view+json": {
       "model_id": "6343a152f96b497294062807edb86485",
       "version_major": 2,
       "version_minor": 0
      },
      "text/plain": [
       "HBox(children=(FloatProgress(value=0.0, max=10.0), HTML(value='')))"
      ]
     },
     "metadata": {},
     "output_type": "display_data"
    },
    {
     "name": "stdout",
     "output_type": "stream",
     "text": [
      "\n",
      "[clf_engine]  training loop: done!\n",
      "[ATE:136]  delta is: [-0.3516]; scaled delta is [-0.0352]\n",
      "[ATE:136]  [1.8990312814712524, 1.9379042387008667, 1.9243136644363403, 1.929451584815979, 1.9363433122634888, 1.888023018836975, 1.9050999879837036, 1.9033589363098145, 1.901543378829956, 1.907905101776123]\n",
      "[ATE:136]  [2.3178637  2.21565676 2.2752912  2.22521901 2.29412341 2.27235723\n",
      " 2.22222924 2.26866436 2.26458406 2.29264379]\n",
      "[ATE:136]  reward at the end of time step is [-0.03515658259391783]\n",
      "[ATA] optimization step performed\n",
      "[ATA episode 0]: took [9.7] seconds for one full step\n",
      "[ATE:136]  action [[1.33636032 0.72918424 0.15795461 0.26450986]] recieved\n",
      "[clf_engine]  scaled BS by [1.3363603226644711]; BS=[2500]\n",
      "[clf_engine]  scaled LR by [0.729184241647953]; LR=[3.688047642810689e-22]\n",
      "[clf_engine]  training loop: started for [30] updates; BS=[2500] LR=[2.689266223584433e-22]!\n"
     ]
    },
    {
     "data": {
      "application/vnd.jupyter.widget-view+json": {
       "model_id": "e988bbf1d0b04b1cbf060ffbd66eeb1d",
       "version_major": 2,
       "version_minor": 0
      },
      "text/plain": [
       "HBox(children=(FloatProgress(value=0.0, max=10.0), HTML(value='')))"
      ]
     },
     "metadata": {},
     "output_type": "display_data"
    },
    {
     "name": "stdout",
     "output_type": "stream",
     "text": [
      "\n",
      "[clf_engine]  training loop: started for [20] updates; BS=[2500] LR=[2.689266223584433e-22]!\n"
     ]
    },
    {
     "data": {
      "application/vnd.jupyter.widget-view+json": {
       "model_id": "5530e77583f04764967b03254c3c2211",
       "version_major": 2,
       "version_minor": 0
      },
      "text/plain": [
       "HBox(children=(FloatProgress(value=0.0, max=10.0), HTML(value='')))"
      ]
     },
     "metadata": {},
     "output_type": "display_data"
    },
    {
     "name": "stdout",
     "output_type": "stream",
     "text": [
      "\n",
      "[clf_engine]  training loop: started for [10] updates; BS=[2500] LR=[2.689266223584433e-22]!\n"
     ]
    },
    {
     "data": {
      "application/vnd.jupyter.widget-view+json": {
       "model_id": "003ec9a455e24d1881d3345b7fdacd3e",
       "version_major": 2,
       "version_minor": 0
      },
      "text/plain": [
       "HBox(children=(FloatProgress(value=0.0, max=10.0), HTML(value='')))"
      ]
     },
     "metadata": {},
     "output_type": "display_data"
    },
    {
     "name": "stdout",
     "output_type": "stream",
     "text": [
      "\n",
      "[clf_engine]  training loop: done!\n",
      "[ATE:137]  delta is: [-0.3430]; scaled delta is [-0.0343]\n",
      "[ATE:137]  [1.9173636436462402, 1.9314937591552734, 1.9166828393936157, 1.909238338470459, 1.9145675897598267, 1.911712646484375, 1.913506269454956, 1.9147142171859741, 1.9238660335540771, 1.8933178186416626]\n",
      "[ATE:137]  [2.27223063 2.25523496 2.24056697 2.25039673 2.27688432 2.28699708\n",
      " 2.27331758 2.28245449 2.23124695 2.20690393]\n",
      "[ATE:137]  reward at the end of time step is [-0.03429770469665525]\n",
      "[ATA] optimization step performed\n",
      "[ATA episode 0]: took [10.0] seconds for one full step\n",
      "[ATE:137]  action [[1.38833814 0.72800909 0.13871896 0.21345247]] recieved\n",
      "[clf_engine]  scaled BS by [1.3883381412514118]; BS=[2500]\n",
      "[clf_engine]  scaled LR by [0.7280090949911194]; LR=[2.689266223584433e-22]\n",
      "[clf_engine]  training loop: started for [30] updates; BS=[2500] LR=[1.9578102696218886e-22]!\n"
     ]
    },
    {
     "data": {
      "application/vnd.jupyter.widget-view+json": {
       "model_id": "259498f1690540f2b2bb3b61a55c54dd",
       "version_major": 2,
       "version_minor": 0
      },
      "text/plain": [
       "HBox(children=(FloatProgress(value=0.0, max=10.0), HTML(value='')))"
      ]
     },
     "metadata": {},
     "output_type": "display_data"
    },
    {
     "name": "stdout",
     "output_type": "stream",
     "text": [
      "\n",
      "[clf_engine]  training loop: started for [20] updates; BS=[2500] LR=[1.9578102696218886e-22]!\n"
     ]
    },
    {
     "data": {
      "application/vnd.jupyter.widget-view+json": {
       "model_id": "db81f55266ac4be789a378e47fc92f49",
       "version_major": 2,
       "version_minor": 0
      },
      "text/plain": [
       "HBox(children=(FloatProgress(value=0.0, max=10.0), HTML(value='')))"
      ]
     },
     "metadata": {},
     "output_type": "display_data"
    },
    {
     "name": "stdout",
     "output_type": "stream",
     "text": [
      "\n",
      "[clf_engine]  training loop: started for [10] updates; BS=[2500] LR=[1.9578102696218886e-22]!\n"
     ]
    },
    {
     "data": {
      "application/vnd.jupyter.widget-view+json": {
       "model_id": "1763dc0a44f842cc928cfaa7b97b5a84",
       "version_major": 2,
       "version_minor": 0
      },
      "text/plain": [
       "HBox(children=(FloatProgress(value=0.0, max=10.0), HTML(value='')))"
      ]
     },
     "metadata": {},
     "output_type": "display_data"
    },
    {
     "name": "stdout",
     "output_type": "stream",
     "text": [
      "\n",
      "[clf_engine]  training loop: done!\n",
      "[ATE:138]  delta is: [-0.3137]; scaled delta is [-0.0314]\n",
      "[ATE:138]  [1.909511685371399, 1.9187984466552734, 1.9321445226669312, 1.8940255641937256, 1.9215128421783447, 1.9277606010437012, 1.8988531827926636, 1.9033286571502686, 1.932864785194397, 1.9151312112808228]\n",
      "[ATE:138]  [2.26038742 2.20392561 2.2203958  2.24263859 2.21564293 2.20578289\n",
      " 2.25076675 2.24864888 2.18853283 2.25421023]\n",
      "[ATE:138]  reward at the end of time step is [-0.031370004415512076]\n",
      "[ATA] optimization step performed\n",
      "[ATA episode 0]: took [10.3] seconds for one full step\n",
      "[ATE:138]  action [[1.42258895 0.72326942 0.16111048 0.20697583]] recieved\n",
      "[clf_engine]  scaled BS by [1.42258895017966]; BS=[2500]\n",
      "[clf_engine]  scaled LR by [0.7232694228904925]; LR=[1.9578102696218886e-22]\n",
      "[clf_engine]  training loop: started for [30] updates; BS=[2500] LR=[1.4160243038385027e-22]!\n"
     ]
    },
    {
     "data": {
      "application/vnd.jupyter.widget-view+json": {
       "model_id": "3482f6c1f37840e7a4ceaa67b8e52a45",
       "version_major": 2,
       "version_minor": 0
      },
      "text/plain": [
       "HBox(children=(FloatProgress(value=0.0, max=10.0), HTML(value='')))"
      ]
     },
     "metadata": {},
     "output_type": "display_data"
    },
    {
     "name": "stdout",
     "output_type": "stream",
     "text": [
      "\n",
      "[clf_engine]  training loop: started for [20] updates; BS=[2500] LR=[1.4160243038385027e-22]!\n"
     ]
    },
    {
     "data": {
      "application/vnd.jupyter.widget-view+json": {
       "model_id": "a80ed4b7fe4740eeb682d3be8ece56ab",
       "version_major": 2,
       "version_minor": 0
      },
      "text/plain": [
       "HBox(children=(FloatProgress(value=0.0, max=10.0), HTML(value='')))"
      ]
     },
     "metadata": {},
     "output_type": "display_data"
    },
    {
     "name": "stdout",
     "output_type": "stream",
     "text": [
      "\n",
      "[clf_engine]  training loop: started for [10] updates; BS=[2500] LR=[1.4160243038385027e-22]!\n"
     ]
    },
    {
     "data": {
      "application/vnd.jupyter.widget-view+json": {
       "model_id": "dd77e15e00864f85bbe4486d26e50502",
       "version_major": 2,
       "version_minor": 0
      },
      "text/plain": [
       "HBox(children=(FloatProgress(value=0.0, max=10.0), HTML(value='')))"
      ]
     },
     "metadata": {},
     "output_type": "display_data"
    },
    {
     "name": "stdout",
     "output_type": "stream",
     "text": [
      "\n",
      "[clf_engine]  training loop: done!\n",
      "[ATE:139]  delta is: [-0.3270]; scaled delta is [-0.0327]\n",
      "[ATE:139]  [1.9138550758361816, 1.916878342628479, 1.9287216663360596, 1.9247230291366577, 1.8987101316452026, 1.9226638078689575, 1.9206933975219727, 1.913789987564087, 1.8926976919174194, 1.921304702758789]\n",
      "[ATE:139]  [2.27565742 2.24882603 2.2540102  2.22412229 2.25078082 2.23883748\n",
      " 2.28877115 2.17104554 2.2450974  2.22665596]\n",
      "[ATE:139]  reward at the end of time step is [-0.03269766449928282]\n",
      "[ATA] optimization step performed\n",
      "[ATA episode 0]: took [9.8] seconds for one full step\n",
      "[ATE:139]  action [[1.47282739 0.77887372 0.16682812 0.1609331 ]] recieved\n",
      "[clf_engine]  scaled BS by [1.4728273858678878]; BS=[2500]\n",
      "[clf_engine]  scaled LR by [0.7788737244539387]; LR=[1.4160243038385027e-22]\n",
      "[clf_engine]  training loop: started for [30] updates; BS=[2500] LR=[1.1029041234479903e-22]!\n"
     ]
    },
    {
     "data": {
      "application/vnd.jupyter.widget-view+json": {
       "model_id": "3b6432daf70a4afe97201adc7f83f51d",
       "version_major": 2,
       "version_minor": 0
      },
      "text/plain": [
       "HBox(children=(FloatProgress(value=0.0, max=10.0), HTML(value='')))"
      ]
     },
     "metadata": {},
     "output_type": "display_data"
    },
    {
     "name": "stdout",
     "output_type": "stream",
     "text": [
      "\n",
      "[clf_engine]  training loop: started for [20] updates; BS=[2500] LR=[1.1029041234479903e-22]!\n"
     ]
    },
    {
     "data": {
      "application/vnd.jupyter.widget-view+json": {
       "model_id": "8eacadd8009e4039a23445bb665cba06",
       "version_major": 2,
       "version_minor": 0
      },
      "text/plain": [
       "HBox(children=(FloatProgress(value=0.0, max=10.0), HTML(value='')))"
      ]
     },
     "metadata": {},
     "output_type": "display_data"
    },
    {
     "name": "stdout",
     "output_type": "stream",
     "text": [
      "\n",
      "[clf_engine]  training loop: started for [10] updates; BS=[2500] LR=[1.1029041234479903e-22]!\n"
     ]
    },
    {
     "data": {
      "application/vnd.jupyter.widget-view+json": {
       "model_id": "393e202d83c14a9b88eaa81239cd1c3a",
       "version_major": 2,
       "version_minor": 0
      },
      "text/plain": [
       "HBox(children=(FloatProgress(value=0.0, max=10.0), HTML(value='')))"
      ]
     },
     "metadata": {},
     "output_type": "display_data"
    },
    {
     "name": "stdout",
     "output_type": "stream",
     "text": [
      "\n",
      "[clf_engine]  training loop: done!\n"
     ]
    },
    {
     "data": {
      "application/vnd.jupyter.widget-view+json": {
       "model_id": "e0de27c6b99d4b7ea0215ca1e18574c0",
       "version_major": 2,
       "version_minor": 0
      },
      "text/plain": [
       "HBox(children=(FloatProgress(value=0.0, max=1563.0), HTML(value='')))"
      ]
     },
     "metadata": {},
     "output_type": "display_data"
    },
    {
     "name": "stdout",
     "output_type": "stream",
     "text": [
      "\n"
     ]
    },
    {
     "data": {
      "application/vnd.jupyter.widget-view+json": {
       "model_id": "08f9753581fb431bae8299e56dad68b6",
       "version_major": 2,
       "version_minor": 0
      },
      "text/plain": [
       "HBox(children=(FloatProgress(value=0.0, max=625.0), HTML(value='')))"
      ]
     },
     "metadata": {},
     "output_type": "display_data"
    },
    {
     "name": "stdout",
     "output_type": "stream",
     "text": [
      "\n",
      "[ATE:140]  delta is: [-0.3244]; scaled delta is [-0.0324]\n",
      "[ATE:140]  [1.9159997701644897, 1.9058171510696411, 1.927263617515564, 1.9277927875518799, 1.91845703125, 1.9330326318740845, 1.9006201028823853, 1.9245861768722534, 1.8976730108261108, 1.9056484699249268]\n",
      "[ATE:140]  [2.28131413 2.22636056 2.23867559 2.27056122 2.26404023 2.19453335\n",
      " 2.27855539 2.26237583 2.20164275 2.18318892]\n",
      "[ATE:140]  reward at the end of time step is [-0.032443572282791155]\n",
      "[ATA] optimization step performed\n",
      "[ATA episode 0]: took [15.2] seconds for one full step\n",
      "[ATE:140]  action [[1.5246071  0.65691717 0.15180559 0.15693571]] recieved\n",
      "[clf_engine]  scaled BS by [1.5246070969848338]; BS=[2500]\n",
      "[clf_engine]  scaled LR by [0.656917168337863]; LR=[1.1029041234479903e-22]\n",
      "[clf_engine]  training loop: started for [30] updates; BS=[2500] LR=[7.245166537236067e-23]!\n"
     ]
    },
    {
     "data": {
      "application/vnd.jupyter.widget-view+json": {
       "model_id": "cd1e9e85bdbe4bd7b1c3a3511dafc191",
       "version_major": 2,
       "version_minor": 0
      },
      "text/plain": [
       "HBox(children=(FloatProgress(value=0.0, max=10.0), HTML(value='')))"
      ]
     },
     "metadata": {},
     "output_type": "display_data"
    },
    {
     "name": "stdout",
     "output_type": "stream",
     "text": [
      "\n",
      "[clf_engine]  training loop: started for [20] updates; BS=[2500] LR=[7.245166537236067e-23]!\n"
     ]
    },
    {
     "data": {
      "application/vnd.jupyter.widget-view+json": {
       "model_id": "d965cefca64e40649155dfe009033baa",
       "version_major": 2,
       "version_minor": 0
      },
      "text/plain": [
       "HBox(children=(FloatProgress(value=0.0, max=10.0), HTML(value='')))"
      ]
     },
     "metadata": {},
     "output_type": "display_data"
    },
    {
     "name": "stdout",
     "output_type": "stream",
     "text": [
      "\n",
      "[clf_engine]  training loop: started for [10] updates; BS=[2500] LR=[7.245166537236067e-23]!\n"
     ]
    },
    {
     "data": {
      "application/vnd.jupyter.widget-view+json": {
       "model_id": "a425984c583144109e0f41805980fe87",
       "version_major": 2,
       "version_minor": 0
      },
      "text/plain": [
       "HBox(children=(FloatProgress(value=0.0, max=10.0), HTML(value='')))"
      ]
     },
     "metadata": {},
     "output_type": "display_data"
    },
    {
     "name": "stdout",
     "output_type": "stream",
     "text": [
      "\n",
      "[clf_engine]  training loop: done!\n",
      "[ATE:141]  delta is: [-0.3364]; scaled delta is [-0.0336]\n",
      "[ATE:141]  [1.9127297401428223, 1.9109116792678833, 1.8932548761367798, 1.9267841577529907, 1.897398591041565, 1.930434226989746, 1.9153871536254883, 1.8881545066833496, 1.9163237810134888, 1.9231975078582764]\n",
      "[ATE:141]  [2.26769376 2.3462007  2.25252366 2.24269152 2.2375524  2.26641989\n",
      " 2.22823596 2.22247624 2.24353194 2.1713841 ]\n",
      "[ATE:141]  reward at the end of time step is [-0.03364133954048159]\n",
      "[ATA] optimization step performed\n",
      "[ATA episode 0]: took [9.9] seconds for one full step\n",
      "[ATE:141]  action [[1.52497485 0.7999032  0.15983529 0.17015315]] recieved\n",
      "[clf_engine]  scaled BS by [1.5249748515654602]; BS=[2500]\n",
      "[clf_engine]  scaled LR by [0.799903198429597]; LR=[7.245166537236067e-23]\n",
      "[clf_engine]  training loop: started for [30] updates; BS=[2500] LR=[5.795431886290218e-23]!\n"
     ]
    },
    {
     "data": {
      "application/vnd.jupyter.widget-view+json": {
       "model_id": "02355870aa59429b9c8779a0c33dc717",
       "version_major": 2,
       "version_minor": 0
      },
      "text/plain": [
       "HBox(children=(FloatProgress(value=0.0, max=10.0), HTML(value='')))"
      ]
     },
     "metadata": {},
     "output_type": "display_data"
    },
    {
     "name": "stdout",
     "output_type": "stream",
     "text": [
      "\n",
      "[clf_engine]  training loop: started for [20] updates; BS=[2500] LR=[5.795431886290218e-23]!\n"
     ]
    },
    {
     "data": {
      "application/vnd.jupyter.widget-view+json": {
       "model_id": "e22b1fff572b4396882adcb90b7ec758",
       "version_major": 2,
       "version_minor": 0
      },
      "text/plain": [
       "HBox(children=(FloatProgress(value=0.0, max=10.0), HTML(value='')))"
      ]
     },
     "metadata": {},
     "output_type": "display_data"
    },
    {
     "name": "stdout",
     "output_type": "stream",
     "text": [
      "\n",
      "[clf_engine]  training loop: started for [10] updates; BS=[2500] LR=[5.795431886290218e-23]!\n"
     ]
    },
    {
     "data": {
      "application/vnd.jupyter.widget-view+json": {
       "model_id": "ac2a89d8d2fb4fce9bd01ec8b2b6ed84",
       "version_major": 2,
       "version_minor": 0
      },
      "text/plain": [
       "HBox(children=(FloatProgress(value=0.0, max=10.0), HTML(value='')))"
      ]
     },
     "metadata": {},
     "output_type": "display_data"
    },
    {
     "name": "stdout",
     "output_type": "stream",
     "text": [
      "\n",
      "[clf_engine]  training loop: done!\n",
      "[ATE:142]  delta is: [-0.3304]; scaled delta is [-0.0330]\n",
      "[ATE:142]  [1.9016575813293457, 1.9280792474746704, 1.8906081914901733, 1.9203639030456543, 1.910340666770935, 1.8994253873825073, 1.9305386543273926, 1.925779938697815, 1.9078460931777954, 1.900508165359497]\n",
      "[ATE:142]  [2.20348597 2.26360679 2.22923088 2.19815874 2.22690296 2.22670746\n",
      " 2.27810407 2.27601624 2.25558925 2.26106238]\n",
      "[ATE:142]  reward at the end of time step is [-0.033037168979644795]\n",
      "[ATA] optimization step performed\n",
      "[ATA episode 0]: took [9.9] seconds for one full step\n",
      "[ATE:142]  action [[1.64365781 0.7860741  0.20216977 0.23520378]] recieved\n",
      "[clf_engine]  scaled BS by [1.643657813410676]; BS=[2500]\n",
      "[clf_engine]  scaled LR by [0.7860741025937531]; LR=[5.795431886290218e-23]\n",
      "[clf_engine]  training loop: started for [30] updates; BS=[2500] LR=[4.5556389191588044e-23]!\n"
     ]
    },
    {
     "data": {
      "application/vnd.jupyter.widget-view+json": {
       "model_id": "b2e3a875553c41a48e23d376c0f454d5",
       "version_major": 2,
       "version_minor": 0
      },
      "text/plain": [
       "HBox(children=(FloatProgress(value=0.0, max=10.0), HTML(value='')))"
      ]
     },
     "metadata": {},
     "output_type": "display_data"
    },
    {
     "name": "stdout",
     "output_type": "stream",
     "text": [
      "\n",
      "[clf_engine]  training loop: started for [20] updates; BS=[2500] LR=[4.5556389191588044e-23]!\n"
     ]
    },
    {
     "data": {
      "application/vnd.jupyter.widget-view+json": {
       "model_id": "ae41b5b44bb24ba180fbd32e07f3921d",
       "version_major": 2,
       "version_minor": 0
      },
      "text/plain": [
       "HBox(children=(FloatProgress(value=0.0, max=10.0), HTML(value='')))"
      ]
     },
     "metadata": {},
     "output_type": "display_data"
    },
    {
     "name": "stdout",
     "output_type": "stream",
     "text": [
      "\n",
      "[clf_engine]  training loop: started for [10] updates; BS=[2500] LR=[4.5556389191588044e-23]!\n"
     ]
    },
    {
     "data": {
      "application/vnd.jupyter.widget-view+json": {
       "model_id": "c85f9f4c54b6429b865a23cd8b840100",
       "version_major": 2,
       "version_minor": 0
      },
      "text/plain": [
       "HBox(children=(FloatProgress(value=0.0, max=10.0), HTML(value='')))"
      ]
     },
     "metadata": {},
     "output_type": "display_data"
    },
    {
     "name": "stdout",
     "output_type": "stream",
     "text": [
      "\n",
      "[clf_engine]  training loop: done!\n",
      "[ATE:143]  delta is: [-0.3421]; scaled delta is [-0.0342]\n",
      "[ATE:143]  [1.9268966913223267, 1.9211530685424805, 1.9080806970596313, 1.9153810739517212, 1.9224621057510376, 1.9023746252059937, 1.9059078693389893, 1.9059947729110718, 1.9249156713485718, 1.8962355852127075]\n",
      "[ATE:143]  [2.26422644 2.24178433 2.23296666 2.25625134 2.25393391 2.24885011\n",
      " 2.26458001 2.2770772  2.23632479 2.27397227]\n",
      "[ATE:143]  reward at the end of time step is [-0.03420564889907836]\n",
      "[ATA] optimization step performed\n",
      "[ATA episode 0]: took [9.7] seconds for one full step\n",
      "[ATE:143]  action [[1.61214341 0.64694836 0.16392925 0.22465877]] recieved\n",
      "[clf_engine]  scaled BS by [1.6121434055273618]; BS=[2500]\n",
      "[clf_engine]  scaled LR by [0.6469483595551035]; LR=[4.5556389191588044e-23]\n",
      "[clf_engine]  training loop: started for [30] updates; BS=[2500] LR=[2.947263125475173e-23]!\n"
     ]
    },
    {
     "data": {
      "application/vnd.jupyter.widget-view+json": {
       "model_id": "e03af3d3806c4d4c8af0de1a38f0539c",
       "version_major": 2,
       "version_minor": 0
      },
      "text/plain": [
       "HBox(children=(FloatProgress(value=0.0, max=10.0), HTML(value='')))"
      ]
     },
     "metadata": {},
     "output_type": "display_data"
    },
    {
     "name": "stdout",
     "output_type": "stream",
     "text": [
      "\n",
      "[clf_engine]  training loop: started for [20] updates; BS=[2500] LR=[2.947263125475173e-23]!\n"
     ]
    },
    {
     "data": {
      "application/vnd.jupyter.widget-view+json": {
       "model_id": "5205b5c7e59b4da38e45d052bfbc6c96",
       "version_major": 2,
       "version_minor": 0
      },
      "text/plain": [
       "HBox(children=(FloatProgress(value=0.0, max=10.0), HTML(value='')))"
      ]
     },
     "metadata": {},
     "output_type": "display_data"
    },
    {
     "name": "stdout",
     "output_type": "stream",
     "text": [
      "\n",
      "[clf_engine]  training loop: started for [10] updates; BS=[2500] LR=[2.947263125475173e-23]!\n"
     ]
    },
    {
     "data": {
      "application/vnd.jupyter.widget-view+json": {
       "model_id": "810be5b0ae704f96818b2879dd4563a9",
       "version_major": 2,
       "version_minor": 0
      },
      "text/plain": [
       "HBox(children=(FloatProgress(value=0.0, max=10.0), HTML(value='')))"
      ]
     },
     "metadata": {},
     "output_type": "display_data"
    },
    {
     "name": "stdout",
     "output_type": "stream",
     "text": [
      "\n",
      "[clf_engine]  training loop: done!\n",
      "[ATE:144]  delta is: [-0.3478]; scaled delta is [-0.0348]\n",
      "[ATE:144]  [1.9214286804199219, 1.9046193361282349, 1.9213675260543823, 1.9178729057312012, 1.9147863388061523, 1.9223862886428833, 1.8836685419082642, 1.9142242670059204, 1.9156157970428467, 1.9182000160217285]\n",
      "[ATE:144]  [2.26130223 2.24436378 2.2748816  2.27594495 2.28170633 2.25586534\n",
      " 2.28578734 2.23847318 2.21359706 2.28001952]\n",
      "[ATE:144]  reward at the end of time step is [-0.03477771639823912]\n",
      "[ATA] optimization step performed\n",
      "[ATA episode 0]: took [9.7] seconds for one full step\n",
      "[ATE:144]  action [[1.55711688 0.65091176 0.13223668 0.24733511]] recieved\n",
      "[clf_engine]  scaled BS by [1.557116877660583]; BS=[2500]\n",
      "[clf_engine]  scaled LR by [0.6509117594591157]; LR=[2.947263125475173e-23]\n",
      "[clf_engine]  training loop: started for [30] updates; BS=[2500] LR=[1.9184082265920176e-23]!\n"
     ]
    },
    {
     "data": {
      "application/vnd.jupyter.widget-view+json": {
       "model_id": "3e50c34335204ae19c86d8db9f263351",
       "version_major": 2,
       "version_minor": 0
      },
      "text/plain": [
       "HBox(children=(FloatProgress(value=0.0, max=10.0), HTML(value='')))"
      ]
     },
     "metadata": {},
     "output_type": "display_data"
    },
    {
     "name": "stdout",
     "output_type": "stream",
     "text": [
      "\n",
      "[clf_engine]  training loop: started for [20] updates; BS=[2500] LR=[1.9184082265920176e-23]!\n"
     ]
    },
    {
     "data": {
      "application/vnd.jupyter.widget-view+json": {
       "model_id": "fc749b2aed29446f836354decc5dc428",
       "version_major": 2,
       "version_minor": 0
      },
      "text/plain": [
       "HBox(children=(FloatProgress(value=0.0, max=10.0), HTML(value='')))"
      ]
     },
     "metadata": {},
     "output_type": "display_data"
    },
    {
     "name": "stdout",
     "output_type": "stream",
     "text": [
      "\n",
      "[clf_engine]  training loop: started for [10] updates; BS=[2500] LR=[1.9184082265920176e-23]!\n"
     ]
    },
    {
     "data": {
      "application/vnd.jupyter.widget-view+json": {
       "model_id": "01e5ce2cc4544569beb531b3633e26a1",
       "version_major": 2,
       "version_minor": 0
      },
      "text/plain": [
       "HBox(children=(FloatProgress(value=0.0, max=10.0), HTML(value='')))"
      ]
     },
     "metadata": {},
     "output_type": "display_data"
    },
    {
     "name": "stdout",
     "output_type": "stream",
     "text": [
      "\n",
      "[clf_engine]  training loop: done!\n",
      "[ATE:145]  delta is: [-0.3389]; scaled delta is [-0.0339]\n",
      "[ATE:145]  [1.9235879182815552, 1.8763980865478516, 1.893256425857544, 1.9266853332519531, 1.9117443561553955, 1.9117765426635742, 1.9358210563659668, 1.929451584815979, 1.903628945350647, 1.9078359603881836]\n",
      "[ATE:145]  [2.27932334 2.24735689 2.27631974 2.26855063 2.24855947 2.23006129\n",
      " 2.21689677 2.25191331 2.23974824 2.25017643]\n",
      "[ATE:145]  reward at the end of time step is [-0.0338871991634369]\n",
      "[ATA] optimization step performed\n",
      "[ATA episode 0]: took [10.3] seconds for one full step\n",
      "[ATE:145]  action [[1.45154207 0.60072484 0.16035102 0.23801319]] recieved\n",
      "[clf_engine]  scaled BS by [1.4515420726345885]; BS=[2500]\n",
      "[clf_engine]  scaled LR by [0.6007248373483559]; LR=[1.9184082265920176e-23]\n",
      "[clf_engine]  training loop: started for [30] updates; BS=[2500] LR=[1.1524354698872377e-23]!\n"
     ]
    },
    {
     "data": {
      "application/vnd.jupyter.widget-view+json": {
       "model_id": "81102a4dda1545209dc352c6982c4a45",
       "version_major": 2,
       "version_minor": 0
      },
      "text/plain": [
       "HBox(children=(FloatProgress(value=0.0, max=10.0), HTML(value='')))"
      ]
     },
     "metadata": {},
     "output_type": "display_data"
    },
    {
     "name": "stdout",
     "output_type": "stream",
     "text": [
      "\n",
      "[clf_engine]  training loop: started for [20] updates; BS=[2500] LR=[1.1524354698872377e-23]!\n"
     ]
    },
    {
     "data": {
      "application/vnd.jupyter.widget-view+json": {
       "model_id": "dc8eb42e18a64bda8776c0e5c19960ea",
       "version_major": 2,
       "version_minor": 0
      },
      "text/plain": [
       "HBox(children=(FloatProgress(value=0.0, max=10.0), HTML(value='')))"
      ]
     },
     "metadata": {},
     "output_type": "display_data"
    },
    {
     "name": "stdout",
     "output_type": "stream",
     "text": [
      "\n",
      "[clf_engine]  training loop: started for [10] updates; BS=[2500] LR=[1.1524354698872377e-23]!\n"
     ]
    },
    {
     "data": {
      "application/vnd.jupyter.widget-view+json": {
       "model_id": "a3164d5ca43d4075b6ffffcdc400b502",
       "version_major": 2,
       "version_minor": 0
      },
      "text/plain": [
       "HBox(children=(FloatProgress(value=0.0, max=10.0), HTML(value='')))"
      ]
     },
     "metadata": {},
     "output_type": "display_data"
    },
    {
     "name": "stdout",
     "output_type": "stream",
     "text": [
      "\n",
      "[clf_engine]  training loop: done!\n",
      "[ATE:146]  delta is: [-0.3431]; scaled delta is [-0.0343]\n",
      "[ATE:146]  [1.9295929670333862, 1.9184958934783936, 1.8951168060302734, 1.9205113649368286, 1.920384407043457, 1.9331467151641846, 1.9269089698791504, 1.9164938926696777, 1.8776644468307495, 1.904111385345459]\n",
      "[ATE:146]  [2.23768044 2.2522347  2.26674962 2.32226801 2.21640587 2.28033614\n",
      " 2.3180275  2.18646264 2.2561245  2.23758197]\n",
      "[ATE:146]  reward at the end of time step is [-0.0343144452571869]\n",
      "[ATA] optimization step performed\n",
      "[ATA episode 0]: took [10.3] seconds for one full step\n",
      "[ATE:146]  action [[1.42098943 0.58626901 0.17577152 0.2284514 ]] recieved\n",
      "[clf_engine]  scaled BS by [1.420989427124022]; BS=[2500]\n",
      "[clf_engine]  scaled LR by [0.5862690133565572]; LR=[1.1524354698872377e-23]\n",
      "[clf_engine]  training loop: started for [30] updates; BS=[2500] LR=[6.756372058878912e-24]!\n"
     ]
    },
    {
     "data": {
      "application/vnd.jupyter.widget-view+json": {
       "model_id": "d359ce379e9046979642a3dc9bd91612",
       "version_major": 2,
       "version_minor": 0
      },
      "text/plain": [
       "HBox(children=(FloatProgress(value=0.0, max=10.0), HTML(value='')))"
      ]
     },
     "metadata": {},
     "output_type": "display_data"
    },
    {
     "name": "stdout",
     "output_type": "stream",
     "text": [
      "\n",
      "[clf_engine]  training loop: started for [20] updates; BS=[2500] LR=[6.756372058878912e-24]!\n"
     ]
    },
    {
     "data": {
      "application/vnd.jupyter.widget-view+json": {
       "model_id": "3b94b65b17bb4acb91a762f2d2666855",
       "version_major": 2,
       "version_minor": 0
      },
      "text/plain": [
       "HBox(children=(FloatProgress(value=0.0, max=10.0), HTML(value='')))"
      ]
     },
     "metadata": {},
     "output_type": "display_data"
    },
    {
     "name": "stdout",
     "output_type": "stream",
     "text": [
      "\n",
      "[clf_engine]  training loop: started for [10] updates; BS=[2500] LR=[6.756372058878912e-24]!\n"
     ]
    },
    {
     "data": {
      "application/vnd.jupyter.widget-view+json": {
       "model_id": "9faca37e7e124a039f3ed7172dba0272",
       "version_major": 2,
       "version_minor": 0
      },
      "text/plain": [
       "HBox(children=(FloatProgress(value=0.0, max=10.0), HTML(value='')))"
      ]
     },
     "metadata": {},
     "output_type": "display_data"
    },
    {
     "name": "stdout",
     "output_type": "stream",
     "text": [
      "\n",
      "[clf_engine]  training loop: done!\n",
      "[ATE:147]  delta is: [-0.3287]; scaled delta is [-0.0329]\n",
      "[ATE:147]  [1.9097013473510742, 1.9378702640533447, 1.9191508293151855, 1.907504677772522, 1.9164711236953735, 1.9045220613479614, 1.8928722143173218, 1.9022409915924072, 1.903525948524475, 1.921968698501587]\n",
      "[ATE:147]  [2.28388977 2.22565699 2.29321337 2.27235746 2.25343704 2.18402195\n",
      " 2.23500586 2.24517703 2.20456457 2.20557308]\n",
      "[ATE:147]  reward at the end of time step is [-0.03287068963050841]\n",
      "[ATA] optimization step performed\n",
      "[ATA episode 0]: took [10.4] seconds for one full step\n",
      "[ATE:147]  action [[1.41975571 0.55167328 0.18346429 0.20640843]] recieved\n",
      "[clf_engine]  scaled BS by [1.4197557052669951]; BS=[2500]\n",
      "[clf_engine]  scaled LR by [0.5516732806019276]; LR=[6.756372058878912e-24]\n",
      "[clf_engine]  training loop: started for [30] updates; BS=[2500] LR=[3.727309938688929e-24]!\n"
     ]
    },
    {
     "data": {
      "application/vnd.jupyter.widget-view+json": {
       "model_id": "09cd7d50c7874f36855d0ef28ebb86cc",
       "version_major": 2,
       "version_minor": 0
      },
      "text/plain": [
       "HBox(children=(FloatProgress(value=0.0, max=10.0), HTML(value='')))"
      ]
     },
     "metadata": {},
     "output_type": "display_data"
    },
    {
     "name": "stdout",
     "output_type": "stream",
     "text": [
      "\n",
      "[clf_engine]  training loop: started for [20] updates; BS=[2500] LR=[3.727309938688929e-24]!\n"
     ]
    },
    {
     "data": {
      "application/vnd.jupyter.widget-view+json": {
       "model_id": "98c4c392dfba4e28924f8232716376e0",
       "version_major": 2,
       "version_minor": 0
      },
      "text/plain": [
       "HBox(children=(FloatProgress(value=0.0, max=10.0), HTML(value='')))"
      ]
     },
     "metadata": {},
     "output_type": "display_data"
    },
    {
     "name": "stdout",
     "output_type": "stream",
     "text": [
      "\n",
      "[clf_engine]  training loop: started for [10] updates; BS=[2500] LR=[3.727309938688929e-24]!\n"
     ]
    },
    {
     "data": {
      "application/vnd.jupyter.widget-view+json": {
       "model_id": "0b42d5fec74b40f9aebe8ede6dffca81",
       "version_major": 2,
       "version_minor": 0
      },
      "text/plain": [
       "HBox(children=(FloatProgress(value=0.0, max=10.0), HTML(value='')))"
      ]
     },
     "metadata": {},
     "output_type": "display_data"
    },
    {
     "name": "stdout",
     "output_type": "stream",
     "text": [
      "\n",
      "[clf_engine]  training loop: done!\n",
      "[ATE:148]  delta is: [-0.3221]; scaled delta is [-0.0322]\n",
      "[ATE:148]  [1.9553176164627075, 1.913074254989624, 1.8960845470428467, 1.9166736602783203, 1.9040080308914185, 1.9142804145812988, 1.912682056427002, 1.9171398878097534, 1.881209135055542, 1.9043439626693726]\n",
      "[ATE:148]  [2.23738289 2.24554753 2.27307963 2.2565825  2.23538113 2.1842227\n",
      " 2.20021248 2.21809125 2.28048086 2.20506573]\n",
      "[ATE:148]  reward at the end of time step is [-0.03221233129501342]\n",
      "[ATA] optimization step performed\n",
      "[ATA episode 0]: took [10.5] seconds for one full step\n",
      "[ATE:148]  action [[1.3944694  0.51837236 0.18449796 0.17494487]] recieved\n",
      "[clf_engine]  scaled BS by [1.3944694043807206]; BS=[2500]\n",
      "[clf_engine]  scaled LR by [0.5183723566326871]; LR=[3.727309938688929e-24]\n",
      "[clf_engine]  training loop: started for [30] updates; BS=[2500] LR=[1.9321344368186165e-24]!\n"
     ]
    },
    {
     "data": {
      "application/vnd.jupyter.widget-view+json": {
       "model_id": "145612fa7aa34311a128dc80689a741e",
       "version_major": 2,
       "version_minor": 0
      },
      "text/plain": [
       "HBox(children=(FloatProgress(value=0.0, max=10.0), HTML(value='')))"
      ]
     },
     "metadata": {},
     "output_type": "display_data"
    },
    {
     "name": "stdout",
     "output_type": "stream",
     "text": [
      "\n",
      "[clf_engine]  training loop: started for [20] updates; BS=[2500] LR=[1.9321344368186165e-24]!\n"
     ]
    },
    {
     "data": {
      "application/vnd.jupyter.widget-view+json": {
       "model_id": "113aeed34f2d4a049181bd8bd9bc1ffc",
       "version_major": 2,
       "version_minor": 0
      },
      "text/plain": [
       "HBox(children=(FloatProgress(value=0.0, max=10.0), HTML(value='')))"
      ]
     },
     "metadata": {},
     "output_type": "display_data"
    },
    {
     "name": "stdout",
     "output_type": "stream",
     "text": [
      "\n",
      "[clf_engine]  training loop: started for [10] updates; BS=[2500] LR=[1.9321344368186165e-24]!\n"
     ]
    },
    {
     "data": {
      "application/vnd.jupyter.widget-view+json": {
       "model_id": "cf73594eeb274b15af2b5812876746fc",
       "version_major": 2,
       "version_minor": 0
      },
      "text/plain": [
       "HBox(children=(FloatProgress(value=0.0, max=10.0), HTML(value='')))"
      ]
     },
     "metadata": {},
     "output_type": "display_data"
    },
    {
     "name": "stdout",
     "output_type": "stream",
     "text": [
      "\n",
      "[clf_engine]  training loop: done!\n",
      "[ATE:149]  delta is: [-0.3410]; scaled delta is [-0.0341]\n",
      "[ATE:149]  [1.9002679586410522, 1.8838285207748413, 1.8926714658737183, 1.93684720993042, 1.8797852993011475, 1.9082351922988892, 1.9311251640319824, 1.9314637184143066, 1.9309008121490479, 1.9132550954818726]\n",
      "[ATE:149]  [2.22092557 2.25769472 2.26006913 2.21463323 2.31849957 2.23561335\n",
      " 2.28001952 2.23231196 2.27382088 2.22469354]\n",
      "[ATE:149]  reward at the end of time step is [-0.03409901022911073]\n",
      "[ATA] optimization step performed\n",
      "[ATA episode 0]: took [10.4] seconds for one full step\n",
      "[ATE:149]  action [[1.39274017 0.50371837 0.169585   0.15732257]] recieved\n",
      "[clf_engine]  scaled BS by [1.3927401651135416]; BS=[2500]\n",
      "[clf_engine]  scaled LR by [0.5037183733258426]; LR=[1.9321344368186165e-24]\n",
      "[clf_engine]  training loop: started for [30] updates; BS=[2500] LR=[9.732516155611165e-25]!\n"
     ]
    },
    {
     "data": {
      "application/vnd.jupyter.widget-view+json": {
       "model_id": "da9651d6cd8c4ba4a34617249bfe1442",
       "version_major": 2,
       "version_minor": 0
      },
      "text/plain": [
       "HBox(children=(FloatProgress(value=0.0, max=10.0), HTML(value='')))"
      ]
     },
     "metadata": {},
     "output_type": "display_data"
    },
    {
     "name": "stdout",
     "output_type": "stream",
     "text": [
      "\n",
      "[clf_engine]  training loop: started for [20] updates; BS=[2500] LR=[9.732516155611165e-25]!\n"
     ]
    },
    {
     "data": {
      "application/vnd.jupyter.widget-view+json": {
       "model_id": "6777fecb9a4e4755a4841cbf0453d48d",
       "version_major": 2,
       "version_minor": 0
      },
      "text/plain": [
       "HBox(children=(FloatProgress(value=0.0, max=10.0), HTML(value='')))"
      ]
     },
     "metadata": {},
     "output_type": "display_data"
    },
    {
     "name": "stdout",
     "output_type": "stream",
     "text": [
      "\n",
      "[clf_engine]  training loop: started for [10] updates; BS=[2500] LR=[9.732516155611165e-25]!\n"
     ]
    },
    {
     "data": {
      "application/vnd.jupyter.widget-view+json": {
       "model_id": "ef04734c994c4852b5f696025bc20edb",
       "version_major": 2,
       "version_minor": 0
      },
      "text/plain": [
       "HBox(children=(FloatProgress(value=0.0, max=10.0), HTML(value='')))"
      ]
     },
     "metadata": {},
     "output_type": "display_data"
    },
    {
     "name": "stdout",
     "output_type": "stream",
     "text": [
      "\n",
      "[clf_engine]  training loop: done!\n"
     ]
    },
    {
     "data": {
      "application/vnd.jupyter.widget-view+json": {
       "model_id": "465bda0c6af74685bed1cdd841ea8af2",
       "version_major": 2,
       "version_minor": 0
      },
      "text/plain": [
       "HBox(children=(FloatProgress(value=0.0, max=1563.0), HTML(value='')))"
      ]
     },
     "metadata": {},
     "output_type": "display_data"
    },
    {
     "name": "stdout",
     "output_type": "stream",
     "text": [
      "\n"
     ]
    },
    {
     "data": {
      "application/vnd.jupyter.widget-view+json": {
       "model_id": "d5b984efb5eb4091a70da9d37fc9d79c",
       "version_major": 2,
       "version_minor": 0
      },
      "text/plain": [
       "HBox(children=(FloatProgress(value=0.0, max=625.0), HTML(value='')))"
      ]
     },
     "metadata": {},
     "output_type": "display_data"
    },
    {
     "name": "stdout",
     "output_type": "stream",
     "text": [
      "\n",
      "[ATE:150]  delta is: [-0.3255]; scaled delta is [-0.0325]\n",
      "[ATE:150]  [1.9108085632324219, 1.9100837707519531, 1.9128888845443726, 1.9107084274291992, 1.929202675819397, 1.9194238185882568, 1.91749906539917, 1.9125988483428955, 1.9079219102859497, 1.9050630331039429]\n",
      "[ATE:150]  [2.2356503  2.18892717 2.22101068 2.20960879 2.242275   2.23970938\n",
      " 2.26089478 2.23915958 2.30121469 2.2524457 ]\n",
      "[ATE:150]  reward at the end of time step is [-0.03254697084426881]\n",
      "[ATA] optimization step performed\n",
      "[ATA episode 0]: took [15.0] seconds for one full step\n",
      "[ATE:150]  action [[1.20166755 0.50287469 0.19897958 0.2099826 ]] recieved\n",
      "[clf_engine]  scaled BS by [1.201667545914751]; BS=[2500]\n",
      "[clf_engine]  scaled LR by [0.5028746910207208]; LR=[9.732516155611165e-25]\n",
      "[clf_engine]  training loop: started for [30] updates; BS=[2500] LR=[4.894236054607138e-25]!\n"
     ]
    },
    {
     "data": {
      "application/vnd.jupyter.widget-view+json": {
       "model_id": "d78c388931804f83b088838f6da38b3f",
       "version_major": 2,
       "version_minor": 0
      },
      "text/plain": [
       "HBox(children=(FloatProgress(value=0.0, max=10.0), HTML(value='')))"
      ]
     },
     "metadata": {},
     "output_type": "display_data"
    },
    {
     "name": "stdout",
     "output_type": "stream",
     "text": [
      "\n",
      "[clf_engine]  training loop: started for [20] updates; BS=[2500] LR=[4.894236054607138e-25]!\n"
     ]
    },
    {
     "data": {
      "application/vnd.jupyter.widget-view+json": {
       "model_id": "aa57d9acaf0b4cb2afc4c5b9154bfdb1",
       "version_major": 2,
       "version_minor": 0
      },
      "text/plain": [
       "HBox(children=(FloatProgress(value=0.0, max=10.0), HTML(value='')))"
      ]
     },
     "metadata": {},
     "output_type": "display_data"
    },
    {
     "name": "stdout",
     "output_type": "stream",
     "text": [
      "\n",
      "[clf_engine]  training loop: started for [10] updates; BS=[2500] LR=[4.894236054607138e-25]!\n"
     ]
    },
    {
     "data": {
      "application/vnd.jupyter.widget-view+json": {
       "model_id": "1794eb42597a4325859d116fcfe46212",
       "version_major": 2,
       "version_minor": 0
      },
      "text/plain": [
       "HBox(children=(FloatProgress(value=0.0, max=10.0), HTML(value='')))"
      ]
     },
     "metadata": {},
     "output_type": "display_data"
    },
    {
     "name": "stdout",
     "output_type": "stream",
     "text": [
      "\n",
      "[clf_engine]  training loop: done!\n",
      "[ATE:151]  delta is: [-0.3327]; scaled delta is [-0.0333]\n",
      "[ATE:151]  [1.9149285554885864, 1.902467966079712, 1.9163967370986938, 1.8953925371170044, 1.9466238021850586, 1.9163894653320312, 1.92220139503479, 1.8819665908813477, 1.903260588645935, 1.9065344333648682]\n",
      "[ATE:151]  [2.3069315  2.28122139 2.27837658 2.16569805 2.27027583 2.24702716\n",
      " 2.25268435 2.23422933 2.19137526 2.20525408]\n",
      "[ATE:151]  reward at the end of time step is [-0.03326911449432373]\n",
      "[ATA] optimization step performed\n",
      "[ATA episode 0]: took [10.3] seconds for one full step\n",
      "[ATE:151]  action [[1.15140227 0.41290653 0.2405975  0.2460144 ]] recieved\n",
      "[clf_engine]  scaled BS by [1.1514022724218815]; BS=[2500]\n",
      "[clf_engine]  scaled LR by [0.4129065301165858]; LR=[4.894236054607138e-25]\n",
      "[clf_engine]  training loop: started for [30] updates; BS=[2500] LR=[2.0208620268793225e-25]!\n"
     ]
    },
    {
     "data": {
      "application/vnd.jupyter.widget-view+json": {
       "model_id": "5e232b14d35d478c84992c0db513a25e",
       "version_major": 2,
       "version_minor": 0
      },
      "text/plain": [
       "HBox(children=(FloatProgress(value=0.0, max=10.0), HTML(value='')))"
      ]
     },
     "metadata": {},
     "output_type": "display_data"
    },
    {
     "name": "stdout",
     "output_type": "stream",
     "text": [
      "\n",
      "[clf_engine]  training loop: started for [20] updates; BS=[2500] LR=[2.0208620268793225e-25]!\n"
     ]
    },
    {
     "data": {
      "application/vnd.jupyter.widget-view+json": {
       "model_id": "71fcb6bad34a415ea32b12eb0380475d",
       "version_major": 2,
       "version_minor": 0
      },
      "text/plain": [
       "HBox(children=(FloatProgress(value=0.0, max=10.0), HTML(value='')))"
      ]
     },
     "metadata": {},
     "output_type": "display_data"
    },
    {
     "name": "stdout",
     "output_type": "stream",
     "text": [
      "\n",
      "[clf_engine]  training loop: started for [10] updates; BS=[2500] LR=[2.0208620268793225e-25]!\n"
     ]
    },
    {
     "data": {
      "application/vnd.jupyter.widget-view+json": {
       "model_id": "ff58c6115f074996a4e52336b53b82f3",
       "version_major": 2,
       "version_minor": 0
      },
      "text/plain": [
       "HBox(children=(FloatProgress(value=0.0, max=10.0), HTML(value='')))"
      ]
     },
     "metadata": {},
     "output_type": "display_data"
    },
    {
     "name": "stdout",
     "output_type": "stream",
     "text": [
      "\n",
      "[clf_engine]  training loop: done!\n",
      "[ATE:152]  delta is: [-0.3251]; scaled delta is [-0.0325]\n",
      "[ATE:152]  [1.9051727056503296, 1.9140431880950928, 1.915128469467163, 1.900708556175232, 1.9008550643920898, 1.9137904644012451, 1.9316706657409668, 1.9292802810668945, 1.9108039140701294, 1.9401386976242065]\n",
      "[ATE:152]  [2.22313452 2.22711182 2.31619215 2.27020955 2.18930268 2.29194689\n",
      " 2.2174561  2.25633907 2.24550343 2.1752584 ]\n",
      "[ATE:152]  reward at the end of time step is [-0.03250862598419191]\n",
      "[ATA] optimization step performed\n",
      "[ATA episode 0]: took [10.6] seconds for one full step\n",
      "[ATE:152]  action [[1.29751022 0.44206023 0.26222777 0.27459709]] recieved\n",
      "[clf_engine]  scaled BS by [1.2975102224548054]; BS=[2500]\n",
      "[clf_engine]  scaled LR by [0.4420602262116225]; LR=[2.0208620268793225e-25]\n",
      "[clf_engine]  training loop: started for [30] updates; BS=[2500] LR=[8.933427247447512e-26]!\n"
     ]
    },
    {
     "data": {
      "application/vnd.jupyter.widget-view+json": {
       "model_id": "567023a283644cbfa809b2d9089bf308",
       "version_major": 2,
       "version_minor": 0
      },
      "text/plain": [
       "HBox(children=(FloatProgress(value=0.0, max=10.0), HTML(value='')))"
      ]
     },
     "metadata": {},
     "output_type": "display_data"
    },
    {
     "name": "stdout",
     "output_type": "stream",
     "text": [
      "\n",
      "[clf_engine]  training loop: started for [20] updates; BS=[2500] LR=[8.933427247447512e-26]!\n"
     ]
    },
    {
     "data": {
      "application/vnd.jupyter.widget-view+json": {
       "model_id": "4934423b05214beda8d3b0377a10c0dd",
       "version_major": 2,
       "version_minor": 0
      },
      "text/plain": [
       "HBox(children=(FloatProgress(value=0.0, max=10.0), HTML(value='')))"
      ]
     },
     "metadata": {},
     "output_type": "display_data"
    },
    {
     "name": "stdout",
     "output_type": "stream",
     "text": [
      "\n",
      "[clf_engine]  training loop: started for [10] updates; BS=[2500] LR=[8.933427247447512e-26]!\n"
     ]
    },
    {
     "data": {
      "application/vnd.jupyter.widget-view+json": {
       "model_id": "a70b89bd79524a76af090e9f5d604345",
       "version_major": 2,
       "version_minor": 0
      },
      "text/plain": [
       "HBox(children=(FloatProgress(value=0.0, max=10.0), HTML(value='')))"
      ]
     },
     "metadata": {},
     "output_type": "display_data"
    },
    {
     "name": "stdout",
     "output_type": "stream",
     "text": [
      "\n",
      "[clf_engine]  training loop: done!\n",
      "[ATE:153]  delta is: [-0.3449]; scaled delta is [-0.0345]\n",
      "[ATE:153]  [1.922977328300476, 1.9227536916732788, 1.9084638357162476, 1.913576364517212, 1.929815649986267, 1.9310191869735718, 1.9175630807876587, 1.8939224481582642, 1.9027445316314697, 1.9266788959503174]\n",
      "[ATE:153]  [2.22045684 2.27269912 2.21926451 2.27751088 2.27479649 2.27326393\n",
      " 2.24792838 2.2644949  2.2623508  2.30540895]\n",
      "[ATE:153]  reward at the end of time step is [-0.03448659777641296]\n",
      "[ATA] optimization step performed\n",
      "[ATA episode 0]: took [9.9] seconds for one full step\n",
      "[ATE:153]  action [[1.33732143 0.49158793 0.23602629 0.31028219]] recieved\n",
      "[clf_engine]  scaled BS by [1.3373214327606693]; BS=[2500]\n",
      "[clf_engine]  scaled LR by [0.49158793145510055]; LR=[8.933427247447512e-26]\n",
      "[clf_engine]  training loop: started for [30] updates; BS=[2500] LR=[4.391565021377355e-26]!\n"
     ]
    },
    {
     "data": {
      "application/vnd.jupyter.widget-view+json": {
       "model_id": "a76b48f724964a2b9e365a3ed07d66d1",
       "version_major": 2,
       "version_minor": 0
      },
      "text/plain": [
       "HBox(children=(FloatProgress(value=0.0, max=10.0), HTML(value='')))"
      ]
     },
     "metadata": {},
     "output_type": "display_data"
    },
    {
     "name": "stdout",
     "output_type": "stream",
     "text": [
      "\n",
      "[clf_engine]  training loop: started for [20] updates; BS=[2500] LR=[4.391565021377355e-26]!\n"
     ]
    },
    {
     "data": {
      "application/vnd.jupyter.widget-view+json": {
       "model_id": "ea66eff714d94b2694c558f2e9cb43d2",
       "version_major": 2,
       "version_minor": 0
      },
      "text/plain": [
       "HBox(children=(FloatProgress(value=0.0, max=10.0), HTML(value='')))"
      ]
     },
     "metadata": {},
     "output_type": "display_data"
    },
    {
     "name": "stdout",
     "output_type": "stream",
     "text": [
      "\n",
      "[clf_engine]  training loop: started for [10] updates; BS=[2500] LR=[4.391565021377355e-26]!\n"
     ]
    },
    {
     "data": {
      "application/vnd.jupyter.widget-view+json": {
       "model_id": "ba7437f43a9b4550a953f74c01e871b7",
       "version_major": 2,
       "version_minor": 0
      },
      "text/plain": [
       "HBox(children=(FloatProgress(value=0.0, max=10.0), HTML(value='')))"
      ]
     },
     "metadata": {},
     "output_type": "display_data"
    },
    {
     "name": "stdout",
     "output_type": "stream",
     "text": [
      "\n",
      "[clf_engine]  training loop: done!\n",
      "[ATE:154]  delta is: [-0.3399]; scaled delta is [-0.0340]\n",
      "[ATE:154]  [1.9165064096450806, 1.9028724431991577, 1.8891431093215942, 1.8950024843215942, 1.9189000129699707, 1.8992745876312256, 1.942134141921997, 1.930221438407898, 1.9288769960403442, 1.9063940048217773]\n",
      "[ATE:154]  [2.29735732 2.27816272 2.25074339 2.26693988 2.25666022 2.22191715\n",
      " 2.20365238 2.22697997 2.28172207 2.24428988]\n",
      "[ATE:154]  reward at the end of time step is [-0.03399099349975587]\n",
      "[ATA] optimization step performed\n",
      "[ATA episode 0]: took [9.9] seconds for one full step\n",
      "[ATE:154]  action [[1.30185067 0.4167125  0.25746385 0.30656487]] recieved\n",
      "[clf_engine]  scaled BS by [1.301850671333743]; BS=[2500]\n",
      "[clf_engine]  scaled LR by [0.41671249664518695]; LR=[4.391565021377355e-26]\n",
      "[clf_engine]  training loop: started for [30] updates; BS=[2500] LR=[1.8300200242378313e-26]!\n"
     ]
    },
    {
     "data": {
      "application/vnd.jupyter.widget-view+json": {
       "model_id": "6480f34e5ed74097927ee8a07c82626b",
       "version_major": 2,
       "version_minor": 0
      },
      "text/plain": [
       "HBox(children=(FloatProgress(value=0.0, max=10.0), HTML(value='')))"
      ]
     },
     "metadata": {},
     "output_type": "display_data"
    },
    {
     "name": "stdout",
     "output_type": "stream",
     "text": [
      "\n",
      "[clf_engine]  training loop: started for [20] updates; BS=[2500] LR=[1.8300200242378313e-26]!\n"
     ]
    },
    {
     "data": {
      "application/vnd.jupyter.widget-view+json": {
       "model_id": "caf80725a505488997cda0aafba403bc",
       "version_major": 2,
       "version_minor": 0
      },
      "text/plain": [
       "HBox(children=(FloatProgress(value=0.0, max=10.0), HTML(value='')))"
      ]
     },
     "metadata": {},
     "output_type": "display_data"
    },
    {
     "name": "stdout",
     "output_type": "stream",
     "text": [
      "\n",
      "[clf_engine]  training loop: started for [10] updates; BS=[2500] LR=[1.8300200242378313e-26]!\n"
     ]
    },
    {
     "data": {
      "application/vnd.jupyter.widget-view+json": {
       "model_id": "1ef022851d41453487d75f1692013c87",
       "version_major": 2,
       "version_minor": 0
      },
      "text/plain": [
       "HBox(children=(FloatProgress(value=0.0, max=10.0), HTML(value='')))"
      ]
     },
     "metadata": {},
     "output_type": "display_data"
    },
    {
     "name": "stdout",
     "output_type": "stream",
     "text": [
      "\n",
      "[clf_engine]  training loop: done!\n",
      "[ATE:155]  delta is: [-0.3128]; scaled delta is [-0.0313]\n",
      "[ATE:155]  [1.9148695468902588, 1.9002435207366943, 1.8973441123962402, 1.9133055210113525, 1.9175472259521484, 1.9229580163955688, 1.928471326828003, 1.9092943668365479, 1.9217380285263062, 1.8981714248657227]\n",
      "[ATE:155]  [2.22530317 2.16051555 2.19942093 2.27332091 2.27676201 2.25062275\n",
      " 2.21757746 2.17532063 2.28333116 2.18945289]\n",
      "[ATE:155]  reward at the end of time step is [-0.03127684354782106]\n",
      "[ATA] optimization step performed\n",
      "[ATA episode 0]: took [9.8] seconds for one full step\n",
      "[ATE:155]  action [[1.41984961 0.50307032 0.25300327 0.3453638 ]] recieved\n",
      "[clf_engine]  scaled BS by [1.4198496104432237]; BS=[2500]\n",
      "[clf_engine]  scaled LR by [0.5030703187466512]; LR=[1.8300200242378313e-26]\n",
      "[clf_engine]  training loop: started for [30] updates; BS=[2500] LR=[9.206287569060802e-27]!\n"
     ]
    },
    {
     "data": {
      "application/vnd.jupyter.widget-view+json": {
       "model_id": "e6cd9fae0bc14409a41b857e61cf8324",
       "version_major": 2,
       "version_minor": 0
      },
      "text/plain": [
       "HBox(children=(FloatProgress(value=0.0, max=10.0), HTML(value='')))"
      ]
     },
     "metadata": {},
     "output_type": "display_data"
    },
    {
     "name": "stdout",
     "output_type": "stream",
     "text": [
      "\n",
      "[clf_engine]  training loop: started for [20] updates; BS=[2500] LR=[9.206287569060802e-27]!\n"
     ]
    },
    {
     "data": {
      "application/vnd.jupyter.widget-view+json": {
       "model_id": "0846f14e2a18456cbff5496f0ac6ef7f",
       "version_major": 2,
       "version_minor": 0
      },
      "text/plain": [
       "HBox(children=(FloatProgress(value=0.0, max=10.0), HTML(value='')))"
      ]
     },
     "metadata": {},
     "output_type": "display_data"
    },
    {
     "name": "stdout",
     "output_type": "stream",
     "text": [
      "\n",
      "[clf_engine]  training loop: started for [10] updates; BS=[2500] LR=[9.206287569060802e-27]!\n"
     ]
    },
    {
     "data": {
      "application/vnd.jupyter.widget-view+json": {
       "model_id": "5708aec398b74c16bdd973e0da586315",
       "version_major": 2,
       "version_minor": 0
      },
      "text/plain": [
       "HBox(children=(FloatProgress(value=0.0, max=10.0), HTML(value='')))"
      ]
     },
     "metadata": {},
     "output_type": "display_data"
    },
    {
     "name": "stdout",
     "output_type": "stream",
     "text": [
      "\n",
      "[clf_engine]  training loop: done!\n",
      "[ATE:156]  delta is: [-0.3483]; scaled delta is [-0.0348]\n",
      "[ATE:156]  [1.938434362411499, 1.9047093391418457, 1.8949874639511108, 1.9278384447097778, 1.949442744255066, 1.9131985902786255, 1.8834259510040283, 1.9094899892807007, 1.8980954885482788, 1.9221974611282349]\n",
      "[ATE:156]  [2.30749202 2.2529633  2.2708745  2.22936869 2.26403499 2.25516272\n",
      " 2.2783742  2.22002053 2.28978276 2.2568481 ]\n",
      "[ATE:156]  reward at the end of time step is [-0.03483101963996887]\n",
      "[ATA] optimization step performed\n",
      "[ATA episode 0]: took [10.0] seconds for one full step\n",
      "[ATE:156]  action [[1.5389021  0.5712532  0.20867318 0.31213836]] recieved\n",
      "[clf_engine]  scaled BS by [1.538902099640551]; BS=[2500]\n",
      "[clf_engine]  scaled LR by [0.5712531981266958]; LR=[9.206287569060802e-27]\n",
      "[clf_engine]  training loop: started for [30] updates; BS=[2500] LR=[5.2591212167000274e-27]!\n"
     ]
    },
    {
     "data": {
      "application/vnd.jupyter.widget-view+json": {
       "model_id": "b9e4638ace8c44a8b1462948e8d5dfd9",
       "version_major": 2,
       "version_minor": 0
      },
      "text/plain": [
       "HBox(children=(FloatProgress(value=0.0, max=10.0), HTML(value='')))"
      ]
     },
     "metadata": {},
     "output_type": "display_data"
    },
    {
     "name": "stdout",
     "output_type": "stream",
     "text": [
      "\n",
      "[clf_engine]  training loop: started for [20] updates; BS=[2500] LR=[5.2591212167000274e-27]!\n"
     ]
    },
    {
     "data": {
      "application/vnd.jupyter.widget-view+json": {
       "model_id": "9b7773d3921843118bb607f214022c32",
       "version_major": 2,
       "version_minor": 0
      },
      "text/plain": [
       "HBox(children=(FloatProgress(value=0.0, max=10.0), HTML(value='')))"
      ]
     },
     "metadata": {},
     "output_type": "display_data"
    },
    {
     "name": "stdout",
     "output_type": "stream",
     "text": [
      "\n",
      "[clf_engine]  training loop: started for [10] updates; BS=[2500] LR=[5.2591212167000274e-27]!\n"
     ]
    },
    {
     "data": {
      "application/vnd.jupyter.widget-view+json": {
       "model_id": "dffb3d947773401880ca2722e8658eac",
       "version_major": 2,
       "version_minor": 0
      },
      "text/plain": [
       "HBox(children=(FloatProgress(value=0.0, max=10.0), HTML(value='')))"
      ]
     },
     "metadata": {},
     "output_type": "display_data"
    },
    {
     "name": "stdout",
     "output_type": "stream",
     "text": [
      "\n",
      "[clf_engine]  training loop: done!\n",
      "[ATE:157]  delta is: [-0.3241]; scaled delta is [-0.0324]\n",
      "[ATE:157]  [1.8914273977279663, 1.9162232875823975, 1.915081262588501, 1.930289626121521, 1.8988450765609741, 1.9064629077911377, 1.9140946865081787, 1.9048151969909668, 1.920487642288208, 1.9246294498443604]\n",
      "[ATE:157]  [2.25621057 2.14060044 2.25835633 2.21031022 2.21895766 2.23385906\n",
      " 2.26536798 2.23065591 2.29633498 2.25305724]\n",
      "[ATE:157]  reward at the end of time step is [-0.032413538694381704]\n",
      "[ATA] optimization step performed\n",
      "[ATA episode 0]: took [10.3] seconds for one full step\n",
      "[ATE:157]  action [[1.45214701 0.49885998 0.26028383 0.32670834]] recieved\n",
      "[clf_engine]  scaled BS by [1.4521470119052409]; BS=[2500]\n",
      "[clf_engine]  scaled LR by [0.4988599796990579]; LR=[5.2591212167000274e-27]\n",
      "[clf_engine]  training loop: started for [30] updates; BS=[2500] LR=[2.62356510339786e-27]!\n"
     ]
    },
    {
     "data": {
      "application/vnd.jupyter.widget-view+json": {
       "model_id": "1696d951cf2a46078b5b8e318032812c",
       "version_major": 2,
       "version_minor": 0
      },
      "text/plain": [
       "HBox(children=(FloatProgress(value=0.0, max=10.0), HTML(value='')))"
      ]
     },
     "metadata": {},
     "output_type": "display_data"
    },
    {
     "name": "stdout",
     "output_type": "stream",
     "text": [
      "\n",
      "[clf_engine]  training loop: started for [20] updates; BS=[2500] LR=[2.62356510339786e-27]!\n"
     ]
    },
    {
     "data": {
      "application/vnd.jupyter.widget-view+json": {
       "model_id": "e57b20c4b66d42d8811a617a13c9cbd3",
       "version_major": 2,
       "version_minor": 0
      },
      "text/plain": [
       "HBox(children=(FloatProgress(value=0.0, max=10.0), HTML(value='')))"
      ]
     },
     "metadata": {},
     "output_type": "display_data"
    },
    {
     "name": "stdout",
     "output_type": "stream",
     "text": [
      "\n",
      "[clf_engine]  training loop: started for [10] updates; BS=[2500] LR=[2.62356510339786e-27]!\n"
     ]
    },
    {
     "data": {
      "application/vnd.jupyter.widget-view+json": {
       "model_id": "d725a483a8c24a6fb8cbc029b129086a",
       "version_major": 2,
       "version_minor": 0
      },
      "text/plain": [
       "HBox(children=(FloatProgress(value=0.0, max=10.0), HTML(value='')))"
      ]
     },
     "metadata": {},
     "output_type": "display_data"
    },
    {
     "name": "stdout",
     "output_type": "stream",
     "text": [
      "\n",
      "[clf_engine]  training loop: done!\n",
      "[ATE:158]  delta is: [-0.3187]; scaled delta is [-0.0319]\n",
      "[ATE:158]  [1.9207816123962402, 1.9296413660049438, 1.9071837663650513, 1.9172289371490479, 1.9143041372299194, 1.9346774816513062, 1.9089248180389404, 1.9088976383209229, 1.9196349382400513, 1.8913592100143433]\n",
      "[ATE:158]  [2.20742273 2.22388554 2.25322199 2.17597103 2.25048256 2.24599719\n",
      " 2.17455792 2.26618314 2.2678268  2.27405763]\n",
      "[ATE:158]  reward at the end of time step is [-0.031869726181030254]\n",
      "[ATA] optimization step performed\n",
      "[ATA episode 0]: took [10.5] seconds for one full step\n",
      "[ATE:158]  action [[1.45464721 0.54700266 0.30125269 0.45103726]] recieved\n",
      "[clf_engine]  scaled BS by [1.4546472101844754]; BS=[2500]\n",
      "[clf_engine]  scaled LR by [0.5470026598868364]; LR=[2.62356510339786e-27]\n",
      "[clf_engine]  training loop: started for [30] updates; BS=[2500] LR=[1.4350970899449124e-27]!\n"
     ]
    },
    {
     "data": {
      "application/vnd.jupyter.widget-view+json": {
       "model_id": "80831e5b2ba944709071b8fab46e1d91",
       "version_major": 2,
       "version_minor": 0
      },
      "text/plain": [
       "HBox(children=(FloatProgress(value=0.0, max=10.0), HTML(value='')))"
      ]
     },
     "metadata": {},
     "output_type": "display_data"
    },
    {
     "name": "stdout",
     "output_type": "stream",
     "text": [
      "\n",
      "[clf_engine]  training loop: started for [20] updates; BS=[2500] LR=[1.4350970899449124e-27]!\n"
     ]
    },
    {
     "data": {
      "application/vnd.jupyter.widget-view+json": {
       "model_id": "f19ffa2de0054154884c6f65d93b8cbc",
       "version_major": 2,
       "version_minor": 0
      },
      "text/plain": [
       "HBox(children=(FloatProgress(value=0.0, max=10.0), HTML(value='')))"
      ]
     },
     "metadata": {},
     "output_type": "display_data"
    },
    {
     "name": "stdout",
     "output_type": "stream",
     "text": [
      "\n",
      "[clf_engine]  training loop: started for [10] updates; BS=[2500] LR=[1.4350970899449124e-27]!\n"
     ]
    },
    {
     "data": {
      "application/vnd.jupyter.widget-view+json": {
       "model_id": "9909d05fc2cd431f9c1d20ba2b1fd7f1",
       "version_major": 2,
       "version_minor": 0
      },
      "text/plain": [
       "HBox(children=(FloatProgress(value=0.0, max=10.0), HTML(value='')))"
      ]
     },
     "metadata": {},
     "output_type": "display_data"
    },
    {
     "name": "stdout",
     "output_type": "stream",
     "text": [
      "\n",
      "[clf_engine]  training loop: done!\n",
      "[ATE:159]  delta is: [-0.3219]; scaled delta is [-0.0322]\n",
      "[ATE:159]  [1.9261019229888916, 1.9162894487380981, 1.9075673818588257, 1.915092945098877, 1.9318257570266724, 1.9121053218841553, 1.9014687538146973, 1.9349579811096191, 1.924460530281067, 1.901937484741211]\n",
      "[ATE:159]  [2.32693863 2.24119186 2.22227597 2.19673777 2.22658467 2.21834087\n",
      " 2.19342995 2.25761509 2.21484756 2.29279876]\n",
      "[ATE:159]  reward at the end of time step is [-0.03218953609466553]\n",
      "[ATA] optimization step performed\n",
      "[ATA episode 0]: took [11.2] seconds for one full step\n",
      "[ATE:159]  action [[1.3521357  0.57692519 0.29921204 0.41235896]] recieved\n",
      "[clf_engine]  scaled BS by [1.3521357036276012]; BS=[2500]\n",
      "[clf_engine]  scaled LR by [0.5769251911667203]; LR=[1.4350970899449124e-27]\n",
      "[clf_engine]  training loop: started for [30] updates; BS=[2500] LR=[8.279436629592725e-28]!\n"
     ]
    },
    {
     "data": {
      "application/vnd.jupyter.widget-view+json": {
       "model_id": "20187236407a4c9f82b89a91d64f8558",
       "version_major": 2,
       "version_minor": 0
      },
      "text/plain": [
       "HBox(children=(FloatProgress(value=0.0, max=10.0), HTML(value='')))"
      ]
     },
     "metadata": {},
     "output_type": "display_data"
    },
    {
     "name": "stdout",
     "output_type": "stream",
     "text": [
      "\n",
      "[clf_engine]  training loop: started for [20] updates; BS=[2500] LR=[8.279436629592725e-28]!\n"
     ]
    },
    {
     "data": {
      "application/vnd.jupyter.widget-view+json": {
       "model_id": "0322dac60c7140b3bfb729a2c723e75c",
       "version_major": 2,
       "version_minor": 0
      },
      "text/plain": [
       "HBox(children=(FloatProgress(value=0.0, max=10.0), HTML(value='')))"
      ]
     },
     "metadata": {},
     "output_type": "display_data"
    },
    {
     "name": "stdout",
     "output_type": "stream",
     "text": [
      "\n",
      "[clf_engine]  training loop: started for [10] updates; BS=[2500] LR=[8.279436629592725e-28]!\n"
     ]
    },
    {
     "data": {
      "application/vnd.jupyter.widget-view+json": {
       "model_id": "ac299668ac6643e785f0d8396a250808",
       "version_major": 2,
       "version_minor": 0
      },
      "text/plain": [
       "HBox(children=(FloatProgress(value=0.0, max=10.0), HTML(value='')))"
      ]
     },
     "metadata": {},
     "output_type": "display_data"
    },
    {
     "name": "stdout",
     "output_type": "stream",
     "text": [
      "\n",
      "[clf_engine]  training loop: done!\n"
     ]
    },
    {
     "data": {
      "application/vnd.jupyter.widget-view+json": {
       "model_id": "786dfd1310c44509ac15abe432a49a15",
       "version_major": 2,
       "version_minor": 0
      },
      "text/plain": [
       "HBox(children=(FloatProgress(value=0.0, max=1563.0), HTML(value='')))"
      ]
     },
     "metadata": {},
     "output_type": "display_data"
    },
    {
     "name": "stdout",
     "output_type": "stream",
     "text": [
      "\n"
     ]
    },
    {
     "data": {
      "application/vnd.jupyter.widget-view+json": {
       "model_id": "95b4c258c1fe4381b6e43ee462f8a31b",
       "version_major": 2,
       "version_minor": 0
      },
      "text/plain": [
       "HBox(children=(FloatProgress(value=0.0, max=625.0), HTML(value='')))"
      ]
     },
     "metadata": {},
     "output_type": "display_data"
    },
    {
     "name": "stdout",
     "output_type": "stream",
     "text": [
      "\n",
      "[ATE:160]  delta is: [-0.3153]; scaled delta is [-0.0315]\n",
      "[ATE:160]  [1.9222084283828735, 1.91277015209198, 1.9295759201049805, 1.9091988801956177, 1.9164072275161743, 1.9185711145401, 1.921628713607788, 1.9090135097503662, 1.9273335933685303, 1.8955355882644653]\n",
      "[ATE:160]  [2.21934175 2.20847416 2.30445361 2.18431854 2.26458359 2.23858547\n",
      " 2.26026368 2.28804946 2.16848588 2.17903757]\n",
      "[ATE:160]  reward at the end of time step is [-0.031533505916595476]\n",
      "[ATA] optimization step performed\n",
      "[ATA episode 0]: took [16.0] seconds for one full step\n",
      "[ATE:160]  action [[1.40616892 0.45326794 0.26489482 0.31674547]] recieved\n",
      "[clf_engine]  scaled BS by [1.4061689180908887]; BS=[2500]\n",
      "[clf_engine]  scaled LR by [0.453267944311936]; LR=[8.279436629592725e-28]\n",
      "[clf_engine]  training loop: started for [30] updates; BS=[2500] LR=[3.7528032211564384e-28]!\n"
     ]
    },
    {
     "data": {
      "application/vnd.jupyter.widget-view+json": {
       "model_id": "f0d5ac833c334c2aaadf0eae080e0df9",
       "version_major": 2,
       "version_minor": 0
      },
      "text/plain": [
       "HBox(children=(FloatProgress(value=0.0, max=10.0), HTML(value='')))"
      ]
     },
     "metadata": {},
     "output_type": "display_data"
    },
    {
     "name": "stdout",
     "output_type": "stream",
     "text": [
      "\n",
      "[clf_engine]  training loop: started for [20] updates; BS=[2500] LR=[3.7528032211564384e-28]!\n"
     ]
    },
    {
     "data": {
      "application/vnd.jupyter.widget-view+json": {
       "model_id": "33cc94792bfd4237aa6e0af1fa6c3096",
       "version_major": 2,
       "version_minor": 0
      },
      "text/plain": [
       "HBox(children=(FloatProgress(value=0.0, max=10.0), HTML(value='')))"
      ]
     },
     "metadata": {},
     "output_type": "display_data"
    },
    {
     "name": "stdout",
     "output_type": "stream",
     "text": [
      "\n",
      "[clf_engine]  training loop: started for [10] updates; BS=[2500] LR=[3.7528032211564384e-28]!\n"
     ]
    },
    {
     "data": {
      "application/vnd.jupyter.widget-view+json": {
       "model_id": "3be4af460560463ba10fbd93b7748a3b",
       "version_major": 2,
       "version_minor": 0
      },
      "text/plain": [
       "HBox(children=(FloatProgress(value=0.0, max=10.0), HTML(value='')))"
      ]
     },
     "metadata": {},
     "output_type": "display_data"
    },
    {
     "name": "stdout",
     "output_type": "stream",
     "text": [
      "\n",
      "[clf_engine]  training loop: done!\n",
      "[ATE:161]  delta is: [-0.3123]; scaled delta is [-0.0312]\n",
      "[ATE:161]  [1.9097930192947388, 1.895267128944397, 1.899950385093689, 1.9079370498657227, 1.9338027238845825, 1.9108197689056396, 1.9245624542236328, 1.9163025617599487, 1.9011683464050293, 1.9188635349273682]\n",
      "[ATE:161]  [2.26161623 2.24352694 2.2071383  2.22503805 2.23642159 2.18387794\n",
      " 2.15353107 2.25754452 2.23852801 2.23433542]\n",
      "[ATE:161]  reward at the end of time step is [-0.031230911016464226]\n",
      "[ATA] optimization step performed\n",
      "[ATA episode 0]: took [10.8] seconds for one full step\n",
      "[ATE:161]  action [[1.44992498 0.43492847 0.28001549 0.301439  ]] recieved\n",
      "[clf_engine]  scaled BS by [1.4499249818185607]; BS=[2500]\n",
      "[clf_engine]  scaled LR by [0.4349284736328861]; LR=[3.7528032211564384e-28]\n",
      "[clf_engine]  training loop: started for [30] updates; BS=[2500] LR=[1.632200976822148e-28]!\n"
     ]
    },
    {
     "data": {
      "application/vnd.jupyter.widget-view+json": {
       "model_id": "fa45e17c053d46a082cedfdda816962a",
       "version_major": 2,
       "version_minor": 0
      },
      "text/plain": [
       "HBox(children=(FloatProgress(value=0.0, max=10.0), HTML(value='')))"
      ]
     },
     "metadata": {},
     "output_type": "display_data"
    },
    {
     "name": "stdout",
     "output_type": "stream",
     "text": [
      "\n",
      "[clf_engine]  training loop: started for [20] updates; BS=[2500] LR=[1.632200976822148e-28]!\n"
     ]
    },
    {
     "data": {
      "application/vnd.jupyter.widget-view+json": {
       "model_id": "736184d609b64cebb5f57a75d5c48b2a",
       "version_major": 2,
       "version_minor": 0
      },
      "text/plain": [
       "HBox(children=(FloatProgress(value=0.0, max=10.0), HTML(value='')))"
      ]
     },
     "metadata": {},
     "output_type": "display_data"
    },
    {
     "name": "stdout",
     "output_type": "stream",
     "text": [
      "\n",
      "[clf_engine]  training loop: started for [10] updates; BS=[2500] LR=[1.632200976822148e-28]!\n"
     ]
    },
    {
     "data": {
      "application/vnd.jupyter.widget-view+json": {
       "model_id": "5ca85ee627334f9e9b0af420b7b5be67",
       "version_major": 2,
       "version_minor": 0
      },
      "text/plain": [
       "HBox(children=(FloatProgress(value=0.0, max=10.0), HTML(value='')))"
      ]
     },
     "metadata": {},
     "output_type": "display_data"
    },
    {
     "name": "stdout",
     "output_type": "stream",
     "text": [
      "\n",
      "[clf_engine]  training loop: done!\n",
      "[ATE:162]  delta is: [-0.3194]; scaled delta is [-0.0319]\n",
      "[ATE:162]  [1.895512342453003, 1.9145621061325073, 1.9254655838012695, 1.9274927377700806, 1.9161607027053833, 1.902604341506958, 1.9190462827682495, 1.9273210763931274, 1.9228038787841797, 1.915010929107666]\n",
      "[ATE:162]  [2.22046638 2.20225072 2.20590353 2.25230074 2.24950838 2.21616197\n",
      " 2.2964294  2.19670534 2.25154877 2.26885176]\n",
      "[ATE:162]  reward at the end of time step is [-0.03194146990776061]\n",
      "[ATA] optimization step performed\n",
      "[ATA episode 0]: took [10.3] seconds for one full step\n",
      "[ATE:162]  action [[1.47800998 0.35337821 0.27893989 0.33481192]] recieved\n",
      "[clf_engine]  scaled BS by [1.4780099754715008]; BS=[2500]\n",
      "[clf_engine]  scaled LR by [0.35337820684775084]; LR=[1.632200976822148e-28]\n",
      "[clf_engine]  training loop: started for [30] updates; BS=[2500] LR=[5.76784254404558e-29]!\n"
     ]
    },
    {
     "data": {
      "application/vnd.jupyter.widget-view+json": {
       "model_id": "de892442f9bc45339f5aeac4363deb88",
       "version_major": 2,
       "version_minor": 0
      },
      "text/plain": [
       "HBox(children=(FloatProgress(value=0.0, max=10.0), HTML(value='')))"
      ]
     },
     "metadata": {},
     "output_type": "display_data"
    },
    {
     "name": "stdout",
     "output_type": "stream",
     "text": [
      "\n",
      "[clf_engine]  training loop: started for [20] updates; BS=[2500] LR=[5.76784254404558e-29]!\n"
     ]
    },
    {
     "data": {
      "application/vnd.jupyter.widget-view+json": {
       "model_id": "de46d8e847e342648076959b7ed4b217",
       "version_major": 2,
       "version_minor": 0
      },
      "text/plain": [
       "HBox(children=(FloatProgress(value=0.0, max=10.0), HTML(value='')))"
      ]
     },
     "metadata": {},
     "output_type": "display_data"
    },
    {
     "name": "stdout",
     "output_type": "stream",
     "text": [
      "\n",
      "[clf_engine]  training loop: started for [10] updates; BS=[2500] LR=[5.76784254404558e-29]!\n"
     ]
    },
    {
     "data": {
      "application/vnd.jupyter.widget-view+json": {
       "model_id": "1853e782df0b46c8893a456280c01181",
       "version_major": 2,
       "version_minor": 0
      },
      "text/plain": [
       "HBox(children=(FloatProgress(value=0.0, max=10.0), HTML(value='')))"
      ]
     },
     "metadata": {},
     "output_type": "display_data"
    },
    {
     "name": "stdout",
     "output_type": "stream",
     "text": [
      "\n",
      "[clf_engine]  training loop: done!\n",
      "[ATE:163]  delta is: [-0.2773]; scaled delta is [-0.0277]\n",
      "[ATE:163]  [1.912730097770691, 1.9020349979400635, 1.9065638780593872, 1.908793330192566, 1.9148814678192139, 1.9511165618896484, 1.9285264015197754, 1.9077849388122559, 1.8901607990264893, 1.9096722602844238]\n",
      "[ATE:163]  [2.18137908 2.23419952 2.23887658 2.21642017 2.14439344 2.19864678\n",
      " 2.20989585 2.13301182 2.19116449 2.15729856]\n",
      "[ATE:163]  reward at the end of time step is [-0.02773021578788757]\n",
      "[ATA] optimization step performed\n",
      "[ATA episode 0]: took [10.0] seconds for one full step\n",
      "[ATE:163]  action [[1.50208006 0.33285198 0.29901434 0.40911921]] recieved\n",
      "[clf_engine]  scaled BS by [1.5020800567975885]; BS=[2500]\n",
      "[clf_engine]  scaled LR by [0.3328519780640882]; LR=[5.76784254404558e-29]\n",
      "[clf_engine]  training loop: started for [30] updates; BS=[2500] LR=[1.9198377999477744e-29]!\n"
     ]
    },
    {
     "data": {
      "application/vnd.jupyter.widget-view+json": {
       "model_id": "be5e711d52164ee680dbf09610f75a6b",
       "version_major": 2,
       "version_minor": 0
      },
      "text/plain": [
       "HBox(children=(FloatProgress(value=0.0, max=10.0), HTML(value='')))"
      ]
     },
     "metadata": {},
     "output_type": "display_data"
    },
    {
     "name": "stdout",
     "output_type": "stream",
     "text": [
      "\n",
      "[clf_engine]  training loop: started for [20] updates; BS=[2500] LR=[1.9198377999477744e-29]!\n"
     ]
    },
    {
     "data": {
      "application/vnd.jupyter.widget-view+json": {
       "model_id": "2e3c3b4fa545407f8c1c4432cd94bdca",
       "version_major": 2,
       "version_minor": 0
      },
      "text/plain": [
       "HBox(children=(FloatProgress(value=0.0, max=10.0), HTML(value='')))"
      ]
     },
     "metadata": {},
     "output_type": "display_data"
    },
    {
     "name": "stdout",
     "output_type": "stream",
     "text": [
      "\n",
      "[clf_engine]  training loop: started for [10] updates; BS=[2500] LR=[1.9198377999477744e-29]!\n"
     ]
    },
    {
     "data": {
      "application/vnd.jupyter.widget-view+json": {
       "model_id": "f63c352b1ddf416ebb71708921faf7fa",
       "version_major": 2,
       "version_minor": 0
      },
      "text/plain": [
       "HBox(children=(FloatProgress(value=0.0, max=10.0), HTML(value='')))"
      ]
     },
     "metadata": {},
     "output_type": "display_data"
    },
    {
     "name": "stdout",
     "output_type": "stream",
     "text": [
      "\n",
      "[clf_engine]  training loop: done!\n",
      "[ATE:164]  delta is: [-0.3111]; scaled delta is [-0.0311]\n",
      "[ATE:164]  [1.911397099494934, 1.897447109222412, 1.9069064855575562, 1.9215736389160156, 1.9216599464416504, 1.8986835479736328, 1.936917781829834, 1.9200941324234009, 1.9088554382324219, 1.929811954498291]\n",
      "[ATE:164]  [2.27860427 2.22608852 2.16304255 2.28541732 2.25883698 2.22136116\n",
      " 2.21386671 2.24304533 2.1614356  2.21241474]\n",
      "[ATE:164]  reward at the end of time step is [-0.031107660531997695]\n",
      "[ATA] optimization step performed\n",
      "[ATA episode 0]: took [10.5] seconds for one full step\n",
      "[ATE:164]  action [[1.49469659 0.415846   0.3057281  0.41097297]] recieved\n",
      "[clf_engine]  scaled BS by [1.4946965854665386]; BS=[2500]\n",
      "[clf_engine]  scaled LR by [0.41584600355172047]; LR=[1.9198377999477744e-29]\n",
      "[clf_engine]  training loop: started for [30] updates; BS=[2500] LR=[7.983568765758094e-30]!\n"
     ]
    },
    {
     "data": {
      "application/vnd.jupyter.widget-view+json": {
       "model_id": "1762d3852816427a805b70f127c519a5",
       "version_major": 2,
       "version_minor": 0
      },
      "text/plain": [
       "HBox(children=(FloatProgress(value=0.0, max=10.0), HTML(value='')))"
      ]
     },
     "metadata": {},
     "output_type": "display_data"
    },
    {
     "name": "stdout",
     "output_type": "stream",
     "text": [
      "\n",
      "[clf_engine]  training loop: started for [20] updates; BS=[2500] LR=[7.983568765758094e-30]!\n"
     ]
    },
    {
     "data": {
      "application/vnd.jupyter.widget-view+json": {
       "model_id": "c9498ca4467e4e3392f1add5ea20ec3e",
       "version_major": 2,
       "version_minor": 0
      },
      "text/plain": [
       "HBox(children=(FloatProgress(value=0.0, max=10.0), HTML(value='')))"
      ]
     },
     "metadata": {},
     "output_type": "display_data"
    },
    {
     "name": "stdout",
     "output_type": "stream",
     "text": [
      "\n",
      "[clf_engine]  training loop: started for [10] updates; BS=[2500] LR=[7.983568765758094e-30]!\n"
     ]
    },
    {
     "data": {
      "application/vnd.jupyter.widget-view+json": {
       "model_id": "711cff59316c447eb3653566900a84e7",
       "version_major": 2,
       "version_minor": 0
      },
      "text/plain": [
       "HBox(children=(FloatProgress(value=0.0, max=10.0), HTML(value='')))"
      ]
     },
     "metadata": {},
     "output_type": "display_data"
    },
    {
     "name": "stdout",
     "output_type": "stream",
     "text": [
      "\n",
      "[clf_engine]  training loop: done!\n",
      "[ATE:165]  delta is: [-0.3210]; scaled delta is [-0.0321]\n",
      "[ATE:165]  [1.9123846292495728, 1.9230917692184448, 1.9157097339630127, 1.9341973066329956, 1.9179857969284058, 1.9081251621246338, 1.903388500213623, 1.9249778985977173, 1.9177216291427612, 1.911039113998413]\n",
      "[ATE:165]  [2.18081474 2.2161777  2.26050711 2.25438142 2.2698853  2.19014907\n",
      " 2.26167583 2.18413806 2.33722401 2.22405553]\n",
      "[ATE:165]  reward at the end of time step is [-0.032103872299194335]\n",
      "[ATA] optimization step performed\n",
      "[ATA episode 0]: took [10.4] seconds for one full step\n",
      "[ATE:165]  action [[1.58367429 0.38521779 0.29963301 0.41553157]] recieved\n",
      "[clf_engine]  scaled BS by [1.5836742863012139]; BS=[2500]\n",
      "[clf_engine]  scaled LR by [0.38521778636547255]; LR=[7.983568765758094e-30]\n",
      "[clf_engine]  training loop: started for [30] updates; BS=[2500] LR=[3.075412687241861e-30]!\n"
     ]
    },
    {
     "data": {
      "application/vnd.jupyter.widget-view+json": {
       "model_id": "77973bb80a8449a9a97ffc378004f9dc",
       "version_major": 2,
       "version_minor": 0
      },
      "text/plain": [
       "HBox(children=(FloatProgress(value=0.0, max=10.0), HTML(value='')))"
      ]
     },
     "metadata": {},
     "output_type": "display_data"
    },
    {
     "name": "stdout",
     "output_type": "stream",
     "text": [
      "\n",
      "[clf_engine]  training loop: started for [20] updates; BS=[2500] LR=[3.075412687241861e-30]!\n"
     ]
    },
    {
     "data": {
      "application/vnd.jupyter.widget-view+json": {
       "model_id": "6749114d44c24fa48c1de55cec144e93",
       "version_major": 2,
       "version_minor": 0
      },
      "text/plain": [
       "HBox(children=(FloatProgress(value=0.0, max=10.0), HTML(value='')))"
      ]
     },
     "metadata": {},
     "output_type": "display_data"
    },
    {
     "name": "stdout",
     "output_type": "stream",
     "text": [
      "\n",
      "[clf_engine]  training loop: started for [10] updates; BS=[2500] LR=[3.075412687241861e-30]!\n"
     ]
    },
    {
     "data": {
      "application/vnd.jupyter.widget-view+json": {
       "model_id": "44ae2ed4caf64529a0479a8fdd8e0b32",
       "version_major": 2,
       "version_minor": 0
      },
      "text/plain": [
       "HBox(children=(FloatProgress(value=0.0, max=10.0), HTML(value='')))"
      ]
     },
     "metadata": {},
     "output_type": "display_data"
    },
    {
     "name": "stdout",
     "output_type": "stream",
     "text": [
      "\n",
      "[clf_engine]  training loop: done!\n",
      "[ATE:166]  delta is: [-0.3033]; scaled delta is [-0.0303]\n",
      "[ATE:166]  [1.9374513626098633, 1.9041001796722412, 1.914402961730957, 1.9170892238616943, 1.9013934135437012, 1.9221726655960083, 1.8928831815719604, 1.920533537864685, 1.9472084045410156, 1.9118847846984863]\n",
      "[ATE:166]  [2.29843163 2.15146637 2.22316384 2.18983507 2.23279595 2.21103024\n",
      " 2.27320719 2.20724106 2.19210219 2.22255874]\n",
      "[ATE:166]  reward at the end of time step is [-0.030327125787735]\n",
      "[ATA] optimization step performed\n",
      "[ATA episode 0]: took [10.3] seconds for one full step\n",
      "[ATE:166]  action [[1.47696715 0.47615093 0.29038466 0.46469835]] recieved\n",
      "[clf_engine]  scaled BS by [1.4769671501776285]; BS=[2500]\n",
      "[clf_engine]  scaled LR by [0.47615092964522737]; LR=[3.075412687241861e-30]\n",
      "[clf_engine]  training loop: started for [30] updates; BS=[2500] LR=[1.464360610072939e-30]!\n"
     ]
    },
    {
     "data": {
      "application/vnd.jupyter.widget-view+json": {
       "model_id": "9a2a097806b14d539c039dcb77c801da",
       "version_major": 2,
       "version_minor": 0
      },
      "text/plain": [
       "HBox(children=(FloatProgress(value=0.0, max=10.0), HTML(value='')))"
      ]
     },
     "metadata": {},
     "output_type": "display_data"
    },
    {
     "name": "stdout",
     "output_type": "stream",
     "text": [
      "\n",
      "[clf_engine]  training loop: started for [20] updates; BS=[2500] LR=[1.464360610072939e-30]!\n"
     ]
    },
    {
     "data": {
      "application/vnd.jupyter.widget-view+json": {
       "model_id": "fa22bac1fa6045238771de5f034ec7bc",
       "version_major": 2,
       "version_minor": 0
      },
      "text/plain": [
       "HBox(children=(FloatProgress(value=0.0, max=10.0), HTML(value='')))"
      ]
     },
     "metadata": {},
     "output_type": "display_data"
    },
    {
     "name": "stdout",
     "output_type": "stream",
     "text": [
      "\n",
      "[clf_engine]  training loop: started for [10] updates; BS=[2500] LR=[1.464360610072939e-30]!\n"
     ]
    },
    {
     "data": {
      "application/vnd.jupyter.widget-view+json": {
       "model_id": "1a2c1720bdb34801b850988e1529256e",
       "version_major": 2,
       "version_minor": 0
      },
      "text/plain": [
       "HBox(children=(FloatProgress(value=0.0, max=10.0), HTML(value='')))"
      ]
     },
     "metadata": {},
     "output_type": "display_data"
    },
    {
     "name": "stdout",
     "output_type": "stream",
     "text": [
      "\n",
      "[clf_engine]  training loop: done!\n",
      "[ATE:167]  delta is: [-0.3079]; scaled delta is [-0.0308]\n",
      "[ATE:167]  [1.9178117513656616, 1.9256010055541992, 1.9006004333496094, 1.8814966678619385, 1.9133273363113403, 1.908123254776001, 1.9068857431411743, 1.9306257963180542, 1.9335601329803467, 1.9333980083465576]\n",
      "[ATE:167]  [2.24598694 2.19814587 2.30212903 2.1707983  2.2179265  2.2081995\n",
      " 2.31234646 2.14415336 2.22449064 2.20624375]\n",
      "[ATE:167]  reward at the end of time step is [-0.030789902210235587]\n",
      "[ATA] optimization step performed\n",
      "[ATA episode 0]: took [10.5] seconds for one full step\n",
      "[ATE:167]  action [[1.48368099 0.49174635 0.29596864 0.45383724]] recieved\n",
      "[clf_engine]  scaled BS by [1.4836809919754606]; BS=[2500]\n",
      "[clf_engine]  scaled LR by [0.4917463470068153]; LR=[1.464360610072939e-30]\n",
      "[clf_engine]  training loop: started for [30] updates; BS=[2500] LR=[7.200939807040392e-31]!\n"
     ]
    },
    {
     "data": {
      "application/vnd.jupyter.widget-view+json": {
       "model_id": "5bc212c45e29432489c72767f974375c",
       "version_major": 2,
       "version_minor": 0
      },
      "text/plain": [
       "HBox(children=(FloatProgress(value=0.0, max=10.0), HTML(value='')))"
      ]
     },
     "metadata": {},
     "output_type": "display_data"
    },
    {
     "name": "stdout",
     "output_type": "stream",
     "text": [
      "\n",
      "[clf_engine]  training loop: started for [20] updates; BS=[2500] LR=[7.200939807040392e-31]!\n"
     ]
    },
    {
     "data": {
      "application/vnd.jupyter.widget-view+json": {
       "model_id": "e086019482374604a6acffeec1314752",
       "version_major": 2,
       "version_minor": 0
      },
      "text/plain": [
       "HBox(children=(FloatProgress(value=0.0, max=10.0), HTML(value='')))"
      ]
     },
     "metadata": {},
     "output_type": "display_data"
    },
    {
     "name": "stdout",
     "output_type": "stream",
     "text": [
      "\n",
      "[clf_engine]  training loop: started for [10] updates; BS=[2500] LR=[7.200939807040392e-31]!\n"
     ]
    },
    {
     "data": {
      "application/vnd.jupyter.widget-view+json": {
       "model_id": "a8e3effb00dd46a2a701e64d8ba4027c",
       "version_major": 2,
       "version_minor": 0
      },
      "text/plain": [
       "HBox(children=(FloatProgress(value=0.0, max=10.0), HTML(value='')))"
      ]
     },
     "metadata": {},
     "output_type": "display_data"
    },
    {
     "name": "stdout",
     "output_type": "stream",
     "text": [
      "\n",
      "[clf_engine]  training loop: done!\n",
      "[ATE:168]  delta is: [-0.3307]; scaled delta is [-0.0331]\n",
      "[ATE:168]  [1.9233163595199585, 1.9404271841049194, 1.9064521789550781, 1.8997373580932617, 1.8912558555603027, 1.9179468154907227, 1.914959192276001, 1.9040573835372925, 1.934332251548767, 1.906764268875122]\n",
      "[ATE:168]  [2.25506115 2.29298496 2.26090407 2.15445924 2.22052479 2.26422119\n",
      " 2.24951982 2.23837423 2.25568247 2.25490141]\n",
      "[ATE:168]  reward at the end of time step is [-0.033073844909667985]\n",
      "[ATA] optimization step performed\n",
      "[ATA episode 0]: took [11.2] seconds for one full step\n",
      "[ATE:168]  action [[1.50182744 0.47088219 0.25552328 0.40355043]] recieved\n",
      "[clf_engine]  scaled BS by [1.5018274431487835]; BS=[2500]\n",
      "[clf_engine]  scaled LR by [0.47088218582928226]; LR=[7.200939807040392e-31]\n",
      "[clf_engine]  training loop: started for [30] updates; BS=[2500] LR=[3.39079427636427e-31]!\n"
     ]
    },
    {
     "data": {
      "application/vnd.jupyter.widget-view+json": {
       "model_id": "e59d573158e448cd85f9bf721ff95cab",
       "version_major": 2,
       "version_minor": 0
      },
      "text/plain": [
       "HBox(children=(FloatProgress(value=0.0, max=10.0), HTML(value='')))"
      ]
     },
     "metadata": {},
     "output_type": "display_data"
    },
    {
     "name": "stdout",
     "output_type": "stream",
     "text": [
      "\n",
      "[clf_engine]  training loop: started for [20] updates; BS=[2500] LR=[3.39079427636427e-31]!\n"
     ]
    },
    {
     "data": {
      "application/vnd.jupyter.widget-view+json": {
       "model_id": "283f39d974e740ecb0023e13281a8349",
       "version_major": 2,
       "version_minor": 0
      },
      "text/plain": [
       "HBox(children=(FloatProgress(value=0.0, max=10.0), HTML(value='')))"
      ]
     },
     "metadata": {},
     "output_type": "display_data"
    },
    {
     "name": "stdout",
     "output_type": "stream",
     "text": [
      "\n",
      "[clf_engine]  training loop: started for [10] updates; BS=[2500] LR=[3.39079427636427e-31]!\n"
     ]
    },
    {
     "data": {
      "application/vnd.jupyter.widget-view+json": {
       "model_id": "b5c25191d65b4a4c9020fea5ceb1cd94",
       "version_major": 2,
       "version_minor": 0
      },
      "text/plain": [
       "HBox(children=(FloatProgress(value=0.0, max=10.0), HTML(value='')))"
      ]
     },
     "metadata": {},
     "output_type": "display_data"
    },
    {
     "name": "stdout",
     "output_type": "stream",
     "text": [
      "\n",
      "[clf_engine]  training loop: done!\n",
      "[ATE:169]  delta is: [-0.3072]; scaled delta is [-0.0307]\n",
      "[ATE:169]  [1.9296073913574219, 1.8832240104675293, 1.9108752012252808, 1.9128564596176147, 1.903087854385376, 1.9166587591171265, 1.9163646697998047, 1.9243264198303223, 1.923079252243042, 1.881441593170166]\n",
      "[ATE:169]  [2.32548714 2.21925426 2.13915324 2.17833161 2.15575147 2.18744898\n",
      " 2.26688838 2.2339766  2.20626545 2.26115489]\n",
      "[ATE:169]  reward at the end of time step is [-0.030721904039382953]\n",
      "[ATA] optimization step performed\n",
      "[ATA episode 0]: took [11.0] seconds for one full step\n",
      "[ATE:169]  action [[1.45188634 0.64884672 0.24790308 0.38437841]] recieved\n",
      "[clf_engine]  scaled BS by [1.4518863404480233]; BS=[2500]\n",
      "[clf_engine]  scaled LR by [0.6488467239628405]; LR=[3.39079427636427e-31]\n",
      "[clf_engine]  training loop: started for [30] updates; BS=[2500] LR=[2.200105757850907e-31]!\n"
     ]
    },
    {
     "data": {
      "application/vnd.jupyter.widget-view+json": {
       "model_id": "74d592be39ca40a78285fe6bbce16c72",
       "version_major": 2,
       "version_minor": 0
      },
      "text/plain": [
       "HBox(children=(FloatProgress(value=0.0, max=10.0), HTML(value='')))"
      ]
     },
     "metadata": {},
     "output_type": "display_data"
    },
    {
     "name": "stdout",
     "output_type": "stream",
     "text": [
      "\n",
      "[clf_engine]  training loop: started for [20] updates; BS=[2500] LR=[2.200105757850907e-31]!\n"
     ]
    },
    {
     "data": {
      "application/vnd.jupyter.widget-view+json": {
       "model_id": "8da4bad9f35144728d8651a49857710f",
       "version_major": 2,
       "version_minor": 0
      },
      "text/plain": [
       "HBox(children=(FloatProgress(value=0.0, max=10.0), HTML(value='')))"
      ]
     },
     "metadata": {},
     "output_type": "display_data"
    },
    {
     "name": "stdout",
     "output_type": "stream",
     "text": [
      "\n",
      "[clf_engine]  training loop: started for [10] updates; BS=[2500] LR=[2.200105757850907e-31]!\n"
     ]
    },
    {
     "data": {
      "application/vnd.jupyter.widget-view+json": {
       "model_id": "b54b76bf42404114a516e7895d1cab63",
       "version_major": 2,
       "version_minor": 0
      },
      "text/plain": [
       "HBox(children=(FloatProgress(value=0.0, max=10.0), HTML(value='')))"
      ]
     },
     "metadata": {},
     "output_type": "display_data"
    },
    {
     "name": "stdout",
     "output_type": "stream",
     "text": [
      "\n",
      "[clf_engine]  training loop: done!\n"
     ]
    },
    {
     "data": {
      "application/vnd.jupyter.widget-view+json": {
       "model_id": "650e353d2fe042d2a6eb2503cadff19f",
       "version_major": 2,
       "version_minor": 0
      },
      "text/plain": [
       "HBox(children=(FloatProgress(value=0.0, max=1563.0), HTML(value='')))"
      ]
     },
     "metadata": {},
     "output_type": "display_data"
    },
    {
     "name": "stdout",
     "output_type": "stream",
     "text": [
      "\n"
     ]
    },
    {
     "data": {
      "application/vnd.jupyter.widget-view+json": {
       "model_id": "6b033870d0b54244941dc67357ebc8a3",
       "version_major": 2,
       "version_minor": 0
      },
      "text/plain": [
       "HBox(children=(FloatProgress(value=0.0, max=625.0), HTML(value='')))"
      ]
     },
     "metadata": {},
     "output_type": "display_data"
    },
    {
     "name": "stdout",
     "output_type": "stream",
     "text": [
      "\n",
      "[ATE:170]  delta is: [-0.3025]; scaled delta is [-0.0302]\n",
      "[ATE:170]  [1.9185494184494019, 1.9245396852493286, 1.918321132659912, 1.87367582321167, 1.9017343521118164, 1.9152562618255615, 1.9410951137542725, 1.9090081453323364, 1.9343739748001099, 1.9086350202560425]\n",
      "[ATE:170]  [2.27583313 2.18144298 2.21956253 2.1743927  2.27066946 2.19939804\n",
      " 2.27022839 2.18714547 2.21218252 2.17927337]\n",
      "[ATE:170]  reward at the end of time step is [-0.030249396562576303]\n",
      "[ATA] optimization step performed\n",
      "[ATA episode 0]: took [18.0] seconds for one full step\n",
      "[ATE:170]  action [[1.52111442 0.71878931 0.23777841 0.33257104]] recieved\n",
      "[clf_engine]  scaled BS by [1.5211144165864856]; BS=[2500]\n",
      "[clf_engine]  scaled LR by [0.7187893099107958]; LR=[2.200105757850907e-31]\n",
      "[clf_engine]  training loop: started for [30] updates; BS=[2500] LR=[1.581412499416422e-31]!\n"
     ]
    },
    {
     "data": {
      "application/vnd.jupyter.widget-view+json": {
       "model_id": "1ca484c90843460b96afa676ed0b16c1",
       "version_major": 2,
       "version_minor": 0
      },
      "text/plain": [
       "HBox(children=(FloatProgress(value=0.0, max=10.0), HTML(value='')))"
      ]
     },
     "metadata": {},
     "output_type": "display_data"
    },
    {
     "name": "stdout",
     "output_type": "stream",
     "text": [
      "\n",
      "[clf_engine]  training loop: started for [20] updates; BS=[2500] LR=[1.581412499416422e-31]!\n"
     ]
    },
    {
     "data": {
      "application/vnd.jupyter.widget-view+json": {
       "model_id": "9b4eaf47b26d43e49e388cd76e651f0b",
       "version_major": 2,
       "version_minor": 0
      },
      "text/plain": [
       "HBox(children=(FloatProgress(value=0.0, max=10.0), HTML(value='')))"
      ]
     },
     "metadata": {},
     "output_type": "display_data"
    },
    {
     "name": "stdout",
     "output_type": "stream",
     "text": [
      "\n",
      "[clf_engine]  training loop: started for [10] updates; BS=[2500] LR=[1.581412499416422e-31]!\n"
     ]
    },
    {
     "data": {
      "application/vnd.jupyter.widget-view+json": {
       "model_id": "c9369b6cc44143809d7935a640b546a8",
       "version_major": 2,
       "version_minor": 0
      },
      "text/plain": [
       "HBox(children=(FloatProgress(value=0.0, max=10.0), HTML(value='')))"
      ]
     },
     "metadata": {},
     "output_type": "display_data"
    },
    {
     "name": "stdout",
     "output_type": "stream",
     "text": [
      "\n",
      "[clf_engine]  training loop: done!\n",
      "[ATE:171]  delta is: [-0.3072]; scaled delta is [-0.0307]\n",
      "[ATE:171]  [1.901563286781311, 1.9146493673324585, 1.8957394361495972, 1.912890076637268, 1.91933012008667, 1.9308472871780396, 1.9092708826065063, 1.9248178005218506, 1.913936972618103, 1.9272761344909668]\n",
      "[ATE:171]  [2.2115469  2.2250874  2.27224088 2.25070024 2.21899605 2.13484597\n",
      " 2.23869872 2.24465466 2.14813066 2.2775445 ]\n",
      "[ATE:171]  reward at the end of time step is [-0.03072124600410462]\n",
      "[ATA] optimization step performed\n",
      "[ATA episode 0]: took [13.3] seconds for one full step\n",
      "[ATE:171]  action [[1.54747938 0.7905845  0.24419024 0.30626917]] recieved\n",
      "[clf_engine]  scaled BS by [1.5474793809549878]; BS=[2500]\n",
      "[clf_engine]  scaled LR by [0.7905844954109146]; LR=[1.581412499416422e-31]\n",
      "[clf_engine]  training loop: started for [30] updates; BS=[2500] LR=[1.2502402028876452e-31]!\n"
     ]
    },
    {
     "data": {
      "application/vnd.jupyter.widget-view+json": {
       "model_id": "992203dd114b4a88a7277c2a390bc287",
       "version_major": 2,
       "version_minor": 0
      },
      "text/plain": [
       "HBox(children=(FloatProgress(value=0.0, max=10.0), HTML(value='')))"
      ]
     },
     "metadata": {},
     "output_type": "display_data"
    },
    {
     "name": "stdout",
     "output_type": "stream",
     "text": [
      "\n",
      "[clf_engine]  training loop: started for [20] updates; BS=[2500] LR=[1.2502402028876452e-31]!\n"
     ]
    },
    {
     "data": {
      "application/vnd.jupyter.widget-view+json": {
       "model_id": "802d7cc29c254d049bd0747faa7c96c7",
       "version_major": 2,
       "version_minor": 0
      },
      "text/plain": [
       "HBox(children=(FloatProgress(value=0.0, max=10.0), HTML(value='')))"
      ]
     },
     "metadata": {},
     "output_type": "display_data"
    },
    {
     "name": "stdout",
     "output_type": "stream",
     "text": [
      "\n",
      "[clf_engine]  training loop: started for [10] updates; BS=[2500] LR=[1.2502402028876452e-31]!\n"
     ]
    },
    {
     "data": {
      "application/vnd.jupyter.widget-view+json": {
       "model_id": "ebc76360c0fb49abbfda989214612db6",
       "version_major": 2,
       "version_minor": 0
      },
      "text/plain": [
       "HBox(children=(FloatProgress(value=0.0, max=10.0), HTML(value='')))"
      ]
     },
     "metadata": {},
     "output_type": "display_data"
    },
    {
     "name": "stdout",
     "output_type": "stream",
     "text": [
      "\n",
      "[clf_engine]  training loop: done!\n",
      "[ATE:172]  delta is: [-0.3124]; scaled delta is [-0.0312]\n",
      "[ATE:172]  [1.9101024866104126, 1.9164464473724365, 1.9342604875564575, 1.9049452543258667, 1.9049564599990845, 1.9336718320846558, 1.9237715005874634, 1.8977683782577515, 1.9146034717559814, 1.9080461263656616]\n",
      "[ATE:172]  [2.2267561  2.17635059 2.16553044 2.22963619 2.22492313 2.29096293\n",
      " 2.30274796 2.21376872 2.19898009 2.24338579]\n",
      "[ATE:172]  reward at the end of time step is [-0.03124469518661499]\n",
      "[ATA] optimization step performed\n",
      "[ATA episode 0]: took [10.6] seconds for one full step\n",
      "[ATE:172]  action [[1.54215083 0.62622261 0.25182953 0.2363997 ]] recieved\n",
      "[clf_engine]  scaled BS by [1.5421508286756898]; BS=[2500]\n",
      "[clf_engine]  scaled LR by [0.6262226075625]; LR=[1.2502402028876452e-31]\n",
      "[clf_engine]  training loop: started for [30] updates; BS=[2500] LR=[7.829286799317702e-32]!\n"
     ]
    },
    {
     "data": {
      "application/vnd.jupyter.widget-view+json": {
       "model_id": "3740017f8343420f8915459768dd25d7",
       "version_major": 2,
       "version_minor": 0
      },
      "text/plain": [
       "HBox(children=(FloatProgress(value=0.0, max=10.0), HTML(value='')))"
      ]
     },
     "metadata": {},
     "output_type": "display_data"
    },
    {
     "name": "stdout",
     "output_type": "stream",
     "text": [
      "\n",
      "[clf_engine]  training loop: started for [20] updates; BS=[2500] LR=[7.829286799317702e-32]!\n"
     ]
    },
    {
     "data": {
      "application/vnd.jupyter.widget-view+json": {
       "model_id": "06ffcabe27604eae92e6b31d84f0f405",
       "version_major": 2,
       "version_minor": 0
      },
      "text/plain": [
       "HBox(children=(FloatProgress(value=0.0, max=10.0), HTML(value='')))"
      ]
     },
     "metadata": {},
     "output_type": "display_data"
    },
    {
     "name": "stdout",
     "output_type": "stream",
     "text": [
      "\n",
      "[clf_engine]  training loop: started for [10] updates; BS=[2500] LR=[7.829286799317702e-32]!\n"
     ]
    },
    {
     "data": {
      "application/vnd.jupyter.widget-view+json": {
       "model_id": "890bc6b1a71346db981bc706292bc238",
       "version_major": 2,
       "version_minor": 0
      },
      "text/plain": [
       "HBox(children=(FloatProgress(value=0.0, max=10.0), HTML(value='')))"
      ]
     },
     "metadata": {},
     "output_type": "display_data"
    },
    {
     "name": "stdout",
     "output_type": "stream",
     "text": [
      "\n",
      "[clf_engine]  training loop: done!\n",
      "[ATE:173]  delta is: [-0.2958]; scaled delta is [-0.0296]\n",
      "[ATE:173]  [1.9170476198196411, 1.9060322046279907, 1.9431312084197998, 1.9282019138336182, 1.8953619003295898, 1.9260761737823486, 1.9271953105926514, 1.9071931838989258, 1.915673851966858, 1.925625205039978]\n",
      "[ATE:173]  [2.20688796 2.26170802 2.2184763  2.17406464 2.24900866 2.16622901\n",
      " 2.23255491 2.27522063 2.13562298 2.22946548]\n",
      "[ATE:173]  reward at the end of time step is [-0.029577000141143797]\n",
      "[ATA] optimization step performed\n",
      "[ATA episode 0]: took [10.8] seconds for one full step\n",
      "[ATE:173]  action [[1.53230723 0.72322377 0.21239733 0.28342228]] recieved\n",
      "[clf_engine]  scaled BS by [1.5323072287288695]; BS=[2500]\n",
      "[clf_engine]  scaled LR by [0.7232237695581146]; LR=[7.829286799317702e-32]\n",
      "[clf_engine]  training loop: started for [30] updates; BS=[2500] LR=[5.662326311954135e-32]!\n"
     ]
    },
    {
     "data": {
      "application/vnd.jupyter.widget-view+json": {
       "model_id": "30224942d0af476c94509763d88cdaea",
       "version_major": 2,
       "version_minor": 0
      },
      "text/plain": [
       "HBox(children=(FloatProgress(value=0.0, max=10.0), HTML(value='')))"
      ]
     },
     "metadata": {},
     "output_type": "display_data"
    },
    {
     "name": "stdout",
     "output_type": "stream",
     "text": [
      "\n",
      "[clf_engine]  training loop: started for [20] updates; BS=[2500] LR=[5.662326311954135e-32]!\n"
     ]
    },
    {
     "data": {
      "application/vnd.jupyter.widget-view+json": {
       "model_id": "b335e6ddccf343eead810d0b255adde9",
       "version_major": 2,
       "version_minor": 0
      },
      "text/plain": [
       "HBox(children=(FloatProgress(value=0.0, max=10.0), HTML(value='')))"
      ]
     },
     "metadata": {},
     "output_type": "display_data"
    },
    {
     "name": "stdout",
     "output_type": "stream",
     "text": [
      "\n",
      "[clf_engine]  training loop: started for [10] updates; BS=[2500] LR=[5.662326311954135e-32]!\n"
     ]
    },
    {
     "data": {
      "application/vnd.jupyter.widget-view+json": {
       "model_id": "15aaf791ef0f4f6bafd695b33a239d63",
       "version_major": 2,
       "version_minor": 0
      },
      "text/plain": [
       "HBox(children=(FloatProgress(value=0.0, max=10.0), HTML(value='')))"
      ]
     },
     "metadata": {},
     "output_type": "display_data"
    },
    {
     "name": "stdout",
     "output_type": "stream",
     "text": [
      "\n",
      "[clf_engine]  training loop: done!\n",
      "[ATE:174]  delta is: [-0.3339]; scaled delta is [-0.0334]\n",
      "[ATE:174]  [1.9161465167999268, 1.9210238456726074, 1.9255001544952393, 1.9052942991256714, 1.895750641822815, 1.8991782665252686, 1.9008406400680542, 1.9213093519210815, 1.926516056060791, 1.911869764328003]\n",
      "[ATE:174]  [2.21406627 2.19063783 2.18429542 2.30663204 2.22385859 2.32059526\n",
      " 2.22584772 2.31283879 2.24177837 2.24163032]\n",
      "[ATE:174]  reward at the end of time step is [-0.03338751077651978]\n",
      "[ATA] optimization step performed\n",
      "[ATA episode 0]: took [10.7] seconds for one full step\n",
      "[ATE:174]  action [[1.53971062 0.71853785 0.20868943 0.28400185]] recieved\n",
      "[clf_engine]  scaled BS by [1.5397106188541532]; BS=[2500]\n",
      "[clf_engine]  scaled LR by [0.7185378452394616]; LR=[5.662326311954135e-32]\n",
      "[clf_engine]  training loop: started for [30] updates; BS=[2500] LR=[4.0685957472342314e-32]!\n"
     ]
    },
    {
     "data": {
      "application/vnd.jupyter.widget-view+json": {
       "model_id": "c09628584e0b43d1b263387549fd74a6",
       "version_major": 2,
       "version_minor": 0
      },
      "text/plain": [
       "HBox(children=(FloatProgress(value=0.0, max=10.0), HTML(value='')))"
      ]
     },
     "metadata": {},
     "output_type": "display_data"
    },
    {
     "name": "stdout",
     "output_type": "stream",
     "text": [
      "\n",
      "[clf_engine]  training loop: started for [20] updates; BS=[2500] LR=[4.0685957472342314e-32]!\n"
     ]
    },
    {
     "data": {
      "application/vnd.jupyter.widget-view+json": {
       "model_id": "dbb2dd71f93544b6bce52bd833f5d6fd",
       "version_major": 2,
       "version_minor": 0
      },
      "text/plain": [
       "HBox(children=(FloatProgress(value=0.0, max=10.0), HTML(value='')))"
      ]
     },
     "metadata": {},
     "output_type": "display_data"
    },
    {
     "name": "stdout",
     "output_type": "stream",
     "text": [
      "\n",
      "[clf_engine]  training loop: started for [10] updates; BS=[2500] LR=[4.0685957472342314e-32]!\n"
     ]
    },
    {
     "data": {
      "application/vnd.jupyter.widget-view+json": {
       "model_id": "94037d23ebcb439c97fa471d11cf107f",
       "version_major": 2,
       "version_minor": 0
      },
      "text/plain": [
       "HBox(children=(FloatProgress(value=0.0, max=10.0), HTML(value='')))"
      ]
     },
     "metadata": {},
     "output_type": "display_data"
    },
    {
     "name": "stdout",
     "output_type": "stream",
     "text": [
      "\n",
      "[clf_engine]  training loop: done!\n",
      "[ATE:175]  delta is: [-0.3244]; scaled delta is [-0.0324]\n",
      "[ATE:175]  [1.8987737894058228, 1.8999892473220825, 1.9225353002548218, 1.925087332725525, 1.9168585538864136, 1.9186517000198364, 1.9082562923431396, 1.902281641960144, 1.924262285232544, 1.88601815700531]\n",
      "[ATE:175]  [2.22265625 2.26169014 2.25014877 2.22311997 2.20447159 2.20948672\n",
      " 2.20566058 2.25072551 2.26884818 2.2501812 ]\n",
      "[ATE:175]  reward at the end of time step is [-0.03244274616241456]\n",
      "[ATA] optimization step performed\n",
      "[ATA episode 0]: took [11.0] seconds for one full step\n",
      "[ATE:175]  action [[1.51746717 0.71336822 0.1807587  0.24371806]] recieved\n",
      "[clf_engine]  scaled BS by [1.5174671708164362]; BS=[2500]\n",
      "[clf_engine]  scaled LR by [0.7133682222002752]; LR=[4.0685957472342314e-32]\n",
      "[clf_engine]  training loop: started for [30] updates; BS=[2500] LR=[2.902406915056084e-32]!\n"
     ]
    },
    {
     "data": {
      "application/vnd.jupyter.widget-view+json": {
       "model_id": "a7bcc65cc7e84dc59ca68dda5e282db9",
       "version_major": 2,
       "version_minor": 0
      },
      "text/plain": [
       "HBox(children=(FloatProgress(value=0.0, max=10.0), HTML(value='')))"
      ]
     },
     "metadata": {},
     "output_type": "display_data"
    },
    {
     "name": "stdout",
     "output_type": "stream",
     "text": [
      "\n",
      "[clf_engine]  training loop: started for [20] updates; BS=[2500] LR=[2.902406915056084e-32]!\n"
     ]
    },
    {
     "data": {
      "application/vnd.jupyter.widget-view+json": {
       "model_id": "011b8a7271a84f6e8f4d75afe248bd57",
       "version_major": 2,
       "version_minor": 0
      },
      "text/plain": [
       "HBox(children=(FloatProgress(value=0.0, max=10.0), HTML(value='')))"
      ]
     },
     "metadata": {},
     "output_type": "display_data"
    },
    {
     "name": "stdout",
     "output_type": "stream",
     "text": [
      "\n",
      "[clf_engine]  training loop: started for [10] updates; BS=[2500] LR=[2.902406915056084e-32]!\n"
     ]
    },
    {
     "data": {
      "application/vnd.jupyter.widget-view+json": {
       "model_id": "022c51a3a26e41c4890fe0981b00ba85",
       "version_major": 2,
       "version_minor": 0
      },
      "text/plain": [
       "HBox(children=(FloatProgress(value=0.0, max=10.0), HTML(value='')))"
      ]
     },
     "metadata": {},
     "output_type": "display_data"
    },
    {
     "name": "stdout",
     "output_type": "stream",
     "text": [
      "\n",
      "[clf_engine]  training loop: done!\n",
      "[ATE:176]  delta is: [-0.3287]; scaled delta is [-0.0329]\n",
      "[ATE:176]  [1.9240097999572754, 1.9023687839508057, 1.9244742393493652, 1.8817466497421265, 1.8954130411148071, 1.906514048576355, 1.934068202972412, 1.9279158115386963, 1.9105294942855835, 1.9178894758224487]\n",
      "[ATE:176]  [2.22817063 2.20800543 2.18067122 2.20045114 2.17215419 2.3452127\n",
      " 2.29949212 2.22609878 2.30099988 2.25020242]\n",
      "[ATE:176]  reward at the end of time step is [-0.03286528944969178]\n",
      "[ATA] optimization step performed\n",
      "[ATA episode 0]: took [10.6] seconds for one full step\n",
      "[ATE:176]  action [[1.48785816 0.77171162 0.17505851 0.27330413]] recieved\n",
      "[clf_engine]  scaled BS by [1.4878581581128538]; BS=[2500]\n",
      "[clf_engine]  scaled LR by [0.7717116158880302]; LR=[2.902406915056084e-32]\n",
      "[clf_engine]  training loop: started for [30] updates; BS=[2500] LR=[2.2398211303825233e-32]!\n"
     ]
    },
    {
     "data": {
      "application/vnd.jupyter.widget-view+json": {
       "model_id": "efd03e576bad440591143c715414e19d",
       "version_major": 2,
       "version_minor": 0
      },
      "text/plain": [
       "HBox(children=(FloatProgress(value=0.0, max=10.0), HTML(value='')))"
      ]
     },
     "metadata": {},
     "output_type": "display_data"
    },
    {
     "name": "stdout",
     "output_type": "stream",
     "text": [
      "\n",
      "[clf_engine]  training loop: started for [20] updates; BS=[2500] LR=[2.2398211303825233e-32]!\n"
     ]
    },
    {
     "data": {
      "application/vnd.jupyter.widget-view+json": {
       "model_id": "4c408f9af3e74ca5b74f0dc41b01d894",
       "version_major": 2,
       "version_minor": 0
      },
      "text/plain": [
       "HBox(children=(FloatProgress(value=0.0, max=10.0), HTML(value='')))"
      ]
     },
     "metadata": {},
     "output_type": "display_data"
    },
    {
     "name": "stdout",
     "output_type": "stream",
     "text": [
      "\n",
      "[clf_engine]  training loop: started for [10] updates; BS=[2500] LR=[2.2398211303825233e-32]!\n"
     ]
    },
    {
     "data": {
      "application/vnd.jupyter.widget-view+json": {
       "model_id": "7a1ad646277c42379b7061918f01664c",
       "version_major": 2,
       "version_minor": 0
      },
      "text/plain": [
       "HBox(children=(FloatProgress(value=0.0, max=10.0), HTML(value='')))"
      ]
     },
     "metadata": {},
     "output_type": "display_data"
    },
    {
     "name": "stdout",
     "output_type": "stream",
     "text": [
      "\n",
      "[clf_engine]  training loop: done!\n",
      "[ATE:177]  delta is: [-0.3085]; scaled delta is [-0.0309]\n",
      "[ATE:177]  [1.925331473350525, 1.9107837677001953, 1.9261970520019531, 1.8988513946533203, 1.9069286584854126, 1.918319582939148, 1.9108269214630127, 1.9065020084381104, 1.9057544469833374, 1.916069746017456]\n",
      "[ATE:177]  [2.2296164  2.28858018 2.25967717 2.26605272 2.20786715 2.2065258\n",
      " 2.2068491  2.18536186 2.19765329 2.16278696]\n",
      "[ATE:177]  reward at the end of time step is [-0.030854055881500253]\n",
      "[ATA] optimization step performed\n",
      "[ATA episode 0]: took [10.3] seconds for one full step\n",
      "[ATE:177]  action [[1.52264611 0.71869421 0.14033077 0.23182844]] recieved\n",
      "[clf_engine]  scaled BS by [1.522646107158663]; BS=[2500]\n",
      "[clf_engine]  scaled LR by [0.7186942084830801]; LR=[2.2398211303825233e-32]\n",
      "[clf_engine]  training loop: started for [30] updates; BS=[2500] LR=[1.6097464744439452e-32]!\n"
     ]
    },
    {
     "data": {
      "application/vnd.jupyter.widget-view+json": {
       "model_id": "cbddda3bcb5b4baf8f4b48610abc369b",
       "version_major": 2,
       "version_minor": 0
      },
      "text/plain": [
       "HBox(children=(FloatProgress(value=0.0, max=10.0), HTML(value='')))"
      ]
     },
     "metadata": {},
     "output_type": "display_data"
    },
    {
     "name": "stdout",
     "output_type": "stream",
     "text": [
      "\n",
      "[clf_engine]  training loop: started for [20] updates; BS=[2500] LR=[1.6097464744439452e-32]!\n"
     ]
    },
    {
     "data": {
      "application/vnd.jupyter.widget-view+json": {
       "model_id": "de397b32b9d8479f9aa06aef7eda5350",
       "version_major": 2,
       "version_minor": 0
      },
      "text/plain": [
       "HBox(children=(FloatProgress(value=0.0, max=10.0), HTML(value='')))"
      ]
     },
     "metadata": {},
     "output_type": "display_data"
    },
    {
     "name": "stdout",
     "output_type": "stream",
     "text": [
      "\n",
      "[clf_engine]  training loop: started for [10] updates; BS=[2500] LR=[1.6097464744439452e-32]!\n"
     ]
    },
    {
     "data": {
      "application/vnd.jupyter.widget-view+json": {
       "model_id": "2b558511d63441d5832903d81da3bef4",
       "version_major": 2,
       "version_minor": 0
      },
      "text/plain": [
       "HBox(children=(FloatProgress(value=0.0, max=10.0), HTML(value='')))"
      ]
     },
     "metadata": {},
     "output_type": "display_data"
    },
    {
     "name": "stdout",
     "output_type": "stream",
     "text": [
      "\n",
      "[clf_engine]  training loop: done!\n",
      "[ATE:178]  delta is: [-0.2912]; scaled delta is [-0.0291]\n",
      "[ATE:178]  [1.9329912662506104, 1.9043673276901245, 1.926079511642456, 1.920304536819458, 1.9019567966461182, 1.9144797325134277, 1.904284954071045, 1.9041246175765991, 1.8959466218948364, 1.9099993705749512]\n",
      "[ATE:178]  [2.18412113 2.19126344 2.19259882 2.21554708 2.2341826  2.23464632\n",
      " 2.18546462 2.21464372 2.16356254 2.21037507]\n",
      "[ATE:178]  reward at the end of time step is [-0.029118705987930295]\n",
      "[ATA] optimization step performed\n",
      "[ATA episode 0]: took [10.8] seconds for one full step\n",
      "[ATE:178]  action [[1.37768022 0.80840387 0.17312305 0.31780258]] recieved\n",
      "[clf_engine]  scaled BS by [1.3776802220742714]; BS=[2500]\n",
      "[clf_engine]  scaled LR by [0.8084038740452787]; LR=[1.6097464744439452e-32]\n",
      "[clf_engine]  training loop: started for [30] updates; BS=[2500] LR=[1.3013252861712146e-32]!\n"
     ]
    },
    {
     "data": {
      "application/vnd.jupyter.widget-view+json": {
       "model_id": "2c3c96bcd71a4f1188def9f5ca78fcb2",
       "version_major": 2,
       "version_minor": 0
      },
      "text/plain": [
       "HBox(children=(FloatProgress(value=0.0, max=10.0), HTML(value='')))"
      ]
     },
     "metadata": {},
     "output_type": "display_data"
    },
    {
     "name": "stdout",
     "output_type": "stream",
     "text": [
      "\n",
      "[clf_engine]  training loop: started for [20] updates; BS=[2500] LR=[1.3013252861712146e-32]!\n"
     ]
    },
    {
     "data": {
      "application/vnd.jupyter.widget-view+json": {
       "model_id": "e1f12e69fc3e481ab0972d8ace5756dc",
       "version_major": 2,
       "version_minor": 0
      },
      "text/plain": [
       "HBox(children=(FloatProgress(value=0.0, max=10.0), HTML(value='')))"
      ]
     },
     "metadata": {},
     "output_type": "display_data"
    },
    {
     "name": "stdout",
     "output_type": "stream",
     "text": [
      "\n",
      "[clf_engine]  training loop: started for [10] updates; BS=[2500] LR=[1.3013252861712146e-32]!\n"
     ]
    },
    {
     "data": {
      "application/vnd.jupyter.widget-view+json": {
       "model_id": "17ab4f14a23d47e59d6c582b9fcf0394",
       "version_major": 2,
       "version_minor": 0
      },
      "text/plain": [
       "HBox(children=(FloatProgress(value=0.0, max=10.0), HTML(value='')))"
      ]
     },
     "metadata": {},
     "output_type": "display_data"
    },
    {
     "name": "stdout",
     "output_type": "stream",
     "text": [
      "\n",
      "[clf_engine]  training loop: done!\n",
      "[ATE:179]  delta is: [-0.3197]; scaled delta is [-0.0320]\n",
      "[ATE:179]  [1.9303358793258667, 1.9023611545562744, 1.9231023788452148, 1.9131866693496704, 1.9248396158218384, 1.8994556665420532, 1.911893367767334, 1.8937031030654907, 1.9305943250656128, 1.9052814245224]\n",
      "[ATE:179]  [2.20192695 2.14823771 2.21599293 2.28616834 2.29344392 2.26212859\n",
      " 2.23236775 2.27163315 2.13794041 2.28154969]\n",
      "[ATE:179]  reward at the end of time step is [-0.03196635842323303]\n",
      "[ATA] optimization step performed\n",
      "[ATA episode 0]: took [10.8] seconds for one full step\n",
      "[ATE:179]  action [[1.33197793 0.79413409 0.18153825 0.38383173]] recieved\n",
      "[clf_engine]  scaled BS by [1.3319779348086254]; BS=[2500]\n",
      "[clf_engine]  scaled LR by [0.7941340881970418]; LR=[1.3013252861712146e-32]\n",
      "[clf_engine]  training loop: started for [30] updates; BS=[2500] LR=[1.033426769581332e-32]!\n"
     ]
    },
    {
     "data": {
      "application/vnd.jupyter.widget-view+json": {
       "model_id": "3154edcf1f1d4e84ac0360cb4e1a5c6a",
       "version_major": 2,
       "version_minor": 0
      },
      "text/plain": [
       "HBox(children=(FloatProgress(value=0.0, max=10.0), HTML(value='')))"
      ]
     },
     "metadata": {},
     "output_type": "display_data"
    },
    {
     "name": "stdout",
     "output_type": "stream",
     "text": [
      "\n",
      "[clf_engine]  training loop: started for [20] updates; BS=[2500] LR=[1.033426769581332e-32]!\n"
     ]
    },
    {
     "data": {
      "application/vnd.jupyter.widget-view+json": {
       "model_id": "e2c522a2a264475cb2a36d36b387774d",
       "version_major": 2,
       "version_minor": 0
      },
      "text/plain": [
       "HBox(children=(FloatProgress(value=0.0, max=10.0), HTML(value='')))"
      ]
     },
     "metadata": {},
     "output_type": "display_data"
    },
    {
     "name": "stdout",
     "output_type": "stream",
     "text": [
      "\n",
      "[clf_engine]  training loop: started for [10] updates; BS=[2500] LR=[1.033426769581332e-32]!\n"
     ]
    },
    {
     "data": {
      "application/vnd.jupyter.widget-view+json": {
       "model_id": "0d90dac2409048b5842b87090744fa53",
       "version_major": 2,
       "version_minor": 0
      },
      "text/plain": [
       "HBox(children=(FloatProgress(value=0.0, max=10.0), HTML(value='')))"
      ]
     },
     "metadata": {},
     "output_type": "display_data"
    },
    {
     "name": "stdout",
     "output_type": "stream",
     "text": [
      "\n",
      "[clf_engine]  training loop: done!\n"
     ]
    },
    {
     "data": {
      "application/vnd.jupyter.widget-view+json": {
       "model_id": "c2612f9cf4da4563994c970e85e885b9",
       "version_major": 2,
       "version_minor": 0
      },
      "text/plain": [
       "HBox(children=(FloatProgress(value=0.0, max=1563.0), HTML(value='')))"
      ]
     },
     "metadata": {},
     "output_type": "display_data"
    },
    {
     "name": "stdout",
     "output_type": "stream",
     "text": [
      "\n"
     ]
    },
    {
     "data": {
      "application/vnd.jupyter.widget-view+json": {
       "model_id": "460386964bcd47dbaa388b5a5e82a6f9",
       "version_major": 2,
       "version_minor": 0
      },
      "text/plain": [
       "HBox(children=(FloatProgress(value=0.0, max=625.0), HTML(value='')))"
      ]
     },
     "metadata": {},
     "output_type": "display_data"
    },
    {
     "name": "stdout",
     "output_type": "stream",
     "text": [
      "\n",
      "[ATE:180]  delta is: [-0.3082]; scaled delta is [-0.0308]\n",
      "[ATE:180]  [1.9185048341751099, 1.9105521440505981, 1.9181791543960571, 1.8988031148910522, 1.9063191413879395, 1.9036310911178589, 1.9159523248672485, 1.8978711366653442, 1.921018123626709, 1.920310139656067]\n",
      "[ATE:180]  [2.18356538 2.20955729 2.23852253 2.28539324 2.19608879 2.25460577\n",
      " 2.11486292 2.24382901 2.27766275 2.18886304]\n",
      "[ATE:180]  reward at the end of time step is [-0.030818095207214347]\n",
      "[ATA] optimization step performed\n",
      "[ATA episode 0]: took [15.7] seconds for one full step\n",
      "[ATE:180]  action [[1.25795506 0.66407476 0.18823833 0.45614511]] recieved\n",
      "[clf_engine]  scaled BS by [1.2579550605875567]; BS=[2500]\n",
      "[clf_engine]  scaled LR by [0.6640747571710478]; LR=[1.033426769581332e-32]\n",
      "[clf_engine]  training loop: started for [30] updates; BS=[2500] LR=[6.862726310637833e-33]!\n"
     ]
    },
    {
     "data": {
      "application/vnd.jupyter.widget-view+json": {
       "model_id": "37313985be104fd4b74d0fd42b867959",
       "version_major": 2,
       "version_minor": 0
      },
      "text/plain": [
       "HBox(children=(FloatProgress(value=0.0, max=10.0), HTML(value='')))"
      ]
     },
     "metadata": {},
     "output_type": "display_data"
    },
    {
     "name": "stdout",
     "output_type": "stream",
     "text": [
      "\n",
      "[clf_engine]  training loop: started for [20] updates; BS=[2500] LR=[6.862726310637833e-33]!\n"
     ]
    },
    {
     "data": {
      "application/vnd.jupyter.widget-view+json": {
       "model_id": "850900eb9563476287b8ac67fb4781d3",
       "version_major": 2,
       "version_minor": 0
      },
      "text/plain": [
       "HBox(children=(FloatProgress(value=0.0, max=10.0), HTML(value='')))"
      ]
     },
     "metadata": {},
     "output_type": "display_data"
    },
    {
     "name": "stdout",
     "output_type": "stream",
     "text": [
      "\n",
      "[clf_engine]  training loop: started for [10] updates; BS=[2500] LR=[6.862726310637833e-33]!\n"
     ]
    },
    {
     "data": {
      "application/vnd.jupyter.widget-view+json": {
       "model_id": "7e908c25d5334039b7c6dd72d5e275c7",
       "version_major": 2,
       "version_minor": 0
      },
      "text/plain": [
       "HBox(children=(FloatProgress(value=0.0, max=10.0), HTML(value='')))"
      ]
     },
     "metadata": {},
     "output_type": "display_data"
    },
    {
     "name": "stdout",
     "output_type": "stream",
     "text": [
      "\n",
      "[clf_engine]  training loop: done!\n",
      "[ATE:181]  delta is: [-0.3121]; scaled delta is [-0.0312]\n",
      "[ATE:181]  [1.9282501935958862, 1.9323195219039917, 1.8936372995376587, 1.9185144901275635, 1.929123878479004, 1.8959251642227173, 1.9166593551635742, 1.888037919998169, 1.9450188875198364, 1.9179599285125732]\n",
      "[ATE:181]  [2.23115039 2.19809341 2.18613625 2.2500236  2.20540357 2.3093133\n",
      " 2.24145055 2.28345466 2.17922139 2.20244455]\n",
      "[ATE:181]  reward at the end of time step is [-0.031212450265884397]\n",
      "[ATA] optimization step performed\n",
      "[ATA episode 0]: took [11.1] seconds for one full step\n",
      "[ATE:181]  action [[1.24570862 0.76045484 0.17124239 0.38289329]] recieved\n",
      "[clf_engine]  scaled BS by [1.2457086225053196]; BS=[2500]\n",
      "[clf_engine]  scaled LR by [0.7604548366529045]; LR=[6.862726310637833e-33]\n",
      "[clf_engine]  training loop: started for [30] updates; BS=[2500] LR=[5.218793415549683e-33]!\n"
     ]
    },
    {
     "data": {
      "application/vnd.jupyter.widget-view+json": {
       "model_id": "c7cadbb1ef2b46a38ca918c22d77a6d4",
       "version_major": 2,
       "version_minor": 0
      },
      "text/plain": [
       "HBox(children=(FloatProgress(value=0.0, max=10.0), HTML(value='')))"
      ]
     },
     "metadata": {},
     "output_type": "display_data"
    },
    {
     "name": "stdout",
     "output_type": "stream",
     "text": [
      "\n",
      "[clf_engine]  training loop: started for [20] updates; BS=[2500] LR=[5.218793415549683e-33]!\n"
     ]
    },
    {
     "data": {
      "application/vnd.jupyter.widget-view+json": {
       "model_id": "3795f39c0b584efb8961795ac9f691fb",
       "version_major": 2,
       "version_minor": 0
      },
      "text/plain": [
       "HBox(children=(FloatProgress(value=0.0, max=10.0), HTML(value='')))"
      ]
     },
     "metadata": {},
     "output_type": "display_data"
    },
    {
     "name": "stdout",
     "output_type": "stream",
     "text": [
      "\n",
      "[clf_engine]  training loop: started for [10] updates; BS=[2500] LR=[5.218793415549683e-33]!\n"
     ]
    },
    {
     "data": {
      "application/vnd.jupyter.widget-view+json": {
       "model_id": "a66ed25982c4402aa00e8288cb9bcb5a",
       "version_major": 2,
       "version_minor": 0
      },
      "text/plain": [
       "HBox(children=(FloatProgress(value=0.0, max=10.0), HTML(value='')))"
      ]
     },
     "metadata": {},
     "output_type": "display_data"
    },
    {
     "name": "stdout",
     "output_type": "stream",
     "text": [
      "\n",
      "[clf_engine]  training loop: done!\n",
      "[ATE:182]  delta is: [-0.2896]; scaled delta is [-0.0290]\n",
      "[ATE:182]  [1.9222681522369385, 1.9055451154708862, 1.8921960592269897, 1.902589201927185, 1.9197113513946533, 1.9183725118637085, 1.9082438945770264, 1.9409549236297607, 1.912974238395691, 1.9086555242538452]\n",
      "[ATE:182]  [2.23895741 2.1889782  2.15282011 2.21732974 2.19251966 2.23483443\n",
      " 2.19423985 2.25169516 2.15897202 2.19754386]\n",
      "[ATE:182]  reward at the end of time step is [-0.02896379470825197]\n",
      "[ATA] optimization step performed\n",
      "[ATA episode 0]: took [11.1] seconds for one full step\n",
      "[ATE:182]  action [[1.26001869 0.77535133 0.23198903 0.34430694]] recieved\n",
      "[clf_engine]  scaled BS by [1.2600186920329486]; BS=[2500]\n",
      "[clf_engine]  scaled LR by [0.7753513344289955]; LR=[5.218793415549683e-33]\n",
      "[clf_engine]  training loop: started for [30] updates; BS=[2500] LR=[4.046398438855702e-33]!\n"
     ]
    },
    {
     "data": {
      "application/vnd.jupyter.widget-view+json": {
       "model_id": "2f623bcf469d47e9be3f122101b5b74f",
       "version_major": 2,
       "version_minor": 0
      },
      "text/plain": [
       "HBox(children=(FloatProgress(value=0.0, max=10.0), HTML(value='')))"
      ]
     },
     "metadata": {},
     "output_type": "display_data"
    },
    {
     "name": "stdout",
     "output_type": "stream",
     "text": [
      "\n",
      "[clf_engine]  training loop: started for [20] updates; BS=[2500] LR=[4.046398438855702e-33]!\n"
     ]
    },
    {
     "data": {
      "application/vnd.jupyter.widget-view+json": {
       "model_id": "630bb4fca5724feabdcc95e893f5b0fa",
       "version_major": 2,
       "version_minor": 0
      },
      "text/plain": [
       "HBox(children=(FloatProgress(value=0.0, max=10.0), HTML(value='')))"
      ]
     },
     "metadata": {},
     "output_type": "display_data"
    },
    {
     "name": "stdout",
     "output_type": "stream",
     "text": [
      "\n",
      "[clf_engine]  training loop: started for [10] updates; BS=[2500] LR=[4.046398438855702e-33]!\n"
     ]
    },
    {
     "data": {
      "application/vnd.jupyter.widget-view+json": {
       "model_id": "4509da7727b34718a55c2428eff538bf",
       "version_major": 2,
       "version_minor": 0
      },
      "text/plain": [
       "HBox(children=(FloatProgress(value=0.0, max=10.0), HTML(value='')))"
      ]
     },
     "metadata": {},
     "output_type": "display_data"
    },
    {
     "name": "stdout",
     "output_type": "stream",
     "text": [
      "\n",
      "[clf_engine]  training loop: done!\n",
      "[ATE:183]  delta is: [-0.3116]; scaled delta is [-0.0312]\n",
      "[ATE:183]  [1.902646541595459, 1.936246633529663, 1.9177312850952148, 1.9035464525222778, 1.9273601770401, 1.9011943340301514, 1.903281807899475, 1.9230073690414429, 1.9173574447631836, 1.899223804473877]\n",
      "[ATE:183]  [2.25063539 2.28105712 2.29428196 2.28774452 2.12180567 2.30285025\n",
      " 2.17565155 2.24471855 2.20705295 2.08139062]\n",
      "[ATE:183]  reward at the end of time step is [-0.03115592718124387]\n",
      "[ATA] optimization step performed\n",
      "[ATA episode 0]: took [10.9] seconds for one full step\n",
      "[ATE:183]  action [[1.44228467 0.84351401 0.1921468  0.37288831]] recieved\n",
      "[clf_engine]  scaled BS by [1.44228467289074]; BS=[2500]\n",
      "[clf_engine]  scaled LR by [0.8435140089820425]; LR=[4.046398438855702e-33]\n",
      "[clf_engine]  training loop: started for [30] updates; BS=[2500] LR=[3.413193769097852e-33]!\n"
     ]
    },
    {
     "data": {
      "application/vnd.jupyter.widget-view+json": {
       "model_id": "709de037008e4b4fbf8fc4739aa438f8",
       "version_major": 2,
       "version_minor": 0
      },
      "text/plain": [
       "HBox(children=(FloatProgress(value=0.0, max=10.0), HTML(value='')))"
      ]
     },
     "metadata": {},
     "output_type": "display_data"
    },
    {
     "name": "stdout",
     "output_type": "stream",
     "text": [
      "\n",
      "[clf_engine]  training loop: started for [20] updates; BS=[2500] LR=[3.413193769097852e-33]!\n"
     ]
    },
    {
     "data": {
      "application/vnd.jupyter.widget-view+json": {
       "model_id": "6319e51591a349dcb05f7e41f64a2b9c",
       "version_major": 2,
       "version_minor": 0
      },
      "text/plain": [
       "HBox(children=(FloatProgress(value=0.0, max=10.0), HTML(value='')))"
      ]
     },
     "metadata": {},
     "output_type": "display_data"
    },
    {
     "name": "stdout",
     "output_type": "stream",
     "text": [
      "\n",
      "[clf_engine]  training loop: started for [10] updates; BS=[2500] LR=[3.413193769097852e-33]!\n"
     ]
    },
    {
     "data": {
      "application/vnd.jupyter.widget-view+json": {
       "model_id": "d05f5894c56746d8bca99178096c3951",
       "version_major": 2,
       "version_minor": 0
      },
      "text/plain": [
       "HBox(children=(FloatProgress(value=0.0, max=10.0), HTML(value='')))"
      ]
     },
     "metadata": {},
     "output_type": "display_data"
    },
    {
     "name": "stdout",
     "output_type": "stream",
     "text": [
      "\n",
      "[clf_engine]  training loop: done!\n",
      "[ATE:184]  delta is: [-0.2981]; scaled delta is [-0.0298]\n",
      "[ATE:184]  [1.8947378396987915, 1.9079593420028687, 1.9279080629348755, 1.9137029647827148, 1.9083095788955688, 1.884521484375, 1.9109678268432617, 1.927886962890625, 1.9225138425827026, 1.898999810218811]\n",
      "[ATE:184]  [2.11129355 2.22885275 2.23247123 2.18561172 2.14808178 2.22667861\n",
      " 2.26353502 2.30041099 2.19250822 2.18918681]\n",
      "[ATE:184]  reward at the end of time step is [-0.02981122970581056]\n",
      "[ATA] optimization step performed\n",
      "[ATA episode 0]: took [10.7] seconds for one full step\n",
      "[ATE:184]  action [[1.51834059 0.74599109 0.17435534 0.33685899]] recieved\n",
      "[clf_engine]  scaled BS by [1.5183405898821825]; BS=[2500]\n",
      "[clf_engine]  scaled LR by [0.7459910910189562]; LR=[3.413193769097852e-33]\n",
      "[clf_engine]  training loop: started for [30] updates; BS=[2500] LR=[2.5462121436684097e-33]!\n"
     ]
    },
    {
     "data": {
      "application/vnd.jupyter.widget-view+json": {
       "model_id": "e0098d78557f4f95aac8e775c26356f5",
       "version_major": 2,
       "version_minor": 0
      },
      "text/plain": [
       "HBox(children=(FloatProgress(value=0.0, max=10.0), HTML(value='')))"
      ]
     },
     "metadata": {},
     "output_type": "display_data"
    },
    {
     "name": "stdout",
     "output_type": "stream",
     "text": [
      "\n",
      "[clf_engine]  training loop: started for [20] updates; BS=[2500] LR=[2.5462121436684097e-33]!\n"
     ]
    },
    {
     "data": {
      "application/vnd.jupyter.widget-view+json": {
       "model_id": "e7a6887da29a42489a735121494ba87b",
       "version_major": 2,
       "version_minor": 0
      },
      "text/plain": [
       "HBox(children=(FloatProgress(value=0.0, max=10.0), HTML(value='')))"
      ]
     },
     "metadata": {},
     "output_type": "display_data"
    },
    {
     "name": "stdout",
     "output_type": "stream",
     "text": [
      "\n",
      "[clf_engine]  training loop: started for [10] updates; BS=[2500] LR=[2.5462121436684097e-33]!\n"
     ]
    },
    {
     "data": {
      "application/vnd.jupyter.widget-view+json": {
       "model_id": "72f968dfbb18420a9eaedfbbf8eae5b0",
       "version_major": 2,
       "version_minor": 0
      },
      "text/plain": [
       "HBox(children=(FloatProgress(value=0.0, max=10.0), HTML(value='')))"
      ]
     },
     "metadata": {},
     "output_type": "display_data"
    },
    {
     "name": "stdout",
     "output_type": "stream",
     "text": [
      "\n",
      "[clf_engine]  training loop: done!\n",
      "[ATE:185]  delta is: [-0.3147]; scaled delta is [-0.0315]\n",
      "[ATE:185]  [1.9067330360412598, 1.8876160383224487, 1.9153982400894165, 1.890105128288269, 1.9080008268356323, 1.9585086107254028, 1.923175573348999, 1.9018347263336182, 1.928934931755066, 1.8887062072753906]\n",
      "[ATE:185]  [2.15231586 2.21083283 2.22434783 2.24295044 2.21297407 2.23673034\n",
      " 2.16999006 2.30386901 2.273561   2.22849917]\n",
      "[ATE:185]  reward at the end of time step is [-0.03147057294845581]\n",
      "[ATA] optimization step performed\n",
      "[ATA episode 0]: took [10.8] seconds for one full step\n",
      "[ATE:185]  action [[1.66437316 0.69158208 0.19041294 0.37306391]] recieved\n",
      "[clf_engine]  scaled BS by [1.6643731579849859]; BS=[2500]\n",
      "[clf_engine]  scaled LR by [0.6915820805580236]; LR=[2.5462121436684097e-33]\n",
      "[clf_engine]  training loop: started for [30] updates; BS=[2500] LR=[1.7609146918603042e-33]!\n"
     ]
    },
    {
     "data": {
      "application/vnd.jupyter.widget-view+json": {
       "model_id": "9a5f537e8d9540679a04708ee2844d90",
       "version_major": 2,
       "version_minor": 0
      },
      "text/plain": [
       "HBox(children=(FloatProgress(value=0.0, max=10.0), HTML(value='')))"
      ]
     },
     "metadata": {},
     "output_type": "display_data"
    },
    {
     "name": "stdout",
     "output_type": "stream",
     "text": [
      "\n",
      "[clf_engine]  training loop: started for [20] updates; BS=[2500] LR=[1.7609146918603042e-33]!\n"
     ]
    },
    {
     "data": {
      "application/vnd.jupyter.widget-view+json": {
       "model_id": "33ee1c850db1400c85155588f0313048",
       "version_major": 2,
       "version_minor": 0
      },
      "text/plain": [
       "HBox(children=(FloatProgress(value=0.0, max=10.0), HTML(value='')))"
      ]
     },
     "metadata": {},
     "output_type": "display_data"
    },
    {
     "name": "stdout",
     "output_type": "stream",
     "text": [
      "\n",
      "[clf_engine]  training loop: started for [10] updates; BS=[2500] LR=[1.7609146918603042e-33]!\n"
     ]
    },
    {
     "data": {
      "application/vnd.jupyter.widget-view+json": {
       "model_id": "634f2bbbb47f4744be1a63d6f7cf63fb",
       "version_major": 2,
       "version_minor": 0
      },
      "text/plain": [
       "HBox(children=(FloatProgress(value=0.0, max=10.0), HTML(value='')))"
      ]
     },
     "metadata": {},
     "output_type": "display_data"
    },
    {
     "name": "stdout",
     "output_type": "stream",
     "text": [
      "\n",
      "[clf_engine]  training loop: done!\n",
      "[ATE:186]  delta is: [-0.3028]; scaled delta is [-0.0303]\n",
      "[ATE:186]  [1.8899308443069458, 1.9286534786224365, 1.9153697490692139, 1.9018654823303223, 1.9139374494552612, 1.8956916332244873, 1.9233484268188477, 1.9122161865234375, 1.945663332939148, 1.91334867477417]\n",
      "[ATE:186]  [2.08256125 2.18611193 2.22146535 2.14981651 2.19818592 2.28304625\n",
      " 2.2553823  2.29593825 2.27908969 2.21681166]\n",
      "[ATE:186]  reward at the end of time step is [-0.030283838510513285]\n",
      "[ATA] optimization step performed\n",
      "[ATA episode 0]: took [11.0] seconds for one full step\n",
      "[ATE:186]  action [[1.70870805 0.70436359 0.17375207 0.40306361]] recieved\n",
      "[clf_engine]  scaled BS by [1.7087080546137454]; BS=[2500]\n",
      "[clf_engine]  scaled LR by [0.7043635855001585]; LR=[1.7609146918603042e-33]\n",
      "[clf_engine]  training loop: started for [30] updates; BS=[2500] LR=[1.2403241861186306e-33]!\n"
     ]
    },
    {
     "data": {
      "application/vnd.jupyter.widget-view+json": {
       "model_id": "79be1d01616445ecbe785c5fe463f627",
       "version_major": 2,
       "version_minor": 0
      },
      "text/plain": [
       "HBox(children=(FloatProgress(value=0.0, max=10.0), HTML(value='')))"
      ]
     },
     "metadata": {},
     "output_type": "display_data"
    },
    {
     "name": "stdout",
     "output_type": "stream",
     "text": [
      "\n",
      "[clf_engine]  training loop: started for [20] updates; BS=[2500] LR=[1.2403241861186306e-33]!\n"
     ]
    },
    {
     "data": {
      "application/vnd.jupyter.widget-view+json": {
       "model_id": "5b72f46d038640c9a2fabe677cdce9d0",
       "version_major": 2,
       "version_minor": 0
      },
      "text/plain": [
       "HBox(children=(FloatProgress(value=0.0, max=10.0), HTML(value='')))"
      ]
     },
     "metadata": {},
     "output_type": "display_data"
    },
    {
     "name": "stdout",
     "output_type": "stream",
     "text": [
      "\n",
      "[clf_engine]  training loop: started for [10] updates; BS=[2500] LR=[1.2403241861186306e-33]!\n"
     ]
    },
    {
     "data": {
      "application/vnd.jupyter.widget-view+json": {
       "model_id": "94465e5477ae46c389ab9a2d2a85196d",
       "version_major": 2,
       "version_minor": 0
      },
      "text/plain": [
       "HBox(children=(FloatProgress(value=0.0, max=10.0), HTML(value='')))"
      ]
     },
     "metadata": {},
     "output_type": "display_data"
    },
    {
     "name": "stdout",
     "output_type": "stream",
     "text": [
      "\n",
      "[clf_engine]  training loop: done!\n",
      "[ATE:187]  delta is: [-0.2928]; scaled delta is [-0.0293]\n",
      "[ATE:187]  [1.9112505912780762, 1.9179127216339111, 1.9101721048355103, 1.9330792427062988, 1.926259160041809, 1.9003474712371826, 1.8985038995742798, 1.902066946029663, 1.899283766746521, 1.9104888439178467]\n",
      "[ATE:187]  [2.28595948 2.22430921 2.13863659 2.18674397 2.2187531  2.18270135\n",
      " 2.17419887 2.24062204 2.14923739 2.23581839]\n",
      "[ATE:187]  reward at the end of time step is [-0.029276156425476076]\n",
      "[ATA] optimization step performed\n",
      "[ATA episode 0]: took [10.9] seconds for one full step\n",
      "[ATE:187]  action [[1.68248787 0.67313319 0.21937963 0.40518248]] recieved\n",
      "[clf_engine]  scaled BS by [1.6824878704645752]; BS=[2500]\n",
      "[clf_engine]  scaled LR by [0.6731331923515353]; LR=[1.2403241861186306e-33]\n",
      "[clf_engine]  training loop: started for [30] updates; BS=[2500] LR=[8.349033789528537e-34]!\n"
     ]
    },
    {
     "data": {
      "application/vnd.jupyter.widget-view+json": {
       "model_id": "04fb1e251a754c27a303996272243f17",
       "version_major": 2,
       "version_minor": 0
      },
      "text/plain": [
       "HBox(children=(FloatProgress(value=0.0, max=10.0), HTML(value='')))"
      ]
     },
     "metadata": {},
     "output_type": "display_data"
    },
    {
     "name": "stdout",
     "output_type": "stream",
     "text": [
      "\n",
      "[clf_engine]  training loop: started for [20] updates; BS=[2500] LR=[8.349033789528537e-34]!\n"
     ]
    },
    {
     "data": {
      "application/vnd.jupyter.widget-view+json": {
       "model_id": "bd0e4c3824ac44118c0ee3eb73237d64",
       "version_major": 2,
       "version_minor": 0
      },
      "text/plain": [
       "HBox(children=(FloatProgress(value=0.0, max=10.0), HTML(value='')))"
      ]
     },
     "metadata": {},
     "output_type": "display_data"
    },
    {
     "name": "stdout",
     "output_type": "stream",
     "text": [
      "\n",
      "[clf_engine]  training loop: started for [10] updates; BS=[2500] LR=[8.349033789528537e-34]!\n"
     ]
    },
    {
     "data": {
      "application/vnd.jupyter.widget-view+json": {
       "model_id": "36c170fa8c264361ac3c7b367f97b736",
       "version_major": 2,
       "version_minor": 0
      },
      "text/plain": [
       "HBox(children=(FloatProgress(value=0.0, max=10.0), HTML(value='')))"
      ]
     },
     "metadata": {},
     "output_type": "display_data"
    },
    {
     "name": "stdout",
     "output_type": "stream",
     "text": [
      "\n",
      "[clf_engine]  training loop: done!\n",
      "[ATE:188]  delta is: [-0.2861]; scaled delta is [-0.0286]\n",
      "[ATE:188]  [1.8952789306640625, 1.9128906726837158, 1.9294277429580688, 1.910870909690857, 1.9451185464859009, 1.9115797281265259, 1.8881233930587769, 1.9034925699234009, 1.8797476291656494, 1.9087419509887695]\n",
      "[ATE:188]  [2.18860626 2.23946047 2.1650219  2.18445921 2.20979881 2.1881299\n",
      " 2.18944192 2.14745116 2.19850993 2.23577666]\n",
      "[ATE:188]  reward at the end of time step is [-0.02861384153366091]\n",
      "[ATA] optimization step performed\n",
      "[ATA episode 0]: took [10.5] seconds for one full step\n",
      "[ATE:188]  action [[1.73111913 0.73237635 0.19299428 0.38207256]] recieved\n",
      "[clf_engine]  scaled BS by [1.731119132322314]; BS=[2500]\n",
      "[clf_engine]  scaled LR by [0.7323763518839791]; LR=[8.349033789528537e-34]\n",
      "[clf_engine]  training loop: started for [30] updates; BS=[2500] LR=[6.114634908530983e-34]!\n"
     ]
    },
    {
     "data": {
      "application/vnd.jupyter.widget-view+json": {
       "model_id": "6a9f4f40198c4d918447458e63980833",
       "version_major": 2,
       "version_minor": 0
      },
      "text/plain": [
       "HBox(children=(FloatProgress(value=0.0, max=10.0), HTML(value='')))"
      ]
     },
     "metadata": {},
     "output_type": "display_data"
    },
    {
     "name": "stdout",
     "output_type": "stream",
     "text": [
      "\n",
      "[clf_engine]  training loop: started for [20] updates; BS=[2500] LR=[6.114634908530983e-34]!\n"
     ]
    },
    {
     "data": {
      "application/vnd.jupyter.widget-view+json": {
       "model_id": "a63ee200dad64d2b84989ce97609a70f",
       "version_major": 2,
       "version_minor": 0
      },
      "text/plain": [
       "HBox(children=(FloatProgress(value=0.0, max=10.0), HTML(value='')))"
      ]
     },
     "metadata": {},
     "output_type": "display_data"
    },
    {
     "name": "stdout",
     "output_type": "stream",
     "text": [
      "\n",
      "[clf_engine]  training loop: started for [10] updates; BS=[2500] LR=[6.114634908530983e-34]!\n"
     ]
    },
    {
     "data": {
      "application/vnd.jupyter.widget-view+json": {
       "model_id": "17ad57dacc664ae3ae00e8e9fd8523db",
       "version_major": 2,
       "version_minor": 0
      },
      "text/plain": [
       "HBox(children=(FloatProgress(value=0.0, max=10.0), HTML(value='')))"
      ]
     },
     "metadata": {},
     "output_type": "display_data"
    },
    {
     "name": "stdout",
     "output_type": "stream",
     "text": [
      "\n",
      "[clf_engine]  training loop: done!\n",
      "[ATE:189]  delta is: [-0.2551]; scaled delta is [-0.0255]\n",
      "[ATE:189]  [1.9131685495376587, 1.9031875133514404, 1.881475806236267, 1.9220821857452393, 1.9133572578430176, 1.921628475189209, 1.9001826047897339, 1.9234724044799805, 1.9324287176132202, 1.9184212684631348]\n",
      "[ATE:189]  [2.15828967 2.11961508 2.14072084 2.2068367  2.10469031 2.22750545\n",
      " 2.1678853  2.09788156 2.19632435 2.26053143]\n",
      "[ATE:189]  reward at the end of time step is [-0.025508759021759045]\n",
      "[ATA] optimization step performed\n",
      "[ATA episode 0]: took [11.0] seconds for one full step\n",
      "[ATE:189]  action [[1.6853773  0.66002253 0.27140663 0.32571997]] recieved\n",
      "[clf_engine]  scaled BS by [1.6853773012126165]; BS=[2500]\n",
      "[clf_engine]  scaled LR by [0.6600225317922152]; LR=[6.114634908530983e-34]\n",
      "[clf_engine]  training loop: started for [30] updates; BS=[2500] LR=[4.035796813313679e-34]!\n"
     ]
    },
    {
     "data": {
      "application/vnd.jupyter.widget-view+json": {
       "model_id": "c7e8dfe80d7246df8389d350587d7f06",
       "version_major": 2,
       "version_minor": 0
      },
      "text/plain": [
       "HBox(children=(FloatProgress(value=0.0, max=10.0), HTML(value='')))"
      ]
     },
     "metadata": {},
     "output_type": "display_data"
    },
    {
     "name": "stdout",
     "output_type": "stream",
     "text": [
      "\n",
      "[clf_engine]  training loop: started for [20] updates; BS=[2500] LR=[4.035796813313679e-34]!\n"
     ]
    },
    {
     "data": {
      "application/vnd.jupyter.widget-view+json": {
       "model_id": "aef01b74f1d643ccb36a8c8cec59cfaf",
       "version_major": 2,
       "version_minor": 0
      },
      "text/plain": [
       "HBox(children=(FloatProgress(value=0.0, max=10.0), HTML(value='')))"
      ]
     },
     "metadata": {},
     "output_type": "display_data"
    },
    {
     "name": "stdout",
     "output_type": "stream",
     "text": [
      "\n",
      "[clf_engine]  training loop: started for [10] updates; BS=[2500] LR=[4.035796813313679e-34]!\n"
     ]
    },
    {
     "data": {
      "application/vnd.jupyter.widget-view+json": {
       "model_id": "44640a8bd68f4f8fa8406543e8946e00",
       "version_major": 2,
       "version_minor": 0
      },
      "text/plain": [
       "HBox(children=(FloatProgress(value=0.0, max=10.0), HTML(value='')))"
      ]
     },
     "metadata": {},
     "output_type": "display_data"
    },
    {
     "name": "stdout",
     "output_type": "stream",
     "text": [
      "\n",
      "[clf_engine]  training loop: done!\n"
     ]
    },
    {
     "data": {
      "application/vnd.jupyter.widget-view+json": {
       "model_id": "4898b9adcde74fbfb1f07df943edfe18",
       "version_major": 2,
       "version_minor": 0
      },
      "text/plain": [
       "HBox(children=(FloatProgress(value=0.0, max=1563.0), HTML(value='')))"
      ]
     },
     "metadata": {},
     "output_type": "display_data"
    },
    {
     "name": "stdout",
     "output_type": "stream",
     "text": [
      "\n"
     ]
    },
    {
     "data": {
      "application/vnd.jupyter.widget-view+json": {
       "model_id": "e69e1231519c4b5cad561f3d315aa376",
       "version_major": 2,
       "version_minor": 0
      },
      "text/plain": [
       "HBox(children=(FloatProgress(value=0.0, max=625.0), HTML(value='')))"
      ]
     },
     "metadata": {},
     "output_type": "display_data"
    },
    {
     "name": "stdout",
     "output_type": "stream",
     "text": [
      "\n",
      "[ATE:190]  delta is: [-0.3004]; scaled delta is [-0.0300]\n",
      "[ATE:190]  [1.9149378538131714, 1.8961162567138672, 1.9110568761825562, 1.925687551498413, 1.8986467123031616, 1.9203214645385742, 1.9183224439620972, 1.9243261814117432, 1.9206191301345825, 1.9225952625274658]\n",
      "[ATE:190]  [2.3558352  2.2302599  2.219455   2.1865797  2.15442061 2.22494769\n",
      " 2.1729393  2.17006826 2.20991898 2.2320261 ]\n",
      "[ATE:190]  reward at the end of time step is [-0.030038210153579704]\n",
      "[ATA] optimization step performed\n",
      "[ATA episode 0]: took [15.8] seconds for one full step\n",
      "[ATE:190]  action [[1.64798239 0.72534234 0.27494557 0.28106544]] recieved\n",
      "[clf_engine]  scaled BS by [1.647982386338662]; BS=[2500]\n",
      "[clf_engine]  scaled LR by [0.7253423425431018]; LR=[4.035796813313679e-34]\n",
      "[clf_engine]  training loop: started for [30] updates; BS=[2500] LR=[2.9273343145969294e-34]!\n"
     ]
    },
    {
     "data": {
      "application/vnd.jupyter.widget-view+json": {
       "model_id": "e95945382128407caef3acec82bd0758",
       "version_major": 2,
       "version_minor": 0
      },
      "text/plain": [
       "HBox(children=(FloatProgress(value=0.0, max=10.0), HTML(value='')))"
      ]
     },
     "metadata": {},
     "output_type": "display_data"
    },
    {
     "name": "stdout",
     "output_type": "stream",
     "text": [
      "\n",
      "[clf_engine]  training loop: started for [20] updates; BS=[2500] LR=[2.9273343145969294e-34]!\n"
     ]
    },
    {
     "data": {
      "application/vnd.jupyter.widget-view+json": {
       "model_id": "fa327566713d41a995516be772cf1358",
       "version_major": 2,
       "version_minor": 0
      },
      "text/plain": [
       "HBox(children=(FloatProgress(value=0.0, max=10.0), HTML(value='')))"
      ]
     },
     "metadata": {},
     "output_type": "display_data"
    },
    {
     "name": "stdout",
     "output_type": "stream",
     "text": [
      "\n",
      "[clf_engine]  training loop: started for [10] updates; BS=[2500] LR=[2.9273343145969294e-34]!\n"
     ]
    },
    {
     "data": {
      "application/vnd.jupyter.widget-view+json": {
       "model_id": "dc27efabf9ff4070b50a1483b4a64553",
       "version_major": 2,
       "version_minor": 0
      },
      "text/plain": [
       "HBox(children=(FloatProgress(value=0.0, max=10.0), HTML(value='')))"
      ]
     },
     "metadata": {},
     "output_type": "display_data"
    },
    {
     "name": "stdout",
     "output_type": "stream",
     "text": [
      "\n",
      "[clf_engine]  training loop: done!\n",
      "[ATE:191]  delta is: [-0.2799]; scaled delta is [-0.0280]\n",
      "[ATE:191]  [1.8914544582366943, 1.9420979022979736, 1.8986694812774658, 1.9142996072769165, 1.9214509725570679, 1.9175872802734375, 1.9465044736862183, 1.9229681491851807, 1.9135011434555054, 1.914576530456543]\n",
      "[ATE:191]  [2.26118135 2.27842617 2.13895845 2.23217511 2.26257849 2.14724422\n",
      " 2.2273016  2.10821748 2.15992284 2.1656785 ]\n",
      "[ATE:191]  reward at the end of time step is [-0.02798574209213256]\n",
      "[ATA] optimization step performed\n",
      "[ATA episode 0]: took [10.4] seconds for one full step\n",
      "[ATE:191]  action [[1.61570408 0.5862555  0.24756238 0.29501491]] recieved\n",
      "[clf_engine]  scaled BS by [1.615704076416883]; BS=[2500]\n",
      "[clf_engine]  scaled LR by [0.5862554992091312]; LR=[2.9273343145969294e-34]\n",
      "[clf_engine]  training loop: started for [30] updates; BS=[2500] LR=[1.7161658399560429e-34]!\n"
     ]
    },
    {
     "data": {
      "application/vnd.jupyter.widget-view+json": {
       "model_id": "17cb2b81c37a499b992cc1e79cb692e4",
       "version_major": 2,
       "version_minor": 0
      },
      "text/plain": [
       "HBox(children=(FloatProgress(value=0.0, max=10.0), HTML(value='')))"
      ]
     },
     "metadata": {},
     "output_type": "display_data"
    },
    {
     "name": "stdout",
     "output_type": "stream",
     "text": [
      "\n",
      "[clf_engine]  training loop: started for [20] updates; BS=[2500] LR=[1.7161658399560429e-34]!\n"
     ]
    },
    {
     "data": {
      "application/vnd.jupyter.widget-view+json": {
       "model_id": "7f4d6ef8f5b54816b26197bed045c71a",
       "version_major": 2,
       "version_minor": 0
      },
      "text/plain": [
       "HBox(children=(FloatProgress(value=0.0, max=10.0), HTML(value='')))"
      ]
     },
     "metadata": {},
     "output_type": "display_data"
    },
    {
     "name": "stdout",
     "output_type": "stream",
     "text": [
      "\n",
      "[clf_engine]  training loop: started for [10] updates; BS=[2500] LR=[1.7161658399560429e-34]!\n"
     ]
    },
    {
     "data": {
      "application/vnd.jupyter.widget-view+json": {
       "model_id": "7e5cc81e414843a88bcca1e5e1a524c4",
       "version_major": 2,
       "version_minor": 0
      },
      "text/plain": [
       "HBox(children=(FloatProgress(value=0.0, max=10.0), HTML(value='')))"
      ]
     },
     "metadata": {},
     "output_type": "display_data"
    },
    {
     "name": "stdout",
     "output_type": "stream",
     "text": [
      "\n",
      "[clf_engine]  training loop: done!\n",
      "[ATE:192]  delta is: [-0.2734]; scaled delta is [-0.0273]\n",
      "[ATE:192]  [1.9299429655075073, 1.9063873291015625, 1.887642741203308, 1.9255437850952148, 1.9139783382415771, 1.9194986820220947, 1.9006295204162598, 1.9274142980575562, 1.8875499963760376, 1.9152990579605103]\n",
      "[ATE:192]  [2.1935811  2.18242002 2.26811028 2.20993114 2.06952262 2.10885811\n",
      " 2.13766098 2.22374701 2.24612617 2.20838952]\n",
      "[ATE:192]  reward at the end of time step is [-0.02734460234642029]\n",
      "[ATA] optimization step performed\n",
      "[ATA episode 0]: took [10.6] seconds for one full step\n",
      "[ATE:192]  action [[1.53498151 0.64793431 0.20773816 0.32759271]] recieved\n",
      "[clf_engine]  scaled BS by [1.5349815104959017]; BS=[2500]\n",
      "[clf_engine]  scaled LR by [0.6479343066230288]; LR=[1.7161658399560429e-34]\n",
      "[clf_engine]  training loop: started for [30] updates; BS=[2500] LR=[1.1119627235620464e-34]!\n"
     ]
    },
    {
     "data": {
      "application/vnd.jupyter.widget-view+json": {
       "model_id": "273321fcf97a4b4d989c74d89c420599",
       "version_major": 2,
       "version_minor": 0
      },
      "text/plain": [
       "HBox(children=(FloatProgress(value=0.0, max=10.0), HTML(value='')))"
      ]
     },
     "metadata": {},
     "output_type": "display_data"
    },
    {
     "name": "stdout",
     "output_type": "stream",
     "text": [
      "\n",
      "[clf_engine]  training loop: started for [20] updates; BS=[2500] LR=[1.1119627235620464e-34]!\n"
     ]
    },
    {
     "data": {
      "application/vnd.jupyter.widget-view+json": {
       "model_id": "7af60a3af5b246f29f8c0dd4431848b2",
       "version_major": 2,
       "version_minor": 0
      },
      "text/plain": [
       "HBox(children=(FloatProgress(value=0.0, max=10.0), HTML(value='')))"
      ]
     },
     "metadata": {},
     "output_type": "display_data"
    },
    {
     "name": "stdout",
     "output_type": "stream",
     "text": [
      "\n",
      "[clf_engine]  training loop: started for [10] updates; BS=[2500] LR=[1.1119627235620464e-34]!\n"
     ]
    },
    {
     "data": {
      "application/vnd.jupyter.widget-view+json": {
       "model_id": "820df4850fb64d04bcc71678aacae90e",
       "version_major": 2,
       "version_minor": 0
      },
      "text/plain": [
       "HBox(children=(FloatProgress(value=0.0, max=10.0), HTML(value='')))"
      ]
     },
     "metadata": {},
     "output_type": "display_data"
    },
    {
     "name": "stdout",
     "output_type": "stream",
     "text": [
      "\n",
      "[clf_engine]  training loop: done!\n",
      "[ATE:193]  delta is: [-0.2874]; scaled delta is [-0.0287]\n",
      "[ATE:193]  [1.8997427225112915, 1.9261417388916016, 1.9090242385864258, 1.9204214811325073, 1.9159480333328247, 1.912644863128662, 1.9122222661972046, 1.908539891242981, 1.9167269468307495, 1.9116121530532837]\n",
      "[ATE:193]  [2.21198392 2.25041246 2.14382243 2.19402623 2.20324183 2.23229456\n",
      " 2.22772121 2.189955   2.24485087 2.10871625]\n",
      "[ATE:193]  reward at the end of time step is [-0.028740004301071154]\n",
      "[ATA] optimization step performed\n",
      "[ATA episode 0]: took [11.0] seconds for one full step\n",
      "[ATE:193]  action [[1.58709569 0.5349786  0.18503377 0.28412932]] recieved\n",
      "[clf_engine]  scaled BS by [1.587095690929774]; BS=[2500]\n",
      "[clf_engine]  scaled LR by [0.5349785988229118]; LR=[1.1119627235620464e-34]\n",
      "[clf_engine]  training loop: started for [30] updates; BS=[2500] LR=[5.948762597945324e-35]!\n"
     ]
    },
    {
     "data": {
      "application/vnd.jupyter.widget-view+json": {
       "model_id": "b4246a3726ea44efa8ce11baf459fc53",
       "version_major": 2,
       "version_minor": 0
      },
      "text/plain": [
       "HBox(children=(FloatProgress(value=0.0, max=10.0), HTML(value='')))"
      ]
     },
     "metadata": {},
     "output_type": "display_data"
    },
    {
     "name": "stdout",
     "output_type": "stream",
     "text": [
      "\n",
      "[clf_engine]  training loop: started for [20] updates; BS=[2500] LR=[5.948762597945324e-35]!\n"
     ]
    },
    {
     "data": {
      "application/vnd.jupyter.widget-view+json": {
       "model_id": "5d9c02fb2eaa4d999ef633efd79b96b5",
       "version_major": 2,
       "version_minor": 0
      },
      "text/plain": [
       "HBox(children=(FloatProgress(value=0.0, max=10.0), HTML(value='')))"
      ]
     },
     "metadata": {},
     "output_type": "display_data"
    },
    {
     "name": "stdout",
     "output_type": "stream",
     "text": [
      "\n",
      "[clf_engine]  training loop: started for [10] updates; BS=[2500] LR=[5.948762597945324e-35]!\n"
     ]
    },
    {
     "data": {
      "application/vnd.jupyter.widget-view+json": {
       "model_id": "516ef387aacb426e8720bf5933e0aa7a",
       "version_major": 2,
       "version_minor": 0
      },
      "text/plain": [
       "HBox(children=(FloatProgress(value=0.0, max=10.0), HTML(value='')))"
      ]
     },
     "metadata": {},
     "output_type": "display_data"
    },
    {
     "name": "stdout",
     "output_type": "stream",
     "text": [
      "\n",
      "[clf_engine]  training loop: done!\n",
      "[ATE:194]  delta is: [-0.3016]; scaled delta is [-0.0302]\n",
      "[ATE:194]  [1.9376347064971924, 1.92625093460083, 1.8935695886611938, 1.9248108863830566, 1.9132254123687744, 1.9213433265686035, 1.8987332582473755, 1.9147077798843384, 1.8759682178497314, 1.9365154504776]\n",
      "[ATE:194]  [2.21170211 2.25571966 2.3454535  2.27209592 2.19665194 2.1855042\n",
      " 2.14822173 2.18573642 2.19270921 2.16453242]\n",
      "[ATE:194]  reward at the end of time step is [-0.03015567541122437]\n",
      "[ATA] optimization step performed\n",
      "[ATA episode 0]: took [11.3] seconds for one full step\n",
      "[ATE:194]  action [[1.65160489 0.58662269 0.17691408 0.28483569]] recieved\n",
      "[clf_engine]  scaled BS by [1.6516048896394429]; BS=[2500]\n",
      "[clf_engine]  scaled LR by [0.5866226865659314]; LR=[5.948762597945324e-35]\n",
      "[clf_engine]  training loop: started for [30] updates; BS=[2500] LR=[3.4896790969496156e-35]!\n"
     ]
    },
    {
     "data": {
      "application/vnd.jupyter.widget-view+json": {
       "model_id": "7d940c9143804e0594ecbbeefaeb6847",
       "version_major": 2,
       "version_minor": 0
      },
      "text/plain": [
       "HBox(children=(FloatProgress(value=0.0, max=10.0), HTML(value='')))"
      ]
     },
     "metadata": {},
     "output_type": "display_data"
    },
    {
     "name": "stdout",
     "output_type": "stream",
     "text": [
      "\n",
      "[clf_engine]  training loop: started for [20] updates; BS=[2500] LR=[3.4896790969496156e-35]!\n"
     ]
    },
    {
     "data": {
      "application/vnd.jupyter.widget-view+json": {
       "model_id": "a7bf5841385c429dba601d608ff96254",
       "version_major": 2,
       "version_minor": 0
      },
      "text/plain": [
       "HBox(children=(FloatProgress(value=0.0, max=10.0), HTML(value='')))"
      ]
     },
     "metadata": {},
     "output_type": "display_data"
    },
    {
     "name": "stdout",
     "output_type": "stream",
     "text": [
      "\n",
      "[clf_engine]  training loop: started for [10] updates; BS=[2500] LR=[3.4896790969496156e-35]!\n"
     ]
    },
    {
     "data": {
      "application/vnd.jupyter.widget-view+json": {
       "model_id": "40a26e614ba84fe385463e68d45aa617",
       "version_major": 2,
       "version_minor": 0
      },
      "text/plain": [
       "HBox(children=(FloatProgress(value=0.0, max=10.0), HTML(value='')))"
      ]
     },
     "metadata": {},
     "output_type": "display_data"
    },
    {
     "name": "stdout",
     "output_type": "stream",
     "text": [
      "\n",
      "[clf_engine]  training loop: done!\n",
      "[ATE:195]  delta is: [-0.2894]; scaled delta is [-0.0289]\n",
      "[ATE:195]  [1.8911582231521606, 1.891096830368042, 1.912124752998352, 1.9518063068389893, 1.9139055013656616, 1.8981585502624512, 1.9116088151931763, 1.9219646453857422, 1.904123067855835, 1.9091812372207642]\n",
      "[ATE:195]  [2.24167657 2.10180473 2.27018309 2.21231151 2.18532586 2.18850946\n",
      " 2.25337362 2.24376535 2.22963428 2.07269096]\n",
      "[ATE:195]  reward at the end of time step is [-0.028941475152969368]\n",
      "[ATA] optimization step performed\n",
      "[ATA episode 0]: took [11.1] seconds for one full step\n",
      "[ATE:195]  action [[1.68562561 0.63238383 0.22518151 0.33122253]] recieved\n",
      "[clf_engine]  scaled BS by [1.6856256051368073]; BS=[2500]\n",
      "[clf_engine]  scaled LR by [0.6323838250609594]; LR=[3.4896790969496156e-35]\n",
      "[clf_engine]  training loop: started for [30] updates; BS=[2500] LR=[2.2068166155642724e-35]!\n"
     ]
    },
    {
     "data": {
      "application/vnd.jupyter.widget-view+json": {
       "model_id": "48c65c78eb67417db25be49c0f18fd66",
       "version_major": 2,
       "version_minor": 0
      },
      "text/plain": [
       "HBox(children=(FloatProgress(value=0.0, max=10.0), HTML(value='')))"
      ]
     },
     "metadata": {},
     "output_type": "display_data"
    },
    {
     "name": "stdout",
     "output_type": "stream",
     "text": [
      "\n",
      "[clf_engine]  training loop: started for [20] updates; BS=[2500] LR=[2.2068166155642724e-35]!\n"
     ]
    },
    {
     "data": {
      "application/vnd.jupyter.widget-view+json": {
       "model_id": "91659d4417004ba3b2b53a13c61d061d",
       "version_major": 2,
       "version_minor": 0
      },
      "text/plain": [
       "HBox(children=(FloatProgress(value=0.0, max=10.0), HTML(value='')))"
      ]
     },
     "metadata": {},
     "output_type": "display_data"
    },
    {
     "name": "stdout",
     "output_type": "stream",
     "text": [
      "\n",
      "[clf_engine]  training loop: started for [10] updates; BS=[2500] LR=[2.2068166155642724e-35]!\n"
     ]
    },
    {
     "data": {
      "application/vnd.jupyter.widget-view+json": {
       "model_id": "0970520ac4fc4cb39b4f6c783ddadc0a",
       "version_major": 2,
       "version_minor": 0
      },
      "text/plain": [
       "HBox(children=(FloatProgress(value=0.0, max=10.0), HTML(value='')))"
      ]
     },
     "metadata": {},
     "output_type": "display_data"
    },
    {
     "name": "stdout",
     "output_type": "stream",
     "text": [
      "\n",
      "[clf_engine]  training loop: done!\n",
      "[ATE:196]  delta is: [-0.2845]; scaled delta is [-0.0284]\n",
      "[ATE:196]  [1.9108338356018066, 1.9186038970947266, 1.9419419765472412, 1.9107381105422974, 1.9233866930007935, 1.9080770015716553, 1.909890055656433, 1.9225547313690186, 1.909914255142212, 1.9295507669448853]\n",
      "[ATE:196]  [2.31298232 2.15505934 2.1350174  2.29255843 2.18711615 2.18817878\n",
      " 2.20068264 2.21406746 2.15835714 2.18600368]\n",
      "[ATE:196]  reward at the end of time step is [-0.028445320129394536]\n",
      "[ATA] optimization step performed\n",
      "[ATA episode 0]: took [10.9] seconds for one full step\n",
      "[ATE:196]  action [[1.7243027  0.76566636 0.20950749 0.30362551]] recieved\n",
      "[clf_engine]  scaled BS by [1.7243026977772349]; BS=[2500]\n",
      "[clf_engine]  scaled LR by [0.7656663639416635]; LR=[2.2068166155642724e-35]\n",
      "[clf_engine]  training loop: started for [30] updates; BS=[2500] LR=[1.6896852539251443e-35]!\n"
     ]
    },
    {
     "data": {
      "application/vnd.jupyter.widget-view+json": {
       "model_id": "b3a7c998cf6747e5940d810da299a660",
       "version_major": 2,
       "version_minor": 0
      },
      "text/plain": [
       "HBox(children=(FloatProgress(value=0.0, max=10.0), HTML(value='')))"
      ]
     },
     "metadata": {},
     "output_type": "display_data"
    },
    {
     "name": "stdout",
     "output_type": "stream",
     "text": [
      "\n",
      "[clf_engine]  training loop: started for [20] updates; BS=[2500] LR=[1.6896852539251443e-35]!\n"
     ]
    },
    {
     "data": {
      "application/vnd.jupyter.widget-view+json": {
       "model_id": "4a19864008dc4487bc72f912fcf3e8ce",
       "version_major": 2,
       "version_minor": 0
      },
      "text/plain": [
       "HBox(children=(FloatProgress(value=0.0, max=10.0), HTML(value='')))"
      ]
     },
     "metadata": {},
     "output_type": "display_data"
    },
    {
     "name": "stdout",
     "output_type": "stream",
     "text": [
      "\n",
      "[clf_engine]  training loop: started for [10] updates; BS=[2500] LR=[1.6896852539251443e-35]!\n"
     ]
    },
    {
     "data": {
      "application/vnd.jupyter.widget-view+json": {
       "model_id": "09361520aa2d4ab7b80b6b5771a713c8",
       "version_major": 2,
       "version_minor": 0
      },
      "text/plain": [
       "HBox(children=(FloatProgress(value=0.0, max=10.0), HTML(value='')))"
      ]
     },
     "metadata": {},
     "output_type": "display_data"
    },
    {
     "name": "stdout",
     "output_type": "stream",
     "text": [
      "\n",
      "[clf_engine]  training loop: done!\n",
      "[ATE:197]  delta is: [-0.2596]; scaled delta is [-0.0260]\n",
      "[ATE:197]  [1.9379398822784424, 1.905139446258545, 1.924131989479065, 1.9087846279144287, 1.9339945316314697, 1.9267468452453613, 1.9047151803970337, 1.914290189743042, 1.9245421886444092, 1.9183707237243652]\n",
      "[ATE:197]  [2.10182476 2.19493079 2.23957443 2.19375324 2.11897874 2.14534044\n",
      " 2.21143937 2.26159286 2.2303791  2.09713984]\n",
      "[ATE:197]  reward at the end of time step is [-0.02596297979354858]\n",
      "[ATA] optimization step performed\n",
      "[ATA episode 0]: took [10.4] seconds for one full step\n",
      "[ATE:197]  action [[1.74631759 0.86606426 0.23521893 0.29789517]] recieved\n",
      "[clf_engine]  scaled BS by [1.7463175866546645]; BS=[2500]\n",
      "[clf_engine]  scaled LR by [0.8660642627109215]; LR=[1.6896852539251443e-35]\n",
      "[clf_engine]  training loop: started for [30] updates; BS=[2500] LR=[1.4633760136541964e-35]!\n"
     ]
    },
    {
     "data": {
      "application/vnd.jupyter.widget-view+json": {
       "model_id": "e2f93074e93f41f2981b695ef2ffdcc4",
       "version_major": 2,
       "version_minor": 0
      },
      "text/plain": [
       "HBox(children=(FloatProgress(value=0.0, max=10.0), HTML(value='')))"
      ]
     },
     "metadata": {},
     "output_type": "display_data"
    },
    {
     "name": "stdout",
     "output_type": "stream",
     "text": [
      "\n",
      "[clf_engine]  training loop: started for [20] updates; BS=[2500] LR=[1.4633760136541964e-35]!\n"
     ]
    },
    {
     "data": {
      "application/vnd.jupyter.widget-view+json": {
       "model_id": "1063cd7b61a74c98a6fc2044822d1fb9",
       "version_major": 2,
       "version_minor": 0
      },
      "text/plain": [
       "HBox(children=(FloatProgress(value=0.0, max=10.0), HTML(value='')))"
      ]
     },
     "metadata": {},
     "output_type": "display_data"
    },
    {
     "name": "stdout",
     "output_type": "stream",
     "text": [
      "\n",
      "[clf_engine]  training loop: started for [10] updates; BS=[2500] LR=[1.4633760136541964e-35]!\n"
     ]
    },
    {
     "data": {
      "application/vnd.jupyter.widget-view+json": {
       "model_id": "ffc5577b4c49484ead9b131fbfb7bec2",
       "version_major": 2,
       "version_minor": 0
      },
      "text/plain": [
       "HBox(children=(FloatProgress(value=0.0, max=10.0), HTML(value='')))"
      ]
     },
     "metadata": {},
     "output_type": "display_data"
    },
    {
     "name": "stdout",
     "output_type": "stream",
     "text": [
      "\n",
      "[clf_engine]  training loop: done!\n",
      "[ATE:198]  delta is: [-0.2893]; scaled delta is [-0.0289]\n",
      "[ATE:198]  [1.9375948905944824, 1.9177347421646118, 1.8994982242584229, 1.9127837419509888, 1.8905680179595947, 1.9271398782730103, 1.9103823900222778, 1.9173369407653809, 1.9081501960754395, 1.9200439453125]\n",
      "[ATE:198]  [2.19703484 2.2983737  2.26482821 2.25245142 2.2120986  2.17040777\n",
      " 2.27997708 2.153543   2.21478033 1.99066222]\n",
      "[ATE:198]  reward at the end of time step is [-0.028929241895675653]\n",
      "[ATA] optimization step performed\n",
      "[ATA episode 0]: took [10.9] seconds for one full step\n",
      "[ATE:198]  action [[1.72203698 0.88795913 0.22030584 0.32153158]] recieved\n",
      "[clf_engine]  scaled BS by [1.722036981021138]; BS=[2500]\n",
      "[clf_engine]  scaled LR by [0.88795913302758]; LR=[1.4633760136541964e-35]\n",
      "[clf_engine]  training loop: started for [30] updates; BS=[2500] LR=[1.2994180963777362e-35]!\n"
     ]
    },
    {
     "data": {
      "application/vnd.jupyter.widget-view+json": {
       "model_id": "b344849a7f24444b9670764a9fee4480",
       "version_major": 2,
       "version_minor": 0
      },
      "text/plain": [
       "HBox(children=(FloatProgress(value=0.0, max=10.0), HTML(value='')))"
      ]
     },
     "metadata": {},
     "output_type": "display_data"
    },
    {
     "name": "stdout",
     "output_type": "stream",
     "text": [
      "\n",
      "[clf_engine]  training loop: started for [20] updates; BS=[2500] LR=[1.2994180963777362e-35]!\n"
     ]
    },
    {
     "data": {
      "application/vnd.jupyter.widget-view+json": {
       "model_id": "426b25a0427b42fda9f327e365359c1d",
       "version_major": 2,
       "version_minor": 0
      },
      "text/plain": [
       "HBox(children=(FloatProgress(value=0.0, max=10.0), HTML(value='')))"
      ]
     },
     "metadata": {},
     "output_type": "display_data"
    },
    {
     "name": "stdout",
     "output_type": "stream",
     "text": [
      "\n",
      "[clf_engine]  training loop: started for [10] updates; BS=[2500] LR=[1.2994180963777362e-35]!\n"
     ]
    },
    {
     "data": {
      "application/vnd.jupyter.widget-view+json": {
       "model_id": "a30c850e03ee4fd68a4cbd2bce7ab054",
       "version_major": 2,
       "version_minor": 0
      },
      "text/plain": [
       "HBox(children=(FloatProgress(value=0.0, max=10.0), HTML(value='')))"
      ]
     },
     "metadata": {},
     "output_type": "display_data"
    },
    {
     "name": "stdout",
     "output_type": "stream",
     "text": [
      "\n",
      "[clf_engine]  training loop: done!\n",
      "[ATE:199]  delta is: [-0.3061]; scaled delta is [-0.0306]\n",
      "[ATE:199]  [1.8979614973068237, 1.9201613664627075, 1.9274396896362305, 1.941313624382019, 1.9172626733779907, 1.9050503969192505, 1.910260558128357, 1.8967267274856567, 1.9293943643569946, 1.9172489643096924]\n",
      "[ATE:199]  [2.28664732 2.16370726 2.22087407 2.14700675 2.19286466 2.22463059\n",
      " 2.18578506 2.28780174 2.32255316 2.1914618 ]\n",
      "[ATE:199]  reward at the end of time step is [-0.030605125427246072]\n",
      "[ATA] optimization step performed\n",
      "[ATA episode 0]: took [10.9] seconds for one full step\n",
      "[ATE:199]  action [[1.77101787 0.71157853 0.21506873 0.28477896]] recieved\n",
      "[clf_engine]  scaled BS by [1.7710178678790576]; BS=[2500]\n",
      "[clf_engine]  scaled LR by [0.7115785340980845]; LR=[1.2994180963777362e-35]\n",
      "[clf_engine]  training loop: started for [30] updates; BS=[2500] LR=[9.24638024200993e-36]!\n"
     ]
    },
    {
     "data": {
      "application/vnd.jupyter.widget-view+json": {
       "model_id": "e9b275e5ed494a5099eb7e07bbe1b504",
       "version_major": 2,
       "version_minor": 0
      },
      "text/plain": [
       "HBox(children=(FloatProgress(value=0.0, max=10.0), HTML(value='')))"
      ]
     },
     "metadata": {},
     "output_type": "display_data"
    },
    {
     "name": "stdout",
     "output_type": "stream",
     "text": [
      "\n",
      "[clf_engine]  training loop: started for [20] updates; BS=[2500] LR=[9.24638024200993e-36]!\n"
     ]
    },
    {
     "data": {
      "application/vnd.jupyter.widget-view+json": {
       "model_id": "669a0a805b3141b89b438c85235da681",
       "version_major": 2,
       "version_minor": 0
      },
      "text/plain": [
       "HBox(children=(FloatProgress(value=0.0, max=10.0), HTML(value='')))"
      ]
     },
     "metadata": {},
     "output_type": "display_data"
    },
    {
     "name": "stdout",
     "output_type": "stream",
     "text": [
      "\n",
      "[clf_engine]  training loop: started for [10] updates; BS=[2500] LR=[9.24638024200993e-36]!\n"
     ]
    },
    {
     "data": {
      "application/vnd.jupyter.widget-view+json": {
       "model_id": "449157850c3a45f9855acd1e6b3172f9",
       "version_major": 2,
       "version_minor": 0
      },
      "text/plain": [
       "HBox(children=(FloatProgress(value=0.0, max=10.0), HTML(value='')))"
      ]
     },
     "metadata": {},
     "output_type": "display_data"
    },
    {
     "name": "stdout",
     "output_type": "stream",
     "text": [
      "\n",
      "[clf_engine]  training loop: done!\n"
     ]
    },
    {
     "data": {
      "application/vnd.jupyter.widget-view+json": {
       "model_id": "66bb1ddd50ec4d37a0aea48036d6f39f",
       "version_major": 2,
       "version_minor": 0
      },
      "text/plain": [
       "HBox(children=(FloatProgress(value=0.0, max=1563.0), HTML(value='')))"
      ]
     },
     "metadata": {},
     "output_type": "display_data"
    },
    {
     "name": "stdout",
     "output_type": "stream",
     "text": [
      "\n"
     ]
    },
    {
     "data": {
      "application/vnd.jupyter.widget-view+json": {
       "model_id": "f5895ccba53c42c5b348a6104ba584fe",
       "version_major": 2,
       "version_minor": 0
      },
      "text/plain": [
       "HBox(children=(FloatProgress(value=0.0, max=625.0), HTML(value='')))"
      ]
     },
     "metadata": {},
     "output_type": "display_data"
    },
    {
     "name": "stdout",
     "output_type": "stream",
     "text": [
      "\n",
      "[ATE:200]  delta is: [-0.3166]; scaled delta is [-0.0317]\n",
      "[ATE:200]  [1.9192928075790405, 1.8824187517166138, 1.8998475074768066, 1.9099091291427612, 1.9287537336349487, 1.890040397644043, 1.9015642404556274, 1.9432355165481567, 1.937011480331421, 1.9013423919677734]\n",
      "[ATE:200]  [2.27087951 2.2947998  2.21289134 2.1898365  2.27282071 2.25606275\n",
      " 2.25035143 2.25429201 2.13517356 2.14274096]\n",
      "[ATE:200]  reward at the end of time step is [-0.0316643261909485]\n",
      "[ATA] optimization step performed\n",
      "[ATA episode 0]: took [16.1] seconds for one full step\n",
      "[ATE:200]  action [[1.79486571 0.56317005 0.21364087 0.20191341]] recieved\n",
      "[clf_engine]  scaled BS by [1.7948657128416061]; BS=[2500]\n",
      "[clf_engine]  scaled LR by [0.5631700495413065]; LR=[9.24638024200993e-36]\n",
      "[clf_engine]  training loop: started for [30] updates; BS=[2500] LR=[5.207284418970489e-36]!\n"
     ]
    },
    {
     "data": {
      "application/vnd.jupyter.widget-view+json": {
       "model_id": "159305497c9e4388bc4a3888a919464c",
       "version_major": 2,
       "version_minor": 0
      },
      "text/plain": [
       "HBox(children=(FloatProgress(value=0.0, max=10.0), HTML(value='')))"
      ]
     },
     "metadata": {},
     "output_type": "display_data"
    },
    {
     "name": "stdout",
     "output_type": "stream",
     "text": [
      "\n",
      "[clf_engine]  training loop: started for [20] updates; BS=[2500] LR=[5.207284418970489e-36]!\n"
     ]
    },
    {
     "data": {
      "application/vnd.jupyter.widget-view+json": {
       "model_id": "0577daabfba147fd9b67792d16c73a63",
       "version_major": 2,
       "version_minor": 0
      },
      "text/plain": [
       "HBox(children=(FloatProgress(value=0.0, max=10.0), HTML(value='')))"
      ]
     },
     "metadata": {},
     "output_type": "display_data"
    },
    {
     "name": "stdout",
     "output_type": "stream",
     "text": [
      "\n",
      "[clf_engine]  training loop: started for [10] updates; BS=[2500] LR=[5.207284418970489e-36]!\n"
     ]
    },
    {
     "data": {
      "application/vnd.jupyter.widget-view+json": {
       "model_id": "d1b7b7c4a8d941b0b4e4d1608a10dc7b",
       "version_major": 2,
       "version_minor": 0
      },
      "text/plain": [
       "HBox(children=(FloatProgress(value=0.0, max=10.0), HTML(value='')))"
      ]
     },
     "metadata": {},
     "output_type": "display_data"
    },
    {
     "name": "stdout",
     "output_type": "stream",
     "text": [
      "\n",
      "[clf_engine]  training loop: done!\n",
      "[ATE:201]  delta is: [-0.2848]; scaled delta is [-0.0285]\n",
      "[ATE:201]  [1.9087060689926147, 1.9232158660888672, 1.8840200901031494, 1.9106940031051636, 1.9038143157958984, 1.909637451171875, 1.9050925970077515, 1.924090027809143, 1.920203685760498, 1.9135310649871826]\n",
      "[ATE:201]  [2.16741514 2.1146884  2.22124577 2.26833725 2.21996856 2.22439098\n",
      " 2.22394443 2.13049984 2.21183276 2.16841221]\n",
      "[ATE:201]  reward at the end of time step is [-0.028477301597595206]\n",
      "[ATA] optimization step performed\n",
      "[ATA episode 0]: took [10.7] seconds for one full step\n",
      "[ATE:201]  action [[1.76737002 0.43784559 0.21303226 0.19245695]] recieved\n",
      "[clf_engine]  scaled BS by [1.7673700165693336]; BS=[2500]\n",
      "[clf_engine]  scaled LR by [0.4378455895197151]; LR=[5.207284418970489e-36]\n",
      "[clf_engine]  training loop: started for [30] updates; BS=[2500] LR=[2.2799865162209608e-36]!\n"
     ]
    },
    {
     "data": {
      "application/vnd.jupyter.widget-view+json": {
       "model_id": "36b0d557dd054e8c90199f7c12d43c68",
       "version_major": 2,
       "version_minor": 0
      },
      "text/plain": [
       "HBox(children=(FloatProgress(value=0.0, max=10.0), HTML(value='')))"
      ]
     },
     "metadata": {},
     "output_type": "display_data"
    },
    {
     "name": "stdout",
     "output_type": "stream",
     "text": [
      "\n",
      "[clf_engine]  training loop: started for [20] updates; BS=[2500] LR=[2.2799865162209608e-36]!\n"
     ]
    },
    {
     "data": {
      "application/vnd.jupyter.widget-view+json": {
       "model_id": "0b04f223b309491eb5c19f45c85d784d",
       "version_major": 2,
       "version_minor": 0
      },
      "text/plain": [
       "HBox(children=(FloatProgress(value=0.0, max=10.0), HTML(value='')))"
      ]
     },
     "metadata": {},
     "output_type": "display_data"
    },
    {
     "name": "stdout",
     "output_type": "stream",
     "text": [
      "\n",
      "[clf_engine]  training loop: started for [10] updates; BS=[2500] LR=[2.2799865162209608e-36]!\n"
     ]
    },
    {
     "data": {
      "application/vnd.jupyter.widget-view+json": {
       "model_id": "8d659df44e8e457ca771a552a14b25a3",
       "version_major": 2,
       "version_minor": 0
      },
      "text/plain": [
       "HBox(children=(FloatProgress(value=0.0, max=10.0), HTML(value='')))"
      ]
     },
     "metadata": {},
     "output_type": "display_data"
    },
    {
     "name": "stdout",
     "output_type": "stream",
     "text": [
      "\n",
      "[clf_engine]  training loop: done!\n",
      "[ATE:202]  delta is: [-0.2650]; scaled delta is [-0.0265]\n",
      "[ATE:202]  [1.9092674255371094, 1.8886981010437012, 1.9145302772521973, 1.9366830587387085, 1.924264669418335, 1.902129054069519, 1.9289345741271973, 1.896564245223999, 1.901761770248413, 1.9263185262680054]\n",
      "[ATE:202]  [2.18699408 2.26837063 2.17059541 2.16151452 2.14562321 2.17945743\n",
      " 2.15854359 2.14992809 2.21489501 2.14325047]\n",
      "[ATE:202]  reward at the end of time step is [-0.02650020718574524]\n",
      "[ATA] optimization step performed\n",
      "[ATA episode 0]: took [10.5] seconds for one full step\n",
      "[ATE:202]  action [[1.76584943 0.4609116  0.22135355 0.25630085]] recieved\n",
      "[clf_engine]  scaled BS by [1.7658494297121532]; BS=[2500]\n",
      "[clf_engine]  scaled LR by [0.46091159722890235]; LR=[2.2799865162209608e-36]\n",
      "[clf_engine]  training loop: started for [30] updates; BS=[2500] LR=[1.0508722268517638e-36]!\n"
     ]
    },
    {
     "data": {
      "application/vnd.jupyter.widget-view+json": {
       "model_id": "fdfd7d6362ea4af0bab91b39849969e0",
       "version_major": 2,
       "version_minor": 0
      },
      "text/plain": [
       "HBox(children=(FloatProgress(value=0.0, max=10.0), HTML(value='')))"
      ]
     },
     "metadata": {},
     "output_type": "display_data"
    },
    {
     "name": "stdout",
     "output_type": "stream",
     "text": [
      "\n",
      "[clf_engine]  training loop: started for [20] updates; BS=[2500] LR=[1.0508722268517638e-36]!\n"
     ]
    },
    {
     "data": {
      "application/vnd.jupyter.widget-view+json": {
       "model_id": "363f99c18b104cbc98c30e7fae0e01c3",
       "version_major": 2,
       "version_minor": 0
      },
      "text/plain": [
       "HBox(children=(FloatProgress(value=0.0, max=10.0), HTML(value='')))"
      ]
     },
     "metadata": {},
     "output_type": "display_data"
    },
    {
     "name": "stdout",
     "output_type": "stream",
     "text": [
      "\n",
      "[clf_engine]  training loop: started for [10] updates; BS=[2500] LR=[1.0508722268517638e-36]!\n"
     ]
    },
    {
     "data": {
      "application/vnd.jupyter.widget-view+json": {
       "model_id": "7d27f04070ca4d9692a6267ac32f3ad3",
       "version_major": 2,
       "version_minor": 0
      },
      "text/plain": [
       "HBox(children=(FloatProgress(value=0.0, max=10.0), HTML(value='')))"
      ]
     },
     "metadata": {},
     "output_type": "display_data"
    },
    {
     "name": "stdout",
     "output_type": "stream",
     "text": [
      "\n",
      "[clf_engine]  training loop: done!\n",
      "[ATE:203]  delta is: [-0.2753]; scaled delta is [-0.0275]\n",
      "[ATE:203]  [1.9321718215942383, 1.8956111669540405, 1.9081580638885498, 1.89926016330719, 1.9014666080474854, 1.8922061920166016, 1.9094051122665405, 1.928833246231079, 1.9154177904129028, 1.917702555656433]\n",
      "[ATE:203]  [2.12326765 2.30785775 2.15834379 2.15229845 2.2520895  2.17119765\n",
      " 2.13372493 2.23130679 2.10687304 2.21668053]\n",
      "[ATE:203]  reward at the end of time step is [-0.027534073591232302]\n",
      "[ATA] optimization step performed\n",
      "[ATA episode 0]: took [10.4] seconds for one full step\n",
      "[ATE:203]  action [[1.73214196 0.51948861 0.23945838 0.20890321]] recieved\n",
      "[clf_engine]  scaled BS by [1.7321419563364566]; BS=[2500]\n",
      "[clf_engine]  scaled LR by [0.5194886062389638]; LR=[1.0508722268517638e-36]\n",
      "[clf_engine]  training loop: started for [30] updates; BS=[2500] LR=[5.459161484624589e-37]!\n"
     ]
    },
    {
     "data": {
      "application/vnd.jupyter.widget-view+json": {
       "model_id": "4cbc7de0978844348efc970450a01e00",
       "version_major": 2,
       "version_minor": 0
      },
      "text/plain": [
       "HBox(children=(FloatProgress(value=0.0, max=10.0), HTML(value='')))"
      ]
     },
     "metadata": {},
     "output_type": "display_data"
    },
    {
     "name": "stdout",
     "output_type": "stream",
     "text": [
      "\n",
      "[clf_engine]  training loop: started for [20] updates; BS=[2500] LR=[5.459161484624589e-37]!\n"
     ]
    },
    {
     "data": {
      "application/vnd.jupyter.widget-view+json": {
       "model_id": "715f37fafe864853b1e211b798e7942d",
       "version_major": 2,
       "version_minor": 0
      },
      "text/plain": [
       "HBox(children=(FloatProgress(value=0.0, max=10.0), HTML(value='')))"
      ]
     },
     "metadata": {},
     "output_type": "display_data"
    },
    {
     "name": "stdout",
     "output_type": "stream",
     "text": [
      "\n",
      "[clf_engine]  training loop: started for [10] updates; BS=[2500] LR=[5.459161484624589e-37]!\n"
     ]
    },
    {
     "data": {
      "application/vnd.jupyter.widget-view+json": {
       "model_id": "34ad3d80b2a04af8a2d3e58c1bf8d5e8",
       "version_major": 2,
       "version_minor": 0
      },
      "text/plain": [
       "HBox(children=(FloatProgress(value=0.0, max=10.0), HTML(value='')))"
      ]
     },
     "metadata": {},
     "output_type": "display_data"
    },
    {
     "name": "stdout",
     "output_type": "stream",
     "text": [
      "\n",
      "[clf_engine]  training loop: done!\n",
      "[ATE:204]  delta is: [-0.2665]; scaled delta is [-0.0266]\n",
      "[ATE:204]  [1.9287538528442383, 1.9197927713394165, 1.9633287191390991, 1.9237992763519287, 1.9055622816085815, 1.9202091693878174, 1.9093271493911743, 1.8920687437057495, 1.908724069595337, 1.9196869134902954]\n",
      "[ATE:204]  [2.2136817  2.16328573 2.19611931 2.21387196 2.2755332  2.13998652\n",
      " 2.24492455 2.13017964 2.17555118 2.10303164]\n",
      "[ATE:204]  reward at the end of time step is [-0.026649124622344946]\n",
      "[ATA] optimization step performed\n",
      "[ATA episode 0]: took [11.0] seconds for one full step\n",
      "[ATE:204]  action [[1.70985017 0.63320139 0.22616109 0.19128894]] recieved\n",
      "[clf_engine]  scaled BS by [1.7098501731616278]; BS=[2500]\n",
      "[clf_engine]  scaled LR by [0.633201385325457]; LR=[5.459161484624589e-37]\n",
      "[clf_engine]  training loop: started for [30] updates; BS=[2500] LR=[3.4567486147796683e-37]!\n"
     ]
    },
    {
     "data": {
      "application/vnd.jupyter.widget-view+json": {
       "model_id": "6622a91fa69142e59b963324090935d0",
       "version_major": 2,
       "version_minor": 0
      },
      "text/plain": [
       "HBox(children=(FloatProgress(value=0.0, max=10.0), HTML(value='')))"
      ]
     },
     "metadata": {},
     "output_type": "display_data"
    },
    {
     "name": "stdout",
     "output_type": "stream",
     "text": [
      "\n",
      "[clf_engine]  training loop: started for [20] updates; BS=[2500] LR=[3.4567486147796683e-37]!\n"
     ]
    },
    {
     "data": {
      "application/vnd.jupyter.widget-view+json": {
       "model_id": "675e1cd0750c4132af9fb8e2ade176f1",
       "version_major": 2,
       "version_minor": 0
      },
      "text/plain": [
       "HBox(children=(FloatProgress(value=0.0, max=10.0), HTML(value='')))"
      ]
     },
     "metadata": {},
     "output_type": "display_data"
    },
    {
     "name": "stdout",
     "output_type": "stream",
     "text": [
      "\n",
      "[clf_engine]  training loop: started for [10] updates; BS=[2500] LR=[3.4567486147796683e-37]!\n"
     ]
    },
    {
     "data": {
      "application/vnd.jupyter.widget-view+json": {
       "model_id": "587396e9572d42248af1fcdd21bec1f6",
       "version_major": 2,
       "version_minor": 0
      },
      "text/plain": [
       "HBox(children=(FloatProgress(value=0.0, max=10.0), HTML(value='')))"
      ]
     },
     "metadata": {},
     "output_type": "display_data"
    },
    {
     "name": "stdout",
     "output_type": "stream",
     "text": [
      "\n",
      "[clf_engine]  training loop: done!\n",
      "[ATE:205]  delta is: [-0.2728]; scaled delta is [-0.0273]\n",
      "[ATE:205]  [1.9112622737884521, 1.9196327924728394, 1.9039747714996338, 1.9238553047180176, 1.8941874504089355, 1.9254988431930542, 1.9195976257324219, 1.9232749938964844, 1.896256446838379, 1.9130617380142212]\n",
      "[ATE:205]  [2.14706588 2.13500571 2.34153771 2.14516234 2.18630838 2.12868762\n",
      " 2.22496653 2.27064371 2.0863452  2.19263387]\n",
      "[ATE:205]  reward at the end of time step is [-0.027277547121047976]\n",
      "[ATA] optimization step performed\n",
      "[ATA episode 0]: took [10.5] seconds for one full step\n",
      "[ATE:205]  action [[1.71903073 0.4984895  0.26841724 0.21531832]] recieved\n",
      "[clf_engine]  scaled BS by [1.7190307337001711]; BS=[2500]\n",
      "[clf_engine]  scaled LR by [0.49848949714178575]; LR=[3.4567486147796683e-37]\n",
      "[clf_engine]  training loop: started for [30] updates; BS=[2500] LR=[1.7231528787270814e-37]!\n"
     ]
    },
    {
     "data": {
      "application/vnd.jupyter.widget-view+json": {
       "model_id": "822dabcc4557459bb3e1c98c7f0261ba",
       "version_major": 2,
       "version_minor": 0
      },
      "text/plain": [
       "HBox(children=(FloatProgress(value=0.0, max=10.0), HTML(value='')))"
      ]
     },
     "metadata": {},
     "output_type": "display_data"
    },
    {
     "name": "stdout",
     "output_type": "stream",
     "text": [
      "\n",
      "[clf_engine]  training loop: started for [20] updates; BS=[2500] LR=[1.7231528787270814e-37]!\n"
     ]
    },
    {
     "data": {
      "application/vnd.jupyter.widget-view+json": {
       "model_id": "2011368b31c34600a0e7a8d534d5ebfd",
       "version_major": 2,
       "version_minor": 0
      },
      "text/plain": [
       "HBox(children=(FloatProgress(value=0.0, max=10.0), HTML(value='')))"
      ]
     },
     "metadata": {},
     "output_type": "display_data"
    },
    {
     "name": "stdout",
     "output_type": "stream",
     "text": [
      "\n",
      "[clf_engine]  training loop: started for [10] updates; BS=[2500] LR=[1.7231528787270814e-37]!\n"
     ]
    },
    {
     "data": {
      "application/vnd.jupyter.widget-view+json": {
       "model_id": "6ef89c88f20d4300bfff0250200b9a02",
       "version_major": 2,
       "version_minor": 0
      },
      "text/plain": [
       "HBox(children=(FloatProgress(value=0.0, max=10.0), HTML(value='')))"
      ]
     },
     "metadata": {},
     "output_type": "display_data"
    },
    {
     "name": "stdout",
     "output_type": "stream",
     "text": [
      "\n",
      "[clf_engine]  training loop: done!\n",
      "[ATE:206]  delta is: [-0.2530]; scaled delta is [-0.0253]\n",
      "[ATE:206]  [1.9407438039779663, 1.9245349168777466, 1.9208345413208008, 1.9069117307662964, 1.91704261302948, 1.9143775701522827, 1.9055864810943604, 1.92427396774292, 1.9393644332885742, 1.8968771696090698]\n",
      "[ATE:206]  [2.06032705 2.17696857 2.18642902 2.18233299 2.12081766 2.22083306\n",
      " 2.19448256 2.20442581 2.14205289 2.23189998]\n",
      "[ATE:206]  reward at the end of time step is [-0.025300223827362037]\n",
      "[ATA] optimization step performed\n",
      "[ATA episode 0]: took [10.9] seconds for one full step\n",
      "[ATE:206]  action [[1.71239687 0.40025319 0.2651113  0.25710611]] recieved\n",
      "[clf_engine]  scaled BS by [1.712396871243043]; BS=[2500]\n",
      "[clf_engine]  scaled LR by [0.4002531929600624]; LR=[1.7231528787270814e-37]\n",
      "[clf_engine]  training loop: started for [30] updates; BS=[2500] LR=[6.896974416688375e-38]!\n"
     ]
    },
    {
     "data": {
      "application/vnd.jupyter.widget-view+json": {
       "model_id": "75ef7cf74ea444d18b009a687cc660da",
       "version_major": 2,
       "version_minor": 0
      },
      "text/plain": [
       "HBox(children=(FloatProgress(value=0.0, max=10.0), HTML(value='')))"
      ]
     },
     "metadata": {},
     "output_type": "display_data"
    },
    {
     "name": "stdout",
     "output_type": "stream",
     "text": [
      "\n",
      "[clf_engine]  training loop: started for [20] updates; BS=[2500] LR=[6.896974416688375e-38]!\n"
     ]
    },
    {
     "data": {
      "application/vnd.jupyter.widget-view+json": {
       "model_id": "2e157f0c2c694ba5aa0e934fdceb2b03",
       "version_major": 2,
       "version_minor": 0
      },
      "text/plain": [
       "HBox(children=(FloatProgress(value=0.0, max=10.0), HTML(value='')))"
      ]
     },
     "metadata": {},
     "output_type": "display_data"
    },
    {
     "name": "stdout",
     "output_type": "stream",
     "text": [
      "\n",
      "[clf_engine]  training loop: started for [10] updates; BS=[2500] LR=[6.896974416688375e-38]!\n"
     ]
    },
    {
     "data": {
      "application/vnd.jupyter.widget-view+json": {
       "model_id": "2b82b0790f234fe5a26edbe644516d0e",
       "version_major": 2,
       "version_minor": 0
      },
      "text/plain": [
       "HBox(children=(FloatProgress(value=0.0, max=10.0), HTML(value='')))"
      ]
     },
     "metadata": {},
     "output_type": "display_data"
    },
    {
     "name": "stdout",
     "output_type": "stream",
     "text": [
      "\n",
      "[clf_engine]  training loop: done!\n",
      "[ATE:207]  delta is: [-0.2859]; scaled delta is [-0.0286]\n",
      "[ATE:207]  [1.9076411724090576, 1.9153743982315063, 1.9170695543289185, 1.924816370010376, 1.907975435256958, 1.8953275680541992, 1.9103691577911377, 1.8974233865737915, 1.9170604944229126, 1.9106050729751587]\n",
      "[ATE:207]  [2.20816994 2.22708702 2.19351196 2.16897249 2.28577757 2.15703559\n",
      " 2.15520906 2.1660223  2.19372272 2.20765114]\n",
      "[ATE:207]  reward at the end of time step is [-0.028594971895217914]\n",
      "[ATA] optimization step performed\n",
      "[ATA episode 0]: took [11.7] seconds for one full step\n",
      "[ATE:207]  action [[1.71091154 0.38189234 0.24917009 0.29453999]] recieved\n",
      "[clf_engine]  scaled BS by [1.7109115354188011]; BS=[2500]\n",
      "[clf_engine]  scaled LR by [0.38189233848534226]; LR=[6.896974416688375e-38]\n",
      "[clf_engine]  training loop: started for [30] updates; BS=[2500] LR=[2.633901688462703e-38]!\n"
     ]
    },
    {
     "data": {
      "application/vnd.jupyter.widget-view+json": {
       "model_id": "2595288d3d5a468d80e7a161bb22ba11",
       "version_major": 2,
       "version_minor": 0
      },
      "text/plain": [
       "HBox(children=(FloatProgress(value=0.0, max=10.0), HTML(value='')))"
      ]
     },
     "metadata": {},
     "output_type": "display_data"
    },
    {
     "name": "stdout",
     "output_type": "stream",
     "text": [
      "\n",
      "[clf_engine]  training loop: started for [20] updates; BS=[2500] LR=[2.633901688462703e-38]!\n"
     ]
    },
    {
     "data": {
      "application/vnd.jupyter.widget-view+json": {
       "model_id": "7afaf9c2ebc547b88b45646b0ca487ef",
       "version_major": 2,
       "version_minor": 0
      },
      "text/plain": [
       "HBox(children=(FloatProgress(value=0.0, max=10.0), HTML(value='')))"
      ]
     },
     "metadata": {},
     "output_type": "display_data"
    },
    {
     "name": "stdout",
     "output_type": "stream",
     "text": [
      "\n",
      "[clf_engine]  training loop: started for [10] updates; BS=[2500] LR=[2.633901688462703e-38]!\n"
     ]
    },
    {
     "data": {
      "application/vnd.jupyter.widget-view+json": {
       "model_id": "80656dc9dbdd4275a94c71174fe87425",
       "version_major": 2,
       "version_minor": 0
      },
      "text/plain": [
       "HBox(children=(FloatProgress(value=0.0, max=10.0), HTML(value='')))"
      ]
     },
     "metadata": {},
     "output_type": "display_data"
    },
    {
     "name": "stdout",
     "output_type": "stream",
     "text": [
      "\n",
      "[clf_engine]  training loop: done!\n",
      "[ATE:208]  delta is: [-0.2889]; scaled delta is [-0.0289]\n",
      "[ATE:208]  [1.9267067909240723, 1.9024169445037842, 1.91475248336792, 1.9128974676132202, 1.9224590063095093, 1.9155535697937012, 1.9081045389175415, 1.9173516035079956, 1.8974945545196533, 1.927504301071167]\n",
      "[ATE:208]  [2.29729843 2.21494532 2.11389184 2.19685388 2.35925889 2.12072635\n",
      " 2.19039702 2.18947649 2.17160916 2.17960405]\n",
      "[ATE:208]  reward at the end of time step is [-0.02888820171356199]\n",
      "[ATA] optimization step performed\n",
      "[ATA episode 0]: took [10.5] seconds for one full step\n",
      "[ATE:208]  action [[1.73764382 0.41726903 0.36337236 0.25019151]] recieved\n",
      "[clf_engine]  scaled BS by [1.7376438176979194]; BS=[2500]\n",
      "[clf_engine]  scaled LR by [0.417269029960466]; LR=[2.633901688462703e-38]\n",
      "[clf_engine]  training loop: started for [30] updates; BS=[2500] LR=[1.0990456025560656e-38]!\n"
     ]
    },
    {
     "data": {
      "application/vnd.jupyter.widget-view+json": {
       "model_id": "e2533268ef474a679f3bf09e9cd1c962",
       "version_major": 2,
       "version_minor": 0
      },
      "text/plain": [
       "HBox(children=(FloatProgress(value=0.0, max=10.0), HTML(value='')))"
      ]
     },
     "metadata": {},
     "output_type": "display_data"
    },
    {
     "name": "stdout",
     "output_type": "stream",
     "text": [
      "\n",
      "[clf_engine]  training loop: started for [20] updates; BS=[2500] LR=[1.0990456025560656e-38]!\n"
     ]
    },
    {
     "data": {
      "application/vnd.jupyter.widget-view+json": {
       "model_id": "2e62f6fac009440e857346793990519c",
       "version_major": 2,
       "version_minor": 0
      },
      "text/plain": [
       "HBox(children=(FloatProgress(value=0.0, max=10.0), HTML(value='')))"
      ]
     },
     "metadata": {},
     "output_type": "display_data"
    },
    {
     "name": "stdout",
     "output_type": "stream",
     "text": [
      "\n",
      "[clf_engine]  training loop: started for [10] updates; BS=[2500] LR=[1.0990456025560656e-38]!\n"
     ]
    },
    {
     "data": {
      "application/vnd.jupyter.widget-view+json": {
       "model_id": "39d5e0ca8003470ca0be837179eb6404",
       "version_major": 2,
       "version_minor": 0
      },
      "text/plain": [
       "HBox(children=(FloatProgress(value=0.0, max=10.0), HTML(value='')))"
      ]
     },
     "metadata": {},
     "output_type": "display_data"
    },
    {
     "name": "stdout",
     "output_type": "stream",
     "text": [
      "\n",
      "[clf_engine]  training loop: done!\n",
      "[ATE:209]  delta is: [-0.2721]; scaled delta is [-0.0272]\n",
      "[ATE:209]  [1.9061325788497925, 1.9237332344055176, 1.918260097503662, 1.8988924026489258, 1.9062827825546265, 1.9606471061706543, 1.9051566123962402, 1.9284974336624146, 1.90812087059021, 1.8901137113571167]\n",
      "[ATE:209]  [2.23434496 2.09920382 2.04893136 2.11018395 2.23381495 2.27820945\n",
      " 2.18748045 2.32665277 2.1614697  2.18621731]\n",
      "[ATE:209]  reward at the end of time step is [-0.027206718921661377]\n",
      "[ATA] optimization step performed\n",
      "[ATA episode 0]: took [10.7] seconds for one full step\n",
      "[ATE:209]  action [[1.75167198 0.38916325 0.32101593 0.27573907]] recieved\n",
      "[clf_engine]  scaled BS by [1.751671978872657]; BS=[2500]\n",
      "[clf_engine]  scaled LR by [0.38916325393735907]; LR=[1.0990456025560656e-38]\n",
      "[clf_engine]  training loop: started for [30] updates; BS=[2500] LR=[4.277081629162639e-39]!\n"
     ]
    },
    {
     "data": {
      "application/vnd.jupyter.widget-view+json": {
       "model_id": "502a669429754420bbbfee8f24c5d0e1",
       "version_major": 2,
       "version_minor": 0
      },
      "text/plain": [
       "HBox(children=(FloatProgress(value=0.0, max=10.0), HTML(value='')))"
      ]
     },
     "metadata": {},
     "output_type": "display_data"
    },
    {
     "name": "stdout",
     "output_type": "stream",
     "text": [
      "\n",
      "[clf_engine]  training loop: started for [20] updates; BS=[2500] LR=[4.277081629162639e-39]!\n"
     ]
    },
    {
     "data": {
      "application/vnd.jupyter.widget-view+json": {
       "model_id": "8459e219b8904c4f85f42a80006676ca",
       "version_major": 2,
       "version_minor": 0
      },
      "text/plain": [
       "HBox(children=(FloatProgress(value=0.0, max=10.0), HTML(value='')))"
      ]
     },
     "metadata": {},
     "output_type": "display_data"
    },
    {
     "name": "stdout",
     "output_type": "stream",
     "text": [
      "\n",
      "[clf_engine]  training loop: started for [10] updates; BS=[2500] LR=[4.277081629162639e-39]!\n"
     ]
    },
    {
     "data": {
      "application/vnd.jupyter.widget-view+json": {
       "model_id": "29f8ac87fd8044c199d7cd39939440ed",
       "version_major": 2,
       "version_minor": 0
      },
      "text/plain": [
       "HBox(children=(FloatProgress(value=0.0, max=10.0), HTML(value='')))"
      ]
     },
     "metadata": {},
     "output_type": "display_data"
    },
    {
     "name": "stdout",
     "output_type": "stream",
     "text": [
      "\n",
      "[clf_engine]  training loop: done!\n"
     ]
    },
    {
     "data": {
      "application/vnd.jupyter.widget-view+json": {
       "model_id": "929061d4e01c447daeb3da6a3cc3d6d3",
       "version_major": 2,
       "version_minor": 0
      },
      "text/plain": [
       "HBox(children=(FloatProgress(value=0.0, max=1563.0), HTML(value='')))"
      ]
     },
     "metadata": {},
     "output_type": "display_data"
    },
    {
     "name": "stdout",
     "output_type": "stream",
     "text": [
      "\n"
     ]
    },
    {
     "data": {
      "application/vnd.jupyter.widget-view+json": {
       "model_id": "1587878df9de4fc492059b88eb6360e6",
       "version_major": 2,
       "version_minor": 0
      },
      "text/plain": [
       "HBox(children=(FloatProgress(value=0.0, max=625.0), HTML(value='')))"
      ]
     },
     "metadata": {},
     "output_type": "display_data"
    },
    {
     "name": "stdout",
     "output_type": "stream",
     "text": [
      "\n",
      "[ATE:210]  delta is: [-0.2479]; scaled delta is [-0.0248]\n",
      "[ATE:210]  [1.9039236307144165, 1.9124908447265625, 1.9053722620010376, 1.9115632772445679, 1.9183505773544312, 1.886018991470337, 1.8974529504776, 1.9442291259765625, 1.8958905935287476, 1.940898060798645]\n",
      "[ATE:210]  [2.10636616 2.1835649  2.19885898 2.19076324 2.15554595 2.12348461\n",
      " 2.11141443 2.05034709 2.13034225 2.34499168]\n",
      "[ATE:210]  reward at the end of time step is [-0.02479488968849184]\n",
      "[ATA] optimization step performed\n",
      "[ATA episode 0]: took [16.5] seconds for one full step\n",
      "[ATE:210]  action [[1.6860062  0.40655915 0.28124235 0.34541747]] recieved\n",
      "[clf_engine]  scaled BS by [1.6860062001379634]; BS=[2500]\n",
      "[clf_engine]  scaled LR by [0.40655915194474096]; LR=[4.277081629162639e-39]\n",
      "[clf_engine]  training loop: started for [30] updates; BS=[2500] LR=[1.7388866799507938e-39]!\n"
     ]
    },
    {
     "data": {
      "application/vnd.jupyter.widget-view+json": {
       "model_id": "7d683ef7781640a0b9935b7227b59e33",
       "version_major": 2,
       "version_minor": 0
      },
      "text/plain": [
       "HBox(children=(FloatProgress(value=0.0, max=10.0), HTML(value='')))"
      ]
     },
     "metadata": {},
     "output_type": "display_data"
    },
    {
     "name": "stdout",
     "output_type": "stream",
     "text": [
      "\n",
      "[clf_engine]  training loop: started for [20] updates; BS=[2500] LR=[1.7388866799507938e-39]!\n"
     ]
    },
    {
     "data": {
      "application/vnd.jupyter.widget-view+json": {
       "model_id": "9fce4c3a83f54d20a755919453a5d14b",
       "version_major": 2,
       "version_minor": 0
      },
      "text/plain": [
       "HBox(children=(FloatProgress(value=0.0, max=10.0), HTML(value='')))"
      ]
     },
     "metadata": {},
     "output_type": "display_data"
    },
    {
     "name": "stdout",
     "output_type": "stream",
     "text": [
      "\n",
      "[clf_engine]  training loop: started for [10] updates; BS=[2500] LR=[1.7388866799507938e-39]!\n"
     ]
    },
    {
     "data": {
      "application/vnd.jupyter.widget-view+json": {
       "model_id": "596ac7479c8f416384b7d910bf7ba3a3",
       "version_major": 2,
       "version_minor": 0
      },
      "text/plain": [
       "HBox(children=(FloatProgress(value=0.0, max=10.0), HTML(value='')))"
      ]
     },
     "metadata": {},
     "output_type": "display_data"
    },
    {
     "name": "stdout",
     "output_type": "stream",
     "text": [
      "\n",
      "[clf_engine]  training loop: done!\n",
      "[ATE:211]  delta is: [-0.2824]; scaled delta is [-0.0282]\n",
      "[ATE:211]  [1.920028567314148, 1.9080201387405396, 1.901391625404358, 1.896430253982544, 1.8955895900726318, 1.9249393939971924, 1.9224516153335571, 1.9351788759231567, 1.9192445278167725, 1.9256221055984497]\n",
      "[ATE:211]  [2.23353386 2.09658337 2.3418324  2.21467876 2.17271495 2.21598339\n",
      " 2.18345857 2.16298389 2.14232206 2.20919967]\n",
      "[ATE:211]  reward at the end of time step is [-0.02824394226074216]\n",
      "[ATA] optimization step performed\n",
      "[ATA episode 0]: took [11.0] seconds for one full step\n",
      "[ATE:211]  action [[1.58015233 0.43944317 0.33525396 0.31187277]] recieved\n",
      "[clf_engine]  scaled BS by [1.5801523338949957]; BS=[2500]\n",
      "[clf_engine]  scaled LR by [0.43944317162211816]; LR=[1.7388866799507938e-39]\n",
      "[clf_engine]  training loop: started for [30] updates; BS=[2500] LR=[7.64141877729032e-40]!\n"
     ]
    },
    {
     "data": {
      "application/vnd.jupyter.widget-view+json": {
       "model_id": "733e03bcb4e64c3ebc84bf91da789492",
       "version_major": 2,
       "version_minor": 0
      },
      "text/plain": [
       "HBox(children=(FloatProgress(value=0.0, max=10.0), HTML(value='')))"
      ]
     },
     "metadata": {},
     "output_type": "display_data"
    },
    {
     "name": "stdout",
     "output_type": "stream",
     "text": [
      "\n",
      "[clf_engine]  training loop: started for [20] updates; BS=[2500] LR=[7.64141877729032e-40]!\n"
     ]
    },
    {
     "data": {
      "application/vnd.jupyter.widget-view+json": {
       "model_id": "a8e8f8a713f3469091a8a3035a0ea12f",
       "version_major": 2,
       "version_minor": 0
      },
      "text/plain": [
       "HBox(children=(FloatProgress(value=0.0, max=10.0), HTML(value='')))"
      ]
     },
     "metadata": {},
     "output_type": "display_data"
    },
    {
     "name": "stdout",
     "output_type": "stream",
     "text": [
      "\n",
      "[clf_engine]  training loop: started for [10] updates; BS=[2500] LR=[7.64141877729032e-40]!\n"
     ]
    },
    {
     "data": {
      "application/vnd.jupyter.widget-view+json": {
       "model_id": "ea50f49af559497590acf16e40c8561e",
       "version_major": 2,
       "version_minor": 0
      },
      "text/plain": [
       "HBox(children=(FloatProgress(value=0.0, max=10.0), HTML(value='')))"
      ]
     },
     "metadata": {},
     "output_type": "display_data"
    },
    {
     "name": "stdout",
     "output_type": "stream",
     "text": [
      "\n",
      "[clf_engine]  training loop: done!\n",
      "[ATE:212]  delta is: [-0.2630]; scaled delta is [-0.0263]\n",
      "[ATE:212]  [1.9245402812957764, 1.9297536611557007, 1.9165323972702026, 1.9273408651351929, 1.9163808822631836, 1.9007363319396973, 1.928725004196167, 1.8939101696014404, 1.9174073934555054, 1.9193443059921265]\n",
      "[ATE:212]  [2.19986391 2.15873861 2.22031069 2.0800817  2.21452165 2.21661425\n",
      " 2.23981762 2.18652344 2.09820175 2.19000912]\n",
      "[ATE:212]  reward at the end of time step is [-0.026300114393234278]\n",
      "[ATA] optimization step performed\n",
      "[ATA episode 0]: took [10.7] seconds for one full step\n",
      "[ATE:212]  action [[1.57974182 0.4312426  0.30663365 0.36476426]] recieved\n",
      "[clf_engine]  scaled BS by [1.5797418244920987]; BS=[2500]\n",
      "[clf_engine]  scaled LR by [0.4312425968855254]; LR=[7.64141877729032e-40]\n",
      "[clf_engine]  training loop: started for [30] updates; BS=[2500] LR=[3.2953052774084937e-40]!\n"
     ]
    },
    {
     "data": {
      "application/vnd.jupyter.widget-view+json": {
       "model_id": "a00ff7ddeb8e4fcf8ba45121f2f019b2",
       "version_major": 2,
       "version_minor": 0
      },
      "text/plain": [
       "HBox(children=(FloatProgress(value=0.0, max=10.0), HTML(value='')))"
      ]
     },
     "metadata": {},
     "output_type": "display_data"
    },
    {
     "name": "stdout",
     "output_type": "stream",
     "text": [
      "\n",
      "[clf_engine]  training loop: started for [20] updates; BS=[2500] LR=[3.2953052774084937e-40]!\n"
     ]
    },
    {
     "data": {
      "application/vnd.jupyter.widget-view+json": {
       "model_id": "9a9fd63b41bb4e3d965ed11f735d11f6",
       "version_major": 2,
       "version_minor": 0
      },
      "text/plain": [
       "HBox(children=(FloatProgress(value=0.0, max=10.0), HTML(value='')))"
      ]
     },
     "metadata": {},
     "output_type": "display_data"
    },
    {
     "name": "stdout",
     "output_type": "stream",
     "text": [
      "\n",
      "[clf_engine]  training loop: started for [10] updates; BS=[2500] LR=[3.2953052774084937e-40]!\n"
     ]
    },
    {
     "data": {
      "application/vnd.jupyter.widget-view+json": {
       "model_id": "44143f05841749b5b3208d4db4ab4a69",
       "version_major": 2,
       "version_minor": 0
      },
      "text/plain": [
       "HBox(children=(FloatProgress(value=0.0, max=10.0), HTML(value='')))"
      ]
     },
     "metadata": {},
     "output_type": "display_data"
    },
    {
     "name": "stdout",
     "output_type": "stream",
     "text": [
      "\n",
      "[clf_engine]  training loop: done!\n",
      "[ATE:213]  delta is: [-0.3053]; scaled delta is [-0.0305]\n",
      "[ATE:213]  [1.920054316520691, 1.911165475845337, 1.9098527431488037, 1.9000824689865112, 1.9182113409042358, 1.8939505815505981, 1.8942574262619019, 1.9376529455184937, 1.9178225994110107, 1.939018964767456]\n",
      "[ATE:213]  [2.20729041 2.21434927 2.13797879 2.26924133 2.16315174 2.24841166\n",
      " 2.25026774 2.11926937 2.26686692 2.31829977]\n",
      "[ATE:213]  reward at the end of time step is [-0.030530581474304208]\n",
      "[ATA] optimization step performed\n",
      "[ATA episode 0]: took [10.9] seconds for one full step\n",
      "[ATE:213]  action [[1.69236113 0.43835152 0.29591089 0.38076611]] recieved\n",
      "[clf_engine]  scaled BS by [1.6923611333405215]; BS=[2500]\n",
      "[clf_engine]  scaled LR by [0.4383515192769886]; LR=[3.2953052774084937e-40]\n",
      "[clf_engine]  training loop: started for [30] updates; BS=[2500] LR=[1.4445020748334918e-40]!\n"
     ]
    },
    {
     "data": {
      "application/vnd.jupyter.widget-view+json": {
       "model_id": "232cfd2e34d54718844c197b2298ed56",
       "version_major": 2,
       "version_minor": 0
      },
      "text/plain": [
       "HBox(children=(FloatProgress(value=0.0, max=10.0), HTML(value='')))"
      ]
     },
     "metadata": {},
     "output_type": "display_data"
    },
    {
     "name": "stdout",
     "output_type": "stream",
     "text": [
      "\n",
      "[clf_engine]  training loop: started for [20] updates; BS=[2500] LR=[1.4445020748334918e-40]!\n"
     ]
    },
    {
     "data": {
      "application/vnd.jupyter.widget-view+json": {
       "model_id": "c73fdacbef7a4cf19894f3e03bd3c44c",
       "version_major": 2,
       "version_minor": 0
      },
      "text/plain": [
       "HBox(children=(FloatProgress(value=0.0, max=10.0), HTML(value='')))"
      ]
     },
     "metadata": {},
     "output_type": "display_data"
    },
    {
     "name": "stdout",
     "output_type": "stream",
     "text": [
      "\n",
      "[clf_engine]  training loop: started for [10] updates; BS=[2500] LR=[1.4445020748334918e-40]!\n"
     ]
    },
    {
     "data": {
      "application/vnd.jupyter.widget-view+json": {
       "model_id": "dfcd75c0864a45c893ff83997b755961",
       "version_major": 2,
       "version_minor": 0
      },
      "text/plain": [
       "HBox(children=(FloatProgress(value=0.0, max=10.0), HTML(value='')))"
      ]
     },
     "metadata": {},
     "output_type": "display_data"
    },
    {
     "name": "stdout",
     "output_type": "stream",
     "text": [
      "\n",
      "[clf_engine]  training loop: done!\n",
      "[ATE:214]  delta is: [-0.3231]; scaled delta is [-0.0323]\n",
      "[ATE:214]  [1.9067251682281494, 1.9026732444763184, 1.9296982288360596, 1.8959752321243286, 1.9167208671569824, 1.9247339963912964, 1.9096553325653076, 1.9249848127365112, 1.921062707901001, 1.9079896211624146]\n",
      "[ATE:214]  [2.26917124 2.27799273 2.19858503 2.27595711 2.24024367 2.22683144\n",
      " 2.18202639 2.33868384 2.19770145 2.16406918]\n",
      "[ATE:214]  reward at the end of time step is [-0.03231042861938478]\n",
      "[ATA] optimization step performed\n",
      "[ATA episode 0]: took [11.5] seconds for one full step\n",
      "[ATE:214]  action [[1.58882441 0.34636969 0.34205502 0.45143648]] recieved\n",
      "[clf_engine]  scaled BS by [1.5888244110394292]; BS=[2500]\n",
      "[clf_engine]  scaled LR by [0.3463696877802566]; LR=[1.4445020748334918e-40]\n",
      "[clf_engine]  training loop: started for [30] updates; BS=[2500] LR=[5.003317326580094e-41]!\n"
     ]
    },
    {
     "data": {
      "application/vnd.jupyter.widget-view+json": {
       "model_id": "fc1daef7372d4f08b0519724d1c5bf78",
       "version_major": 2,
       "version_minor": 0
      },
      "text/plain": [
       "HBox(children=(FloatProgress(value=0.0, max=10.0), HTML(value='')))"
      ]
     },
     "metadata": {},
     "output_type": "display_data"
    },
    {
     "name": "stdout",
     "output_type": "stream",
     "text": [
      "\n",
      "[clf_engine]  training loop: started for [20] updates; BS=[2500] LR=[5.003317326580094e-41]!\n"
     ]
    },
    {
     "data": {
      "application/vnd.jupyter.widget-view+json": {
       "model_id": "d71a4ddbbd114210a17877dda5200a6a",
       "version_major": 2,
       "version_minor": 0
      },
      "text/plain": [
       "HBox(children=(FloatProgress(value=0.0, max=10.0), HTML(value='')))"
      ]
     },
     "metadata": {},
     "output_type": "display_data"
    },
    {
     "name": "stdout",
     "output_type": "stream",
     "text": [
      "\n",
      "[clf_engine]  training loop: started for [10] updates; BS=[2500] LR=[5.003317326580094e-41]!\n"
     ]
    },
    {
     "data": {
      "application/vnd.jupyter.widget-view+json": {
       "model_id": "b93c1ed7c53c42f69a2f8e74432f0334",
       "version_major": 2,
       "version_minor": 0
      },
      "text/plain": [
       "HBox(children=(FloatProgress(value=0.0, max=10.0), HTML(value='')))"
      ]
     },
     "metadata": {},
     "output_type": "display_data"
    },
    {
     "name": "stdout",
     "output_type": "stream",
     "text": [
      "\n",
      "[clf_engine]  training loop: done!\n",
      "[ATE:215]  delta is: [-0.3109]; scaled delta is [-0.0311]\n",
      "[ATE:215]  [1.9150458574295044, 1.9249320030212402, 1.9223133325576782, 1.9161759614944458, 1.9237788915634155, 1.882443904876709, 1.9262487888336182, 1.9158238172531128, 1.9062964916229248, 1.9048404693603516]\n",
      "[ATE:215]  [2.3357513  2.15841985 2.24526143 2.27135801 2.27112246 2.25021958\n",
      " 2.27453613 2.12807536 2.23462439 2.07744408]\n",
      "[ATE:215]  reward at the end of time step is [-0.031089130640029917]\n",
      "[ATA] optimization step performed\n",
      "[ATA episode 0]: took [11.4] seconds for one full step\n",
      "[ATE:215]  action [[1.59873653 0.38195959 0.38066366 0.49932547]] recieved\n",
      "[clf_engine]  scaled BS by [1.5987365255571728]; BS=[2500]\n",
      "[clf_engine]  scaled LR by [0.38195959405198093]; LR=[5.003317326580094e-41]\n",
      "[clf_engine]  training loop: started for [30] updates; BS=[2500] LR=[1.9110650549737751e-41]!\n"
     ]
    },
    {
     "data": {
      "application/vnd.jupyter.widget-view+json": {
       "model_id": "2dd9a71805134614b9f2eb56c534af05",
       "version_major": 2,
       "version_minor": 0
      },
      "text/plain": [
       "HBox(children=(FloatProgress(value=0.0, max=10.0), HTML(value='')))"
      ]
     },
     "metadata": {},
     "output_type": "display_data"
    },
    {
     "name": "stdout",
     "output_type": "stream",
     "text": [
      "\n",
      "[clf_engine]  training loop: started for [20] updates; BS=[2500] LR=[1.9110650549737751e-41]!\n"
     ]
    },
    {
     "data": {
      "application/vnd.jupyter.widget-view+json": {
       "model_id": "f94e44f23f7d4f688816699c0b344d2c",
       "version_major": 2,
       "version_minor": 0
      },
      "text/plain": [
       "HBox(children=(FloatProgress(value=0.0, max=10.0), HTML(value='')))"
      ]
     },
     "metadata": {},
     "output_type": "display_data"
    },
    {
     "name": "stdout",
     "output_type": "stream",
     "text": [
      "\n",
      "[clf_engine]  training loop: started for [10] updates; BS=[2500] LR=[1.9110650549737751e-41]!\n"
     ]
    },
    {
     "data": {
      "application/vnd.jupyter.widget-view+json": {
       "model_id": "27d583bff22448cb8d240c3ec411487f",
       "version_major": 2,
       "version_minor": 0
      },
      "text/plain": [
       "HBox(children=(FloatProgress(value=0.0, max=10.0), HTML(value='')))"
      ]
     },
     "metadata": {},
     "output_type": "display_data"
    },
    {
     "name": "stdout",
     "output_type": "stream",
     "text": [
      "\n",
      "[clf_engine]  training loop: done!\n",
      "[ATE:216]  delta is: [-0.2702]; scaled delta is [-0.0270]\n",
      "[ATE:216]  [1.9037213325500488, 1.9197050333023071, 1.927720546722412, 1.9082906246185303, 1.9253920316696167, 1.9244078397750854, 1.8749507665634155, 1.9205279350280762, 1.8968236446380615, 1.9325661659240723]\n",
      "[ATE:216]  [2.2540679  2.18898273 2.19964266 2.09285259 2.23907423 2.1335597\n",
      " 2.21219611 2.0739193  2.27400899 2.16747284]\n",
      "[ATE:216]  reward at the end of time step is [-0.027016711235046367]\n",
      "[ATA] optimization step performed\n",
      "[ATA episode 0]: took [15.7] seconds for one full step\n",
      "[ATE:216]  action [[1.61748402 0.43347004 0.35179153 0.38260757]] recieved\n",
      "[clf_engine]  scaled BS by [1.617484021773301]; BS=[2500]\n",
      "[clf_engine]  scaled LR by [0.43347003532397477]; LR=[1.9110650549737751e-41]\n",
      "[clf_engine]  training loop: started for [30] updates; BS=[2500] LR=[8.283894368858961e-42]!\n"
     ]
    },
    {
     "data": {
      "application/vnd.jupyter.widget-view+json": {
       "model_id": "99d5397a88164ce9a5aa828b05bf0188",
       "version_major": 2,
       "version_minor": 0
      },
      "text/plain": [
       "HBox(children=(FloatProgress(value=0.0, max=10.0), HTML(value='')))"
      ]
     },
     "metadata": {},
     "output_type": "display_data"
    },
    {
     "name": "stdout",
     "output_type": "stream",
     "text": [
      "\n",
      "[clf_engine]  training loop: started for [20] updates; BS=[2500] LR=[8.283894368858961e-42]!\n"
     ]
    },
    {
     "data": {
      "application/vnd.jupyter.widget-view+json": {
       "model_id": "42a6ff812d3048b5b86f4cd55d11496f",
       "version_major": 2,
       "version_minor": 0
      },
      "text/plain": [
       "HBox(children=(FloatProgress(value=0.0, max=10.0), HTML(value='')))"
      ]
     },
     "metadata": {},
     "output_type": "display_data"
    },
    {
     "name": "stdout",
     "output_type": "stream",
     "text": [
      "\n",
      "[clf_engine]  training loop: started for [10] updates; BS=[2500] LR=[8.283894368858961e-42]!\n"
     ]
    },
    {
     "data": {
      "application/vnd.jupyter.widget-view+json": {
       "model_id": "941319519d36441b980d1c3dd47a37a4",
       "version_major": 2,
       "version_minor": 0
      },
      "text/plain": [
       "HBox(children=(FloatProgress(value=0.0, max=10.0), HTML(value='')))"
      ]
     },
     "metadata": {},
     "output_type": "display_data"
    },
    {
     "name": "stdout",
     "output_type": "stream",
     "text": [
      "\n",
      "[clf_engine]  training loop: done!\n",
      "[ATE:217]  delta is: [-0.2878]; scaled delta is [-0.0288]\n",
      "[ATE:217]  [1.8954399824142456, 1.9175670146942139, 1.9005540609359741, 1.910740852355957, 1.9277150630950928, 1.923305869102478, 1.910409927368164, 1.9112437963485718, 1.9012784957885742, 1.9200365543365479]\n",
      "[ATE:217]  [2.28317952 2.14711928 2.19854593 2.20262909 2.29427528 2.03729844\n",
      " 2.2136364  2.18344927 2.2521143  2.18449187]\n",
      "[ATE:217]  reward at the end of time step is [-0.028784477710723858]\n",
      "[ATA] optimization step performed\n",
      "[ATA episode 0]: took [11.0] seconds for one full step\n",
      "[ATE:217]  action [[1.56370426 0.42622369 0.37179542 0.36224206]] recieved\n",
      "[clf_engine]  scaled BS by [1.5637042569773199]; BS=[2500]\n",
      "[clf_engine]  scaled LR by [0.426223686383424]; LR=[8.283894368858961e-42]\n",
      "[clf_engine]  training loop: started for [30] updates; BS=[2500] LR=[3.530791995505954e-42]!\n"
     ]
    },
    {
     "data": {
      "application/vnd.jupyter.widget-view+json": {
       "model_id": "5298d92177814005a39dd467fbc630a6",
       "version_major": 2,
       "version_minor": 0
      },
      "text/plain": [
       "HBox(children=(FloatProgress(value=0.0, max=10.0), HTML(value='')))"
      ]
     },
     "metadata": {},
     "output_type": "display_data"
    },
    {
     "name": "stdout",
     "output_type": "stream",
     "text": [
      "\n",
      "[clf_engine]  training loop: started for [20] updates; BS=[2500] LR=[3.530791995505954e-42]!\n"
     ]
    },
    {
     "data": {
      "application/vnd.jupyter.widget-view+json": {
       "model_id": "1a48e16e689f40168ccc5f65f1c94a06",
       "version_major": 2,
       "version_minor": 0
      },
      "text/plain": [
       "HBox(children=(FloatProgress(value=0.0, max=10.0), HTML(value='')))"
      ]
     },
     "metadata": {},
     "output_type": "display_data"
    },
    {
     "name": "stdout",
     "output_type": "stream",
     "text": [
      "\n",
      "[clf_engine]  training loop: started for [10] updates; BS=[2500] LR=[3.530791995505954e-42]!\n"
     ]
    },
    {
     "data": {
      "application/vnd.jupyter.widget-view+json": {
       "model_id": "c5e1b4a900d748b195b92f548fbcafe4",
       "version_major": 2,
       "version_minor": 0
      },
      "text/plain": [
       "HBox(children=(FloatProgress(value=0.0, max=10.0), HTML(value='')))"
      ]
     },
     "metadata": {},
     "output_type": "display_data"
    },
    {
     "name": "stdout",
     "output_type": "stream",
     "text": [
      "\n",
      "[clf_engine]  training loop: done!\n",
      "[ATE:218]  delta is: [-0.2645]; scaled delta is [-0.0264]\n",
      "[ATE:218]  [1.8988314867019653, 1.917523980140686, 1.9346843957901, 1.904999852180481, 1.9031941890716553, 1.8970675468444824, 1.9169634580612183, 1.9256359338760376, 1.9135500192642212, 1.9071745872497559]\n",
      "[ATE:218]  [2.10760117 2.12736654 2.20917439 2.14502621 2.20022178 2.19770956\n",
      " 2.16456652 2.21701002 2.24842072 2.14744473]\n",
      "[ATE:218]  reward at the end of time step is [-0.026449161767959598]\n",
      "[ATA] optimization step performed\n",
      "[ATA episode 0]: took [10.8] seconds for one full step\n",
      "[ATE:218]  action [[1.60433212 0.34142717 0.36472365 0.37916336]] recieved\n",
      "[clf_engine]  scaled BS by [1.6043321166878515]; BS=[2500]\n",
      "[clf_engine]  scaled LR by [0.34142717382152044]; LR=[3.530791995505954e-42]\n",
      "[clf_engine]  training loop: started for [30] updates; BS=[2500] LR=[1.2055083323772443e-42]!\n"
     ]
    },
    {
     "data": {
      "application/vnd.jupyter.widget-view+json": {
       "model_id": "e8da9428492242ea882b8cce157c0ac4",
       "version_major": 2,
       "version_minor": 0
      },
      "text/plain": [
       "HBox(children=(FloatProgress(value=0.0, max=10.0), HTML(value='')))"
      ]
     },
     "metadata": {},
     "output_type": "display_data"
    },
    {
     "name": "stdout",
     "output_type": "stream",
     "text": [
      "\n",
      "[clf_engine]  training loop: started for [20] updates; BS=[2500] LR=[1.2055083323772443e-42]!\n"
     ]
    },
    {
     "data": {
      "application/vnd.jupyter.widget-view+json": {
       "model_id": "6adfccb880454d3fbc7f3027ded3749a",
       "version_major": 2,
       "version_minor": 0
      },
      "text/plain": [
       "HBox(children=(FloatProgress(value=0.0, max=10.0), HTML(value='')))"
      ]
     },
     "metadata": {},
     "output_type": "display_data"
    },
    {
     "name": "stdout",
     "output_type": "stream",
     "text": [
      "\n",
      "[clf_engine]  training loop: started for [10] updates; BS=[2500] LR=[1.2055083323772443e-42]!\n"
     ]
    },
    {
     "data": {
      "application/vnd.jupyter.widget-view+json": {
       "model_id": "f28482115e2e44e69fe2670a8267ab42",
       "version_major": 2,
       "version_minor": 0
      },
      "text/plain": [
       "HBox(children=(FloatProgress(value=0.0, max=10.0), HTML(value='')))"
      ]
     },
     "metadata": {},
     "output_type": "display_data"
    },
    {
     "name": "stdout",
     "output_type": "stream",
     "text": [
      "\n",
      "[clf_engine]  training loop: done!\n",
      "[ATE:219]  delta is: [-0.2391]; scaled delta is [-0.0239]\n",
      "[ATE:219]  [1.9248988628387451, 1.8912944793701172, 1.9014222621917725, 1.8793439865112305, 1.921653151512146, 1.9481160640716553, 1.9128919839859009, 1.9375089406967163, 1.9061193466186523, 1.9090064764022827]\n",
      "[ATE:219]  [2.28524208 2.1406486  2.18326354 2.21103621 2.12962198 2.05353832\n",
      " 2.08369613 2.0699203  2.18816829 2.17787576]\n",
      "[ATE:219]  reward at the end of time step is [-0.02390755653381347]\n",
      "[ATA] optimization step performed\n",
      "[ATA episode 0]: took [11.3] seconds for one full step\n",
      "[ATE:219]  action [[1.53188261 0.43035681 0.34048513 0.39383455]] recieved\n",
      "[clf_engine]  scaled BS by [1.5318826087970967]; BS=[2500]\n",
      "[clf_engine]  scaled LR by [0.43035681068267284]; LR=[1.2055083323772443e-42]\n",
      "[clf_engine]  training loop: started for [30] updates; BS=[2500] LR=[5.187987211732584e-43]!\n"
     ]
    },
    {
     "data": {
      "application/vnd.jupyter.widget-view+json": {
       "model_id": "9d8e0d1205f841f38e8b4222330bcea1",
       "version_major": 2,
       "version_minor": 0
      },
      "text/plain": [
       "HBox(children=(FloatProgress(value=0.0, max=10.0), HTML(value='')))"
      ]
     },
     "metadata": {},
     "output_type": "display_data"
    },
    {
     "name": "stdout",
     "output_type": "stream",
     "text": [
      "\n",
      "[clf_engine]  training loop: started for [20] updates; BS=[2500] LR=[5.187987211732584e-43]!\n"
     ]
    },
    {
     "data": {
      "application/vnd.jupyter.widget-view+json": {
       "model_id": "b51e60dc60154343920d6e21bb982064",
       "version_major": 2,
       "version_minor": 0
      },
      "text/plain": [
       "HBox(children=(FloatProgress(value=0.0, max=10.0), HTML(value='')))"
      ]
     },
     "metadata": {},
     "output_type": "display_data"
    },
    {
     "name": "stdout",
     "output_type": "stream",
     "text": [
      "\n",
      "[clf_engine]  training loop: started for [10] updates; BS=[2500] LR=[5.187987211732584e-43]!\n"
     ]
    },
    {
     "data": {
      "application/vnd.jupyter.widget-view+json": {
       "model_id": "c753476f58d34efb9715f3f437f00955",
       "version_major": 2,
       "version_minor": 0
      },
      "text/plain": [
       "HBox(children=(FloatProgress(value=0.0, max=10.0), HTML(value='')))"
      ]
     },
     "metadata": {},
     "output_type": "display_data"
    },
    {
     "name": "stdout",
     "output_type": "stream",
     "text": [
      "\n",
      "[clf_engine]  training loop: done!\n"
     ]
    },
    {
     "data": {
      "application/vnd.jupyter.widget-view+json": {
       "model_id": "3583fc119c8f4d799ade1d9542b2b351",
       "version_major": 2,
       "version_minor": 0
      },
      "text/plain": [
       "HBox(children=(FloatProgress(value=0.0, max=1563.0), HTML(value='')))"
      ]
     },
     "metadata": {},
     "output_type": "display_data"
    },
    {
     "name": "stdout",
     "output_type": "stream",
     "text": [
      "\n"
     ]
    },
    {
     "data": {
      "application/vnd.jupyter.widget-view+json": {
       "model_id": "46354a99370045f7a853fb510c806f0c",
       "version_major": 2,
       "version_minor": 0
      },
      "text/plain": [
       "HBox(children=(FloatProgress(value=0.0, max=625.0), HTML(value='')))"
      ]
     },
     "metadata": {},
     "output_type": "display_data"
    },
    {
     "name": "stdout",
     "output_type": "stream",
     "text": [
      "\n",
      "[ATE:220]  delta is: [-0.2601]; scaled delta is [-0.0260]\n",
      "[ATE:220]  [1.9267597198486328, 1.8839390277862549, 1.9334982633590698, 1.8989588022232056, 1.9033300876617432, 1.9259679317474365, 1.9144021272659302, 1.9041616916656494, 1.8984240293502808, 1.9273996353149414]\n",
      "[ATE:220]  [2.11329436 2.16599107 2.22573924 2.17393017 2.21059918 2.12966299\n",
      " 2.24154282 1.95253134 2.22358656 2.2808845 ]\n",
      "[ATE:220]  reward at the end of time step is [-0.026009209156036352]\n",
      "[ATA] optimization step performed\n",
      "[ATA episode 0]: took [16.6] seconds for one full step\n",
      "[ATE:220]  action [[1.6168374  0.49075203 0.2786712  0.38747529]] recieved\n",
      "[clf_engine]  scaled BS by [1.6168373959540343]; BS=[2500]\n",
      "[clf_engine]  scaled LR by [0.49075203036228077]; LR=[5.187987211732584e-43]\n",
      "[clf_engine]  training loop: started for [30] updates; BS=[2500] LR=[2.5460152576513136e-43]!\n"
     ]
    },
    {
     "data": {
      "application/vnd.jupyter.widget-view+json": {
       "model_id": "2898eed7bff84fbeb8ff2aba4ed5c73a",
       "version_major": 2,
       "version_minor": 0
      },
      "text/plain": [
       "HBox(children=(FloatProgress(value=0.0, max=10.0), HTML(value='')))"
      ]
     },
     "metadata": {},
     "output_type": "display_data"
    },
    {
     "name": "stdout",
     "output_type": "stream",
     "text": [
      "\n",
      "[clf_engine]  training loop: started for [20] updates; BS=[2500] LR=[2.5460152576513136e-43]!\n"
     ]
    },
    {
     "data": {
      "application/vnd.jupyter.widget-view+json": {
       "model_id": "bc8fed057b144a4bb4be099ae064fc85",
       "version_major": 2,
       "version_minor": 0
      },
      "text/plain": [
       "HBox(children=(FloatProgress(value=0.0, max=10.0), HTML(value='')))"
      ]
     },
     "metadata": {},
     "output_type": "display_data"
    },
    {
     "name": "stdout",
     "output_type": "stream",
     "text": [
      "\n",
      "[clf_engine]  training loop: started for [10] updates; BS=[2500] LR=[2.5460152576513136e-43]!\n"
     ]
    },
    {
     "data": {
      "application/vnd.jupyter.widget-view+json": {
       "model_id": "b2b0036a970c4a4c809cd0a1930e76be",
       "version_major": 2,
       "version_minor": 0
      },
      "text/plain": [
       "HBox(children=(FloatProgress(value=0.0, max=10.0), HTML(value='')))"
      ]
     },
     "metadata": {},
     "output_type": "display_data"
    },
    {
     "name": "stdout",
     "output_type": "stream",
     "text": [
      "\n",
      "[clf_engine]  training loop: done!\n",
      "[ATE:221]  delta is: [-0.2944]; scaled delta is [-0.0294]\n",
      "[ATE:221]  [1.9351552724838257, 1.9263904094696045, 1.9112876653671265, 1.9133732318878174, 1.9081737995147705, 1.911016821861267, 1.895868182182312, 1.9065837860107422, 1.9097281694412231, 1.9062820672988892]\n",
      "[ATE:221]  [2.27044892 2.12590027 2.16478372 2.18966532 2.13252282 2.18716383\n",
      " 2.33067107 2.27367973 2.16592789 2.22687316]\n",
      "[ATE:221]  reward at the end of time step is [-0.029437773227691633]\n",
      "[ATA] optimization step performed\n",
      "[ATA episode 0]: took [10.5] seconds for one full step\n",
      "[ATE:221]  action [[1.39513702 0.50819018 0.31417553 0.41421821]] recieved\n",
      "[clf_engine]  scaled BS by [1.395137018888015]; BS=[2500]\n",
      "[clf_engine]  scaled LR by [0.5081901801988122]; LR=[2.5460152576513136e-43]\n",
      "[clf_engine]  training loop: started for [30] updates; BS=[2500] LR=[1.2938599525747463e-43]!\n"
     ]
    },
    {
     "data": {
      "application/vnd.jupyter.widget-view+json": {
       "model_id": "4cddee4fbe7a4f5fa994100ef9dcb0b8",
       "version_major": 2,
       "version_minor": 0
      },
      "text/plain": [
       "HBox(children=(FloatProgress(value=0.0, max=10.0), HTML(value='')))"
      ]
     },
     "metadata": {},
     "output_type": "display_data"
    },
    {
     "name": "stdout",
     "output_type": "stream",
     "text": [
      "\n",
      "[clf_engine]  training loop: started for [20] updates; BS=[2500] LR=[1.2938599525747463e-43]!\n"
     ]
    },
    {
     "data": {
      "application/vnd.jupyter.widget-view+json": {
       "model_id": "466d44c2c08540e6b88984bea70ae198",
       "version_major": 2,
       "version_minor": 0
      },
      "text/plain": [
       "HBox(children=(FloatProgress(value=0.0, max=10.0), HTML(value='')))"
      ]
     },
     "metadata": {},
     "output_type": "display_data"
    },
    {
     "name": "stdout",
     "output_type": "stream",
     "text": [
      "\n",
      "[clf_engine]  training loop: started for [10] updates; BS=[2500] LR=[1.2938599525747463e-43]!\n"
     ]
    },
    {
     "data": {
      "application/vnd.jupyter.widget-view+json": {
       "model_id": "5d0e609a918948de96eb270631964271",
       "version_major": 2,
       "version_minor": 0
      },
      "text/plain": [
       "HBox(children=(FloatProgress(value=0.0, max=10.0), HTML(value='')))"
      ]
     },
     "metadata": {},
     "output_type": "display_data"
    },
    {
     "name": "stdout",
     "output_type": "stream",
     "text": [
      "\n",
      "[clf_engine]  training loop: done!\n",
      "[ATE:222]  delta is: [-0.2409]; scaled delta is [-0.0241]\n",
      "[ATE:222]  [1.9223666191101074, 1.9030134677886963, 1.9077972173690796, 1.8896605968475342, 1.9341554641723633, 1.9081056118011475, 1.9150010347366333, 1.8994810581207275, 1.8907798528671265, 1.9153871536254883]\n",
      "[ATE:222]  [2.06817484 2.26834869 2.13057446 2.08082986 2.02492619 2.25991607\n",
      " 2.11321497 2.246876   2.24813175 2.05422187]\n",
      "[ATE:222]  reward at the end of time step is [-0.024094666242599483]\n",
      "[ATA] optimization step performed\n",
      "[ATA episode 0]: took [11.1] seconds for one full step\n",
      "[ATE:222]  action [[1.36624291 0.4205419  0.30604204 0.36198087]] recieved\n",
      "[clf_engine]  scaled BS by [1.3662429145942443]; BS=[2500]\n",
      "[clf_engine]  scaled LR by [0.4205419006437712]; LR=[1.2938599525747463e-43]\n",
      "[clf_engine]  training loop: started for [30] updates; BS=[2500] LR=[5.441223236226435e-44]!\n"
     ]
    },
    {
     "data": {
      "application/vnd.jupyter.widget-view+json": {
       "model_id": "f22eb8f057294c49ae7db33389abede5",
       "version_major": 2,
       "version_minor": 0
      },
      "text/plain": [
       "HBox(children=(FloatProgress(value=0.0, max=10.0), HTML(value='')))"
      ]
     },
     "metadata": {},
     "output_type": "display_data"
    },
    {
     "name": "stdout",
     "output_type": "stream",
     "text": [
      "\n",
      "[clf_engine]  training loop: started for [20] updates; BS=[2500] LR=[5.441223236226435e-44]!\n"
     ]
    },
    {
     "data": {
      "application/vnd.jupyter.widget-view+json": {
       "model_id": "c6e0810bbaa6443487a17799bfdb7f3e",
       "version_major": 2,
       "version_minor": 0
      },
      "text/plain": [
       "HBox(children=(FloatProgress(value=0.0, max=10.0), HTML(value='')))"
      ]
     },
     "metadata": {},
     "output_type": "display_data"
    },
    {
     "name": "stdout",
     "output_type": "stream",
     "text": [
      "\n",
      "[clf_engine]  training loop: started for [10] updates; BS=[2500] LR=[5.441223236226435e-44]!\n"
     ]
    },
    {
     "data": {
      "application/vnd.jupyter.widget-view+json": {
       "model_id": "c10944bd33b0463eab993254b758bf01",
       "version_major": 2,
       "version_minor": 0
      },
      "text/plain": [
       "HBox(children=(FloatProgress(value=0.0, max=10.0), HTML(value='')))"
      ]
     },
     "metadata": {},
     "output_type": "display_data"
    },
    {
     "name": "stdout",
     "output_type": "stream",
     "text": [
      "\n",
      "[clf_engine]  training loop: done!\n",
      "[ATE:223]  delta is: [-0.2093]; scaled delta is [-0.0209]\n",
      "[ATE:223]  [1.8975714445114136, 1.927903175354004, 1.8934882879257202, 1.9040720462799072, 1.9049816131591797, 1.926287055015564, 1.918871283531189, 1.9156064987182617, 1.9390095472335815, 1.8992908000946045]\n",
      "[ATE:223]  [2.11308789 2.11720777 2.1391511  2.12958407 2.09022331 2.21367288\n",
      " 1.97255266 2.15702868 2.06488371 2.22267604]\n",
      "[ATE:223]  reward at the end of time step is [-0.020929863452911392]\n",
      "[ATA] optimization step performed\n",
      "[ATA episode 0]: took [10.7] seconds for one full step\n",
      "[ATE:223]  action [[1.49442961 0.40758397 0.24072596 0.31245322]] recieved\n",
      "[clf_engine]  scaled BS by [1.4944296051232258]; BS=[2500]\n",
      "[clf_engine]  scaled LR by [0.4075839653900249]; LR=[5.441223236226435e-44]\n",
      "[clf_engine]  training loop: started for [30] updates; BS=[2500] LR=[2.2177553431935145e-44]!\n"
     ]
    },
    {
     "data": {
      "application/vnd.jupyter.widget-view+json": {
       "model_id": "959d49e12835482ca5774430d699a03a",
       "version_major": 2,
       "version_minor": 0
      },
      "text/plain": [
       "HBox(children=(FloatProgress(value=0.0, max=10.0), HTML(value='')))"
      ]
     },
     "metadata": {},
     "output_type": "display_data"
    },
    {
     "name": "stdout",
     "output_type": "stream",
     "text": [
      "\n",
      "[clf_engine]  training loop: started for [20] updates; BS=[2500] LR=[2.2177553431935145e-44]!\n"
     ]
    },
    {
     "data": {
      "application/vnd.jupyter.widget-view+json": {
       "model_id": "c6c1bee6752b42b1b9683e7e111e5daf",
       "version_major": 2,
       "version_minor": 0
      },
      "text/plain": [
       "HBox(children=(FloatProgress(value=0.0, max=10.0), HTML(value='')))"
      ]
     },
     "metadata": {},
     "output_type": "display_data"
    },
    {
     "name": "stdout",
     "output_type": "stream",
     "text": [
      "\n",
      "[clf_engine]  training loop: started for [10] updates; BS=[2500] LR=[2.2177553431935145e-44]!\n"
     ]
    },
    {
     "data": {
      "application/vnd.jupyter.widget-view+json": {
       "model_id": "b675cdfab8d6416e8754451e83f72475",
       "version_major": 2,
       "version_minor": 0
      },
      "text/plain": [
       "HBox(children=(FloatProgress(value=0.0, max=10.0), HTML(value='')))"
      ]
     },
     "metadata": {},
     "output_type": "display_data"
    },
    {
     "name": "stdout",
     "output_type": "stream",
     "text": [
      "\n",
      "[clf_engine]  training loop: done!\n",
      "[ATE:224]  delta is: [-0.2494]; scaled delta is [-0.0249]\n",
      "[ATE:224]  [1.8985546827316284, 1.9118046760559082, 1.8891103267669678, 1.9172873497009277, 1.9194868803024292, 1.9246336221694946, 1.90811288356781, 1.9104408025741577, 1.9294871091842651, 1.9261244535446167]\n",
      "[ATE:224]  [2.09368491 2.15211034 2.20139408 2.05772042 2.11455178 2.15713573\n",
      " 2.31724834 2.20858526 2.10035849 2.22610784]\n",
      "[ATE:224]  reward at the end of time step is [-0.024938544034957877]\n",
      "[ATA] optimization step performed\n",
      "[ATA episode 0]: took [11.4] seconds for one full step\n",
      "[ATE:224]  action [[1.62140771 0.35878781 0.35726742 0.31344182]] recieved\n",
      "[clf_engine]  scaled BS by [1.621407712331445]; BS=[2500]\n",
      "[clf_engine]  scaled LR by [0.358787812161569]; LR=[2.2177553431935145e-44]\n",
      "[clf_engine]  training loop: started for [30] updates; BS=[2500] LR=[7.957035874940307e-45]!\n"
     ]
    },
    {
     "data": {
      "application/vnd.jupyter.widget-view+json": {
       "model_id": "741fa558f1034273a45de393553e47bb",
       "version_major": 2,
       "version_minor": 0
      },
      "text/plain": [
       "HBox(children=(FloatProgress(value=0.0, max=10.0), HTML(value='')))"
      ]
     },
     "metadata": {},
     "output_type": "display_data"
    },
    {
     "name": "stdout",
     "output_type": "stream",
     "text": [
      "\n",
      "[clf_engine]  training loop: started for [20] updates; BS=[2500] LR=[7.957035874940307e-45]!\n"
     ]
    },
    {
     "data": {
      "application/vnd.jupyter.widget-view+json": {
       "model_id": "7f8ea72fe0f14adb93c8bbe5814d405a",
       "version_major": 2,
       "version_minor": 0
      },
      "text/plain": [
       "HBox(children=(FloatProgress(value=0.0, max=10.0), HTML(value='')))"
      ]
     },
     "metadata": {},
     "output_type": "display_data"
    },
    {
     "name": "stdout",
     "output_type": "stream",
     "text": [
      "\n",
      "[clf_engine]  training loop: started for [10] updates; BS=[2500] LR=[7.957035874940307e-45]!\n"
     ]
    },
    {
     "data": {
      "application/vnd.jupyter.widget-view+json": {
       "model_id": "181d7bdb19ee4721b4ade8dcbe481755",
       "version_major": 2,
       "version_minor": 0
      },
      "text/plain": [
       "HBox(children=(FloatProgress(value=0.0, max=10.0), HTML(value='')))"
      ]
     },
     "metadata": {},
     "output_type": "display_data"
    },
    {
     "name": "stdout",
     "output_type": "stream",
     "text": [
      "\n",
      "[clf_engine]  training loop: done!\n",
      "[ATE:225]  delta is: [-0.2880]; scaled delta is [-0.0288]\n",
      "[ATE:225]  [1.9371402263641357, 1.8748188018798828, 1.8841638565063477, 1.9129841327667236, 1.9302966594696045, 1.9119919538497925, 1.923890471458435, 1.9192943572998047, 1.8967267274856567, 1.9350117444992065]\n",
      "[ATE:225]  [2.25381756 2.27921057 2.10976171 2.17863822 2.24163485 2.37316918\n",
      " 2.11767578 2.1725049  2.08468938 2.19503379]\n",
      "[ATE:225]  reward at the end of time step is [-0.0287981700897217]\n",
      "[ATA] optimization step performed\n",
      "[ATA episode 0]: took [11.6] seconds for one full step\n",
      "[ATE:225]  action [[1.5226834  0.37494291 0.31621897 0.35299501]] recieved\n",
      "[clf_engine]  scaled BS by [1.5226833970473994]; BS=[2500]\n",
      "[clf_engine]  scaled LR by [0.3749429111079263]; LR=[7.957035874940307e-45]\n",
      "[clf_engine]  training loop: started for [30] updates; BS=[2500] LR=[2.983434194740324e-45]!\n"
     ]
    },
    {
     "data": {
      "application/vnd.jupyter.widget-view+json": {
       "model_id": "9d5e6ebf294146168e8e7f92672fa873",
       "version_major": 2,
       "version_minor": 0
      },
      "text/plain": [
       "HBox(children=(FloatProgress(value=0.0, max=10.0), HTML(value='')))"
      ]
     },
     "metadata": {},
     "output_type": "display_data"
    },
    {
     "name": "stdout",
     "output_type": "stream",
     "text": [
      "\n",
      "[clf_engine]  training loop: started for [20] updates; BS=[2500] LR=[2.983434194740324e-45]!\n"
     ]
    },
    {
     "data": {
      "application/vnd.jupyter.widget-view+json": {
       "model_id": "1379bd5d3f44443da947747d3da29cde",
       "version_major": 2,
       "version_minor": 0
      },
      "text/plain": [
       "HBox(children=(FloatProgress(value=0.0, max=10.0), HTML(value='')))"
      ]
     },
     "metadata": {},
     "output_type": "display_data"
    },
    {
     "name": "stdout",
     "output_type": "stream",
     "text": [
      "\n",
      "[clf_engine]  training loop: started for [10] updates; BS=[2500] LR=[2.983434194740324e-45]!\n"
     ]
    },
    {
     "data": {
      "application/vnd.jupyter.widget-view+json": {
       "model_id": "ac78e83e493c48ddb57f3261ff3ae6b8",
       "version_major": 2,
       "version_minor": 0
      },
      "text/plain": [
       "HBox(children=(FloatProgress(value=0.0, max=10.0), HTML(value='')))"
      ]
     },
     "metadata": {},
     "output_type": "display_data"
    },
    {
     "name": "stdout",
     "output_type": "stream",
     "text": [
      "\n",
      "[clf_engine]  training loop: done!\n",
      "[ATE:226]  delta is: [-0.2661]; scaled delta is [-0.0266]\n",
      "[ATE:226]  [1.920708417892456, 1.9060527086257935, 1.9351552724838257, 1.9272154569625854, 1.906050205230713, 1.910322666168213, 1.9285460710525513, 1.9105679988861084, 1.899574637413025, 1.911386489868164]\n",
      "[ATE:226]  [2.25613689 2.21361017 2.19408345 2.26934242 2.2437675  2.17506099\n",
      " 2.16399837 2.073879   2.03907394 2.1874218 ]\n",
      "[ATE:226]  reward at the end of time step is [-0.02660794615745543]\n",
      "[ATA] optimization step performed\n",
      "[ATA episode 0]: took [11.2] seconds for one full step\n",
      "[ATE:226]  action [[1.45966808 0.39119126 0.27891321 0.37136015]] recieved\n",
      "[clf_engine]  scaled BS by [1.4596680815128864]; BS=[2500]\n",
      "[clf_engine]  scaled LR by [0.39119126420744593]; LR=[2.983434194740324e-45]\n",
      "[clf_engine]  training loop: started for [30] updates; BS=[2500] LR=[1.1670933943201908e-45]!\n"
     ]
    },
    {
     "data": {
      "application/vnd.jupyter.widget-view+json": {
       "model_id": "76cfa9e7cb4c45f5997bd34b589faded",
       "version_major": 2,
       "version_minor": 0
      },
      "text/plain": [
       "HBox(children=(FloatProgress(value=0.0, max=10.0), HTML(value='')))"
      ]
     },
     "metadata": {},
     "output_type": "display_data"
    },
    {
     "name": "stdout",
     "output_type": "stream",
     "text": [
      "\n",
      "[clf_engine]  training loop: started for [20] updates; BS=[2500] LR=[1.1670933943201908e-45]!\n"
     ]
    },
    {
     "data": {
      "application/vnd.jupyter.widget-view+json": {
       "model_id": "fe99510d110e43f2953db6894b374235",
       "version_major": 2,
       "version_minor": 0
      },
      "text/plain": [
       "HBox(children=(FloatProgress(value=0.0, max=10.0), HTML(value='')))"
      ]
     },
     "metadata": {},
     "output_type": "display_data"
    },
    {
     "name": "stdout",
     "output_type": "stream",
     "text": [
      "\n",
      "[clf_engine]  training loop: started for [10] updates; BS=[2500] LR=[1.1670933943201908e-45]!\n"
     ]
    },
    {
     "data": {
      "application/vnd.jupyter.widget-view+json": {
       "model_id": "3d0bc69d90a243f0935ddc6142f3bf5b",
       "version_major": 2,
       "version_minor": 0
      },
      "text/plain": [
       "HBox(children=(FloatProgress(value=0.0, max=10.0), HTML(value='')))"
      ]
     },
     "metadata": {},
     "output_type": "display_data"
    },
    {
     "name": "stdout",
     "output_type": "stream",
     "text": [
      "\n",
      "[clf_engine]  training loop: done!\n",
      "[ATE:227]  delta is: [-0.2525]; scaled delta is [-0.0253]\n",
      "[ATE:227]  [1.9116121530532837, 1.916497826576233, 1.9272843599319458, 1.9335554838180542, 1.904530644416809, 1.9273009300231934, 1.9024343490600586, 1.9006378650665283, 1.904449224472046, 1.8919203281402588]\n",
      "[ATE:227]  [2.17053795 2.13038754 2.13551903 2.1010716  2.26172066 2.11612415\n",
      " 2.1488595  2.16493297 2.11668777 2.29945278]\n",
      "[ATE:227]  reward at the end of time step is [-0.02525070786476138]\n",
      "[ATA] optimization step performed\n",
      "[ATA episode 0]: took [11.0] seconds for one full step\n",
      "[ATE:227]  action [[1.51268887 0.35161801 0.26020368 0.22996021]] recieved\n",
      "[clf_engine]  scaled BS by [1.5126888706531034]; BS=[2500]\n",
      "[clf_engine]  scaled LR by [0.35161801457550357]; LR=[1.1670933943201908e-45]\n",
      "[clf_engine]  training loop: started for [30] updates; BS=[2500] LR=[4.103710621350508e-46]!\n"
     ]
    },
    {
     "data": {
      "application/vnd.jupyter.widget-view+json": {
       "model_id": "46a0785bd1004b72924b8df15bf789e4",
       "version_major": 2,
       "version_minor": 0
      },
      "text/plain": [
       "HBox(children=(FloatProgress(value=0.0, max=10.0), HTML(value='')))"
      ]
     },
     "metadata": {},
     "output_type": "display_data"
    },
    {
     "name": "stdout",
     "output_type": "stream",
     "text": [
      "\n",
      "[clf_engine]  training loop: started for [20] updates; BS=[2500] LR=[4.103710621350508e-46]!\n"
     ]
    },
    {
     "data": {
      "application/vnd.jupyter.widget-view+json": {
       "model_id": "f964442604aa4d74a35a0664cd7983a3",
       "version_major": 2,
       "version_minor": 0
      },
      "text/plain": [
       "HBox(children=(FloatProgress(value=0.0, max=10.0), HTML(value='')))"
      ]
     },
     "metadata": {},
     "output_type": "display_data"
    },
    {
     "name": "stdout",
     "output_type": "stream",
     "text": [
      "\n",
      "[clf_engine]  training loop: started for [10] updates; BS=[2500] LR=[4.103710621350508e-46]!\n"
     ]
    },
    {
     "data": {
      "application/vnd.jupyter.widget-view+json": {
       "model_id": "201cbe0557ca40d78a9aeceaecaef6e2",
       "version_major": 2,
       "version_minor": 0
      },
      "text/plain": [
       "HBox(children=(FloatProgress(value=0.0, max=10.0), HTML(value='')))"
      ]
     },
     "metadata": {},
     "output_type": "display_data"
    },
    {
     "name": "stdout",
     "output_type": "stream",
     "text": [
      "\n",
      "[clf_engine]  training loop: done!\n",
      "[ATE:228]  delta is: [-0.2400]; scaled delta is [-0.0240]\n",
      "[ATE:228]  [1.9048166275024414, 1.9044954776763916, 1.925756812095642, 1.9038820266723633, 1.8708217144012451, 1.9323859214782715, 1.9157549142837524, 1.9110256433486938, 1.9368531703948975, 1.9247233867645264]\n",
      "[ATE:228]  [2.14373398 2.01739979 2.11865067 2.12851214 2.201581   2.21229839\n",
      " 2.21917081 2.21128321 2.13547707 2.14193511]\n",
      "[ATE:228]  reward at the end of time step is [-0.023995264768600456]\n",
      "[ATA] optimization step performed\n",
      "[ATA episode 0]: took [11.6] seconds for one full step\n",
      "[ATE:228]  action [[1.36298072 0.32296853 0.25745106 0.26191602]] recieved\n",
      "[clf_engine]  scaled BS by [1.3629807150771327]; BS=[2500]\n",
      "[clf_engine]  scaled LR by [0.3229685278613242]; LR=[4.103710621350508e-46]\n",
      "[clf_engine]  training loop: started for [30] updates; BS=[2500] LR=[1.3253693781464536e-46]!\n"
     ]
    },
    {
     "data": {
      "application/vnd.jupyter.widget-view+json": {
       "model_id": "78a86398ff3f4b3ea245bb7db7169608",
       "version_major": 2,
       "version_minor": 0
      },
      "text/plain": [
       "HBox(children=(FloatProgress(value=0.0, max=10.0), HTML(value='')))"
      ]
     },
     "metadata": {},
     "output_type": "display_data"
    },
    {
     "name": "stdout",
     "output_type": "stream",
     "text": [
      "\n",
      "[clf_engine]  training loop: started for [20] updates; BS=[2500] LR=[1.3253693781464536e-46]!\n"
     ]
    },
    {
     "data": {
      "application/vnd.jupyter.widget-view+json": {
       "model_id": "17d64285a5074e179b7bdecf30afb11c",
       "version_major": 2,
       "version_minor": 0
      },
      "text/plain": [
       "HBox(children=(FloatProgress(value=0.0, max=10.0), HTML(value='')))"
      ]
     },
     "metadata": {},
     "output_type": "display_data"
    },
    {
     "name": "stdout",
     "output_type": "stream",
     "text": [
      "\n",
      "[clf_engine]  training loop: started for [10] updates; BS=[2500] LR=[1.3253693781464536e-46]!\n"
     ]
    },
    {
     "data": {
      "application/vnd.jupyter.widget-view+json": {
       "model_id": "390d47126d8c4cab96f2bc4de83963f3",
       "version_major": 2,
       "version_minor": 0
      },
      "text/plain": [
       "HBox(children=(FloatProgress(value=0.0, max=10.0), HTML(value='')))"
      ]
     },
     "metadata": {},
     "output_type": "display_data"
    },
    {
     "name": "stdout",
     "output_type": "stream",
     "text": [
      "\n",
      "[clf_engine]  training loop: done!\n",
      "[ATE:229]  delta is: [-0.2453]; scaled delta is [-0.0245]\n",
      "[ATE:229]  [1.9521416425704956, 1.9216513633728027, 1.899672508239746, 1.9176474809646606, 1.9279588460922241, 1.911629319190979, 1.932134747505188, 1.9052642583847046, 1.9344185590744019, 1.8985203504562378]\n",
      "[ATE:229]  [2.03058147 2.11497808 2.13020468 2.22259498 2.07699919 2.2152586\n",
      " 2.23641825 2.16864228 2.22277808 2.23587275]\n",
      "[ATE:229]  reward at the end of time step is [-0.024532892704010004]\n",
      "[ATA] optimization step performed\n",
      "[ATA episode 0]: took [11.0] seconds for one full step\n",
      "[ATE:229]  action [[1.41073426 0.35744523 0.27140287 0.23743238]] recieved\n",
      "[clf_engine]  scaled BS by [1.4107342596865808]; BS=[2500]\n",
      "[clf_engine]  scaled LR by [0.3574452333829586]; LR=[1.3253693781464536e-46]\n",
      "[clf_engine]  training loop: started for [30] updates; BS=[2500] LR=[4.737469666901857e-47]!\n"
     ]
    },
    {
     "data": {
      "application/vnd.jupyter.widget-view+json": {
       "model_id": "ab54e4443fbf49a9a068bb305a21e0ee",
       "version_major": 2,
       "version_minor": 0
      },
      "text/plain": [
       "HBox(children=(FloatProgress(value=0.0, max=10.0), HTML(value='')))"
      ]
     },
     "metadata": {},
     "output_type": "display_data"
    },
    {
     "name": "stdout",
     "output_type": "stream",
     "text": [
      "\n",
      "[clf_engine]  training loop: started for [20] updates; BS=[2500] LR=[4.737469666901857e-47]!\n"
     ]
    },
    {
     "data": {
      "application/vnd.jupyter.widget-view+json": {
       "model_id": "01e49429a3f54b2493f15dc2ffbce1c9",
       "version_major": 2,
       "version_minor": 0
      },
      "text/plain": [
       "HBox(children=(FloatProgress(value=0.0, max=10.0), HTML(value='')))"
      ]
     },
     "metadata": {},
     "output_type": "display_data"
    },
    {
     "name": "stdout",
     "output_type": "stream",
     "text": [
      "\n",
      "[clf_engine]  training loop: started for [10] updates; BS=[2500] LR=[4.737469666901857e-47]!\n"
     ]
    },
    {
     "data": {
      "application/vnd.jupyter.widget-view+json": {
       "model_id": "aa8b8ae7874944a1b3956d9825a6a45e",
       "version_major": 2,
       "version_minor": 0
      },
      "text/plain": [
       "HBox(children=(FloatProgress(value=0.0, max=10.0), HTML(value='')))"
      ]
     },
     "metadata": {},
     "output_type": "display_data"
    },
    {
     "name": "stdout",
     "output_type": "stream",
     "text": [
      "\n",
      "[clf_engine]  training loop: done!\n"
     ]
    },
    {
     "data": {
      "application/vnd.jupyter.widget-view+json": {
       "model_id": "870a18c40ebb42baaf8bf60756e06245",
       "version_major": 2,
       "version_minor": 0
      },
      "text/plain": [
       "HBox(children=(FloatProgress(value=0.0, max=1563.0), HTML(value='')))"
      ]
     },
     "metadata": {},
     "output_type": "display_data"
    },
    {
     "name": "stdout",
     "output_type": "stream",
     "text": [
      "\n"
     ]
    },
    {
     "data": {
      "application/vnd.jupyter.widget-view+json": {
       "model_id": "cee477c286824ab1a5a9363c7caa2cbd",
       "version_major": 2,
       "version_minor": 0
      },
      "text/plain": [
       "HBox(children=(FloatProgress(value=0.0, max=625.0), HTML(value='')))"
      ]
     },
     "metadata": {},
     "output_type": "display_data"
    },
    {
     "name": "stdout",
     "output_type": "stream",
     "text": [
      "\n",
      "[ATE:230]  delta is: [-0.2070]; scaled delta is [-0.0207]\n",
      "[ATE:230]  [1.9334325790405273, 1.9125398397445679, 1.9181523323059082, 1.8950554132461548, 1.9368468523025513, 1.9184964895248413, 1.9014304876327515, 1.8988596200942993, 1.9236371517181396, 1.9105539321899414]\n",
      "[ATE:230]  [2.18666744 2.29030204 2.0769918  1.98939335 2.07693791 2.20622039\n",
      " 2.11978483 2.05101538 2.15489531 2.06684375]\n",
      "[ATE:230]  reward at the end of time step is [-0.0207004749774933]\n",
      "[ATA] optimization step performed\n",
      "[ATA episode 0]: took [17.3] seconds for one full step\n",
      "[ATE:230]  action [[1.44957642 0.33897722 0.25868412 0.21931128]] recieved\n",
      "[clf_engine]  scaled BS by [1.4495764176548818]; BS=[2500]\n",
      "[clf_engine]  scaled LR by [0.3389772155560582]; LR=[4.737469666901857e-47]\n",
      "[clf_engine]  training loop: started for [30] updates; BS=[2500] LR=[1.6058942764676781e-47]!\n"
     ]
    },
    {
     "data": {
      "application/vnd.jupyter.widget-view+json": {
       "model_id": "8aa02171b1eb4d1aa2a9f8d8925617a7",
       "version_major": 2,
       "version_minor": 0
      },
      "text/plain": [
       "HBox(children=(FloatProgress(value=0.0, max=10.0), HTML(value='')))"
      ]
     },
     "metadata": {},
     "output_type": "display_data"
    },
    {
     "name": "stdout",
     "output_type": "stream",
     "text": [
      "\n",
      "[clf_engine]  training loop: started for [20] updates; BS=[2500] LR=[1.6058942764676781e-47]!\n"
     ]
    },
    {
     "data": {
      "application/vnd.jupyter.widget-view+json": {
       "model_id": "09479db2c9fe4e7d8314cb099ff66fc8",
       "version_major": 2,
       "version_minor": 0
      },
      "text/plain": [
       "HBox(children=(FloatProgress(value=0.0, max=10.0), HTML(value='')))"
      ]
     },
     "metadata": {},
     "output_type": "display_data"
    },
    {
     "name": "stdout",
     "output_type": "stream",
     "text": [
      "\n",
      "[clf_engine]  training loop: started for [10] updates; BS=[2500] LR=[1.6058942764676781e-47]!\n"
     ]
    },
    {
     "data": {
      "application/vnd.jupyter.widget-view+json": {
       "model_id": "4b1af8bca2104ed093ac20f030811336",
       "version_major": 2,
       "version_minor": 0
      },
      "text/plain": [
       "HBox(children=(FloatProgress(value=0.0, max=10.0), HTML(value='')))"
      ]
     },
     "metadata": {},
     "output_type": "display_data"
    },
    {
     "name": "stdout",
     "output_type": "stream",
     "text": [
      "\n",
      "[clf_engine]  training loop: done!\n",
      "[ATE:231]  delta is: [-0.2691]; scaled delta is [-0.0269]\n",
      "[ATE:231]  [1.9391762018203735, 1.9117224216461182, 1.9416981935501099, 1.9193015098571777, 1.930522084236145, 1.9046530723571777, 1.878936529159546, 1.908524990081787, 1.904845952987671, 1.897538661956787]\n",
      "[ATE:231]  [2.1903398  2.169806   2.17313075 2.19584036 2.15564466 2.20309305\n",
      " 2.1390841  2.20281363 2.28811789 2.10977268]\n",
      "[ATE:231]  reward at the end of time step is [-0.026907232999801647]\n",
      "[ATA] optimization step performed\n",
      "[ATA episode 0]: took [11.3] seconds for one full step\n",
      "[ATE:231]  action [[1.28717419 0.41749058 0.22237679 0.25298855]] recieved\n",
      "[clf_engine]  scaled BS by [1.2871741934943763]; BS=[2500]\n",
      "[clf_engine]  scaled LR by [0.417490581683934]; LR=[1.6058942764676781e-47]\n",
      "[clf_engine]  training loop: started for [30] updates; BS=[2500] LR=[6.704457356053912e-48]!\n"
     ]
    },
    {
     "data": {
      "application/vnd.jupyter.widget-view+json": {
       "model_id": "67b91df8df6946588a7417f9f98c0494",
       "version_major": 2,
       "version_minor": 0
      },
      "text/plain": [
       "HBox(children=(FloatProgress(value=0.0, max=10.0), HTML(value='')))"
      ]
     },
     "metadata": {},
     "output_type": "display_data"
    },
    {
     "name": "stdout",
     "output_type": "stream",
     "text": [
      "\n",
      "[clf_engine]  training loop: started for [20] updates; BS=[2500] LR=[6.704457356053912e-48]!\n"
     ]
    },
    {
     "data": {
      "application/vnd.jupyter.widget-view+json": {
       "model_id": "62b8dbf49fb6494fb64787a104545905",
       "version_major": 2,
       "version_minor": 0
      },
      "text/plain": [
       "HBox(children=(FloatProgress(value=0.0, max=10.0), HTML(value='')))"
      ]
     },
     "metadata": {},
     "output_type": "display_data"
    },
    {
     "name": "stdout",
     "output_type": "stream",
     "text": [
      "\n",
      "[clf_engine]  training loop: started for [10] updates; BS=[2500] LR=[6.704457356053912e-48]!\n"
     ]
    },
    {
     "data": {
      "application/vnd.jupyter.widget-view+json": {
       "model_id": "120ba9dead7f45ea84bbf14b057f9a52",
       "version_major": 2,
       "version_minor": 0
      },
      "text/plain": [
       "HBox(children=(FloatProgress(value=0.0, max=10.0), HTML(value='')))"
      ]
     },
     "metadata": {},
     "output_type": "display_data"
    },
    {
     "name": "stdout",
     "output_type": "stream",
     "text": [
      "\n",
      "[clf_engine]  training loop: done!\n",
      "[ATE:232]  delta is: [-0.2532]; scaled delta is [-0.0253]\n",
      "[ATE:232]  [1.9362068176269531, 1.9064210653305054, 1.9039453268051147, 1.928072214126587, 1.9080064296722412, 1.9171546697616577, 1.9056447744369507, 1.9110535383224487, 1.913596510887146, 1.8922064304351807]\n",
      "[ATE:232]  [2.16501093 2.1447506  2.16194344 2.19153833 2.17353344 2.19152021\n",
      " 2.24499607 2.04356122 2.24939442 2.08771515]\n",
      "[ATE:232]  reward at the end of time step is [-0.02531656026840208]\n",
      "[ATA] optimization step performed\n",
      "[ATA episode 0]: took [11.3] seconds for one full step\n",
      "[ATE:232]  action [[1.27810114 0.3555762  0.2464839  0.22322353]] recieved\n",
      "[clf_engine]  scaled BS by [1.2781011394051087]; BS=[2500]\n",
      "[clf_engine]  scaled LR by [0.35557619886165553]; LR=[6.704457356053912e-48]\n",
      "[clf_engine]  training loop: started for [30] updates; BS=[2500] LR=[2.383945462095715e-48]!\n"
     ]
    },
    {
     "data": {
      "application/vnd.jupyter.widget-view+json": {
       "model_id": "5ec9bc622a5b4b5eb04edfb9fcb5c72d",
       "version_major": 2,
       "version_minor": 0
      },
      "text/plain": [
       "HBox(children=(FloatProgress(value=0.0, max=10.0), HTML(value='')))"
      ]
     },
     "metadata": {},
     "output_type": "display_data"
    },
    {
     "name": "stdout",
     "output_type": "stream",
     "text": [
      "\n",
      "[clf_engine]  training loop: started for [20] updates; BS=[2500] LR=[2.383945462095715e-48]!\n"
     ]
    },
    {
     "data": {
      "application/vnd.jupyter.widget-view+json": {
       "model_id": "c66d9956c2b642d9b5224c5602d3c468",
       "version_major": 2,
       "version_minor": 0
      },
      "text/plain": [
       "HBox(children=(FloatProgress(value=0.0, max=10.0), HTML(value='')))"
      ]
     },
     "metadata": {},
     "output_type": "display_data"
    },
    {
     "name": "stdout",
     "output_type": "stream",
     "text": [
      "\n",
      "[clf_engine]  training loop: started for [10] updates; BS=[2500] LR=[2.383945462095715e-48]!\n"
     ]
    },
    {
     "data": {
      "application/vnd.jupyter.widget-view+json": {
       "model_id": "5982d83715ff44e9829dece26b0de97e",
       "version_major": 2,
       "version_minor": 0
      },
      "text/plain": [
       "HBox(children=(FloatProgress(value=0.0, max=10.0), HTML(value='')))"
      ]
     },
     "metadata": {},
     "output_type": "display_data"
    },
    {
     "name": "stdout",
     "output_type": "stream",
     "text": [
      "\n",
      "[clf_engine]  training loop: done!\n",
      "[ATE:233]  delta is: [-0.3168]; scaled delta is [-0.0317]\n",
      "[ATE:233]  [1.918591022491455, 1.9130048751831055, 1.9133081436157227, 1.9136332273483276, 1.9254505634307861, 1.9050214290618896, 1.8926016092300415, 1.9088175296783447, 1.9319881200790405, 1.8965179920196533]\n",
      "[ATE:233]  [2.19348192 2.16412997 2.20289016 2.34109688 2.28489423 2.08265734\n",
      " 2.25634432 2.23048687 2.20501328 2.32566285]\n",
      "[ATE:233]  reward at the end of time step is [-0.03167723298072818]\n",
      "[ATA] optimization step performed\n",
      "[ATA episode 0]: took [11.2] seconds for one full step\n",
      "[ATE:233]  action [[1.32613107 0.66018861 0.17536884 0.22316711]] recieved\n",
      "[clf_engine]  scaled BS by [1.3261310663187558]; BS=[2500]\n",
      "[clf_engine]  scaled LR by [0.6601886120174688]; LR=[2.383945462095715e-48]\n",
      "[clf_engine]  training loop: started for [30] updates; BS=[2500] LR=[1.5738536457463133e-48]!\n"
     ]
    },
    {
     "data": {
      "application/vnd.jupyter.widget-view+json": {
       "model_id": "8fcce7d2359d4e2180f24881f2e24ec9",
       "version_major": 2,
       "version_minor": 0
      },
      "text/plain": [
       "HBox(children=(FloatProgress(value=0.0, max=10.0), HTML(value='')))"
      ]
     },
     "metadata": {},
     "output_type": "display_data"
    },
    {
     "name": "stdout",
     "output_type": "stream",
     "text": [
      "\n",
      "[clf_engine]  training loop: started for [20] updates; BS=[2500] LR=[1.5738536457463133e-48]!\n"
     ]
    },
    {
     "data": {
      "application/vnd.jupyter.widget-view+json": {
       "model_id": "89eecb29f0fc416e8635be0c65faff05",
       "version_major": 2,
       "version_minor": 0
      },
      "text/plain": [
       "HBox(children=(FloatProgress(value=0.0, max=10.0), HTML(value='')))"
      ]
     },
     "metadata": {},
     "output_type": "display_data"
    },
    {
     "name": "stdout",
     "output_type": "stream",
     "text": [
      "\n",
      "[clf_engine]  training loop: started for [10] updates; BS=[2500] LR=[1.5738536457463133e-48]!\n"
     ]
    },
    {
     "data": {
      "application/vnd.jupyter.widget-view+json": {
       "model_id": "49cf0482039444d6a791ea12a922457f",
       "version_major": 2,
       "version_minor": 0
      },
      "text/plain": [
       "HBox(children=(FloatProgress(value=0.0, max=10.0), HTML(value='')))"
      ]
     },
     "metadata": {},
     "output_type": "display_data"
    },
    {
     "name": "stdout",
     "output_type": "stream",
     "text": [
      "\n",
      "[clf_engine]  training loop: done!\n",
      "[ATE:234]  delta is: [-0.2870]; scaled delta is [-0.0287]\n",
      "[ATE:234]  [1.9027279615402222, 1.885433554649353, 1.9175187349319458, 1.891619324684143, 1.9111988544464111, 1.9331457614898682, 1.921913504600525, 1.9046605825424194, 1.9281679391860962, 1.9173743724822998]\n",
      "[ATE:234]  [2.20310783 2.10278296 2.37074018 2.05927491 2.1102798  2.30563402\n",
      " 2.0318768  2.26778722 2.21945572 2.31243801]\n",
      "[ATE:234]  reward at the end of time step is [-0.02869616866111757]\n",
      "[ATA] optimization step performed\n",
      "[ATA episode 0]: took [11.7] seconds for one full step\n",
      "[ATE:234]  action [[1.37951399 0.66867339 0.16978977 0.24030341]] recieved\n",
      "[clf_engine]  scaled BS by [1.3795139858083685]; BS=[2500]\n",
      "[clf_engine]  scaled LR by [0.6686733933403288]; LR=[1.5738536457463133e-48]\n",
      "[clf_engine]  training loop: started for [30] updates; BS=[2500] LR=[1.0523940579222352e-48]!\n"
     ]
    },
    {
     "data": {
      "application/vnd.jupyter.widget-view+json": {
       "model_id": "c353f6ef4d7d406387b7c456097d17b2",
       "version_major": 2,
       "version_minor": 0
      },
      "text/plain": [
       "HBox(children=(FloatProgress(value=0.0, max=10.0), HTML(value='')))"
      ]
     },
     "metadata": {},
     "output_type": "display_data"
    },
    {
     "name": "stdout",
     "output_type": "stream",
     "text": [
      "\n",
      "[clf_engine]  training loop: started for [20] updates; BS=[2500] LR=[1.0523940579222352e-48]!\n"
     ]
    },
    {
     "data": {
      "application/vnd.jupyter.widget-view+json": {
       "model_id": "5ae319195de5472e902a02e45f50880a",
       "version_major": 2,
       "version_minor": 0
      },
      "text/plain": [
       "HBox(children=(FloatProgress(value=0.0, max=10.0), HTML(value='')))"
      ]
     },
     "metadata": {},
     "output_type": "display_data"
    },
    {
     "name": "stdout",
     "output_type": "stream",
     "text": [
      "\n",
      "[clf_engine]  training loop: started for [10] updates; BS=[2500] LR=[1.0523940579222352e-48]!\n"
     ]
    },
    {
     "data": {
      "application/vnd.jupyter.widget-view+json": {
       "model_id": "73378790f5cc48b1b0ad6309d3275aee",
       "version_major": 2,
       "version_minor": 0
      },
      "text/plain": [
       "HBox(children=(FloatProgress(value=0.0, max=10.0), HTML(value='')))"
      ]
     },
     "metadata": {},
     "output_type": "display_data"
    },
    {
     "name": "stdout",
     "output_type": "stream",
     "text": [
      "\n",
      "[clf_engine]  training loop: done!\n",
      "[ATE:235]  delta is: [-0.2569]; scaled delta is [-0.0257]\n",
      "[ATE:235]  [1.9432814121246338, 1.9105740785598755, 1.8882148265838623, 1.9071451425552368, 1.894033432006836, 1.9191697835922241, 1.8863427639007568, 1.9054898023605347, 1.9119802713394165, 1.9412392377853394]\n",
      "[ATE:235]  [2.20607352 2.11719155 2.11893582 2.18417287 2.07159042 2.24186659\n",
      " 2.12043238 2.11327124 2.26421857 2.23915291]\n",
      "[ATE:235]  reward at the end of time step is [-0.02569435119628909]\n",
      "[ATA] optimization step performed\n",
      "[ATA episode 0]: took [11.7] seconds for one full step\n",
      "[ATE:235]  action [[1.38051335 0.80641116 0.20535795 0.25680152]] recieved\n",
      "[clf_engine]  scaled BS by [1.380513347720363]; BS=[2500]\n",
      "[clf_engine]  scaled LR by [0.8064111634022565]; LR=[1.0523940579222352e-48]\n",
      "[clf_engine]  training loop: started for [30] updates; BS=[2500] LR=[8.486623166066914e-49]!\n"
     ]
    },
    {
     "data": {
      "application/vnd.jupyter.widget-view+json": {
       "model_id": "9189bc0722a04b3fa6500cfec41fbbfa",
       "version_major": 2,
       "version_minor": 0
      },
      "text/plain": [
       "HBox(children=(FloatProgress(value=0.0, max=10.0), HTML(value='')))"
      ]
     },
     "metadata": {},
     "output_type": "display_data"
    },
    {
     "name": "stdout",
     "output_type": "stream",
     "text": [
      "\n",
      "[clf_engine]  training loop: started for [20] updates; BS=[2500] LR=[8.486623166066914e-49]!\n"
     ]
    },
    {
     "data": {
      "application/vnd.jupyter.widget-view+json": {
       "model_id": "b286606d81ca4c1cbb01969d254c8ebb",
       "version_major": 2,
       "version_minor": 0
      },
      "text/plain": [
       "HBox(children=(FloatProgress(value=0.0, max=10.0), HTML(value='')))"
      ]
     },
     "metadata": {},
     "output_type": "display_data"
    },
    {
     "name": "stdout",
     "output_type": "stream",
     "text": [
      "\n",
      "[clf_engine]  training loop: started for [10] updates; BS=[2500] LR=[8.486623166066914e-49]!\n"
     ]
    },
    {
     "data": {
      "application/vnd.jupyter.widget-view+json": {
       "model_id": "23913714ecc04432831adc806a03b848",
       "version_major": 2,
       "version_minor": 0
      },
      "text/plain": [
       "HBox(children=(FloatProgress(value=0.0, max=10.0), HTML(value='')))"
      ]
     },
     "metadata": {},
     "output_type": "display_data"
    },
    {
     "name": "stdout",
     "output_type": "stream",
     "text": [
      "\n",
      "[clf_engine]  training loop: done!\n",
      "[ATE:236]  delta is: [-0.2345]; scaled delta is [-0.0234]\n",
      "[ATE:236]  [1.9224553108215332, 1.9355884790420532, 1.9049404859542847, 1.9088618755340576, 1.9446526765823364, 1.9207683801651, 1.9073808193206787, 1.9040900468826294, 1.939016580581665, 1.91190767288208]\n",
      "[ATE:236]  [2.26101041 2.162709   2.08839178 2.18258381 2.08904529 2.00772882\n",
      " 2.2079258  2.17449284 2.19098663 2.17958164]\n",
      "[ATE:236]  reward at the end of time step is [-0.023447936773300194]\n",
      "[ATA] optimization step performed\n",
      "[ATA episode 0]: took [11.4] seconds for one full step\n",
      "[ATE:236]  action [[1.28729542 0.66866609 0.20412896 0.28515449]] recieved\n",
      "[clf_engine]  scaled BS by [1.2872954241152588]; BS=[2500]\n",
      "[clf_engine]  scaled LR by [0.6686660943321789]; LR=[8.486623166066914e-49]\n",
      "[clf_engine]  training loop: started for [30] updates; BS=[2500] LR=[5.674717166522954e-49]!\n"
     ]
    },
    {
     "data": {
      "application/vnd.jupyter.widget-view+json": {
       "model_id": "3bc910974eed40b99d40b8f0b878ad2b",
       "version_major": 2,
       "version_minor": 0
      },
      "text/plain": [
       "HBox(children=(FloatProgress(value=0.0, max=10.0), HTML(value='')))"
      ]
     },
     "metadata": {},
     "output_type": "display_data"
    },
    {
     "name": "stdout",
     "output_type": "stream",
     "text": [
      "\n",
      "[clf_engine]  training loop: started for [20] updates; BS=[2500] LR=[5.674717166522954e-49]!\n"
     ]
    },
    {
     "data": {
      "application/vnd.jupyter.widget-view+json": {
       "model_id": "9bb6312126134b1ebea2b59403731fb2",
       "version_major": 2,
       "version_minor": 0
      },
      "text/plain": [
       "HBox(children=(FloatProgress(value=0.0, max=10.0), HTML(value='')))"
      ]
     },
     "metadata": {},
     "output_type": "display_data"
    },
    {
     "name": "stdout",
     "output_type": "stream",
     "text": [
      "\n",
      "[clf_engine]  training loop: started for [10] updates; BS=[2500] LR=[5.674717166522954e-49]!\n"
     ]
    },
    {
     "data": {
      "application/vnd.jupyter.widget-view+json": {
       "model_id": "ba509d6bbd224849a78842c9780318e6",
       "version_major": 2,
       "version_minor": 0
      },
      "text/plain": [
       "HBox(children=(FloatProgress(value=0.0, max=10.0), HTML(value='')))"
      ]
     },
     "metadata": {},
     "output_type": "display_data"
    },
    {
     "name": "stdout",
     "output_type": "stream",
     "text": [
      "\n",
      "[clf_engine]  training loop: done!\n",
      "[ATE:237]  delta is: [-0.2595]; scaled delta is [-0.0260]\n",
      "[ATE:237]  [1.923653483390808, 1.901151418685913, 1.927348256111145, 1.9455496072769165, 1.9270931482315063, 1.893142580986023, 1.8988429307937622, 1.920466423034668, 1.921038031578064, 1.9089767932891846]\n",
      "[ATE:237]  [2.18136263 2.17267203 2.16269803 2.06808996 2.20205402 2.20384216\n",
      " 2.12352943 2.31487942 2.09052157 2.24287677]\n",
      "[ATE:237]  reward at the end of time step is [-0.025952633619308465]\n",
      "[ATA] optimization step performed\n",
      "[ATA episode 0]: took [11.0] seconds for one full step\n",
      "[ATE:237]  action [[1.30624561 0.59590998 0.20466572 0.24234559]] recieved\n",
      "[clf_engine]  scaled BS by [1.3062456092399246]; BS=[2500]\n",
      "[clf_engine]  scaled LR by [0.595909982997381]; LR=[5.674717166522954e-49]\n",
      "[clf_engine]  training loop: started for [30] updates; BS=[2500] LR=[3.3816206102176396e-49]!\n"
     ]
    },
    {
     "data": {
      "application/vnd.jupyter.widget-view+json": {
       "model_id": "0b93bb5730694dd8b801be920fc37aea",
       "version_major": 2,
       "version_minor": 0
      },
      "text/plain": [
       "HBox(children=(FloatProgress(value=0.0, max=10.0), HTML(value='')))"
      ]
     },
     "metadata": {},
     "output_type": "display_data"
    },
    {
     "name": "stdout",
     "output_type": "stream",
     "text": [
      "\n",
      "[clf_engine]  training loop: started for [20] updates; BS=[2500] LR=[3.3816206102176396e-49]!\n"
     ]
    },
    {
     "data": {
      "application/vnd.jupyter.widget-view+json": {
       "model_id": "b4250dad35ad4a7caa1673f287ccc951",
       "version_major": 2,
       "version_minor": 0
      },
      "text/plain": [
       "HBox(children=(FloatProgress(value=0.0, max=10.0), HTML(value='')))"
      ]
     },
     "metadata": {},
     "output_type": "display_data"
    },
    {
     "name": "stdout",
     "output_type": "stream",
     "text": [
      "\n",
      "[clf_engine]  training loop: started for [10] updates; BS=[2500] LR=[3.3816206102176396e-49]!\n"
     ]
    },
    {
     "data": {
      "application/vnd.jupyter.widget-view+json": {
       "model_id": "bae979f750564e91a56f125d0cca01c9",
       "version_major": 2,
       "version_minor": 0
      },
      "text/plain": [
       "HBox(children=(FloatProgress(value=0.0, max=10.0), HTML(value='')))"
      ]
     },
     "metadata": {},
     "output_type": "display_data"
    },
    {
     "name": "stdout",
     "output_type": "stream",
     "text": [
      "\n",
      "[clf_engine]  training loop: done!\n",
      "[ATE:238]  delta is: [-0.2557]; scaled delta is [-0.0256]\n",
      "[ATE:238]  [1.92775297164917, 1.9089818000793457, 1.920564889907837, 1.8930915594100952, 1.9180090427398682, 1.9111039638519287, 1.9125871658325195, 1.9143478870391846, 1.9040398597717285, 1.9347407817840576]\n",
      "[ATE:238]  [2.09783411 2.16386843 2.2127583  2.093853   2.20635653 2.19428682\n",
      " 2.26850128 2.18932557 2.14747405 2.12753177]\n",
      "[ATE:238]  reward at the end of time step is [-0.025565699338912975]\n",
      "[ATA] optimization step performed\n",
      "[ATA episode 0]: took [11.8] seconds for one full step\n",
      "[ATE:238]  action [[1.36952106 0.66888454 0.19159833 0.26970593]] recieved\n",
      "[clf_engine]  scaled BS by [1.3695210568572969]; BS=[2500]\n",
      "[clf_engine]  scaled LR by [0.6688845376687479]; LR=[3.3816206102176396e-49]\n",
      "[clf_engine]  training loop: started for [30] updates; BS=[2500] LR=[2.261913738436535e-49]!\n"
     ]
    },
    {
     "data": {
      "application/vnd.jupyter.widget-view+json": {
       "model_id": "149ca8f392a547aeb5f4781352798ab2",
       "version_major": 2,
       "version_minor": 0
      },
      "text/plain": [
       "HBox(children=(FloatProgress(value=0.0, max=10.0), HTML(value='')))"
      ]
     },
     "metadata": {},
     "output_type": "display_data"
    },
    {
     "name": "stdout",
     "output_type": "stream",
     "text": [
      "\n",
      "[clf_engine]  training loop: started for [20] updates; BS=[2500] LR=[2.261913738436535e-49]!\n"
     ]
    },
    {
     "data": {
      "application/vnd.jupyter.widget-view+json": {
       "model_id": "2467119fc87347319fe749f7726a6e37",
       "version_major": 2,
       "version_minor": 0
      },
      "text/plain": [
       "HBox(children=(FloatProgress(value=0.0, max=10.0), HTML(value='')))"
      ]
     },
     "metadata": {},
     "output_type": "display_data"
    },
    {
     "name": "stdout",
     "output_type": "stream",
     "text": [
      "\n",
      "[clf_engine]  training loop: started for [10] updates; BS=[2500] LR=[2.261913738436535e-49]!\n"
     ]
    },
    {
     "data": {
      "application/vnd.jupyter.widget-view+json": {
       "model_id": "3916895484d54cceaa80a5049c30532a",
       "version_major": 2,
       "version_minor": 0
      },
      "text/plain": [
       "HBox(children=(FloatProgress(value=0.0, max=10.0), HTML(value='')))"
      ]
     },
     "metadata": {},
     "output_type": "display_data"
    },
    {
     "name": "stdout",
     "output_type": "stream",
     "text": [
      "\n",
      "[clf_engine]  training loop: done!\n",
      "[ATE:239]  delta is: [-0.2205]; scaled delta is [-0.0220]\n",
      "[ATE:239]  [1.9105138778686523, 1.9138370752334595, 1.917016625404358, 1.9029549360275269, 1.8877911567687988, 1.9182562828063965, 1.9157843589782715, 1.9038547277450562, 1.9049148559570312, 1.9414995908737183]\n",
      "[ATE:239]  [2.11877012 2.1177175  2.22111273 2.04490876 2.182616   2.13219976\n",
      " 2.08413768 2.11760306 2.23898792 2.06318784]\n",
      "[ATE:239]  reward at the end of time step is [-0.022048178911209117]\n",
      "[ATA] optimization step performed\n",
      "[ATA episode 0]: took [11.6] seconds for one full step\n",
      "[ATE:239]  action [[1.32506387 0.68290194 0.19538338 0.32394709]] recieved\n",
      "[clf_engine]  scaled BS by [1.3250638746162804]; BS=[2500]\n",
      "[clf_engine]  scaled LR by [0.6829019388385618]; LR=[2.261913738436535e-49]\n",
      "[clf_engine]  training loop: started for [30] updates; BS=[2500] LR=[1.5446652774638893e-49]!\n"
     ]
    },
    {
     "data": {
      "application/vnd.jupyter.widget-view+json": {
       "model_id": "e85b6b4a064944dfa631bfbe69c52a0a",
       "version_major": 2,
       "version_minor": 0
      },
      "text/plain": [
       "HBox(children=(FloatProgress(value=0.0, max=10.0), HTML(value='')))"
      ]
     },
     "metadata": {},
     "output_type": "display_data"
    },
    {
     "name": "stdout",
     "output_type": "stream",
     "text": [
      "\n",
      "[clf_engine]  training loop: started for [20] updates; BS=[2500] LR=[1.5446652774638893e-49]!\n"
     ]
    },
    {
     "data": {
      "application/vnd.jupyter.widget-view+json": {
       "model_id": "ee1ef2d235ab4bf68fe8dbc2f616d569",
       "version_major": 2,
       "version_minor": 0
      },
      "text/plain": [
       "HBox(children=(FloatProgress(value=0.0, max=10.0), HTML(value='')))"
      ]
     },
     "metadata": {},
     "output_type": "display_data"
    },
    {
     "name": "stdout",
     "output_type": "stream",
     "text": [
      "\n",
      "[clf_engine]  training loop: started for [10] updates; BS=[2500] LR=[1.5446652774638893e-49]!\n"
     ]
    },
    {
     "data": {
      "application/vnd.jupyter.widget-view+json": {
       "model_id": "03e43649f50b49da97867599101beeb2",
       "version_major": 2,
       "version_minor": 0
      },
      "text/plain": [
       "HBox(children=(FloatProgress(value=0.0, max=10.0), HTML(value='')))"
      ]
     },
     "metadata": {},
     "output_type": "display_data"
    },
    {
     "name": "stdout",
     "output_type": "stream",
     "text": [
      "\n",
      "[clf_engine]  training loop: done!\n"
     ]
    },
    {
     "data": {
      "application/vnd.jupyter.widget-view+json": {
       "model_id": "d67ca6c2a5c24879bf5bc1ea920652ff",
       "version_major": 2,
       "version_minor": 0
      },
      "text/plain": [
       "HBox(children=(FloatProgress(value=0.0, max=1563.0), HTML(value='')))"
      ]
     },
     "metadata": {},
     "output_type": "display_data"
    },
    {
     "name": "stdout",
     "output_type": "stream",
     "text": [
      "\n"
     ]
    },
    {
     "data": {
      "application/vnd.jupyter.widget-view+json": {
       "model_id": "13681c09f3d248f6981d5df3b0025f71",
       "version_major": 2,
       "version_minor": 0
      },
      "text/plain": [
       "HBox(children=(FloatProgress(value=0.0, max=625.0), HTML(value='')))"
      ]
     },
     "metadata": {},
     "output_type": "display_data"
    },
    {
     "name": "stdout",
     "output_type": "stream",
     "text": [
      "\n",
      "[ATE:240]  delta is: [-0.2383]; scaled delta is [-0.0238]\n",
      "[ATE:240]  [1.9234744310379028, 1.9180960655212402, 1.9053407907485962, 1.907751202583313, 1.9132273197174072, 1.8869680166244507, 1.9181468486785889, 1.9035025835037231, 1.9148805141448975, 1.9261767864227295]\n",
      "[ATE:240]  [2.03231001 2.18078971 2.22669721 2.16905093 2.05862308 2.19707489\n",
      " 2.15815639 2.17596054 2.14438725 2.15726542]\n",
      "[ATE:240]  reward at the end of time step is [-0.023827508687973033]\n",
      "[ATA] optimization step performed\n",
      "[ATA episode 0]: took [16.7] seconds for one full step\n",
      "[ATE:240]  action [[1.22124321 0.61990308 0.21718116 0.29370268]] recieved\n",
      "[clf_engine]  scaled BS by [1.221243206715806]; BS=[2500]\n",
      "[clf_engine]  scaled LR by [0.6199030841331863]; LR=[1.5446652774638893e-49]\n",
      "[clf_engine]  training loop: started for [30] updates; BS=[2500] LR=[9.57542769453309e-50]!\n"
     ]
    },
    {
     "data": {
      "application/vnd.jupyter.widget-view+json": {
       "model_id": "02e6a88632914e1d898d1d575a5e33d8",
       "version_major": 2,
       "version_minor": 0
      },
      "text/plain": [
       "HBox(children=(FloatProgress(value=0.0, max=10.0), HTML(value='')))"
      ]
     },
     "metadata": {},
     "output_type": "display_data"
    },
    {
     "name": "stdout",
     "output_type": "stream",
     "text": [
      "\n",
      "[clf_engine]  training loop: started for [20] updates; BS=[2500] LR=[9.57542769453309e-50]!\n"
     ]
    },
    {
     "data": {
      "application/vnd.jupyter.widget-view+json": {
       "model_id": "18c3cdc4a60b44139bf5dff6672d50cc",
       "version_major": 2,
       "version_minor": 0
      },
      "text/plain": [
       "HBox(children=(FloatProgress(value=0.0, max=10.0), HTML(value='')))"
      ]
     },
     "metadata": {},
     "output_type": "display_data"
    },
    {
     "name": "stdout",
     "output_type": "stream",
     "text": [
      "\n",
      "[clf_engine]  training loop: started for [10] updates; BS=[2500] LR=[9.57542769453309e-50]!\n"
     ]
    },
    {
     "data": {
      "application/vnd.jupyter.widget-view+json": {
       "model_id": "2777b5aece5246ebb4adb7ee2acda332",
       "version_major": 2,
       "version_minor": 0
      },
      "text/plain": [
       "HBox(children=(FloatProgress(value=0.0, max=10.0), HTML(value='')))"
      ]
     },
     "metadata": {},
     "output_type": "display_data"
    },
    {
     "name": "stdout",
     "output_type": "stream",
     "text": [
      "\n",
      "[clf_engine]  training loop: done!\n",
      "[ATE:241]  delta is: [-0.2983]; scaled delta is [-0.0298]\n",
      "[ATE:241]  [1.9228525161743164, 1.9100192785263062, 1.9302960634231567, 1.9368083477020264, 1.912083387374878, 1.9074997901916504, 1.928134799003601, 1.9134172201156616, 1.8846931457519531, 1.9246244430541992]\n",
      "[ATE:241]  [2.07743025 2.22269177 2.23237348 2.09008908 2.33269167 2.21858406\n",
      " 2.16093612 2.41516018 2.16050625 2.24289227]\n",
      "[ATE:241]  reward at the end of time step is [-0.029829261302947985]\n",
      "[ATA] optimization step performed\n",
      "[ATA episode 0]: took [11.0] seconds for one full step\n",
      "[ATE:241]  action [[1.24388491 0.62108841 0.19401035 0.24758088]] recieved\n",
      "[clf_engine]  scaled BS by [1.2438849055593855]; BS=[2500]\n",
      "[clf_engine]  scaled LR by [0.6210884062223395]; LR=[9.57542769453309e-50]\n",
      "[clf_engine]  training loop: started for [30] updates; BS=[2500] LR=[5.947187125694807e-50]!\n"
     ]
    },
    {
     "data": {
      "application/vnd.jupyter.widget-view+json": {
       "model_id": "d8aebe7f3f38487f81622c585d133ef1",
       "version_major": 2,
       "version_minor": 0
      },
      "text/plain": [
       "HBox(children=(FloatProgress(value=0.0, max=10.0), HTML(value='')))"
      ]
     },
     "metadata": {},
     "output_type": "display_data"
    },
    {
     "name": "stdout",
     "output_type": "stream",
     "text": [
      "\n",
      "[clf_engine]  training loop: started for [20] updates; BS=[2500] LR=[5.947187125694807e-50]!\n"
     ]
    },
    {
     "data": {
      "application/vnd.jupyter.widget-view+json": {
       "model_id": "3dc1f74426ee479691a7b96813d66bb4",
       "version_major": 2,
       "version_minor": 0
      },
      "text/plain": [
       "HBox(children=(FloatProgress(value=0.0, max=10.0), HTML(value='')))"
      ]
     },
     "metadata": {},
     "output_type": "display_data"
    },
    {
     "name": "stdout",
     "output_type": "stream",
     "text": [
      "\n",
      "[clf_engine]  training loop: started for [10] updates; BS=[2500] LR=[5.947187125694807e-50]!\n"
     ]
    },
    {
     "data": {
      "application/vnd.jupyter.widget-view+json": {
       "model_id": "07c95560c25c427781e8882df9fffffd",
       "version_major": 2,
       "version_minor": 0
      },
      "text/plain": [
       "HBox(children=(FloatProgress(value=0.0, max=10.0), HTML(value='')))"
      ]
     },
     "metadata": {},
     "output_type": "display_data"
    },
    {
     "name": "stdout",
     "output_type": "stream",
     "text": [
      "\n",
      "[clf_engine]  training loop: done!\n",
      "[ATE:242]  delta is: [-0.2935]; scaled delta is [-0.0293]\n",
      "[ATE:242]  [1.925106406211853, 1.9058574438095093, 1.8869454860687256, 1.933275580406189, 1.9202477931976318, 1.9033279418945312, 1.9060741662979126, 1.8884822130203247, 1.916139841079712, 1.9484808444976807]\n",
      "[ATE:242]  [2.1489532  2.24206519 2.23228812 2.34523869 2.24051809 2.10334444\n",
      " 2.26266217 2.15249372 2.18730593 2.15388918]\n",
      "[ATE:242]  reward at the end of time step is [-0.029348210096359264]\n",
      "[ATA] optimization step performed\n",
      "[ATA episode 0]: took [11.4] seconds for one full step\n",
      "[ATE:242]  action [[1.2847437  0.69039275 0.22544439 0.28474511]] recieved\n",
      "[clf_engine]  scaled BS by [1.284743697375507]; BS=[2500]\n",
      "[clf_engine]  scaled LR by [0.6903927481710564]; LR=[5.947187125694807e-50]\n",
      "[clf_engine]  training loop: started for [30] updates; BS=[2500] LR=[4.105894863595964e-50]!\n"
     ]
    },
    {
     "data": {
      "application/vnd.jupyter.widget-view+json": {
       "model_id": "826c24a7b97648e78915ce311fe6978d",
       "version_major": 2,
       "version_minor": 0
      },
      "text/plain": [
       "HBox(children=(FloatProgress(value=0.0, max=10.0), HTML(value='')))"
      ]
     },
     "metadata": {},
     "output_type": "display_data"
    },
    {
     "name": "stdout",
     "output_type": "stream",
     "text": [
      "\n",
      "[clf_engine]  training loop: started for [20] updates; BS=[2500] LR=[4.105894863595964e-50]!\n"
     ]
    },
    {
     "data": {
      "application/vnd.jupyter.widget-view+json": {
       "model_id": "79dcc17c4f8f4350a70c2c88e9be79d7",
       "version_major": 2,
       "version_minor": 0
      },
      "text/plain": [
       "HBox(children=(FloatProgress(value=0.0, max=10.0), HTML(value='')))"
      ]
     },
     "metadata": {},
     "output_type": "display_data"
    },
    {
     "name": "stdout",
     "output_type": "stream",
     "text": [
      "\n",
      "[clf_engine]  training loop: started for [10] updates; BS=[2500] LR=[4.105894863595964e-50]!\n"
     ]
    },
    {
     "data": {
      "application/vnd.jupyter.widget-view+json": {
       "model_id": "5dcb8fd60298463abcaabc3f9fb3ae22",
       "version_major": 2,
       "version_minor": 0
      },
      "text/plain": [
       "HBox(children=(FloatProgress(value=0.0, max=10.0), HTML(value='')))"
      ]
     },
     "metadata": {},
     "output_type": "display_data"
    },
    {
     "name": "stdout",
     "output_type": "stream",
     "text": [
      "\n",
      "[clf_engine]  training loop: done!\n",
      "[ATE:243]  delta is: [-0.2547]; scaled delta is [-0.0255]\n",
      "[ATE:243]  [1.9291726350784302, 1.9226062297821045, 1.9229353666305542, 1.9205021858215332, 1.9074769020080566, 1.901503562927246, 1.9071236848831177, 1.9136326313018799, 1.9024935960769653, 1.9057210683822632]\n",
      "[ATE:243]  [2.09912801 2.32542157 2.09413695 2.17750311 2.11830378 2.13133097\n",
      " 2.12840986 2.14501667 2.16813087 2.29233932]\n",
      "[ATE:243]  reward at the end of time step is [-0.025465532541275017]\n",
      "[ATA] optimization step performed\n",
      "[ATA episode 0]: took [11.7] seconds for one full step\n",
      "[ATE:243]  action [[1.25700192 0.57215145 0.19802803 0.25312236]] recieved\n",
      "[clf_engine]  scaled BS by [1.2570019157726593]; BS=[2500]\n",
      "[clf_engine]  scaled LR by [0.5721514519240322]; LR=[4.105894863595964e-50]\n",
      "[clf_engine]  training loop: started for [30] updates; BS=[2500] LR=[2.349193707653857e-50]!\n"
     ]
    },
    {
     "data": {
      "application/vnd.jupyter.widget-view+json": {
       "model_id": "5ac90400c2b64f09a20327e54bae0c5f",
       "version_major": 2,
       "version_minor": 0
      },
      "text/plain": [
       "HBox(children=(FloatProgress(value=0.0, max=10.0), HTML(value='')))"
      ]
     },
     "metadata": {},
     "output_type": "display_data"
    },
    {
     "name": "stdout",
     "output_type": "stream",
     "text": [
      "\n",
      "[clf_engine]  training loop: started for [20] updates; BS=[2500] LR=[2.349193707653857e-50]!\n"
     ]
    },
    {
     "data": {
      "application/vnd.jupyter.widget-view+json": {
       "model_id": "ee25084549494a8884cb4871c631e069",
       "version_major": 2,
       "version_minor": 0
      },
      "text/plain": [
       "HBox(children=(FloatProgress(value=0.0, max=10.0), HTML(value='')))"
      ]
     },
     "metadata": {},
     "output_type": "display_data"
    },
    {
     "name": "stdout",
     "output_type": "stream",
     "text": [
      "\n",
      "[clf_engine]  training loop: started for [10] updates; BS=[2500] LR=[2.349193707653857e-50]!\n"
     ]
    },
    {
     "data": {
      "application/vnd.jupyter.widget-view+json": {
       "model_id": "7f172f69f89f49a3959b0439d935c08f",
       "version_major": 2,
       "version_minor": 0
      },
      "text/plain": [
       "HBox(children=(FloatProgress(value=0.0, max=10.0), HTML(value='')))"
      ]
     },
     "metadata": {},
     "output_type": "display_data"
    },
    {
     "name": "stdout",
     "output_type": "stream",
     "text": [
      "\n",
      "[clf_engine]  training loop: done!\n",
      "[ATE:244]  delta is: [-0.2548]; scaled delta is [-0.0255]\n",
      "[ATE:244]  [1.9419859647750854, 1.9205588102340698, 1.921798825263977, 1.9220099449157715, 1.9150981903076172, 1.9167271852493286, 1.9182544946670532, 1.8947362899780273, 1.8940576314926147, 1.9286199808120728]\n",
      "[ATE:244]  [2.17750287 2.23416424 2.19417572 2.17591786 2.07887959 2.14941669\n",
      " 2.13711286 2.12158513 2.15182209 2.30112195]\n",
      "[ATE:244]  reward at the end of time step is [-0.0254785168170929]\n",
      "[ATA] optimization step performed\n",
      "[ATA episode 0]: took [11.4] seconds for one full step\n",
      "[ATE:244]  action [[1.32229476 0.54839399 0.18181898 0.26640504]] recieved\n",
      "[clf_engine]  scaled BS by [1.3222947560092564]; BS=[2500]\n",
      "[clf_engine]  scaled LR by [0.5483939851523296]; LR=[2.349193707653857e-50]\n",
      "[clf_engine]  training loop: started for [30] updates; BS=[2500] LR=[1.2882836992350755e-50]!\n"
     ]
    },
    {
     "data": {
      "application/vnd.jupyter.widget-view+json": {
       "model_id": "e869cfe695754b74bf9b874ed7a44c41",
       "version_major": 2,
       "version_minor": 0
      },
      "text/plain": [
       "HBox(children=(FloatProgress(value=0.0, max=10.0), HTML(value='')))"
      ]
     },
     "metadata": {},
     "output_type": "display_data"
    },
    {
     "name": "stdout",
     "output_type": "stream",
     "text": [
      "\n",
      "[clf_engine]  training loop: started for [20] updates; BS=[2500] LR=[1.2882836992350755e-50]!\n"
     ]
    },
    {
     "data": {
      "application/vnd.jupyter.widget-view+json": {
       "model_id": "81c809f9825c4f68afaa616265d77b5a",
       "version_major": 2,
       "version_minor": 0
      },
      "text/plain": [
       "HBox(children=(FloatProgress(value=0.0, max=10.0), HTML(value='')))"
      ]
     },
     "metadata": {},
     "output_type": "display_data"
    },
    {
     "name": "stdout",
     "output_type": "stream",
     "text": [
      "\n",
      "[clf_engine]  training loop: started for [10] updates; BS=[2500] LR=[1.2882836992350755e-50]!\n"
     ]
    },
    {
     "data": {
      "application/vnd.jupyter.widget-view+json": {
       "model_id": "b5c753729fed4a37b995ba86cdf631c0",
       "version_major": 2,
       "version_minor": 0
      },
      "text/plain": [
       "HBox(children=(FloatProgress(value=0.0, max=10.0), HTML(value='')))"
      ]
     },
     "metadata": {},
     "output_type": "display_data"
    },
    {
     "name": "stdout",
     "output_type": "stream",
     "text": [
      "\n",
      "[clf_engine]  training loop: done!\n",
      "[ATE:245]  delta is: [-0.2385]; scaled delta is [-0.0239]\n",
      "[ATE:245]  [1.9187277555465698, 1.9325066804885864, 1.912977695465088, 1.8903000354766846, 1.9249423742294312, 1.9147734642028809, 1.9064865112304688, 1.9145222902297974, 1.9094198942184448, 1.8983904123306274]\n",
      "[ATE:245]  [2.19959688 2.13678074 2.12642956 2.15048718 2.34312797 2.15595818\n",
      " 2.24916625 2.0727582  2.01147461 2.0624733 ]\n",
      "[ATE:245]  reward at the end of time step is [-0.02385205745697021]\n",
      "[ATA] optimization step performed\n",
      "[ATA episode 0]: took [11.1] seconds for one full step\n",
      "[ATE:245]  action [[1.36627165 0.47508556 0.18302664 0.25598402]] recieved\n",
      "[clf_engine]  scaled BS by [1.3662716530931718]; BS=[2500]\n",
      "[clf_engine]  scaled LR by [0.47508555769582095]; LR=[1.2882836992350755e-50]\n",
      "[clf_engine]  training loop: started for [30] updates; BS=[2500] LR=[6.120449797215311e-51]!\n"
     ]
    },
    {
     "data": {
      "application/vnd.jupyter.widget-view+json": {
       "model_id": "70cc97098f6b4ef7825b0af63d90b971",
       "version_major": 2,
       "version_minor": 0
      },
      "text/plain": [
       "HBox(children=(FloatProgress(value=0.0, max=10.0), HTML(value='')))"
      ]
     },
     "metadata": {},
     "output_type": "display_data"
    },
    {
     "name": "stdout",
     "output_type": "stream",
     "text": [
      "\n",
      "[clf_engine]  training loop: started for [20] updates; BS=[2500] LR=[6.120449797215311e-51]!\n"
     ]
    },
    {
     "data": {
      "application/vnd.jupyter.widget-view+json": {
       "model_id": "ef83fc03cf204102b7b894434e2ee79b",
       "version_major": 2,
       "version_minor": 0
      },
      "text/plain": [
       "HBox(children=(FloatProgress(value=0.0, max=10.0), HTML(value='')))"
      ]
     },
     "metadata": {},
     "output_type": "display_data"
    },
    {
     "name": "stdout",
     "output_type": "stream",
     "text": [
      "\n",
      "[clf_engine]  training loop: started for [10] updates; BS=[2500] LR=[6.120449797215311e-51]!\n"
     ]
    },
    {
     "data": {
      "application/vnd.jupyter.widget-view+json": {
       "model_id": "779d76bdd0544c95a901165d2de242ed",
       "version_major": 2,
       "version_minor": 0
      },
      "text/plain": [
       "HBox(children=(FloatProgress(value=0.0, max=10.0), HTML(value='')))"
      ]
     },
     "metadata": {},
     "output_type": "display_data"
    },
    {
     "name": "stdout",
     "output_type": "stream",
     "text": [
      "\n",
      "[clf_engine]  training loop: done!\n",
      "[ATE:246]  delta is: [-0.2874]; scaled delta is [-0.0287]\n",
      "[ATE:246]  [1.9067423343658447, 1.922387719154358, 1.924238681793213, 1.9069459438323975, 1.9095193147659302, 1.8987939357757568, 1.921836495399475, 1.9250537157058716, 1.9126545190811157, 1.9196596145629883]\n",
      "[ATE:246]  [2.20818329 2.03964424 2.32174063 2.18613958 2.12941766 2.13006687\n",
      " 2.08440971 2.28898787 2.32813668 2.30547595]\n",
      "[ATE:246]  reward at the end of time step is [-0.02874370217323301]\n",
      "[ATA] optimization step performed\n",
      "[ATA episode 0]: took [11.7] seconds for one full step\n",
      "[ATE:246]  action [[1.32944972 0.56776225 0.21780849 0.25821036]] recieved\n",
      "[clf_engine]  scaled BS by [1.3294497199518815]; BS=[2500]\n",
      "[clf_engine]  scaled LR by [0.5677622465555645]; LR=[6.120449797215311e-51]\n",
      "[clf_engine]  training loop: started for [30] updates; BS=[2500] LR=[3.4749603267975143e-51]!\n"
     ]
    },
    {
     "data": {
      "application/vnd.jupyter.widget-view+json": {
       "model_id": "9fc99f6424e34471b30e56820eaaed04",
       "version_major": 2,
       "version_minor": 0
      },
      "text/plain": [
       "HBox(children=(FloatProgress(value=0.0, max=10.0), HTML(value='')))"
      ]
     },
     "metadata": {},
     "output_type": "display_data"
    },
    {
     "name": "stdout",
     "output_type": "stream",
     "text": [
      "\n",
      "[clf_engine]  training loop: started for [20] updates; BS=[2500] LR=[3.4749603267975143e-51]!\n"
     ]
    },
    {
     "data": {
      "application/vnd.jupyter.widget-view+json": {
       "model_id": "69ea0da01ed34b1f86f7277a42570717",
       "version_major": 2,
       "version_minor": 0
      },
      "text/plain": [
       "HBox(children=(FloatProgress(value=0.0, max=10.0), HTML(value='')))"
      ]
     },
     "metadata": {},
     "output_type": "display_data"
    },
    {
     "name": "stdout",
     "output_type": "stream",
     "text": [
      "\n",
      "[clf_engine]  training loop: started for [10] updates; BS=[2500] LR=[3.4749603267975143e-51]!\n"
     ]
    },
    {
     "data": {
      "application/vnd.jupyter.widget-view+json": {
       "model_id": "c3b58883f6da40a980150090298a61f8",
       "version_major": 2,
       "version_minor": 0
      },
      "text/plain": [
       "HBox(children=(FloatProgress(value=0.0, max=10.0), HTML(value='')))"
      ]
     },
     "metadata": {},
     "output_type": "display_data"
    },
    {
     "name": "stdout",
     "output_type": "stream",
     "text": [
      "\n",
      "[clf_engine]  training loop: done!\n",
      "[ATE:247]  delta is: [-0.3157]; scaled delta is [-0.0316]\n",
      "[ATE:247]  [1.925458550453186, 1.915479302406311, 1.8919414281845093, 1.9182177782058716, 1.9109349250793457, 1.9080615043640137, 1.943200945854187, 1.9335695505142212, 1.8995327949523926, 1.8814085721969604]\n",
      "[ATE:247]  [2.11184406 2.17904139 2.23493361 2.40448618 2.43354034 2.06315947\n",
      " 2.17862725 2.31461072 2.09438682 2.27035308]\n",
      "[ATE:247]  reward at the end of time step is [-0.03157177567481997]\n",
      "[ATA] optimization step performed\n",
      "[ATA episode 0]: took [11.9] seconds for one full step\n",
      "[ATE:247]  action [[1.44964655 0.53642374 0.22636161 0.25957059]] recieved\n",
      "[clf_engine]  scaled BS by [1.4496465469236566]; BS=[2500]\n",
      "[clf_engine]  scaled LR by [0.536423741028021]; LR=[3.4749603267975143e-51]\n",
      "[clf_engine]  training loop: started for [30] updates; BS=[2500] LR=[1.8640512184246771e-51]!\n"
     ]
    },
    {
     "data": {
      "application/vnd.jupyter.widget-view+json": {
       "model_id": "b6453012e40d44eaa69f3a3f919e024e",
       "version_major": 2,
       "version_minor": 0
      },
      "text/plain": [
       "HBox(children=(FloatProgress(value=0.0, max=10.0), HTML(value='')))"
      ]
     },
     "metadata": {},
     "output_type": "display_data"
    },
    {
     "name": "stdout",
     "output_type": "stream",
     "text": [
      "\n",
      "[clf_engine]  training loop: started for [20] updates; BS=[2500] LR=[1.8640512184246771e-51]!\n"
     ]
    },
    {
     "data": {
      "application/vnd.jupyter.widget-view+json": {
       "model_id": "5c7caa37eee7476eafd74e32bd789449",
       "version_major": 2,
       "version_minor": 0
      },
      "text/plain": [
       "HBox(children=(FloatProgress(value=0.0, max=10.0), HTML(value='')))"
      ]
     },
     "metadata": {},
     "output_type": "display_data"
    },
    {
     "name": "stdout",
     "output_type": "stream",
     "text": [
      "\n",
      "[clf_engine]  training loop: started for [10] updates; BS=[2500] LR=[1.8640512184246771e-51]!\n"
     ]
    },
    {
     "data": {
      "application/vnd.jupyter.widget-view+json": {
       "model_id": "bf6bf54bd23e4a21a8ace91687c94f88",
       "version_major": 2,
       "version_minor": 0
      },
      "text/plain": [
       "HBox(children=(FloatProgress(value=0.0, max=10.0), HTML(value='')))"
      ]
     },
     "metadata": {},
     "output_type": "display_data"
    },
    {
     "name": "stdout",
     "output_type": "stream",
     "text": [
      "\n",
      "[clf_engine]  training loop: done!\n",
      "[ATE:248]  delta is: [-0.2338]; scaled delta is [-0.0234]\n",
      "[ATE:248]  [1.9263367652893066, 1.8852298259735107, 1.9186965227127075, 1.9052013158798218, 1.9020800590515137, 1.9216517210006714, 1.9129427671432495, 1.9128857851028442, 1.916365385055542, 1.9063031673431396]\n",
      "[ATE:248]  [2.12464309 2.10175729 2.19043875 2.26303124 2.09651232 2.04259801\n",
      " 2.11540604 2.22474241 2.08316684 2.20375109]\n",
      "[ATE:248]  reward at the end of time step is [-0.023383537530899036]\n",
      "[ATA] optimization step performed\n",
      "[ATA episode 0]: took [11.8] seconds for one full step\n",
      "[ATE:248]  action [[1.33113176 0.56028371 0.19734394 0.23593738]] recieved\n",
      "[clf_engine]  scaled BS by [1.3311317574003971]; BS=[2500]\n",
      "[clf_engine]  scaled LR by [0.560283709766635]; LR=[1.8640512184246771e-51]\n",
      "[clf_engine]  training loop: started for [30] updates; BS=[2500] LR=[1.0443975318539942e-51]!\n"
     ]
    },
    {
     "data": {
      "application/vnd.jupyter.widget-view+json": {
       "model_id": "b170e0b4b0f04527819984763ff0b01c",
       "version_major": 2,
       "version_minor": 0
      },
      "text/plain": [
       "HBox(children=(FloatProgress(value=0.0, max=10.0), HTML(value='')))"
      ]
     },
     "metadata": {},
     "output_type": "display_data"
    },
    {
     "name": "stdout",
     "output_type": "stream",
     "text": [
      "\n",
      "[clf_engine]  training loop: started for [20] updates; BS=[2500] LR=[1.0443975318539942e-51]!\n"
     ]
    },
    {
     "data": {
      "application/vnd.jupyter.widget-view+json": {
       "model_id": "bb7ac38032c644b88ac081cd6f8037c0",
       "version_major": 2,
       "version_minor": 0
      },
      "text/plain": [
       "HBox(children=(FloatProgress(value=0.0, max=10.0), HTML(value='')))"
      ]
     },
     "metadata": {},
     "output_type": "display_data"
    },
    {
     "name": "stdout",
     "output_type": "stream",
     "text": [
      "\n",
      "[clf_engine]  training loop: started for [10] updates; BS=[2500] LR=[1.0443975318539942e-51]!\n"
     ]
    },
    {
     "data": {
      "application/vnd.jupyter.widget-view+json": {
       "model_id": "535d576cb9d44b5fb621cc9ceaa307b5",
       "version_major": 2,
       "version_minor": 0
      },
      "text/plain": [
       "HBox(children=(FloatProgress(value=0.0, max=10.0), HTML(value='')))"
      ]
     },
     "metadata": {},
     "output_type": "display_data"
    },
    {
     "name": "stdout",
     "output_type": "stream",
     "text": [
      "\n",
      "[clf_engine]  training loop: done!\n",
      "[ATE:249]  delta is: [-0.2415]; scaled delta is [-0.0241]\n",
      "[ATE:249]  [1.8856699466705322, 1.9138888120651245, 1.9082581996917725, 1.920305848121643, 1.900086760520935, 1.9158939123153687, 1.9186787605285645, 1.9261871576309204, 1.9347890615463257, 1.9177488088607788]\n",
      "[ATE:249]  [2.15483689 2.09731293 2.23629355 2.03786993 2.12080312 2.21215296\n",
      " 2.15639544 2.24591279 2.19978285 2.09510636]\n",
      "[ATE:249]  reward at the end of time step is [-0.024149595499038702]\n",
      "[ATA] optimization step performed\n",
      "[ATA episode 0]: took [11.2] seconds for one full step\n",
      "[ATE:249]  action [[1.31109672 0.5425397  0.2410141  0.29321002]] recieved\n",
      "[clf_engine]  scaled BS by [1.3110967188668934]; BS=[2500]\n",
      "[clf_engine]  scaled LR by [0.5425397007111009]; LR=[1.0443975318539942e-51]\n",
      "[clf_engine]  training loop: started for [30] updates; BS=[2500] LR=[5.666271243554785e-52]!\n"
     ]
    },
    {
     "data": {
      "application/vnd.jupyter.widget-view+json": {
       "model_id": "e5569e9f743c4b18ac13e51e22e828a2",
       "version_major": 2,
       "version_minor": 0
      },
      "text/plain": [
       "HBox(children=(FloatProgress(value=0.0, max=10.0), HTML(value='')))"
      ]
     },
     "metadata": {},
     "output_type": "display_data"
    },
    {
     "name": "stdout",
     "output_type": "stream",
     "text": [
      "\n",
      "[clf_engine]  training loop: started for [20] updates; BS=[2500] LR=[5.666271243554785e-52]!\n"
     ]
    },
    {
     "data": {
      "application/vnd.jupyter.widget-view+json": {
       "model_id": "632a4a7d9b82482883581cd1c19136ff",
       "version_major": 2,
       "version_minor": 0
      },
      "text/plain": [
       "HBox(children=(FloatProgress(value=0.0, max=10.0), HTML(value='')))"
      ]
     },
     "metadata": {},
     "output_type": "display_data"
    },
    {
     "name": "stdout",
     "output_type": "stream",
     "text": [
      "\n",
      "[clf_engine]  training loop: started for [10] updates; BS=[2500] LR=[5.666271243554785e-52]!\n"
     ]
    },
    {
     "data": {
      "application/vnd.jupyter.widget-view+json": {
       "model_id": "cf6e911e6de242fa8fa170379b3dddd6",
       "version_major": 2,
       "version_minor": 0
      },
      "text/plain": [
       "HBox(children=(FloatProgress(value=0.0, max=10.0), HTML(value='')))"
      ]
     },
     "metadata": {},
     "output_type": "display_data"
    },
    {
     "name": "stdout",
     "output_type": "stream",
     "text": [
      "\n",
      "[clf_engine]  training loop: done!\n"
     ]
    },
    {
     "data": {
      "application/vnd.jupyter.widget-view+json": {
       "model_id": "2ce8742fb1df48d1b004b579686fc20c",
       "version_major": 2,
       "version_minor": 0
      },
      "text/plain": [
       "HBox(children=(FloatProgress(value=0.0, max=1563.0), HTML(value='')))"
      ]
     },
     "metadata": {},
     "output_type": "display_data"
    },
    {
     "name": "stdout",
     "output_type": "stream",
     "text": [
      "\n"
     ]
    },
    {
     "data": {
      "application/vnd.jupyter.widget-view+json": {
       "model_id": "6c36837a133440ad9363c24a2f54921a",
       "version_major": 2,
       "version_minor": 0
      },
      "text/plain": [
       "HBox(children=(FloatProgress(value=0.0, max=625.0), HTML(value='')))"
      ]
     },
     "metadata": {},
     "output_type": "display_data"
    },
    {
     "name": "stdout",
     "output_type": "stream",
     "text": [
      "\n",
      "[ATE:250]  delta is: [-0.2546]; scaled delta is [-0.0255]\n",
      "[ATE:250]  [1.908225178718567, 1.8957451581954956, 1.922136902809143, 1.910640835762024, 1.931782841682434, 1.9119484424591064, 1.9178187847137451, 1.904586672782898, 1.9223822355270386, 1.920350193977356]\n",
      "[ATE:250]  [2.05474401 2.19659948 2.20704556 2.21163368 2.01447749 2.14379358\n",
      " 2.12039042 2.1656518  2.29164314 2.28603387]\n",
      "[ATE:250]  reward at the end of time step is [-0.025463957786560035]\n"
     ]
    }
   ],
   "source": [
    "durations = []\n",
    "for ep in range(MAX_EPISODES):\n",
    "    print(f'[EP:{ep}] starting ...')\n",
    "    t = trainer.episode(ep)\n",
    "    durations.append(t)\n",
    "    \n",
    "    print(f'[EP:{ep}] done!')\n",
    "    display.clear_output(wait=True)\n"
   ]
  },
  {
   "cell_type": "code",
   "execution_count": null,
   "metadata": {},
   "outputs": [],
   "source": [
    "len(ate._competitor.history[0])"
   ]
  },
  {
   "cell_type": "code",
   "execution_count": null,
   "metadata": {},
   "outputs": [],
   "source": [
    "i = ate.time_step * ate.U"
   ]
  },
  {
   "cell_type": "code",
   "execution_count": null,
   "metadata": {},
   "outputs": [],
   "source": [
    "ate._competitor.history[0][-60:]"
   ]
  },
  {
   "cell_type": "code",
   "execution_count": null,
   "metadata": {},
   "outputs": [],
   "source": [
    "h = ate._competitor.history[1]"
   ]
  },
  {
   "cell_type": "code",
   "execution_count": null,
   "metadata": {},
   "outputs": [],
   "source": [
    "sns.set_style(\"whitegrid\")"
   ]
  },
  {
   "cell_type": "code",
   "execution_count": null,
   "metadata": {},
   "outputs": [],
   "source": [
    "sns.lineplot(x=range(len(h)),y=h)"
   ]
  },
  {
   "cell_type": "code",
   "execution_count": null,
   "metadata": {},
   "outputs": [],
   "source": []
  }
 ],
 "metadata": {
  "kernelspec": {
   "display_name": "Python 3",
   "language": "python",
   "name": "python3"
  },
  "language_info": {
   "codemirror_mode": {
    "name": "ipython",
    "version": 3
   },
   "file_extension": ".py",
   "mimetype": "text/x-python",
   "name": "python",
   "nbconvert_exporter": "python",
   "pygments_lexer": "ipython3",
   "version": "3.7.3"
  }
 },
 "nbformat": 4,
 "nbformat_minor": 4
}

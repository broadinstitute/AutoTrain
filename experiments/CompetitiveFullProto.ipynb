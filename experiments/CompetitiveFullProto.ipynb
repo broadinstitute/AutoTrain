{
 "cells": [
  {
   "cell_type": "markdown",
   "metadata": {},
   "source": [
    "# Experiment Meta"
   ]
  },
  {
   "cell_type": "code",
   "execution_count": 1,
   "metadata": {},
   "outputs": [],
   "source": [
    "import sys, time\n",
    "from pathlib import Path"
   ]
  },
  {
   "cell_type": "code",
   "execution_count": 2,
   "metadata": {},
   "outputs": [],
   "source": [
    "sys.path.append('..')"
   ]
  },
  {
   "cell_type": "code",
   "execution_count": 3,
   "metadata": {},
   "outputs": [],
   "source": [
    "DATA_ROOT = Path('../data')\n",
    "RESULTS_ROOT = Path('./results')\n",
    "EXP_DIR = RESULTS_ROOT / 'self_play_proto_0_control'\n",
    "EXP_DIR.mkdir(exist_ok=True)\n",
    "assert not len(list(EXP_DIR.iterdir()))"
   ]
  },
  {
   "cell_type": "markdown",
   "metadata": {},
   "source": [
    "# Experiment Setup"
   ]
  },
  {
   "cell_type": "code",
   "execution_count": 4,
   "metadata": {},
   "outputs": [],
   "source": [
    "import matplotlib\n",
    "import matplotlib.pyplot as plt\n",
    "\n",
    "import torch\n",
    "import torch.nn as nn\n",
    "import torch.optim as optim\n",
    "import torch.nn.functional as F\n",
    "\n",
    "import torchvision\n",
    "import torchvision.transforms as transforms\n",
    "\n",
    "import numpy as np\n",
    "import pandas as pd\n",
    "import seaborn as sns; sns.set(rc={'figure.figsize':(7,7)})\n",
    "from IPython import display\n",
    "\n",
    "import gym\n",
    "\n",
    "from tqdm.notebook import tqdm\n",
    "\n",
    "import autotrain\n",
    "\n",
    "import autotrain.envs.utils as utils\n",
    "from autotrain.envs import AutoTrainEnvironment, Clf, ClfEngine\n",
    "from autotrain.envs.thresholdout import Thresholdout\n",
    "\n",
    "import autotrain.agent.A2C.train as train\n",
    "import autotrain.agent.A2C.buffer as buffer"
   ]
  },
  {
   "cell_type": "code",
   "execution_count": 5,
   "metadata": {},
   "outputs": [],
   "source": [
    "from functools import partial"
   ]
  },
  {
   "cell_type": "code",
   "execution_count": 6,
   "metadata": {},
   "outputs": [],
   "source": [
    "DEVICE = torch.device(\"cuda:4\")"
   ]
  },
  {
   "cell_type": "code",
   "execution_count": 7,
   "metadata": {},
   "outputs": [],
   "source": [
    "CLASSES = ('plane', 'car', 'bird', 'cat',\n",
    "           'deer', 'dog', 'frog', 'horse', 'ship', 'truck')\n",
    "\n",
    "def reduceds(ds, pct_cap, no_signal=False):\n",
    "    X, Y = ds.data, ds.targets\n",
    "    \n",
    "    if pct_cap:\n",
    "        cap = int(pct_cap*len(X))\n",
    "        X, Y = X[:cap], Y[:cap]\n",
    "        \n",
    "    \n",
    "    if no_signal:\n",
    "        print('suffling labels')\n",
    "        np.random.shuffle(Y)\n",
    "    \n",
    "    ds.data, ds.targets = X, Y\n",
    "\n",
    "def get_dataset(tfms, no_signal=False, pct_cap=None):\n",
    "    train = torchvision.datasets.CIFAR10(root=DATA_ROOT / 'cifar-10-data', train=True,\n",
    "                                        download=True, transform=tfms)\n",
    "\n",
    "    holdout = torchvision.datasets.CIFAR10(root=DATA_ROOT / 'cifar-10-data', train=False,\n",
    "                                           download=True, transform=tfms)\n",
    "        \n",
    "    # train.data, train.targets = train.data.numpy(),train.targets.numpy()\n",
    "    # holdout.data, holdout.targets = holdout.data.numpy(),  holdout.targets.numpy()\n",
    "    \n",
    "    reduceds(train, pct_cap, no_signal)\n",
    "    \n",
    "    print(f'length of trainset: [{len(train)}]; len of holdout: [{len(holdout)}]')\n",
    "    \n",
    "    return train, holdout\n"
   ]
  },
  {
   "cell_type": "code",
   "execution_count": 8,
   "metadata": {},
   "outputs": [
    {
     "name": "stdout",
     "output_type": "stream",
     "text": [
      "Files already downloaded and verified\n",
      "Files already downloaded and verified\n",
      "length of trainset: [25000]; len of holdout: [10000]\n"
     ]
    }
   ],
   "source": [
    "TFMS = transforms.Compose(\n",
    "    [transforms.ToTensor(),\n",
    "     transforms.Normalize((0.5, 0.5, 0.5), (0.5, 0.5, 0.5))])\n",
    "\n",
    "trnds, valds = get_dataset(TFMS, pct_cap=0.5)"
   ]
  },
  {
   "cell_type": "code",
   "execution_count": 9,
   "metadata": {},
   "outputs": [],
   "source": [
    "def accuracy(data: torch.utils.data.DataLoader, model: nn.Module): # phi\n",
    "    model.eval()\n",
    "    correct = 0\n",
    "    total = 0\n",
    "    \n",
    "    with torch.no_grad():\n",
    "        for batch in tqdm(data,total=len(data)):\n",
    "            images, labels = batch[0].to(DEVICE), batch[1]\n",
    "            outputs = model(images).cpu()\n",
    "            _, predicted = torch.max(outputs.data, 1)\n",
    "            total += labels.size(0)\n",
    "            correct += (predicted == labels).sum().item()\n",
    "            \n",
    "    return correct / total"
   ]
  },
  {
   "cell_type": "markdown",
   "metadata": {},
   "source": [
    "## Model"
   ]
  },
  {
   "cell_type": "code",
   "execution_count": 10,
   "metadata": {},
   "outputs": [],
   "source": [
    "class Classifier(nn.Module):\n",
    "    def __init__(self):\n",
    "        super().__init__()\n",
    "        self.conv1 = nn.Conv2d(3, 32, 3, 1) # 1->3 for CIFAR\n",
    "        self.conv2 = nn.Conv2d(32, 64, 3, 1)\n",
    "        self.dropout1 = nn.Dropout2d(0.25)\n",
    "        self.dropout2 = nn.Dropout2d(0.5)\n",
    "        self.fc1 = nn.Linear(12544, 128)\n",
    "        self.fc2 = nn.Linear(128, len(CLASSES))\n",
    "\n",
    "    def forward(self, x):\n",
    "        x = self.conv1(x)\n",
    "        x = F.relu(x)\n",
    "        x = self.conv2(x)\n",
    "        x = F.relu(x)\n",
    "        x = F.max_pool2d(x, 2)\n",
    "        x = self.dropout1(x)\n",
    "        x = torch.flatten(x, 1)\n",
    "        x = self.fc1(x)\n",
    "        x = F.relu(x)\n",
    "        x = self.dropout2(x)\n",
    "        x = self.fc2(x)\n",
    "        output = F.log_softmax(x, dim=1)\n",
    "        return output"
   ]
  },
  {
   "cell_type": "code",
   "execution_count": 11,
   "metadata": {},
   "outputs": [],
   "source": [
    "model = Classifier()"
   ]
  },
  {
   "cell_type": "markdown",
   "metadata": {},
   "source": [
    "## Baseline"
   ]
  },
  {
   "cell_type": "code",
   "execution_count": 12,
   "metadata": {},
   "outputs": [],
   "source": [
    "\"\"\"\n",
    "model, trnds, valds, phi: callable,\n",
    "criterion: callable = nn.CrossEntropyLoss(), opt: callable = optim.SGD,\n",
    "lr_init=3e-4, bs_init=16, max_lr=3, dev=None, v=False\n",
    "\"\"\"\n",
    "\n",
    "baseline = ClfEngine(Classifier(), trnds, valds, accuracy, dev=DEVICE, v=True, opt=optim.SGD)"
   ]
  },
  {
   "cell_type": "code",
   "execution_count": 13,
   "metadata": {},
   "outputs": [
    {
     "data": {
      "text/plain": [
       "Clf(history=array([], shape=(3, 0), dtype=float64), result=array([], dtype=float64))"
      ]
     },
     "execution_count": 13,
     "metadata": {},
     "output_type": "execute_result"
    }
   ],
   "source": [
    "baseline.clf()"
   ]
  },
  {
   "cell_type": "code",
   "execution_count": 14,
   "metadata": {},
   "outputs": [
    {
     "name": "stdout",
     "output_type": "stream",
     "text": [
      "[clf_engine]  training loop: started for [15630] updates; BS=[16] LR=[0.0003]!\n"
     ]
    },
    {
     "data": {
      "application/vnd.jupyter.widget-view+json": {
       "model_id": "516db7e309194729a36d5426044d99b4",
       "version_major": 2,
       "version_minor": 0
      },
      "text/plain": [
       "HBox(children=(FloatProgress(value=0.0, max=1563.0), HTML(value='')))"
      ]
     },
     "metadata": {},
     "output_type": "display_data"
    },
    {
     "name": "stdout",
     "output_type": "stream",
     "text": [
      "\n",
      "[clf_engine]  training loop: started for [14067] updates; BS=[16] LR=[0.0003]!\n"
     ]
    },
    {
     "data": {
      "application/vnd.jupyter.widget-view+json": {
       "model_id": "edee065cb12842a6aeb99cc5a373ffc5",
       "version_major": 2,
       "version_minor": 0
      },
      "text/plain": [
       "HBox(children=(FloatProgress(value=0.0, max=1563.0), HTML(value='')))"
      ]
     },
     "metadata": {},
     "output_type": "display_data"
    },
    {
     "name": "stdout",
     "output_type": "stream",
     "text": [
      "\n",
      "[clf_engine]  training loop: started for [12504] updates; BS=[16] LR=[0.0003]!\n"
     ]
    },
    {
     "data": {
      "application/vnd.jupyter.widget-view+json": {
       "model_id": "071109fca19d43c9a589d3801bb35cd8",
       "version_major": 2,
       "version_minor": 0
      },
      "text/plain": [
       "HBox(children=(FloatProgress(value=0.0, max=1563.0), HTML(value='')))"
      ]
     },
     "metadata": {},
     "output_type": "display_data"
    },
    {
     "name": "stdout",
     "output_type": "stream",
     "text": [
      "\n",
      "[clf_engine]  training loop: started for [10941] updates; BS=[16] LR=[0.0003]!\n"
     ]
    },
    {
     "data": {
      "application/vnd.jupyter.widget-view+json": {
       "model_id": "937844cb845c43ec962ca33c0be50317",
       "version_major": 2,
       "version_minor": 0
      },
      "text/plain": [
       "HBox(children=(FloatProgress(value=0.0, max=1563.0), HTML(value='')))"
      ]
     },
     "metadata": {},
     "output_type": "display_data"
    },
    {
     "name": "stdout",
     "output_type": "stream",
     "text": [
      "\n",
      "[clf_engine]  training loop: started for [9378] updates; BS=[16] LR=[0.0003]!\n"
     ]
    },
    {
     "data": {
      "application/vnd.jupyter.widget-view+json": {
       "model_id": "3b0925c4b86e4e2fac26d07b15e90b8d",
       "version_major": 2,
       "version_minor": 0
      },
      "text/plain": [
       "HBox(children=(FloatProgress(value=0.0, max=1563.0), HTML(value='')))"
      ]
     },
     "metadata": {},
     "output_type": "display_data"
    },
    {
     "name": "stdout",
     "output_type": "stream",
     "text": [
      "\n",
      "[clf_engine]  training loop: started for [7815] updates; BS=[16] LR=[0.0003]!\n"
     ]
    },
    {
     "data": {
      "application/vnd.jupyter.widget-view+json": {
       "model_id": "6376e3d9306449d0974c9ec37af4c935",
       "version_major": 2,
       "version_minor": 0
      },
      "text/plain": [
       "HBox(children=(FloatProgress(value=0.0, max=1563.0), HTML(value='')))"
      ]
     },
     "metadata": {},
     "output_type": "display_data"
    },
    {
     "name": "stdout",
     "output_type": "stream",
     "text": [
      "\n",
      "[clf_engine]  training loop: started for [6252] updates; BS=[16] LR=[0.0003]!\n"
     ]
    },
    {
     "data": {
      "application/vnd.jupyter.widget-view+json": {
       "model_id": "6ac348e42e57498ca89ff99228f31e76",
       "version_major": 2,
       "version_minor": 0
      },
      "text/plain": [
       "HBox(children=(FloatProgress(value=0.0, max=1563.0), HTML(value='')))"
      ]
     },
     "metadata": {},
     "output_type": "display_data"
    },
    {
     "name": "stdout",
     "output_type": "stream",
     "text": [
      "\n",
      "[clf_engine]  training loop: started for [4689] updates; BS=[16] LR=[0.0003]!\n"
     ]
    },
    {
     "data": {
      "application/vnd.jupyter.widget-view+json": {
       "model_id": "4edd320c0ebe473daba5739334c15921",
       "version_major": 2,
       "version_minor": 0
      },
      "text/plain": [
       "HBox(children=(FloatProgress(value=0.0, max=1563.0), HTML(value='')))"
      ]
     },
     "metadata": {},
     "output_type": "display_data"
    },
    {
     "name": "stdout",
     "output_type": "stream",
     "text": [
      "\n",
      "[clf_engine]  training loop: started for [3126] updates; BS=[16] LR=[0.0003]!\n"
     ]
    },
    {
     "data": {
      "application/vnd.jupyter.widget-view+json": {
       "model_id": "2a5f282f7a0146389b1ddc4fbf05180d",
       "version_major": 2,
       "version_minor": 0
      },
      "text/plain": [
       "HBox(children=(FloatProgress(value=0.0, max=1563.0), HTML(value='')))"
      ]
     },
     "metadata": {},
     "output_type": "display_data"
    },
    {
     "name": "stdout",
     "output_type": "stream",
     "text": [
      "\n",
      "[clf_engine]  training loop: started for [1563] updates; BS=[16] LR=[0.0003]!\n"
     ]
    },
    {
     "data": {
      "application/vnd.jupyter.widget-view+json": {
       "model_id": "a362f070faf4434c839a3489142ffa51",
       "version_major": 2,
       "version_minor": 0
      },
      "text/plain": [
       "HBox(children=(FloatProgress(value=0.0, max=1563.0), HTML(value='')))"
      ]
     },
     "metadata": {},
     "output_type": "display_data"
    },
    {
     "name": "stdout",
     "output_type": "stream",
     "text": [
      "\n",
      "[clf_engine]  training loop: done!\n"
     ]
    }
   ],
   "source": [
    "baseline.do_updates(len(baseline.trndl) * 10)"
   ]
  },
  {
   "cell_type": "code",
   "execution_count": 15,
   "metadata": {},
   "outputs": [
    {
     "data": {
      "text/plain": [
       "15630"
      ]
     },
     "execution_count": 15,
     "metadata": {},
     "output_type": "execute_result"
    }
   ],
   "source": [
    "baseline.optim_step"
   ]
  },
  {
   "cell_type": "code",
   "execution_count": 16,
   "metadata": {},
   "outputs": [
    {
     "data": {
      "application/vnd.jupyter.widget-view+json": {
       "model_id": "cd3688cfc5eb4e56ada92459661aae12",
       "version_major": 2,
       "version_minor": 0
      },
      "text/plain": [
       "HBox(children=(FloatProgress(value=0.0, max=1563.0), HTML(value='')))"
      ]
     },
     "metadata": {},
     "output_type": "display_data"
    },
    {
     "name": "stdout",
     "output_type": "stream",
     "text": [
      "\n"
     ]
    },
    {
     "data": {
      "application/vnd.jupyter.widget-view+json": {
       "model_id": "75d60d8bf7d743d49b2478957ec9191c",
       "version_major": 2,
       "version_minor": 0
      },
      "text/plain": [
       "HBox(children=(FloatProgress(value=0.0, max=625.0), HTML(value='')))"
      ]
     },
     "metadata": {},
     "output_type": "display_data"
    },
    {
     "name": "stdout",
     "output_type": "stream",
     "text": [
      "\n"
     ]
    }
   ],
   "source": [
    "baseline.result += [baseline.test()]"
   ]
  },
  {
   "cell_type": "code",
   "execution_count": 17,
   "metadata": {},
   "outputs": [],
   "source": [
    "baseline_clf=baseline.clf()"
   ]
  },
  {
   "cell_type": "code",
   "execution_count": 18,
   "metadata": {},
   "outputs": [
    {
     "data": {
      "text/plain": [
       "((3, 15630), array([0.35528]))"
      ]
     },
     "execution_count": 18,
     "metadata": {},
     "output_type": "execute_result"
    }
   ],
   "source": [
    "baseline_clf.history.shape, baseline_clf.result"
   ]
  },
  {
   "cell_type": "code",
   "execution_count": 19,
   "metadata": {},
   "outputs": [
    {
     "data": {
      "text/plain": [
       "<matplotlib.axes._subplots.AxesSubplot at 0x7efe88e9cf60>"
      ]
     },
     "execution_count": 19,
     "metadata": {},
     "output_type": "execute_result"
    },
    {
     "data": {
      "image/png": "[encoded data removed]",
      "text/plain": [
       "<Figure size 504x504 with 1 Axes>"
      ]
     },
     "metadata": {},
     "output_type": "display_data"
    }
   ],
   "source": [
    "sns.lineplot(x=range(len(baseline_clf.history[0])), y=baseline_clf.history[0])"
   ]
  },
  {
   "cell_type": "markdown",
   "metadata": {},
   "source": [
    "## Env"
   ]
  },
  {
   "cell_type": "code",
   "execution_count": 20,
   "metadata": {},
   "outputs": [],
   "source": [
    "U = 30\n",
    "horizon = 500\n",
    "\n",
    "BPE = len(trnds) // 16"
   ]
  },
  {
   "cell_type": "code",
   "execution_count": 21,
   "metadata": {},
   "outputs": [
    {
     "data": {
      "text/plain": [
       "9"
      ]
     },
     "execution_count": 21,
     "metadata": {},
     "output_type": "execute_result"
    }
   ],
   "source": [
    "(U*horizon )// BPE"
   ]
  },
  {
   "cell_type": "code",
   "execution_count": 22,
   "metadata": {},
   "outputs": [],
   "source": [
    "ate = gym.make('AutoTrain-v0')\n",
    "ate.set_config()\n",
    "ate.seed()"
   ]
  },
  {
   "cell_type": "code",
   "execution_count": 23,
   "metadata": {},
   "outputs": [
    {
     "name": "stderr",
     "output_type": "stream",
     "text": [
      "/home/jupyter-skenjeye@broadinst-05974/.local/lib/python3.7/site-packages/gym/logger.py:30: UserWarning: \u001b[33mWARN: Box bound precision lowered by casting to float32\u001b[0m\n",
      "  warnings.warn(colorize('%s: %s'%('WARN', msg % args), 'yellow'))\n"
     ]
    },
    {
     "name": "stdout",
     "output_type": "stream",
     "text": [
      "[ATE:0]  environment initialised : <autotrain.envs.autotrain_env.AutoTrainEnvironment object at 0x7efe88df1208>\n"
     ]
    }
   ],
   "source": [
    "\"\"\"\n",
    "baseline: Clf, competitor: ClfEngine, savedir: Path,\n",
    "U=30, horizon=50, step_reward=0.1, terminal_reward=10, update_penalty=0.1,\n",
    "num_workers=4, v=False, device=None\n",
    "\"\"\"\n",
    "_ = ate.init(baseline=baseline_clf,  \n",
    "         competitor=ClfEngine(Classifier(),trnds, valds, accuracy, dev=DEVICE, v=True, opt=optim.SGD), \n",
    "         savedir=EXP_DIR, U=30, horizon=500, device=DEVICE, v=True, o_dim=(256, 256))"
   ]
  },
  {
   "cell_type": "code",
   "execution_count": 24,
   "metadata": {},
   "outputs": [
    {
     "data": {
      "image/png": "[encoded data removed]",
      "text/plain": [
       "<Figure size 648x648 with 6 Axes>"
      ]
     },
     "metadata": {},
     "output_type": "display_data"
    }
   ],
   "source": [
    "fg = ate.render()"
   ]
  },
  {
   "cell_type": "markdown",
   "metadata": {},
   "source": [
    "## Agent"
   ]
  },
  {
   "cell_type": "markdown",
   "metadata": {},
   "source": [
    "env: AutoTrainEnvironment, state_shape: np.array, action_dim: int,\n",
    "action_lim: np.array, ram, savedir: Path, bs=32, lr=3e-4, dev=None"
   ]
  },
  {
   "cell_type": "code",
   "execution_count": 25,
   "metadata": {},
   "outputs": [],
   "source": [
    "MAX_EPISODES = 1_000\n",
    "MAX_BUFFER = 1_000_000\n",
    "\n",
    "S_DIM = ate.observation_space.shape\n",
    "A_DIM = ate.action_space.shape[0]\n",
    "A_MAX = ate.action_space.high\n",
    "\n",
    "ram = buffer.MemoryBuffer(MAX_BUFFER)\n",
    "trainer = train.Trainer(ate, S_DIM, A_DIM, A_MAX, ram, savedir=EXP_DIR, dev=DEVICE)"
   ]
  },
  {
   "cell_type": "markdown",
   "metadata": {},
   "source": [
    "# Experiment Execution"
   ]
  },
  {
   "cell_type": "markdown",
   "metadata": {},
   "source": [
    "## Agent Training Loop"
   ]
  },
  {
   "cell_type": "code",
   "execution_count": null,
   "metadata": {},
   "outputs": [
    {
     "name": "stdout",
     "output_type": "stream",
     "text": [
      "[EP:0] starting ...\n",
      "[clf_engine]  re-init complete\n"
     ]
    },
    {
     "name": "stderr",
     "output_type": "stream",
     "text": [
      "/home/jupyter-skenjeye@broadinst-05974/.local/lib/python3.7/site-packages/gym/logger.py:30: UserWarning: \u001b[33mWARN: Box bound precision lowered by casting to float32\u001b[0m\n",
      "  warnings.warn(colorize('%s: %s'%('WARN', msg % args), 'yellow'))\n"
     ]
    },
    {
     "name": "stdout",
     "output_type": "stream",
     "text": [
      "[ATE:0]  environment initialised : <autotrain.envs.autotrain_env.AutoTrainEnvironment object at 0x7efe88df1208>\n",
      "[ATE:0]  action [[1.09308879 0.89319987 0.48093207 0.46074847]] recieved\n",
      "[clf_engine]  scaled BS by [1.0930887872957937]; BS=[17]\n",
      "[clf_engine]  scaled LR by [0.8931998713987693]; LR=[0.0003]\n",
      "[clf_engine]  training loop: started for [30] updates; BS=[17] LR=[0.00026795996141963077]!\n"
     ]
    },
    {
     "data": {
      "application/vnd.jupyter.widget-view+json": {
       "model_id": "69c72a774bba4f308c61bc83f6ad646e",
       "version_major": 2,
       "version_minor": 0
      },
      "text/plain": [
       "HBox(children=(FloatProgress(value=0.0, max=1471.0), HTML(value='')))"
      ]
     },
     "metadata": {},
     "output_type": "display_data"
    },
    {
     "name": "stdout",
     "output_type": "stream",
     "text": [
      "\n",
      "[clf_engine]  training loop: done!\n",
      "[ATE:1]  delta is: [0.0092]; scaled delta is [0.0009]\n",
      "[ATE:1]  [2.3464272022247314, 2.3204803466796875, 2.311323881149292, 2.354248046875, 2.2811219692230225, 2.3160667419433594, 2.2888412475585938, 2.3721065521240234, 2.268167495727539, 2.3176398277282715]\n",
      "[ATE:1]  [2.30199552 2.28984737 2.30422854 2.30679798 2.31086946 2.28675294\n",
      " 2.31137419 2.32247281 2.33111858 2.31946421]\n",
      "[ATE:1]  reward at the end of time step is [0.0009150171279907138]\n",
      "[ATA episode 0]: took [4.3] seconds for one full step\n",
      "[ATE:1]  action [[1.250785   0.8858862  0.45830127 0.46908915]] recieved\n",
      "[clf_engine]  scaled BS by [1.250784996654421]; BS=[21]\n",
      "[clf_engine]  scaled LR by [0.8858862004058673]; LR=[0.00026795996141963077]\n",
      "[clf_engine]  training loop: started for [30] updates; BS=[21] LR=[0.0002373820320829395]!\n"
     ]
    },
    {
     "data": {
      "application/vnd.jupyter.widget-view+json": {
       "model_id": "08f2ee63100843248e415a770a698e15",
       "version_major": 2,
       "version_minor": 0
      },
      "text/plain": [
       "HBox(children=(FloatProgress(value=0.0, max=1191.0), HTML(value='')))"
      ]
     },
     "metadata": {},
     "output_type": "display_data"
    },
    {
     "name": "stdout",
     "output_type": "stream",
     "text": [
      "\n",
      "[clf_engine]  training loop: done!\n",
      "[ATE:2]  delta is: [0.0281]; scaled delta is [0.0028]\n",
      "[ATE:2]  [2.3558998107910156, 2.314642906188965, 2.3474764823913574, 2.3556246757507324, 2.309558391571045, 2.26275372505188, 2.3205573558807373, 2.3172175884246826, 2.3243439197540283, 2.341383695602417]\n",
      "[ATE:2]  [2.28584123 2.30329084 2.28398776 2.29987979 2.30531788 2.27243328\n",
      " 2.29202318 2.30917263 2.30914831 2.30753446]\n",
      "[ATE:2]  reward at the end of time step is [0.002808291912078831]\n",
      "[ATA episode 0]: took [4.1] seconds for one full step\n",
      "[ATE:2]  action [[1.19418077 1.08100845 0.44479625 0.47418785]] recieved\n",
      "[clf_engine]  scaled BS by [1.1941807717522008]; BS=[25]\n",
      "[clf_engine]  scaled LR by [1.0810084466526144]; LR=[0.0002373820320829395]\n",
      "[clf_engine]  training loop: started for [30] updates; BS=[25] LR=[0.00025661198176521954]!\n"
     ]
    },
    {
     "data": {
      "application/vnd.jupyter.widget-view+json": {
       "model_id": "7e9d56ee63864becae9162611f847542",
       "version_major": 2,
       "version_minor": 0
      },
      "text/plain": [
       "HBox(children=(FloatProgress(value=0.0, max=1000.0), HTML(value='')))"
      ]
     },
     "metadata": {},
     "output_type": "display_data"
    },
    {
     "name": "stdout",
     "output_type": "stream",
     "text": [
      "\n",
      "[clf_engine]  training loop: done!\n",
      "[ATE:3]  delta is: [0.0171]; scaled delta is [0.0017]\n",
      "[ATE:3]  [2.3234124183654785, 2.335244655609131, 2.3246963024139404, 2.351278781890869, 2.31013560295105, 2.2843050956726074, 2.2975525856018066, 2.319615125656128, 2.3374392986297607, 2.322500705718994]\n",
      "[ATE:3]  [2.3072474  2.29463959 2.29429102 2.30367351 2.30659676 2.30786061\n",
      " 2.30676365 2.3033843  2.30733657 2.30314207]\n",
      "[ATE:3]  reward at the end of time step is [0.0017124509811401456]\n",
      "[ATA episode 0]: took [4.1] seconds for one full step\n",
      "[ATE:3]  action [[1.17422685 0.80466478 0.3919065  0.40302019]] recieved\n",
      "[clf_engine]  scaled BS by [1.174226853032136]; BS=[29]\n",
      "[clf_engine]  scaled LR by [0.8046647848021733]; LR=[0.00025661198176521954]\n",
      "[clf_engine]  training loop: started for [30] updates; BS=[29] LR=[0.0002064866250847696]!\n"
     ]
    },
    {
     "data": {
      "application/vnd.jupyter.widget-view+json": {
       "model_id": "7b9227f4889f4efa9cfcd76f22d87f90",
       "version_major": 2,
       "version_minor": 0
      },
      "text/plain": [
       "HBox(children=(FloatProgress(value=0.0, max=863.0), HTML(value='')))"
      ]
     },
     "metadata": {},
     "output_type": "display_data"
    },
    {
     "name": "stdout",
     "output_type": "stream",
     "text": [
      "\n",
      "[clf_engine]  training loop: done!\n",
      "[ATE:4]  delta is: [0.0072]; scaled delta is [0.0007]\n",
      "[ATE:4]  [2.2853286266326904, 2.3159945011138916, 2.3111205101013184, 2.3052332401275635, 2.2793779373168945, 2.3202438354492188, 2.316025733947754, 2.2916946411132812, 2.3093972206115723, 2.327239751815796]\n",
      "[ATE:4]  [2.28428745 2.29990554 2.28221464 2.29666901 2.29554105 2.31435394\n",
      " 2.30810571 2.30499911 2.2959733  2.30761337]\n",
      "[ATE:4]  reward at the end of time step is [0.0007199287414550782]\n",
      "[ATA episode 0]: took [4.1] seconds for one full step\n",
      "[ATE:4]  action [[1.12092962 0.72365427 0.44587659 0.39090407]] recieved\n",
      "[clf_engine]  scaled BS by [1.1209296203837207]; BS=[32]\n",
      "[clf_engine]  scaled LR by [0.723654271166891]; LR=[0.0002064866250847696]\n",
      "[clf_engine]  training loop: started for [30] updates; BS=[32] LR=[0.00014942492818143002]!\n"
     ]
    },
    {
     "data": {
      "application/vnd.jupyter.widget-view+json": {
       "model_id": "bbb14032f1024467953ae727763afe88",
       "version_major": 2,
       "version_minor": 0
      },
      "text/plain": [
       "HBox(children=(FloatProgress(value=0.0, max=782.0), HTML(value='')))"
      ]
     },
     "metadata": {},
     "output_type": "display_data"
    },
    {
     "name": "stdout",
     "output_type": "stream",
     "text": [
      "\n",
      "[clf_engine]  training loop: done!\n",
      "[ATE:5]  delta is: [0.0021]; scaled delta is [0.0002]\n",
      "[ATE:5]  [2.3225350379943848, 2.303816795349121, 2.3518900871276855, 2.305267333984375, 2.279387950897217, 2.2836196422576904, 2.283853530883789, 2.319946765899658, 2.3205068111419678, 2.2867283821105957]\n",
      "[ATE:5]  [2.28204823 2.31153131 2.30815029 2.28892922 2.32862663 2.31832361\n",
      " 2.31053257 2.29837179 2.2960093  2.29381442]\n",
      "[ATE:5]  reward at the end of time step is [0.000212149620056179]\n",
      "[ATA episode 0]: took [4.0] seconds for one full step\n",
      "[ATE:5]  action [[1.16376125 0.84879199 0.50330337 0.4538173 ]] recieved\n",
      "[clf_engine]  scaled BS by [1.1637612471872798]; BS=[37]\n",
      "[clf_engine]  scaled LR by [0.8487919855042808]; LR=[0.00014942492818143002]\n",
      "[clf_engine]  training loop: started for [30] updates; BS=[37] LR=[0.00012683068147495056]!\n"
     ]
    },
    {
     "data": {
      "application/vnd.jupyter.widget-view+json": {
       "model_id": "d116121ec676486a8afbc8a052c26c22",
       "version_major": 2,
       "version_minor": 0
      },
      "text/plain": [
       "HBox(children=(FloatProgress(value=0.0, max=676.0), HTML(value='')))"
      ]
     },
     "metadata": {},
     "output_type": "display_data"
    },
    {
     "name": "stdout",
     "output_type": "stream",
     "text": [
      "\n",
      "[clf_engine]  training loop: done!\n",
      "[ATE:6]  delta is: [-0.0006]; scaled delta is [-0.0001]\n",
      "[ATE:6]  [2.316702127456665, 2.2737081050872803, 2.3032097816467285, 2.35142183303833, 2.309154510498047, 2.2989988327026367, 2.2843329906463623, 2.3016014099121094, 2.289759874343872, 2.2987918853759766]\n",
      "[ATE:6]  [2.32058907 2.29318213 2.30235839 2.3159039  2.27655387 2.28889799\n",
      " 2.30539966 2.30133367 2.31542587 2.31364417]\n",
      "[ATE:6]  reward at the end of time step is [-5.607366561890537e-05]\n",
      "[ATA episode 0]: took [3.8] seconds for one full step\n",
      "[ATE:6]  action [[1.12644004 1.00623203 0.5277173  0.45397432]] recieved\n",
      "[clf_engine]  scaled BS by [1.1264400416827165]; BS=[41]\n",
      "[clf_engine]  scaled LR by [1.0062320251951777]; LR=[0.00012683068147495056]\n",
      "[clf_engine]  training loop: started for [30] updates; BS=[41] LR=[0.000127621093477424]!\n"
     ]
    },
    {
     "data": {
      "application/vnd.jupyter.widget-view+json": {
       "model_id": "308b96ebf55e40329f64f332f7bb91a4",
       "version_major": 2,
       "version_minor": 0
      },
      "text/plain": [
       "HBox(children=(FloatProgress(value=0.0, max=610.0), HTML(value='')))"
      ]
     },
     "metadata": {},
     "output_type": "display_data"
    },
    {
     "name": "stdout",
     "output_type": "stream",
     "text": [
      "\n",
      "[clf_engine]  training loop: done!\n",
      "[ATE:7]  delta is: [0.0045]; scaled delta is [0.0004]\n",
      "[ATE:7]  [2.2861545085906982, 2.27554988861084, 2.3129642009735107, 2.315737009048462, 2.254826307296753, 2.3510348796844482, 2.325249195098877, 2.323451519012451, 2.300008535385132, 2.360085964202881]\n",
      "[ATE:7]  [2.30478883 2.30483818 2.31082201 2.31126761 2.29985523 2.30050683\n",
      " 2.30060196 2.32353139 2.2971549  2.30712008]\n",
      "[ATE:7]  reward at the end of time step is [0.0004457497596740634]\n",
      "[ATA episode 0]: took [3.7] seconds for one full step\n",
      "[ATE:7]  action [[1.01442667 0.98900118 0.42362227 0.48368458]] recieved\n",
      "[clf_engine]  scaled BS by [1.014426671780438]; BS=[41]\n",
      "[clf_engine]  scaled LR by [0.989001177629162]; LR=[0.000127621093477424]\n",
      "[clf_engine]  training loop: started for [30] updates; BS=[41] LR=[0.0001262174117394937]!\n"
     ]
    },
    {
     "data": {
      "application/vnd.jupyter.widget-view+json": {
       "model_id": "a56c6d1f9de04e2c967a31715a13d58e",
       "version_major": 2,
       "version_minor": 0
      },
      "text/plain": [
       "HBox(children=(FloatProgress(value=0.0, max=610.0), HTML(value='')))"
      ]
     },
     "metadata": {},
     "output_type": "display_data"
    },
    {
     "name": "stdout",
     "output_type": "stream",
     "text": [
      "\n",
      "[clf_engine]  training loop: done!\n",
      "[ATE:8]  delta is: [0.0035]; scaled delta is [0.0003]\n",
      "[ATE:8]  [2.304049253463745, 2.2624974250793457, 2.3189680576324463, 2.327057361602783, 2.300825834274292, 2.272042751312256, 2.3302228450775146, 2.311699867248535, 2.3068535327911377, 2.3450119495391846]\n",
      "[ATE:8]  [2.31254029 2.31075454 2.30015373 2.30537319 2.31734538 2.32222009\n",
      " 2.29688072 2.28965497 2.30121541 2.28856373]\n",
      "[ATE:8]  reward at the end of time step is [0.0003452682495117099]\n",
      "[ATA episode 0]: took [3.7] seconds for one full step\n",
      "[ATE:8]  action [[0.9908737  1.0522752  0.42836791 0.46367812]] recieved\n",
      "[clf_engine]  scaled BS by [0.990873697102616]; BS=[40]\n",
      "[clf_engine]  scaled LR by [1.0522752015248955]; LR=[0.0001262174117394937]\n",
      "[clf_engine]  training loop: started for [30] updates; BS=[40] LR=[0.00013281545237412646]!\n"
     ]
    },
    {
     "data": {
      "application/vnd.jupyter.widget-view+json": {
       "model_id": "eb3de2be90764eb78591196f58ef2b19",
       "version_major": 2,
       "version_minor": 0
      },
      "text/plain": [
       "HBox(children=(FloatProgress(value=0.0, max=625.0), HTML(value='')))"
      ]
     },
     "metadata": {},
     "output_type": "display_data"
    },
    {
     "name": "stdout",
     "output_type": "stream",
     "text": [
      "\n",
      "[clf_engine]  training loop: done!\n",
      "[ATE:9]  delta is: [0.0038]; scaled delta is [0.0004]\n",
      "[ATE:9]  [2.2925310134887695, 2.293628454208374, 2.298353672027588, 2.3264670372009277, 2.3140170574188232, 2.350358724594116, 2.301158905029297, 2.298518180847168, 2.3323514461517334, 2.3194634914398193]\n",
      "[ATE:9]  [2.2783494  2.33228898 2.31510139 2.32026076 2.30188751 2.30479717\n",
      " 2.30317307 2.30162382 2.3109262  2.32023501]\n",
      "[ATE:9]  reward at the end of time step is [0.000382046699523908]\n",
      "[ATA episode 0]: took [3.5] seconds for one full step\n",
      "[ATE:9]  action [[1.05010716 1.16419384 0.44520862 0.54034285]] recieved\n",
      "[clf_engine]  scaled BS by [1.0501071607138663]; BS=[42]\n",
      "[clf_engine]  scaled LR by [1.164193840496749]; LR=[0.00013281545237412646]\n",
      "[clf_engine]  training loop: started for [30] updates; BS=[42] LR=[0.00015462293157674734]!\n"
     ]
    },
    {
     "data": {
      "application/vnd.jupyter.widget-view+json": {
       "model_id": "e6c8bdcfd8d4474d9e42284600277e7c",
       "version_major": 2,
       "version_minor": 0
      },
      "text/plain": [
       "HBox(children=(FloatProgress(value=0.0, max=596.0), HTML(value='')))"
      ]
     },
     "metadata": {},
     "output_type": "display_data"
    },
    {
     "name": "stdout",
     "output_type": "stream",
     "text": [
      "\n",
      "[clf_engine]  training loop: done!\n"
     ]
    },
    {
     "data": {
      "application/vnd.jupyter.widget-view+json": {
       "model_id": "93319a1d6e97444d9c0608e310bda4d0",
       "version_major": 2,
       "version_minor": 0
      },
      "text/plain": [
       "HBox(children=(FloatProgress(value=0.0, max=1563.0), HTML(value='')))"
      ]
     },
     "metadata": {},
     "output_type": "display_data"
    },
    {
     "name": "stdout",
     "output_type": "stream",
     "text": [
      "\n"
     ]
    },
    {
     "data": {
      "application/vnd.jupyter.widget-view+json": {
       "model_id": "a8ec69f66c0644f087d2658d0976efb3",
       "version_major": 2,
       "version_minor": 0
      },
      "text/plain": [
       "HBox(children=(FloatProgress(value=0.0, max=625.0), HTML(value='')))"
      ]
     },
     "metadata": {},
     "output_type": "display_data"
    },
    {
     "name": "stdout",
     "output_type": "stream",
     "text": [
      "\n",
      "[ATE:10]  delta is: [-0.0003]; scaled delta is [-0.0000]\n",
      "[ATE:10]  [2.2992007732391357, 2.3124091625213623, 2.2893383502960205, 2.2976622581481934, 2.2537684440612793, 2.3269221782684326, 2.3108654022216797, 2.283564805984497, 2.3263754844665527, 2.300130844116211]\n",
      "[ATE:10]  [2.2938199  2.27571893 2.30302763 2.30292368 2.30571461 2.30162477\n",
      " 2.30547309 2.29226065 2.30736136 2.31487107]\n",
      "[ATE:10]  reward at the end of time step is [-2.5579929351815522e-05]\n",
      "[ATA episode 0]: took [8.6] seconds for one full step\n",
      "[ATE:10]  action [[1.08738456 1.31094436 0.42824881 0.57864598]] recieved\n",
      "[clf_engine]  scaled BS by [1.087384563497577]; BS=[45]\n",
      "[clf_engine]  scaled LR by [1.3109443565932364]; LR=[0.00015462293157674734]\n",
      "[clf_engine]  training loop: started for [30] updates; BS=[45] LR=[0.00020270205955043907]!\n"
     ]
    },
    {
     "data": {
      "application/vnd.jupyter.widget-view+json": {
       "model_id": "1b71e451b73b4416927ad443006946f0",
       "version_major": 2,
       "version_minor": 0
      },
      "text/plain": [
       "HBox(children=(FloatProgress(value=0.0, max=556.0), HTML(value='')))"
      ]
     },
     "metadata": {},
     "output_type": "display_data"
    },
    {
     "name": "stdout",
     "output_type": "stream",
     "text": [
      "\n",
      "[clf_engine]  training loop: done!\n",
      "[ATE:11]  delta is: [-0.0112]; scaled delta is [-0.0011]\n",
      "[ATE:11]  [2.2880618572235107, 2.312483787536621, 2.2503318786621094, 2.2995822429656982, 2.3066842555999756, 2.2851622104644775, 2.3069534301757812, 2.299922227859497, 2.291231393814087, 2.2925190925598145]\n",
      "[ATE:11]  [2.2918334  2.31127381 2.31289935 2.29878759 2.30510402 2.30379891\n",
      " 2.30384874 2.30253839 2.31143713 2.30325603]\n",
      "[ATE:11]  reward at the end of time step is [-0.001118450164794904]\n",
      "[ATA episode 0]: took [3.7] seconds for one full step\n",
      "[ATE:11]  action [[1.11408358 1.23044082 0.36385175 0.52430045]] recieved\n",
      "[clf_engine]  scaled BS by [1.1140835763502992]; BS=[50]\n",
      "[clf_engine]  scaled LR by [1.2304408186490718]; LR=[0.00020270205955043907]\n",
      "[clf_engine]  training loop: started for [30] updates; BS=[50] LR=[0.00024941288809509515]!\n"
     ]
    },
    {
     "data": {
      "application/vnd.jupyter.widget-view+json": {
       "model_id": "46f4abd04c57431eb590ab8dd4fec22e",
       "version_major": 2,
       "version_minor": 0
      },
      "text/plain": [
       "HBox(children=(FloatProgress(value=0.0, max=500.0), HTML(value='')))"
      ]
     },
     "metadata": {},
     "output_type": "display_data"
    },
    {
     "name": "stdout",
     "output_type": "stream",
     "text": [
      "\n",
      "[clf_engine]  training loop: done!\n",
      "[ATE:12]  delta is: [0.0023]; scaled delta is [0.0002]\n",
      "[ATE:12]  [2.3092422485351562, 2.2798562049865723, 2.3250656127929688, 2.2861413955688477, 2.3072876930236816, 2.333500623703003, 2.3143868446350098, 2.2906224727630615, 2.32260799407959, 2.291497230529785]\n",
      "[ATE:12]  [2.30783415 2.3142941  2.28605223 2.31712723 2.30322552 2.31472874\n",
      " 2.28978562 2.29286718 2.30827546 2.30340385]\n",
      "[ATE:12]  reward at the end of time step is [0.00022614240646361418]\n",
      "[ATA episode 0]: took [3.8] seconds for one full step\n",
      "[ATE:12]  action [[1.1590055  1.16683694 0.37918274 0.55925605]] recieved\n",
      "[clf_engine]  scaled BS by [1.1590055005025046]; BS=[57]\n",
      "[clf_engine]  scaled LR by [1.1668369428616472]; LR=[0.00024941288809509515]\n",
      "[clf_engine]  training loop: started for [30] updates; BS=[57] LR=[0.0002910241718551749]!\n"
     ]
    },
    {
     "data": {
      "application/vnd.jupyter.widget-view+json": {
       "model_id": "d0eedea0372b4a4893cf19cd9a9f9564",
       "version_major": 2,
       "version_minor": 0
      },
      "text/plain": [
       "HBox(children=(FloatProgress(value=0.0, max=439.0), HTML(value='')))"
      ]
     },
     "metadata": {},
     "output_type": "display_data"
    },
    {
     "name": "stdout",
     "output_type": "stream",
     "text": [
      "\n",
      "[clf_engine]  training loop: done!\n",
      "[ATE:13]  delta is: [-0.0020]; scaled delta is [-0.0002]\n",
      "[ATE:13]  [2.3048031330108643, 2.3240420818328857, 2.270122766494751, 2.2957379817962646, 2.2869081497192383, 2.301520824432373, 2.2955379486083984, 2.2832517623901367, 2.3091657161712646, 2.3021998405456543]\n",
      "[ATE:13]  [2.30549812 2.29493761 2.28944302 2.30335546 2.29356122 2.27998328\n",
      " 2.32695913 2.29733515 2.30905151 2.29349613]\n",
      "[ATE:13]  reward at the end of time step is [-0.00020330429077146663]\n",
      "[ATA episode 0]: took [3.9] seconds for one full step\n",
      "[ATE:13]  action [[1.05723624 1.20349588 0.44707971 0.60126344]] recieved\n",
      "[clf_engine]  scaled BS by [1.0572362448501078]; BS=[60]\n",
      "[clf_engine]  scaled LR by [1.2034958750701832]; LR=[0.0002910241718551749]\n",
      "[clf_engine]  training loop: started for [30] updates; BS=[60] LR=[0.0003502463903734191]!\n"
     ]
    },
    {
     "data": {
      "application/vnd.jupyter.widget-view+json": {
       "model_id": "ba992c2af267404e85fc3786ace797ce",
       "version_major": 2,
       "version_minor": 0
      },
      "text/plain": [
       "HBox(children=(FloatProgress(value=0.0, max=417.0), HTML(value='')))"
      ]
     },
     "metadata": {},
     "output_type": "display_data"
    },
    {
     "name": "stdout",
     "output_type": "stream",
     "text": [
      "\n",
      "[clf_engine]  training loop: done!\n",
      "[ATE:14]  delta is: [-0.0064]; scaled delta is [-0.0006]\n",
      "[ATE:14]  [2.291973829269409, 2.2745823860168457, 2.2921643257141113, 2.269657611846924, 2.2974090576171875, 2.2922863960266113, 2.3065907955169678, 2.2622358798980713, 2.3039426803588867, 2.3267292976379395]\n",
      "[ATE:14]  [2.27710724 2.28156996 2.27520227 2.30164766 2.30955935 2.30116844\n",
      " 2.30940747 2.32399058 2.28931379 2.31286812]\n",
      "[ATE:14]  reward at the end of time step is [-0.0006426262855529608]\n",
      "[ATA episode 0]: took [4.0] seconds for one full step\n",
      "[ATE:14]  action [[1.13540891 1.08987086 0.34537204 0.53921769]] recieved\n",
      "[clf_engine]  scaled BS by [1.13540891433629]; BS=[68]\n",
      "[clf_engine]  scaled LR by [1.0898708606947063]; LR=[0.0003502463903734191]\n",
      "[clf_engine]  training loop: started for [30] updates; BS=[68] LR=[0.00038172333493149236]!\n"
     ]
    },
    {
     "data": {
      "application/vnd.jupyter.widget-view+json": {
       "model_id": "71723b64d94f4473a776b543250c9542",
       "version_major": 2,
       "version_minor": 0
      },
      "text/plain": [
       "HBox(children=(FloatProgress(value=0.0, max=368.0), HTML(value='')))"
      ]
     },
     "metadata": {},
     "output_type": "display_data"
    },
    {
     "name": "stdout",
     "output_type": "stream",
     "text": [
      "\n",
      "[clf_engine]  training loop: done!\n",
      "[ATE:15]  delta is: [-0.0173]; scaled delta is [-0.0017]\n",
      "[ATE:15]  [2.3055005073547363, 2.3159737586975098, 2.3029565811157227, 2.282726526260376, 2.300333023071289, 2.319664716720581, 2.2709829807281494, 2.292283296585083, 2.2931623458862305, 2.2829394340515137]\n",
      "[ATE:15]  [2.32045102 2.30720282 2.3190372  2.30763149 2.29926729 2.31523657\n",
      " 2.31363702 2.33242917 2.31001043 2.31413913]\n",
      "[ATE:15]  reward at the end of time step is [-0.0017251896858215155]\n",
      "[ATA episode 0]: took [3.7] seconds for one full step\n",
      "[ATE:15]  action [[1.07088449 1.02203259 0.37573087 0.49589976]] recieved\n",
      "[clf_engine]  scaled BS by [1.070884491365099]; BS=[72]\n",
      "[clf_engine]  scaled LR by [1.022032593718129]; LR=[0.00038172333493149236]\n",
      "[clf_engine]  training loop: started for [30] updates; BS=[72] LR=[0.00039013369008276716]!\n"
     ]
    },
    {
     "data": {
      "application/vnd.jupyter.widget-view+json": {
       "model_id": "b66051de26434d9ab5bc1af057d2f05e",
       "version_major": 2,
       "version_minor": 0
      },
      "text/plain": [
       "HBox(children=(FloatProgress(value=0.0, max=348.0), HTML(value='')))"
      ]
     },
     "metadata": {},
     "output_type": "display_data"
    },
    {
     "name": "stdout",
     "output_type": "stream",
     "text": [
      "\n",
      "[clf_engine]  training loop: done!\n",
      "[ATE:16]  delta is: [-0.0083]; scaled delta is [-0.0008]\n",
      "[ATE:16]  [2.2979040145874023, 2.2972676753997803, 2.2705793380737305, 2.2915141582489014, 2.268921375274658, 2.2924928665161133, 2.2740821838378906, 2.345395565032959, 2.2967710494995117, 2.2781896591186523]\n",
      "[ATE:16]  [2.31396103 2.30621862 2.28684139 2.3013103  2.28745389 2.28715754\n",
      " 2.29248786 2.32221007 2.31282759 2.28562903]\n",
      "[ATE:16]  reward at the end of time step is [-0.0008297944068909047]\n",
      "[ATA episode 0]: took [3.9] seconds for one full step\n",
      "[ATE:16]  action [[0.97616657 1.03850982 0.47510932 0.51921851]] recieved\n",
      "[clf_engine]  scaled BS by [0.9761665740170857]; BS=[70]\n",
      "[clf_engine]  scaled LR by [1.0385098223493696]; LR=[0.00039013369008276716]\n",
      "[clf_engine]  training loop: started for [30] updates; BS=[70] LR=[0.00040515766918035854]!\n"
     ]
    },
    {
     "data": {
      "application/vnd.jupyter.widget-view+json": {
       "model_id": "df34daef11c74f4a9cca125b5338dfc4",
       "version_major": 2,
       "version_minor": 0
      },
      "text/plain": [
       "HBox(children=(FloatProgress(value=0.0, max=358.0), HTML(value='')))"
      ]
     },
     "metadata": {},
     "output_type": "display_data"
    },
    {
     "name": "stdout",
     "output_type": "stream",
     "text": [
      "\n",
      "[clf_engine]  training loop: done!\n",
      "[ATE:17]  delta is: [-0.0144]; scaled delta is [-0.0014]\n",
      "[ATE:17]  [2.290569305419922, 2.2499313354492188, 2.2770957946777344, 2.2608084678649902, 2.2878212928771973, 2.2938969135284424, 2.296334981918335, 2.3092949390411377, 2.2952897548675537, 2.2799062728881836]\n",
      "[ATE:17]  [2.28447437 2.30227566 2.32364178 2.31177974 2.29977703 2.28772926\n",
      " 2.29441524 2.29901028 2.27959991 2.30220008]\n",
      "[ATE:17]  reward at the end of time step is [-0.0014395427703857155]\n",
      "[ATA episode 0]: took [3.8] seconds for one full step\n",
      "[ATE:17]  action [[0.74836704 1.32692385 0.49580188 0.50664064]] recieved\n",
      "[clf_engine]  scaled BS by [0.7483670395909165]; BS=[52]\n",
      "[clf_engine]  scaled LR by [1.3269238498062434]; LR=[0.00040515766918035854]\n",
      "[clf_engine]  training loop: started for [30] updates; BS=[52] LR=[0.0005376133741673257]!\n"
     ]
    },
    {
     "data": {
      "application/vnd.jupyter.widget-view+json": {
       "model_id": "7bc9358d73934ddaabadce8e50c03f52",
       "version_major": 2,
       "version_minor": 0
      },
      "text/plain": [
       "HBox(children=(FloatProgress(value=0.0, max=481.0), HTML(value='')))"
      ]
     },
     "metadata": {},
     "output_type": "display_data"
    },
    {
     "name": "stdout",
     "output_type": "stream",
     "text": [
      "\n",
      "[clf_engine]  training loop: done!\n",
      "[ATE:18]  delta is: [-0.0205]; scaled delta is [-0.0020]\n",
      "[ATE:18]  [2.29024338722229, 2.2666337490081787, 2.2590131759643555, 2.252777338027954, 2.2531309127807617, 2.268754243850708, 2.2630608081817627, 2.2835302352905273, 2.296475887298584, 2.317365884780884]\n",
      "[ATE:18]  [2.28311396 2.28429127 2.30438471 2.29052234 2.30562353 2.27935457\n",
      " 2.29909182 2.28762674 2.31417632 2.3077631 ]\n",
      "[ATE:18]  reward at the end of time step is [-0.00204962730407714]\n",
      "[ATA episode 0]: took [3.9] seconds for one full step\n",
      "[ATE:18]  action [[0.68915533 1.21829843 0.56017314 0.50898804]] recieved\n",
      "[clf_engine]  scaled BS by [0.6891553255770484]; BS=[35]\n",
      "[clf_engine]  scaled LR by [1.2182984288417127]; LR=[0.0005376133741673257]\n",
      "[clf_engine]  training loop: started for [30] updates; BS=[35] LR=[0.0006549735290723447]!\n"
     ]
    },
    {
     "data": {
      "application/vnd.jupyter.widget-view+json": {
       "model_id": "86bb5b9023794758a0f42d49e01855cf",
       "version_major": 2,
       "version_minor": 0
      },
      "text/plain": [
       "HBox(children=(FloatProgress(value=0.0, max=715.0), HTML(value='')))"
      ]
     },
     "metadata": {},
     "output_type": "display_data"
    },
    {
     "name": "stdout",
     "output_type": "stream",
     "text": [
      "\n",
      "[clf_engine]  training loop: done!\n",
      "[ATE:19]  delta is: [-0.0062]; scaled delta is [-0.0006]\n",
      "[ATE:19]  [2.2769203186035156, 2.2531275749206543, 2.320435047149658, 2.2626700401306152, 2.2961370944976807, 2.3113505840301514, 2.305438995361328, 2.2879269123077393, 2.296304941177368, 2.2950570583343506]\n",
      "[ATE:19]  [2.2937181  2.29832029 2.28047895 2.28456068 2.29751086 2.31887007\n",
      " 2.30630732 2.29805017 2.30647779 2.28300953]\n",
      "[ATE:19]  reward at the end of time step is [-0.000619351863861084]\n",
      "[ATA episode 0]: took [4.2] seconds for one full step\n",
      "[ATE:19]  action [[0.81177269 1.247393   0.57277815 0.57692662]] recieved\n",
      "[clf_engine]  scaled BS by [0.8117726862786316]; BS=[28]\n",
      "[clf_engine]  scaled LR by [1.247392996087923]; LR=[0.0006549735290723447]\n",
      "[clf_engine]  training loop: started for [30] updates; BS=[28] LR=[0.0008170093927878325]!\n"
     ]
    },
    {
     "data": {
      "application/vnd.jupyter.widget-view+json": {
       "model_id": "048ec82256af4ea388b3b6c863512569",
       "version_major": 2,
       "version_minor": 0
      },
      "text/plain": [
       "HBox(children=(FloatProgress(value=0.0, max=893.0), HTML(value='')))"
      ]
     },
     "metadata": {},
     "output_type": "display_data"
    },
    {
     "name": "stdout",
     "output_type": "stream",
     "text": [
      "\n",
      "[clf_engine]  training loop: done!\n"
     ]
    },
    {
     "data": {
      "application/vnd.jupyter.widget-view+json": {
       "model_id": "d51fc6b45c494edeb62b68e2b314bd15",
       "version_major": 2,
       "version_minor": 0
      },
      "text/plain": [
       "HBox(children=(FloatProgress(value=0.0, max=1563.0), HTML(value='')))"
      ]
     },
     "metadata": {},
     "output_type": "display_data"
    },
    {
     "name": "stdout",
     "output_type": "stream",
     "text": [
      "\n"
     ]
    },
    {
     "data": {
      "application/vnd.jupyter.widget-view+json": {
       "model_id": "a5f537fb6d984f0db1cb70aa0ed71af7",
       "version_major": 2,
       "version_minor": 0
      },
      "text/plain": [
       "HBox(children=(FloatProgress(value=0.0, max=625.0), HTML(value='')))"
      ]
     },
     "metadata": {},
     "output_type": "display_data"
    },
    {
     "name": "stdout",
     "output_type": "stream",
     "text": [
      "\n",
      "[ATE:20]  delta is: [-0.0332]; scaled delta is [-0.0033]\n",
      "[ATE:20]  [2.305366039276123, 2.286311388015747, 2.273179054260254, 2.3267321586608887, 2.2994790077209473, 2.256743907928467, 2.217287302017212, 2.2040202617645264, 2.292869806289673, 2.2791268825531006]\n",
      "[ATE:20]  [2.33117628 2.30600929 2.30730915 2.30758953 2.30572176 2.29736161\n",
      " 2.31564021 2.31634927 2.28661156 2.29957724]\n",
      "[ATE:20]  reward at the end of time step is [-0.003322300910949672]\n",
      "[ATA episode 0]: took [8.7] seconds for one full step\n",
      "[ATE:20]  action [[0.96516876 1.32340393 0.60095351 0.61909059]] recieved\n",
      "[clf_engine]  scaled BS by [0.9651687551271686]; BS=[27]\n",
      "[clf_engine]  scaled LR by [1.3234039307309275]; LR=[0.0008170093927878325]\n",
      "[clf_engine]  training loop: started for [30] updates; BS=[27] LR=[0.0010812334418595058]!\n"
     ]
    },
    {
     "data": {
      "application/vnd.jupyter.widget-view+json": {
       "model_id": "1b4ed41c751745509ccd00187b437f48",
       "version_major": 2,
       "version_minor": 0
      },
      "text/plain": [
       "HBox(children=(FloatProgress(value=0.0, max=926.0), HTML(value='')))"
      ]
     },
     "metadata": {},
     "output_type": "display_data"
    },
    {
     "name": "stdout",
     "output_type": "stream",
     "text": [
      "\n",
      "[clf_engine]  training loop: done!\n",
      "[ATE:21]  delta is: [-0.0145]; scaled delta is [-0.0015]\n",
      "[ATE:21]  [2.2698397636413574, 2.27388858795166, 2.252955913543701, 2.305680513381958, 2.2665598392486572, 2.287440061569214, 2.27475905418396, 2.2692935466766357, 2.3104114532470703, 2.2873411178588867]\n",
      "[ATE:21]  [2.29174113 2.28599787 2.31766915 2.32613611 2.27021122 2.29358315\n",
      " 2.29660749 2.28533745 2.28699636 2.28904724]\n",
      "[ATE:21]  reward at the end of time step is [-0.001451573371887216]\n",
      "[ATA episode 0]: took [4.1] seconds for one full step\n",
      "[ATE:21]  action [[1.03975609 1.33131473 0.56064037 0.67750444]] recieved\n",
      "[clf_engine]  scaled BS by [1.0397560900317504]; BS=[28]\n",
      "[clf_engine]  scaled LR by [1.3313147260909506]; LR=[0.0010812334418595058]\n",
      "[clf_engine]  training loop: started for [30] updates; BS=[28] LR=[0.0014394620034895637]!\n"
     ]
    },
    {
     "data": {
      "application/vnd.jupyter.widget-view+json": {
       "model_id": "0a3406eea0d644a3a9683ebd03192a34",
       "version_major": 2,
       "version_minor": 0
      },
      "text/plain": [
       "HBox(children=(FloatProgress(value=0.0, max=893.0), HTML(value='')))"
      ]
     },
     "metadata": {},
     "output_type": "display_data"
    },
    {
     "name": "stdout",
     "output_type": "stream",
     "text": [
      "\n",
      "[clf_engine]  training loop: done!\n",
      "[ATE:22]  delta is: [-0.0158]; scaled delta is [-0.0016]\n",
      "[ATE:22]  [2.2931787967681885, 2.2731873989105225, 2.253962755203247, 2.290024518966675, 2.3519606590270996, 2.3073184490203857, 2.291348934173584, 2.262511968612671, 2.297028064727783, 2.2369320392608643]\n",
      "[ATE:22]  [2.30013299 2.29152393 2.30217528 2.3026998  2.3015027  2.31557918\n",
      " 2.30023432 2.2975359  2.29419661 2.30955696]\n",
      "[ATE:22]  reward at the end of time step is [-0.001576840877532959]\n",
      "[ATA episode 0]: took [4.2] seconds for one full step\n",
      "[ATE:22]  action [[1.09189296 1.32699033 0.56689794 0.65346035]] recieved\n",
      "[clf_engine]  scaled BS by [1.0918929598954557]; BS=[30]\n",
      "[clf_engine]  scaled LR by [1.3269903305324022]; LR=[0.0014394620034895637]\n",
      "[clf_engine]  training loop: started for [30] updates; BS=[30] LR=[0.0019101521597994502]!\n"
     ]
    },
    {
     "data": {
      "application/vnd.jupyter.widget-view+json": {
       "model_id": "c812c8a61d274d37b22a9079b10d625e",
       "version_major": 2,
       "version_minor": 0
      },
      "text/plain": [
       "HBox(children=(FloatProgress(value=0.0, max=834.0), HTML(value='')))"
      ]
     },
     "metadata": {},
     "output_type": "display_data"
    },
    {
     "name": "stdout",
     "output_type": "stream",
     "text": [
      "\n",
      "[clf_engine]  training loop: done!\n",
      "[ATE:23]  delta is: [-0.0411]; scaled delta is [-0.0041]\n",
      "[ATE:23]  [2.2934203147888184, 2.2896499633789062, 2.2413580417633057, 2.286641836166382, 2.289405107498169, 2.2102482318878174, 2.2323644161224365, 2.263613700866699, 2.222573757171631, 2.3091835975646973]\n",
      "[ATE:23]  [2.32317448 2.32193327 2.28623557 2.28600526 2.29964614 2.29251385\n",
      " 2.31826091 2.29795408 2.31056976 2.31275988]\n",
      "[ATE:23]  reward at the end of time step is [-0.004105942249298078]\n",
      "[ATA episode 0]: took [4.2] seconds for one full step\n",
      "[ATE:23]  action [[0.98042569 1.23312425 0.54524552 0.54841428]] recieved\n",
      "[clf_engine]  scaled BS by [0.9804256942475593]; BS=[29]\n",
      "[clf_engine]  scaled LR by [1.2331242540022247]; LR=[0.0019101521597994502]\n",
      "[clf_engine]  training loop: started for [30] updates; BS=[29] LR=[0.0023554549570834354]!\n"
     ]
    },
    {
     "data": {
      "application/vnd.jupyter.widget-view+json": {
       "model_id": "e37812b159664fa2806dce6da2a8faf3",
       "version_major": 2,
       "version_minor": 0
      },
      "text/plain": [
       "HBox(children=(FloatProgress(value=0.0, max=863.0), HTML(value='')))"
      ]
     },
     "metadata": {},
     "output_type": "display_data"
    },
    {
     "name": "stdout",
     "output_type": "stream",
     "text": [
      "\n",
      "[clf_engine]  training loop: done!\n",
      "[ATE:24]  delta is: [-0.0569]; scaled delta is [-0.0057]\n",
      "[ATE:24]  [2.291757106781006, 2.302037477493286, 2.2634682655334473, 2.2230353355407715, 2.2315514087677, 2.229377508163452, 2.1822726726531982, 2.2265632152557373, 2.2560477256774902, 2.24212908744812]\n",
      "[ATE:24]  [2.29530573 2.29557228 2.31950903 2.30917168 2.30222321 2.3061657\n",
      " 2.28992128 2.29130793 2.3205421  2.28781223]\n",
      "[ATE:24]  reward at the end of time step is [-0.005692913532257116]\n",
      "[ATA episode 0]: took [4.1] seconds for one full step\n",
      "[ATE:24]  action [[1.29176138 0.95535889 0.58853473 0.54436071]] recieved\n",
      "[clf_engine]  scaled BS by [1.2917613791864837]; BS=[37]\n",
      "[clf_engine]  scaled LR by [0.9553588874211355]; LR=[0.0023554549570834354]\n",
      "[clf_engine]  training loop: started for [30] updates; BS=[37] LR=[0.0022503048271698294]!\n"
     ]
    },
    {
     "data": {
      "application/vnd.jupyter.widget-view+json": {
       "model_id": "00ebe3a6d32e419aa3346018dbe91469",
       "version_major": 2,
       "version_minor": 0
      },
      "text/plain": [
       "HBox(children=(FloatProgress(value=0.0, max=676.0), HTML(value='')))"
      ]
     },
     "metadata": {},
     "output_type": "display_data"
    },
    {
     "name": "stdout",
     "output_type": "stream",
     "text": [
      "\n",
      "[clf_engine]  training loop: done!\n",
      "[ATE:25]  delta is: [-0.0612]; scaled delta is [-0.0061]\n",
      "[ATE:25]  [2.2544281482696533, 2.2445521354675293, 2.2837562561035156, 2.2142014503479004, 2.2041923999786377, 2.2194974422454834, 2.2629895210266113, 2.266146183013916, 2.1450114250183105, 2.2890701293945312]\n",
      "[ATE:25]  [2.30275297 2.30757189 2.28179812 2.29482841 2.29758024 2.31894422\n",
      " 2.27852535 2.30065775 2.29244232 2.32065773]\n",
      "[ATE:25]  reward at the end of time step is [-0.006119139194488543]\n",
      "[ATA episode 0]: took [4.1] seconds for one full step\n",
      "[ATE:25]  action [[1.14143455 1.16692061 0.60148096 0.60299959]] recieved\n",
      "[clf_engine]  scaled BS by [1.1414345492254172]; BS=[42]\n",
      "[clf_engine]  scaled LR by [1.1669206072671447]; LR=[0.0022503048271698294]\n",
      "[clf_engine]  training loop: started for [30] updates; BS=[42] LR=[0.0026259270754572044]!\n"
     ]
    },
    {
     "data": {
      "application/vnd.jupyter.widget-view+json": {
       "model_id": "0d8d5ebf92114d83a2f38027e0766c29",
       "version_major": 2,
       "version_minor": 0
      },
      "text/plain": [
       "HBox(children=(FloatProgress(value=0.0, max=596.0), HTML(value='')))"
      ]
     },
     "metadata": {},
     "output_type": "display_data"
    },
    {
     "name": "stdout",
     "output_type": "stream",
     "text": [
      "\n",
      "[clf_engine]  training loop: done!\n",
      "[ATE:26]  delta is: [-0.0668]; scaled delta is [-0.0067]\n",
      "[ATE:26]  [2.243652820587158, 2.213874101638794, 2.2675235271453857, 2.18676495552063, 2.2242541313171387, 2.2646572589874268, 2.260341167449951, 2.192704200744629, 2.279303789138794, 2.1760129928588867]\n",
      "[ATE:26]  [2.30771136 2.2924571  2.30867696 2.30617118 2.28422546 2.27807736\n",
      " 2.30200148 2.30067658 2.29494429 2.3017683 ]\n",
      "[ATE:26]  reward at the end of time step is [-0.006676211357116691]\n",
      "[ATA episode 0]: took [4.1] seconds for one full step\n",
      "[ATE:26]  action [[1.33393446 1.29447304 0.64747329 0.64619726]] recieved\n",
      "[clf_engine]  scaled BS by [1.3339344557320474]; BS=[56]\n",
      "[clf_engine]  scaled LR by [1.2944730357030414]; LR=[0.0026259270754572044]\n",
      "[clf_engine]  training loop: started for [30] updates; BS=[56] LR=[0.0033991917929018967]!\n"
     ]
    },
    {
     "data": {
      "application/vnd.jupyter.widget-view+json": {
       "model_id": "a9510efdb7e841e7a0f5a3107b169997",
       "version_major": 2,
       "version_minor": 0
      },
      "text/plain": [
       "HBox(children=(FloatProgress(value=0.0, max=447.0), HTML(value='')))"
      ]
     },
     "metadata": {},
     "output_type": "display_data"
    },
    {
     "name": "stdout",
     "output_type": "stream",
     "text": [
      "\n",
      "[clf_engine]  training loop: done!\n",
      "[ATE:27]  delta is: [-0.0971]; scaled delta is [-0.0097]\n",
      "[ATE:27]  [2.0671515464782715, 2.2645208835601807, 2.24286150932312, 2.219999074935913, 2.1572320461273193, 2.210559129714966, 2.1887147426605225, 2.2527267932891846, 2.221824884414673, 2.17918062210083]\n",
      "[ATE:27]  [2.28267026 2.31059217 2.29655409 2.29332256 2.30729795 2.29624796\n",
      " 2.29302692 2.2934761  2.31139803 2.2910862 ]\n",
      "[ATE:27]  reward at the end of time step is [-0.009709010124206552]\n",
      "[ATA episode 0]: took [3.7] seconds for one full step\n",
      "[ATE:27]  action [[1.23547293 1.21437625 0.62438901 0.64562676]] recieved\n",
      "[clf_engine]  scaled BS by [1.2354729301964849]; BS=[69]\n",
      "[clf_engine]  scaled LR by [1.2143762532335638]; LR=[0.0033991917929018967]\n",
      "[clf_engine]  training loop: started for [30] updates; BS=[69] LR=[0.004127897793486485]!\n"
     ]
    },
    {
     "data": {
      "application/vnd.jupyter.widget-view+json": {
       "model_id": "9250dbd4636b4d96b5d32f2cedf19cba",
       "version_major": 2,
       "version_minor": 0
      },
      "text/plain": [
       "HBox(children=(FloatProgress(value=0.0, max=363.0), HTML(value='')))"
      ]
     },
     "metadata": {},
     "output_type": "display_data"
    },
    {
     "name": "stdout",
     "output_type": "stream",
     "text": [
      "\n",
      "[clf_engine]  training loop: done!\n",
      "[ATE:28]  delta is: [-0.0924]; scaled delta is [-0.0092]\n",
      "[ATE:28]  [2.1691386699676514, 2.228214740753174, 2.1989095211029053, 2.197179079055786, 2.1715195178985596, 2.2019357681274414, 2.226262092590332, 2.2200417518615723, 2.204780340194702, 2.212343692779541]\n",
      "[ATE:28]  [2.30950761 2.26807833 2.29412556 2.28684497 2.31215787 2.31509447\n",
      " 2.29365301 2.28110361 2.30488229 2.28863716]\n",
      "[ATE:28]  reward at the end of time step is [-0.009237596988677987]\n",
      "[ATA episode 0]: took [3.8] seconds for one full step\n",
      "[ATE:28]  action [[1.2130897  1.28872532 0.60472793 0.66091767]] recieved\n",
      "[clf_engine]  scaled BS by [1.2130896992268325]; BS=[83]\n",
      "[clf_engine]  scaled LR by [1.288725317536655]; LR=[0.004127897793486485]\n",
      "[clf_engine]  training loop: started for [30] updates; BS=[83] LR=[0.005319726394669729]!\n"
     ]
    },
    {
     "data": {
      "application/vnd.jupyter.widget-view+json": {
       "model_id": "4545ca97ae8d4a8b86449e06a134e80e",
       "version_major": 2,
       "version_minor": 0
      },
      "text/plain": [
       "HBox(children=(FloatProgress(value=0.0, max=302.0), HTML(value='')))"
      ]
     },
     "metadata": {},
     "output_type": "display_data"
    },
    {
     "name": "stdout",
     "output_type": "stream",
     "text": [
      "\n",
      "[clf_engine]  training loop: done!\n",
      "[ATE:29]  delta is: [-0.1470]; scaled delta is [-0.0147]\n",
      "[ATE:29]  [2.1707069873809814, 2.180145740509033, 2.131619691848755, 2.1451914310455322, 2.1735446453094482, 2.1373813152313232, 2.13010573387146, 2.1012914180755615, 2.132561206817627, 2.174053430557251]\n",
      "[ATE:29]  [2.29884124 2.2873373  2.28077555 2.29067707 2.28768921 2.28506613\n",
      " 2.30762172 2.30808592 2.29541254 2.30554962]\n",
      "[ATE:29]  reward at the end of time step is [-0.014704546928405771]\n",
      "[ATA episode 0]: took [4.1] seconds for one full step\n",
      "[ATE:29]  action [[1.11326162 1.24402897 0.61905588 0.59150918]] recieved\n",
      "[clf_engine]  scaled BS by [1.1132616244144788]; BS=[92]\n",
      "[clf_engine]  scaled LR by [1.2440289680107357]; LR=[0.005319726394669729]\n",
      "[clf_engine]  training loop: started for [30] updates; BS=[92] LR=[0.006617893736860454]!\n"
     ]
    },
    {
     "data": {
      "application/vnd.jupyter.widget-view+json": {
       "model_id": "28b01bf2276148f2b75730230831991c",
       "version_major": 2,
       "version_minor": 0
      },
      "text/plain": [
       "HBox(children=(FloatProgress(value=0.0, max=272.0), HTML(value='')))"
      ]
     },
     "metadata": {},
     "output_type": "display_data"
    },
    {
     "name": "stdout",
     "output_type": "stream",
     "text": [
      "\n",
      "[clf_engine]  training loop: done!\n"
     ]
    },
    {
     "data": {
      "application/vnd.jupyter.widget-view+json": {
       "model_id": "65cc926e48cf4893935d49f897a63a3c",
       "version_major": 2,
       "version_minor": 0
      },
      "text/plain": [
       "HBox(children=(FloatProgress(value=0.0, max=1563.0), HTML(value='')))"
      ]
     },
     "metadata": {},
     "output_type": "display_data"
    },
    {
     "name": "stdout",
     "output_type": "stream",
     "text": [
      "\n"
     ]
    },
    {
     "data": {
      "application/vnd.jupyter.widget-view+json": {
       "model_id": "1bf731f08862472ba16efa000513965c",
       "version_major": 2,
       "version_minor": 0
      },
      "text/plain": [
       "HBox(children=(FloatProgress(value=0.0, max=625.0), HTML(value='')))"
      ]
     },
     "metadata": {},
     "output_type": "display_data"
    },
    {
     "name": "stdout",
     "output_type": "stream",
     "text": [
      "\n",
      "[ATE:30]  delta is: [-0.1604]; scaled delta is [-0.0160]\n",
      "[ATE:30]  [2.0870838165283203, 2.1057209968566895, 2.2372379302978516, 2.2022364139556885, 2.087364912033081, 2.0989668369293213, 2.1052658557891846, 2.1789560317993164, 2.1041665077209473, 2.171816349029541]\n",
      "[ATE:30]  [2.31143785 2.27548265 2.29906249 2.31635523 2.31300163 2.31112456\n",
      " 2.28605938 2.29386616 2.29820871 2.27804327]\n",
      "[ATE:30]  reward at the end of time step is [-0.016038262844085695]\n",
      "[ATA episode 0]: took [8.6] seconds for one full step\n",
      "[ATE:30]  action [[1.23546601 1.2243668  0.60715288 0.5119641 ]] recieved\n",
      "[clf_engine]  scaled BS by [1.235466014009814]; BS=[113]\n",
      "[clf_engine]  scaled LR by [1.224366797654995]; LR=[0.006617893736860454]\n",
      "[clf_engine]  training loop: started for [30] updates; BS=[113] LR=[0.008102729361820882]!\n"
     ]
    },
    {
     "data": {
      "application/vnd.jupyter.widget-view+json": {
       "model_id": "c31a8971f2b041349a8cc036c16e921d",
       "version_major": 2,
       "version_minor": 0
      },
      "text/plain": [
       "HBox(children=(FloatProgress(value=0.0, max=222.0), HTML(value='')))"
      ]
     },
     "metadata": {},
     "output_type": "display_data"
    },
    {
     "name": "stdout",
     "output_type": "stream",
     "text": [
      "\n",
      "[clf_engine]  training loop: done!\n",
      "[ATE:31]  delta is: [-0.2028]; scaled delta is [-0.0203]\n",
      "[ATE:31]  [2.076198101043701, 2.0839779376983643, 2.0882415771484375, 2.08916974067688, 2.0904722213745117, 2.0517287254333496, 2.152468204498291, 2.1217007637023926, 2.0960183143615723, 2.0407326221466064]\n",
      "[ATE:31]  [2.30779552 2.30945015 2.27469134 2.29126763 2.31847954 2.29864907\n",
      " 2.30159235 2.26916599 2.28699851 2.26041579]\n",
      "[ATE:31]  reward at the end of time step is [-0.020277976989746094]\n",
      "[ATA episode 0]: took [4.0] seconds for one full step\n",
      "[ATE:31]  action [[1.28504938 1.28656099 0.62571742 0.51887852]] recieved\n",
      "[clf_engine]  scaled BS by [1.285049381849953]; BS=[145]\n",
      "[clf_engine]  scaled LR by [1.2865609928677844]; LR=[0.008102729361820882]\n",
      "[clf_engine]  training loop: started for [30] updates; BS=[145] LR=[0.010424655532683222]!\n"
     ]
    },
    {
     "data": {
      "application/vnd.jupyter.widget-view+json": {
       "model_id": "a437b7a8bb7d42f585739f42c94209d4",
       "version_major": 2,
       "version_minor": 0
      },
      "text/plain": [
       "HBox(children=(FloatProgress(value=0.0, max=173.0), HTML(value='')))"
      ]
     },
     "metadata": {},
     "output_type": "display_data"
    },
    {
     "name": "stdout",
     "output_type": "stream",
     "text": [
      "\n",
      "[clf_engine]  training loop: done!\n",
      "[ATE:32]  delta is: [-0.2267]; scaled delta is [-0.0227]\n",
      "[ATE:32]  [2.1682097911834717, 2.110947608947754, 2.1078929901123047, 2.002596378326416, 2.062870740890503, 2.0431859493255615, 2.0293850898742676, 2.0661418437957764, 2.092941999435425, 2.022714376449585]\n",
      "[ATE:32]  [2.28846097 2.31593895 2.2817452  2.30143261 2.29134655 2.31470942\n",
      " 2.29274035 2.31536412 2.28545952 2.28708363]\n",
      "[ATE:32]  reward at the end of time step is [-0.0226739454269409]\n",
      "[ATA] optimization step performed\n",
      "[ATA episode 0]: took [4.1] seconds for one full step\n",
      "[ATE:32]  action [[1.49792574 1.10458949 0.61071127 0.55798739]] recieved\n",
      "[clf_engine]  scaled BS by [1.4979257418296248]; BS=[217]\n",
      "[clf_engine]  scaled LR by [1.1045894860543866]; LR=[0.010424655532683222]\n",
      "[clf_engine]  training loop: started for [30] updates; BS=[217] LR=[0.011514964897140578]!\n"
     ]
    },
    {
     "data": {
      "application/vnd.jupyter.widget-view+json": {
       "model_id": "6f74e06dd4524ed2bf209cec7271ef7e",
       "version_major": 2,
       "version_minor": 0
      },
      "text/plain": [
       "HBox(children=(FloatProgress(value=0.0, max=116.0), HTML(value='')))"
      ]
     },
     "metadata": {},
     "output_type": "display_data"
    },
    {
     "name": "stdout",
     "output_type": "stream",
     "text": [
      "\n",
      "[clf_engine]  training loop: done!\n",
      "[ATE:33]  delta is: [-0.2801]; scaled delta is [-0.0280]\n",
      "[ATE:33]  [2.078368902206421, 2.0674402713775635, 1.9913170337677002, 1.969503402709961, 2.0145483016967773, 2.072801113128662, 2.0401625633239746, 1.9416478872299194, 1.9910862445831299, 2.0094311237335205]\n",
      "[ATE:33]  [2.29773521 2.30038023 2.28813577 2.32220697 2.29626417 2.31595826\n",
      " 2.29712224 2.28378463 2.29292679 2.28272319]\n",
      "[ATE:33]  reward at the end of time step is [-0.0280093061923981]\n",
      "[ATA] optimization step performed\n",
      "[ATA episode 0]: took [4.1] seconds for one full step\n",
      "[ATE:33]  action [[1.50363845 0.90725567 0.64646579 0.49112076]] recieved\n",
      "[clf_engine]  scaled BS by [1.5036384538480896]; BS=[326]\n",
      "[clf_engine]  scaled LR by [0.9072556678738104]; LR=[0.011514964897140578]\n",
      "[clf_engine]  training loop: started for [30] updates; BS=[326] LR=[0.010447017168298758]!\n"
     ]
    },
    {
     "data": {
      "application/vnd.jupyter.widget-view+json": {
       "model_id": "a2da4d6330bb430ba0a0774e50fd806f",
       "version_major": 2,
       "version_minor": 0
      },
      "text/plain": [
       "HBox(children=(FloatProgress(value=0.0, max=77.0), HTML(value='')))"
      ]
     },
     "metadata": {},
     "output_type": "display_data"
    },
    {
     "name": "stdout",
     "output_type": "stream",
     "text": [
      "\n",
      "[clf_engine]  training loop: done!\n",
      "[ATE:34]  delta is: [-0.2672]; scaled delta is [-0.0267]\n",
      "[ATE:34]  [2.0387840270996094, 2.041919469833374, 2.0105490684509277, 2.07613468170166, 2.029135227203369, 2.038132667541504, 2.055280923843384, 1.9880965948104858, 1.9672225713729858, 2.0077946186065674]\n",
      "[ATE:34]  [2.30525517 2.30467606 2.27874374 2.2752583  2.28242993 2.30172896\n",
      " 2.30529714 2.29435921 2.29674459 2.28092718]\n",
      "[ATE:34]  reward at the end of time step is [-0.026723704338073695]\n",
      "[ATA] optimization step performed\n",
      "[ATA episode 0]: took [3.9] seconds for one full step\n",
      "[ATE:34]  action [[1.49583321 0.84497019 0.54276422 0.35932991]] recieved\n",
      "[clf_engine]  scaled BS by [1.4958332125924063]; BS=[487]\n",
      "[clf_engine]  scaled LR by [0.8449701945703828]; LR=[0.010447017168298758]\n",
      "[clf_engine]  training loop: started for [30] updates; BS=[487] LR=[0.008827418129377531]!\n"
     ]
    },
    {
     "data": {
      "application/vnd.jupyter.widget-view+json": {
       "model_id": "a0cdfb7bb7174d688c54afb5e439dad7",
       "version_major": 2,
       "version_minor": 0
      },
      "text/plain": [
       "HBox(children=(FloatProgress(value=0.0, max=52.0), HTML(value='')))"
      ]
     },
     "metadata": {},
     "output_type": "display_data"
    },
    {
     "name": "stdout",
     "output_type": "stream",
     "text": [
      "\n",
      "[clf_engine]  training loop: done!\n",
      "[ATE:35]  delta is: [-0.3289]; scaled delta is [-0.0329]\n",
      "[ATE:35]  [1.957008719444275, 1.9518804550170898, 1.9884183406829834, 1.9640129804611206, 1.9579838514328003, 1.9740233421325684, 1.9566497802734375, 1.9477750062942505, 2.0108320713043213, 1.972058892250061]\n",
      "[ATE:35]  [2.28146505 2.30365181 2.3116188  2.29072666 2.31630778 2.28486896\n",
      " 2.3008914  2.29885387 2.28742194 2.29364419]\n",
      "[ATE:35]  reward at the end of time step is [-0.032888070344924934]\n",
      "[ATA] optimization step performed\n",
      "[ATA episode 0]: took [4.0] seconds for one full step\n",
      "[ATE:35]  action [[1.36506348 0.93281604 0.62194233 0.2927767 ]] recieved\n",
      "[clf_engine]  scaled BS by [1.36506348102273]; BS=[664]\n",
      "[clf_engine]  scaled LR by [0.9328160436743264]; LR=[0.008827418129377531]\n",
      "[clf_engine]  training loop: started for [30] updates; BS=[664] LR=[0.008234357255304971]!\n"
     ]
    },
    {
     "data": {
      "application/vnd.jupyter.widget-view+json": {
       "model_id": "adf88636080549179efe769f87bec83c",
       "version_major": 2,
       "version_minor": 0
      },
      "text/plain": [
       "HBox(children=(FloatProgress(value=0.0, max=38.0), HTML(value='')))"
      ]
     },
     "metadata": {},
     "output_type": "display_data"
    },
    {
     "name": "stdout",
     "output_type": "stream",
     "text": [
      "\n",
      "[clf_engine]  training loop: done!\n",
      "[ATE:36]  delta is: [-0.3415]; scaled delta is [-0.0342]\n",
      "[ATE:36]  [1.9580329656600952, 1.9428805112838745, 1.9458119869232178, 1.98743736743927, 1.920339584350586, 1.9907352924346924, 1.9786735773086548, 1.9670031070709229, 1.917340874671936, 1.9489880800247192]\n",
      "[ATE:36]  [2.28597474 2.30277848 2.29886222 2.28571725 2.2883513  2.30577207\n",
      " 2.28829527 2.32137561 2.28464985 2.31091833]\n",
      "[ATE:36]  reward at the end of time step is [-0.034154517650604226]\n",
      "[ATA] optimization step performed\n",
      "[ATA episode 0]: took [4.1] seconds for one full step\n",
      "[ATE:36]  action [[1.33039322 0.84309515 0.58759685 0.26348367]] recieved\n",
      "[clf_engine]  scaled BS by [1.3303932232497986]; BS=[883]\n",
      "[clf_engine]  scaled LR by [0.8430951543329017]; LR=[0.008234357255304971]\n",
      "[clf_engine]  training loop: started for [30] updates; BS=[883] LR=[0.006942346700993593]!\n"
     ]
    },
    {
     "data": {
      "application/vnd.jupyter.widget-view+json": {
       "model_id": "9127e36df7b3465d926a8f794bb285ea",
       "version_major": 2,
       "version_minor": 0
      },
      "text/plain": [
       "HBox(children=(FloatProgress(value=0.0, max=29.0), HTML(value='')))"
      ]
     },
     "metadata": {},
     "output_type": "display_data"
    },
    {
     "name": "stdout",
     "output_type": "stream",
     "text": [
      "\n",
      "[clf_engine]  training loop: started for [1] updates; BS=[883] LR=[0.006942346700993593]!\n"
     ]
    },
    {
     "data": {
      "application/vnd.jupyter.widget-view+json": {
       "model_id": "acc2e510c1aa46258459dbb38ff64ab1",
       "version_major": 2,
       "version_minor": 0
      },
      "text/plain": [
       "HBox(children=(FloatProgress(value=0.0, max=29.0), HTML(value='')))"
      ]
     },
     "metadata": {},
     "output_type": "display_data"
    },
    {
     "name": "stdout",
     "output_type": "stream",
     "text": [
      "\n",
      "[clf_engine]  training loop: done!\n",
      "[ATE:37]  delta is: [-0.3637]; scaled delta is [-0.0364]\n",
      "[ATE:37]  [1.9533720016479492, 1.9674850702285767, 1.9608733654022217, 1.9246357679367065, 1.92435622215271, 1.924136996269226, 1.9293192625045776, 1.9461504220962524, 1.8515772819519043, 1.9343942403793335]\n",
      "[ATE:37]  [2.29843163 2.30310869 2.29107952 2.30081701 2.31779146 2.30495095\n",
      " 2.29226351 2.28363395 2.28147173 2.2801044 ]\n",
      "[ATE:37]  reward at the end of time step is [-0.036373522281646746]\n",
      "[ATA] optimization step performed\n",
      "[ATA episode 0]: took [5.7] seconds for one full step\n",
      "[ATE:37]  action [[1.52820413 0.80466443 0.61913669 0.24344028]] recieved\n",
      "[clf_engine]  scaled BS by [1.52820412781377]; BS=[1349]\n",
      "[clf_engine]  scaled LR by [0.8046644278630856]; LR=[0.006942346700993593]\n",
      "[clf_engine]  training loop: started for [30] updates; BS=[1349] LR=[0.005586259436182189]!\n"
     ]
    },
    {
     "data": {
      "application/vnd.jupyter.widget-view+json": {
       "model_id": "27ef0170931b4d3e8097fe0d8da138df",
       "version_major": 2,
       "version_minor": 0
      },
      "text/plain": [
       "HBox(children=(FloatProgress(value=0.0, max=19.0), HTML(value='')))"
      ]
     },
     "metadata": {},
     "output_type": "display_data"
    },
    {
     "name": "stdout",
     "output_type": "stream",
     "text": [
      "\n",
      "[clf_engine]  training loop: started for [11] updates; BS=[1349] LR=[0.005586259436182189]!\n"
     ]
    },
    {
     "data": {
      "application/vnd.jupyter.widget-view+json": {
       "model_id": "ba407a6502b04d8bae9069956e2dea56",
       "version_major": 2,
       "version_minor": 0
      },
      "text/plain": [
       "HBox(children=(FloatProgress(value=0.0, max=19.0), HTML(value='')))"
      ]
     },
     "metadata": {},
     "output_type": "display_data"
    },
    {
     "name": "stdout",
     "output_type": "stream",
     "text": [
      "\n",
      "[clf_engine]  training loop: done!\n",
      "[ATE:38]  delta is: [-0.3575]; scaled delta is [-0.0358]\n",
      "[ATE:38]  [1.945767879486084, 1.9269863367080688, 1.9576208591461182, 1.9195562601089478, 1.9627485275268555, 1.956916093826294, 1.9239842891693115, 1.9041411876678467, 1.968826174736023, 1.9111841917037964]\n",
      "[ATE:38]  [2.29007721 2.3014369  2.30070615 2.29585648 2.30665088 2.2650249\n",
      " 2.29961753 2.27386522 2.32220054 2.29735732]\n",
      "[ATE:38]  reward at the end of time step is [-0.035750613212585436]\n",
      "[ATA] optimization step performed\n",
      "[ATA episode 0]: took [6.1] seconds for one full step\n",
      "[ATE:38]  action [[1.64125198 0.79128182 0.50029886 0.1487552 ]] recieved\n",
      "[clf_engine]  scaled BS by [1.641251978537796]; BS=[2214]\n",
      "[clf_engine]  scaled LR by [0.7912818232175066]; LR=[0.005586259436182189]\n",
      "[clf_engine]  training loop: started for [30] updates; BS=[2214] LR=[0.004420305551628243]!\n"
     ]
    },
    {
     "data": {
      "application/vnd.jupyter.widget-view+json": {
       "model_id": "adf5d6c796ce4691b64ca1c8c8d4ca29",
       "version_major": 2,
       "version_minor": 0
      },
      "text/plain": [
       "HBox(children=(FloatProgress(value=0.0, max=12.0), HTML(value='')))"
      ]
     },
     "metadata": {},
     "output_type": "display_data"
    },
    {
     "name": "stdout",
     "output_type": "stream",
     "text": [
      "\n",
      "[clf_engine]  training loop: started for [18] updates; BS=[2214] LR=[0.004420305551628243]!\n"
     ]
    },
    {
     "data": {
      "application/vnd.jupyter.widget-view+json": {
       "model_id": "a7248c4e201f4404b862f1e85566c1d5",
       "version_major": 2,
       "version_minor": 0
      },
      "text/plain": [
       "HBox(children=(FloatProgress(value=0.0, max=12.0), HTML(value='')))"
      ]
     },
     "metadata": {},
     "output_type": "display_data"
    },
    {
     "name": "stdout",
     "output_type": "stream",
     "text": [
      "\n",
      "[clf_engine]  training loop: started for [6] updates; BS=[2214] LR=[0.004420305551628243]!\n"
     ]
    },
    {
     "data": {
      "application/vnd.jupyter.widget-view+json": {
       "model_id": "37ea4d3288f847a0954936223bbc0d3c",
       "version_major": 2,
       "version_minor": 0
      },
      "text/plain": [
       "HBox(children=(FloatProgress(value=0.0, max=12.0), HTML(value='')))"
      ]
     },
     "metadata": {},
     "output_type": "display_data"
    },
    {
     "name": "stdout",
     "output_type": "stream",
     "text": [
      "\n",
      "[clf_engine]  training loop: done!\n",
      "[ATE:39]  delta is: [-0.3547]; scaled delta is [-0.0355]\n",
      "[ATE:39]  [1.935387372970581, 1.9467592239379883, 1.9309966564178467, 1.9727505445480347, 1.9452110528945923, 1.9223500490188599, 1.9150258302688599, 1.9491108655929565, 1.922082781791687, 1.940334677696228]\n",
      "[ATE:39]  [2.30804467 2.30375075 2.28660274 2.2810061  2.28767848 2.28562093\n",
      " 2.29311728 2.28985691 2.29516554 2.29567719]\n",
      "[ATE:39]  reward at the end of time step is [-0.03546511530876158]\n",
      "[ATA] optimization step performed\n",
      "[ATA episode 0]: took [8.3] seconds for one full step\n",
      "[ATE:39]  action [[1.59214393 0.61952399 0.46108692 0.13420808]] recieved\n",
      "[clf_engine]  scaled BS by [1.592143925254227]; BS=[2500]\n",
      "[clf_engine]  scaled LR by [0.6195239876636613]; LR=[0.004420305551628243]\n",
      "[clf_engine]  training loop: started for [30] updates; BS=[2500] LR=[0.0027384853220365495]!\n"
     ]
    },
    {
     "data": {
      "application/vnd.jupyter.widget-view+json": {
       "model_id": "799e6ed383ac4055b187e71ffa19751c",
       "version_major": 2,
       "version_minor": 0
      },
      "text/plain": [
       "HBox(children=(FloatProgress(value=0.0, max=10.0), HTML(value='')))"
      ]
     },
     "metadata": {},
     "output_type": "display_data"
    },
    {
     "name": "stdout",
     "output_type": "stream",
     "text": [
      "\n",
      "[clf_engine]  training loop: started for [20] updates; BS=[2500] LR=[0.0027384853220365495]!\n"
     ]
    },
    {
     "data": {
      "application/vnd.jupyter.widget-view+json": {
       "model_id": "96e134b3dac84f848c3b9ecd50ebe40f",
       "version_major": 2,
       "version_minor": 0
      },
      "text/plain": [
       "HBox(children=(FloatProgress(value=0.0, max=10.0), HTML(value='')))"
      ]
     },
     "metadata": {},
     "output_type": "display_data"
    },
    {
     "name": "stdout",
     "output_type": "stream",
     "text": [
      "\n",
      "[clf_engine]  training loop: started for [10] updates; BS=[2500] LR=[0.0027384853220365495]!\n"
     ]
    },
    {
     "data": {
      "application/vnd.jupyter.widget-view+json": {
       "model_id": "948f55b569b4442bb0b502c603c7bf3a",
       "version_major": 2,
       "version_minor": 0
      },
      "text/plain": [
       "HBox(children=(FloatProgress(value=0.0, max=10.0), HTML(value='')))"
      ]
     },
     "metadata": {},
     "output_type": "display_data"
    },
    {
     "name": "stdout",
     "output_type": "stream",
     "text": [
      "\n",
      "[clf_engine]  training loop: done!\n"
     ]
    },
    {
     "data": {
      "application/vnd.jupyter.widget-view+json": {
       "model_id": "fcad31c5bb05419b8d9dd60fa7da4361",
       "version_major": 2,
       "version_minor": 0
      },
      "text/plain": [
       "HBox(children=(FloatProgress(value=0.0, max=1563.0), HTML(value='')))"
      ]
     },
     "metadata": {},
     "output_type": "display_data"
    },
    {
     "name": "stdout",
     "output_type": "stream",
     "text": [
      "\n"
     ]
    },
    {
     "data": {
      "application/vnd.jupyter.widget-view+json": {
       "model_id": "6a62a4e1bf4e4b0580fb7f186362509a",
       "version_major": 2,
       "version_minor": 0
      },
      "text/plain": [
       "HBox(children=(FloatProgress(value=0.0, max=625.0), HTML(value='')))"
      ]
     },
     "metadata": {},
     "output_type": "display_data"
    },
    {
     "name": "stdout",
     "output_type": "stream",
     "text": [
      "\n",
      "[ATE:40]  delta is: [-0.3682]; scaled delta is [-0.0368]\n",
      "[ATE:40]  [1.9340060949325562, 1.9265328645706177, 1.9447752237319946, 1.9393597841262817, 1.9035744667053223, 1.9255973100662231, 1.9187474250793457, 1.925569772720337, 1.9352765083312988, 1.919950008392334]\n",
      "[ATE:40]  [2.29579544 2.3154695  2.30416059 2.28820252 2.27096295 2.28635168\n",
      " 2.28309965 2.30401158 2.30792952 2.29981565]\n",
      "[ATE:40]  reward at the end of time step is [-0.03682409644126892]\n",
      "[ATA] optimization step performed\n",
      "[ATA episode 0]: took [13.4] seconds for one full step\n",
      "[ATE:40]  action [[1.52582681 0.65881316 0.41800277 0.14529497]] recieved\n",
      "[clf_engine]  scaled BS by [1.5258268145721245]; BS=[2500]\n",
      "[clf_engine]  scaled LR by [0.6588131636685817]; LR=[0.0027384853220365495]\n",
      "[clf_engine]  training loop: started for [30] updates; BS=[2500] LR=[0.001804150178670874]!\n"
     ]
    },
    {
     "data": {
      "application/vnd.jupyter.widget-view+json": {
       "model_id": "8ddc5a2d52174397b8a74b6473ac5c58",
       "version_major": 2,
       "version_minor": 0
      },
      "text/plain": [
       "HBox(children=(FloatProgress(value=0.0, max=10.0), HTML(value='')))"
      ]
     },
     "metadata": {},
     "output_type": "display_data"
    },
    {
     "name": "stdout",
     "output_type": "stream",
     "text": [
      "\n",
      "[clf_engine]  training loop: started for [20] updates; BS=[2500] LR=[0.001804150178670874]!\n"
     ]
    },
    {
     "data": {
      "application/vnd.jupyter.widget-view+json": {
       "model_id": "1063c9b0bcb9403e9ce994a9a2bf52c3",
       "version_major": 2,
       "version_minor": 0
      },
      "text/plain": [
       "HBox(children=(FloatProgress(value=0.0, max=10.0), HTML(value='')))"
      ]
     },
     "metadata": {},
     "output_type": "display_data"
    },
    {
     "name": "stdout",
     "output_type": "stream",
     "text": [
      "\n",
      "[clf_engine]  training loop: started for [10] updates; BS=[2500] LR=[0.001804150178670874]!\n"
     ]
    },
    {
     "data": {
      "application/vnd.jupyter.widget-view+json": {
       "model_id": "aa021d45f39c41d8b17ae66739698ef2",
       "version_major": 2,
       "version_minor": 0
      },
      "text/plain": [
       "HBox(children=(FloatProgress(value=0.0, max=10.0), HTML(value='')))"
      ]
     },
     "metadata": {},
     "output_type": "display_data"
    },
    {
     "name": "stdout",
     "output_type": "stream",
     "text": [
      "\n",
      "[clf_engine]  training loop: done!\n",
      "[ATE:41]  delta is: [-0.3715]; scaled delta is [-0.0371]\n",
      "[ATE:41]  [1.9221175909042358, 1.9315766096115112, 1.908029317855835, 1.9037036895751953, 1.9100013971328735, 1.9285386800765991, 1.9240325689315796, 1.9228453636169434, 1.9509060382843018, 1.924548864364624]\n",
      "[ATE:41]  [2.29902196 2.30358267 2.27128386 2.28425145 2.31967497 2.30598164\n",
      " 2.28579521 2.31165028 2.26732016 2.29266405]\n",
      "[ATE:41]  reward at the end of time step is [-0.03714926123619078]\n",
      "[ATA] optimization step performed\n",
      "[ATA episode 0]: took [8.6] seconds for one full step\n",
      "[ATE:41]  action [[1.48482504 0.97591498 0.37623865 0.18871791]] recieved\n",
      "[clf_engine]  scaled BS by [1.4848250401730094]; BS=[2500]\n",
      "[clf_engine]  scaled LR by [0.9759149757112259]; LR=[0.001804150178670874]\n",
      "[clf_engine]  training loop: started for [30] updates; BS=[2500] LR=[0.0017606971777969897]!\n"
     ]
    },
    {
     "data": {
      "application/vnd.jupyter.widget-view+json": {
       "model_id": "5f22300ae9bf4741bb3d81c269c73f7b",
       "version_major": 2,
       "version_minor": 0
      },
      "text/plain": [
       "HBox(children=(FloatProgress(value=0.0, max=10.0), HTML(value='')))"
      ]
     },
     "metadata": {},
     "output_type": "display_data"
    },
    {
     "name": "stdout",
     "output_type": "stream",
     "text": [
      "\n",
      "[clf_engine]  training loop: started for [20] updates; BS=[2500] LR=[0.0017606971777969897]!\n"
     ]
    },
    {
     "data": {
      "application/vnd.jupyter.widget-view+json": {
       "model_id": "08e5234434564b81b02d3cbad775ac49",
       "version_major": 2,
       "version_minor": 0
      },
      "text/plain": [
       "HBox(children=(FloatProgress(value=0.0, max=10.0), HTML(value='')))"
      ]
     },
     "metadata": {},
     "output_type": "display_data"
    },
    {
     "name": "stdout",
     "output_type": "stream",
     "text": [
      "\n",
      "[clf_engine]  training loop: started for [10] updates; BS=[2500] LR=[0.0017606971777969897]!\n"
     ]
    },
    {
     "data": {
      "application/vnd.jupyter.widget-view+json": {
       "model_id": "02ddda94223f4f2ab8b8c4b40353d8a2",
       "version_major": 2,
       "version_minor": 0
      },
      "text/plain": [
       "HBox(children=(FloatProgress(value=0.0, max=10.0), HTML(value='')))"
      ]
     },
     "metadata": {},
     "output_type": "display_data"
    },
    {
     "name": "stdout",
     "output_type": "stream",
     "text": [
      "\n",
      "[clf_engine]  training loop: done!\n",
      "[ATE:42]  delta is: [-0.3764]; scaled delta is [-0.0376]\n",
      "[ATE:42]  [1.9097741842269897, 1.9343550205230713, 1.9265469312667847, 1.924010157585144, 1.9098851680755615, 1.9237470626831055, 1.9060105085372925, 1.9337007999420166, 1.9313347339630127, 1.920804500579834]\n",
      "[ATE:42]  [2.2715807  2.2891202  2.29133582 2.32996583 2.30434942 2.30922365\n",
      " 2.29303765 2.30737424 2.29683709 2.29092479]\n",
      "[ATE:42]  reward at the end of time step is [-0.03763580322265623]\n",
      "[ATA] optimization step performed\n",
      "[ATA episode 0]: took [8.6] seconds for one full step\n",
      "[ATE:42]  action [[1.3931169  0.83711119 0.30288153 0.18896944]] recieved\n",
      "[clf_engine]  scaled BS by [1.3931169015724538]; BS=[2500]\n",
      "[clf_engine]  scaled LR by [0.8371111944576639]; LR=[0.0017606971777969897]\n",
      "[clf_engine]  training loop: started for [30] updates; BS=[2500] LR=[0.001473899317583876]!\n"
     ]
    },
    {
     "data": {
      "application/vnd.jupyter.widget-view+json": {
       "model_id": "4141485a329646be8fd47d70be1ca5e6",
       "version_major": 2,
       "version_minor": 0
      },
      "text/plain": [
       "HBox(children=(FloatProgress(value=0.0, max=10.0), HTML(value='')))"
      ]
     },
     "metadata": {},
     "output_type": "display_data"
    },
    {
     "name": "stdout",
     "output_type": "stream",
     "text": [
      "\n",
      "[clf_engine]  training loop: started for [20] updates; BS=[2500] LR=[0.001473899317583876]!\n"
     ]
    },
    {
     "data": {
      "application/vnd.jupyter.widget-view+json": {
       "model_id": "9b1304db580742bdb7fdd7f4e1d94c13",
       "version_major": 2,
       "version_minor": 0
      },
      "text/plain": [
       "HBox(children=(FloatProgress(value=0.0, max=10.0), HTML(value='')))"
      ]
     },
     "metadata": {},
     "output_type": "display_data"
    },
    {
     "name": "stdout",
     "output_type": "stream",
     "text": [
      "\n",
      "[clf_engine]  training loop: started for [10] updates; BS=[2500] LR=[0.001473899317583876]!\n"
     ]
    },
    {
     "data": {
      "application/vnd.jupyter.widget-view+json": {
       "model_id": "b029b853071346cbb68133b9130a03fd",
       "version_major": 2,
       "version_minor": 0
      },
      "text/plain": [
       "HBox(children=(FloatProgress(value=0.0, max=10.0), HTML(value='')))"
      ]
     },
     "metadata": {},
     "output_type": "display_data"
    },
    {
     "name": "stdout",
     "output_type": "stream",
     "text": [
      "\n",
      "[clf_engine]  training loop: done!\n",
      "[ATE:43]  delta is: [-0.3793]; scaled delta is [-0.0379]\n",
      "[ATE:43]  [1.907806634902954, 1.8924027681350708, 1.9385833740234375, 1.912357211112976, 1.8967806100845337, 1.8965452909469604, 1.9345899820327759, 1.9060077667236328, 1.9260222911834717, 1.9288511276245117]\n",
      "[ATE:43]  [2.28702402 2.28137851 2.30944753 2.29174161 2.29841185 2.30390954\n",
      " 2.2937417  2.30075431 2.27587366 2.29078007]\n",
      "[ATE:43]  reward at the end of time step is [-0.03793115735054014]\n",
      "[ATA] optimization step performed\n",
      "[ATA episode 0]: took [8.9] seconds for one full step\n",
      "[ATE:43]  action [[1.34681746 0.71693615 0.31520393 0.18411252]] recieved\n",
      "[clf_engine]  scaled BS by [1.3468174630524405]; BS=[2500]\n",
      "[clf_engine]  scaled LR by [0.7169361480763276]; LR=[0.001473899317583876]\n",
      "[clf_engine]  training loop: started for [30] updates; BS=[2500] LR=[0.0010566916994009118]!\n"
     ]
    },
    {
     "data": {
      "application/vnd.jupyter.widget-view+json": {
       "model_id": "4f3cbf5de1fa442ab7caa19e6d5e5537",
       "version_major": 2,
       "version_minor": 0
      },
      "text/plain": [
       "HBox(children=(FloatProgress(value=0.0, max=10.0), HTML(value='')))"
      ]
     },
     "metadata": {},
     "output_type": "display_data"
    },
    {
     "name": "stdout",
     "output_type": "stream",
     "text": [
      "\n",
      "[clf_engine]  training loop: started for [20] updates; BS=[2500] LR=[0.0010566916994009118]!\n"
     ]
    },
    {
     "data": {
      "application/vnd.jupyter.widget-view+json": {
       "model_id": "028056668ba345fbb3bcaccd0cab3e0d",
       "version_major": 2,
       "version_minor": 0
      },
      "text/plain": [
       "HBox(children=(FloatProgress(value=0.0, max=10.0), HTML(value='')))"
      ]
     },
     "metadata": {},
     "output_type": "display_data"
    },
    {
     "name": "stdout",
     "output_type": "stream",
     "text": [
      "\n",
      "[clf_engine]  training loop: started for [10] updates; BS=[2500] LR=[0.0010566916994009118]!\n"
     ]
    },
    {
     "data": {
      "application/vnd.jupyter.widget-view+json": {
       "model_id": "ffd90df1178940e292ae93d2a264bbcd",
       "version_major": 2,
       "version_minor": 0
      },
      "text/plain": [
       "HBox(children=(FloatProgress(value=0.0, max=10.0), HTML(value='')))"
      ]
     },
     "metadata": {},
     "output_type": "display_data"
    },
    {
     "name": "stdout",
     "output_type": "stream",
     "text": [
      "\n",
      "[clf_engine]  training loop: done!\n",
      "[ATE:44]  delta is: [-0.3826]; scaled delta is [-0.0383]\n",
      "[ATE:44]  [1.9134178161621094, 1.9150145053863525, 1.934505820274353, 1.924237847328186, 1.9233824014663696, 1.9213933944702148, 1.9265996217727661, 1.9102230072021484, 1.9068725109100342, 1.9054830074310303]\n",
      "[ATE:44]  [2.29692721 2.29891968 2.29652214 2.31443691 2.30210304 2.30587482\n",
      " 2.30976534 2.28499675 2.28146243 2.31618023]\n",
      "[ATE:44]  reward at the end of time step is [-0.03826058626174929]\n",
      "[ATA] optimization step performed\n",
      "[ATA episode 0]: took [8.9] seconds for one full step\n",
      "[ATE:44]  action [[1.4072311  0.70253865 0.37203985 0.24881145]] recieved\n",
      "[clf_engine]  scaled BS by [1.4072311031798403]; BS=[2500]\n",
      "[clf_engine]  scaled LR by [0.7025386490190523]; LR=[0.0010566916994009118]\n",
      "[clf_engine]  training loop: started for [30] updates; BS=[2500] LR=[0.0007423667589267631]!\n"
     ]
    },
    {
     "data": {
      "application/vnd.jupyter.widget-view+json": {
       "model_id": "5f6b38ecade3437ba9767b71689e0f41",
       "version_major": 2,
       "version_minor": 0
      },
      "text/plain": [
       "HBox(children=(FloatProgress(value=0.0, max=10.0), HTML(value='')))"
      ]
     },
     "metadata": {},
     "output_type": "display_data"
    },
    {
     "name": "stdout",
     "output_type": "stream",
     "text": [
      "\n",
      "[clf_engine]  training loop: started for [20] updates; BS=[2500] LR=[0.0007423667589267631]!\n"
     ]
    },
    {
     "data": {
      "application/vnd.jupyter.widget-view+json": {
       "model_id": "c4ecfdf149a04e50b99219b13d65467a",
       "version_major": 2,
       "version_minor": 0
      },
      "text/plain": [
       "HBox(children=(FloatProgress(value=0.0, max=10.0), HTML(value='')))"
      ]
     },
     "metadata": {},
     "output_type": "display_data"
    },
    {
     "name": "stdout",
     "output_type": "stream",
     "text": [
      "\n",
      "[clf_engine]  training loop: started for [10] updates; BS=[2500] LR=[0.0007423667589267631]!\n"
     ]
    },
    {
     "data": {
      "application/vnd.jupyter.widget-view+json": {
       "model_id": "494ec6991f504ed0b9646760e3135d88",
       "version_major": 2,
       "version_minor": 0
      },
      "text/plain": [
       "HBox(children=(FloatProgress(value=0.0, max=10.0), HTML(value='')))"
      ]
     },
     "metadata": {},
     "output_type": "display_data"
    },
    {
     "name": "stdout",
     "output_type": "stream",
     "text": [
      "\n",
      "[clf_engine]  training loop: done!\n",
      "[ATE:45]  delta is: [-0.3728]; scaled delta is [-0.0373]\n",
      "[ATE:45]  [1.8951269388198853, 1.9240976572036743, 1.9240853786468506, 1.9257216453552246, 1.9005032777786255, 1.9118958711624146, 1.9256778955459595, 1.9417158365249634, 1.9257787466049194, 1.9121289253234863]\n",
      "[ATE:45]  [2.28389192 2.29760432 2.30056405 2.28264856 2.2816968  2.28533483\n",
      " 2.31173992 2.2943356  2.29446745 2.28293347]\n",
      "[ATE:45]  reward at the end of time step is [-0.03728484749794005]\n",
      "[ATA] optimization step performed\n",
      "[ATA episode 0]: took [8.3] seconds for one full step\n",
      "[ATE:45]  action [[1.4331667  0.70424951 0.36343663 0.24570599]] recieved\n",
      "[clf_engine]  scaled BS by [1.433166703135752]; BS=[2500]\n",
      "[clf_engine]  scaled LR by [0.7042495056879313]; LR=[0.0007423667589267631]\n",
      "[clf_engine]  training loop: started for [30] updates; BS=[2500] LR=[0.0005228114230133245]!\n"
     ]
    },
    {
     "data": {
      "application/vnd.jupyter.widget-view+json": {
       "model_id": "711b86878f884f649a86fef7c96d357e",
       "version_major": 2,
       "version_minor": 0
      },
      "text/plain": [
       "HBox(children=(FloatProgress(value=0.0, max=10.0), HTML(value='')))"
      ]
     },
     "metadata": {},
     "output_type": "display_data"
    },
    {
     "name": "stdout",
     "output_type": "stream",
     "text": [
      "\n",
      "[clf_engine]  training loop: started for [20] updates; BS=[2500] LR=[0.0005228114230133245]!\n"
     ]
    },
    {
     "data": {
      "application/vnd.jupyter.widget-view+json": {
       "model_id": "4166bdb72ab6486dba9fe5c245391766",
       "version_major": 2,
       "version_minor": 0
      },
      "text/plain": [
       "HBox(children=(FloatProgress(value=0.0, max=10.0), HTML(value='')))"
      ]
     },
     "metadata": {},
     "output_type": "display_data"
    },
    {
     "name": "stdout",
     "output_type": "stream",
     "text": [
      "\n",
      "[clf_engine]  training loop: started for [10] updates; BS=[2500] LR=[0.0005228114230133245]!\n"
     ]
    },
    {
     "data": {
      "application/vnd.jupyter.widget-view+json": {
       "model_id": "c581a5c3fc2e43369b172f91a44fab21",
       "version_major": 2,
       "version_minor": 0
      },
      "text/plain": [
       "HBox(children=(FloatProgress(value=0.0, max=10.0), HTML(value='')))"
      ]
     },
     "metadata": {},
     "output_type": "display_data"
    },
    {
     "name": "stdout",
     "output_type": "stream",
     "text": [
      "\n",
      "[clf_engine]  training loop: done!\n",
      "[ATE:46]  delta is: [-0.3734]; scaled delta is [-0.0373]\n",
      "[ATE:46]  [1.929633617401123, 1.9081493616104126, 1.891039252281189, 1.9329414367675781, 1.9065005779266357, 1.90671968460083, 1.917965054512024, 1.908233404159546, 1.8925487995147705, 1.9323164224624634]\n",
      "[ATE:46]  [2.31720638 2.28115559 2.2954607  2.28223419 2.27638245 2.27979279\n",
      " 2.26739478 2.29634809 2.2797277  2.28480649]\n",
      "[ATE:46]  reward at the end of time step is [-0.03734461545944214]\n",
      "[ATA] optimization step performed\n",
      "[ATA episode 0]: took [9.8] seconds for one full step\n",
      "[ATE:46]  action [[1.4590458  0.76365815 0.3091496  0.33376352]] recieved\n",
      "[clf_engine]  scaled BS by [1.4590457974456366]; BS=[2500]\n",
      "[clf_engine]  scaled LR by [0.7636581490160621]; LR=[0.0005228114230133245]\n",
      "[clf_engine]  training loop: started for [30] updates; BS=[2500] LR=[0.0003992492035828089]!\n"
     ]
    },
    {
     "data": {
      "application/vnd.jupyter.widget-view+json": {
       "model_id": "94e21dd8cfe34087a105d2702a01dfc8",
       "version_major": 2,
       "version_minor": 0
      },
      "text/plain": [
       "HBox(children=(FloatProgress(value=0.0, max=10.0), HTML(value='')))"
      ]
     },
     "metadata": {},
     "output_type": "display_data"
    },
    {
     "name": "stdout",
     "output_type": "stream",
     "text": [
      "\n",
      "[clf_engine]  training loop: started for [20] updates; BS=[2500] LR=[0.0003992492035828089]!\n"
     ]
    },
    {
     "data": {
      "application/vnd.jupyter.widget-view+json": {
       "model_id": "410b2cfff4db4de4ba35144357dfe896",
       "version_major": 2,
       "version_minor": 0
      },
      "text/plain": [
       "HBox(children=(FloatProgress(value=0.0, max=10.0), HTML(value='')))"
      ]
     },
     "metadata": {},
     "output_type": "display_data"
    },
    {
     "name": "stdout",
     "output_type": "stream",
     "text": [
      "\n",
      "[clf_engine]  training loop: started for [10] updates; BS=[2500] LR=[0.0003992492035828089]!\n"
     ]
    },
    {
     "data": {
      "application/vnd.jupyter.widget-view+json": {
       "model_id": "4f920b99192248ae9732b0e5c670c059",
       "version_major": 2,
       "version_minor": 0
      },
      "text/plain": [
       "HBox(children=(FloatProgress(value=0.0, max=10.0), HTML(value='')))"
      ]
     },
     "metadata": {},
     "output_type": "display_data"
    },
    {
     "name": "stdout",
     "output_type": "stream",
     "text": [
      "\n",
      "[clf_engine]  training loop: done!\n",
      "[ATE:47]  delta is: [-0.3735]; scaled delta is [-0.0374]\n",
      "[ATE:47]  [1.930481195449829, 1.9026882648468018, 1.9254428148269653, 1.9088501930236816, 1.9291719198226929, 1.9231082201004028, 1.9217067956924438, 1.9141974449157715, 1.9097187519073486, 1.9071654081344604]\n",
      "[ATE:47]  [2.28698492 2.29379463 2.27609324 2.29761434 2.29128098 2.28851509\n",
      " 2.29852915 2.27883267 2.30476832 2.29146099]\n",
      "[ATE:47]  reward at the end of time step is [-0.03735343337059023]\n",
      "[ATA] optimization step performed\n",
      "[ATA episode 0]: took [9.0] seconds for one full step\n",
      "[ATE:47]  action [[1.38533746 0.67070603 0.24412216 0.35819955]] recieved\n",
      "[clf_engine]  scaled BS by [1.3853374583512905]; BS=[2500]\n",
      "[clf_engine]  scaled LR by [0.6707060297804471]; LR=[0.0003992492035828089]\n",
      "[clf_engine]  training loop: started for [30] updates; BS=[2500] LR=[0.0002677788482280312]!\n"
     ]
    },
    {
     "data": {
      "application/vnd.jupyter.widget-view+json": {
       "model_id": "657d886fd4a54f7e8bd036f865f04aa4",
       "version_major": 2,
       "version_minor": 0
      },
      "text/plain": [
       "HBox(children=(FloatProgress(value=0.0, max=10.0), HTML(value='')))"
      ]
     },
     "metadata": {},
     "output_type": "display_data"
    },
    {
     "name": "stdout",
     "output_type": "stream",
     "text": [
      "\n",
      "[clf_engine]  training loop: started for [20] updates; BS=[2500] LR=[0.0002677788482280312]!\n"
     ]
    },
    {
     "data": {
      "application/vnd.jupyter.widget-view+json": {
       "model_id": "6696d050cf094daf902ec29c1950a403",
       "version_major": 2,
       "version_minor": 0
      },
      "text/plain": [
       "HBox(children=(FloatProgress(value=0.0, max=10.0), HTML(value='')))"
      ]
     },
     "metadata": {},
     "output_type": "display_data"
    },
    {
     "name": "stdout",
     "output_type": "stream",
     "text": [
      "\n",
      "[clf_engine]  training loop: started for [10] updates; BS=[2500] LR=[0.0002677788482280312]!\n"
     ]
    },
    {
     "data": {
      "application/vnd.jupyter.widget-view+json": {
       "model_id": "3f8bebdbb94b4c65ae041c5f00fcda89",
       "version_major": 2,
       "version_minor": 0
      },
      "text/plain": [
       "HBox(children=(FloatProgress(value=0.0, max=10.0), HTML(value='')))"
      ]
     },
     "metadata": {},
     "output_type": "display_data"
    },
    {
     "name": "stdout",
     "output_type": "stream",
     "text": [
      "\n",
      "[clf_engine]  training loop: done!\n",
      "[ATE:48]  delta is: [-0.3733]; scaled delta is [-0.0373]\n",
      "[ATE:48]  [1.9243345260620117, 1.9171724319458008, 1.9083701372146606, 1.9077091217041016, 1.923885703086853, 1.9068082571029663, 1.9104169607162476, 1.9091472625732422, 1.922480821609497, 1.9211385250091553]\n",
      "[ATE:48]  [2.29998493 2.29248619 2.30315518 2.27034068 2.29303646 2.29908514\n",
      " 2.26737761 2.28380823 2.30358672 2.27190161]\n",
      "[ATE:48]  reward at the end of time step is [-0.03733299016952514]\n",
      "[ATA] optimization step performed\n",
      "[ATA episode 0]: took [8.9] seconds for one full step\n",
      "[ATE:48]  action [[1.34801242 0.49337726 0.19359122 0.27206843]] recieved\n",
      "[clf_engine]  scaled BS by [1.3480124201747625]; BS=[2500]\n",
      "[clf_engine]  scaled LR by [0.4933772565943018]; LR=[0.0002677788482280312]\n",
      "[clf_engine]  training loop: started for [30] updates; BS=[2500] LR=[0.00013211599351272796]!\n"
     ]
    },
    {
     "data": {
      "application/vnd.jupyter.widget-view+json": {
       "model_id": "2b2664e1751f4e8085a6a81583a8f899",
       "version_major": 2,
       "version_minor": 0
      },
      "text/plain": [
       "HBox(children=(FloatProgress(value=0.0, max=10.0), HTML(value='')))"
      ]
     },
     "metadata": {},
     "output_type": "display_data"
    },
    {
     "name": "stdout",
     "output_type": "stream",
     "text": [
      "\n",
      "[clf_engine]  training loop: started for [20] updates; BS=[2500] LR=[0.00013211599351272796]!\n"
     ]
    },
    {
     "data": {
      "application/vnd.jupyter.widget-view+json": {
       "model_id": "c1dd434f12b84c8ca145837769301dbe",
       "version_major": 2,
       "version_minor": 0
      },
      "text/plain": [
       "HBox(children=(FloatProgress(value=0.0, max=10.0), HTML(value='')))"
      ]
     },
     "metadata": {},
     "output_type": "display_data"
    },
    {
     "name": "stdout",
     "output_type": "stream",
     "text": [
      "\n",
      "[clf_engine]  training loop: started for [10] updates; BS=[2500] LR=[0.00013211599351272796]!\n"
     ]
    },
    {
     "data": {
      "application/vnd.jupyter.widget-view+json": {
       "model_id": "fbabe99e036a42fd8ce8d25e528100ef",
       "version_major": 2,
       "version_minor": 0
      },
      "text/plain": [
       "HBox(children=(FloatProgress(value=0.0, max=10.0), HTML(value='')))"
      ]
     },
     "metadata": {},
     "output_type": "display_data"
    },
    {
     "name": "stdout",
     "output_type": "stream",
     "text": [
      "\n",
      "[clf_engine]  training loop: done!\n",
      "[ATE:49]  delta is: [-0.3723]; scaled delta is [-0.0372]\n",
      "[ATE:49]  [1.9239882230758667, 1.9269371032714844, 1.930860996246338, 1.9050371646881104, 1.90769624710083, 1.9195753335952759, 1.9158079624176025, 1.9037774801254272, 1.9174147844314575, 1.9039826393127441]\n",
      "[ATE:49]  [2.29018283 2.29131699 2.28550124 2.30522323 2.30661201 2.27866125\n",
      " 2.27066326 2.26639509 2.30519605 2.27826381]\n",
      "[ATE:49]  reward at the end of time step is [-0.03722937822341921]\n",
      "[ATA] optimization step performed\n",
      "[ATA episode 0]: took [8.9] seconds for one full step\n",
      "[ATE:49]  action [[1.47919715 0.47093636 0.20532335 0.29841177]] recieved\n",
      "[clf_engine]  scaled BS by [1.479197150489932]; BS=[2500]\n",
      "[clf_engine]  scaled LR by [0.47093635542038004]; LR=[0.00013211599351272796]\n",
      "[clf_engine]  training loop: started for [30] updates; BS=[2500] LR=[6.221822447762668e-05]!\n"
     ]
    },
    {
     "data": {
      "application/vnd.jupyter.widget-view+json": {
       "model_id": "bf4e44980d3f4262b3c2f3f0d9b5e229",
       "version_major": 2,
       "version_minor": 0
      },
      "text/plain": [
       "HBox(children=(FloatProgress(value=0.0, max=10.0), HTML(value='')))"
      ]
     },
     "metadata": {},
     "output_type": "display_data"
    },
    {
     "name": "stdout",
     "output_type": "stream",
     "text": [
      "\n",
      "[clf_engine]  training loop: started for [20] updates; BS=[2500] LR=[6.221822447762668e-05]!\n"
     ]
    },
    {
     "data": {
      "application/vnd.jupyter.widget-view+json": {
       "model_id": "d0a9b31853a14cd19b54c78264447511",
       "version_major": 2,
       "version_minor": 0
      },
      "text/plain": [
       "HBox(children=(FloatProgress(value=0.0, max=10.0), HTML(value='')))"
      ]
     },
     "metadata": {},
     "output_type": "display_data"
    },
    {
     "name": "stdout",
     "output_type": "stream",
     "text": [
      "\n",
      "[clf_engine]  training loop: started for [10] updates; BS=[2500] LR=[6.221822447762668e-05]!\n"
     ]
    },
    {
     "data": {
      "application/vnd.jupyter.widget-view+json": {
       "model_id": "1d520034f3c94052a5668501eccc5385",
       "version_major": 2,
       "version_minor": 0
      },
      "text/plain": [
       "HBox(children=(FloatProgress(value=0.0, max=10.0), HTML(value='')))"
      ]
     },
     "metadata": {},
     "output_type": "display_data"
    },
    {
     "name": "stdout",
     "output_type": "stream",
     "text": [
      "\n",
      "[clf_engine]  training loop: done!\n"
     ]
    },
    {
     "data": {
      "application/vnd.jupyter.widget-view+json": {
       "model_id": "7ac61dc8d069430890ecbf9d7edcd42e",
       "version_major": 2,
       "version_minor": 0
      },
      "text/plain": [
       "HBox(children=(FloatProgress(value=0.0, max=1563.0), HTML(value='')))"
      ]
     },
     "metadata": {},
     "output_type": "display_data"
    },
    {
     "name": "stdout",
     "output_type": "stream",
     "text": [
      "\n"
     ]
    },
    {
     "data": {
      "application/vnd.jupyter.widget-view+json": {
       "model_id": "25bb6cad0bcb497aafb18aabff6dd3fe",
       "version_major": 2,
       "version_minor": 0
      },
      "text/plain": [
       "HBox(children=(FloatProgress(value=0.0, max=625.0), HTML(value='')))"
      ]
     },
     "metadata": {},
     "output_type": "display_data"
    },
    {
     "name": "stdout",
     "output_type": "stream",
     "text": [
      "\n",
      "[ATE:50]  delta is: [-0.3762]; scaled delta is [-0.0376]\n",
      "[ATE:50]  [1.9263907670974731, 1.9120814800262451, 1.908185362815857, 1.8918341398239136, 1.913091778755188, 1.8902499675750732, 1.9277249574661255, 1.9231219291687012, 1.9264777898788452, 1.9251888990402222]\n",
      "[ATE:50]  [2.28953528 2.27378058 2.28034878 2.28466535 2.31001258 2.29170632\n",
      " 2.29282689 2.29490519 2.29626727 2.29276013]\n",
      "[ATE:50]  reward at the end of time step is [-0.03762461304664613]\n",
      "[ATA] optimization step performed\n",
      "[ATA episode 0]: took [13.9] seconds for one full step\n",
      "[ATE:50]  action [[1.49177305 0.5645504  0.18106322 0.23121798]] recieved\n",
      "[clf_engine]  scaled BS by [1.4917730503458124]; BS=[2500]\n",
      "[clf_engine]  scaled LR by [0.5645503964923881]; LR=[6.221822447762668e-05]\n",
      "[clf_engine]  training loop: started for [30] updates; BS=[2500] LR=[3.512532329789655e-05]!\n"
     ]
    },
    {
     "data": {
      "application/vnd.jupyter.widget-view+json": {
       "model_id": "58d728de55634afb99da8c4daeb78df0",
       "version_major": 2,
       "version_minor": 0
      },
      "text/plain": [
       "HBox(children=(FloatProgress(value=0.0, max=10.0), HTML(value='')))"
      ]
     },
     "metadata": {},
     "output_type": "display_data"
    },
    {
     "name": "stdout",
     "output_type": "stream",
     "text": [
      "\n",
      "[clf_engine]  training loop: started for [20] updates; BS=[2500] LR=[3.512532329789655e-05]!\n"
     ]
    },
    {
     "data": {
      "application/vnd.jupyter.widget-view+json": {
       "model_id": "9b192b7169f0489e81c168fbb502fe40",
       "version_major": 2,
       "version_minor": 0
      },
      "text/plain": [
       "HBox(children=(FloatProgress(value=0.0, max=10.0), HTML(value='')))"
      ]
     },
     "metadata": {},
     "output_type": "display_data"
    },
    {
     "name": "stdout",
     "output_type": "stream",
     "text": [
      "\n",
      "[clf_engine]  training loop: started for [10] updates; BS=[2500] LR=[3.512532329789655e-05]!\n"
     ]
    },
    {
     "data": {
      "application/vnd.jupyter.widget-view+json": {
       "model_id": "dfb8009c30c04dc991e44dc7e5325050",
       "version_major": 2,
       "version_minor": 0
      },
      "text/plain": [
       "HBox(children=(FloatProgress(value=0.0, max=10.0), HTML(value='')))"
      ]
     },
     "metadata": {},
     "output_type": "display_data"
    },
    {
     "name": "stdout",
     "output_type": "stream",
     "text": [
      "\n",
      "[clf_engine]  training loop: done!\n",
      "[ATE:51]  delta is: [-0.3764]; scaled delta is [-0.0376]\n",
      "[ATE:51]  [1.9055310487747192, 1.9144474267959595, 1.874772071838379, 1.9046648740768433, 1.9068447351455688, 1.9409794807434082, 1.9248151779174805, 1.9194791316986084, 1.9089781045913696, 1.9101208448410034]\n",
      "[ATE:51]  [2.30987096 2.28637552 2.27538109 2.30013585 2.27308583 2.29550362\n",
      " 2.28767753 2.28364563 2.28326154 2.27923632]\n",
      "[ATE:51]  reward at the end of time step is [-0.037635409832000734]\n",
      "[ATA] optimization step performed\n",
      "[ATA episode 0]: took [8.8] seconds for one full step\n",
      "[ATE:51]  action [[1.53485135 0.74572595 0.17511185 0.19919608]] recieved\n",
      "[clf_engine]  scaled BS by [1.5348513520731495]; BS=[2500]\n",
      "[clf_engine]  scaled LR by [0.7457259512291283]; LR=[3.512532329789655e-05]\n",
      "[clf_engine]  training loop: started for [30] updates; BS=[2500] LR=[2.6193865128554567e-05]!\n"
     ]
    },
    {
     "data": {
      "application/vnd.jupyter.widget-view+json": {
       "model_id": "3f18b0325ecb48098bb994522e8bd074",
       "version_major": 2,
       "version_minor": 0
      },
      "text/plain": [
       "HBox(children=(FloatProgress(value=0.0, max=10.0), HTML(value='')))"
      ]
     },
     "metadata": {},
     "output_type": "display_data"
    },
    {
     "name": "stdout",
     "output_type": "stream",
     "text": [
      "\n",
      "[clf_engine]  training loop: started for [20] updates; BS=[2500] LR=[2.6193865128554567e-05]!\n"
     ]
    },
    {
     "data": {
      "application/vnd.jupyter.widget-view+json": {
       "model_id": "1a46bae1c9c54840b80d00a679dc3644",
       "version_major": 2,
       "version_minor": 0
      },
      "text/plain": [
       "HBox(children=(FloatProgress(value=0.0, max=10.0), HTML(value='')))"
      ]
     },
     "metadata": {},
     "output_type": "display_data"
    },
    {
     "name": "stdout",
     "output_type": "stream",
     "text": [
      "\n",
      "[clf_engine]  training loop: started for [10] updates; BS=[2500] LR=[2.6193865128554567e-05]!\n"
     ]
    },
    {
     "data": {
      "application/vnd.jupyter.widget-view+json": {
       "model_id": "c986346471424f42ae8280da6167288a",
       "version_major": 2,
       "version_minor": 0
      },
      "text/plain": [
       "HBox(children=(FloatProgress(value=0.0, max=10.0), HTML(value='')))"
      ]
     },
     "metadata": {},
     "output_type": "display_data"
    },
    {
     "name": "stdout",
     "output_type": "stream",
     "text": [
      "\n",
      "[clf_engine]  training loop: done!\n",
      "[ATE:52]  delta is: [-0.3825]; scaled delta is [-0.0382]\n",
      "[ATE:52]  [1.9439140558242798, 1.8925023078918457, 1.912245273590088, 1.9019410610198975, 1.9052248001098633, 1.8967037200927734, 1.8934687376022339, 1.9006706476211548, 1.9074920415878296, 1.925642728805542]\n",
      "[ATE:52]  [2.29661918 2.28379607 2.30312586 2.27760482 2.29547524 2.3200016\n",
      " 2.28251076 2.29366922 2.27960539 2.27200365]\n",
      "[ATE:52]  reward at the end of time step is [-0.038246064186096176]\n",
      "[ATA] optimization step performed\n",
      "[ATA episode 0]: took [8.7] seconds for one full step\n",
      "[ATE:52]  action [[1.59679448 0.68676162 0.20336767 0.22360349]] recieved\n",
      "[clf_engine]  scaled BS by [1.5967944794467344]; BS=[2500]\n",
      "[clf_engine]  scaled LR by [0.6867616249205106]; LR=[2.6193865128554567e-05]\n",
      "[clf_engine]  training loop: started for [30] updates; BS=[2500] LR=[1.7988941378634836e-05]!\n"
     ]
    },
    {
     "data": {
      "application/vnd.jupyter.widget-view+json": {
       "model_id": "eb9cc15e48d547c9ba3b81aab916ab45",
       "version_major": 2,
       "version_minor": 0
      },
      "text/plain": [
       "HBox(children=(FloatProgress(value=0.0, max=10.0), HTML(value='')))"
      ]
     },
     "metadata": {},
     "output_type": "display_data"
    },
    {
     "name": "stdout",
     "output_type": "stream",
     "text": [
      "\n",
      "[clf_engine]  training loop: started for [20] updates; BS=[2500] LR=[1.7988941378634836e-05]!\n"
     ]
    },
    {
     "data": {
      "application/vnd.jupyter.widget-view+json": {
       "model_id": "de9345e3208e4dacba68753b24009609",
       "version_major": 2,
       "version_minor": 0
      },
      "text/plain": [
       "HBox(children=(FloatProgress(value=0.0, max=10.0), HTML(value='')))"
      ]
     },
     "metadata": {},
     "output_type": "display_data"
    },
    {
     "name": "stdout",
     "output_type": "stream",
     "text": [
      "\n",
      "[clf_engine]  training loop: started for [10] updates; BS=[2500] LR=[1.7988941378634836e-05]!\n"
     ]
    },
    {
     "data": {
      "application/vnd.jupyter.widget-view+json": {
       "model_id": "2f2f7750af9944f7b5056b96ef2d0147",
       "version_major": 2,
       "version_minor": 0
      },
      "text/plain": [
       "HBox(children=(FloatProgress(value=0.0, max=10.0), HTML(value='')))"
      ]
     },
     "metadata": {},
     "output_type": "display_data"
    },
    {
     "name": "stdout",
     "output_type": "stream",
     "text": [
      "\n",
      "[clf_engine]  training loop: done!\n",
      "[ATE:53]  delta is: [-0.3788]; scaled delta is [-0.0379]\n",
      "[ATE:53]  [1.9110839366912842, 1.8846741914749146, 1.8934822082519531, 1.9135591983795166, 1.9125312566757202, 1.8992849588394165, 1.932497262954712, 1.9225496053695679, 1.9221863746643066, 1.9428411722183228]\n",
      "[ATE:53]  [2.27436137 2.29919434 2.28173804 2.29191041 2.29686284 2.3335371\n",
      " 2.28886724 2.27760983 2.27641678 2.30193448]\n",
      "[ATE:53]  reward at the end of time step is [-0.037877422571182255]\n",
      "[ATA] optimization step performed\n",
      "[ATA episode 0]: took [8.4] seconds for one full step\n",
      "[ATE:53]  action [[1.68387274 0.72031566 0.21171257 0.15973451]] recieved\n",
      "[clf_engine]  scaled BS by [1.6838727414036825]; BS=[2500]\n",
      "[clf_engine]  scaled LR by [0.7203156573906985]; LR=[1.7988941378634836e-05]\n",
      "[clf_engine]  training loop: started for [30] updates; BS=[2500] LR=[1.295771613491409e-05]!\n"
     ]
    },
    {
     "data": {
      "application/vnd.jupyter.widget-view+json": {
       "model_id": "c8b1bf65c4314d31a70e7d1d7ae0b31d",
       "version_major": 2,
       "version_minor": 0
      },
      "text/plain": [
       "HBox(children=(FloatProgress(value=0.0, max=10.0), HTML(value='')))"
      ]
     },
     "metadata": {},
     "output_type": "display_data"
    },
    {
     "name": "stdout",
     "output_type": "stream",
     "text": [
      "\n",
      "[clf_engine]  training loop: started for [20] updates; BS=[2500] LR=[1.295771613491409e-05]!\n"
     ]
    },
    {
     "data": {
      "application/vnd.jupyter.widget-view+json": {
       "model_id": "dcf50ade186546a0b62d765a2ef18065",
       "version_major": 2,
       "version_minor": 0
      },
      "text/plain": [
       "HBox(children=(FloatProgress(value=0.0, max=10.0), HTML(value='')))"
      ]
     },
     "metadata": {},
     "output_type": "display_data"
    },
    {
     "name": "stdout",
     "output_type": "stream",
     "text": [
      "\n",
      "[clf_engine]  training loop: started for [10] updates; BS=[2500] LR=[1.295771613491409e-05]!\n"
     ]
    },
    {
     "data": {
      "application/vnd.jupyter.widget-view+json": {
       "model_id": "b5b79eb140ad4624ba1b2d6c1e44e37d",
       "version_major": 2,
       "version_minor": 0
      },
      "text/plain": [
       "HBox(children=(FloatProgress(value=0.0, max=10.0), HTML(value='')))"
      ]
     },
     "metadata": {},
     "output_type": "display_data"
    },
    {
     "name": "stdout",
     "output_type": "stream",
     "text": [
      "\n",
      "[clf_engine]  training loop: done!\n",
      "[ATE:54]  delta is: [-0.3831]; scaled delta is [-0.0383]\n",
      "[ATE:54]  [1.908915638923645, 1.9131431579589844, 1.9291232824325562, 1.9110000133514404, 1.9279286861419678, 1.9217156171798706, 1.882336139678955, 1.9144506454467773, 1.8912849426269531, 1.9074513912200928]\n",
      "[ATE:54]  [2.29799271 2.29526544 2.29565573 2.29603052 2.29632974 2.28280568\n",
      " 2.28404641 2.28814316 2.29863095 2.30329132]\n",
      "[ATE:54]  reward at the end of time step is [-0.03830842137336732]\n",
      "[ATA] optimization step performed\n",
      "[ATA episode 0]: took [9.3] seconds for one full step\n",
      "[ATE:54]  action [[1.66275159 0.76444333 0.18623504 0.14421317]] recieved\n",
      "[clf_engine]  scaled BS by [1.6627515856012862]; BS=[2500]\n",
      "[clf_engine]  scaled LR by [0.764443329869529]; LR=[1.295771613491409e-05]\n",
      "[clf_engine]  training loop: started for [30] updates; BS=[2500] LR=[9.90543966967785e-06]!\n"
     ]
    },
    {
     "data": {
      "application/vnd.jupyter.widget-view+json": {
       "model_id": "afb0d5c78c244b7e8a89867d8e220966",
       "version_major": 2,
       "version_minor": 0
      },
      "text/plain": [
       "HBox(children=(FloatProgress(value=0.0, max=10.0), HTML(value='')))"
      ]
     },
     "metadata": {},
     "output_type": "display_data"
    },
    {
     "name": "stdout",
     "output_type": "stream",
     "text": [
      "\n",
      "[clf_engine]  training loop: started for [20] updates; BS=[2500] LR=[9.90543966967785e-06]!\n"
     ]
    },
    {
     "data": {
      "application/vnd.jupyter.widget-view+json": {
       "model_id": "a9cef330aa794fb7afd2978397c250c8",
       "version_major": 2,
       "version_minor": 0
      },
      "text/plain": [
       "HBox(children=(FloatProgress(value=0.0, max=10.0), HTML(value='')))"
      ]
     },
     "metadata": {},
     "output_type": "display_data"
    },
    {
     "name": "stdout",
     "output_type": "stream",
     "text": [
      "\n",
      "[clf_engine]  training loop: started for [10] updates; BS=[2500] LR=[9.90543966967785e-06]!\n"
     ]
    },
    {
     "data": {
      "application/vnd.jupyter.widget-view+json": {
       "model_id": "fbef744abbab47d6bdc73bc818178c36",
       "version_major": 2,
       "version_minor": 0
      },
      "text/plain": [
       "HBox(children=(FloatProgress(value=0.0, max=10.0), HTML(value='')))"
      ]
     },
     "metadata": {},
     "output_type": "display_data"
    },
    {
     "name": "stdout",
     "output_type": "stream",
     "text": [
      "\n",
      "[clf_engine]  training loop: done!\n",
      "[ATE:55]  delta is: [-0.3792]; scaled delta is [-0.0379]\n",
      "[ATE:55]  [1.913389801979065, 1.8907406330108643, 1.9113185405731201, 1.9299589395523071, 1.9063998460769653, 1.9101054668426514, 1.9003154039382935, 1.917891025543213, 1.9305362701416016, 1.8926537036895752]\n",
      "[ATE:55]  [2.26863718 2.28002286 2.30093169 2.27192283 2.31121945 2.30240417\n",
      " 2.28336501 2.27413583 2.2976613  2.30466366]\n",
      "[ATE:55]  reward at the end of time step is [-0.03791654348373415]\n",
      "[ATA] optimization step performed\n",
      "[ATA episode 0]: took [9.2] seconds for one full step\n",
      "[ATE:55]  action [[1.72254449 0.78603295 0.22852331 0.16260912]] recieved\n",
      "[clf_engine]  scaled BS by [1.722544485735161]; BS=[2500]\n",
      "[clf_engine]  scaled LR by [0.7860329451658281]; LR=[9.90543966967785e-06]\n",
      "[clf_engine]  training loop: started for [30] updates; BS=[2500] LR=[7.786001916719307e-06]!\n"
     ]
    },
    {
     "data": {
      "application/vnd.jupyter.widget-view+json": {
       "model_id": "4b89e594ab2c402bacbe0f3af78f59cb",
       "version_major": 2,
       "version_minor": 0
      },
      "text/plain": [
       "HBox(children=(FloatProgress(value=0.0, max=10.0), HTML(value='')))"
      ]
     },
     "metadata": {},
     "output_type": "display_data"
    },
    {
     "name": "stdout",
     "output_type": "stream",
     "text": [
      "\n",
      "[clf_engine]  training loop: started for [20] updates; BS=[2500] LR=[7.786001916719307e-06]!\n"
     ]
    },
    {
     "data": {
      "application/vnd.jupyter.widget-view+json": {
       "model_id": "8b75778568a84e408154519bf86c680c",
       "version_major": 2,
       "version_minor": 0
      },
      "text/plain": [
       "HBox(children=(FloatProgress(value=0.0, max=10.0), HTML(value='')))"
      ]
     },
     "metadata": {},
     "output_type": "display_data"
    },
    {
     "name": "stdout",
     "output_type": "stream",
     "text": [
      "\n",
      "[clf_engine]  training loop: started for [10] updates; BS=[2500] LR=[7.786001916719307e-06]!\n"
     ]
    },
    {
     "data": {
      "application/vnd.jupyter.widget-view+json": {
       "model_id": "1d18f97224d44244926f53c6cea8b3e6",
       "version_major": 2,
       "version_minor": 0
      },
      "text/plain": [
       "HBox(children=(FloatProgress(value=0.0, max=10.0), HTML(value='')))"
      ]
     },
     "metadata": {},
     "output_type": "display_data"
    },
    {
     "name": "stdout",
     "output_type": "stream",
     "text": [
      "\n",
      "[clf_engine]  training loop: done!\n",
      "[ATE:56]  delta is: [-0.3804]; scaled delta is [-0.0380]\n",
      "[ATE:56]  [1.9412429332733154, 1.9281195402145386, 1.8964284658432007, 1.9008564949035645, 1.9036602973937988, 1.9341989755630493, 1.911251187324524, 1.9050965309143066, 1.8988761901855469, 1.9115238189697266]\n",
      "[ATE:56]  [2.28801918 2.28339767 2.27973461 2.30502844 2.28439999 2.2914474\n",
      " 2.28441024 2.30455613 2.28500867 2.32894754]\n",
      "[ATE:56]  reward at the end of time step is [-0.03803695440292357]\n",
      "[ATA] optimization step performed\n",
      "[ATA episode 0]: took [9.4] seconds for one full step\n",
      "[ATE:56]  action [[1.66511705 0.88469047 0.257189   0.16596259]] recieved\n",
      "[clf_engine]  scaled BS by [1.66511704900782]; BS=[2500]\n",
      "[clf_engine]  scaled LR by [0.8846904688753061]; LR=[7.786001916719307e-06]\n",
      "[clf_engine]  training loop: started for [30] updates; BS=[2500] LR=[6.8882016863664366e-06]!\n"
     ]
    },
    {
     "data": {
      "application/vnd.jupyter.widget-view+json": {
       "model_id": "92f062bada504fd489f80e92f37b794d",
       "version_major": 2,
       "version_minor": 0
      },
      "text/plain": [
       "HBox(children=(FloatProgress(value=0.0, max=10.0), HTML(value='')))"
      ]
     },
     "metadata": {},
     "output_type": "display_data"
    },
    {
     "name": "stdout",
     "output_type": "stream",
     "text": [
      "\n",
      "[clf_engine]  training loop: started for [20] updates; BS=[2500] LR=[6.8882016863664366e-06]!\n"
     ]
    },
    {
     "data": {
      "application/vnd.jupyter.widget-view+json": {
       "model_id": "265ce281aba046388b37658c2a79c9e3",
       "version_major": 2,
       "version_minor": 0
      },
      "text/plain": [
       "HBox(children=(FloatProgress(value=0.0, max=10.0), HTML(value='')))"
      ]
     },
     "metadata": {},
     "output_type": "display_data"
    },
    {
     "name": "stdout",
     "output_type": "stream",
     "text": [
      "\n",
      "[clf_engine]  training loop: started for [10] updates; BS=[2500] LR=[6.8882016863664366e-06]!\n"
     ]
    },
    {
     "data": {
      "application/vnd.jupyter.widget-view+json": {
       "model_id": "53a11b130a5544dc94a38717f1c8933c",
       "version_major": 2,
       "version_minor": 0
      },
      "text/plain": [
       "HBox(children=(FloatProgress(value=0.0, max=10.0), HTML(value='')))"
      ]
     },
     "metadata": {},
     "output_type": "display_data"
    },
    {
     "name": "stdout",
     "output_type": "stream",
     "text": [
      "\n",
      "[clf_engine]  training loop: done!\n",
      "[ATE:57]  delta is: [-0.3699]; scaled delta is [-0.0370]\n",
      "[ATE:57]  [1.920697808265686, 1.8962736129760742, 1.9342976808547974, 1.913910150527954, 1.9282461404800415, 1.9153648614883423, 1.9247982501983643, 1.923356294631958, 1.9188477993011475, 1.9172090291976929]\n",
      "[ATE:57]  [2.29969573 2.28837347 2.29637432 2.33232117 2.28120184 2.28445554\n",
      " 2.28312135 2.2698245  2.29451895 2.26219487]\n",
      "[ATE:57]  reward at the end of time step is [-0.03699080109596253]\n",
      "[ATA] optimization step performed\n",
      "[ATA episode 0]: took [9.0] seconds for one full step\n",
      "[ATE:57]  action [[1.63782198 0.94285863 0.26416904 0.12983613]] recieved\n",
      "[clf_engine]  scaled BS by [1.637821977687785]; BS=[2500]\n",
      "[clf_engine]  scaled LR by [0.9428586277417849]; LR=[6.8882016863664366e-06]\n",
      "[clf_engine]  training loop: started for [30] updates; BS=[2500] LR=[6.4946003896161064e-06]!\n"
     ]
    },
    {
     "data": {
      "application/vnd.jupyter.widget-view+json": {
       "model_id": "367dd47604494383959ac07931d312fa",
       "version_major": 2,
       "version_minor": 0
      },
      "text/plain": [
       "HBox(children=(FloatProgress(value=0.0, max=10.0), HTML(value='')))"
      ]
     },
     "metadata": {},
     "output_type": "display_data"
    },
    {
     "name": "stdout",
     "output_type": "stream",
     "text": [
      "\n",
      "[clf_engine]  training loop: started for [20] updates; BS=[2500] LR=[6.4946003896161064e-06]!\n"
     ]
    },
    {
     "data": {
      "application/vnd.jupyter.widget-view+json": {
       "model_id": "e26a973acc2048b7b6f30c458cc28f80",
       "version_major": 2,
       "version_minor": 0
      },
      "text/plain": [
       "HBox(children=(FloatProgress(value=0.0, max=10.0), HTML(value='')))"
      ]
     },
     "metadata": {},
     "output_type": "display_data"
    },
    {
     "name": "stdout",
     "output_type": "stream",
     "text": [
      "\n",
      "[clf_engine]  training loop: started for [10] updates; BS=[2500] LR=[6.4946003896161064e-06]!\n"
     ]
    },
    {
     "data": {
      "application/vnd.jupyter.widget-view+json": {
       "model_id": "a2cdf439aec6436b8d854026dd295c49",
       "version_major": 2,
       "version_minor": 0
      },
      "text/plain": [
       "HBox(children=(FloatProgress(value=0.0, max=10.0), HTML(value='')))"
      ]
     },
     "metadata": {},
     "output_type": "display_data"
    },
    {
     "name": "stdout",
     "output_type": "stream",
     "text": [
      "\n",
      "[clf_engine]  training loop: done!\n",
      "[ATE:58]  delta is: [-0.3866]; scaled delta is [-0.0387]\n",
      "[ATE:58]  [1.9108716249465942, 1.9092880487442017, 1.9484527111053467, 1.896578311920166, 1.9319480657577515, 1.8894888162612915, 1.9171427488327026, 1.8928786516189575, 1.8898577690124512, 1.9017091989517212]\n",
      "[ATE:58]  [2.28645253 2.29557562 2.31088519 2.30591488 2.28025723 2.29559684\n",
      " 2.30980587 2.28657675 2.318012   2.26512337]\n",
      "[ATE:58]  reward at the end of time step is [-0.038659843206405656]\n",
      "[ATA] optimization step performed\n",
      "[ATA episode 0]: took [9.0] seconds for one full step\n",
      "[ATE:58]  action [[1.64036954 0.77809172 0.27410277 0.1128166 ]] recieved\n",
      "[clf_engine]  scaled BS by [1.6403695369412425]; BS=[2500]\n",
      "[clf_engine]  scaled LR by [0.7780917172876641]; LR=[6.4946003896161064e-06]\n",
      "[clf_engine]  training loop: started for [30] updates; BS=[2500] LR=[5.053394770253529e-06]!\n"
     ]
    },
    {
     "data": {
      "application/vnd.jupyter.widget-view+json": {
       "model_id": "99cb0aedde1048e9a683905a35d7fd63",
       "version_major": 2,
       "version_minor": 0
      },
      "text/plain": [
       "HBox(children=(FloatProgress(value=0.0, max=10.0), HTML(value='')))"
      ]
     },
     "metadata": {},
     "output_type": "display_data"
    },
    {
     "name": "stdout",
     "output_type": "stream",
     "text": [
      "\n",
      "[clf_engine]  training loop: started for [20] updates; BS=[2500] LR=[5.053394770253529e-06]!\n"
     ]
    },
    {
     "data": {
      "application/vnd.jupyter.widget-view+json": {
       "model_id": "8a0f6145c1df4ba29f961537e659da13",
       "version_major": 2,
       "version_minor": 0
      },
      "text/plain": [
       "HBox(children=(FloatProgress(value=0.0, max=10.0), HTML(value='')))"
      ]
     },
     "metadata": {},
     "output_type": "display_data"
    },
    {
     "name": "stdout",
     "output_type": "stream",
     "text": [
      "\n",
      "[clf_engine]  training loop: started for [10] updates; BS=[2500] LR=[5.053394770253529e-06]!\n"
     ]
    },
    {
     "data": {
      "application/vnd.jupyter.widget-view+json": {
       "model_id": "7bb0751928d140a28bb5535655d6ba5a",
       "version_major": 2,
       "version_minor": 0
      },
      "text/plain": [
       "HBox(children=(FloatProgress(value=0.0, max=10.0), HTML(value='')))"
      ]
     },
     "metadata": {},
     "output_type": "display_data"
    },
    {
     "name": "stdout",
     "output_type": "stream",
     "text": [
      "\n",
      "[clf_engine]  training loop: done!\n",
      "[ATE:59]  delta is: [-0.3734]; scaled delta is [-0.0373]\n",
      "[ATE:59]  [1.9278199672698975, 1.9169589281082153, 1.9133636951446533, 1.9259648323059082, 1.9082728624343872, 1.912952184677124, 1.947762131690979, 1.8994523286819458, 1.893194556236267, 1.9005372524261475]\n",
      "[ATE:59]  [2.30104518 2.29541564 2.28533411 2.25147629 2.27885723 2.30102968\n",
      " 2.30273771 2.27471185 2.30636215 2.28298187]\n",
      "[ATE:59]  reward at the end of time step is [-0.03733672976493838]\n",
      "[ATA] optimization step performed\n",
      "[ATA episode 0]: took [9.0] seconds for one full step\n",
      "[ATE:59]  action [[1.68461812 0.60356341 0.34096734 0.15506719]] recieved\n",
      "[clf_engine]  scaled BS by [1.6846181246432146]; BS=[2500]\n",
      "[clf_engine]  scaled LR by [0.603563406401772]; LR=[5.053394770253529e-06]\n",
      "[clf_engine]  training loop: started for [30] updates; BS=[2500] LR=[3.0500441614271198e-06]!\n"
     ]
    },
    {
     "data": {
      "application/vnd.jupyter.widget-view+json": {
       "model_id": "609f9ba374c0437eae833498a784b092",
       "version_major": 2,
       "version_minor": 0
      },
      "text/plain": [
       "HBox(children=(FloatProgress(value=0.0, max=10.0), HTML(value='')))"
      ]
     },
     "metadata": {},
     "output_type": "display_data"
    },
    {
     "name": "stdout",
     "output_type": "stream",
     "text": [
      "\n",
      "[clf_engine]  training loop: started for [20] updates; BS=[2500] LR=[3.0500441614271198e-06]!\n"
     ]
    },
    {
     "data": {
      "application/vnd.jupyter.widget-view+json": {
       "model_id": "b5b68f1c78b041dfa119953724d751e1",
       "version_major": 2,
       "version_minor": 0
      },
      "text/plain": [
       "HBox(children=(FloatProgress(value=0.0, max=10.0), HTML(value='')))"
      ]
     },
     "metadata": {},
     "output_type": "display_data"
    },
    {
     "name": "stdout",
     "output_type": "stream",
     "text": [
      "\n",
      "[clf_engine]  training loop: started for [10] updates; BS=[2500] LR=[3.0500441614271198e-06]!\n"
     ]
    },
    {
     "data": {
      "application/vnd.jupyter.widget-view+json": {
       "model_id": "88515d4940d24779bc5f051058c2b408",
       "version_major": 2,
       "version_minor": 0
      },
      "text/plain": [
       "HBox(children=(FloatProgress(value=0.0, max=10.0), HTML(value='')))"
      ]
     },
     "metadata": {},
     "output_type": "display_data"
    },
    {
     "name": "stdout",
     "output_type": "stream",
     "text": [
      "\n",
      "[clf_engine]  training loop: done!\n"
     ]
    },
    {
     "data": {
      "application/vnd.jupyter.widget-view+json": {
       "model_id": "f3b0cff528644d06b6458b5f585c2638",
       "version_major": 2,
       "version_minor": 0
      },
      "text/plain": [
       "HBox(children=(FloatProgress(value=0.0, max=1563.0), HTML(value='')))"
      ]
     },
     "metadata": {},
     "output_type": "display_data"
    },
    {
     "name": "stdout",
     "output_type": "stream",
     "text": [
      "\n"
     ]
    },
    {
     "data": {
      "application/vnd.jupyter.widget-view+json": {
       "model_id": "40ac7bb4469b4fba87d840e4ac59e20b",
       "version_major": 2,
       "version_minor": 0
      },
      "text/plain": [
       "HBox(children=(FloatProgress(value=0.0, max=625.0), HTML(value='')))"
      ]
     },
     "metadata": {},
     "output_type": "display_data"
    },
    {
     "name": "stdout",
     "output_type": "stream",
     "text": [
      "\n",
      "[ATE:60]  delta is: [-0.3749]; scaled delta is [-0.0375]\n",
      "[ATE:60]  [1.9122084379196167, 1.8794918060302734, 1.9358081817626953, 1.895159125328064, 1.9478864669799805, 1.9072868824005127, 1.8824787139892578, 1.9202097654342651, 1.9174623489379883, 1.9134513139724731]\n",
      "[ATE:60]  [2.30105662 2.28169203 2.28698516 2.28590941 2.29233527 2.2886982\n",
      " 2.2751565  2.28488612 2.27787614 2.28597546]\n",
      "[ATE:60]  reward at the end of time step is [-0.03749127864837647]\n",
      "[ATA] optimization step performed\n",
      "[ATA episode 0]: took [13.5] seconds for one full step\n",
      "[ATE:60]  action [[1.65453788 0.55754052 0.29142846 0.19264056]] recieved\n",
      "[clf_engine]  scaled BS by [1.6545378808943914]; BS=[2500]\n",
      "[clf_engine]  scaled LR by [0.5575405171332625]; LR=[3.0500441614271198e-06]\n",
      "[clf_engine]  training loop: started for [30] updates; BS=[2500] LR=[1.7005231990413643e-06]!\n"
     ]
    },
    {
     "data": {
      "application/vnd.jupyter.widget-view+json": {
       "model_id": "05dd1aec4a534ca6a0a58cfb7a3d8ae6",
       "version_major": 2,
       "version_minor": 0
      },
      "text/plain": [
       "HBox(children=(FloatProgress(value=0.0, max=10.0), HTML(value='')))"
      ]
     },
     "metadata": {},
     "output_type": "display_data"
    },
    {
     "name": "stdout",
     "output_type": "stream",
     "text": [
      "\n",
      "[clf_engine]  training loop: started for [20] updates; BS=[2500] LR=[1.7005231990413643e-06]!\n"
     ]
    },
    {
     "data": {
      "application/vnd.jupyter.widget-view+json": {
       "model_id": "380bc867ca2c491fb1f12cf56ae63328",
       "version_major": 2,
       "version_minor": 0
      },
      "text/plain": [
       "HBox(children=(FloatProgress(value=0.0, max=10.0), HTML(value='')))"
      ]
     },
     "metadata": {},
     "output_type": "display_data"
    },
    {
     "name": "stdout",
     "output_type": "stream",
     "text": [
      "\n",
      "[clf_engine]  training loop: started for [10] updates; BS=[2500] LR=[1.7005231990413643e-06]!\n"
     ]
    },
    {
     "data": {
      "application/vnd.jupyter.widget-view+json": {
       "model_id": "833e99d0ee6d4349855e58bbab52c1ca",
       "version_major": 2,
       "version_minor": 0
      },
      "text/plain": [
       "HBox(children=(FloatProgress(value=0.0, max=10.0), HTML(value='')))"
      ]
     },
     "metadata": {},
     "output_type": "display_data"
    },
    {
     "name": "stdout",
     "output_type": "stream",
     "text": [
      "\n",
      "[clf_engine]  training loop: done!\n",
      "[ATE:61]  delta is: [-0.3731]; scaled delta is [-0.0373]\n",
      "[ATE:61]  [1.913144588470459, 1.9201810359954834, 1.9235130548477173, 1.9311021566390991, 1.9225034713745117, 1.9104578495025635, 1.9010429382324219, 1.925707221031189, 1.929748296737671, 1.8888951539993286]\n",
      "[ATE:61]  [2.26217103 2.28162575 2.30112171 2.27956605 2.32742453 2.30527806\n",
      " 2.27527428 2.27194023 2.28370786 2.30914521]\n",
      "[ATE:61]  reward at the end of time step is [-0.03730958938598632]\n",
      "[ATA] optimization step performed\n",
      "[ATA episode 0]: took [10.4] seconds for one full step\n",
      "[ATE:61]  action [[1.62006751 0.55618241 0.29665226 0.21865183]] recieved\n",
      "[clf_engine]  scaled BS by [1.6200675110163623]; BS=[2500]\n",
      "[clf_engine]  scaled LR by [0.5561824138767454]; LR=[1.7005231990413643e-06]\n",
      "[clf_engine]  training loop: started for [30] updates; BS=[2500] LR=[9.458010976962311e-07]!\n"
     ]
    },
    {
     "data": {
      "application/vnd.jupyter.widget-view+json": {
       "model_id": "92aee3f18edf4813ad902e2e9153b2d8",
       "version_major": 2,
       "version_minor": 0
      },
      "text/plain": [
       "HBox(children=(FloatProgress(value=0.0, max=10.0), HTML(value='')))"
      ]
     },
     "metadata": {},
     "output_type": "display_data"
    },
    {
     "name": "stdout",
     "output_type": "stream",
     "text": [
      "\n",
      "[clf_engine]  training loop: started for [20] updates; BS=[2500] LR=[9.458010976962311e-07]!\n"
     ]
    },
    {
     "data": {
      "application/vnd.jupyter.widget-view+json": {
       "model_id": "9c8f64d0c7494ab2a77912f456551348",
       "version_major": 2,
       "version_minor": 0
      },
      "text/plain": [
       "HBox(children=(FloatProgress(value=0.0, max=10.0), HTML(value='')))"
      ]
     },
     "metadata": {},
     "output_type": "display_data"
    },
    {
     "name": "stdout",
     "output_type": "stream",
     "text": [
      "\n",
      "[clf_engine]  training loop: started for [10] updates; BS=[2500] LR=[9.458010976962311e-07]!\n"
     ]
    },
    {
     "data": {
      "application/vnd.jupyter.widget-view+json": {
       "model_id": "44748a6b07e3478aa3b8f0ff47154008",
       "version_major": 2,
       "version_minor": 0
      },
      "text/plain": [
       "HBox(children=(FloatProgress(value=0.0, max=10.0), HTML(value='')))"
      ]
     },
     "metadata": {},
     "output_type": "display_data"
    },
    {
     "name": "stdout",
     "output_type": "stream",
     "text": [
      "\n",
      "[clf_engine]  training loop: done!\n",
      "[ATE:62]  delta is: [-0.3770]; scaled delta is [-0.0377]\n",
      "[ATE:62]  [1.9378148317337036, 1.8842521905899048, 1.9034831523895264, 1.946393370628357, 1.8982759714126587, 1.9089876413345337, 1.9038220643997192, 1.9448180198669434, 1.9039961099624634, 1.9151794910430908]\n",
      "[ATE:62]  [2.30489516 2.30739689 2.2812233  2.28355932 2.29488802 2.29629302\n",
      " 2.29854727 2.27923751 2.26800632 2.30313802]\n",
      "[ATE:62]  reward at the end of time step is [-0.03770161986351013]\n",
      "[ATA] optimization step performed\n",
      "[ATA episode 0]: took [8.5] seconds for one full step\n",
      "[ATE:62]  action [[1.60027493 0.64112669 0.27498249 0.28889664]] recieved\n",
      "[clf_engine]  scaled BS by [1.6002749290953422]; BS=[2500]\n",
      "[clf_engine]  scaled LR by [0.6411266870324338]; LR=[9.458010976962311e-07]\n",
      "[clf_engine]  training loop: started for [30] updates; BS=[2500] LR=[6.063783243576239e-07]!\n"
     ]
    },
    {
     "data": {
      "application/vnd.jupyter.widget-view+json": {
       "model_id": "810d21af3e61456c809374011d451c58",
       "version_major": 2,
       "version_minor": 0
      },
      "text/plain": [
       "HBox(children=(FloatProgress(value=0.0, max=10.0), HTML(value='')))"
      ]
     },
     "metadata": {},
     "output_type": "display_data"
    },
    {
     "name": "stdout",
     "output_type": "stream",
     "text": [
      "\n",
      "[clf_engine]  training loop: started for [20] updates; BS=[2500] LR=[6.063783243576239e-07]!\n"
     ]
    },
    {
     "data": {
      "application/vnd.jupyter.widget-view+json": {
       "model_id": "ab8bcf574cd74d8484758c36e7fbaa6f",
       "version_major": 2,
       "version_minor": 0
      },
      "text/plain": [
       "HBox(children=(FloatProgress(value=0.0, max=10.0), HTML(value='')))"
      ]
     },
     "metadata": {},
     "output_type": "display_data"
    },
    {
     "name": "stdout",
     "output_type": "stream",
     "text": [
      "\n",
      "[clf_engine]  training loop: started for [10] updates; BS=[2500] LR=[6.063783243576239e-07]!\n"
     ]
    },
    {
     "data": {
      "application/vnd.jupyter.widget-view+json": {
       "model_id": "06fcc8092c5e4a6a9e392b33f0250ee7",
       "version_major": 2,
       "version_minor": 0
      },
      "text/plain": [
       "HBox(children=(FloatProgress(value=0.0, max=10.0), HTML(value='')))"
      ]
     },
     "metadata": {},
     "output_type": "display_data"
    },
    {
     "name": "stdout",
     "output_type": "stream",
     "text": [
      "\n",
      "[clf_engine]  training loop: done!\n",
      "[ATE:63]  delta is: [-0.3650]; scaled delta is [-0.0365]\n",
      "[ATE:63]  [1.943285584449768, 1.8949601650238037, 1.9358458518981934, 1.9031802415847778, 1.9097388982772827, 1.9296159744262695, 1.9118386507034302, 1.8991724252700806, 1.9122544527053833, 1.9065290689468384]\n",
      "[ATE:63]  [2.25755477 2.26806951 2.26315475 2.28578877 2.28036666 2.32229304\n",
      " 2.30462098 2.26391029 2.27830076 2.27252316]\n",
      "[ATE:63]  reward at the end of time step is [-0.03650161385536195]\n",
      "[ATA] optimization step performed\n",
      "[ATA episode 0]: took [8.7] seconds for one full step\n",
      "[ATE:63]  action [[1.54400209 0.64229354 0.30308617 0.23125653]] recieved\n",
      "[clf_engine]  scaled BS by [1.5440020937590826]; BS=[2500]\n",
      "[clf_engine]  scaled LR by [0.6422935362236946]; LR=[6.063783243576239e-07]\n",
      "[clf_engine]  training loop: started for [30] updates; BS=[2500] LR=[3.8947287824105675e-07]!\n"
     ]
    },
    {
     "data": {
      "application/vnd.jupyter.widget-view+json": {
       "model_id": "a3b1004e988b45e09e04f05529758934",
       "version_major": 2,
       "version_minor": 0
      },
      "text/plain": [
       "HBox(children=(FloatProgress(value=0.0, max=10.0), HTML(value='')))"
      ]
     },
     "metadata": {},
     "output_type": "display_data"
    },
    {
     "name": "stdout",
     "output_type": "stream",
     "text": [
      "\n",
      "[clf_engine]  training loop: started for [20] updates; BS=[2500] LR=[3.8947287824105675e-07]!\n"
     ]
    },
    {
     "data": {
      "application/vnd.jupyter.widget-view+json": {
       "model_id": "8bd98e863833499ab341a89d9871842b",
       "version_major": 2,
       "version_minor": 0
      },
      "text/plain": [
       "HBox(children=(FloatProgress(value=0.0, max=10.0), HTML(value='')))"
      ]
     },
     "metadata": {},
     "output_type": "display_data"
    },
    {
     "name": "stdout",
     "output_type": "stream",
     "text": [
      "\n",
      "[clf_engine]  training loop: started for [10] updates; BS=[2500] LR=[3.8947287824105675e-07]!\n"
     ]
    },
    {
     "data": {
      "application/vnd.jupyter.widget-view+json": {
       "model_id": "9acdfac83e7c4211a187efbbe9cddda6",
       "version_major": 2,
       "version_minor": 0
      },
      "text/plain": [
       "HBox(children=(FloatProgress(value=0.0, max=10.0), HTML(value='')))"
      ]
     },
     "metadata": {},
     "output_type": "display_data"
    },
    {
     "name": "stdout",
     "output_type": "stream",
     "text": [
      "\n",
      "[clf_engine]  training loop: done!\n",
      "[ATE:64]  delta is: [-0.3719]; scaled delta is [-0.0372]\n",
      "[ATE:64]  [1.9120851755142212, 1.8910330533981323, 1.9205704927444458, 1.9369040727615356, 1.9080122709274292, 1.924136757850647, 1.9091638326644897, 1.9261304140090942, 1.8987926244735718, 1.9126472473144531]\n",
      "[ATE:64]  [2.27387595 2.29627633 2.26512456 2.2879715  2.30547452 2.2745862\n",
      " 2.27900982 2.27907419 2.29734874 2.29991961]\n",
      "[ATE:64]  reward at the end of time step is [-0.0371918547153473]\n",
      "[ATA] optimization step performed\n",
      "[ATA episode 0]: took [9.1] seconds for one full step\n",
      "[ATE:64]  action [[1.51734302 0.52158104 0.35757267 0.20216401]] recieved\n",
      "[clf_engine]  scaled BS by [1.5173430213024188]; BS=[2500]\n",
      "[clf_engine]  scaled LR by [0.521581035273665]; LR=[3.8947287824105675e-07]\n",
      "[clf_engine]  training loop: started for [30] updates; BS=[2500] LR=[2.0314166704398443e-07]!\n"
     ]
    },
    {
     "data": {
      "application/vnd.jupyter.widget-view+json": {
       "model_id": "af8a6c12a7324bc5bc5f774859fe4b1e",
       "version_major": 2,
       "version_minor": 0
      },
      "text/plain": [
       "HBox(children=(FloatProgress(value=0.0, max=10.0), HTML(value='')))"
      ]
     },
     "metadata": {},
     "output_type": "display_data"
    },
    {
     "name": "stdout",
     "output_type": "stream",
     "text": [
      "\n",
      "[clf_engine]  training loop: started for [20] updates; BS=[2500] LR=[2.0314166704398443e-07]!\n"
     ]
    },
    {
     "data": {
      "application/vnd.jupyter.widget-view+json": {
       "model_id": "2ca5e0007db94b94a897be7c55d6932c",
       "version_major": 2,
       "version_minor": 0
      },
      "text/plain": [
       "HBox(children=(FloatProgress(value=0.0, max=10.0), HTML(value='')))"
      ]
     },
     "metadata": {},
     "output_type": "display_data"
    },
    {
     "name": "stdout",
     "output_type": "stream",
     "text": [
      "\n",
      "[clf_engine]  training loop: started for [10] updates; BS=[2500] LR=[2.0314166704398443e-07]!\n"
     ]
    },
    {
     "data": {
      "application/vnd.jupyter.widget-view+json": {
       "model_id": "581f0f6f19ad4ed5b47a444b1a63cebb",
       "version_major": 2,
       "version_minor": 0
      },
      "text/plain": [
       "HBox(children=(FloatProgress(value=0.0, max=10.0), HTML(value='')))"
      ]
     },
     "metadata": {},
     "output_type": "display_data"
    },
    {
     "name": "stdout",
     "output_type": "stream",
     "text": [
      "\n",
      "[clf_engine]  training loop: done!\n",
      "[ATE:65]  delta is: [-0.3760]; scaled delta is [-0.0376]\n",
      "[ATE:65]  [1.9194060564041138, 1.8812819719314575, 1.9334683418273926, 1.9369144439697266, 1.9082896709442139, 1.8883922100067139, 1.9133450984954834, 1.9165935516357422, 1.900033950805664, 1.9051523208618164]\n",
      "[ATE:65]  [2.29132318 2.29556417 2.27168059 2.29743505 2.30492878 2.28152013\n",
      " 2.29230404 2.27455616 2.2811451  2.27209997]\n",
      "[ATE:65]  reward at the end of time step is [-0.037596795558929454]\n",
      "[ATA] optimization step performed\n",
      "[ATA episode 0]: took [9.3] seconds for one full step\n",
      "[ATE:65]  action [[1.61062173 0.49264317 0.38742075 0.21336223]] recieved\n",
      "[clf_engine]  scaled BS by [1.610621731378421]; BS=[2500]\n",
      "[clf_engine]  scaled LR by [0.4926431653564749]; LR=[2.0314166704398443e-07]\n",
      "[clf_engine]  training loop: started for [30] updates; BS=[2500] LR=[1.0007635386833958e-07]!\n"
     ]
    },
    {
     "data": {
      "application/vnd.jupyter.widget-view+json": {
       "model_id": "f91c854422b84ed094ef0796f735654c",
       "version_major": 2,
       "version_minor": 0
      },
      "text/plain": [
       "HBox(children=(FloatProgress(value=0.0, max=10.0), HTML(value='')))"
      ]
     },
     "metadata": {},
     "output_type": "display_data"
    },
    {
     "name": "stdout",
     "output_type": "stream",
     "text": [
      "\n",
      "[clf_engine]  training loop: started for [20] updates; BS=[2500] LR=[1.0007635386833958e-07]!\n"
     ]
    },
    {
     "data": {
      "application/vnd.jupyter.widget-view+json": {
       "model_id": "791fcfcb44074d189da6f4cbce241efd",
       "version_major": 2,
       "version_minor": 0
      },
      "text/plain": [
       "HBox(children=(FloatProgress(value=0.0, max=10.0), HTML(value='')))"
      ]
     },
     "metadata": {},
     "output_type": "display_data"
    },
    {
     "name": "stdout",
     "output_type": "stream",
     "text": [
      "\n",
      "[clf_engine]  training loop: started for [10] updates; BS=[2500] LR=[1.0007635386833958e-07]!\n"
     ]
    },
    {
     "data": {
      "application/vnd.jupyter.widget-view+json": {
       "model_id": "08751cd737534c05b6199ecc3b812f2b",
       "version_major": 2,
       "version_minor": 0
      },
      "text/plain": [
       "HBox(children=(FloatProgress(value=0.0, max=10.0), HTML(value='')))"
      ]
     },
     "metadata": {},
     "output_type": "display_data"
    },
    {
     "name": "stdout",
     "output_type": "stream",
     "text": [
      "\n",
      "[clf_engine]  training loop: done!\n",
      "[ATE:66]  delta is: [-0.3725]; scaled delta is [-0.0372]\n",
      "[ATE:66]  [1.8983255624771118, 1.9109467267990112, 1.9074406623840332, 1.9122868776321411, 1.9094467163085938, 1.9193933010101318, 1.916664481163025, 1.9115052223205566, 1.9198484420776367, 1.9126912355422974]\n",
      "[ATE:66]  [2.26238322 2.29726219 2.28553772 2.31162    2.28676987 2.27897406\n",
      " 2.28906226 2.28028941 2.2690165  2.28246713]\n",
      "[ATE:66]  reward at the end of time step is [-0.03724833130836487]\n",
      "[ATA] optimization step performed\n",
      "[ATA episode 0]: took [9.1] seconds for one full step\n",
      "[ATE:66]  action [[1.67893176 0.47725354 0.47120159 0.2477234 ]] recieved\n",
      "[clf_engine]  scaled BS by [1.678931758190784]; BS=[2500]\n",
      "[clf_engine]  scaled LR by [0.4772535360946816]; LR=[1.0007635386833958e-07]\n",
      "[clf_engine]  training loop: started for [30] updates; BS=[2500] LR=[4.7761793763127734e-08]!\n"
     ]
    },
    {
     "data": {
      "application/vnd.jupyter.widget-view+json": {
       "model_id": "7e15ebe43dc34d91ac936f1f07d8c721",
       "version_major": 2,
       "version_minor": 0
      },
      "text/plain": [
       "HBox(children=(FloatProgress(value=0.0, max=10.0), HTML(value='')))"
      ]
     },
     "metadata": {},
     "output_type": "display_data"
    },
    {
     "name": "stdout",
     "output_type": "stream",
     "text": [
      "\n",
      "[clf_engine]  training loop: started for [20] updates; BS=[2500] LR=[4.7761793763127734e-08]!\n"
     ]
    },
    {
     "data": {
      "application/vnd.jupyter.widget-view+json": {
       "model_id": "6c1500cc7832491e8372fb11c29a4e13",
       "version_major": 2,
       "version_minor": 0
      },
      "text/plain": [
       "HBox(children=(FloatProgress(value=0.0, max=10.0), HTML(value='')))"
      ]
     },
     "metadata": {},
     "output_type": "display_data"
    },
    {
     "name": "stdout",
     "output_type": "stream",
     "text": [
      "\n",
      "[clf_engine]  training loop: started for [10] updates; BS=[2500] LR=[4.7761793763127734e-08]!\n"
     ]
    },
    {
     "data": {
      "application/vnd.jupyter.widget-view+json": {
       "model_id": "eb936a18df03419581d971823147443f",
       "version_major": 2,
       "version_minor": 0
      },
      "text/plain": [
       "HBox(children=(FloatProgress(value=0.0, max=10.0), HTML(value='')))"
      ]
     },
     "metadata": {},
     "output_type": "display_data"
    },
    {
     "name": "stdout",
     "output_type": "stream",
     "text": [
      "\n",
      "[clf_engine]  training loop: done!\n",
      "[ATE:67]  delta is: [-0.3743]; scaled delta is [-0.0374]\n",
      "[ATE:67]  [1.9169179201126099, 1.9219740629196167, 1.9185463190078735, 1.9137324094772339, 1.9130113124847412, 1.9032435417175293, 1.939146876335144, 1.911006212234497, 1.9272648096084595, 1.9018503427505493]\n",
      "[ATE:67]  [2.28009415 2.29540944 2.3416853  2.28578448 2.2653265  2.27676678\n",
      " 2.26877403 2.29408455 2.29943132 2.30235887]\n",
      "[ATE:67]  reward at the end of time step is [-0.037430216073989865]\n",
      "[ATA] optimization step performed\n",
      "[ATA episode 0]: took [9.3] seconds for one full step\n",
      "[ATE:67]  action [[1.71747081 0.55671655 0.41459927 0.22763415]] recieved\n",
      "[clf_engine]  scaled BS by [1.7174708128154894]; BS=[2500]\n",
      "[clf_engine]  scaled LR by [0.5567165481066373]; LR=[4.7761793763127734e-08]\n",
      "[clf_engine]  training loop: started for [30] updates; BS=[2500] LR=[2.658978095518959e-08]!\n"
     ]
    },
    {
     "data": {
      "application/vnd.jupyter.widget-view+json": {
       "model_id": "32e028b1940b452fb959d8101354dd84",
       "version_major": 2,
       "version_minor": 0
      },
      "text/plain": [
       "HBox(children=(FloatProgress(value=0.0, max=10.0), HTML(value='')))"
      ]
     },
     "metadata": {},
     "output_type": "display_data"
    },
    {
     "name": "stdout",
     "output_type": "stream",
     "text": [
      "\n",
      "[clf_engine]  training loop: started for [20] updates; BS=[2500] LR=[2.658978095518959e-08]!\n"
     ]
    },
    {
     "data": {
      "application/vnd.jupyter.widget-view+json": {
       "model_id": "77b3b04a37e84a67873586146d0b2899",
       "version_major": 2,
       "version_minor": 0
      },
      "text/plain": [
       "HBox(children=(FloatProgress(value=0.0, max=10.0), HTML(value='')))"
      ]
     },
     "metadata": {},
     "output_type": "display_data"
    },
    {
     "name": "stdout",
     "output_type": "stream",
     "text": [
      "\n",
      "[clf_engine]  training loop: started for [10] updates; BS=[2500] LR=[2.658978095518959e-08]!\n"
     ]
    },
    {
     "data": {
      "application/vnd.jupyter.widget-view+json": {
       "model_id": "3eb03452786841d6aba72a133553b606",
       "version_major": 2,
       "version_minor": 0
      },
      "text/plain": [
       "HBox(children=(FloatProgress(value=0.0, max=10.0), HTML(value='')))"
      ]
     },
     "metadata": {},
     "output_type": "display_data"
    },
    {
     "name": "stdout",
     "output_type": "stream",
     "text": [
      "\n",
      "[clf_engine]  training loop: done!\n",
      "[ATE:68]  delta is: [-0.3772]; scaled delta is [-0.0377]\n",
      "[ATE:68]  [1.9231035709381104, 1.9124023914337158, 1.9214286804199219, 1.925657868385315, 1.91123628616333, 1.916890025138855, 1.8795009851455688, 1.9298820495605469, 1.886715054512024, 1.929903507232666]\n",
      "[ATE:68]  [2.2789588  2.29905033 2.25223446 2.30518842 2.29013515 2.29512525\n",
      " 2.31138611 2.28364611 2.28944397 2.30373669]\n",
      "[ATE:68]  reward at the end of time step is [-0.03772184848785403]\n",
      "[ATA] optimization step performed\n",
      "[ATA episode 0]: took [8.9] seconds for one full step\n",
      "[ATE:68]  action [[1.56782397 0.61352125 0.35098055 0.18208884]] recieved\n",
      "[clf_engine]  scaled BS by [1.5678239664558302]; BS=[2500]\n",
      "[clf_engine]  scaled LR by [0.6135212496679668]; LR=[2.658978095518959e-08]\n",
      "[clf_engine]  training loop: started for [30] updates; BS=[2500] LR=[1.6313395640025423e-08]!\n"
     ]
    },
    {
     "data": {
      "application/vnd.jupyter.widget-view+json": {
       "model_id": "4b11b7652e3f4af3a16f45e59a0278f0",
       "version_major": 2,
       "version_minor": 0
      },
      "text/plain": [
       "HBox(children=(FloatProgress(value=0.0, max=10.0), HTML(value='')))"
      ]
     },
     "metadata": {},
     "output_type": "display_data"
    },
    {
     "name": "stdout",
     "output_type": "stream",
     "text": [
      "\n",
      "[clf_engine]  training loop: started for [20] updates; BS=[2500] LR=[1.6313395640025423e-08]!\n"
     ]
    },
    {
     "data": {
      "application/vnd.jupyter.widget-view+json": {
       "model_id": "73ba9f089fd2477d88845e26ca195a0c",
       "version_major": 2,
       "version_minor": 0
      },
      "text/plain": [
       "HBox(children=(FloatProgress(value=0.0, max=10.0), HTML(value='')))"
      ]
     },
     "metadata": {},
     "output_type": "display_data"
    },
    {
     "name": "stdout",
     "output_type": "stream",
     "text": [
      "\n",
      "[clf_engine]  training loop: started for [10] updates; BS=[2500] LR=[1.6313395640025423e-08]!\n"
     ]
    },
    {
     "data": {
      "application/vnd.jupyter.widget-view+json": {
       "model_id": "4a9a62099f6a4fec9a78a6ce1a66e399",
       "version_major": 2,
       "version_minor": 0
      },
      "text/plain": [
       "HBox(children=(FloatProgress(value=0.0, max=10.0), HTML(value='')))"
      ]
     },
     "metadata": {},
     "output_type": "display_data"
    },
    {
     "name": "stdout",
     "output_type": "stream",
     "text": [
      "\n",
      "[clf_engine]  training loop: done!\n",
      "[ATE:69]  delta is: [-0.3764]; scaled delta is [-0.0376]\n",
      "[ATE:69]  [1.9314097166061401, 1.914414644241333, 1.9191685914993286, 1.9117175340652466, 1.9314802885055542, 1.9093244075775146, 1.8899565935134888, 1.8874763250350952, 1.9094734191894531, 1.9134912490844727]\n",
      "[ATE:69]  [2.27070427 2.2996974  2.29524016 2.25483274 2.30782151 2.29592133\n",
      " 2.29398298 2.27540946 2.28651261 2.30209017]\n",
      "[ATE:69]  reward at the end of time step is [-0.037642998695373533]\n",
      "[ATA] optimization step performed\n",
      "[ATA episode 0]: took [8.8] seconds for one full step\n",
      "[ATE:69]  action [[1.59478252 0.5817188  0.32375038 0.1740488 ]] recieved\n",
      "[clf_engine]  scaled BS by [1.5947825241741183]; BS=[2500]\n",
      "[clf_engine]  scaled LR by [0.581718799272033]; LR=[1.6313395640025423e-08]\n",
      "[clf_engine]  training loop: started for [30] updates; BS=[2500] LR=[9.489808923765206e-09]!\n"
     ]
    },
    {
     "data": {
      "application/vnd.jupyter.widget-view+json": {
       "model_id": "b509cdb79194496b884838d484c5bde4",
       "version_major": 2,
       "version_minor": 0
      },
      "text/plain": [
       "HBox(children=(FloatProgress(value=0.0, max=10.0), HTML(value='')))"
      ]
     },
     "metadata": {},
     "output_type": "display_data"
    },
    {
     "name": "stdout",
     "output_type": "stream",
     "text": [
      "\n",
      "[clf_engine]  training loop: started for [20] updates; BS=[2500] LR=[9.489808923765206e-09]!\n"
     ]
    },
    {
     "data": {
      "application/vnd.jupyter.widget-view+json": {
       "model_id": "4f7b6310b6ee4b18b3f3f59c630dd8e6",
       "version_major": 2,
       "version_minor": 0
      },
      "text/plain": [
       "HBox(children=(FloatProgress(value=0.0, max=10.0), HTML(value='')))"
      ]
     },
     "metadata": {},
     "output_type": "display_data"
    },
    {
     "name": "stdout",
     "output_type": "stream",
     "text": [
      "\n",
      "[clf_engine]  training loop: started for [10] updates; BS=[2500] LR=[9.489808923765206e-09]!\n"
     ]
    },
    {
     "data": {
      "application/vnd.jupyter.widget-view+json": {
       "model_id": "9702dbf07000424fa25e4572230935ba",
       "version_major": 2,
       "version_minor": 0
      },
      "text/plain": [
       "HBox(children=(FloatProgress(value=0.0, max=10.0), HTML(value='')))"
      ]
     },
     "metadata": {},
     "output_type": "display_data"
    },
    {
     "name": "stdout",
     "output_type": "stream",
     "text": [
      "\n",
      "[clf_engine]  training loop: done!\n"
     ]
    },
    {
     "data": {
      "application/vnd.jupyter.widget-view+json": {
       "model_id": "156b60dcfede4838a7eb7ce6ff8e6153",
       "version_major": 2,
       "version_minor": 0
      },
      "text/plain": [
       "HBox(children=(FloatProgress(value=0.0, max=1563.0), HTML(value='')))"
      ]
     },
     "metadata": {},
     "output_type": "display_data"
    },
    {
     "name": "stdout",
     "output_type": "stream",
     "text": [
      "\n"
     ]
    },
    {
     "data": {
      "application/vnd.jupyter.widget-view+json": {
       "model_id": "ac640ec620f842ba93954477f03acf12",
       "version_major": 2,
       "version_minor": 0
      },
      "text/plain": [
       "HBox(children=(FloatProgress(value=0.0, max=625.0), HTML(value='')))"
      ]
     },
     "metadata": {},
     "output_type": "display_data"
    },
    {
     "name": "stdout",
     "output_type": "stream",
     "text": [
      "\n",
      "[ATE:70]  delta is: [-0.3701]; scaled delta is [-0.0370]\n",
      "[ATE:70]  [1.945816159248352, 1.937516450881958, 1.915254831314087, 1.920334815979004, 1.9198286533355713, 1.9013464450836182, 1.915986180305481, 1.9127181768417358, 1.9141499996185303, 1.8956023454666138]\n",
      "[ATE:70]  [2.29262495 2.28511786 2.28857207 2.29623938 2.29413247 2.2875793\n",
      " 2.28426266 2.30275106 2.26490927 2.28330088]\n",
      "[ATE:70]  reward at the end of time step is [-0.037009358406066895]\n",
      "[ATA] optimization step performed\n",
      "[ATA episode 0]: took [13.7] seconds for one full step\n",
      "[ATE:70]  action [[1.61513297 0.54571704 0.33343503 0.20191428]] recieved\n",
      "[clf_engine]  scaled BS by [1.6151329743827514]; BS=[2500]\n",
      "[clf_engine]  scaled LR by [0.5457170410742308]; LR=[9.489808923765206e-09]\n",
      "[clf_engine]  training loop: started for [30] updates; BS=[2500] LR=[5.1787504462369795e-09]!\n"
     ]
    },
    {
     "data": {
      "application/vnd.jupyter.widget-view+json": {
       "model_id": "6dda25ddf6be48bda51c54f029540bbc",
       "version_major": 2,
       "version_minor": 0
      },
      "text/plain": [
       "HBox(children=(FloatProgress(value=0.0, max=10.0), HTML(value='')))"
      ]
     },
     "metadata": {},
     "output_type": "display_data"
    },
    {
     "name": "stdout",
     "output_type": "stream",
     "text": [
      "\n",
      "[clf_engine]  training loop: started for [20] updates; BS=[2500] LR=[5.1787504462369795e-09]!\n"
     ]
    },
    {
     "data": {
      "application/vnd.jupyter.widget-view+json": {
       "model_id": "8111455dac0c4457ae2b951a3b47464e",
       "version_major": 2,
       "version_minor": 0
      },
      "text/plain": [
       "HBox(children=(FloatProgress(value=0.0, max=10.0), HTML(value='')))"
      ]
     },
     "metadata": {},
     "output_type": "display_data"
    },
    {
     "name": "stdout",
     "output_type": "stream",
     "text": [
      "\n",
      "[clf_engine]  training loop: started for [10] updates; BS=[2500] LR=[5.1787504462369795e-09]!\n"
     ]
    },
    {
     "data": {
      "application/vnd.jupyter.widget-view+json": {
       "model_id": "34d4ade5463a4530ad44a03ab6c00328",
       "version_major": 2,
       "version_minor": 0
      },
      "text/plain": [
       "HBox(children=(FloatProgress(value=0.0, max=10.0), HTML(value='')))"
      ]
     },
     "metadata": {},
     "output_type": "display_data"
    },
    {
     "name": "stdout",
     "output_type": "stream",
     "text": [
      "\n",
      "[clf_engine]  training loop: done!\n",
      "[ATE:71]  delta is: [-0.3633]; scaled delta is [-0.0363]\n",
      "[ATE:71]  [1.9156380891799927, 1.9083763360977173, 1.9439868927001953, 1.9169023036956787, 1.9251255989074707, 1.8923863172531128, 1.9023786783218384, 1.927228331565857, 1.911965012550354, 1.8815168142318726]\n",
      "[ATE:71]  [2.27577782 2.29103303 2.27855659 2.26502991 2.25906539 2.2806778\n",
      " 2.27554321 2.30473137 2.26894045 2.25880861]\n",
      "[ATE:71]  reward at the end of time step is [-0.03632659792900086]\n",
      "[ATA] optimization step performed\n",
      "[ATA episode 0]: took [8.6] seconds for one full step\n",
      "[ATE:71]  action [[1.57696848 0.50040002 0.31213167 0.17084623]] recieved\n",
      "[clf_engine]  scaled BS by [1.5769684785459552]; BS=[2500]\n",
      "[clf_engine]  scaled LR by [0.500400024607989]; LR=[5.1787504462369795e-09]\n",
      "[clf_engine]  training loop: started for [30] updates; BS=[2500] LR=[2.5914468507356188e-09]!\n"
     ]
    },
    {
     "data": {
      "application/vnd.jupyter.widget-view+json": {
       "model_id": "bfe974f6bda94823b0b7004b993d6bc1",
       "version_major": 2,
       "version_minor": 0
      },
      "text/plain": [
       "HBox(children=(FloatProgress(value=0.0, max=10.0), HTML(value='')))"
      ]
     },
     "metadata": {},
     "output_type": "display_data"
    },
    {
     "name": "stdout",
     "output_type": "stream",
     "text": [
      "\n",
      "[clf_engine]  training loop: started for [20] updates; BS=[2500] LR=[2.5914468507356188e-09]!\n"
     ]
    },
    {
     "data": {
      "application/vnd.jupyter.widget-view+json": {
       "model_id": "0bda30d88b754e6585dafdda2506159d",
       "version_major": 2,
       "version_minor": 0
      },
      "text/plain": [
       "HBox(children=(FloatProgress(value=0.0, max=10.0), HTML(value='')))"
      ]
     },
     "metadata": {},
     "output_type": "display_data"
    },
    {
     "name": "stdout",
     "output_type": "stream",
     "text": [
      "\n",
      "[clf_engine]  training loop: started for [10] updates; BS=[2500] LR=[2.5914468507356188e-09]!\n"
     ]
    },
    {
     "data": {
      "application/vnd.jupyter.widget-view+json": {
       "model_id": "647f2b96b42f40768dcb31cd772be2f4",
       "version_major": 2,
       "version_minor": 0
      },
      "text/plain": [
       "HBox(children=(FloatProgress(value=0.0, max=10.0), HTML(value='')))"
      ]
     },
     "metadata": {},
     "output_type": "display_data"
    },
    {
     "name": "stdout",
     "output_type": "stream",
     "text": [
      "\n",
      "[clf_engine]  training loop: done!\n",
      "[ATE:72]  delta is: [-0.3671]; scaled delta is [-0.0367]\n",
      "[ATE:72]  [1.8765357732772827, 1.9192399978637695, 1.9020448923110962, 1.9002732038497925, 1.8973294496536255, 1.9245710372924805, 1.9192891120910645, 1.914913296699524, 1.9264289140701294, 1.9292184114456177]\n",
      "[ATE:72]  [2.28100419 2.23331618 2.26171541 2.27438498 2.31931877 2.29519224\n",
      " 2.26674056 2.30275488 2.26891375 2.27789116]\n",
      "[ATE:72]  reward at the end of time step is [-0.036713880300521876]\n",
      "[ATA] optimization step performed\n",
      "[ATA episode 0]: took [8.8] seconds for one full step\n",
      "[ATE:72]  action [[1.67000423 0.52827857 0.31690567 0.16910969]] recieved\n",
      "[clf_engine]  scaled BS by [1.6700042263078259]; BS=[2500]\n",
      "[clf_engine]  scaled LR by [0.5282785656314481]; LR=[2.5914468507356188e-09]\n",
      "[clf_engine]  training loop: started for [30] updates; BS=[2500] LR=[1.3690058252167463e-09]!\n"
     ]
    },
    {
     "data": {
      "application/vnd.jupyter.widget-view+json": {
       "model_id": "20b1847d082042ed805ee92a3f39de90",
       "version_major": 2,
       "version_minor": 0
      },
      "text/plain": [
       "HBox(children=(FloatProgress(value=0.0, max=10.0), HTML(value='')))"
      ]
     },
     "metadata": {},
     "output_type": "display_data"
    },
    {
     "name": "stdout",
     "output_type": "stream",
     "text": [
      "\n",
      "[clf_engine]  training loop: started for [20] updates; BS=[2500] LR=[1.3690058252167463e-09]!\n"
     ]
    },
    {
     "data": {
      "application/vnd.jupyter.widget-view+json": {
       "model_id": "7d74020f1ca14da899c743975929e4ad",
       "version_major": 2,
       "version_minor": 0
      },
      "text/plain": [
       "HBox(children=(FloatProgress(value=0.0, max=10.0), HTML(value='')))"
      ]
     },
     "metadata": {},
     "output_type": "display_data"
    },
    {
     "name": "stdout",
     "output_type": "stream",
     "text": [
      "\n",
      "[clf_engine]  training loop: started for [10] updates; BS=[2500] LR=[1.3690058252167463e-09]!\n"
     ]
    },
    {
     "data": {
      "application/vnd.jupyter.widget-view+json": {
       "model_id": "105727b4fa5e4520829c613f4511a6fc",
       "version_major": 2,
       "version_minor": 0
      },
      "text/plain": [
       "HBox(children=(FloatProgress(value=0.0, max=10.0), HTML(value='')))"
      ]
     },
     "metadata": {},
     "output_type": "display_data"
    },
    {
     "name": "stdout",
     "output_type": "stream",
     "text": [
      "\n",
      "[clf_engine]  training loop: done!\n",
      "[ATE:73]  delta is: [-0.3725]; scaled delta is [-0.0373]\n",
      "[ATE:73]  [1.9193607568740845, 1.8991093635559082, 1.9372961521148682, 1.895513653755188, 1.8937526941299438, 1.929017424583435, 1.9188294410705566, 1.9352800846099854, 1.8964513540267944, 1.9218082427978516]\n",
      "[ATE:73]  [2.24670959 2.32539749 2.29690838 2.28273129 2.31249261 2.27464914\n",
      " 2.26587677 2.28864098 2.29041767 2.28762484]\n",
      "[ATE:73]  reward at the end of time step is [-0.03725029587745667]\n",
      "[ATA] optimization step performed\n",
      "[ATA episode 0]: took [8.9] seconds for one full step\n",
      "[ATE:73]  action [[1.75661843 0.53817671 0.33765292 0.20540046]] recieved\n",
      "[clf_engine]  scaled BS by [1.7566184345478804]; BS=[2500]\n",
      "[clf_engine]  scaled LR by [0.5381767106057604]; LR=[1.3690058252167463e-09]\n",
      "[clf_engine]  training loop: started for [30] updates; BS=[2500] LR=[7.367670518152731e-10]!\n"
     ]
    },
    {
     "data": {
      "application/vnd.jupyter.widget-view+json": {
       "model_id": "510c023a0ab54929a9f337a3d4050a03",
       "version_major": 2,
       "version_minor": 0
      },
      "text/plain": [
       "HBox(children=(FloatProgress(value=0.0, max=10.0), HTML(value='')))"
      ]
     },
     "metadata": {},
     "output_type": "display_data"
    },
    {
     "name": "stdout",
     "output_type": "stream",
     "text": [
      "\n",
      "[clf_engine]  training loop: started for [20] updates; BS=[2500] LR=[7.367670518152731e-10]!\n"
     ]
    },
    {
     "data": {
      "application/vnd.jupyter.widget-view+json": {
       "model_id": "f7296f1c380244fd920953360c85f106",
       "version_major": 2,
       "version_minor": 0
      },
      "text/plain": [
       "HBox(children=(FloatProgress(value=0.0, max=10.0), HTML(value='')))"
      ]
     },
     "metadata": {},
     "output_type": "display_data"
    },
    {
     "name": "stdout",
     "output_type": "stream",
     "text": [
      "\n",
      "[clf_engine]  training loop: started for [10] updates; BS=[2500] LR=[7.367670518152731e-10]!\n"
     ]
    },
    {
     "data": {
      "application/vnd.jupyter.widget-view+json": {
       "model_id": "1876b8d0cb73414cb6d79b3e2b2bf31b",
       "version_major": 2,
       "version_minor": 0
      },
      "text/plain": [
       "HBox(children=(FloatProgress(value=0.0, max=10.0), HTML(value='')))"
      ]
     },
     "metadata": {},
     "output_type": "display_data"
    },
    {
     "name": "stdout",
     "output_type": "stream",
     "text": [
      "\n",
      "[clf_engine]  training loop: done!\n",
      "[ATE:74]  delta is: [-0.3732]; scaled delta is [-0.0373]\n",
      "[ATE:74]  [1.8911007642745972, 1.9012809991836548, 1.9259905815124512, 1.9083783626556396, 1.9371337890625, 1.9020968675613403, 1.914581298828125, 1.8929544687271118, 1.9232234954833984, 1.906592607498169]\n",
      "[ATE:74]  [2.2935214  2.28785419 2.2897079  2.2585237  2.28585148 2.31445956\n",
      " 2.27499437 2.28436255 2.27092075 2.27547908]\n",
      "[ATE:74]  reward at the end of time step is [-0.037323417663574235]\n",
      "[ATA] optimization step performed\n",
      "[ATA episode 0]: took [9.3] seconds for one full step\n",
      "[ATE:74]  action [[1.74613758 0.54685981 0.39153585 0.16377125]] recieved\n",
      "[clf_engine]  scaled BS by [1.7461375783232742]; BS=[2500]\n",
      "[clf_engine]  scaled LR by [0.5468598143408029]; LR=[7.367670518152731e-10]\n",
      "[clf_engine]  training loop: started for [30] updates; BS=[2500] LR=[4.0290829316812097e-10]!\n"
     ]
    },
    {
     "data": {
      "application/vnd.jupyter.widget-view+json": {
       "model_id": "cb0303b80e9248cb8ddba3d2a044fe2d",
       "version_major": 2,
       "version_minor": 0
      },
      "text/plain": [
       "HBox(children=(FloatProgress(value=0.0, max=10.0), HTML(value='')))"
      ]
     },
     "metadata": {},
     "output_type": "display_data"
    },
    {
     "name": "stdout",
     "output_type": "stream",
     "text": [
      "\n",
      "[clf_engine]  training loop: started for [20] updates; BS=[2500] LR=[4.0290829316812097e-10]!\n"
     ]
    },
    {
     "data": {
      "application/vnd.jupyter.widget-view+json": {
       "model_id": "84f7a5441df44016a1b722c5667be63f",
       "version_major": 2,
       "version_minor": 0
      },
      "text/plain": [
       "HBox(children=(FloatProgress(value=0.0, max=10.0), HTML(value='')))"
      ]
     },
     "metadata": {},
     "output_type": "display_data"
    },
    {
     "name": "stdout",
     "output_type": "stream",
     "text": [
      "\n",
      "[clf_engine]  training loop: started for [10] updates; BS=[2500] LR=[4.0290829316812097e-10]!\n"
     ]
    },
    {
     "data": {
      "application/vnd.jupyter.widget-view+json": {
       "model_id": "9827501bd49941c58d9f242938448f23",
       "version_major": 2,
       "version_minor": 0
      },
      "text/plain": [
       "HBox(children=(FloatProgress(value=0.0, max=10.0), HTML(value='')))"
      ]
     },
     "metadata": {},
     "output_type": "display_data"
    },
    {
     "name": "stdout",
     "output_type": "stream",
     "text": [
      "\n",
      "[clf_engine]  training loop: done!\n",
      "[ATE:75]  delta is: [-0.3637]; scaled delta is [-0.0364]\n",
      "[ATE:75]  [1.9153728485107422, 1.919649362564087, 1.9278805255889893, 1.9341460466384888, 1.892387866973877, 1.9270216226577759, 1.9082478284835815, 1.9033735990524292, 1.8948484659194946, 1.9021148681640625]\n",
      "[ATE:75]  [2.27157378 2.25588536 2.29517817 2.26978397 2.27626514 2.25966668\n",
      " 2.26926255 2.27908754 2.27726674 2.30792212]\n",
      "[ATE:75]  reward at the end of time step is [-0.036368490457534784]\n",
      "[ATA] optimization step performed\n",
      "[ATA episode 0]: took [9.8] seconds for one full step\n",
      "[ATE:75]  action [[1.71546554 0.46274328 0.38164369 0.15911702]] recieved\n",
      "[clf_engine]  scaled BS by [1.7154655434684363]; BS=[2500]\n",
      "[clf_engine]  scaled LR by [0.4627432794308805]; LR=[4.0290829316812097e-10]\n",
      "[clf_engine]  training loop: started for [30] updates; BS=[2500] LR=[1.8644310489051492e-10]!\n"
     ]
    },
    {
     "data": {
      "application/vnd.jupyter.widget-view+json": {
       "model_id": "b7d8c29a753e46a5add4c69a2fd75f36",
       "version_major": 2,
       "version_minor": 0
      },
      "text/plain": [
       "HBox(children=(FloatProgress(value=0.0, max=10.0), HTML(value='')))"
      ]
     },
     "metadata": {},
     "output_type": "display_data"
    },
    {
     "name": "stdout",
     "output_type": "stream",
     "text": [
      "\n",
      "[clf_engine]  training loop: started for [20] updates; BS=[2500] LR=[1.8644310489051492e-10]!\n"
     ]
    },
    {
     "data": {
      "application/vnd.jupyter.widget-view+json": {
       "model_id": "7ec89b020cbd4ed8b4ffd2665c6f32a4",
       "version_major": 2,
       "version_minor": 0
      },
      "text/plain": [
       "HBox(children=(FloatProgress(value=0.0, max=10.0), HTML(value='')))"
      ]
     },
     "metadata": {},
     "output_type": "display_data"
    },
    {
     "name": "stdout",
     "output_type": "stream",
     "text": [
      "\n",
      "[clf_engine]  training loop: started for [10] updates; BS=[2500] LR=[1.8644310489051492e-10]!\n"
     ]
    },
    {
     "data": {
      "application/vnd.jupyter.widget-view+json": {
       "model_id": "ff9d56a5219b40799e5f2da0ed8615ff",
       "version_major": 2,
       "version_minor": 0
      },
      "text/plain": [
       "HBox(children=(FloatProgress(value=0.0, max=10.0), HTML(value='')))"
      ]
     },
     "metadata": {},
     "output_type": "display_data"
    },
    {
     "name": "stdout",
     "output_type": "stream",
     "text": [
      "\n",
      "[clf_engine]  training loop: done!\n",
      "[ATE:76]  delta is: [-0.3703]; scaled delta is [-0.0370]\n",
      "[ATE:76]  [1.9073764085769653, 1.9260095357894897, 1.922943353652954, 1.9013267755508423, 1.9062849283218384, 1.8809318542480469, 1.9356679916381836, 1.926729679107666, 1.9005918502807617, 1.908669352531433]\n",
      "[ATE:76]  [2.2913425  2.2933836  2.2792902  2.28337502 2.28257227 2.27288747\n",
      " 2.27728939 2.2785964  2.29574347 2.26474214]\n",
      "[ATE:76]  reward at the end of time step is [-0.03702690720558166]\n",
      "[ATA] optimization step performed\n",
      "[ATA episode 0]: took [9.4] seconds for one full step\n",
      "[ATE:76]  action [[1.76096347 0.42082411 0.35030114 0.19677909]] recieved\n",
      "[clf_engine]  scaled BS by [1.7609634724946204]; BS=[2500]\n",
      "[clf_engine]  scaled LR by [0.4208241076141264]; LR=[1.8644310489051492e-10]\n",
      "[clf_engine]  training loop: started for [30] updates; BS=[2500] LR=[7.845975323635792e-11]!\n"
     ]
    },
    {
     "data": {
      "application/vnd.jupyter.widget-view+json": {
       "model_id": "78cbf784b2aa4e9b8480934d8e7ca83d",
       "version_major": 2,
       "version_minor": 0
      },
      "text/plain": [
       "HBox(children=(FloatProgress(value=0.0, max=10.0), HTML(value='')))"
      ]
     },
     "metadata": {},
     "output_type": "display_data"
    },
    {
     "name": "stdout",
     "output_type": "stream",
     "text": [
      "\n",
      "[clf_engine]  training loop: started for [20] updates; BS=[2500] LR=[7.845975323635792e-11]!\n"
     ]
    },
    {
     "data": {
      "application/vnd.jupyter.widget-view+json": {
       "model_id": "a4cabd17f92c47beb066ef30e064568f",
       "version_major": 2,
       "version_minor": 0
      },
      "text/plain": [
       "HBox(children=(FloatProgress(value=0.0, max=10.0), HTML(value='')))"
      ]
     },
     "metadata": {},
     "output_type": "display_data"
    },
    {
     "name": "stdout",
     "output_type": "stream",
     "text": [
      "\n",
      "[clf_engine]  training loop: started for [10] updates; BS=[2500] LR=[7.845975323635792e-11]!\n"
     ]
    },
    {
     "data": {
      "application/vnd.jupyter.widget-view+json": {
       "model_id": "5dbd5ff135be452fb461c9c3812d9a8a",
       "version_major": 2,
       "version_minor": 0
      },
      "text/plain": [
       "HBox(children=(FloatProgress(value=0.0, max=10.0), HTML(value='')))"
      ]
     },
     "metadata": {},
     "output_type": "display_data"
    },
    {
     "name": "stdout",
     "output_type": "stream",
     "text": [
      "\n",
      "[clf_engine]  training loop: done!\n",
      "[ATE:77]  delta is: [-0.3726]; scaled delta is [-0.0373]\n",
      "[ATE:77]  [1.8941677808761597, 1.8950976133346558, 1.9058960676193237, 1.9128490686416626, 1.9123761653900146, 1.919953465461731, 1.9268254041671753, 1.8983490467071533, 1.9238626956939697, 1.9101159572601318]\n",
      "[ATE:77]  [2.28988504 2.28438258 2.29618835 2.25814629 2.31450701 2.28970885\n",
      " 2.2862761  2.29077125 2.25061321 2.264884  ]\n",
      "[ATE:77]  reward at the end of time step is [-0.037258694171905526]\n",
      "[ATA] optimization step performed\n",
      "[ATA episode 0]: took [9.2] seconds for one full step\n",
      "[ATE:77]  action [[1.75380082 0.44565117 0.31485642 0.15159521]] recieved\n",
      "[clf_engine]  scaled BS by [1.7538008207378883]; BS=[2500]\n",
      "[clf_engine]  scaled LR by [0.4456511662218902]; LR=[7.845975323635792e-11]\n",
      "[clf_engine]  training loop: started for [30] updates; BS=[2500] LR=[3.496568053126463e-11]!\n"
     ]
    },
    {
     "data": {
      "application/vnd.jupyter.widget-view+json": {
       "model_id": "b1e0c71680b54fdcb6446e45c36ceed2",
       "version_major": 2,
       "version_minor": 0
      },
      "text/plain": [
       "HBox(children=(FloatProgress(value=0.0, max=10.0), HTML(value='')))"
      ]
     },
     "metadata": {},
     "output_type": "display_data"
    },
    {
     "name": "stdout",
     "output_type": "stream",
     "text": [
      "\n",
      "[clf_engine]  training loop: started for [20] updates; BS=[2500] LR=[3.496568053126463e-11]!\n"
     ]
    },
    {
     "data": {
      "application/vnd.jupyter.widget-view+json": {
       "model_id": "bc6f78d23bbf44a0b10589e7167b134c",
       "version_major": 2,
       "version_minor": 0
      },
      "text/plain": [
       "HBox(children=(FloatProgress(value=0.0, max=10.0), HTML(value='')))"
      ]
     },
     "metadata": {},
     "output_type": "display_data"
    },
    {
     "name": "stdout",
     "output_type": "stream",
     "text": [
      "\n",
      "[clf_engine]  training loop: started for [10] updates; BS=[2500] LR=[3.496568053126463e-11]!\n"
     ]
    },
    {
     "data": {
      "application/vnd.jupyter.widget-view+json": {
       "model_id": "69bda61e748045448ffc655e3bc24211",
       "version_major": 2,
       "version_minor": 0
      },
      "text/plain": [
       "HBox(children=(FloatProgress(value=0.0, max=10.0), HTML(value='')))"
      ]
     },
     "metadata": {},
     "output_type": "display_data"
    },
    {
     "name": "stdout",
     "output_type": "stream",
     "text": [
      "\n",
      "[clf_engine]  training loop: done!\n",
      "[ATE:78]  delta is: [-0.3757]; scaled delta is [-0.0376]\n",
      "[ATE:78]  [1.9098573923110962, 1.9158296585083008, 1.9071943759918213, 1.9073560237884521, 1.8914376497268677, 1.931945562362671, 1.922782063484192, 1.9287359714508057, 1.9036198854446411, 1.9172794818878174]\n",
      "[ATE:78]  [2.29688239 2.29439425 2.28387141 2.28576446 2.32269144 2.28585958\n",
      " 2.2763741  2.27957296 2.28649306 2.28106356]\n",
      "[ATE:78]  reward at the end of time step is [-0.03756929159164431]\n",
      "[ATA] optimization step performed\n",
      "[ATA episode 0]: took [9.0] seconds for one full step\n",
      "[ATE:78]  action [[1.77139595 0.50047354 0.26726486 0.18989394]] recieved\n",
      "[clf_engine]  scaled BS by [1.7713959508431842]; BS=[2500]\n",
      "[clf_engine]  scaled LR by [0.5004735350787628]; LR=[3.496568053126463e-11]\n",
      "[clf_engine]  training loop: started for [30] updates; BS=[2500] LR=[1.7499397741916682e-11]!\n"
     ]
    },
    {
     "data": {
      "application/vnd.jupyter.widget-view+json": {
       "model_id": "50274c2e9e444b1291a0c4ed91d7537b",
       "version_major": 2,
       "version_minor": 0
      },
      "text/plain": [
       "HBox(children=(FloatProgress(value=0.0, max=10.0), HTML(value='')))"
      ]
     },
     "metadata": {},
     "output_type": "display_data"
    },
    {
     "name": "stdout",
     "output_type": "stream",
     "text": [
      "\n",
      "[clf_engine]  training loop: started for [20] updates; BS=[2500] LR=[1.7499397741916682e-11]!\n"
     ]
    },
    {
     "data": {
      "application/vnd.jupyter.widget-view+json": {
       "model_id": "a1339ce724cd4ade9f415ac7a8266656",
       "version_major": 2,
       "version_minor": 0
      },
      "text/plain": [
       "HBox(children=(FloatProgress(value=0.0, max=10.0), HTML(value='')))"
      ]
     },
     "metadata": {},
     "output_type": "display_data"
    },
    {
     "name": "stdout",
     "output_type": "stream",
     "text": [
      "\n",
      "[clf_engine]  training loop: started for [10] updates; BS=[2500] LR=[1.7499397741916682e-11]!\n"
     ]
    },
    {
     "data": {
      "application/vnd.jupyter.widget-view+json": {
       "model_id": "2783be717a8c418fb7c8eba765120d0a",
       "version_major": 2,
       "version_minor": 0
      },
      "text/plain": [
       "HBox(children=(FloatProgress(value=0.0, max=10.0), HTML(value='')))"
      ]
     },
     "metadata": {},
     "output_type": "display_data"
    },
    {
     "name": "stdout",
     "output_type": "stream",
     "text": [
      "\n",
      "[clf_engine]  training loop: done!\n",
      "[ATE:79]  delta is: [-0.3642]; scaled delta is [-0.0364]\n",
      "[ATE:79]  [1.9007641077041626, 1.9421052932739258, 1.9350515604019165, 1.9221210479736328, 1.9233849048614502, 1.9159618616104126, 1.9073413610458374, 1.8901293277740479, 1.9269386529922485, 1.8993109464645386]\n",
      "[ATE:79]  [2.2896874  2.28285384 2.28330588 2.23871279 2.29255247 2.28125143\n",
      " 2.26311493 2.27303553 2.29268646 2.3076818 ]\n",
      "[ATE:79]  reward at the end of time step is [-0.036417734622955326]\n",
      "[ATA] optimization step performed\n",
      "[ATA episode 0]: took [9.0] seconds for one full step\n",
      "[ATE:79]  action [[1.69409827 0.52390269 0.26398993 0.19323904]] recieved\n",
      "[clf_engine]  scaled BS by [1.6940982651401073]; BS=[2500]\n",
      "[clf_engine]  scaled LR by [0.5239026875596269]; LR=[1.7499397741916682e-11]\n",
      "[clf_engine]  training loop: started for [30] updates; BS=[2500] LR=[9.167981507665016e-12]!\n"
     ]
    },
    {
     "data": {
      "application/vnd.jupyter.widget-view+json": {
       "model_id": "84b84d5195f841e1b51e30dcd9763cd8",
       "version_major": 2,
       "version_minor": 0
      },
      "text/plain": [
       "HBox(children=(FloatProgress(value=0.0, max=10.0), HTML(value='')))"
      ]
     },
     "metadata": {},
     "output_type": "display_data"
    },
    {
     "name": "stdout",
     "output_type": "stream",
     "text": [
      "\n",
      "[clf_engine]  training loop: started for [20] updates; BS=[2500] LR=[9.167981507665016e-12]!\n"
     ]
    },
    {
     "data": {
      "application/vnd.jupyter.widget-view+json": {
       "model_id": "7bf36d15681e4298a1ef086547e7be6f",
       "version_major": 2,
       "version_minor": 0
      },
      "text/plain": [
       "HBox(children=(FloatProgress(value=0.0, max=10.0), HTML(value='')))"
      ]
     },
     "metadata": {},
     "output_type": "display_data"
    },
    {
     "name": "stdout",
     "output_type": "stream",
     "text": [
      "\n",
      "[clf_engine]  training loop: started for [10] updates; BS=[2500] LR=[9.167981507665016e-12]!\n"
     ]
    },
    {
     "data": {
      "application/vnd.jupyter.widget-view+json": {
       "model_id": "7c02efdeeb6c428b8168f8b76ff5f55e",
       "version_major": 2,
       "version_minor": 0
      },
      "text/plain": [
       "HBox(children=(FloatProgress(value=0.0, max=10.0), HTML(value='')))"
      ]
     },
     "metadata": {},
     "output_type": "display_data"
    },
    {
     "name": "stdout",
     "output_type": "stream",
     "text": [
      "\n",
      "[clf_engine]  training loop: done!\n"
     ]
    },
    {
     "data": {
      "application/vnd.jupyter.widget-view+json": {
       "model_id": "27206a1abf87451ab099ce896ca34f36",
       "version_major": 2,
       "version_minor": 0
      },
      "text/plain": [
       "HBox(children=(FloatProgress(value=0.0, max=1563.0), HTML(value='')))"
      ]
     },
     "metadata": {},
     "output_type": "display_data"
    },
    {
     "name": "stdout",
     "output_type": "stream",
     "text": [
      "\n"
     ]
    },
    {
     "data": {
      "application/vnd.jupyter.widget-view+json": {
       "model_id": "d59bb2fd469648cd996e1c49d1b511de",
       "version_major": 2,
       "version_minor": 0
      },
      "text/plain": [
       "HBox(children=(FloatProgress(value=0.0, max=625.0), HTML(value='')))"
      ]
     },
     "metadata": {},
     "output_type": "display_data"
    },
    {
     "name": "stdout",
     "output_type": "stream",
     "text": [
      "\n",
      "[ATE:80]  delta is: [-0.3756]; scaled delta is [-0.0376]\n",
      "[ATE:80]  [1.914792537689209, 1.925904631614685, 1.9041961431503296, 1.904240608215332, 1.8953310251235962, 1.8888367414474487, 1.9073666334152222, 1.9270129203796387, 1.896432638168335, 1.9213083982467651]\n",
      "[ATE:80]  [2.30790877 2.27628398 2.25862575 2.31276584 2.28370094 2.26655531\n",
      " 2.26868153 2.30874634 2.27143884 2.28681922]\n",
      "[ATE:80]  reward at the end of time step is [-0.03756104230880737]\n",
      "[ATA] optimization step performed\n",
      "[ATA episode 0]: took [14.4] seconds for one full step\n",
      "[ATE:80]  action [[1.73508817 0.56014535 0.28307349 0.24020641]] recieved\n",
      "[clf_engine]  scaled BS by [1.7350881730870105]; BS=[2500]\n",
      "[clf_engine]  scaled LR by [0.5601453528324034]; LR=[9.167981507665016e-12]\n",
      "[clf_engine]  training loop: started for [30] updates; BS=[2500] LR=[5.1354022363719706e-12]!\n"
     ]
    },
    {
     "data": {
      "application/vnd.jupyter.widget-view+json": {
       "model_id": "0baaa936b4834733bcc5f277ec3f7cfd",
       "version_major": 2,
       "version_minor": 0
      },
      "text/plain": [
       "HBox(children=(FloatProgress(value=0.0, max=10.0), HTML(value='')))"
      ]
     },
     "metadata": {},
     "output_type": "display_data"
    },
    {
     "name": "stdout",
     "output_type": "stream",
     "text": [
      "\n",
      "[clf_engine]  training loop: started for [20] updates; BS=[2500] LR=[5.1354022363719706e-12]!\n"
     ]
    },
    {
     "data": {
      "application/vnd.jupyter.widget-view+json": {
       "model_id": "6173f2193a9243749b60932a708a6cb9",
       "version_major": 2,
       "version_minor": 0
      },
      "text/plain": [
       "HBox(children=(FloatProgress(value=0.0, max=10.0), HTML(value='')))"
      ]
     },
     "metadata": {},
     "output_type": "display_data"
    },
    {
     "name": "stdout",
     "output_type": "stream",
     "text": [
      "\n",
      "[clf_engine]  training loop: started for [10] updates; BS=[2500] LR=[5.1354022363719706e-12]!\n"
     ]
    },
    {
     "data": {
      "application/vnd.jupyter.widget-view+json": {
       "model_id": "e469859e22c84778a1ed71f8b6aaca95",
       "version_major": 2,
       "version_minor": 0
      },
      "text/plain": [
       "HBox(children=(FloatProgress(value=0.0, max=10.0), HTML(value='')))"
      ]
     },
     "metadata": {},
     "output_type": "display_data"
    },
    {
     "name": "stdout",
     "output_type": "stream",
     "text": [
      "\n",
      "[clf_engine]  training loop: done!\n",
      "[ATE:81]  delta is: [-0.3639]; scaled delta is [-0.0364]\n",
      "[ATE:81]  [1.912310004234314, 1.8933519124984741, 1.922909140586853, 1.9235166311264038, 1.9323111772537231, 1.9138379096984863, 1.9117056131362915, 1.9169249534606934, 1.909423828125, 1.9200693368911743]\n",
      "[ATE:81]  [2.29856515 2.28598213 2.24755979 2.27193856 2.29223204 2.29698181\n",
      " 2.26029444 2.29645538 2.2335186  2.31218719]\n",
      "[ATE:81]  reward at the end of time step is [-0.03639354586601258]\n",
      "[ATA] optimization step performed\n",
      "[ATA episode 0]: took [11.7] seconds for one full step\n",
      "[ATE:81]  action [[1.68850129 0.63124212 0.33489446 0.16904717]] recieved\n",
      "[clf_engine]  scaled BS by [1.688501286067743]; BS=[2500]\n",
      "[clf_engine]  scaled LR by [0.6312421197327902]; LR=[5.1354022363719706e-12]\n",
      "[clf_engine]  training loop: started for [30] updates; BS=[2500] LR=[3.241682193367954e-12]!\n"
     ]
    }
   ],
   "source": [
    "durations = []\n",
    "for ep in range(MAX_EPISODES):\n",
    "    print(f'[EP:{ep}] starting ...')\n",
    "    t = trainer.episode(ep)\n",
    "    durations.append(t)\n",
    "    \n",
    "    print(f'[EP:{ep}] done!')\n",
    "    display.clear_output(wait=True)\n"
   ]
  },
  {
   "cell_type": "code",
   "execution_count": null,
   "metadata": {},
   "outputs": [],
   "source": [
    "len(ate._competitor.history[0])"
   ]
  },
  {
   "cell_type": "code",
   "execution_count": null,
   "metadata": {},
   "outputs": [],
   "source": [
    "i = ate.time_step * ate.U"
   ]
  },
  {
   "cell_type": "code",
   "execution_count": null,
   "metadata": {},
   "outputs": [],
   "source": [
    "ate._competitor.history[0][-60:]"
   ]
  },
  {
   "cell_type": "code",
   "execution_count": null,
   "metadata": {},
   "outputs": [],
   "source": [
    "h = ate._competitor.history[1]"
   ]
  },
  {
   "cell_type": "code",
   "execution_count": null,
   "metadata": {},
   "outputs": [],
   "source": [
    "sns.set_style(\"whitegrid\")"
   ]
  },
  {
   "cell_type": "code",
   "execution_count": null,
   "metadata": {},
   "outputs": [],
   "source": [
    "sns.lineplot(x=range(len(h)),y=h)"
   ]
  },
  {
   "cell_type": "code",
   "execution_count": null,
   "metadata": {},
   "outputs": [],
   "source": []
  }
 ],
 "metadata": {
  "kernelspec": {
   "display_name": "Python 3",
   "language": "python",
   "name": "python3"
  },
  "language_info": {
   "codemirror_mode": {
    "name": "ipython",
    "version": 3
   },
   "file_extension": ".py",
   "mimetype": "text/x-python",
   "name": "python",
   "nbconvert_exporter": "python",
   "pygments_lexer": "ipython3",
   "version": "3.7.3"
  }
 },
 "nbformat": 4,
 "nbformat_minor": 4
}
